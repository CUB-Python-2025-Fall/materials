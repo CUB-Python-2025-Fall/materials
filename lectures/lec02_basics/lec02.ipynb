{
 "cells": [
  {
   "cell_type": "markdown",
   "id": "c4940f2d",
   "metadata": {},
   "source": [
    "## Intro (~19:20 (5 min))\n",
    "\n",
    "\n",
    "* If you can't keep up with the course pace, then SDT is probably not for you\n",
    "    * Question: how many of you have some experience with Python?\n",
    "* Self-learning\n",
    "    * Idea: after each lecture, you should learn both the lecture material and the self-learning topics\n",
    "    * Motivation: don't expect to be spoon-fed; self-learning is a big part of your career\n",
    "    * Note: some topics are marked as **bonus topic** -- learn them if you feel like it\n",
    "\n",
    "### Table of contents\n",
    "\n",
    "* Exceptions\n",
    "* IO\n",
    "    * Files\n",
    "    * Bytes\n",
    "* Namespaces\n",
    "* JSON\n",
    "\n"
   ]
  },
  {
   "cell_type": "markdown",
   "id": "84f55a84",
   "metadata": {},
   "source": [
    "# Exceptions (~19:35 (15 min))"
   ]
  },
  {
   "cell_type": "markdown",
   "id": "bf9f23ae",
   "metadata": {},
   "source": [
    "Things often go wrong in programs. If you do nothing, they crash."
   ]
  },
  {
   "cell_type": "code",
   "execution_count": 1,
   "id": "3706ccf8",
   "metadata": {},
   "outputs": [
    {
     "name": "stdout",
     "output_type": "stream",
     "text": [
      "{'banner_id': 1, 'shows': 10, 'clicks': 1}\n",
      "{'banner_id': 2, 'shows': 15, 'clicks': 2}\n"
     ]
    },
    {
     "ename": "ValueError",
     "evalue": "invalid literal for int() with base 10: ''",
     "output_type": "error",
     "traceback": [
      "\u001b[31m---------------------------------------------------------------------------\u001b[39m",
      "\u001b[31mValueError\u001b[39m                                Traceback (most recent call last)",
      "\u001b[36mCell\u001b[39m\u001b[36m \u001b[39m\u001b[32mIn[1]\u001b[39m\u001b[32m, line 13\u001b[39m\n\u001b[32m      6\u001b[39m log = [\n\u001b[32m      7\u001b[39m     \u001b[33m'\u001b[39m\u001b[33mbanner_id=1\u001b[39m\u001b[38;5;130;01m\\t\u001b[39;00m\u001b[33mshows=10\u001b[39m\u001b[38;5;130;01m\\t\u001b[39;00m\u001b[33mclicks=1\u001b[39m\u001b[33m'\u001b[39m,\n\u001b[32m      8\u001b[39m     \u001b[33m'\u001b[39m\u001b[33mbanner_id=2\u001b[39m\u001b[38;5;130;01m\\t\u001b[39;00m\u001b[33mshows=15\u001b[39m\u001b[38;5;130;01m\\t\u001b[39;00m\u001b[33mclicks=2\u001b[39m\u001b[33m'\u001b[39m,\n\u001b[32m      9\u001b[39m     \u001b[33m'\u001b[39m\u001b[33mbanner_id=3\u001b[39m\u001b[38;5;130;01m\\t\u001b[39;00m\u001b[33mshows=\u001b[39m\u001b[38;5;130;01m\\t\u001b[39;00m\u001b[33mclicks=1\u001b[39m\u001b[33m'\u001b[39m,  \u001b[38;5;66;03m# empty shows\u001b[39;00m\n\u001b[32m     10\u001b[39m ]\n\u001b[32m     12\u001b[39m \u001b[38;5;28;01mfor\u001b[39;00m row \u001b[38;5;129;01min\u001b[39;00m log:\n\u001b[32m---> \u001b[39m\u001b[32m13\u001b[39m     \u001b[38;5;28mprint\u001b[39m(\u001b[43mparse_tskv\u001b[49m\u001b[43m(\u001b[49m\u001b[43mrow\u001b[49m\u001b[43m)\u001b[49m)\n",
      "\u001b[36mCell\u001b[39m\u001b[36m \u001b[39m\u001b[32mIn[1]\u001b[39m\u001b[32m, line 4\u001b[39m, in \u001b[36mparse_tskv\u001b[39m\u001b[34m(tskv)\u001b[39m\n\u001b[32m      2\u001b[39m \u001b[38;5;250m\u001b[39m\u001b[33;03m\"\"\"Parse tskv string\"\"\"\u001b[39;00m\n\u001b[32m      3\u001b[39m kvpairs = (keyvalue.split(\u001b[33m'\u001b[39m\u001b[33m=\u001b[39m\u001b[33m'\u001b[39m) \u001b[38;5;28;01mfor\u001b[39;00m keyvalue \u001b[38;5;129;01min\u001b[39;00m tskv.strip().split(\u001b[33m'\u001b[39m\u001b[38;5;130;01m\\t\u001b[39;00m\u001b[33m'\u001b[39m))\n\u001b[32m----> \u001b[39m\u001b[32m4\u001b[39m \u001b[38;5;28;01mreturn\u001b[39;00m {k: \u001b[38;5;28;43mint\u001b[39;49m\u001b[43m(\u001b[49m\u001b[43mv\u001b[49m\u001b[43m)\u001b[49m \u001b[38;5;28;01mfor\u001b[39;00m k, v \u001b[38;5;129;01min\u001b[39;00m kvpairs}\n",
      "\u001b[31mValueError\u001b[39m: invalid literal for int() with base 10: ''"
     ]
    }
   ],
   "source": [
    "def parse_tskv(tskv: str) -> dict[str, int]:\n",
    "    \"\"\"Parse tskv string\"\"\"\n",
    "    kvpairs = (keyvalue.split('=') for keyvalue in tskv.strip().split('\\t'))\n",
    "    return {k: int(v) for k, v in kvpairs}\n",
    "\n",
    "log = [\n",
    "    'banner_id=1\\tshows=10\\tclicks=1',\n",
    "    'banner_id=2\\tshows=15\\tclicks=2',\n",
    "    'banner_id=3\\tshows=\\tclicks=1',  # empty shows\n",
    "]\n",
    "\n",
    "for row in log:\n",
    "    print(parse_tskv(row))"
   ]
  },
  {
   "cell_type": "markdown",
   "id": "cc9c35f5",
   "metadata": {},
   "source": [
    "What mechanisms exist for handling errors?"
   ]
  },
  {
   "cell_type": "markdown",
   "id": "91b45ba3",
   "metadata": {},
   "source": [
    "- Special return values (Golang)\n",
    "```go\n",
    "i, err := strconv.Atoi(\"42\")\n",
    "if err != nil {\n",
    "    fmt.Printf(\"couldn't convert number: %v\\n\", err)\n",
    "    return\n",
    "}\n",
    "fmt.Println(i)\n",
    "```"
   ]
  },
  {
   "cell_type": "markdown",
   "id": "6d7b6b49",
   "metadata": {},
   "source": [
    "- Exceptions (Python)"
   ]
  },
  {
   "cell_type": "markdown",
   "id": "a8128b1e",
   "metadata": {},
   "source": [
    "- Exceptions are a special language mechanism for working with errors.\n",
    "- They interrupt the normal flow of program execution.\n",
    "- They report that an exceptional situation occurred (place and cause)\n",
    "- They allow you to handle the error and restore the program's operation."
   ]
  },
  {
   "cell_type": "markdown",
   "id": "31c5fd14",
   "metadata": {},
   "source": [
    "### Examples of exceptions"
   ]
  },
  {
   "cell_type": "code",
   "execution_count": 2,
   "id": "a7b83057",
   "metadata": {},
   "outputs": [
    {
     "ename": "ValueError",
     "evalue": "invalid literal for int() with base 10: 'abc'",
     "output_type": "error",
     "traceback": [
      "\u001b[31m---------------------------------------------------------------------------\u001b[39m",
      "\u001b[31mValueError\u001b[39m                                Traceback (most recent call last)",
      "\u001b[36mCell\u001b[39m\u001b[36m \u001b[39m\u001b[32mIn[2]\u001b[39m\u001b[32m, line 1\u001b[39m\n\u001b[32m----> \u001b[39m\u001b[32m1\u001b[39m \u001b[38;5;28;43mint\u001b[39;49m\u001b[43m(\u001b[49m\u001b[33;43m'\u001b[39;49m\u001b[33;43mabc\u001b[39;49m\u001b[33;43m'\u001b[39;49m\u001b[43m)\u001b[49m\n",
      "\u001b[31mValueError\u001b[39m: invalid literal for int() with base 10: 'abc'"
     ]
    }
   ],
   "source": [
    "int('abc')"
   ]
  },
  {
   "cell_type": "code",
   "execution_count": 3,
   "id": "dac0c1aa",
   "metadata": {},
   "outputs": [
    {
     "ename": "MemoryError",
     "evalue": "",
     "output_type": "error",
     "traceback": [
      "\u001b[31m---------------------------------------------------------------------------\u001b[39m",
      "\u001b[31mMemoryError\u001b[39m                               Traceback (most recent call last)",
      "\u001b[36mCell\u001b[39m\u001b[36m \u001b[39m\u001b[32mIn[3]\u001b[39m\u001b[32m, line 1\u001b[39m\n\u001b[32m----> \u001b[39m\u001b[32m1\u001b[39m \u001b[43m[\u001b[49m\u001b[32;43m0\u001b[39;49m\u001b[43m]\u001b[49m\u001b[43m \u001b[49m\u001b[43m*\u001b[49m\u001b[43m \u001b[49m\u001b[38;5;28;43mint\u001b[39;49m\u001b[43m(\u001b[49m\u001b[32;43m1e16\u001b[39;49m\u001b[43m)\u001b[49m\n",
      "\u001b[31mMemoryError\u001b[39m: "
     ]
    }
   ],
   "source": [
    "[0] * int(1e16)"
   ]
  },
  {
   "cell_type": "code",
   "execution_count": 4,
   "id": "50d1dea2",
   "metadata": {},
   "outputs": [
    {
     "ename": "FileNotFoundError",
     "evalue": "[Errno 2] No such file or directory: 'nonexistent.file'",
     "output_type": "error",
     "traceback": [
      "\u001b[31m---------------------------------------------------------------------------\u001b[39m",
      "\u001b[31mFileNotFoundError\u001b[39m                         Traceback (most recent call last)",
      "\u001b[36mCell\u001b[39m\u001b[36m \u001b[39m\u001b[32mIn[4]\u001b[39m\u001b[32m, line 1\u001b[39m\n\u001b[32m----> \u001b[39m\u001b[32m1\u001b[39m \u001b[38;5;28;43mopen\u001b[39;49m\u001b[43m(\u001b[49m\u001b[33;43m'\u001b[39;49m\u001b[33;43mnonexistent.file\u001b[39;49m\u001b[33;43m'\u001b[39;49m\u001b[43m)\u001b[49m\n",
      "\u001b[36mFile \u001b[39m\u001b[32m~/Desktop/Prog/Teaching/Python/cub_python_25au/labs/lab02_pet_project/proj1_finance_tracker/.venv/lib/python3.12/site-packages/IPython/core/interactiveshell.py:327\u001b[39m, in \u001b[36m_modified_open\u001b[39m\u001b[34m(file, *args, **kwargs)\u001b[39m\n\u001b[32m    320\u001b[39m \u001b[38;5;28;01mif\u001b[39;00m file \u001b[38;5;129;01min\u001b[39;00m {\u001b[32m0\u001b[39m, \u001b[32m1\u001b[39m, \u001b[32m2\u001b[39m}:\n\u001b[32m    321\u001b[39m     \u001b[38;5;28;01mraise\u001b[39;00m \u001b[38;5;167;01mValueError\u001b[39;00m(\n\u001b[32m    322\u001b[39m         \u001b[33mf\u001b[39m\u001b[33m\"\u001b[39m\u001b[33mIPython won\u001b[39m\u001b[33m'\u001b[39m\u001b[33mt let you open fd=\u001b[39m\u001b[38;5;132;01m{\u001b[39;00mfile\u001b[38;5;132;01m}\u001b[39;00m\u001b[33m by default \u001b[39m\u001b[33m\"\u001b[39m\n\u001b[32m    323\u001b[39m         \u001b[33m\"\u001b[39m\u001b[33mas it is likely to crash IPython. If you know what you are doing, \u001b[39m\u001b[33m\"\u001b[39m\n\u001b[32m    324\u001b[39m         \u001b[33m\"\u001b[39m\u001b[33myou can use builtins\u001b[39m\u001b[33m'\u001b[39m\u001b[33m open.\u001b[39m\u001b[33m\"\u001b[39m\n\u001b[32m    325\u001b[39m     )\n\u001b[32m--> \u001b[39m\u001b[32m327\u001b[39m \u001b[38;5;28;01mreturn\u001b[39;00m \u001b[43mio_open\u001b[49m\u001b[43m(\u001b[49m\u001b[43mfile\u001b[49m\u001b[43m,\u001b[49m\u001b[43m \u001b[49m\u001b[43m*\u001b[49m\u001b[43margs\u001b[49m\u001b[43m,\u001b[49m\u001b[43m \u001b[49m\u001b[43m*\u001b[49m\u001b[43m*\u001b[49m\u001b[43mkwargs\u001b[49m\u001b[43m)\u001b[49m\n",
      "\u001b[31mFileNotFoundError\u001b[39m: [Errno 2] No such file or directory: 'nonexistent.file'"
     ]
    }
   ],
   "source": [
    "open('nonexistent.file')"
   ]
  },
  {
   "cell_type": "code",
   "execution_count": 5,
   "id": "dea06a4e",
   "metadata": {},
   "outputs": [
    {
     "ename": "TypeError",
     "evalue": "can only concatenate list (not \"int\") to list",
     "output_type": "error",
     "traceback": [
      "\u001b[31m---------------------------------------------------------------------------\u001b[39m",
      "\u001b[31mTypeError\u001b[39m                                 Traceback (most recent call last)",
      "\u001b[36mCell\u001b[39m\u001b[36m \u001b[39m\u001b[32mIn[5]\u001b[39m\u001b[32m, line 1\u001b[39m\n\u001b[32m----> \u001b[39m\u001b[32m1\u001b[39m \u001b[43m[\u001b[49m\u001b[32;43m1\u001b[39;49m\u001b[43m,\u001b[49m\u001b[43m \u001b[49m\u001b[32;43m2\u001b[39;49m\u001b[43m,\u001b[49m\u001b[43m \u001b[49m\u001b[32;43m3\u001b[39;49m\u001b[43m]\u001b[49m\u001b[43m \u001b[49m\u001b[43m+\u001b[49m\u001b[43m \u001b[49m\u001b[32;43m4\u001b[39;49m\n",
      "\u001b[31mTypeError\u001b[39m: can only concatenate list (not \"int\") to list"
     ]
    }
   ],
   "source": [
    "[1, 2, 3] + 4"
   ]
  },
  {
   "cell_type": "code",
   "execution_count": 6,
   "id": "277cf441",
   "metadata": {},
   "outputs": [
    {
     "ename": "SyntaxError",
     "evalue": "unmatched ')' (2637871998.py, line 1)",
     "output_type": "error",
     "traceback": [
      "  \u001b[36mCell\u001b[39m\u001b[36m \u001b[39m\u001b[32mIn[6]\u001b[39m\u001b[32m, line 1\u001b[39m\n\u001b[31m    \u001b[39m\u001b[31ma = 2 * 5 + 3)\u001b[39m\n                 ^\n\u001b[31mSyntaxError\u001b[39m\u001b[31m:\u001b[39m unmatched ')'\n"
     ]
    }
   ],
   "source": [
    " a = 2 * 5 + 3)"
   ]
  },
  {
   "cell_type": "markdown",
   "id": "30dab512",
   "metadata": {},
   "source": [
    "Hierarchy of built-in exceptions: https://docs.python.org/3/library/exceptions.html#exception-hierarchy"
   ]
  },
  {
   "cell_type": "markdown",
   "id": "7bbf585f",
   "metadata": {},
   "source": [
    "<details>\n",
    "<summary>Exception hierarchy</summary>\n",
    "\n",
    "```\n",
    "BaseException\n",
    " ├── BaseExceptionGroup\n",
    " ├── GeneratorExit\n",
    " ├── KeyboardInterrupt\n",
    " ├── SystemExit\n",
    " └── Exception\n",
    "      ├── ArithmeticError\n",
    "      │    ├── FloatingPointError\n",
    "      │    ├── OverflowError\n",
    "      │    └── ZeroDivisionError\n",
    "      ├── AssertionError\n",
    "      ├── AttributeError\n",
    "      ├── BufferError\n",
    "      ├── EOFError\n",
    "      ├── ExceptionGroup [BaseExceptionGroup]\n",
    "      ├── ImportError\n",
    "      │    └── ModuleNotFoundError\n",
    "      ├── LookupError\n",
    "      │    ├── IndexError\n",
    "      │    └── KeyError\n",
    "      ├── MemoryError\n",
    "      ├── NameError\n",
    "      │    └── UnboundLocalError\n",
    "      ├── OSError\n",
    "      │    ├── BlockingIOError\n",
    "      │    ├── ChildProcessError\n",
    "      │    ├── ConnectionError\n",
    "      │    │    ├── BrokenPipeError\n",
    "      │    │    ├── ConnectionAbortedError\n",
    "      │    │    ├── ConnectionRefusedError\n",
    "      │    │    └── ConnectionResetError\n",
    "      │    ├── FileExistsError\n",
    "      │    ├── FileNotFoundError\n",
    "      │    ├── InterruptedError\n",
    "      │    ├── IsADirectoryError\n",
    "      │    ├── NotADirectoryError\n",
    "      │    ├── PermissionError\n",
    "      │    ├── ProcessLookupError\n",
    "      │    └── TimeoutError\n",
    "      ├── ReferenceError\n",
    "      ├── RuntimeError\n",
    "      │    ├── NotImplementedError\n",
    "      │    └── RecursionError\n",
    "      ├── StopAsyncIteration\n",
    "      ├── StopIteration\n",
    "      ├── SyntaxError\n",
    "      │    └── IndentationError\n",
    "      │         └── TabError\n",
    "      ├── SystemError\n",
    "      ├── TypeError\n",
    "      ├── ValueError\n",
    "      │    └── UnicodeError\n",
    "      │         ├── UnicodeDecodeError\n",
    "      │         ├── UnicodeEncodeError\n",
    "      │         └── UnicodeTranslateError\n",
    "      └── Warning\n",
    "           ├── BytesWarning\n",
    "           ├── DeprecationWarning\n",
    "           ├── EncodingWarning\n",
    "           ├── FutureWarning\n",
    "           ├── ImportWarning\n",
    "           ├── PendingDeprecationWarning\n",
    "           ├── ResourceWarning\n",
    "           ├── RuntimeWarning\n",
    "           ├── SyntaxWarning\n",
    "           ├── UnicodeWarning\n",
    "           └── UserWarning\n",
    "```\n",
    "\n",
    "</details>"
   ]
  },
  {
   "cell_type": "markdown",
   "id": "71b2b63e",
   "metadata": {},
   "source": [
    "### Handling exceptions\n",
    "`try...except`"
   ]
  },
  {
   "cell_type": "code",
   "execution_count": 7,
   "id": "8d0a127b",
   "metadata": {},
   "outputs": [
    {
     "name": "stdout",
     "output_type": "stream",
     "text": [
      "File 'nonexistent.file' does not exist\n"
     ]
    }
   ],
   "source": [
    "filename = 'nonexistent.file'\n",
    "\n",
    "try:\n",
    "    fd = open(filename, 'r')\n",
    "except FileNotFoundError:  # catch exceptions which satisfy isinstance(exc, FileNotFoundError)\n",
    "    print(f'File {filename!r} does not exist')"
   ]
  },
  {
   "cell_type": "code",
   "execution_count": 8,
   "id": "f8f72e1b",
   "metadata": {},
   "outputs": [
    {
     "name": "stdout",
     "output_type": "stream",
     "text": [
      "File 'nonexistent.file' does not exist\n",
      "exception type:  <class 'FileNotFoundError'>\n",
      "exception message:  [Errno 2] No such file or directory: 'nonexistent.file'\n"
     ]
    }
   ],
   "source": [
    "filename = 'nonexistent.file'\n",
    "\n",
    "try:\n",
    "    fd = open(filename, 'r')\n",
    "except FileNotFoundError as e:  # e is the exception object\n",
    "    print(f'File {filename!r} does not exist')\n",
    "    print(\"exception type: \", type(e))\n",
    "    print(\"exception message: \", e)"
   ]
  },
  {
   "cell_type": "markdown",
   "id": "96e80be0",
   "metadata": {},
   "source": [
    "Handling exceptions: `try...except...except`"
   ]
  },
  {
   "cell_type": "code",
   "execution_count": 9,
   "id": "1e61eb38",
   "metadata": {},
   "outputs": [
    {
     "name": "stdout",
     "output_type": "stream",
     "text": [
      "File 'nonexistent.file' does not exist\n"
     ]
    }
   ],
   "source": [
    "filename = 'nonexistent.file'\n",
    "\n",
    "try:\n",
    "    # [1] + 3\n",
    "    # [0] * int(1e16)\n",
    "    # int(10e1000)\n",
    "    fd = open(filename, 'r')\n",
    "except FileNotFoundError:\n",
    "    print(f'File {filename!r} does not exist')\n",
    "except (TypeError, ValueError, MemoryError) as e:  # if exception is any of these types, this block will be executed\n",
    "    print('Just to demonstrate a tuple of exceptions')\n",
    "    print(\"exception type: \", type(e))\n",
    "except Exception as e:  # the first matching except clause is triggered\n",
    "\n",
    "    print(f'Exception occured while reading file {filename!r}: {e!r}')"
   ]
  },
  {
   "cell_type": "markdown",
   "id": "9cafdd34",
   "metadata": {},
   "source": [
    "Handling exceptions: `try...except...else...finally`"
   ]
  },
  {
   "cell_type": "code",
   "execution_count": 10,
   "id": "78c7b9ac",
   "metadata": {},
   "outputs": [
    {
     "name": "stdout",
     "output_type": "stream",
     "text": [
      "all good\n",
      "Nothing bad happened\n",
      "Print this no matter what\n"
     ]
    }
   ],
   "source": [
    "f = None\n",
    "try:\n",
    "    # f = open(\"filename.txt\", 'r') # something dangerous\n",
    "    # 1 / 0\n",
    "    print('all good')\n",
    "except ValueError as e:  # scope failure\n",
    "    print(f'Something bad happened: {e!r}')\n",
    "else:  # scope success\n",
    "    print('Nothing bad happened')\n",
    "finally:  # scope exit\n",
    "    if f is not None:\n",
    "        f.close()\n",
    "    print('Print this no matter what')"
   ]
  },
  {
   "cell_type": "markdown",
   "id": "6a12a33e",
   "metadata": {},
   "source": [
    "_optional_"
   ]
  },
  {
   "cell_type": "markdown",
   "id": "2597b6be",
   "metadata": {},
   "source": [
    "Error-handling strategies: **Look Before You Leap**\n"
   ]
  },
  {
   "cell_type": "code",
   "execution_count": 11,
   "id": "c52a8152",
   "metadata": {},
   "outputs": [],
   "source": [
    "def ctr(shows, clicks):\n",
    "    \"\"\"Returns banner click-through rate\"\"\"\n",
    "    if shows == 0:\n",
    "        return 0\n",
    "    return clicks / shows"
   ]
  },
  {
   "cell_type": "markdown",
   "id": "c55ede39",
   "metadata": {},
   "source": [
    "Error-handling strategies: **It's easier to ask for forgiveness than permission**"
   ]
  },
  {
   "cell_type": "code",
   "execution_count": 12,
   "id": "e67837c0",
   "metadata": {},
   "outputs": [],
   "source": [
    "def ctr(shows, clicks):\n",
    "    \"\"\"Returns banner click-through rate\"\"\"\n",
    "    try:\n",
    "        return clicks / shows\n",
    "    except ZeroDivisionError:\n",
    "        return 0"
   ]
  },
  {
   "cell_type": "markdown",
   "id": "3de3a07e",
   "metadata": {},
   "source": [
    "Try to be as specific as possible in your except clauses"
   ]
  },
  {
   "cell_type": "markdown",
   "id": "03457b19",
   "metadata": {},
   "source": [
    "### `raise`"
   ]
  },
  {
   "cell_type": "code",
   "execution_count": 15,
   "id": "181c39fd",
   "metadata": {},
   "outputs": [],
   "source": [
    "def foo_with_positive_argument(x: int) -> int:\n",
    "    if x < 0:\n",
    "        ... # what am I supposed to do?\n",
    "    return x"
   ]
  },
  {
   "cell_type": "code",
   "execution_count": 16,
   "id": "85b8dd53",
   "metadata": {},
   "outputs": [
    {
     "data": {
      "text/plain": [
       "-1"
      ]
     },
     "execution_count": 16,
     "metadata": {},
     "output_type": "execute_result"
    }
   ],
   "source": [
    "foo_with_positive_argument(-1)"
   ]
  },
  {
   "cell_type": "markdown",
   "id": "0c3f469e",
   "metadata": {},
   "source": [
    "You can raise an exception using the `raise` keyword"
   ]
  },
  {
   "cell_type": "code",
   "execution_count": 17,
   "id": "841edbca",
   "metadata": {},
   "outputs": [
    {
     "ename": "ValueError",
     "evalue": "Positive integer expected",
     "output_type": "error",
     "traceback": [
      "\u001b[31m---------------------------------------------------------------------------\u001b[39m",
      "\u001b[31mValueError\u001b[39m                                Traceback (most recent call last)",
      "\u001b[36mCell\u001b[39m\u001b[36m \u001b[39m\u001b[32mIn[17]\u001b[39m\u001b[32m, line 1\u001b[39m\n\u001b[32m----> \u001b[39m\u001b[32m1\u001b[39m \u001b[38;5;28;01mraise\u001b[39;00m \u001b[38;5;167;01mValueError\u001b[39;00m(\u001b[33m'\u001b[39m\u001b[33mPositive integer expected\u001b[39m\u001b[33m'\u001b[39m)\n",
      "\u001b[31mValueError\u001b[39m: Positive integer expected"
     ]
    }
   ],
   "source": [
    "raise ValueError('Positive integer expected')"
   ]
  },
  {
   "cell_type": "code",
   "execution_count": 18,
   "id": "4a76b602",
   "metadata": {},
   "outputs": [
    {
     "ename": "ValueError",
     "evalue": "x must be positive",
     "output_type": "error",
     "traceback": [
      "\u001b[31m---------------------------------------------------------------------------\u001b[39m",
      "\u001b[31mValueError\u001b[39m                                Traceback (most recent call last)",
      "\u001b[36mCell\u001b[39m\u001b[36m \u001b[39m\u001b[32mIn[18]\u001b[39m\u001b[32m, line 6\u001b[39m\n\u001b[32m      3\u001b[39m         \u001b[38;5;28;01mraise\u001b[39;00m \u001b[38;5;167;01mValueError\u001b[39;00m(\u001b[33m\"\u001b[39m\u001b[33mx must be positive\u001b[39m\u001b[33m\"\u001b[39m)\n\u001b[32m      4\u001b[39m     \u001b[38;5;28;01mreturn\u001b[39;00m x\n\u001b[32m----> \u001b[39m\u001b[32m6\u001b[39m \u001b[43mfoo_with_positive_argument\u001b[49m\u001b[43m(\u001b[49m\u001b[43m-\u001b[49m\u001b[32;43m1\u001b[39;49m\u001b[43m)\u001b[49m\n",
      "\u001b[36mCell\u001b[39m\u001b[36m \u001b[39m\u001b[32mIn[18]\u001b[39m\u001b[32m, line 3\u001b[39m, in \u001b[36mfoo_with_positive_argument\u001b[39m\u001b[34m(x)\u001b[39m\n\u001b[32m      1\u001b[39m \u001b[38;5;28;01mdef\u001b[39;00m\u001b[38;5;250m \u001b[39m\u001b[34mfoo_with_positive_argument\u001b[39m(x: \u001b[38;5;28mint\u001b[39m) -> \u001b[38;5;28mint\u001b[39m:\n\u001b[32m      2\u001b[39m     \u001b[38;5;28;01mif\u001b[39;00m x < \u001b[32m0\u001b[39m:\n\u001b[32m----> \u001b[39m\u001b[32m3\u001b[39m         \u001b[38;5;28;01mraise\u001b[39;00m \u001b[38;5;167;01mValueError\u001b[39;00m(\u001b[33m\"\u001b[39m\u001b[33mx must be positive\u001b[39m\u001b[33m\"\u001b[39m)\n\u001b[32m      4\u001b[39m     \u001b[38;5;28;01mreturn\u001b[39;00m x\n",
      "\u001b[31mValueError\u001b[39m: x must be positive"
     ]
    }
   ],
   "source": [
    "def foo_with_positive_argument(x: int) -> int:\n",
    "    if x < 0:\n",
    "        raise ValueError(\"x must be positive\")\n",
    "    return x\n",
    "\n",
    "foo_with_positive_argument(-1)"
   ]
  },
  {
   "cell_type": "markdown",
   "id": "f8a3585a",
   "metadata": {},
   "source": [
    "An exception must be an object of type BaseException or a subclass of it"
   ]
  },
  {
   "cell_type": "code",
   "execution_count": 19,
   "id": "98f112ab",
   "metadata": {},
   "outputs": [
    {
     "ename": "TypeError",
     "evalue": "exceptions must derive from BaseException",
     "output_type": "error",
     "traceback": [
      "\u001b[31m---------------------------------------------------------------------------\u001b[39m",
      "\u001b[31mTypeError\u001b[39m                                 Traceback (most recent call last)",
      "\u001b[36mCell\u001b[39m\u001b[36m \u001b[39m\u001b[32mIn[19]\u001b[39m\u001b[32m, line 1\u001b[39m\n\u001b[32m----> \u001b[39m\u001b[32m1\u001b[39m \u001b[38;5;28;01mraise\u001b[39;00m \u001b[32m42\u001b[39m\n",
      "\u001b[31mTypeError\u001b[39m: exceptions must derive from BaseException"
     ]
    }
   ],
   "source": [
    "raise 42"
   ]
  },
  {
   "cell_type": "markdown",
   "id": "c5341f17",
   "metadata": {},
   "source": [
    "_optional_"
   ]
  },
  {
   "cell_type": "markdown",
   "id": "92e8a45b",
   "metadata": {},
   "source": [
    "`raise` with no argument re-raises the last caught exception."
   ]
  },
  {
   "cell_type": "code",
   "execution_count": 20,
   "id": "502a5c96",
   "metadata": {},
   "outputs": [
    {
     "name": "stdout",
     "output_type": "stream",
     "text": [
      "Unknown error occured, no chance to recover, run!\n"
     ]
    },
    {
     "ename": "RuntimeError",
     "evalue": "Crash hard",
     "output_type": "error",
     "traceback": [
      "\u001b[31m---------------------------------------------------------------------------\u001b[39m",
      "\u001b[31mRuntimeError\u001b[39m                              Traceback (most recent call last)",
      "\u001b[36mCell\u001b[39m\u001b[36m \u001b[39m\u001b[32mIn[20]\u001b[39m\u001b[32m, line 2\u001b[39m\n\u001b[32m      1\u001b[39m \u001b[38;5;28;01mtry\u001b[39;00m:\n\u001b[32m----> \u001b[39m\u001b[32m2\u001b[39m     \u001b[38;5;28;01mraise\u001b[39;00m \u001b[38;5;167;01mRuntimeError\u001b[39;00m(\u001b[33m'\u001b[39m\u001b[33mCrash hard\u001b[39m\u001b[33m'\u001b[39m)\n\u001b[32m      3\u001b[39m \u001b[38;5;28;01mexcept\u001b[39;00m \u001b[38;5;167;01mException\u001b[39;00m \u001b[38;5;28;01mas\u001b[39;00m e:\n\u001b[32m      4\u001b[39m     \u001b[38;5;28mprint\u001b[39m(\u001b[33m'\u001b[39m\u001b[33mUnknown error occured, no chance to recover, run!\u001b[39m\u001b[33m'\u001b[39m)\n",
      "\u001b[31mRuntimeError\u001b[39m: Crash hard"
     ]
    }
   ],
   "source": [
    "try:\n",
    "    raise RuntimeError('Crash hard')\n",
    "except Exception as e:\n",
    "    print('Unknown error occured, no chance to recover, run!')\n",
    "    raise"
   ]
  },
  {
   "cell_type": "code",
   "execution_count": 21,
   "id": "83d83a5e",
   "metadata": {},
   "outputs": [
    {
     "ename": "RuntimeError",
     "evalue": "No active exception to reraise",
     "output_type": "error",
     "traceback": [
      "\u001b[31m---------------------------------------------------------------------------\u001b[39m",
      "\u001b[31mRuntimeError\u001b[39m                              Traceback (most recent call last)",
      "\u001b[36mCell\u001b[39m\u001b[36m \u001b[39m\u001b[32mIn[21]\u001b[39m\u001b[32m, line 1\u001b[39m\n\u001b[32m----> \u001b[39m\u001b[32m1\u001b[39m \u001b[38;5;28;01mraise\u001b[39;00m\n",
      "\u001b[31mRuntimeError\u001b[39m: No active exception to reraise"
     ]
    }
   ],
   "source": [
    "raise"
   ]
  },
  {
   "cell_type": "markdown",
   "id": "77685407",
   "metadata": {},
   "source": [
    "### Custom Exceptions"
   ]
  },
  {
   "cell_type": "markdown",
   "id": "e5574d5c",
   "metadata": {},
   "source": [
    "Note: we're not familiar with inheritance and classes yet"
   ]
  },
  {
   "cell_type": "code",
   "execution_count": null,
   "id": "6fea996d",
   "metadata": {},
   "outputs": [
    {
     "ename": "WrongFootError",
     "evalue": "Try another one!",
     "output_type": "error",
     "traceback": [
      "\u001b[31m---------------------------------------------------------------------------\u001b[39m",
      "\u001b[31mWrongFootError\u001b[39m                            Traceback (most recent call last)",
      "\u001b[36mCell\u001b[39m\u001b[36m \u001b[39m\u001b[32mIn[22]\u001b[39m\u001b[32m, line 8\u001b[39m\n\u001b[32m      5\u001b[39m     \u001b[38;5;28;01mdef\u001b[39;00m\u001b[38;5;250m \u001b[39m\u001b[34m__str__\u001b[39m(\u001b[38;5;28mself\u001b[39m):\n\u001b[32m      6\u001b[39m         \u001b[38;5;28;01mreturn\u001b[39;00m \u001b[33mf\u001b[39m\u001b[33m'\u001b[39m\u001b[33mTry another one!\u001b[39m\u001b[33m'\u001b[39m\n\u001b[32m----> \u001b[39m\u001b[32m8\u001b[39m \u001b[38;5;28;01mraise\u001b[39;00m WrongFootError([\u001b[32m1\u001b[39m, \u001b[32m2\u001b[39m, \u001b[32m3\u001b[39m])\n",
      "\u001b[31mWrongFootError\u001b[39m: Try another one!"
     ]
    }
   ],
   "source": [
    "# sometimes built-in exceptions are not enough\n",
    "class ShoeError(Exception):\n",
    "    pass\n",
    "\n",
    "class WrongFootError(ShoeError):\n",
    "    def __str__(self):\n",
    "        return f'Try another one!'\n",
    "        \n",
    "raise WrongFootError([1, 2, 3])"
   ]
  },
  {
   "cell_type": "markdown",
   "id": "e155f17d",
   "metadata": {},
   "source": [
    "# Input/Output streams (~19:50 (15 min))"
   ]
  },
  {
   "cell_type": "markdown",
   "id": "390f5937",
   "metadata": {},
   "source": [
    "### Standard streams"
   ]
  },
  {
   "cell_type": "markdown",
   "id": "8981c124",
   "metadata": {},
   "source": [
    "**Stream** — a flow of data between a program and an external source or destination.\n",
    "\n",
    "**Motivation:**\n",
    "A stream acts like a communication pipe between your program and something else —\n",
    "for example:\n",
    "\n",
    "* **Output stream** → sending data to the display or a file.\n",
    "* **Input stream** → receiving data from the keyboard, a file, or the network."
   ]
  },
  {
   "cell_type": "markdown",
   "id": "24758bed",
   "metadata": {},
   "source": [
    "![Stream](./stream_pic.png)"
   ]
  },
  {
   "cell_type": "code",
   "execution_count": 23,
   "id": "689e15da",
   "metadata": {},
   "outputs": [
    {
     "name": "stdout",
     "output_type": "stream",
     "text": [
      "Hello again!\n"
     ]
    }
   ],
   "source": [
    "import sys\n",
    "\n",
    "sys.stdout.write('Hello again!\\n');  # stdout -- standard output stream"
   ]
  },
  {
   "cell_type": "code",
   "execution_count": 24,
   "id": "418b23c6",
   "metadata": {},
   "outputs": [
    {
     "name": "stdout",
     "output_type": "stream",
     "text": [
      "Hello again!\n"
     ]
    }
   ],
   "source": [
    "print(\"Hello again!\")  # equivalent to above"
   ]
  },
  {
   "cell_type": "code",
   "execution_count": 25,
   "id": "78665e47",
   "metadata": {},
   "outputs": [
    {
     "name": "stderr",
     "output_type": "stream",
     "text": [
      "Danger!\n"
     ]
    }
   ],
   "source": [
    "sys.stderr.write('Danger!\\n');  # stderr -- standard error stream"
   ]
  },
  {
   "cell_type": "code",
   "execution_count": 26,
   "id": "986f11da",
   "metadata": {},
   "outputs": [
    {
     "name": "stderr",
     "output_type": "stream",
     "text": [
      "Danger!\n"
     ]
    }
   ],
   "source": [
    "print(\"Danger!\", file=sys.stderr)"
   ]
  },
  {
   "cell_type": "markdown",
   "id": "b62513fa",
   "metadata": {},
   "source": [
    "### Files"
   ]
  },
  {
   "cell_type": "code",
   "execution_count": 10,
   "id": "7eefaa63",
   "metadata": {},
   "outputs": [
    {
     "name": "stdout",
     "output_type": "stream",
     "text": [
      "Writing some_text.txt\n"
     ]
    }
   ],
   "source": [
    "%%writefile some_text.txt\n",
    "Hello, world!\n",
    "Here some more text...\n",
    "What else?"
   ]
  },
  {
   "cell_type": "code",
   "execution_count": 11,
   "id": "9c898794",
   "metadata": {},
   "outputs": [
    {
     "data": {
      "text/plain": [
       "<_io.TextIOWrapper name='some_text.txt' mode='r' encoding='UTF-8'>"
      ]
     },
     "execution_count": 11,
     "metadata": {},
     "output_type": "execute_result"
    }
   ],
   "source": [
    "f = open('some_text.txt')\n",
    "f"
   ]
  },
  {
   "cell_type": "code",
   "execution_count": 12,
   "id": "d5bd7d08",
   "metadata": {},
   "outputs": [],
   "source": [
    "content = f.read()"
   ]
  },
  {
   "cell_type": "code",
   "execution_count": 13,
   "id": "16e82ff6",
   "metadata": {},
   "outputs": [
    {
     "data": {
      "text/plain": [
       "48"
      ]
     },
     "execution_count": 13,
     "metadata": {},
     "output_type": "execute_result"
    }
   ],
   "source": [
    "len(content)"
   ]
  },
  {
   "cell_type": "code",
   "execution_count": 14,
   "id": "1572e7bd",
   "metadata": {},
   "outputs": [],
   "source": [
    "f.close()"
   ]
  },
  {
   "cell_type": "markdown",
   "id": "b2e96f24",
   "metadata": {},
   "source": [
    "Reading an entire file into memory can be very expensive"
   ]
  },
  {
   "cell_type": "code",
   "execution_count": 15,
   "id": "0a0a769a",
   "metadata": {},
   "outputs": [],
   "source": [
    "f = open('some_text.txt', 'r')"
   ]
  },
  {
   "cell_type": "code",
   "execution_count": 16,
   "id": "53c89dc9",
   "metadata": {},
   "outputs": [
    {
     "data": {
      "text/plain": [
       "'Hello, world!\\n'"
      ]
     },
     "execution_count": 16,
     "metadata": {},
     "output_type": "execute_result"
    }
   ],
   "source": [
    "f.readline()"
   ]
  },
  {
   "cell_type": "markdown",
   "id": "2d697567",
   "metadata": {},
   "source": [
    "_optional_"
   ]
  },
  {
   "cell_type": "markdown",
   "id": "d68281f1",
   "metadata": {},
   "source": [
    "What if the content is not text? Or you need to read a batch of lines at once?"
   ]
  },
  {
   "cell_type": "code",
   "execution_count": 18,
   "id": "8361d200",
   "metadata": {},
   "outputs": [
    {
     "data": {
      "text/plain": [
       "'Here'"
      ]
     },
     "execution_count": 18,
     "metadata": {},
     "output_type": "execute_result"
    }
   ],
   "source": [
    "chunk_size = 4\n",
    "f.read(chunk_size)"
   ]
  },
  {
   "cell_type": "code",
   "execution_count": 43,
   "id": "e3c6a0b2",
   "metadata": {},
   "outputs": [],
   "source": [
    "f.close()"
   ]
  },
  {
   "cell_type": "markdown",
   "id": "0dfe5518",
   "metadata": {},
   "source": [
    "Okay, we want to read in chunks until the end..."
   ]
  },
  {
   "cell_type": "code",
   "execution_count": 44,
   "id": "b1455db6",
   "metadata": {},
   "outputs": [],
   "source": [
    "f = open('some_text.txt')"
   ]
  },
  {
   "cell_type": "code",
   "execution_count": 45,
   "id": "475244f6",
   "metadata": {},
   "outputs": [
    {
     "data": {
      "text/plain": [
       "3"
      ]
     },
     "execution_count": 45,
     "metadata": {},
     "output_type": "execute_result"
    }
   ],
   "source": [
    "chunk_size = 8\n",
    "lines = 0\n",
    "while True:\n",
    "    chunk = f.read(chunk_size)\n",
    "    if not chunk:\n",
    "        break\n",
    "    lines += chunk.count('\\n')\n",
    "lines"
   ]
  },
  {
   "cell_type": "code",
   "execution_count": 46,
   "id": "313ac68c",
   "metadata": {},
   "outputs": [
    {
     "data": {
      "text/plain": [
       "''"
      ]
     },
     "execution_count": 46,
     "metadata": {},
     "output_type": "execute_result"
    }
   ],
   "source": [
    "f.read()"
   ]
  },
  {
   "cell_type": "code",
   "execution_count": 47,
   "id": "322bf0b2",
   "metadata": {},
   "outputs": [],
   "source": [
    "f.close()"
   ]
  },
  {
   "cell_type": "markdown",
   "id": "528a7d24",
   "metadata": {},
   "source": [
    "### Context manager"
   ]
  },
  {
   "cell_type": "markdown",
   "id": "caa1f028",
   "metadata": {},
   "source": [
    "Problem:\n",
    "```python\n",
    "file = open('some_text.txt')\n",
    "# ... a LOT of code here\n",
    "\n",
    "# Ooops, easy to forget to close the file\n",
    "```"
   ]
  },
  {
   "cell_type": "code",
   "execution_count": 20,
   "id": "33a21d79",
   "metadata": {},
   "outputs": [
    {
     "name": "stdout",
     "output_type": "stream",
     "text": [
      "Hello, world!\n",
      "Here some more text...\n",
      "What else?\n",
      "\n"
     ]
    }
   ],
   "source": [
    "with open('some_text.txt') as f:\n",
    "    print(f.read())"
   ]
  },
  {
   "cell_type": "markdown",
   "id": "7b3a6633",
   "metadata": {},
   "source": [
    "### Modes\n",
    "\n",
    "**read** (default)"
   ]
  },
  {
   "cell_type": "code",
   "execution_count": 49,
   "id": "c5b9621e",
   "metadata": {},
   "outputs": [
    {
     "name": "stdout",
     "output_type": "stream",
     "text": [
      "Overwriting some_text.txt\n"
     ]
    }
   ],
   "source": [
    "%%writefile some_text.txt\n",
    "Hello, world!\n",
    "Here some more text...\n",
    "What else?"
   ]
  },
  {
   "cell_type": "code",
   "execution_count": 50,
   "id": "74a8a258",
   "metadata": {},
   "outputs": [
    {
     "name": "stdout",
     "output_type": "stream",
     "text": [
      "Hello, world!\n",
      "\n",
      "----------\n",
      "Here some more text...\n",
      "What else?\n",
      "\n"
     ]
    }
   ],
   "source": [
    "with open('some_text.txt', 'r') as f:\n",
    "    print(f.readline())\n",
    "    print('-' * 10)\n",
    "    print(f.read())  # read the rest"
   ]
  },
  {
   "cell_type": "markdown",
   "id": "05e8dec4",
   "metadata": {},
   "source": [
    "Note: use `rb` instead of `r` to read binary files."
   ]
  },
  {
   "cell_type": "markdown",
   "id": "c1fdce7e",
   "metadata": {},
   "source": [
    "**Write**"
   ]
  },
  {
   "cell_type": "code",
   "execution_count": 51,
   "id": "b274e4b0",
   "metadata": {},
   "outputs": [
    {
     "name": "stdout",
     "output_type": "stream",
     "text": [
      "Hello, world!\n"
     ]
    }
   ],
   "source": [
    "# f = open('/tmp/junk.txt', 'w')\n",
    "with open('/tmp/junk.txt', 'w') as f:\n",
    "    f.write('Hello, world!')\n",
    "\n",
    "with open('/tmp/junk.txt', 'r') as f:\n",
    "    print(f.read())"
   ]
  },
  {
   "cell_type": "code",
   "execution_count": 52,
   "id": "d33ec8be",
   "metadata": {},
   "outputs": [
    {
     "name": "stdout",
     "output_type": "stream",
     "text": [
      "Oops, file is overwritten...\n",
      "One more line...\n",
      "\n"
     ]
    }
   ],
   "source": [
    "with open('/tmp/junk.txt', 'w') as f:\n",
    "    f.write('Oops, file is overwritten...\\n')\n",
    "    f.write('One more line...\\n')\n",
    "\n",
    "with open('/tmp/junk.txt', 'r') as f:\n",
    "    print(f.read())"
   ]
  },
  {
   "cell_type": "markdown",
   "id": "7599a1bb",
   "metadata": {},
   "source": [
    "**append**"
   ]
  },
  {
   "cell_type": "code",
   "execution_count": 53,
   "id": "1a74a5b0",
   "metadata": {},
   "outputs": [
    {
     "name": "stdout",
     "output_type": "stream",
     "text": [
      "Oops, file is overwritten...\n",
      "One more line...\n",
      "Yet another line...\n",
      "\n"
     ]
    }
   ],
   "source": [
    "with open('/tmp/junk.txt', 'a') as f:\n",
    "    f.write('Yet another line...\\n')\n",
    "\n",
    "with open('/tmp/junk.txt', 'r') as f:\n",
    "    print(f.read())"
   ]
  },
  {
   "cell_type": "markdown",
   "id": "5629d9a5",
   "metadata": {},
   "source": [
    "**Read + write**: 'r+'"
   ]
  },
  {
   "cell_type": "markdown",
   "id": "c5250293",
   "metadata": {},
   "source": [
    "### Bytes"
   ]
  },
  {
   "cell_type": "markdown",
   "id": "189a8ec9",
   "metadata": {},
   "source": [
    "[More on bytes](https://realpython.com/python-bytes/)"
   ]
  },
  {
   "cell_type": "markdown",
   "id": "4fbd56e9",
   "metadata": {},
   "source": [
    "**What are bytes?**\n",
    "\n",
    "* A **byte** is an integer in **0–255**.\n",
    "* A `bytes` object is a **sequence** of those integers (immutable); `bytearray` is mutable.\n",
    "* **Everything** ultimately respresented as bytes (text, images, network data).\n",
    "\n",
    "Examples:\n",
    "* Image is collection of pixels (RGB values)\n",
    "    * RGB values are 3 bytes (0-255) (e.g. `b'\\x00\\x00\\x00'` for black, where `\\x00` is hex for 0)\n",
    "* Text is a sequence of Unicode characters (UTF-8 encoding) "
   ]
  },
  {
   "cell_type": "code",
   "execution_count": 54,
   "id": "28ad71ba",
   "metadata": {},
   "outputs": [
    {
     "name": "stdout",
     "output_type": "stream",
     "text": [
      "[65, 66, 67]\n"
     ]
    },
    {
     "data": {
      "text/plain": [
       "bytearray(b'\\x00\\xff\\n')"
      ]
     },
     "execution_count": 54,
     "metadata": {},
     "output_type": "execute_result"
    }
   ],
   "source": [
    "b = b\"ABC\"          # bytes literal\n",
    "print(list(b))             # [65, 66, 67]\n",
    "ba = bytearray([0, 255, 10])\n",
    "ba\n"
   ]
  },
  {
   "cell_type": "markdown",
   "id": "6d1974e6",
   "metadata": {},
   "source": [
    "**Why bytes for streams?**\n",
    "\n",
    "* Streams are I/O channels; devices/files speak **bytes**.\n",
    "* Text is a *view* on bytes via an **encoding** (e.g., UTF-8)."
   ]
  },
  {
   "cell_type": "markdown",
   "id": "92d7207b",
   "metadata": {},
   "source": [
    "**Bytes vs. str (text)**\n",
    "\n",
    "* `str` = Unicode characters (abstract text), that is a set of _decoded_ bytes.\n",
    "* `bytes` = concrete storage format.\n",
    "* Files store always bytes. When you read the file, you _decode_ these bytes into `str`.\n"
   ]
  },
  {
   "cell_type": "code",
   "execution_count": 55,
   "id": "f78226c0",
   "metadata": {},
   "outputs": [
    {
     "name": "stdout",
     "output_type": "stream",
     "text": [
      "b'Hello'\n",
      "Hello\n"
     ]
    },
    {
     "ename": "UnicodeDecodeError",
     "evalue": "'utf-16-le' codec can't decode byte 0x6f in position 4: truncated data",
     "output_type": "error",
     "traceback": [
      "\u001b[31m---------------------------------------------------------------------------\u001b[39m",
      "\u001b[31mUnicodeDecodeError\u001b[39m                        Traceback (most recent call last)",
      "\u001b[36mCell\u001b[39m\u001b[36m \u001b[39m\u001b[32mIn[55]\u001b[39m\u001b[32m, line 6\u001b[39m\n\u001b[32m      4\u001b[39m s2 = b.decode(\u001b[33m\"\u001b[39m\u001b[33mutf-8\u001b[39m\u001b[33m\"\u001b[39m)  \u001b[38;5;66;03m# bytes -> str\u001b[39;00m\n\u001b[32m      5\u001b[39m \u001b[38;5;28mprint\u001b[39m(s2)\n\u001b[32m----> \u001b[39m\u001b[32m6\u001b[39m s3_wrong = \u001b[43mb\u001b[49m\u001b[43m.\u001b[49m\u001b[43mdecode\u001b[49m\u001b[43m(\u001b[49m\u001b[33;43m\"\u001b[39;49m\u001b[33;43mutf-16\u001b[39;49m\u001b[33;43m\"\u001b[39;49m\u001b[43m)\u001b[49m\n\u001b[32m      7\u001b[39m \u001b[38;5;28mprint\u001b[39m(s3_wrong)\n",
      "\u001b[31mUnicodeDecodeError\u001b[39m: 'utf-16-le' codec can't decode byte 0x6f in position 4: truncated data"
     ]
    }
   ],
   "source": [
    "s = \"Hello\"\n",
    "b = s.encode(\"utf-8\")   # str -> bytes\n",
    "print(b)\n",
    "s2 = b.decode(\"utf-8\")  # bytes -> str\n",
    "print(s2)\n",
    "s3_wrong = b.decode(\"utf-16\")\n",
    "print(s3_wrong)"
   ]
  },
  {
   "cell_type": "markdown",
   "id": "d10c86dd",
   "metadata": {},
   "source": [
    "\n",
    "\n",
    "**Encoding** is a way to convert a sequence of characters into a sequence of bytes. \n",
    "\n",
    "Popular encodings:\n",
    "- ASCII\n",
    "- UTF-8  # utf-8 is the default encoding for Python\n",
    "- UTF-16\n",
    "- UTF-32"
   ]
  },
  {
   "cell_type": "markdown",
   "id": "59012b27",
   "metadata": {},
   "source": [
    "# Namespaces (~20:05 (15 min))"
   ]
  },
  {
   "cell_type": "markdown",
   "id": "91ce487e",
   "metadata": {},
   "source": [
    "### Intro\n",
    "\n",
    "* **Definition:** A **namespace** is a mapping from *names* (identifiers) to *objects*.\n",
    "  In Python, namespaces are dict-like (e.g., `globals()`, `locals()`).\n",
    "* **Mnemonic:** *“names → objects map”* (an address book for objects).\n"
   ]
  },
  {
   "cell_type": "markdown",
   "id": "dbd1bd1e",
   "metadata": {},
   "source": [
    "Why we need namespaces?\n",
    "\n",
    "* **Modularity:** each module has its own names; imports don’t collide by default.\n",
    "* **Isolation & clarity:** local names live near where they’re used; reduces unintended interference.\n",
    "* **Deterministic resolution:** LEGB makes lookups predictable and debuggable.\n",
    "* **Introspection:** you can inspect/manipulate mappings (`globals()`, `locals()`), aiding tooling and debugging."
   ]
  },
  {
   "cell_type": "markdown",
   "id": "bcbfb532",
   "metadata": {},
   "source": [
    "### Four namespaces in Python\n",
    "\n",
    "![img](https://static-assets.codecademy.com/Courses/Intermediate-Python/Types-of-Namespaces_3_final.gif)"
   ]
  },
  {
   "cell_type": "markdown",
   "id": "39523747",
   "metadata": {},
   "source": [
    "### Variable Scope & LEGB rule"
   ]
  },
  {
   "cell_type": "markdown",
   "id": "49e6d43a",
   "metadata": {},
   "source": [
    "* **Scope:** The region of code where a name is accessible, and at the end of which it's destroyed.\n",
    "* **Lookup order (LEGB):** **L**ocal → **E**nclosing (in nested funcs) → **G**lobal (module) → **B**uiltins.\n",
    "\n",
    "**Important:** `local` and `enclosing` namespaces are unique to each scope (e.g. function call)."
   ]
  },
  {
   "cell_type": "code",
   "execution_count": 56,
   "id": "5d23bea5",
   "metadata": {},
   "outputs": [
    {
     "name": "stdout",
     "output_type": "stream",
     "text": [
      "from local local\n",
      "from enclosed enclosed\n",
      "from global global\n"
     ]
    }
   ],
   "source": [
    "x = \"global\"\n",
    "\n",
    "def outer():\n",
    "    x = \"enclosed\"\n",
    "    def inner():\n",
    "        x = \"local\"\n",
    "        print('from local', x)  # -> \"local\" (L)\n",
    "    inner()\n",
    "    print('from enclosed', x)  # -> \"enclosed\" (E)\n",
    "\n",
    "outer()\n",
    "print('from global', x)  # -> \"global\" (G)\n"
   ]
  },
  {
   "cell_type": "markdown",
   "id": "43804e28",
   "metadata": {},
   "source": [
    "#### Built-In (built-in namespace)"
   ]
  },
  {
   "cell_type": "code",
   "execution_count": 57,
   "id": "682c1e09",
   "metadata": {},
   "outputs": [
    {
     "name": "stdout",
     "output_type": "stream",
     "text": [
      "['ArithmeticError', 'AssertionError', 'AttributeError', 'BaseException', 'BaseExceptionGroup', 'BlockingIOError', 'BrokenPipeError', 'BufferError', 'BytesWarning', 'ChildProcessError', 'ConnectionAbortedError', 'ConnectionError', 'ConnectionRefusedError', 'ConnectionResetError', 'DeprecationWarning', 'EOFError', 'Ellipsis', 'EncodingWarning', 'EnvironmentError', 'Exception', 'ExceptionGroup', 'False', 'FileExistsError', 'FileNotFoundError', 'FloatingPointError', 'FutureWarning', 'GeneratorExit', 'IOError', 'ImportError', 'ImportWarning', 'IndentationError', 'IndexError', 'InterruptedError', 'IsADirectoryError', 'KeyError', 'KeyboardInterrupt', 'LookupError', 'MemoryError', 'ModuleNotFoundError', 'NameError', 'None', 'NotADirectoryError', 'NotImplemented', 'NotImplementedError', 'OSError', 'OverflowError', 'PendingDeprecationWarning', 'PermissionError', 'ProcessLookupError', 'RecursionError', 'ReferenceError', 'ResourceWarning', 'RuntimeError', 'RuntimeWarning', 'StopAsyncIteration', 'StopIteration', 'SyntaxError', 'SyntaxWarning', 'SystemError', 'SystemExit', 'TabError', 'TimeoutError', 'True', 'TypeError', 'UnboundLocalError', 'UnicodeDecodeError', 'UnicodeEncodeError', 'UnicodeError', 'UnicodeTranslateError', 'UnicodeWarning', 'UserWarning', 'ValueError', 'Warning', 'ZeroDivisionError', '__IPYTHON__', '__build_class__', '__debug__', '__doc__', '__import__', '__loader__', '__name__', '__package__', '__spec__', 'abs', 'aiter', 'all', 'anext', 'any', 'ascii', 'bin', 'bool', 'breakpoint', 'bytearray', 'bytes', 'callable', 'chr', 'classmethod', 'compile', 'complex', 'copyright', 'credits', 'delattr', 'dict', 'dir', 'display', 'divmod', 'enumerate', 'eval', 'exec', 'execfile', 'filter', 'float', 'format', 'frozenset', 'get_ipython', 'getattr', 'globals', 'hasattr', 'hash', 'help', 'hex', 'id', 'input', 'int', 'isinstance', 'issubclass', 'iter', 'len', 'license', 'list', 'locals', 'map', 'max', 'memoryview', 'min', 'next', 'object', 'oct', 'open', 'ord', 'pow', 'print', 'property', 'range', 'repr', 'reversed', 'round', 'runfile', 'set', 'setattr', 'slice', 'sorted', 'staticmethod', 'str', 'sum', 'super', 'tuple', 'type', 'vars', 'zip']\n"
     ]
    }
   ],
   "source": [
    "print(dir(__builtins__))"
   ]
  },
  {
   "cell_type": "code",
   "execution_count": 58,
   "id": "4e4e3e66",
   "metadata": {},
   "outputs": [
    {
     "data": {
      "text/plain": [
       "(True, True)"
      ]
     },
     "execution_count": 58,
     "metadata": {},
     "output_type": "execute_result"
    }
   ],
   "source": [
    "'print' in dir(__builtins__), '__builtins__' in globals()"
   ]
  },
  {
   "cell_type": "markdown",
   "id": "316ebfd7",
   "metadata": {},
   "source": [
    "**When it is created and how many instances**"
   ]
  },
  {
   "cell_type": "markdown",
   "id": "06bcf0a5",
   "metadata": {},
   "source": [
    "* Created at script startup and deleted when the script terminates\n",
    "* One per entire program"
   ]
  },
  {
   "cell_type": "markdown",
   "id": "241dd9e1",
   "metadata": {},
   "source": [
    "#### Global (global namespace)"
   ]
  },
  {
   "cell_type": "code",
   "execution_count": 5,
   "id": "3cfcec77",
   "metadata": {},
   "outputs": [
    {
     "data": {
      "text/plain": [
       "(True, False)"
      ]
     },
     "execution_count": 5,
     "metadata": {},
     "output_type": "execute_result"
    }
   ],
   "source": [
    "x = 1\n",
    "'x' in globals(), 'y' in globals()"
   ]
  },
  {
   "cell_type": "markdown",
   "id": "509b5102",
   "metadata": {},
   "source": [
    "<details>\n",
    "<summary>Fun Fact</summary>\n",
    "Fun Fact: Jupyter Notebook saves all code cell results and cells in global scope. \\\n",
    "For example, you can access the content and the result (if it's not None) of the any executed cell like this:\n",
    "\n",
    "```python\n",
    "globals().get('_i3') # content of 3rd executed cell\n",
    "globals().get('_3') # result of 3rd executed cell\n",
    "```\n",
    "</details>"
   ]
  },
  {
   "cell_type": "code",
   "execution_count": 60,
   "id": "5a290ff9",
   "metadata": {},
   "outputs": [
    {
     "name": "stdout",
     "output_type": "stream",
     "text": [
      "not found\n",
      "1\n",
      "not found\n",
      "None\n"
     ]
    }
   ],
   "source": [
    "print(globals().get('a', 'not found'))\n",
    "a = 1\n",
    "print(globals().get('a', 'not found'))\n",
    "del a\n",
    "print(globals().get('a', 'not found'))\n",
    "a = None\n",
    "print(globals().get('a', 'not found'))\n"
   ]
  },
  {
   "cell_type": "code",
   "execution_count": 61,
   "id": "0d28affc",
   "metadata": {},
   "outputs": [
    {
     "data": {
      "text/plain": [
       "(True, True, False)"
      ]
     },
     "execution_count": 61,
     "metadata": {},
     "output_type": "execute_result"
    }
   ],
   "source": [
    "# reminder: everything is an object\n",
    "\n",
    "class A:\n",
    "    pass\n",
    "\n",
    "def foo():\n",
    "    pass\n",
    "\n",
    "'A' in globals(), 'foo' in globals(), 'non_existing' in globals()"
   ]
  },
  {
   "cell_type": "markdown",
   "id": "38163746",
   "metadata": {},
   "source": [
    "**When it is created and how many instances**"
   ]
  },
  {
   "cell_type": "markdown",
   "id": "608f6207",
   "metadata": {},
   "source": [
    "* Created at script startup and deleted when the script terminates\n",
    "* Each module has its own global namespace; created at module import time"
   ]
  },
  {
   "cell_type": "markdown",
   "id": "4c7e3835",
   "metadata": {},
   "source": [
    "#### Enclosing and local namespaces"
   ]
  },
  {
   "cell_type": "code",
   "execution_count": 62,
   "id": "3dd177ec",
   "metadata": {},
   "outputs": [
    {
     "name": "stdout",
     "output_type": "stream",
     "text": [
      "2\n",
      "1\n",
      "0\n"
     ]
    }
   ],
   "source": [
    "x = 0\n",
    "def f():\n",
    "    x = 1\n",
    "    def g():\n",
    "        x = 2\n",
    "        print(x)\n",
    "    g()\n",
    "    print(x)\n",
    "f()\n",
    "print(x)"
   ]
  },
  {
   "cell_type": "markdown",
   "id": "35c7d3a1",
   "metadata": {},
   "source": [
    "<div class=\"alert alert-danger\">\n",
    "<b>Antipattern: </b> using same variable name in different scopes (shadowing)\n",
    "</div>"
   ]
  },
  {
   "cell_type": "code",
   "execution_count": 63,
   "id": "d0c429a3",
   "metadata": {},
   "outputs": [
    {
     "name": "stdout",
     "output_type": "stream",
     "text": [
      "{'x': 10, 'y': 1}\n"
     ]
    }
   ],
   "source": [
    "def f(x):\n",
    "    y = 1\n",
    "    print(locals())\n",
    "f(10)"
   ]
  },
  {
   "cell_type": "code",
   "execution_count": 64,
   "id": "443cdebe",
   "metadata": {},
   "outputs": [
    {
     "name": "stdout",
     "output_type": "stream",
     "text": [
      "{'arg': 1}\n",
      "False\n"
     ]
    }
   ],
   "source": [
    "def function(arg):\n",
    "    print(locals())\n",
    "    print(locals() == globals())\n",
    "\n",
    "function(1)"
   ]
  },
  {
   "cell_type": "code",
   "execution_count": 65,
   "id": "e92e0b6f",
   "metadata": {},
   "outputs": [
    {
     "data": {
      "text/plain": [
       "True"
      ]
     },
     "execution_count": 65,
     "metadata": {},
     "output_type": "execute_result"
    }
   ],
   "source": [
    "locals() == globals()"
   ]
  },
  {
   "cell_type": "markdown",
   "id": "57e29bb4",
   "metadata": {},
   "source": [
    "### Namespace"
   ]
  },
  {
   "cell_type": "markdown",
   "id": "d38d9d8c",
   "metadata": {},
   "source": [
    "Functions create their own namespace"
   ]
  },
  {
   "cell_type": "code",
   "execution_count": 66,
   "id": "f02ab0cc",
   "metadata": {},
   "outputs": [
    {
     "ename": "NameError",
     "evalue": "name 'inner_variable' is not defined",
     "output_type": "error",
     "traceback": [
      "\u001b[31m---------------------------------------------------------------------------\u001b[39m",
      "\u001b[31mNameError\u001b[39m                                 Traceback (most recent call last)",
      "\u001b[36mCell\u001b[39m\u001b[36m \u001b[39m\u001b[32mIn[66]\u001b[39m\u001b[32m, line 5\u001b[39m\n\u001b[32m      2\u001b[39m     inner_variable = \u001b[32m42\u001b[39m\n\u001b[32m      4\u001b[39m function()\n\u001b[32m----> \u001b[39m\u001b[32m5\u001b[39m \u001b[43minner_variable\u001b[49m\n",
      "\u001b[31mNameError\u001b[39m: name 'inner_variable' is not defined"
     ]
    }
   ],
   "source": [
    "def function():\n",
    "    inner_variable = 42\n",
    "\n",
    "function()\n",
    "inner_variable"
   ]
  },
  {
   "cell_type": "markdown",
   "id": "f9c6e676",
   "metadata": {},
   "source": [
    "Loops and conditionals do not create their own namespace"
   ]
  },
  {
   "cell_type": "code",
   "execution_count": 67,
   "id": "9f7befee",
   "metadata": {},
   "outputs": [
    {
     "name": "stdout",
     "output_type": "stream",
     "text": [
      "9\n",
      "9\n"
     ]
    }
   ],
   "source": [
    "for k in range(10):\n",
    "    in_for = k\n",
    "\n",
    "print(in_for)  # still accessible\n",
    "print(k)"
   ]
  },
  {
   "cell_type": "code",
   "execution_count": 68,
   "id": "2f20fa5f",
   "metadata": {},
   "outputs": [
    {
     "name": "stdout",
     "output_type": "stream",
     "text": [
      "2\n"
     ]
    }
   ],
   "source": [
    "if True:\n",
    "    in_if = 2\n",
    "    \n",
    "print(in_if)"
   ]
  },
  {
   "cell_type": "markdown",
   "id": "434290bc",
   "metadata": {},
   "source": [
    "Generators (comprehensions) create a namespace"
   ]
  },
  {
   "cell_type": "code",
   "execution_count": 69,
   "id": "7059cfa4",
   "metadata": {},
   "outputs": [
    {
     "name": "stdout",
     "output_type": "stream",
     "text": [
      "Hello\n"
     ]
    }
   ],
   "source": [
    "i = 'Hello'\n",
    "[i for i in range(10)]\n",
    "print(i)  # i inside the list comprehension is destroyed"
   ]
  },
  {
   "cell_type": "code",
   "execution_count": 70,
   "id": "d7688625",
   "metadata": {},
   "outputs": [
    {
     "name": "stdout",
     "output_type": "stream",
     "text": [
      "Hello\n"
     ]
    },
    {
     "data": {
      "text/plain": [
       "9"
      ]
     },
     "execution_count": 70,
     "metadata": {},
     "output_type": "execute_result"
    }
   ],
   "source": [
    "i = 'Hello'\n",
    "[i for i in range(10) if (inside_value := i) > 5]  # walrus operator (:=) does not create a new variable\n",
    "print(i)\n",
    "inside_value"
   ]
  },
  {
   "cell_type": "markdown",
   "id": "4d3493f5",
   "metadata": {},
   "source": [
    "### LEGB Playground"
   ]
  },
  {
   "cell_type": "code",
   "execution_count": 71,
   "id": "54f7df0d",
   "metadata": {},
   "outputs": [
    {
     "name": "stdout",
     "output_type": "stream",
     "text": [
      "func: global_var\n",
      "func: local_var\n",
      "global_var\n",
      "lol_kek\n"
     ]
    }
   ],
   "source": [
    "global_var = 'global_var'\n",
    "local_var = 'lol_kek'\n",
    "\n",
    "def func(): \n",
    "    local_var = 'local_var'\n",
    "    # global_var is in global namespace; it's accessible in all the scopes below\n",
    "    print('func:', global_var)\n",
    "    print('func:', local_var)\n",
    "\n",
    "func()\n",
    "print(global_var)\n",
    "print(local_var)"
   ]
  },
  {
   "cell_type": "markdown",
   "id": "a695164b",
   "metadata": {},
   "source": [
    "_optional_"
   ]
  },
  {
   "cell_type": "markdown",
   "id": "a0f2db92",
   "metadata": {},
   "source": [
    "Nested functions"
   ]
  },
  {
   "cell_type": "code",
   "execution_count": 72,
   "id": "47537a41",
   "metadata": {},
   "outputs": [
    {
     "name": "stdout",
     "output_type": "stream",
     "text": [
      "from inner: foo\n",
      "from inner: bar\n",
      "from outer: foo\n"
     ]
    },
    {
     "ename": "NameError",
     "evalue": "name 'inner_var' is not defined",
     "output_type": "error",
     "traceback": [
      "\u001b[31m---------------------------------------------------------------------------\u001b[39m",
      "\u001b[31mNameError\u001b[39m                                 Traceback (most recent call last)",
      "\u001b[36mCell\u001b[39m\u001b[36m \u001b[39m\u001b[32mIn[72]\u001b[39m\u001b[32m, line 14\u001b[39m\n\u001b[32m     11\u001b[39m     \u001b[38;5;28mprint\u001b[39m(\u001b[33m'\u001b[39m\u001b[33mfrom outer:\u001b[39m\u001b[33m'\u001b[39m, outer_var)\n\u001b[32m     12\u001b[39m     \u001b[38;5;28mprint\u001b[39m(\u001b[33m'\u001b[39m\u001b[33mfrom outer:\u001b[39m\u001b[33m'\u001b[39m, inner_var)\n\u001b[32m---> \u001b[39m\u001b[32m14\u001b[39m \u001b[43mouter\u001b[49m\u001b[43m(\u001b[49m\u001b[43m)\u001b[49m\n",
      "\u001b[36mCell\u001b[39m\u001b[36m \u001b[39m\u001b[32mIn[72]\u001b[39m\u001b[32m, line 12\u001b[39m, in \u001b[36mouter\u001b[39m\u001b[34m()\u001b[39m\n\u001b[32m      9\u001b[39m inner()\n\u001b[32m     11\u001b[39m \u001b[38;5;28mprint\u001b[39m(\u001b[33m'\u001b[39m\u001b[33mfrom outer:\u001b[39m\u001b[33m'\u001b[39m, outer_var)\n\u001b[32m---> \u001b[39m\u001b[32m12\u001b[39m \u001b[38;5;28mprint\u001b[39m(\u001b[33m'\u001b[39m\u001b[33mfrom outer:\u001b[39m\u001b[33m'\u001b[39m, \u001b[43minner_var\u001b[49m)\n",
      "\u001b[31mNameError\u001b[39m: name 'inner_var' is not defined"
     ]
    }
   ],
   "source": [
    "def outer():\n",
    "    outer_var = 'foo'\n",
    "\n",
    "    def inner():\n",
    "        inner_var = 'bar'\n",
    "        print('from inner:', outer_var)\n",
    "        print('from inner:', inner_var)\n",
    "\n",
    "    inner()\n",
    "\n",
    "    print('from outer:', outer_var)\n",
    "    print('from outer:', inner_var)\n",
    "\n",
    "outer()"
   ]
  },
  {
   "cell_type": "markdown",
   "id": "9404e3af",
   "metadata": {},
   "source": [
    "Functions have access to outer namespaces relative to where they are **defined**, not where they are **called**"
   ]
  },
  {
   "cell_type": "code",
   "execution_count": 73,
   "id": "ef89ef3c",
   "metadata": {},
   "outputs": [
    {
     "ename": "NameError",
     "evalue": "name 'it' is not defined",
     "output_type": "error",
     "traceback": [
      "\u001b[31m---------------------------------------------------------------------------\u001b[39m",
      "\u001b[31mNameError\u001b[39m                                 Traceback (most recent call last)",
      "\u001b[36mCell\u001b[39m\u001b[36m \u001b[39m\u001b[32mIn[73]\u001b[39m\u001b[32m, line 9\u001b[39m\n\u001b[32m      6\u001b[39m         func()\n\u001b[32m      7\u001b[39m     \u001b[38;5;28mprint\u001b[39m(it)\n\u001b[32m----> \u001b[39m\u001b[32m9\u001b[39m \u001b[43mq\u001b[49m\u001b[43m(\u001b[49m\u001b[43mf\u001b[49m\u001b[43m)\u001b[49m\n",
      "\u001b[36mCell\u001b[39m\u001b[36m \u001b[39m\u001b[32mIn[73]\u001b[39m\u001b[32m, line 6\u001b[39m, in \u001b[36mq\u001b[39m\u001b[34m(func)\u001b[39m\n\u001b[32m      4\u001b[39m \u001b[38;5;28;01mdef\u001b[39;00m\u001b[38;5;250m \u001b[39m\u001b[34mq\u001b[39m(func):\n\u001b[32m      5\u001b[39m     \u001b[38;5;28;01mfor\u001b[39;00m it \u001b[38;5;129;01min\u001b[39;00m \u001b[38;5;28mrange\u001b[39m(\u001b[32m10\u001b[39m):\n\u001b[32m----> \u001b[39m\u001b[32m6\u001b[39m         \u001b[43mfunc\u001b[49m\u001b[43m(\u001b[49m\u001b[43m)\u001b[49m\n\u001b[32m      7\u001b[39m     \u001b[38;5;28mprint\u001b[39m(it)\n",
      "\u001b[36mCell\u001b[39m\u001b[36m \u001b[39m\u001b[32mIn[73]\u001b[39m\u001b[32m, line 2\u001b[39m, in \u001b[36mf\u001b[39m\u001b[34m()\u001b[39m\n\u001b[32m      1\u001b[39m \u001b[38;5;28;01mdef\u001b[39;00m\u001b[38;5;250m \u001b[39m\u001b[34mf\u001b[39m():\n\u001b[32m----> \u001b[39m\u001b[32m2\u001b[39m     \u001b[38;5;28mprint\u001b[39m(\u001b[43mit\u001b[49m)\n",
      "\u001b[31mNameError\u001b[39m: name 'it' is not defined"
     ]
    }
   ],
   "source": [
    "def f():\n",
    "    print(it)\n",
    "\n",
    "def q(func):\n",
    "    for it in range(10):\n",
    "        func()\n",
    "    print(it)\n",
    "\n",
    "q(f)"
   ]
  },
  {
   "cell_type": "markdown",
   "id": "7cfbe513",
   "metadata": {},
   "source": [
    "# Serialization and Deserialization (~20:15 (10 min))"
   ]
  },
  {
   "cell_type": "markdown",
   "id": "0d90ce49",
   "metadata": {},
   "source": [
    "<div align=\"center\"><b><font size=6>Why do we need this?</font></b></div>"
   ]
  },
  {
   "cell_type": "markdown",
   "id": "2735f22e",
   "metadata": {},
   "source": [
    "1. Web API: JSON/RPC/...\n",
    "2. Application configuration\n",
    "3. Caching / Storing in DB\n",
    "\n",
    "In general: JSON is the most popular data format which is used to exchange and store data."
   ]
  },
  {
   "cell_type": "markdown",
   "id": "30848c51",
   "metadata": {},
   "source": [
    "<div align=\"center\"><b><font size=6>JSON</font></b></div>\n",
    "<div align=\"center\"><img src=\"https://www.json.org/img/json160.gif\"/></div>"
   ]
  },
  {
   "cell_type": "markdown",
   "id": "6d58ed68",
   "metadata": {},
   "source": [
    "```json\n",
    "{\n",
    "    \"int_value\": 1,\n",
    "    \"float_value\": 1.0,\n",
    "    \"str_value\": \"Hello\",\n",
    "    \"bool_value\": true,\n",
    "    \"list_value\": [1, 2, 3],\n",
    "    \"dict_value\": {\n",
    "        \"a\": 1,\n",
    "        \"b\": 2\n",
    "    }\n",
    "}\n",
    "```\n",
    "---\n",
    "```json\n",
    "[\n",
    "    1,\n",
    "    2,\n",
    "    \"word\",\n",
    "    {\n",
    "        \"inner_key\": \"inner_value\",\n",
    "        \"inner_list\": [1, 2, 3]\n",
    "    }\n",
    "    [1, 2, 3]\n",
    "]\n",
    "```"
   ]
  },
  {
   "cell_type": "markdown",
   "id": "e34c288e",
   "metadata": {},
   "source": [
    "JSON - JavaScript Object Notation\n",
    "\n",
    "Formal description: https://www.json.org/json-en.html"
   ]
  },
  {
   "cell_type": "markdown",
   "id": "05142b2a",
   "metadata": {},
   "source": [
    "Libraries for working with JSON:\n",
    "1. json \n",
    "2. simplejson\n",
    "3. simdjson\n",
    "4. orjson\n",
    "5. ujson"
   ]
  },
  {
   "cell_type": "markdown",
   "id": "6a50d628",
   "metadata": {},
   "source": [
    "The json module has 4 main functions: 2 for working with streams and 2 for working with strings.\n",
    "\n",
    "Stream:\n",
    "1. dump\n",
    "2. load\n",
    "\n",
    "String:\n",
    "1. dumps\n",
    "2. loads"
   ]
  },
  {
   "cell_type": "code",
   "execution_count": 21,
   "id": "cb045b3c",
   "metadata": {},
   "outputs": [
    {
     "name": "stdout",
     "output_type": "stream",
     "text": [
      "[\"foo\", {\"bar\": [\"baz\", null, 1.0, 2]}]\n",
      "[\"foo\", {\"bar\": [\"baz\", null, 1.0, 2]}]"
     ]
    }
   ],
   "source": [
    "import json\n",
    "\n",
    "data = ['foo', {'bar': ('baz', None, 1.0, 2)}]\n",
    "data_dump = json.dumps(data)\n",
    "print(data_dump)\n",
    "\n",
    "with open('result.json', 'w') as fout:\n",
    "    json.dump(data, fout)\n",
    "!cat result.json"
   ]
  },
  {
   "cell_type": "code",
   "execution_count": 22,
   "id": "b3909c4d",
   "metadata": {},
   "outputs": [
    {
     "name": "stdout",
     "output_type": "stream",
     "text": [
      "['foo', {'bar': ['baz', None, 1.0, 2]}]\n",
      "['foo', {'bar': ['baz', None, 1.0, 2]}]\n"
     ]
    }
   ],
   "source": [
    "data_parsed = json.loads(data_dump)\n",
    "print(data_parsed)\n",
    "\n",
    "with open('result.json') as fin:\n",
    "    print(json.load(fin))"
   ]
  },
  {
   "cell_type": "code",
   "execution_count": 23,
   "id": "672ba415",
   "metadata": {},
   "outputs": [
    {
     "name": "stdout",
     "output_type": "stream",
     "text": [
      "False\n"
     ]
    }
   ],
   "source": [
    "print(data == data_parsed)"
   ]
  },
  {
   "cell_type": "markdown",
   "id": "d9a85608",
   "metadata": {},
   "source": [
    "<details>\n",
    "  <summary>Answer</summary>\n",
    "  <p>You can convert a tuple to JSON Array. However, JSON Array is converted back to a list by default.</p>\n",
    "</details>\n"
   ]
  },
  {
   "cell_type": "code",
   "execution_count": 77,
   "id": "43faf357",
   "metadata": {},
   "outputs": [
    {
     "name": "stdout",
     "output_type": "stream",
     "text": [
      "['foo', {'bar': ('baz', None, 1.0, 2)}]\n",
      "['foo', {'bar': ['baz', None, 1.0, 2]}]\n"
     ]
    }
   ],
   "source": [
    "print(data)\n",
    "print(data_parsed)"
   ]
  },
  {
   "cell_type": "markdown",
   "id": "f09284ec",
   "metadata": {},
   "source": [
    "| Python  | JSON  |\n",
    "|:---|:---|\n",
    "| dict  | Object |\n",
    "| list  | Array  |\n",
    "| tuple  | Array  |\n",
    "| str  | String  |\n",
    "| int  | Number (int)  |\n",
    "| float  | Number (real)  |\n",
    "| True  | true  |\n",
    "| False  | false  |\n",
    "| None  | null  |"
   ]
  },
  {
   "cell_type": "markdown",
   "id": "ec1bbbd8",
   "metadata": {},
   "source": [
    "**JSON pitfalls**"
   ]
  },
  {
   "cell_type": "code",
   "execution_count": 78,
   "id": "32497381",
   "metadata": {},
   "outputs": [
    {
     "name": "stdout",
     "output_type": "stream",
     "text": [
      "json_str: {\"1\": \"one\", \"2\": \"two\", \"3\": \"three\"}\n",
      "{'1': 'one', '2': 'two', '3': 'three'}\n"
     ]
    }
   ],
   "source": [
    "# Keys are always str\n",
    "\n",
    "dct = {\n",
    "    1: 'one',\n",
    "    2: 'two',\n",
    "    3: 'three',\n",
    "}\n",
    "\n",
    "dct_json = json.dumps(dct)\n",
    "print('json_str:', dct_json)\n",
    "print(json.loads(dct_json))"
   ]
  },
  {
   "cell_type": "code",
   "execution_count": 79,
   "id": "8ec36fe7",
   "metadata": {},
   "outputs": [
    {
     "name": "stdout",
     "output_type": "stream",
     "text": [
      "[1, 2, 3]\n",
      "{\"key\": \"value\"}"
     ]
    }
   ],
   "source": [
    "# Multiple dumps \n",
    "\n",
    "val1 = [1, 2, 3]\n",
    "val2 = {'key': 'value'}\n",
    "\n",
    "with open('bad.json', 'w') as fout:\n",
    "    json.dump(val1, fout)\n",
    "    fout.write('\\n')\n",
    "    json.dump(val2, fout)\n",
    "    \n",
    "!cat bad.json"
   ]
  },
  {
   "cell_type": "code",
   "execution_count": 80,
   "id": "ac96eddc",
   "metadata": {},
   "outputs": [
    {
     "ename": "JSONDecodeError",
     "evalue": "Extra data: line 2 column 1 (char 10)",
     "output_type": "error",
     "traceback": [
      "\u001b[31m---------------------------------------------------------------------------\u001b[39m",
      "\u001b[31mJSONDecodeError\u001b[39m                           Traceback (most recent call last)",
      "\u001b[36mCell\u001b[39m\u001b[36m \u001b[39m\u001b[32mIn[80]\u001b[39m\u001b[32m, line 2\u001b[39m\n\u001b[32m      1\u001b[39m \u001b[38;5;28;01mwith\u001b[39;00m \u001b[38;5;28mopen\u001b[39m(\u001b[33m'\u001b[39m\u001b[33mbad.json\u001b[39m\u001b[33m'\u001b[39m) \u001b[38;5;28;01mas\u001b[39;00m fin:\n\u001b[32m----> \u001b[39m\u001b[32m2\u001b[39m     \u001b[43mjson\u001b[49m\u001b[43m.\u001b[49m\u001b[43mload\u001b[49m\u001b[43m(\u001b[49m\u001b[43mfin\u001b[49m\u001b[43m)\u001b[49m\n",
      "\u001b[36mFile \u001b[39m\u001b[32m~/.pyenv/versions/3.12.10/lib/python3.12/json/__init__.py:293\u001b[39m, in \u001b[36mload\u001b[39m\u001b[34m(fp, cls, object_hook, parse_float, parse_int, parse_constant, object_pairs_hook, **kw)\u001b[39m\n\u001b[32m    274\u001b[39m \u001b[38;5;28;01mdef\u001b[39;00m\u001b[38;5;250m \u001b[39m\u001b[34mload\u001b[39m(fp, *, \u001b[38;5;28mcls\u001b[39m=\u001b[38;5;28;01mNone\u001b[39;00m, object_hook=\u001b[38;5;28;01mNone\u001b[39;00m, parse_float=\u001b[38;5;28;01mNone\u001b[39;00m,\n\u001b[32m    275\u001b[39m         parse_int=\u001b[38;5;28;01mNone\u001b[39;00m, parse_constant=\u001b[38;5;28;01mNone\u001b[39;00m, object_pairs_hook=\u001b[38;5;28;01mNone\u001b[39;00m, **kw):\n\u001b[32m    276\u001b[39m \u001b[38;5;250m    \u001b[39m\u001b[33;03m\"\"\"Deserialize ``fp`` (a ``.read()``-supporting file-like object containing\u001b[39;00m\n\u001b[32m    277\u001b[39m \u001b[33;03m    a JSON document) to a Python object.\u001b[39;00m\n\u001b[32m    278\u001b[39m \n\u001b[32m   (...)\u001b[39m\u001b[32m    291\u001b[39m \u001b[33;03m    kwarg; otherwise ``JSONDecoder`` is used.\u001b[39;00m\n\u001b[32m    292\u001b[39m \u001b[33;03m    \"\"\"\u001b[39;00m\n\u001b[32m--> \u001b[39m\u001b[32m293\u001b[39m     \u001b[38;5;28;01mreturn\u001b[39;00m \u001b[43mloads\u001b[49m\u001b[43m(\u001b[49m\u001b[43mfp\u001b[49m\u001b[43m.\u001b[49m\u001b[43mread\u001b[49m\u001b[43m(\u001b[49m\u001b[43m)\u001b[49m\u001b[43m,\u001b[49m\n\u001b[32m    294\u001b[39m \u001b[43m        \u001b[49m\u001b[38;5;28;43mcls\u001b[39;49m\u001b[43m=\u001b[49m\u001b[38;5;28;43mcls\u001b[39;49m\u001b[43m,\u001b[49m\u001b[43m \u001b[49m\u001b[43mobject_hook\u001b[49m\u001b[43m=\u001b[49m\u001b[43mobject_hook\u001b[49m\u001b[43m,\u001b[49m\n\u001b[32m    295\u001b[39m \u001b[43m        \u001b[49m\u001b[43mparse_float\u001b[49m\u001b[43m=\u001b[49m\u001b[43mparse_float\u001b[49m\u001b[43m,\u001b[49m\u001b[43m \u001b[49m\u001b[43mparse_int\u001b[49m\u001b[43m=\u001b[49m\u001b[43mparse_int\u001b[49m\u001b[43m,\u001b[49m\n\u001b[32m    296\u001b[39m \u001b[43m        \u001b[49m\u001b[43mparse_constant\u001b[49m\u001b[43m=\u001b[49m\u001b[43mparse_constant\u001b[49m\u001b[43m,\u001b[49m\u001b[43m \u001b[49m\u001b[43mobject_pairs_hook\u001b[49m\u001b[43m=\u001b[49m\u001b[43mobject_pairs_hook\u001b[49m\u001b[43m,\u001b[49m\u001b[43m \u001b[49m\u001b[43m*\u001b[49m\u001b[43m*\u001b[49m\u001b[43mkw\u001b[49m\u001b[43m)\u001b[49m\n",
      "\u001b[36mFile \u001b[39m\u001b[32m~/.pyenv/versions/3.12.10/lib/python3.12/json/__init__.py:346\u001b[39m, in \u001b[36mloads\u001b[39m\u001b[34m(s, cls, object_hook, parse_float, parse_int, parse_constant, object_pairs_hook, **kw)\u001b[39m\n\u001b[32m    341\u001b[39m     s = s.decode(detect_encoding(s), \u001b[33m'\u001b[39m\u001b[33msurrogatepass\u001b[39m\u001b[33m'\u001b[39m)\n\u001b[32m    343\u001b[39m \u001b[38;5;28;01mif\u001b[39;00m (\u001b[38;5;28mcls\u001b[39m \u001b[38;5;129;01mis\u001b[39;00m \u001b[38;5;28;01mNone\u001b[39;00m \u001b[38;5;129;01mand\u001b[39;00m object_hook \u001b[38;5;129;01mis\u001b[39;00m \u001b[38;5;28;01mNone\u001b[39;00m \u001b[38;5;129;01mand\u001b[39;00m\n\u001b[32m    344\u001b[39m         parse_int \u001b[38;5;129;01mis\u001b[39;00m \u001b[38;5;28;01mNone\u001b[39;00m \u001b[38;5;129;01mand\u001b[39;00m parse_float \u001b[38;5;129;01mis\u001b[39;00m \u001b[38;5;28;01mNone\u001b[39;00m \u001b[38;5;129;01mand\u001b[39;00m\n\u001b[32m    345\u001b[39m         parse_constant \u001b[38;5;129;01mis\u001b[39;00m \u001b[38;5;28;01mNone\u001b[39;00m \u001b[38;5;129;01mand\u001b[39;00m object_pairs_hook \u001b[38;5;129;01mis\u001b[39;00m \u001b[38;5;28;01mNone\u001b[39;00m \u001b[38;5;129;01mand\u001b[39;00m \u001b[38;5;129;01mnot\u001b[39;00m kw):\n\u001b[32m--> \u001b[39m\u001b[32m346\u001b[39m     \u001b[38;5;28;01mreturn\u001b[39;00m \u001b[43m_default_decoder\u001b[49m\u001b[43m.\u001b[49m\u001b[43mdecode\u001b[49m\u001b[43m(\u001b[49m\u001b[43ms\u001b[49m\u001b[43m)\u001b[49m\n\u001b[32m    347\u001b[39m \u001b[38;5;28;01mif\u001b[39;00m \u001b[38;5;28mcls\u001b[39m \u001b[38;5;129;01mis\u001b[39;00m \u001b[38;5;28;01mNone\u001b[39;00m:\n\u001b[32m    348\u001b[39m     \u001b[38;5;28mcls\u001b[39m = JSONDecoder\n",
      "\u001b[36mFile \u001b[39m\u001b[32m~/.pyenv/versions/3.12.10/lib/python3.12/json/decoder.py:341\u001b[39m, in \u001b[36mJSONDecoder.decode\u001b[39m\u001b[34m(self, s, _w)\u001b[39m\n\u001b[32m    339\u001b[39m end = _w(s, end).end()\n\u001b[32m    340\u001b[39m \u001b[38;5;28;01mif\u001b[39;00m end != \u001b[38;5;28mlen\u001b[39m(s):\n\u001b[32m--> \u001b[39m\u001b[32m341\u001b[39m     \u001b[38;5;28;01mraise\u001b[39;00m JSONDecodeError(\u001b[33m\"\u001b[39m\u001b[33mExtra data\u001b[39m\u001b[33m\"\u001b[39m, s, end)\n\u001b[32m    342\u001b[39m \u001b[38;5;28;01mreturn\u001b[39;00m obj\n",
      "\u001b[31mJSONDecodeError\u001b[39m: Extra data: line 2 column 1 (char 10)"
     ]
    }
   ],
   "source": [
    "with open('bad.json') as fin:\n",
    "    json.load(fin)"
   ]
  },
  {
   "cell_type": "code",
   "execution_count": 81,
   "id": "2d71fdc7",
   "metadata": {},
   "outputs": [
    {
     "name": "stdout",
     "output_type": "stream",
     "text": [
      "[1, 2, 3]\n",
      "{'key': 'value'}\n"
     ]
    }
   ],
   "source": [
    "with open('bad.json') as fin:\n",
    "    for line in fin:\n",
    "        print(json.loads(line))"
   ]
  },
  {
   "cell_type": "code",
   "execution_count": 82,
   "id": "1396cb9e",
   "metadata": {},
   "outputs": [
    {
     "name": "stdout",
     "output_type": "stream",
     "text": [
      "[1, 2, 3]\n",
      "[1, 2, 3]\n",
      "['Hello world', '!']\n"
     ]
    },
    {
     "ename": "JSONDecodeError",
     "evalue": "Expecting value: line 1 column 2 (char 1)",
     "output_type": "error",
     "traceback": [
      "\u001b[31m---------------------------------------------------------------------------\u001b[39m",
      "\u001b[31mJSONDecodeError\u001b[39m                           Traceback (most recent call last)",
      "\u001b[36mCell\u001b[39m\u001b[36m \u001b[39m\u001b[32mIn[82]\u001b[39m\u001b[32m, line 9\u001b[39m\n\u001b[32m      7\u001b[39m arr2 = [\u001b[33m\"\u001b[39m\u001b[33mHello world\u001b[39m\u001b[33m\"\u001b[39m, \u001b[33m\"\u001b[39m\u001b[33m!\u001b[39m\u001b[33m\"\u001b[39m]\n\u001b[32m      8\u001b[39m \u001b[38;5;28mprint\u001b[39m(\u001b[38;5;28mrepr\u001b[39m(arr2))\n\u001b[32m----> \u001b[39m\u001b[32m9\u001b[39m \u001b[38;5;28mprint\u001b[39m(\u001b[43mjson\u001b[49m\u001b[43m.\u001b[49m\u001b[43mloads\u001b[49m\u001b[43m(\u001b[49m\u001b[38;5;28;43mrepr\u001b[39;49m\u001b[43m(\u001b[49m\u001b[43marr2\u001b[49m\u001b[43m)\u001b[49m\u001b[43m)\u001b[49m)\n",
      "\u001b[36mFile \u001b[39m\u001b[32m~/.pyenv/versions/3.12.10/lib/python3.12/json/__init__.py:346\u001b[39m, in \u001b[36mloads\u001b[39m\u001b[34m(s, cls, object_hook, parse_float, parse_int, parse_constant, object_pairs_hook, **kw)\u001b[39m\n\u001b[32m    341\u001b[39m     s = s.decode(detect_encoding(s), \u001b[33m'\u001b[39m\u001b[33msurrogatepass\u001b[39m\u001b[33m'\u001b[39m)\n\u001b[32m    343\u001b[39m \u001b[38;5;28;01mif\u001b[39;00m (\u001b[38;5;28mcls\u001b[39m \u001b[38;5;129;01mis\u001b[39;00m \u001b[38;5;28;01mNone\u001b[39;00m \u001b[38;5;129;01mand\u001b[39;00m object_hook \u001b[38;5;129;01mis\u001b[39;00m \u001b[38;5;28;01mNone\u001b[39;00m \u001b[38;5;129;01mand\u001b[39;00m\n\u001b[32m    344\u001b[39m         parse_int \u001b[38;5;129;01mis\u001b[39;00m \u001b[38;5;28;01mNone\u001b[39;00m \u001b[38;5;129;01mand\u001b[39;00m parse_float \u001b[38;5;129;01mis\u001b[39;00m \u001b[38;5;28;01mNone\u001b[39;00m \u001b[38;5;129;01mand\u001b[39;00m\n\u001b[32m    345\u001b[39m         parse_constant \u001b[38;5;129;01mis\u001b[39;00m \u001b[38;5;28;01mNone\u001b[39;00m \u001b[38;5;129;01mand\u001b[39;00m object_pairs_hook \u001b[38;5;129;01mis\u001b[39;00m \u001b[38;5;28;01mNone\u001b[39;00m \u001b[38;5;129;01mand\u001b[39;00m \u001b[38;5;129;01mnot\u001b[39;00m kw):\n\u001b[32m--> \u001b[39m\u001b[32m346\u001b[39m     \u001b[38;5;28;01mreturn\u001b[39;00m \u001b[43m_default_decoder\u001b[49m\u001b[43m.\u001b[49m\u001b[43mdecode\u001b[49m\u001b[43m(\u001b[49m\u001b[43ms\u001b[49m\u001b[43m)\u001b[49m\n\u001b[32m    347\u001b[39m \u001b[38;5;28;01mif\u001b[39;00m \u001b[38;5;28mcls\u001b[39m \u001b[38;5;129;01mis\u001b[39;00m \u001b[38;5;28;01mNone\u001b[39;00m:\n\u001b[32m    348\u001b[39m     \u001b[38;5;28mcls\u001b[39m = JSONDecoder\n",
      "\u001b[36mFile \u001b[39m\u001b[32m~/.pyenv/versions/3.12.10/lib/python3.12/json/decoder.py:338\u001b[39m, in \u001b[36mJSONDecoder.decode\u001b[39m\u001b[34m(self, s, _w)\u001b[39m\n\u001b[32m    333\u001b[39m \u001b[38;5;28;01mdef\u001b[39;00m\u001b[38;5;250m \u001b[39m\u001b[34mdecode\u001b[39m(\u001b[38;5;28mself\u001b[39m, s, _w=WHITESPACE.match):\n\u001b[32m    334\u001b[39m \u001b[38;5;250m    \u001b[39m\u001b[33;03m\"\"\"Return the Python representation of ``s`` (a ``str`` instance\u001b[39;00m\n\u001b[32m    335\u001b[39m \u001b[33;03m    containing a JSON document).\u001b[39;00m\n\u001b[32m    336\u001b[39m \n\u001b[32m    337\u001b[39m \u001b[33;03m    \"\"\"\u001b[39;00m\n\u001b[32m--> \u001b[39m\u001b[32m338\u001b[39m     obj, end = \u001b[38;5;28;43mself\u001b[39;49m\u001b[43m.\u001b[49m\u001b[43mraw_decode\u001b[49m\u001b[43m(\u001b[49m\u001b[43ms\u001b[49m\u001b[43m,\u001b[49m\u001b[43m \u001b[49m\u001b[43midx\u001b[49m\u001b[43m=\u001b[49m\u001b[43m_w\u001b[49m\u001b[43m(\u001b[49m\u001b[43ms\u001b[49m\u001b[43m,\u001b[49m\u001b[43m \u001b[49m\u001b[32;43m0\u001b[39;49m\u001b[43m)\u001b[49m\u001b[43m.\u001b[49m\u001b[43mend\u001b[49m\u001b[43m(\u001b[49m\u001b[43m)\u001b[49m\u001b[43m)\u001b[49m\n\u001b[32m    339\u001b[39m     end = _w(s, end).end()\n\u001b[32m    340\u001b[39m     \u001b[38;5;28;01mif\u001b[39;00m end != \u001b[38;5;28mlen\u001b[39m(s):\n",
      "\u001b[36mFile \u001b[39m\u001b[32m~/.pyenv/versions/3.12.10/lib/python3.12/json/decoder.py:356\u001b[39m, in \u001b[36mJSONDecoder.raw_decode\u001b[39m\u001b[34m(self, s, idx)\u001b[39m\n\u001b[32m    354\u001b[39m     obj, end = \u001b[38;5;28mself\u001b[39m.scan_once(s, idx)\n\u001b[32m    355\u001b[39m \u001b[38;5;28;01mexcept\u001b[39;00m \u001b[38;5;167;01mStopIteration\u001b[39;00m \u001b[38;5;28;01mas\u001b[39;00m err:\n\u001b[32m--> \u001b[39m\u001b[32m356\u001b[39m     \u001b[38;5;28;01mraise\u001b[39;00m JSONDecodeError(\u001b[33m\"\u001b[39m\u001b[33mExpecting value\u001b[39m\u001b[33m\"\u001b[39m, s, err.value) \u001b[38;5;28;01mfrom\u001b[39;00m\u001b[38;5;250m \u001b[39m\u001b[38;5;28;01mNone\u001b[39;00m\n\u001b[32m    357\u001b[39m \u001b[38;5;28;01mreturn\u001b[39;00m obj, end\n",
      "\u001b[31mJSONDecodeError\u001b[39m: Expecting value: line 1 column 2 (char 1)"
     ]
    }
   ],
   "source": [
    "# repr misuse\n",
    "\n",
    "arr = [1, 2, 3]\n",
    "print(repr(arr))\n",
    "print(json.loads(repr(arr)))\n",
    "\n",
    "arr2 = [\"Hello world\", \"!\"]\n",
    "print(repr(arr2))\n",
    "print(json.loads(repr(arr2)))"
   ]
  },
  {
   "cell_type": "markdown",
   "id": "c6a4f2bf",
   "metadata": {},
   "source": [
    "Lack of cross-platform behavior:\n",
    "\n",
    "https://github.com/jqlang/jq/issues/1959"
   ]
  },
  {
   "cell_type": "markdown",
   "id": "10a3d219",
   "metadata": {},
   "source": [
    "### Other Formats\n",
    "\n",
    "* [CSV and variations](https://en.wikipedia.org/wiki/Comma-separated_values)\n",
    "    * Widely used in data science\n",
    "* [YAML](https://en.wikipedia.org/wiki/YAML)\n",
    "    * Superset of JSON, great for configuration files\n",
    "* [Pickle](https://www.geeksforgeeks.org/python/understanding-python-pickling-example/)\n",
    "    * Python-specific format, not portable, but can store whatever python object you want\n",
    "\n",
    "\n",
    "Note: we'll talk about databases later. They are used to store big data."
   ]
  },
  {
   "cell_type": "markdown",
   "id": "636489cb",
   "metadata": {},
   "source": [
    "Cover if time is left:\n",
    "* Exceptions: BaseException antipattern\n",
    "* Namespaces: global, local\n",
    "* ..."
   ]
  }
 ],
 "metadata": {
  "kernelspec": {
   "display_name": ".venv",
   "language": "python",
   "name": "python3"
  },
  "language_info": {
   "codemirror_mode": {
    "name": "ipython",
    "version": 3
   },
   "file_extension": ".py",
   "mimetype": "text/x-python",
   "name": "python",
   "nbconvert_exporter": "python",
   "pygments_lexer": "ipython3",
   "version": "3.12.10"
  }
 },
 "nbformat": 4,
 "nbformat_minor": 5
}
