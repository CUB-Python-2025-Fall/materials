{
 "cells": [
  {
   "cell_type": "markdown",
   "id": "fdea4443",
   "metadata": {},
   "source": [
    "**As always, you're encouraged to google or ask GPT whenever you don't understand something.**"
   ]
  },
  {
   "cell_type": "markdown",
   "id": "44b76d73",
   "metadata": {},
   "source": [
    "### Abstractions\n",
    "\n",
    "Ask yourself:\n",
    "* What's the difference between `abc` and `Protocol`?\n",
    "    * Simple answer: Protocol is about structural subtyping, abstract classes about nominal one.\n",
    "    * Question: nominal vs structural subtyping\n",
    "* `@runtime_checkable` decorator for protocols to support `isinstance` and `issubclass` checks."
   ]
  },
  {
   "cell_type": "markdown",
   "id": "facdfd99",
   "metadata": {},
   "source": [
    "### SOLID"
   ]
  },
  {
   "cell_type": "markdown",
   "id": "62a63076",
   "metadata": {},
   "source": [
    "Here are some good sources that will help you understand SOLID and general good coding practices:\n",
    "* [refactoring.guru](https://refactoring.guru)\n",
    "* [Arjan, SOLID in Python](https://www.youtube.com/watch?v=pTB30aXS77U)\n",
    "\n",
    "\n",
    "**Reminder:** Good understanding of good code practices and patterns comes with time and practice. If you have time, it's highly encouraged to work on your own projects and apply these principles."
   ]
  },
  {
   "cell_type": "markdown",
   "id": "3e5ab8e3",
   "metadata": {},
   "source": [
    "### Cohesion & Coupling\n",
    "\n",
    "[video](https://www.youtube.com/watch?v=eiDyK_ofPPM)"
   ]
  }
 ],
 "metadata": {
  "language_info": {
   "name": "python"
  }
 },
 "nbformat": 4,
 "nbformat_minor": 5
}
