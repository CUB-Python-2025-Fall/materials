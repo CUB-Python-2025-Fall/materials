{
 "cells": [
  {
   "cell_type": "markdown",
   "id": "6949da40",
   "metadata": {},
   "source": [
    "### Contents\n",
    "\n",
    "* Inheritance\n",
    "    * Polymorphism\n",
    "    * Duck typing\n",
    "    * Multiple inheritance (MRO + mixins)\n",
    "* SOLID\n",
    "    * Single Responsibility Principle\n",
    "    * Open/Closed Principle\n",
    "    * Liskov Substitution Principle\n",
    "    * Interface Segregation Principle\n",
    "    * Dependency Inversion Principle"
   ]
  },
  {
   "cell_type": "markdown",
   "id": "1b5cfef3",
   "metadata": {},
   "source": [
    "## Inheritance (~20:05 (30min))"
   ]
  },
  {
   "cell_type": "code",
   "execution_count": null,
   "id": "b6f9e411",
   "metadata": {},
   "outputs": [],
   "source": [
    "# What's wrong?\n",
    "class CircleBad:\n",
    "    def __init__(self, x, y, r):\n",
    "        self.x, self.y, self.r = x, y, r\n",
    "    def move(self, dx, dy):\n",
    "        self.x += dx; self.y += dy\n",
    "    def draw(self):\n",
    "        return f\"CircleBad({self.x}, {self.y}, r={self.r})\"\n",
    "\n",
    "class RectangleBad:\n",
    "    def __init__(self, x, y, w, h):\n",
    "        self.x, self.y, self.w, self.h = x, y, w, h\n",
    "    def move(self, dx, dy):\n",
    "        self.x += dx; self.y += dy\n",
    "    def draw(self):\n",
    "        return f\"RectangleBad({self.x}, {self.y}, {self.w}x{self.h})\"\n",
    "\n",
    "c = CircleBad(0, 0, 3)\n",
    "r = RectangleBad(10, 5, 4, 2)\n",
    "c.move(1, 1); r.move(-2, 3)\n",
    "print(c.draw())\n",
    "print(r.draw())\n"
   ]
  },
  {
   "cell_type": "markdown",
   "id": "3b02d3e3",
   "metadata": {},
   "source": [
    "Both classes implement `move` method. Code is duplicated."
   ]
  },
  {
   "cell_type": "markdown",
   "id": "b1fea120",
   "metadata": {},
   "source": [
    "**Inheritance** is a mechanism in programming languages that allows a new class to reuse and extend the definitions of an existing class."
   ]
  },
  {
   "cell_type": "code",
   "execution_count": null,
   "id": "9f149f95",
   "metadata": {},
   "outputs": [],
   "source": [
    "class Shape:\n",
    "    def __init__(self, x: float, y: float):\n",
    "        self.x, self.y = x, y\n",
    "    def move(self, dx: float, dy: float):\n",
    "        self.x += dx; self.y += dy\n",
    "\n",
    "\n",
    "class Circle(Shape):\n",
    "    pass\n",
    "\n",
    "c = Circle(1, 2)\n",
    "print(c.x, c.y)\n",
    "c.move(1, 1)\n",
    "print(c.x, c.y)"
   ]
  },
  {
   "cell_type": "code",
   "execution_count": null,
   "id": "33c3eed0",
   "metadata": {},
   "outputs": [],
   "source": [
    "# full example\n",
    "\n",
    "class Shape:\n",
    "    def __init__(self, x: float, y: float):\n",
    "        self.x, self.y = x, y\n",
    "    def move(self, dx: float, dy: float):\n",
    "        self.x += dx; self.y += dy\n",
    "\n",
    "class Circle(Shape):\n",
    "    def __init__(self, x: float, y: float, r: float):\n",
    "        super().__init__(x, y)            # NOTE: base init\n",
    "        self.r = r\n",
    "    def draw(self) -> str:\n",
    "        return f\"Circle({self.x}, {self.y}, r={self.r})\"\n",
    "\n",
    "class Rectangle(Shape):\n",
    "    def __init__(self, x: float, y: float, w: float, h: float):\n",
    "        super().__init__(x, y)\n",
    "        self.w, self.h = w, h\n",
    "    def draw(self) -> str:\n",
    "        return f\"Rectangle({self.x}, {self.y}, {self.w}x{self.h})\"\n",
    "\n",
    "c = Circle(1, 1, 3); r = Rectangle(8, 8, 4, 2)\n",
    "c.move(1, 0.5); r.move(-1, -2)\n",
    "print(c.draw())\n",
    "print(r.draw())\n"
   ]
  },
  {
   "cell_type": "markdown",
   "id": "2ea64226",
   "metadata": {},
   "source": [
    "Overriding methods"
   ]
  },
  {
   "cell_type": "code",
   "execution_count": 8,
   "id": "f0078f87",
   "metadata": {},
   "outputs": [
    {
     "name": "stdout",
     "output_type": "stream",
     "text": [
      "A.foo\n",
      "B.foo\n",
      "A.foo\n"
     ]
    }
   ],
   "source": [
    "class A:\n",
    "    def foo(self):\n",
    "        print(\"A.foo\")\n",
    "\n",
    "class B(A):\n",
    "    def foo(self):\n",
    "        print(\"B.foo\")\n",
    "\n",
    "class C(A):\n",
    "    pass\n",
    "\n",
    "a = A()\n",
    "b = B()\n",
    "c = C()\n",
    "\n",
    "a.foo()\n",
    "b.foo()\n",
    "c.foo()"
   ]
  },
  {
   "cell_type": "code",
   "execution_count": 11,
   "id": "c20de1cf",
   "metadata": {},
   "outputs": [
    {
     "name": "stdout",
     "output_type": "stream",
     "text": [
      "◯ at (0, 0) radius=2\n"
     ]
    }
   ],
   "source": [
    "class PrettyCircle(Circle):\n",
    "    def draw(self) -> str:\n",
    "        # different string format — same method name\n",
    "        return f\"◯ at ({self.x}, {self.y}) radius={self.r}\"\n",
    "\n",
    "pc = PrettyCircle(0, 0, 2)\n",
    "print(pc.draw())\n"
   ]
  },
  {
   "cell_type": "markdown",
   "id": "59026168",
   "metadata": {},
   "source": [
    "`super()` gives you the parent class"
   ]
  },
  {
   "cell_type": "code",
   "execution_count": 17,
   "id": "f6774f48",
   "metadata": {},
   "outputs": [
    {
     "name": "stdout",
     "output_type": "stream",
     "text": [
      "❌ Missing base init → AttributeError 'Circle' object has no attribute 'x'\n"
     ]
    }
   ],
   "source": [
    "class Shape:\n",
    "    def __init__(self, x: float, y: float):\n",
    "        self.x, self.y = x, y\n",
    "    def move(self, dx: float, dy: float):\n",
    "        self.x += dx; self.y += dy\n",
    "\n",
    "class Circle(Shape):\n",
    "    def __init__(self, x, y, r):\n",
    "        # forgot to initialize the base!\n",
    "        self.r = r\n",
    "\n",
    "bad = Circle(0, 0, 5)\n",
    "try:\n",
    "    bad.move(1, 1)  # this will fail because x/y are missing\n",
    "except Exception as e:\n",
    "    print(\"❌ Missing base init →\", type(e).__name__, e)\n"
   ]
  },
  {
   "cell_type": "markdown",
   "id": "b83193f8",
   "metadata": {},
   "source": [
    "Here, we override the `__init__` method. We don't call parent's `__init__` method by default."
   ]
  },
  {
   "cell_type": "code",
   "execution_count": 18,
   "id": "e5052ec0",
   "metadata": {},
   "outputs": [
    {
     "name": "stdout",
     "output_type": "stream",
     "text": [
      "✅ After move: 1 1\n"
     ]
    }
   ],
   "source": [
    "\n",
    "class CircleWithSuper(Shape):\n",
    "    def __init__(self, x, y, r):\n",
    "        super().__init__(x, y)  # super() returns the parent class (Shape)\n",
    "        self.r = r\n",
    "\n",
    "good = CircleWithSuper(0, 0, 5)\n",
    "good.move(1, 1)\n",
    "print(\"✅ After move:\", good.x, good.y)\n"
   ]
  },
  {
   "cell_type": "markdown",
   "id": "113b97c2",
   "metadata": {},
   "source": [
    "`super()` returns a proxy object that accesses the parent class.\n",
    "\n",
    "Note: In MRO, we'll see that it's a little bit more complicated."
   ]
  },
  {
   "cell_type": "code",
   "execution_count": 20,
   "id": "973d70c8",
   "metadata": {},
   "outputs": [
    {
     "name": "stdout",
     "output_type": "stream",
     "text": [
      "super <super: <class 'A'>, <A object>>\n",
      "super().__init__ <bound method Shape.__init__ of <__main__.A object at 0x1080818e0>>\n",
      "super class: super\n"
     ]
    }
   ],
   "source": [
    "class A(Shape):\n",
    "    def __init__(self, x, y):\n",
    "        print(\"super\", super())\n",
    "        print(\"super().__init__\", super().__init__)\n",
    "        print(\"super class:\", super().__class__.__name__)\n",
    "\n",
    "a = A(1, 2)"
   ]
  },
  {
   "cell_type": "markdown",
   "id": "57a26079",
   "metadata": {},
   "source": [
    "`issubclass(type_a, type_b)` tells you whether `type_a` is a subclass of `type_b`."
   ]
  },
  {
   "cell_type": "code",
   "execution_count": 22,
   "id": "ca84b25c",
   "metadata": {},
   "outputs": [
    {
     "name": "stdout",
     "output_type": "stream",
     "text": [
      "issubclass(C, A)=True\n",
      "issubclass(C, B)=True\n",
      "issubclass(C, C)=True\n",
      "issubclass(A, B)=False\n"
     ]
    }
   ],
   "source": [
    "class A:\n",
    "    pass\n",
    "\n",
    "class B(A):\n",
    "    pass\n",
    "\n",
    "class C(B):\n",
    "    pass\n",
    "\n",
    "print(f\"{issubclass(C, A)=}\")\n",
    "print(f\"{issubclass(C, B)=}\")\n",
    "print(f\"{issubclass(C, C)=}\")\n",
    "print(f\"{issubclass(A, B)=}\")"
   ]
  },
  {
   "cell_type": "markdown",
   "id": "f38eb917",
   "metadata": {},
   "source": [
    "### Polymorphism\n",
    "\n",
    "**Polymorphism** means writing code that works with different types of objects through a common interface, letting each object decide its own specific behavior."
   ]
  },
  {
   "cell_type": "code",
   "execution_count": 23,
   "id": "489f7e5a",
   "metadata": {},
   "outputs": [
    {
     "name": "stdout",
     "output_type": "stream",
     "text": [
      "Base(0, 0)\n",
      "Child(1, 1)\n",
      "SecondChild(2, 2)\n"
     ]
    }
   ],
   "source": [
    "class Base:\n",
    "    def __init__(self, x, y):\n",
    "        self.x, self.y = x, y\n",
    "\n",
    "    def draw(self):\n",
    "        return f\"Base({self.x}, {self.y})\"\n",
    "\n",
    "class Child(Base):\n",
    "    def draw(self):\n",
    "        return f\"Child({self.x}, {self.y})\"\n",
    "\n",
    "class SecondChild(Child):\n",
    "    def draw(self):\n",
    "        return f\"SecondChild({self.x}, {self.y})\"\n",
    "\n",
    "\n",
    "def render_all(shapes):\n",
    "    return [s.draw() for s in shapes]\n",
    "\n",
    "items = [Base(0,0), Child(1,1), SecondChild(2,2)]\n",
    "for line in render_all(items):\n",
    "    print(line)\n"
   ]
  },
  {
   "cell_type": "markdown",
   "id": "f229ee25",
   "metadata": {},
   "source": [
    "### Abstraction"
   ]
  },
  {
   "cell_type": "markdown",
   "id": "94ff24ed",
   "metadata": {},
   "source": [
    "**Abstraction** lets us describe what an object does, without saying how it does it. An abstract class defines this contract, while concrete classes provide the actual implementation."
   ]
  },
  {
   "cell_type": "markdown",
   "id": "38af3aaa",
   "metadata": {},
   "source": [
    "![abstraction](./abstraction.png)"
   ]
  },
  {
   "cell_type": "code",
   "execution_count": 25,
   "id": "71d013cd",
   "metadata": {},
   "outputs": [
    {
     "name": "stdout",
     "output_type": "stream",
     "text": [
      "Woof\n",
      "Meow\n"
     ]
    }
   ],
   "source": [
    "from abc import ABC, abstractmethod\n",
    "\n",
    "class Animal(ABC):\n",
    "    @abstractmethod\n",
    "    def make_sound(self):\n",
    "        pass\n",
    "\n",
    "class Dog(Animal):\n",
    "    def make_sound(self):\n",
    "        return \"Woof\"\n",
    "\n",
    "class Cat(Animal):\n",
    "    def make_sound(self):\n",
    "        return \"Meow\"\n",
    "\n",
    "dog = Dog()\n",
    "cat = Cat()\n",
    "\n",
    "print(dog.make_sound())\n",
    "print(cat.make_sound())"
   ]
  },
  {
   "cell_type": "code",
   "execution_count": 27,
   "id": "320dbafb",
   "metadata": {},
   "outputs": [
    {
     "ename": "TypeError",
     "evalue": "Can't instantiate abstract class Animal without an implementation for abstract method 'make_sound'",
     "output_type": "error",
     "traceback": [
      "\u001b[0;31m---------------------------------------------------------------------------\u001b[0m",
      "\u001b[0;31mTypeError\u001b[0m                                 Traceback (most recent call last)",
      "Cell \u001b[0;32mIn[27], line 1\u001b[0m\n\u001b[0;32m----> 1\u001b[0m animal \u001b[38;5;241m=\u001b[39m \u001b[43mAnimal\u001b[49m\u001b[43m(\u001b[49m\u001b[43m)\u001b[49m  \u001b[38;5;66;03m# can't instantiate abstract class\u001b[39;00m\n",
      "\u001b[0;31mTypeError\u001b[0m: Can't instantiate abstract class Animal without an implementation for abstract method 'make_sound'"
     ]
    }
   ],
   "source": [
    "animal = Animal()  # can't instantiate abstract class"
   ]
  },
  {
   "cell_type": "code",
   "execution_count": 28,
   "id": "10feac73",
   "metadata": {},
   "outputs": [
    {
     "ename": "TypeError",
     "evalue": "Can't instantiate abstract class Bird without an implementation for abstract method 'make_sound'",
     "output_type": "error",
     "traceback": [
      "\u001b[0;31m---------------------------------------------------------------------------\u001b[0m",
      "\u001b[0;31mTypeError\u001b[0m                                 Traceback (most recent call last)",
      "Cell \u001b[0;32mIn[28], line 6\u001b[0m\n\u001b[1;32m      3\u001b[0m \u001b[38;5;28;01mclass\u001b[39;00m \u001b[38;5;21;01mBird\u001b[39;00m(Animal):  \u001b[38;5;66;03m# bird class is abstract since we don't implement make_sound\u001b[39;00m\n\u001b[1;32m      4\u001b[0m     \u001b[38;5;28;01mpass\u001b[39;00m\n\u001b[0;32m----> 6\u001b[0m bird \u001b[38;5;241m=\u001b[39m \u001b[43mBird\u001b[49m\u001b[43m(\u001b[49m\u001b[43m)\u001b[49m\n",
      "\u001b[0;31mTypeError\u001b[0m: Can't instantiate abstract class Bird without an implementation for abstract method 'make_sound'"
     ]
    }
   ],
   "source": [
    "# obligated to implement all abstract methods: our contract\n",
    "\n",
    "class Bird(Animal):  # bird class is abstract since we don't implement make_sound\n",
    "    pass\n",
    "\n",
    "bird = Bird()"
   ]
  },
  {
   "cell_type": "markdown",
   "id": "d8f90f5c",
   "metadata": {},
   "source": [
    "optional"
   ]
  },
  {
   "cell_type": "markdown",
   "id": "b18ba85c",
   "metadata": {},
   "source": [
    "abstract property"
   ]
  },
  {
   "cell_type": "code",
   "execution_count": 29,
   "id": "88e74311",
   "metadata": {},
   "outputs": [
    {
     "name": "stdout",
     "output_type": "stream",
     "text": [
      "Dog says Woof\n",
      "Cat says Meow\n"
     ]
    }
   ],
   "source": [
    "from abc import ABC, abstractmethod\n",
    "\n",
    "class Animal(ABC):\n",
    "    @abstractmethod\n",
    "    def print_sound(self):\n",
    "        pass\n",
    "\n",
    "class Dog(Animal):\n",
    "    def print_sound(self):\n",
    "        print(\"Dog says Woof\")\n",
    "\n",
    "class Cat(Animal):\n",
    "    def print_sound(self):\n",
    "        print(\"Cat says Meow\")\n",
    "\n",
    "dog = Dog()\n",
    "cat = Cat()\n",
    "\n",
    "dog.print_sound()\n",
    "cat.print_sound()"
   ]
  },
  {
   "cell_type": "code",
   "execution_count": 30,
   "id": "428527f9",
   "metadata": {},
   "outputs": [
    {
     "name": "stdout",
     "output_type": "stream",
     "text": [
      "Dog says Woof\n",
      "Cat says Meow\n"
     ]
    }
   ],
   "source": [
    "from abc import ABC, abstractmethod\n",
    "\n",
    "class Animal(ABC):\n",
    "    def print_sound(self):\n",
    "        class_name = self.__class__.__name__\n",
    "        print(f\"{class_name} says {self.sound}\")\n",
    "    \n",
    "    @property  # order matters: abstract method must be before property\n",
    "    @abstractmethod\n",
    "    def sound(self):\n",
    "        pass\n",
    "\n",
    "class Dog(Animal):\n",
    "    @property\n",
    "    def sound(self):\n",
    "        return \"Woof\"\n",
    "\n",
    "class Cat(Animal):\n",
    "    @property\n",
    "    def sound(self):\n",
    "        return \"Meow\"\n",
    "\n",
    "dog = Dog()\n",
    "cat = Cat()\n",
    "\n",
    "dog.print_sound()\n",
    "cat.print_sound()"
   ]
  },
  {
   "cell_type": "markdown",
   "id": "00f10222",
   "metadata": {},
   "source": [
    "### Duck typing"
   ]
  },
  {
   "cell_type": "markdown",
   "id": "45bdbdca",
   "metadata": {},
   "source": [
    "> If it walks like a duck, quacks like a duck, and looks like a duck, then it is a duck.\n",
    "\n",
    "Idea: you can use polymorphism on objects that have the same interface, even if they are not related by inheritance"
   ]
  },
  {
   "cell_type": "code",
   "execution_count": 31,
   "id": "ecfe601a",
   "metadata": {},
   "outputs": [
    {
     "name": "stdout",
     "output_type": "stream",
     "text": [
      "Buffer contents:\n",
      "hello\n",
      "world\n",
      "\n",
      "First line in file\n",
      "Second line in file\n",
      "\n",
      "This goes directly to the console!\n",
      "Duck typing is present here too.\n"
     ]
    }
   ],
   "source": [
    "# Q: do you see a problem here?\n",
    "from io import StringIO\n",
    "import sys\n",
    "\n",
    "def log(writable, msg: str) -> None:\n",
    "    writable.write(msg + \"\\n\")  # duck-typed: any object with .write works\n",
    "\n",
    "# Example 1: StringIO buffer (in-memory text stream)\n",
    "buf = StringIO()\n",
    "log(buf, \"hello\")\n",
    "log(buf, \"world\")\n",
    "print(\"Buffer contents:\")\n",
    "print(buf.getvalue())\n",
    "\n",
    "# Example 2: Writing to a file\n",
    "with open(\"log.txt\", \"w\") as f:\n",
    "    log(f, \"First line in file\")\n",
    "    log(f, \"Second line in file\")\n",
    "!cat log.txt\n",
    "\n",
    "# Example 3: Writing to standard output\n",
    "log(sys.stdout, \"\\nThis goes directly to the console!\")\n",
    "log(sys.stdout, \"Duck typing is present here too.\")\n"
   ]
  },
  {
   "cell_type": "code",
   "execution_count": 32,
   "id": "b96c3a06",
   "metadata": {},
   "outputs": [
    {
     "name": "stdout",
     "output_type": "stream",
     "text": [
      "buffer_type=<class '_io.StringIO'>\n",
      "file_type=<class '_io.TextIOWrapper'>\n",
      "stdout_type=<class 'ipykernel.iostream.OutStream'>\n",
      "issubclass(buffer_type, file_type)=False\n",
      "issubclass(file_type, buffer_type)=False\n",
      "issubclass(buffer_type, stdout_type)=False\n",
      "issubclass(stdout_type, buffer_type)=False\n"
     ]
    }
   ],
   "source": [
    "# the types above are unrelated\n",
    "\n",
    "buffer_type = type(StringIO())\n",
    "file_type = type(open(\"log.txt\"))\n",
    "stdout_type = type(sys.stdout)\n",
    "\n",
    "print(f\"{buffer_type=}\")\n",
    "print(f\"{file_type=}\")\n",
    "print(f\"{stdout_type=}\")\n",
    "\n",
    "print(f\"{issubclass(buffer_type, file_type)=}\")\n",
    "print(f\"{issubclass(file_type, buffer_type)=}\")\n",
    "print(f\"{issubclass(buffer_type, stdout_type)=}\")\n",
    "print(f\"{issubclass(stdout_type, buffer_type)=}\")\n",
    "\n"
   ]
  },
  {
   "cell_type": "markdown",
   "id": "69240a12",
   "metadata": {},
   "source": [
    "Problem: implicity\n",
    "\n",
    "When we use duck typing, how are we guaranteed that the object has the required methods? \\\n",
    "Usually, we use type annotations for this. \\\n",
    "What type annotation should we use?"
   ]
  },
  {
   "cell_type": "markdown",
   "id": "c639596b",
   "metadata": {},
   "source": [
    "Solution: `typing.Protocol` — structural contract"
   ]
  },
  {
   "cell_type": "code",
   "execution_count": 33,
   "id": "eab39c26",
   "metadata": {},
   "outputs": [
    {
     "name": "stdout",
     "output_type": "stream",
     "text": [
      "Writing log.py\n"
     ]
    }
   ],
   "source": [
    "%%writefile log.py\n",
    "from typing import Protocol, Any\n",
    "from io import StringIO\n",
    "\n",
    "class Writable(Protocol):\n",
    "    def write(self, s: str, /) -> Any:  # note: s should be positional-only\n",
    "        ...\n",
    "\n",
    "def log_typed(writable: Writable, msg: str) -> None:\n",
    "    writable.write(msg + \"\\n\")\n",
    "\n",
    "buf = StringIO()\n",
    "log_typed(buf, \"hello\")\n",
    "log_typed(buf, \"world\")\n",
    "print(\"Buffer contents:\")\n",
    "print(buf.getvalue())\n",
    "\n",
    "\n",
    "with open(\"log.txt\", \"w\") as f:\n",
    "    log_typed(f, \"hello\")\n",
    "    log_typed(f, \"world\")\n",
    "\n",
    "print(\"File contents:\")\n",
    "with open(\"log.txt\", \"r\") as f:\n",
    "    print(f.read())"
   ]
  },
  {
   "cell_type": "code",
   "execution_count": 34,
   "id": "243dab90",
   "metadata": {},
   "outputs": [
    {
     "name": "stdout",
     "output_type": "stream",
     "text": [
      "Buffer contents:\n",
      "hello\n",
      "world\n",
      "\n",
      "File contents:\n",
      "hello\n",
      "world\n",
      "\n"
     ]
    }
   ],
   "source": [
    "!python log.py"
   ]
  },
  {
   "cell_type": "code",
   "execution_count": 35,
   "id": "c3f52c6c",
   "metadata": {},
   "outputs": [
    {
     "name": "stdout",
     "output_type": "stream",
     "text": [
      "\u001b[2K\u001b[32m INFO\u001b[0m 0 errors░░░░░░░░░░░░░░░░░░░░░░░░░░░░░░░░░░░░░░░░░░░░░░░░░░░\u001b[0m\u001b[0m      56/60     \n"
     ]
    }
   ],
   "source": [
    "!pyrefly check log.py"
   ]
  },
  {
   "cell_type": "markdown",
   "id": "50f9556e",
   "metadata": {},
   "source": [
    "### Multiple Inheritance"
   ]
  },
  {
   "cell_type": "code",
   "execution_count": 41,
   "id": "751dff4f",
   "metadata": {},
   "outputs": [
    {
     "name": "stdout",
     "output_type": "stream",
     "text": [
      "Driving on the road\n",
      "Flying in the sky\n",
      "Refueling with gasoline\n"
     ]
    }
   ],
   "source": [
    "class Vehicle:\n",
    "    def refuel(self):\n",
    "        print(\"Refueling somehow\")\n",
    "\n",
    "class Car(Vehicle):\n",
    "    def drive(self):\n",
    "        print(\"Driving on the road\")\n",
    "\n",
    "    def refuel(self):\n",
    "        print(\"Refueling with gasoline\")\n",
    "\n",
    "\n",
    "class Plane(Vehicle):\n",
    "    def fly(self):\n",
    "        print(\"Flying in the sky\")\n",
    "\n",
    "    def refuel(self):\n",
    "        print(\"Refueling with aviation fuel\")\n",
    "\n",
    "\n",
    "class FlyingCar(Car, Plane):\n",
    "    pass  # no need to implement anything\n",
    "\n",
    "\n",
    "fc = FlyingCar()\n",
    "fc.drive()   # From Car\n",
    "fc.fly()     # From Plane\n",
    "fc.refuel()  # What's here?"
   ]
  },
  {
   "cell_type": "code",
   "execution_count": 42,
   "id": "30970568",
   "metadata": {},
   "outputs": [
    {
     "name": "stdout",
     "output_type": "stream",
     "text": [
      "Refueling with gasoline\n"
     ]
    }
   ],
   "source": [
    "fc.refuel()  # What's here?"
   ]
  },
  {
   "cell_type": "markdown",
   "id": "aff965c8",
   "metadata": {},
   "source": [
    "MRO (Method Resolution Order)"
   ]
  },
  {
   "cell_type": "code",
   "execution_count": 44,
   "id": "dad73ca5",
   "metadata": {},
   "outputs": [
    {
     "name": "stdout",
     "output_type": "stream",
     "text": [
      "<class '__main__.A'>\n",
      "<class '__main__.B'>\n",
      "<class '__main__.C'>\n",
      "<class '__main__.D'>\n",
      "<class 'object'>\n"
     ]
    }
   ],
   "source": [
    "class D:\n",
    "    def hello(self): print(\"D\")\n",
    "\n",
    "class B(D):\n",
    "    pass\n",
    "\n",
    "class C(D):\n",
    "    pass\n",
    "\n",
    "class A(B, C):\n",
    "    pass\n",
    "\n",
    "print(*A.mro(), sep=\"\\n\")"
   ]
  },
  {
   "cell_type": "markdown",
   "id": "a30760af",
   "metadata": {},
   "source": [
    "### Mixin\n",
    "\n",
    "**Mixin** is a class that is used to add functionality (usually one method) to another class."
   ]
  },
  {
   "cell_type": "code",
   "execution_count": 45,
   "id": "d11bf17d",
   "metadata": {},
   "outputs": [],
   "source": [
    "class Shape:\n",
    "    def __init__(self, x, y):\n",
    "        self.x, self.y = x, y\n",
    "\n",
    "    def move(self, dx, dy):\n",
    "        self.x += dx\n",
    "        self.y += dy"
   ]
  },
  {
   "cell_type": "code",
   "execution_count": 47,
   "id": "5a537d96",
   "metadata": {},
   "outputs": [
    {
     "name": "stdout",
     "output_type": "stream",
     "text": [
      "{'type': 'circle', 'x': 0, 'y': 0, 'r': 1}\n",
      "{'type': 'rectangle', 'x': 1, 'y': 1, 'w': 2, 'h': 3}\n"
     ]
    }
   ],
   "source": [
    "# BAD: duplication and SRP violation (geometry + IO mixed)\n",
    "class CircleWithSerializeBad(Shape):\n",
    "    def __init__(self, x, y, r):\n",
    "        super().__init__(x, y); self.r = r\n",
    "    def serialize(self):\n",
    "        return {\"type\": \"circle\", \"x\": self.x, \"y\": self.y, \"r\": self.r}\n",
    "\n",
    "class RectangleWithSerializeBad(Shape):\n",
    "    def __init__(self, x, y, w, h):\n",
    "        super().__init__(x, y); self.w, self.h = w, h\n",
    "    def serialize(self):\n",
    "        return {\"type\": \"rectangle\", \"x\": self.x, \"y\": self.y, \"w\": self.w, \"h\": self.h}\n",
    "\n",
    "print(CircleWithSerializeBad(0,0,1).serialize())\n",
    "print(RectangleWithSerializeBad(1,1,2,3).serialize())\n"
   ]
  },
  {
   "cell_type": "markdown",
   "id": "cf417305",
   "metadata": {},
   "source": [
    "Solution: mixin"
   ]
  },
  {
   "cell_type": "code",
   "execution_count": 48,
   "id": "a13598ce",
   "metadata": {},
   "outputs": [
    {
     "name": "stdout",
     "output_type": "stream",
     "text": [
      "{'x': 0, 'y': 0, 'r': 2}\n",
      "{'x': 1, 'y': 1, 'w': 2, 'h': 3}\n"
     ]
    }
   ],
   "source": [
    "class SerializableMixin:\n",
    "    def serialize(self) -> dict:\n",
    "        # simple example: export public attributes\n",
    "        return {k: v for k, v in self.__dict__.items() if not k.startswith(\"_\")}\n",
    "\n",
    "\n",
    "class CircleMI(SerializableMixin, Shape):\n",
    "    def __init__(self, x: float, y: float, r: float, **kwargs):\n",
    "        super().__init__(x=x, y=y, **kwargs)  # note: **kwargs to show that sometimes we don't know what arguments should be passed to the parent class\n",
    "        self.r = r\n",
    "\n",
    "class RectangleMI(SerializableMixin, Shape):\n",
    "    def __init__(self, x: float, y: float, w: float, h: float, **kwargs):\n",
    "        super().__init__(x=x, y=y, **kwargs)\n",
    "        self.w, self.h = w, h\n",
    "\n",
    "print(CircleMI(0,0,2).serialize())\n",
    "print(RectangleMI(1,1,2,3).serialize())\n"
   ]
  },
  {
   "cell_type": "markdown",
   "id": "96b80566",
   "metadata": {},
   "source": [
    "## SOLID (~20:25 (20min))"
   ]
  },
  {
   "cell_type": "markdown",
   "id": "55ac6e2b",
   "metadata": {},
   "source": [
    "### S — Single Responsibility Principle"
   ]
  },
  {
   "cell_type": "markdown",
   "id": "4edfdf23",
   "metadata": {},
   "source": [
    "what's wrong?"
   ]
  },
  {
   "cell_type": "code",
   "execution_count": 50,
   "id": "a8abb0c0",
   "metadata": {},
   "outputs": [
    {
     "name": "stdout",
     "output_type": "stream",
     "text": [
      "Charging 100...\n",
      "Emailing receipt to test@test.com\n"
     ]
    }
   ],
   "source": [
    "from dataclasses import dataclass\n",
    "\n",
    "@dataclass\n",
    "class Order:\n",
    "    items: list[str]\n",
    "    total: float\n",
    "    email: str\n",
    "\n",
    "class OrderProcessor:\n",
    "    def process(self, order):\n",
    "        if not order.items:\n",
    "            raise ValueError(\"Empty order\")         # validation\n",
    "        print(f\"Charging {order.total}...\")         # payment\n",
    "        print(f\"Emailing receipt to {order.email}\") # notification\n",
    "\n",
    "# what if I want to change the validation logic? Or the payment logic?\n",
    "\n",
    "op = OrderProcessor()\n",
    "order = Order(items=['apple', 'banana'], total=100, email=\"test@test.com\")\n",
    "op.process(order)"
   ]
  },
  {
   "cell_type": "markdown",
   "id": "2f33b802",
   "metadata": {},
   "source": [
    "SRP - A class should serve one specific purpose"
   ]
  },
  {
   "cell_type": "code",
   "execution_count": 53,
   "id": "e020876b",
   "metadata": {},
   "outputs": [
    {
     "name": "stdout",
     "output_type": "stream",
     "text": [
      "Super-charging 100...\n",
      "Email sent to test@test.com\n"
     ]
    }
   ],
   "source": [
    "class OrderValidator:\n",
    "    def validate(self, order):\n",
    "        if not order.items:\n",
    "            raise ValueError(\"Empty order\")\n",
    "\n",
    "class PaymentGateway:\n",
    "    def charge(self, amount):\n",
    "        print(f\"Charging {amount}...\")\n",
    "\n",
    "class AlternativePaymentGateway:\n",
    "    def charge(self, amount):\n",
    "        print(f\"Super-charging {amount}...\")\n",
    "\n",
    "class Notifier:\n",
    "    def send_receipt(self, email):\n",
    "        print(f\"Email sent to {email}\")\n",
    "\n",
    "class OrderProcessor:\n",
    "    def __init__(self, validator, gateway, notifier):\n",
    "        self.validator = validator\n",
    "        self.gateway = gateway\n",
    "        self.notifier = notifier\n",
    "\n",
    "    def process(self, order):\n",
    "        self.validator.validate(order)\n",
    "        self.gateway.charge(order.total)\n",
    "        self.notifier.send_receipt(order.email)\n",
    "\n",
    "op = OrderProcessor(OrderValidator(), AlternativePaymentGateway(), Notifier())\n",
    "op.process(order)"
   ]
  },
  {
   "cell_type": "code",
   "execution_count": 54,
   "id": "def7c4cc",
   "metadata": {},
   "outputs": [
    {
     "name": "stdout",
     "output_type": "stream",
     "text": [
      "Charging 110.00 (with tax 10.0%)...\n",
      "Email sent to test@test.com\n"
     ]
    }
   ],
   "source": [
    "class AnotherPaymentGateway:\n",
    "    TAX = 0.1\n",
    "    def charge(self, amount):\n",
    "        amount_with_tax = amount * (1 + self.TAX)\n",
    "        print(f\"Charging {amount_with_tax:.2f} (with tax {self.TAX*100}%)...\")\n",
    "\n",
    "\n",
    "op = OrderProcessor(OrderValidator(), AnotherPaymentGateway(), Notifier())\n",
    "op.process(order)"
   ]
  },
  {
   "cell_type": "markdown",
   "id": "0a5b53db",
   "metadata": {},
   "source": [
    "### O — Open/Closed Principle"
   ]
  },
  {
   "cell_type": "markdown",
   "id": "fd07ff08",
   "metadata": {},
   "source": [
    "Every new discount requires editing this function (fragile if/elif chain)."
   ]
  },
  {
   "cell_type": "code",
   "execution_count": 56,
   "id": "c78f2067",
   "metadata": {},
   "outputs": [
    {
     "data": {
      "text/plain": [
       "80.0"
      ]
     },
     "execution_count": 56,
     "metadata": {},
     "output_type": "execute_result"
    }
   ],
   "source": [
    "def discount(amount, kind):\n",
    "    if kind == \"vip\":\n",
    "        return amount * 0.8\n",
    "    elif kind == \"black_friday\":\n",
    "        return amount * 0.5\n",
    "    elif kind == \"employee\":\n",
    "        return amount * 0.7\n",
    "    # ...keep adding branches forever\n",
    "    return amount\n",
    "\n",
    "discount(100, \"vip\")"
   ]
  },
  {
   "cell_type": "markdown",
   "id": "0a3331a0",
   "metadata": {},
   "source": [
    "Software entities should be open for extension, closed for modification. \\\n",
    "In simple words: add new things without touching old, working code\n",
    "\n",
    "Extension: new functionality (new classes) \\\n",
    "Modification: existing functionality (existing classes)\n",
    "\n",
    "\n",
    "\n",
    "\n",
    "\n",
    "\n",
    "\n",
    "\n"
   ]
  },
  {
   "cell_type": "code",
   "execution_count": 58,
   "id": "1a903b87",
   "metadata": {},
   "outputs": [
    {
     "data": {
      "text/plain": [
       "80.0"
      ]
     },
     "execution_count": 58,
     "metadata": {},
     "output_type": "execute_result"
    }
   ],
   "source": [
    "from abc import ABC, abstractmethod\n",
    "\n",
    "class DiscountPolicy(ABC):\n",
    "    @abstractmethod\n",
    "    def apply(self, amount: float) -> float: ...\n",
    "\n",
    "class NoDiscount(DiscountPolicy):\n",
    "    def apply(self, amount): return amount\n",
    "\n",
    "class VipDiscount(DiscountPolicy):\n",
    "    def apply(self, amount): return amount * 0.8\n",
    "\n",
    "class BlackFriday(DiscountPolicy):\n",
    "    def apply(self, amount): return amount * 0.5\n",
    "\n",
    "def price(amount: float, policy: DiscountPolicy) -> float:\n",
    "    return policy.apply(amount)\n",
    "\n",
    "policy = VipDiscount()\n",
    "price(100, policy)"
   ]
  },
  {
   "cell_type": "markdown",
   "id": "ee3fccae",
   "metadata": {},
   "source": [
    "### L — Liskov Substitution Principle"
   ]
  },
  {
   "cell_type": "code",
   "execution_count": 61,
   "id": "f6420692",
   "metadata": {},
   "outputs": [
    {
     "ename": "AssertionError",
     "evalue": "Layout broken!",
     "output_type": "error",
     "traceback": [
      "\u001b[0;31m---------------------------------------------------------------------------\u001b[0m",
      "\u001b[0;31mAssertionError\u001b[0m                            Traceback (most recent call last)",
      "Cell \u001b[0;32mIn[61], line 20\u001b[0m\n\u001b[1;32m     17\u001b[0m layout_button(btn)         \u001b[38;5;66;03m# OK\u001b[39;00m\n\u001b[1;32m     19\u001b[0m sq_btn \u001b[38;5;241m=\u001b[39m Square()\n\u001b[0;32m---> 20\u001b[0m \u001b[43mlayout_button\u001b[49m\u001b[43m(\u001b[49m\u001b[43msq_btn\u001b[49m\u001b[43m)\u001b[49m      \u001b[38;5;66;03m# AssertionError: becomes 30x30 or 100x100\u001b[39;00m\n",
      "Cell \u001b[0;32mIn[61], line 14\u001b[0m, in \u001b[0;36mlayout_button\u001b[0;34m(rect)\u001b[0m\n\u001b[1;32m     12\u001b[0m rect\u001b[38;5;241m.\u001b[39mset_width(\u001b[38;5;241m100\u001b[39m)\n\u001b[1;32m     13\u001b[0m rect\u001b[38;5;241m.\u001b[39mset_height(\u001b[38;5;241m30\u001b[39m)\n\u001b[0;32m---> 14\u001b[0m \u001b[38;5;28;01massert\u001b[39;00m (rect\u001b[38;5;241m.\u001b[39mw, rect\u001b[38;5;241m.\u001b[39mh) \u001b[38;5;241m==\u001b[39m (\u001b[38;5;241m100\u001b[39m, \u001b[38;5;241m30\u001b[39m), \u001b[38;5;124m\"\u001b[39m\u001b[38;5;124mLayout broken!\u001b[39m\u001b[38;5;124m\"\u001b[39m\n",
      "\u001b[0;31mAssertionError\u001b[0m: Layout broken!"
     ]
    }
   ],
   "source": [
    "class Rectangle:\n",
    "    def __init__(self, w=0, h=0): self.w, self.h = w, h\n",
    "    def set_width(self, w):  self.w = w\n",
    "    def set_height(self, h): self.h = h\n",
    "\n",
    "class Square(Rectangle):\n",
    "    def set_width(self, w):  self.w = self.h = w\n",
    "    def set_height(self, h): self.w = self.h = h\n",
    "\n",
    "def layout_button(rect: Rectangle):\n",
    "    # UI code expects an exact size: 100x30\n",
    "    rect.set_width(100)\n",
    "    rect.set_height(30)\n",
    "    assert (rect.w, rect.h) == (100, 30), \"Layout broken!\"\n",
    "\n",
    "btn = Rectangle()\n",
    "layout_button(btn)         # OK\n",
    "\n",
    "sq_btn = Square()\n",
    "layout_button(sq_btn)      # AssertionError: becomes 30x30 or 100x100\n"
   ]
  },
  {
   "cell_type": "markdown",
   "id": "e81c3730",
   "metadata": {},
   "source": [
    "If code works with the parent, it should work as well with any child.\n",
    "\n",
    "If `Square` is a child of `Rectangle`, then we expect that whenever we use `Rectangle`, we can use `Square` as well. \\\n",
    "However, it's not true. That's why Liskov Substitution Principle is violated."
   ]
  },
  {
   "cell_type": "markdown",
   "id": "6050855a",
   "metadata": {},
   "source": [
    "### I — Interface Segregation Principle"
   ]
  },
  {
   "cell_type": "code",
   "execution_count": 62,
   "id": "b707fb67",
   "metadata": {},
   "outputs": [],
   "source": [
    "class Worker:\n",
    "    def work(self): ...\n",
    "    def eat(self): ...\n",
    "    def sleep(self): ...\n",
    "\n",
    "# problem: client is forced to implement unwanted methods\n",
    "class Robot(Worker):\n",
    "    def work(self): print(\"Assembling\")\n",
    "    def eat(self): raise NotImplementedError  # forced\n",
    "    def sleep(self): raise NotImplementedError\n"
   ]
  },
  {
   "cell_type": "markdown",
   "id": "01c3c26d",
   "metadata": {},
   "source": [
    "Principle: don’t make me implement what I don’t use\n",
    "\n"
   ]
  },
  {
   "cell_type": "code",
   "execution_count": 63,
   "id": "a9d9b043",
   "metadata": {},
   "outputs": [],
   "source": [
    "from typing import Protocol\n",
    "\n",
    "class Workable(Protocol):\n",
    "    def work(self) -> None: ...\n",
    "\n",
    "class Eatable(Protocol):\n",
    "    def eat(self) -> None: ...\n",
    "\n",
    "class Sleepable(Protocol):\n",
    "    def sleep(self) -> None: ...\n",
    "\n",
    "class Human(Workable, Eatable, Sleepable):\n",
    "    def work(self): print(\"Coding\")\n",
    "    def eat(self): print(\"Lunch\")\n",
    "    def sleep(self): print(\"Zzz\")\n",
    "\n",
    "class Robot(Workable):\n",
    "    def work(self): print(\"Assembling\")\n"
   ]
  },
  {
   "cell_type": "markdown",
   "id": "1653c1f6",
   "metadata": {},
   "source": [
    "### D — Dependency Inversion Principle"
   ]
  },
  {
   "cell_type": "code",
   "execution_count": 64,
   "id": "55c43560",
   "metadata": {},
   "outputs": [],
   "source": [
    "class MySQLReportRepo:\n",
    "    def save(self, report): print(\"Saved to MySQL\")\n",
    "\n",
    "class ReportService:\n",
    "    def __init__(self):\n",
    "        self.repo = MySQLReportRepo()  # hard dependency; what if we want to save to another database?\n",
    "\n",
    "    def generate(self, data):\n",
    "        report = f\"report:{data}\"\n",
    "        self.repo.save(report)\n"
   ]
  },
  {
   "cell_type": "markdown",
   "id": "8ef05a62",
   "metadata": {},
   "source": [
    "Depend on abstractions, not concretions. \\\n",
    "High-level rules shouldn’t know low-level details. Both sides depend on a small interface so you can swap implementations freely."
   ]
  },
  {
   "cell_type": "code",
   "execution_count": 65,
   "id": "e2871129",
   "metadata": {},
   "outputs": [],
   "source": [
    "from typing import Protocol\n",
    "\n",
    "class ReportRepo(Protocol):\n",
    "    def save(self, report: str) -> None: ...\n",
    "\n",
    "class MySQLReportRepo:\n",
    "    def save(self, report): print(\"Saved to MySQL\")\n",
    "\n",
    "class InMemoryReportRepo:\n",
    "    def __init__(self): self.store = []\n",
    "    def save(self, report): self.store.append(report)\n",
    "\n",
    "class ReportService:\n",
    "    def __init__(self, repo: ReportRepo):\n",
    "        self.repo = repo  # inversion via constructor\n",
    "\n",
    "    def generate(self, data: dict):\n",
    "        report = f\"report:{data}\"\n",
    "        self.repo.save(report)\n",
    "\n",
    "# Usage:\n",
    "# ReportService(MySQLReportRepo())  # prod\n",
    "# ReportService(InMemoryReportRepo())  # tests\n"
   ]
  },
  {
   "cell_type": "markdown",
   "id": "3a53db9d",
   "metadata": {},
   "source": [
    "*Note:* You get to know the idea better as you work on more and more projects."
   ]
  }
 ],
 "metadata": {
  "kernelspec": {
   "display_name": "Python 3",
   "language": "python",
   "name": "python3"
  },
  "language_info": {
   "codemirror_mode": {
    "name": "ipython",
    "version": 3
   },
   "file_extension": ".py",
   "mimetype": "text/x-python",
   "name": "python",
   "nbconvert_exporter": "python",
   "pygments_lexer": "ipython3",
   "version": "3.12.7"
  }
 },
 "nbformat": 4,
 "nbformat_minor": 5
}
