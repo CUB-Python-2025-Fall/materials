{
 "cells": [
  {
   "cell_type": "markdown",
   "id": "7e6e74ee",
   "metadata": {},
   "source": [
    "# Table of contents\n",
    "\n",
    "- Decorators\n",
    "- Context managers\n",
    "- Iterators\n",
    "- Generators"
   ]
  },
  {
   "cell_type": "markdown",
   "id": "061c1463",
   "metadata": {},
   "source": [
    "Reminder: 15-20 min per topic"
   ]
  },
  {
   "cell_type": "markdown",
   "id": "5a622f38",
   "metadata": {
    "vscode": {
     "languageId": "plaintext"
    }
   },
   "source": [
    "# Decorators"
   ]
  },
  {
   "cell_type": "markdown",
   "id": "aa7a10d2",
   "metadata": {},
   "source": [
    "A decorator is a function that takes another function and extends its behavior without modifying it directly."
   ]
  },
  {
   "cell_type": "code",
   "execution_count": 5,
   "id": "29f7ad26",
   "metadata": {},
   "outputs": [],
   "source": [
    "def logger(func):\n",
    "    def wrapper():\n",
    "        print(f\"Starting function: {func.__name__}\")\n",
    "        func()\n",
    "        print(f\"Finished function: {func.__name__}\")\n",
    "    return wrapper\n",
    "\n",
    "def greet():\n",
    "    print(\"Welcome to Python!\")\n",
    "\n",
    "@logger\n",
    "def greet_decorated():\n",
    "    print(\"Welcome to Python!\")"
   ]
  },
  {
   "cell_type": "code",
   "execution_count": 6,
   "id": "22ae6838",
   "metadata": {},
   "outputs": [
    {
     "name": "stdout",
     "output_type": "stream",
     "text": [
      "Welcome to Python!\n"
     ]
    }
   ],
   "source": [
    "greet()"
   ]
  },
  {
   "cell_type": "code",
   "execution_count": 7,
   "id": "5ebbc668",
   "metadata": {},
   "outputs": [
    {
     "name": "stdout",
     "output_type": "stream",
     "text": [
      "Starting function: greet_decorated\n",
      "Welcome to Python!\n",
      "Finished function: greet_decorated\n"
     ]
    }
   ],
   "source": [
    "greet_decorated()"
   ]
  },
  {
   "cell_type": "markdown",
   "id": "a35f080e",
   "metadata": {},
   "source": [
    "## Closures\n",
    "\n",
    "A closure is a function that carries some variables from the place it was created, so it can use them later."
   ]
  },
  {
   "cell_type": "markdown",
   "id": "27b85007",
   "metadata": {},
   "source": [
    "The existence of closures follows from the LEGB rule and the ability to treat functions as objects."
   ]
  },
  {
   "cell_type": "code",
   "execution_count": 8,
   "id": "fcbf06f2",
   "metadata": {},
   "outputs": [],
   "source": [
    "def make_adder(x):\n",
    "    # adder uses `x` from the enclosing scope (scope: make_adder)\n",
    "    def adder(y):\n",
    "        return x + y\n",
    "    return adder"
   ]
  },
  {
   "cell_type": "code",
   "execution_count": 9,
   "id": "787099eb",
   "metadata": {},
   "outputs": [
    {
     "data": {
      "text/plain": [
       "24"
      ]
     },
     "execution_count": 9,
     "metadata": {},
     "output_type": "execute_result"
    }
   ],
   "source": [
    "add_two  = make_adder(2)\n",
    "add_five = make_adder(5)\n",
    "\n",
    "add_two(7) + add_five(10)"
   ]
  },
  {
   "cell_type": "code",
   "execution_count": 10,
   "id": "6aeffb25",
   "metadata": {},
   "outputs": [
    {
     "data": {
      "text/plain": [
       "9"
      ]
     },
     "execution_count": 10,
     "metadata": {},
     "output_type": "execute_result"
    }
   ],
   "source": [
    "make_adder(2)(7)"
   ]
  },
  {
   "cell_type": "markdown",
   "id": "cc926063",
   "metadata": {},
   "source": [
    "<div class=\"alert alert-danger\">\n",
    "<b>Anti-pattern: </b> using complex closures\n",
    "</div>"
   ]
  },
  {
   "cell_type": "code",
   "execution_count": 11,
   "id": "a9f6c420",
   "metadata": {},
   "outputs": [
    {
     "name": "stdout",
     "output_type": "stream",
     "text": [
      "100 100\n",
      "1000000 100\n"
     ]
    }
   ],
   "source": [
    "def value_factory(value=10):\n",
    "    def get_value():\n",
    "        return value\n",
    "\n",
    "    def set_value(new_value):\n",
    "        nonlocal value\n",
    "        value = new_value\n",
    "        return value\n",
    "    \n",
    "    return get_value, set_value\n",
    "\n",
    "\n",
    "get_value, set_value = value_factory(100)\n",
    "get_value2, set_value2 = value_factory(100)\n",
    "print(get_value(), get_value2())\n",
    "\n",
    "set_value(10**6)\n",
    "\n",
    "print(get_value(), get_value2())"
   ]
  },
  {
   "cell_type": "markdown",
   "id": "b49120c1",
   "metadata": {},
   "source": [
    "\n",
    "# Decorators"
   ]
  },
  {
   "cell_type": "code",
   "execution_count": 13,
   "id": "685c106e",
   "metadata": {},
   "outputs": [
    {
     "name": "stderr",
     "output_type": "stream",
     "text": [
      "add is deprecated\n"
     ]
    },
    {
     "data": {
      "text/plain": [
       "3"
      ]
     },
     "execution_count": 13,
     "metadata": {},
     "output_type": "execute_result"
    }
   ],
   "source": [
    "import sys\n",
    "\n",
    "def deprecate(func):\n",
    "    def inner(*args, **kwargs):\n",
    "        print('{} is deprecated'.format(func.__name__),\n",
    "              file=sys.stderr)\n",
    "        return func(*args, **kwargs)\n",
    "    return inner\n",
    "\n",
    "def add(x, y):\n",
    "    return x + y\n",
    "\n",
    "decorated_add = deprecate(add)\n",
    "\n",
    "decorated_add(1, 2)"
   ]
  },
  {
   "cell_type": "markdown",
   "id": "24b5d5f0",
   "metadata": {},
   "source": [
    "### Decorator syntax"
   ]
  },
  {
   "cell_type": "code",
   "execution_count": 15,
   "id": "76afa466",
   "metadata": {},
   "outputs": [
    {
     "name": "stderr",
     "output_type": "stream",
     "text": [
      "add is deprecated\n"
     ]
    },
    {
     "data": {
      "text/plain": [
       "3"
      ]
     },
     "execution_count": 15,
     "metadata": {},
     "output_type": "execute_result"
    }
   ],
   "source": [
    "import sys\n",
    "\n",
    "def deprecated(func):\n",
    "    def wrapper(*args, **kwargs):\n",
    "        print('{} is deprecated'.format(func.__name__),\n",
    "              file=sys.stderr)\n",
    "        return func(*args, **kwargs)\n",
    "    return wrapper\n",
    "\n",
    "@deprecated\n",
    "def add(x, y):\n",
    "    return x + y\n",
    "\n",
    "add(1, 2)"
   ]
  },
  {
   "cell_type": "markdown",
   "id": "0ee517a8",
   "metadata": {},
   "source": [
    "### Pusheenize"
   ]
  },
  {
   "cell_type": "code",
   "execution_count": 17,
   "id": "77f23bfd",
   "metadata": {},
   "outputs": [
    {
     "data": {
      "text/html": [
       "<img src=\"https://media1.tenor.com/images/4a950a1e221d93e654047ecee711af5a/tenor.gif\">"
      ],
      "text/plain": [
       "<IPython.core.display.HTML object>"
      ]
     },
     "execution_count": 17,
     "metadata": {},
     "output_type": "execute_result"
    }
   ],
   "source": [
    "from IPython import display\n",
    "\n",
    "def pusheenize(func):\n",
    "    return display.HTML('<img src=\"https://media1.tenor.com/images/4a950a1e221d93e654047ecee711af5a/tenor.gif\">')\n",
    "\n",
    "@pusheenize\n",
    "def dummy_function(arg):\n",
    "    print(arg)\n",
    "\n",
    "# same as: dummy_function = pusheenize(dummy_function)\n",
    "\n",
    "dummy_function"
   ]
  },
  {
   "cell_type": "markdown",
   "id": "e6e70249",
   "metadata": {},
   "source": [
    "### Problem\n",
    "\n",
    "Docstrings (and other metadata such as `__name__` or type annotations) are lost when decorating a function."
   ]
  },
  {
   "cell_type": "code",
   "execution_count": 19,
   "id": "034492c5",
   "metadata": {},
   "outputs": [
    {
     "name": "stdout",
     "output_type": "stream",
     "text": [
      "\u001b[0;31mSignature:\u001b[0m \u001b[0mdeprecated\u001b[0m\u001b[0;34m(\u001b[0m\u001b[0mfunc\u001b[0m\u001b[0;34m)\u001b[0m\u001b[0;34m\u001b[0m\u001b[0;34m\u001b[0m\u001b[0m\n",
      "\u001b[0;31mDocstring:\u001b[0m <no docstring>\n",
      "\u001b[0;31mSource:\u001b[0m   \n",
      "\u001b[0;32mdef\u001b[0m \u001b[0mdeprecated\u001b[0m\u001b[0;34m(\u001b[0m\u001b[0mfunc\u001b[0m\u001b[0;34m)\u001b[0m\u001b[0;34m:\u001b[0m\u001b[0;34m\u001b[0m\n",
      "\u001b[0;34m\u001b[0m    \u001b[0;32mdef\u001b[0m \u001b[0mwrapper\u001b[0m\u001b[0;34m(\u001b[0m\u001b[0;34m*\u001b[0m\u001b[0margs\u001b[0m\u001b[0;34m,\u001b[0m \u001b[0;34m**\u001b[0m\u001b[0mkwargs\u001b[0m\u001b[0;34m)\u001b[0m\u001b[0;34m:\u001b[0m\u001b[0;34m\u001b[0m\n",
      "\u001b[0;34m\u001b[0m        \u001b[0mprint\u001b[0m\u001b[0;34m(\u001b[0m\u001b[0;34m'{} is deprecated'\u001b[0m\u001b[0;34m.\u001b[0m\u001b[0mformat\u001b[0m\u001b[0;34m(\u001b[0m\u001b[0mfunc\u001b[0m\u001b[0;34m.\u001b[0m\u001b[0m__name__\u001b[0m\u001b[0;34m)\u001b[0m\u001b[0;34m,\u001b[0m\u001b[0;34m\u001b[0m\n",
      "\u001b[0;34m\u001b[0m              \u001b[0mfile\u001b[0m\u001b[0;34m=\u001b[0m\u001b[0msys\u001b[0m\u001b[0;34m.\u001b[0m\u001b[0mstderr\u001b[0m\u001b[0;34m)\u001b[0m\u001b[0;34m\u001b[0m\n",
      "\u001b[0;34m\u001b[0m        \u001b[0;32mreturn\u001b[0m \u001b[0mfunc\u001b[0m\u001b[0;34m(\u001b[0m\u001b[0;34m*\u001b[0m\u001b[0margs\u001b[0m\u001b[0;34m,\u001b[0m \u001b[0;34m**\u001b[0m\u001b[0mkwargs\u001b[0m\u001b[0;34m)\u001b[0m\u001b[0;34m\u001b[0m\n",
      "\u001b[0;34m\u001b[0m    \u001b[0;32mreturn\u001b[0m \u001b[0mwrapper\u001b[0m\u001b[0;34m\u001b[0m\u001b[0;34m\u001b[0m\u001b[0m\n",
      "\u001b[0;31mFile:\u001b[0m      /var/folders/b6/nzh1jdk54nvfgrwy6hv3kg8c0000gp/T/ipykernel_96979/4264344600.py\n",
      "\u001b[0;31mType:\u001b[0m      function"
     ]
    }
   ],
   "source": [
    "deprecated??"
   ]
  },
  {
   "cell_type": "code",
   "execution_count": null,
   "id": "3ac513d2",
   "metadata": {},
   "outputs": [
    {
     "name": "stdout",
     "output_type": "stream",
     "text": [
      "\u001b[0;31mSignature:\u001b[0m \u001b[0mshow\u001b[0m\u001b[0;34m(\u001b[0m\u001b[0mx\u001b[0m\u001b[0;34m)\u001b[0m\u001b[0;34m\u001b[0m\u001b[0;34m\u001b[0m\u001b[0m\n",
      "\u001b[0;31mSource:\u001b[0m   \n",
      "\u001b[0;32mdef\u001b[0m \u001b[0mshow\u001b[0m\u001b[0;34m(\u001b[0m\u001b[0mx\u001b[0m\u001b[0;34m)\u001b[0m\u001b[0;34m:\u001b[0m\u001b[0;34m\u001b[0m\n",
      "\u001b[0;34m\u001b[0m    \u001b[0;34m'This is a really nice looking docstring'\u001b[0m\u001b[0;34m\u001b[0m\n",
      "\u001b[0;34m\u001b[0m    \u001b[0mprint\u001b[0m\u001b[0;34m(\u001b[0m\u001b[0mx\u001b[0m\u001b[0;34m)\u001b[0m\u001b[0;34m\u001b[0m\u001b[0;34m\u001b[0m\u001b[0m\n",
      "\u001b[0;31mFile:\u001b[0m      /var/folders/b6/nzh1jdk54nvfgrwy6hv3kg8c0000gp/T/ipykernel_96979/1015997436.py\n",
      "\u001b[0;31mType:\u001b[0m      function"
     ]
    }
   ],
   "source": [
    "def show(x):\n",
    "    'This is a really nice looking docstring'\n",
    "    print(x)\n",
    "\n",
    "show??"
   ]
  },
  {
   "cell_type": "code",
   "execution_count": 30,
   "id": "a0d5a41b",
   "metadata": {},
   "outputs": [
    {
     "data": {
      "text/plain": [
       "'This is a really nice looking docstring'"
      ]
     },
     "execution_count": 30,
     "metadata": {},
     "output_type": "execute_result"
    }
   ],
   "source": [
    "show.__doc__"
   ]
  },
  {
   "cell_type": "code",
   "execution_count": 32,
   "id": "c2987e16",
   "metadata": {},
   "outputs": [
    {
     "name": "stdout",
     "output_type": "stream",
     "text": [
      "wrapper\n",
      "None\n"
     ]
    }
   ],
   "source": [
    "@deprecated\n",
    "def show(x):\n",
    "    'This is a really nice looking docstring'\n",
    "    print(x)\n",
    "\n",
    "print(show.__name__)\n",
    "print(show.__doc__)"
   ]
  },
  {
   "cell_type": "code",
   "execution_count": 33,
   "id": "f784dac3",
   "metadata": {},
   "outputs": [
    {
     "name": "stdout",
     "output_type": "stream",
     "text": [
      "\u001b[0;31mSignature:\u001b[0m \u001b[0mshow\u001b[0m\u001b[0;34m(\u001b[0m\u001b[0;34m*\u001b[0m\u001b[0margs\u001b[0m\u001b[0;34m,\u001b[0m \u001b[0;34m**\u001b[0m\u001b[0mkwargs\u001b[0m\u001b[0;34m)\u001b[0m\u001b[0;34m\u001b[0m\u001b[0;34m\u001b[0m\u001b[0m\n",
      "\u001b[0;31mDocstring:\u001b[0m <no docstring>\n",
      "\u001b[0;31mSource:\u001b[0m   \n",
      "    \u001b[0;32mdef\u001b[0m \u001b[0mwrapper\u001b[0m\u001b[0;34m(\u001b[0m\u001b[0;34m*\u001b[0m\u001b[0margs\u001b[0m\u001b[0;34m,\u001b[0m \u001b[0;34m**\u001b[0m\u001b[0mkwargs\u001b[0m\u001b[0;34m)\u001b[0m\u001b[0;34m:\u001b[0m\u001b[0;34m\u001b[0m\n",
      "\u001b[0;34m\u001b[0m        \u001b[0mprint\u001b[0m\u001b[0;34m(\u001b[0m\u001b[0;34m'{} is deprecated'\u001b[0m\u001b[0;34m.\u001b[0m\u001b[0mformat\u001b[0m\u001b[0;34m(\u001b[0m\u001b[0mfunc\u001b[0m\u001b[0;34m.\u001b[0m\u001b[0m__name__\u001b[0m\u001b[0;34m)\u001b[0m\u001b[0;34m,\u001b[0m\u001b[0;34m\u001b[0m\n",
      "\u001b[0;34m\u001b[0m              \u001b[0mfile\u001b[0m\u001b[0;34m=\u001b[0m\u001b[0msys\u001b[0m\u001b[0;34m.\u001b[0m\u001b[0mstderr\u001b[0m\u001b[0;34m)\u001b[0m\u001b[0;34m\u001b[0m\n",
      "\u001b[0;34m\u001b[0m        \u001b[0;32mreturn\u001b[0m \u001b[0mfunc\u001b[0m\u001b[0;34m(\u001b[0m\u001b[0;34m*\u001b[0m\u001b[0margs\u001b[0m\u001b[0;34m,\u001b[0m \u001b[0;34m**\u001b[0m\u001b[0mkwargs\u001b[0m\u001b[0;34m)\u001b[0m\u001b[0;34m\u001b[0m\u001b[0;34m\u001b[0m\u001b[0m\n",
      "\u001b[0;31mFile:\u001b[0m      /var/folders/b6/nzh1jdk54nvfgrwy6hv3kg8c0000gp/T/ipykernel_96979/4264344600.py\n",
      "\u001b[0;31mType:\u001b[0m      function"
     ]
    }
   ],
   "source": [
    "show??"
   ]
  },
  {
   "cell_type": "markdown",
   "id": "0131d723",
   "metadata": {},
   "source": [
    "### Solution 1"
   ]
  },
  {
   "cell_type": "code",
   "execution_count": 35,
   "id": "bc17384b",
   "metadata": {},
   "outputs": [
    {
     "name": "stdout",
     "output_type": "stream",
     "text": [
      "show\n",
      "This is a really nice looking docstring\n"
     ]
    }
   ],
   "source": [
    "def deprecated(func):\n",
    "    def wrapper(*args, **kwargs):\n",
    "        print('{} is deprecated!'.format(func.__name__),\n",
    "              file=sys.stderr)\n",
    "        return func(*args, **kwargs)\n",
    "    wrapper.__name__ = func.__name__\n",
    "    wrapper.__doc__ = func.__doc__\n",
    "    wrapper.__module__ = func.__module__\n",
    "    return wrapper\n",
    "\n",
    "@deprecated\n",
    "def show(x):\n",
    "    'This is a really nice looking docstring'\n",
    "    print(x)\n",
    "\n",
    "print(show.__name__)\n",
    "print(show.__doc__)"
   ]
  },
  {
   "cell_type": "markdown",
   "id": "be1ea3f2",
   "metadata": {},
   "source": [
    "### Solution 2"
   ]
  },
  {
   "cell_type": "markdown",
   "id": "7ab14361",
   "metadata": {},
   "source": [
    "Use decorator to solve decorators problem!"
   ]
  },
  {
   "cell_type": "code",
   "execution_count": 36,
   "id": "40ba2f2a",
   "metadata": {},
   "outputs": [
    {
     "name": "stdout",
     "output_type": "stream",
     "text": [
      "show\n",
      "This is a really nice looking docstring\n"
     ]
    }
   ],
   "source": [
    "from functools import wraps\n",
    "\n",
    "def deprecated(func):\n",
    "    @wraps(func)\n",
    "    def wrapper(*args, **kwargs):\n",
    "        print('{} is deprecated!'.format(func.__name__),\n",
    "              file=sys.stderr)\n",
    "        return func(*args, **kwargs)\n",
    "    return wrapper\n",
    "\n",
    "@deprecated\n",
    "def show(x):\n",
    "    'This is a really nice looking docstring'\n",
    "    print(x)\n",
    "\n",
    "print(show.__name__)\n",
    "print(show.__doc__)"
   ]
  },
  {
   "cell_type": "markdown",
   "id": "d4e8ebe0",
   "metadata": {},
   "source": [
    "optional"
   ]
  },
  {
   "cell_type": "markdown",
   "id": "f00baabc",
   "metadata": {},
   "source": [
    "### Once decorator"
   ]
  },
  {
   "cell_type": "code",
   "execution_count": 38,
   "id": "88c86a14",
   "metadata": {},
   "outputs": [
    {
     "name": "stdout",
     "output_type": "stream",
     "text": [
      "Hi!\n"
     ]
    }
   ],
   "source": [
    "def once(func):\n",
    "    called = False\n",
    "\n",
    "    def wrapper(*args, **kwargs):\n",
    "        nonlocal called\n",
    "        if not called:\n",
    "            called = True\n",
    "            return func(*args, **kwargs)\n",
    "\n",
    "    return wrapper\n",
    "\n",
    "@once\n",
    "def f():\n",
    "    print('Hi!')\n",
    "    \n",
    "@once\n",
    "def g():\n",
    "    print(\"Buy!\")\n",
    "\n",
    "\n",
    "f()\n",
    "f()"
   ]
  },
  {
   "cell_type": "code",
   "execution_count": null,
   "id": "cc8f3f49",
   "metadata": {},
   "outputs": [],
   "source": [
    "import functools\n",
    "import sys\n",
    "\n",
    "def trace(dest=sys.stderr):\n",
    "    def wraps(func):\n",
    "        @functools.wraps(func)\n",
    "        def wrapper(*args, **kwargs):\n",
    "            print(\n",
    "                f'{func.__name__} called with args {args}, {kwargs}!',\n",
    "                file=dest\n",
    "            )\n",
    "            return func(*args, **kwargs)\n",
    "        return wrapper\n",
    "    return wraps\n",
    "\n",
    "@trace(sys.stdout)\n",
    "def f(x, test):\n",
    "    if test > 1:\n",
    "        return f(x, test / 2)\n",
    "\n",
    "f('Hi!', test=42)"
   ]
  },
  {
   "cell_type": "markdown",
   "id": "6bff5355",
   "metadata": {},
   "source": [
    "# Context Managers"
   ]
  },
  {
   "cell_type": "markdown",
   "id": "19df47c4",
   "metadata": {},
   "source": [
    "How can we guarantee that a certain action will run regardless of whether an exception occurred or not?"
   ]
  },
  {
   "cell_type": "code",
   "execution_count": 40,
   "id": "7f322b8c",
   "metadata": {},
   "outputs": [
    {
     "name": "stdout",
     "output_type": "stream",
     "text": [
      "Closing file\n",
      "File closed\n"
     ]
    },
    {
     "ename": "RuntimeError",
     "evalue": "Not today!",
     "output_type": "error",
     "traceback": [
      "\u001b[0;31m---------------------------------------------------------------------------\u001b[0m",
      "\u001b[0;31mRuntimeError\u001b[0m                              Traceback (most recent call last)",
      "Cell \u001b[0;32mIn[40], line 6\u001b[0m\n\u001b[1;32m      4\u001b[0m fd \u001b[38;5;241m=\u001b[39m \u001b[38;5;28mopen\u001b[39m(\u001b[38;5;124m'\u001b[39m\u001b[38;5;124mmyfile.txt\u001b[39m\u001b[38;5;124m'\u001b[39m, \u001b[38;5;124m'\u001b[39m\u001b[38;5;124mw\u001b[39m\u001b[38;5;124m'\u001b[39m)\n\u001b[1;32m      5\u001b[0m \u001b[38;5;28;01mtry\u001b[39;00m:\n\u001b[0;32m----> 6\u001b[0m     \u001b[43mdo_something_dangerous\u001b[49m\u001b[43m(\u001b[49m\u001b[43mfd\u001b[49m\u001b[43m)\u001b[49m\n\u001b[1;32m      7\u001b[0m \u001b[38;5;28;01mfinally\u001b[39;00m:\n\u001b[1;32m      8\u001b[0m     \u001b[38;5;28mprint\u001b[39m(\u001b[38;5;124m'\u001b[39m\u001b[38;5;124mClosing file\u001b[39m\u001b[38;5;124m'\u001b[39m)\n",
      "Cell \u001b[0;32mIn[40], line 2\u001b[0m, in \u001b[0;36mdo_something_dangerous\u001b[0;34m(fd)\u001b[0m\n\u001b[1;32m      1\u001b[0m \u001b[38;5;28;01mdef\u001b[39;00m \u001b[38;5;21mdo_something_dangerous\u001b[39m(fd):\n\u001b[0;32m----> 2\u001b[0m     \u001b[38;5;28;01mraise\u001b[39;00m \u001b[38;5;167;01mRuntimeError\u001b[39;00m(\u001b[38;5;124m'\u001b[39m\u001b[38;5;124mNot today!\u001b[39m\u001b[38;5;124m'\u001b[39m)\n",
      "\u001b[0;31mRuntimeError\u001b[0m: Not today!"
     ]
    }
   ],
   "source": [
    "def do_something_dangerous(fd):\n",
    "    raise RuntimeError('Not today!')\n",
    "\n",
    "fd = open('myfile.txt', 'w')\n",
    "try:\n",
    "    do_something_dangerous(fd)\n",
    "finally:\n",
    "    print('Closing file')\n",
    "    fd.close()\n",
    "    print('File closed')"
   ]
  },
  {
   "cell_type": "markdown",
   "id": "854f8335",
   "metadata": {},
   "source": [
    "Context managers provide a convenient way to perform initialization and guaranteed finalization of a “context”."
   ]
  },
  {
   "cell_type": "code",
   "execution_count": null,
   "id": "3361ef1c",
   "metadata": {},
   "outputs": [],
   "source": [
    "r = acquire_resource()\n",
    "try:\n",
    "    use_resource(r)\n",
    "finally:\n",
    "    release_resource(r)"
   ]
  },
  {
   "cell_type": "code",
   "execution_count": null,
   "id": "ba0006eb",
   "metadata": {},
   "outputs": [],
   "source": [
    "with acquire_resource() as r:\n",
    "    use_resource(r)"
   ]
  },
  {
   "cell_type": "markdown",
   "id": "151625e4",
   "metadata": {},
   "source": [
    "Idea: associate `acquire` with `release` so that `release` is called regardless"
   ]
  },
  {
   "cell_type": "markdown",
   "id": "20163840",
   "metadata": {},
   "source": [
    "### Examples"
   ]
  },
  {
   "cell_type": "markdown",
   "id": "99023c44",
   "metadata": {},
   "source": [
    "Examples of context managers: `open`"
   ]
  },
  {
   "cell_type": "code",
   "execution_count": 1,
   "id": "d28667e7",
   "metadata": {},
   "outputs": [
    {
     "ename": "ValueError",
     "evalue": "I/O operation on closed file.",
     "output_type": "error",
     "traceback": [
      "\u001b[0;31m---------------------------------------------------------------------------\u001b[0m",
      "\u001b[0;31mValueError\u001b[0m                                Traceback (most recent call last)",
      "Cell \u001b[0;32mIn[1], line 4\u001b[0m\n\u001b[1;32m      2\u001b[0m     fd\u001b[38;5;241m.\u001b[39mwrite(\u001b[38;5;124m\"\u001b[39m\u001b[38;5;124mHello\u001b[39m\u001b[38;5;124m\"\u001b[39m)\n\u001b[1;32m      3\u001b[0m \u001b[38;5;66;03m# file is closed\u001b[39;00m\n\u001b[0;32m----> 4\u001b[0m \u001b[43mfd\u001b[49m\u001b[38;5;241;43m.\u001b[39;49m\u001b[43mwrite\u001b[49m\u001b[43m(\u001b[49m\u001b[38;5;124;43m\"\u001b[39;49m\u001b[38;5;124;43mworld\u001b[39;49m\u001b[38;5;124;43m\"\u001b[39;49m\u001b[43m)\u001b[49m\n",
      "\u001b[0;31mValueError\u001b[0m: I/O operation on closed file."
     ]
    }
   ],
   "source": [
    "with open('filename.txt', 'w') as fd:\n",
    "    fd.write(\"Hello\")\n",
    "# file is closed\n",
    "fd.write(\"world\")"
   ]
  },
  {
   "cell_type": "markdown",
   "id": "a71ee4ae",
   "metadata": {},
   "source": [
    "Examples of context managers: `tempfile`"
   ]
  },
  {
   "cell_type": "code",
   "execution_count": null,
   "id": "506359e1",
   "metadata": {},
   "outputs": [],
   "source": [
    "import tempfile\n",
    "\n",
    "with tempfile.TemporaryFile() as tmp:\n",
    "    do_something(tmp)\n",
    "# tmp file is removed"
   ]
  },
  {
   "cell_type": "markdown",
   "id": "801315b2",
   "metadata": {},
   "source": [
    "Examples of context managers: `pytest`"
   ]
  },
  {
   "cell_type": "code",
   "execution_count": 10,
   "id": "b4b2095d",
   "metadata": {},
   "outputs": [
    {
     "ename": "RuntimeError",
     "evalue": "Not today!",
     "output_type": "error",
     "traceback": [
      "\u001b[0;31m---------------------------------------------------------------------------\u001b[0m",
      "\u001b[0;31mRuntimeError\u001b[0m                              Traceback (most recent call last)",
      "Cell \u001b[0;32mIn[10], line 1\u001b[0m\n\u001b[0;32m----> 1\u001b[0m \u001b[38;5;28;01mraise\u001b[39;00m \u001b[38;5;167;01mRuntimeError\u001b[39;00m(\u001b[38;5;124m'\u001b[39m\u001b[38;5;124mNot today!\u001b[39m\u001b[38;5;124m'\u001b[39m)\n",
      "\u001b[0;31mRuntimeError\u001b[0m: Not today!"
     ]
    }
   ],
   "source": [
    "raise RuntimeError('Not today!')"
   ]
  },
  {
   "cell_type": "code",
   "execution_count": 13,
   "id": "d8b9094c",
   "metadata": {},
   "outputs": [
    {
     "ename": "Failed",
     "evalue": "DID NOT RAISE <class 'ZeroDivisionError'>",
     "output_type": "error",
     "traceback": [
      "\u001b[0;31m---------------------------------------------------------------------------\u001b[0m",
      "\u001b[0;31mFailed\u001b[0m                                    Traceback (most recent call last)",
      "Cell \u001b[0;32mIn[13], line 2\u001b[0m\n\u001b[1;32m      1\u001b[0m \u001b[38;5;28;01mimport\u001b[39;00m \u001b[38;5;21;01mpytest\u001b[39;00m\n\u001b[0;32m----> 2\u001b[0m \u001b[38;5;28;01mwith\u001b[39;00m \u001b[43mpytest\u001b[49m\u001b[38;5;241;43m.\u001b[39;49m\u001b[43mraises\u001b[49m\u001b[43m(\u001b[49m\u001b[38;5;167;43;01mZeroDivisionError\u001b[39;49;00m\u001b[43m)\u001b[49m:\n\u001b[1;32m      3\u001b[0m     \u001b[38;5;66;03m# a = 1 / 0\u001b[39;00m\n\u001b[1;32m      4\u001b[0m     \u001b[38;5;66;03m# raise RuntimeError('Not today!')\u001b[39;00m\n\u001b[1;32m      5\u001b[0m     \u001b[38;5;66;03m# raise MemoryError('Not today!')\u001b[39;00m\n\u001b[1;32m      6\u001b[0m     \u001b[38;5;66;03m# raise KeyboardInterrupt('Not today!')\u001b[39;00m\n\u001b[1;32m      7\u001b[0m     \u001b[38;5;28;01mpass\u001b[39;00m\n",
      "    \u001b[0;31m[... skipping hidden 1 frame]\u001b[0m\n",
      "File \u001b[0;32m/Library/Frameworks/Python.framework/Versions/3.12/lib/python3.12/site-packages/_pytest/outcomes.py:178\u001b[0m, in \u001b[0;36mfail\u001b[0;34m(reason, pytrace)\u001b[0m\n\u001b[1;32m    165\u001b[0m \u001b[38;5;250m\u001b[39m\u001b[38;5;124;03m\"\"\"Explicitly fail an executing test with the given message.\u001b[39;00m\n\u001b[1;32m    166\u001b[0m \n\u001b[1;32m    167\u001b[0m \u001b[38;5;124;03m:param reason:\u001b[39;00m\n\u001b[0;32m   (...)\u001b[0m\n\u001b[1;32m    175\u001b[0m \u001b[38;5;124;03m    The exception that is raised.\u001b[39;00m\n\u001b[1;32m    176\u001b[0m \u001b[38;5;124;03m\"\"\"\u001b[39;00m\n\u001b[1;32m    177\u001b[0m __tracebackhide__ \u001b[38;5;241m=\u001b[39m \u001b[38;5;28;01mTrue\u001b[39;00m\n\u001b[0;32m--> 178\u001b[0m \u001b[38;5;28;01mraise\u001b[39;00m Failed(msg\u001b[38;5;241m=\u001b[39mreason, pytrace\u001b[38;5;241m=\u001b[39mpytrace)\n",
      "\u001b[0;31mFailed\u001b[0m: DID NOT RAISE <class 'ZeroDivisionError'>"
     ]
    }
   ],
   "source": [
    "import pytest\n",
    "with pytest.raises(ZeroDivisionError):\n",
    "    # a = 1 / 0\n",
    "    # raise RuntimeError('Not today!')\n",
    "    # raise MemoryError('Not today!')\n",
    "    # raise KeyboardInterrupt('Not today!')\n",
    "    pass\n"
   ]
  },
  {
   "cell_type": "code",
   "execution_count": null,
   "id": "c5be01c9",
   "metadata": {},
   "outputs": [],
   "source": [
    "\n",
    "# ZeroDivisionError is not expected to occur anymore and will cause test to fail\n",
    "with pytest.raises(ZeroDivisionError):\n",
    "    a = 0 / 1"
   ]
  },
  {
   "cell_type": "markdown",
   "id": "da80ce37",
   "metadata": {},
   "source": [
    "Context managers are objects that implement a special protocol \\\n",
    "In other words, you can create your own context managers by following the protocol."
   ]
  },
  {
   "cell_type": "code",
   "execution_count": 14,
   "id": "032cf162",
   "metadata": {},
   "outputs": [],
   "source": [
    "import typing as tp\n",
    "from types import TracebackType\n",
    "\n",
    "class MyContextManager:\n",
    "    def __enter__(self) -> tp.Self: # with () as X; analogue of acquire()\n",
    "        # initialize context\n",
    "        # e.g. open a file, connect to a database, etc.\n",
    "        return self\n",
    "    \n",
    "    def __exit__(self,\n",
    "                 exc_type: type[BaseException] | None,\n",
    "                 exc_value: BaseException | None,\n",
    "                 traceback: TracebackType | None) -> bool | None:  # analogue of release()\n",
    "        # finalize context\n",
    "        # e.g. close a file, disconnect from a database, etc.\n",
    "        if exc_value is not None:\n",
    "            return True  # return True from __exit__ to suppress the exception"
   ]
  },
  {
   "cell_type": "markdown",
   "id": "8d04ebce",
   "metadata": {},
   "source": [
    "Semantics"
   ]
  },
  {
   "cell_type": "code",
   "execution_count": null,
   "id": "a138bcda",
   "metadata": {},
   "outputs": [],
   "source": [
    "with acquire_resource() as resource:\n",
    "    use_resource(resource)"
   ]
  },
  {
   "cell_type": "code",
   "execution_count": null,
   "id": "7a3b2df5",
   "metadata": {},
   "outputs": [],
   "source": [
    "manager = acquire_resource()  # Manager.__init__\n",
    "resource = manager.__enter__()\n",
    "try:\n",
    "    use_resource(resource)\n",
    "finally:\n",
    "    exc_type, exc_value, traceback = sys.exc_info()\n",
    "    suppress = manager.__exit__(exc_type, exc_value, traceback)\n",
    "    if exc_value is not None and not suppress:\n",
    "        raise exc_value"
   ]
  },
  {
   "cell_type": "markdown",
   "id": "c1edd9db",
   "metadata": {},
   "source": [
    "Semi-joking example"
   ]
  },
  {
   "cell_type": "code",
   "execution_count": null,
   "id": "d1ebc58d",
   "metadata": {},
   "outputs": [
    {
     "name": "stdout",
     "output_type": "stream",
     "text": [
      "<table>\n",
      "<tr>\n",
      "<td>\n",
      "cell 1\n",
      "</td>\n",
      "<td>\n",
      "cell 2\n",
      "</td>\n",
      "</tr>\n",
      "</broken_table>\n"
     ]
    }
   ],
   "source": [
    "class Tag:\n",
    "    def __init__(self, name):\n",
    "        self.name = name\n",
    "    def __enter__(self):\n",
    "        print(f\"<{self.name}>\")\n",
    "        return self\n",
    "    \n",
    "    def __exit__(self, *args):\n",
    "        print(f\"</{self.name}>\")\n",
    "        \n",
    "    def update(self, new_name):\n",
    "        self.name = new_name\n",
    "\n",
    "        \n",
    "with Tag('table') as table:\n",
    "    table.update(\"broken_table\")\n",
    "    with Tag('tr'):\n",
    "        with Tag('td'):\n",
    "            print('cell 1')\n",
    "        with Tag('td'):\n",
    "            print('cell 2')\n",
    "# here"
   ]
  },
  {
   "cell_type": "code",
   "execution_count": 16,
   "id": "5163cc5e",
   "metadata": {},
   "outputs": [
    {
     "name": "stdout",
     "output_type": "stream",
     "text": [
      "CPU times: user 888 μs, sys: 1.53 ms, total: 2.42 ms\n",
      "Wall time: 2.01 s\n"
     ]
    },
    {
     "data": {
      "text/plain": [
       "100"
      ]
     },
     "execution_count": 16,
     "metadata": {},
     "output_type": "execute_result"
    }
   ],
   "source": [
    "%%time\n",
    "import time\n",
    "\n",
    "def cached(func):\n",
    "    cache = {}\n",
    "    def wrapper(*args, **kwargs):\n",
    "        key = (args, tuple(kwargs.items()))\n",
    "        if key not in cache:\n",
    "            cache[key] = func(*args, **kwargs)\n",
    "        return cache[key]\n",
    "    return wrapper\n",
    "\n",
    "@cached\n",
    "def calculate_hard(x):\n",
    "    time.sleep(1)\n",
    "    return x * x\n",
    "\n",
    "calculate_hard(10)\n",
    "calculate_hard(3)\n",
    "calculate_hard(10)\n"
   ]
  },
  {
   "cell_type": "markdown",
   "id": "4db0ec9e",
   "metadata": {},
   "source": [
    "# Iterators"
   ]
  },
  {
   "cell_type": "code",
   "execution_count": 17,
   "id": "5a97a165",
   "metadata": {},
   "outputs": [],
   "source": [
    "!touch file.txt"
   ]
  },
  {
   "cell_type": "code",
   "execution_count": 19,
   "id": "897d4c61",
   "metadata": {},
   "outputs": [],
   "source": [
    "for i in range(5):\n",
    "    pass\n",
    "    \n",
    "for line in open('file.txt'):\n",
    "    pass\n",
    "\n",
    "for key in {'A' : 1, 'B' : 2, 'C' : 3}:\n",
    "    pass\n",
    "    \n",
    "for letter in 'Hello, World':\n",
    "    pass"
   ]
  },
  {
   "cell_type": "code",
   "execution_count": 20,
   "id": "5c053cd1",
   "metadata": {},
   "outputs": [
    {
     "data": {
      "text/plain": [
       "<list_iterator at 0x1051ac8b0>"
      ]
     },
     "execution_count": 20,
     "metadata": {},
     "output_type": "execute_result"
    }
   ],
   "source": [
    "iterable = [1, 2, 3]\n",
    "iterator = iterable.__iter__()\n",
    "iterator"
   ]
  },
  {
   "cell_type": "code",
   "execution_count": 21,
   "id": "5e5f4068",
   "metadata": {},
   "outputs": [
    {
     "data": {
      "text/plain": [
       "1"
      ]
     },
     "execution_count": 21,
     "metadata": {},
     "output_type": "execute_result"
    }
   ],
   "source": [
    "iterator.__next__()"
   ]
  },
  {
   "cell_type": "code",
   "execution_count": 22,
   "id": "789fdb24",
   "metadata": {},
   "outputs": [
    {
     "data": {
      "text/plain": [
       "2"
      ]
     },
     "execution_count": 22,
     "metadata": {},
     "output_type": "execute_result"
    }
   ],
   "source": [
    "iterator.__next__()"
   ]
  },
  {
   "cell_type": "code",
   "execution_count": 23,
   "id": "2833314f",
   "metadata": {},
   "outputs": [
    {
     "data": {
      "text/plain": [
       "3"
      ]
     },
     "execution_count": 23,
     "metadata": {},
     "output_type": "execute_result"
    }
   ],
   "source": [
    "iterator.__next__()"
   ]
  },
  {
   "cell_type": "code",
   "execution_count": 24,
   "id": "4c36a2f7",
   "metadata": {},
   "outputs": [
    {
     "ename": "StopIteration",
     "evalue": "",
     "output_type": "error",
     "traceback": [
      "\u001b[0;31m---------------------------------------------------------------------------\u001b[0m",
      "\u001b[0;31mStopIteration\u001b[0m                             Traceback (most recent call last)",
      "Cell \u001b[0;32mIn[24], line 1\u001b[0m\n\u001b[0;32m----> 1\u001b[0m \u001b[43miterator\u001b[49m\u001b[38;5;241;43m.\u001b[39;49m\u001b[38;5;21;43m__next__\u001b[39;49m\u001b[43m(\u001b[49m\u001b[43m)\u001b[49m\n",
      "\u001b[0;31mStopIteration\u001b[0m: "
     ]
    }
   ],
   "source": [
    "iterator.__next__()"
   ]
  },
  {
   "cell_type": "code",
   "execution_count": 25,
   "id": "801e8d20",
   "metadata": {},
   "outputs": [
    {
     "ename": "StopIteration",
     "evalue": "",
     "output_type": "error",
     "traceback": [
      "\u001b[0;31m---------------------------------------------------------------------------\u001b[0m",
      "\u001b[0;31mStopIteration\u001b[0m                             Traceback (most recent call last)",
      "Cell \u001b[0;32mIn[25], line 1\u001b[0m\n\u001b[0;32m----> 1\u001b[0m \u001b[43miterator\u001b[49m\u001b[38;5;241;43m.\u001b[39;49m\u001b[38;5;21;43m__next__\u001b[39;49m\u001b[43m(\u001b[49m\u001b[43m)\u001b[49m\n",
      "\u001b[0;31mStopIteration\u001b[0m: "
     ]
    }
   ],
   "source": [
    "iterator.__next__()"
   ]
  },
  {
   "cell_type": "markdown",
   "id": "b6e5c096",
   "metadata": {},
   "source": [
    "### [Iterable](https://docs.python.org/3/glossary.html#term-iterator)\n",
    "\n",
    "This is an object that has a defined `__iter__` method, that returns an **iterator**."
   ]
  },
  {
   "cell_type": "markdown",
   "id": "60bb02a3",
   "metadata": {},
   "source": [
    "Examples: `list`, `dict`, `range`"
   ]
  },
  {
   "cell_type": "markdown",
   "id": "195a2998",
   "metadata": {},
   "source": [
    "### [Iterator](https://docs.python.org/3/glossary.html#term-iterator)\n",
    "\n",
    "This is an object that defines the `__iter__` and `__next__` methods."
   ]
  },
  {
   "cell_type": "markdown",
   "id": "62a0e131",
   "metadata": {},
   "source": [
    "The `__iter__` method must return the iterator itself (`self`)."
   ]
  },
  {
   "cell_type": "markdown",
   "id": "920448ad",
   "metadata": {},
   "source": [
    "The `__next__` method must return the next element, and if none remain, raise a `StopIteration` exception."
   ]
  },
  {
   "cell_type": "markdown",
   "id": "15f23573",
   "metadata": {},
   "source": [
    "## [iter](https://docs.python.org/3/library/functions.html#iter) & [next](https://docs.python.org/3/library/functions.html#next)"
   ]
  },
  {
   "cell_type": "code",
   "execution_count": 27,
   "id": "a586a471",
   "metadata": {},
   "outputs": [
    {
     "data": {
      "text/plain": [
       "<list_iterator at 0x1051ac8e0>"
      ]
     },
     "execution_count": 27,
     "metadata": {},
     "output_type": "execute_result"
    }
   ],
   "source": [
    "iterator = iter([1])  # same as [1].__iter__()\n",
    "iterator"
   ]
  },
  {
   "cell_type": "code",
   "execution_count": 28,
   "id": "2b1e4d5f",
   "metadata": {},
   "outputs": [
    {
     "data": {
      "text/plain": [
       "1"
      ]
     },
     "execution_count": 28,
     "metadata": {},
     "output_type": "execute_result"
    }
   ],
   "source": [
    "next(iterator)  # same as iterator.__next__()"
   ]
  },
  {
   "cell_type": "code",
   "execution_count": 29,
   "id": "e05a07b2",
   "metadata": {},
   "outputs": [
    {
     "ename": "StopIteration",
     "evalue": "",
     "output_type": "error",
     "traceback": [
      "\u001b[0;31m---------------------------------------------------------------------------\u001b[0m",
      "\u001b[0;31mStopIteration\u001b[0m                             Traceback (most recent call last)",
      "Cell \u001b[0;32mIn[29], line 1\u001b[0m\n\u001b[0;32m----> 1\u001b[0m \u001b[38;5;28;43mnext\u001b[39;49m\u001b[43m(\u001b[49m\u001b[43miterator\u001b[49m\u001b[43m)\u001b[49m\n",
      "\u001b[0;31mStopIteration\u001b[0m: "
     ]
    }
   ],
   "source": [
    "next(iterator)"
   ]
  },
  {
   "cell_type": "code",
   "execution_count": 31,
   "id": "1c42d0f4",
   "metadata": {},
   "outputs": [
    {
     "data": {
      "text/plain": [
       "'some value'"
      ]
     },
     "execution_count": 31,
     "metadata": {},
     "output_type": "execute_result"
    }
   ],
   "source": [
    "next(iterator, 'some value')"
   ]
  },
  {
   "cell_type": "markdown",
   "id": "b9d054fd",
   "metadata": {},
   "source": [
    "## Implementing a `for` loop via `while`"
   ]
  },
  {
   "cell_type": "markdown",
   "id": "fe633489",
   "metadata": {},
   "source": [
    "Let's take a deeper look at how `for` loops work."
   ]
  },
  {
   "cell_type": "code",
   "execution_count": null,
   "id": "9cac8ba7",
   "metadata": {},
   "outputs": [],
   "source": [
    "for value in sequence:\n",
    "    ..."
   ]
  },
  {
   "cell_type": "code",
   "execution_count": null,
   "id": "6c5e0a49",
   "metadata": {},
   "outputs": [],
   "source": [
    "iterator = iter(sequence)\n",
    "while True:\n",
    "    try:\n",
    "        value = next(iterator)\n",
    "    except StopIteration:\n",
    "        break\n",
    "    else:\n",
    "        ...  # else branch of `for` loop"
   ]
  },
  {
   "cell_type": "markdown",
   "id": "85871cca",
   "metadata": {},
   "source": [
    "Iterators are mutable"
   ]
  },
  {
   "cell_type": "code",
   "execution_count": 32,
   "id": "f96b1a38",
   "metadata": {},
   "outputs": [
    {
     "data": {
      "text/plain": [
       "(0, 1, 2)"
      ]
     },
     "execution_count": 32,
     "metadata": {},
     "output_type": "execute_result"
    }
   ],
   "source": [
    "iterable = range(10)\n",
    "iterator = iter(iterable)\n",
    "same_iterator = iterator\n",
    "next(iterator), next(iterator), next(iterator)"
   ]
  },
  {
   "cell_type": "code",
   "execution_count": 33,
   "id": "a8bd261c",
   "metadata": {},
   "outputs": [
    {
     "data": {
      "text/plain": [
       "3"
      ]
     },
     "execution_count": 33,
     "metadata": {},
     "output_type": "execute_result"
    }
   ],
   "source": [
    "next(same_iterator)"
   ]
  },
  {
   "cell_type": "markdown",
   "id": "2e0dbf02",
   "metadata": {},
   "source": [
    "### Custom iterators"
   ]
  },
  {
   "cell_type": "code",
   "execution_count": 34,
   "id": "643245de",
   "metadata": {},
   "outputs": [
    {
     "name": "stdout",
     "output_type": "stream",
     "text": [
      "0 1 2 3 4 "
     ]
    }
   ],
   "source": [
    "class MyRange:\n",
    "    def __init__(self, start: int, stop: int) -> None:\n",
    "        self._start = start\n",
    "        self._stop = stop\n",
    "        self._index = start\n",
    "\n",
    "    def __iter__(self) -> 'MyRange':\n",
    "        return self\n",
    "    \n",
    "    def __next__(self) -> int:\n",
    "        if self._index >= self._stop:\n",
    "            raise StopIteration()\n",
    "        value = self._index\n",
    "        self._index += 1\n",
    "        return value\n",
    "    \n",
    "    \n",
    "iterable = MyRange(0, 5)\n",
    "for i in iterable:\n",
    "    print(i, end=' ')"
   ]
  },
  {
   "cell_type": "code",
   "execution_count": 37,
   "id": "65c75aba",
   "metadata": {},
   "outputs": [
    {
     "data": {
      "text/plain": [
       "(True, <__main__.MyRange at 0x10519e330>)"
      ]
     },
     "execution_count": 37,
     "metadata": {},
     "output_type": "execute_result"
    }
   ],
   "source": [
    "iter(iterable) is iterable, iter(iterable) "
   ]
  },
  {
   "cell_type": "code",
   "execution_count": 38,
   "id": "06d96900",
   "metadata": {},
   "outputs": [
    {
     "data": {
      "text/plain": [
       "True"
      ]
     },
     "execution_count": 38,
     "metadata": {},
     "output_type": "execute_result"
    }
   ],
   "source": [
    "iterable is iter(iterable)"
   ]
  },
  {
   "cell_type": "markdown",
   "id": "85c5ae3f",
   "metadata": {},
   "source": [
    "Problem: iterators are exhausted after iteration"
   ]
  },
  {
   "cell_type": "code",
   "execution_count": 40,
   "id": "2be60b99",
   "metadata": {},
   "outputs": [
    {
     "name": "stdout",
     "output_type": "stream",
     "text": [
      "0 1 2 3 4 "
     ]
    }
   ],
   "source": [
    "iterable = MyRange(0, 5) # iterable and iterator at the same time\n",
    "for i in iterable:\n",
    "    print(i, end=' ')\n",
    "\n",
    "\n",
    "for i in iterable:  # we can't use the same iterator twice\n",
    "    print(i, end=' ')"
   ]
  },
  {
   "cell_type": "markdown",
   "id": "b5aed258",
   "metadata": {},
   "source": [
    "Solution: separate iterator and iterable"
   ]
  },
  {
   "cell_type": "code",
   "execution_count": 41,
   "id": "ed274512",
   "metadata": {},
   "outputs": [],
   "source": [
    "class MyRange:\n",
    "    class Iterator:\n",
    "        def __init__(self, start: int, stop: int) -> None:\n",
    "            self._start = start\n",
    "            self._stop = stop\n",
    "            self._index = start\n",
    "            \n",
    "        def __iter__(self) -> 'MyRange.Iterator':\n",
    "            return self\n",
    "        \n",
    "        def __next__(self) -> int:\n",
    "            if self._index >= self._stop:\n",
    "                raise StopIteration()\n",
    "            value = self._index\n",
    "            self._index += 1\n",
    "            return value\n",
    "    \n",
    "    def __init__(self, start: int, stop: int) -> None:\n",
    "        self._start = start\n",
    "        self._stop = stop\n",
    "\n",
    "    def __iter__(self) -> Iterator:\n",
    "        return self.Iterator(self._start, self._stop)\n",
    "    "
   ]
  },
  {
   "cell_type": "code",
   "execution_count": 42,
   "id": "bfbeef8a",
   "metadata": {},
   "outputs": [
    {
     "name": "stdout",
     "output_type": "stream",
     "text": [
      "0 1 2 3 4 \n",
      "0 1 2 3 4 "
     ]
    }
   ],
   "source": [
    "my_range = MyRange(0, 5)\n",
    "\n",
    "for i in my_range:\n",
    "    print(i, end=' ')\n",
    "print()\n",
    "for i in my_range:\n",
    "    print(i, end=' ')\n"
   ]
  },
  {
   "cell_type": "markdown",
   "id": "fda7d13e",
   "metadata": {},
   "source": [
    "### [Sequence](https://docs.python.org/3/glossary.html#term-sequence) as an iterable"
   ]
  },
  {
   "cell_type": "code",
   "execution_count": 43,
   "id": "4fa35851",
   "metadata": {},
   "outputs": [],
   "source": [
    "from typing import TypeVar\n",
    "\n",
    "T = TypeVar('T')\n",
    "\n",
    "class Sequence:\n",
    "    def __init__(self, *args: T) -> None:\n",
    "        self._args = args\n",
    "        \n",
    "    def __len__(self) -> int:\n",
    "        return len(self._args)\n",
    "\n",
    "    def __getitem__(self, index: int) -> T:\n",
    "        if index < 0 or index >= len(self):\n",
    "            raise IndexError(index)  # expected by for to detect eos\n",
    "        return self._args[index]"
   ]
  },
  {
   "cell_type": "code",
   "execution_count": 44,
   "id": "3e7e5f6b",
   "metadata": {},
   "outputs": [
    {
     "data": {
      "text/plain": [
       "(1, 3, 5)"
      ]
     },
     "execution_count": 44,
     "metadata": {},
     "output_type": "execute_result"
    }
   ],
   "source": [
    "seq = Sequence(1, 2, 3, 4, 5)\n",
    "seq[0], seq[2], seq[4]"
   ]
  },
  {
   "cell_type": "code",
   "execution_count": 46,
   "id": "f4b6c5f1",
   "metadata": {},
   "outputs": [
    {
     "name": "stdout",
     "output_type": "stream",
     "text": [
      "1 2 3 4 5 "
     ]
    }
   ],
   "source": [
    "for i in seq:\n",
    "    print(i, end=' ')"
   ]
  },
  {
   "cell_type": "markdown",
   "id": "16ef00db",
   "metadata": {},
   "source": [
    "## [\\_\\_contains__](https://docs.python.org/3/reference/datamodel.html#object.__contains__)"
   ]
  },
  {
   "cell_type": "markdown",
   "id": "04f6e906",
   "metadata": {},
   "source": [
    "Sequence has `__contains__` method by default, though iterables don't."
   ]
  },
  {
   "cell_type": "code",
   "execution_count": null,
   "id": "549bf07d",
   "metadata": {},
   "outputs": [],
   "source": [
    "3 in range(5)"
   ]
  },
  {
   "cell_type": "code",
   "execution_count": null,
   "id": "485ecc4b",
   "metadata": {},
   "outputs": [],
   "source": [
    "from typing import Any\n",
    "# https://docs.python.org/3.11/reference/expressions.html#membership-test-details\n",
    "# default __contains__ looks like\n",
    "def __contains__(self, value: Any) -> bool:\n",
    "    for item in self:\n",
    "        if item is value or item == value:\n",
    "            return True\n",
    "    return False"
   ]
  },
  {
   "cell_type": "code",
   "execution_count": null,
   "id": "18299027",
   "metadata": {},
   "outputs": [],
   "source": [
    "class MyRange:\n",
    "    def __contains__(self, value: int) -> bool:\n",
    "        return 0 <= value < self._stop\n",
    "    \n",
    "    ..."
   ]
  },
  {
   "cell_type": "code",
   "execution_count": null,
   "id": "da9ba249",
   "metadata": {},
   "outputs": [],
   "source": [
    "seq = Sequence(2, 3, 5, 8, 13, 21)"
   ]
  },
  {
   "cell_type": "code",
   "execution_count": null,
   "id": "797d93dd",
   "metadata": {},
   "outputs": [],
   "source": [
    "for i in seq:\n",
    "    print(i, end=' ')"
   ]
  },
  {
   "cell_type": "code",
   "execution_count": null,
   "id": "77b42e27",
   "metadata": {},
   "outputs": [],
   "source": [
    "8 in seq  # object has no __contains__, so \"in\" uses iteration over __getitem__"
   ]
  },
  {
   "cell_type": "markdown",
   "id": "2bf91840",
   "metadata": {},
   "source": [
    "# Generators\n",
    "\n",
    "A **generator** is a special kind of function that produces values one at a time, instead of returning them all at once.\n",
    "\n",
    "<details>\n",
    "<summary>\n",
    "More formally:\n",
    "</summary>\n",
    "\n",
    "A generator is a function that uses `yield` to pause and resume execution, producing a sequence of values over time instead of computing them all at once.\n",
    "</details>"
   ]
  },
  {
   "cell_type": "markdown",
   "id": "57803eb6",
   "metadata": {},
   "source": [
    "#### Motivation\n",
    "\n",
    "* Memory efficiency: You don’t need to keep all results in memory (e.g., numbers from 1 to 1,000,000)\n",
    "* Lazy evaluation: You only calculate values when asked for, which saves time if you don’t always need everything.\n",
    "* Async foundations: (later) Generators are the building blocks for `async` and `await` in Python.\n"
   ]
  },
  {
   "cell_type": "code",
   "execution_count": 51,
   "id": "17267df9",
   "metadata": {},
   "outputs": [],
   "source": [
    "from collections.abc import Iterator\n",
    "\n",
    "def countdown(n: int) -> Iterator[int]:\n",
    "    print(f'Counting down from {n}')\n",
    "    for i in range(n, 0, -1):\n",
    "        yield i\n",
    "    print('Done')"
   ]
  },
  {
   "cell_type": "code",
   "execution_count": 52,
   "id": "28d9fab3",
   "metadata": {},
   "outputs": [
    {
     "name": "stdout",
     "output_type": "stream",
     "text": [
      "Counting down from 5\n",
      "5\n",
      "4\n",
      "3\n",
      "2\n",
      "1\n",
      "Done\n"
     ]
    }
   ],
   "source": [
    "for i in countdown(5):\n",
    "    print(i)"
   ]
  },
  {
   "cell_type": "code",
   "execution_count": 53,
   "id": "615fcd19",
   "metadata": {},
   "outputs": [
    {
     "data": {
      "text/plain": [
       "<function __main__.countdown(n: int) -> collections.abc.Iterator[int]>"
      ]
     },
     "execution_count": 53,
     "metadata": {},
     "output_type": "execute_result"
    }
   ],
   "source": [
    "countdown"
   ]
  },
  {
   "cell_type": "code",
   "execution_count": 54,
   "id": "63807692",
   "metadata": {},
   "outputs": [
    {
     "data": {
      "text/plain": [
       "<generator object countdown at 0x1053f42e0>"
      ]
     },
     "execution_count": 54,
     "metadata": {},
     "output_type": "execute_result"
    }
   ],
   "source": [
    "counter = countdown(10)\n",
    "counter"
   ]
  },
  {
   "cell_type": "code",
   "execution_count": 55,
   "id": "689e7e3d",
   "metadata": {},
   "outputs": [
    {
     "data": {
      "text/plain": [
       "True"
      ]
     },
     "execution_count": 55,
     "metadata": {},
     "output_type": "execute_result"
    }
   ],
   "source": [
    "iter(counter) is counter"
   ]
  },
  {
   "cell_type": "code",
   "execution_count": 56,
   "id": "57bbcb67",
   "metadata": {},
   "outputs": [],
   "source": [
    "counter = countdown(2)"
   ]
  },
  {
   "cell_type": "code",
   "execution_count": 57,
   "id": "0436bd3f",
   "metadata": {},
   "outputs": [
    {
     "name": "stdout",
     "output_type": "stream",
     "text": [
      "Counting down from 2\n"
     ]
    },
    {
     "data": {
      "text/plain": [
       "2"
      ]
     },
     "execution_count": 57,
     "metadata": {},
     "output_type": "execute_result"
    }
   ],
   "source": [
    "next(counter)"
   ]
  },
  {
   "cell_type": "code",
   "execution_count": 58,
   "id": "12921a2d",
   "metadata": {},
   "outputs": [
    {
     "data": {
      "text/plain": [
       "range(0, 10)"
      ]
     },
     "execution_count": 58,
     "metadata": {},
     "output_type": "execute_result"
    }
   ],
   "source": [
    "range(10)"
   ]
  },
  {
   "cell_type": "code",
   "execution_count": 59,
   "id": "38e1c865",
   "metadata": {},
   "outputs": [
    {
     "data": {
      "text/plain": [
       "1"
      ]
     },
     "execution_count": 59,
     "metadata": {},
     "output_type": "execute_result"
    }
   ],
   "source": [
    "next(counter)"
   ]
  },
  {
   "cell_type": "code",
   "execution_count": 60,
   "id": "d287fa54",
   "metadata": {},
   "outputs": [
    {
     "name": "stdout",
     "output_type": "stream",
     "text": [
      "Done\n"
     ]
    },
    {
     "ename": "StopIteration",
     "evalue": "",
     "output_type": "error",
     "traceback": [
      "\u001b[0;31m---------------------------------------------------------------------------\u001b[0m",
      "\u001b[0;31mStopIteration\u001b[0m                             Traceback (most recent call last)",
      "Cell \u001b[0;32mIn[60], line 1\u001b[0m\n\u001b[0;32m----> 1\u001b[0m \u001b[38;5;28;43mnext\u001b[39;49m\u001b[43m(\u001b[49m\u001b[43mcounter\u001b[49m\u001b[43m)\u001b[49m\n",
      "\u001b[0;31mStopIteration\u001b[0m: "
     ]
    }
   ],
   "source": [
    "next(counter)"
   ]
  },
  {
   "cell_type": "markdown",
   "id": "94bd548e",
   "metadata": {},
   "source": [
    "### [Generator](https://docs.python.org/3/glossary.html#term-generator)\n",
    "\n",
    "This is a special iterator that you get as a result of calling a function that contains the `yield` keyword."
   ]
  },
  {
   "cell_type": "markdown",
   "id": "c5fce54e",
   "metadata": {},
   "source": [
    "The sequence of values that a generator returns, is defined by the sequence of `yield` statements in the function body."
   ]
  },
  {
   "cell_type": "markdown",
   "id": "31c0c905",
   "metadata": {},
   "source": [
    "### Examples"
   ]
  },
  {
   "cell_type": "code",
   "execution_count": 64,
   "id": "19a53386",
   "metadata": {},
   "outputs": [
    {
     "data": {
      "text/plain": [
       "[0, 1, 4, 9, 16]"
      ]
     },
     "execution_count": 64,
     "metadata": {},
     "output_type": "execute_result"
    }
   ],
   "source": [
    "def squares_eager(size: int) -> list[int]:\n",
    "    return [i ** 2 for i in range(size)]\n",
    "squares_eager(5)"
   ]
  },
  {
   "cell_type": "code",
   "execution_count": 61,
   "id": "7d8a9ac0",
   "metadata": {},
   "outputs": [],
   "source": [
    "def squares(size: int) -> Iterator[int]:\n",
    "    for i in range(size):\n",
    "        yield i ** 2"
   ]
  },
  {
   "cell_type": "code",
   "execution_count": 62,
   "id": "891564d9",
   "metadata": {},
   "outputs": [],
   "source": [
    "generator = squares(5)"
   ]
  },
  {
   "cell_type": "code",
   "execution_count": 63,
   "id": "8fc1b027",
   "metadata": {},
   "outputs": [
    {
     "data": {
      "text/plain": [
       "0"
      ]
     },
     "execution_count": 63,
     "metadata": {},
     "output_type": "execute_result"
    }
   ],
   "source": [
    "next(generator)"
   ]
  },
  {
   "cell_type": "code",
   "execution_count": 65,
   "id": "1dbdd1c8",
   "metadata": {},
   "outputs": [
    {
     "name": "stdout",
     "output_type": "stream",
     "text": [
      "1 4 9 16 "
     ]
    }
   ],
   "source": [
    "for elem in generator:\n",
    "    print(elem, end=' ')"
   ]
  },
  {
   "cell_type": "code",
   "execution_count": 66,
   "id": "430d40dc",
   "metadata": {},
   "outputs": [],
   "source": [
    "for elem in generator:\n",
    "    print(elem, end=' ')"
   ]
  },
  {
   "cell_type": "markdown",
   "id": "efd2764a",
   "metadata": {},
   "source": [
    "Generators get exhausted!"
   ]
  },
  {
   "cell_type": "code",
   "execution_count": 67,
   "id": "6dd5b155",
   "metadata": {},
   "outputs": [],
   "source": [
    "from collections.abc import Iterable, Iterator\n",
    "from typing import TypeVar\n",
    "\n",
    "T = TypeVar('T')\n",
    "\n",
    "def unique_ordered(elements: Iterable[T]) -> Iterator[T]:\n",
    "    seen = set()\n",
    "    for elem in elements:\n",
    "        if elem in seen:\n",
    "            continue\n",
    "        seen.add(elem)\n",
    "        yield elem"
   ]
  },
  {
   "cell_type": "code",
   "execution_count": 73,
   "id": "b1ba620b",
   "metadata": {},
   "outputs": [
    {
     "name": "stdout",
     "output_type": "stream",
     "text": [
      "0 0 1 0 1 2 0 1 2 3 0 1 2 3 4 "
     ]
    }
   ],
   "source": [
    "def layered_for(x):\n",
    "    for i in range(x):\n",
    "        for j in range(i):\n",
    "            yield j\n",
    "        yield i\n",
    "for elem in layered_for(5):\n",
    "    print(elem, end=' ')\n"
   ]
  },
  {
   "cell_type": "code",
   "execution_count": null,
   "id": "01116c6e",
   "metadata": {},
   "outputs": [],
   "source": [
    "def foo():\n",
    "    yield 1\n",
    "    do_something_hard()\n",
    "    yield 2"
   ]
  },
  {
   "cell_type": "code",
   "execution_count": 70,
   "id": "511c28f6",
   "metadata": {},
   "outputs": [
    {
     "name": "stdout",
     "output_type": "stream",
     "text": [
      "2 1 3 4 "
     ]
    }
   ],
   "source": [
    "for elem in unique_ordered([2, 1, 2, 3, 1, 2, 4]):\n",
    "    print(elem, end=' ')"
   ]
  },
  {
   "cell_type": "code",
   "execution_count": 69,
   "id": "1c27282e",
   "metadata": {},
   "outputs": [
    {
     "data": {
      "text/plain": [
       "{1, 2, 3, 4}"
      ]
     },
     "execution_count": 69,
     "metadata": {},
     "output_type": "execute_result"
    }
   ],
   "source": [
    "set([1, 2, 3, 1, 2, 4])"
   ]
  },
  {
   "cell_type": "markdown",
   "id": "d970efcc",
   "metadata": {},
   "source": [
    "### Generator expressions ([generator expression](https://docs.python.org/3/glossary.html#term-generator-expression))"
   ]
  },
  {
   "cell_type": "code",
   "execution_count": 76,
   "id": "cf6931eb",
   "metadata": {},
   "outputs": [
    {
     "data": {
      "text/plain": [
       "<generator object <genexpr> at 0x1052f3100>"
      ]
     },
     "execution_count": 76,
     "metadata": {},
     "output_type": "execute_result"
    }
   ],
   "source": [
    "squares = (x ** 2 for x in range(5))\n",
    "squares"
   ]
  },
  {
   "cell_type": "code",
   "execution_count": 77,
   "id": "f9379716",
   "metadata": {},
   "outputs": [
    {
     "name": "stdout",
     "output_type": "stream",
     "text": [
      "0 1 4 9 16 "
     ]
    }
   ],
   "source": [
    "for square in squares:\n",
    "    print(square, end=' ')"
   ]
  },
  {
   "cell_type": "code",
   "execution_count": null,
   "id": "34ce7cd0",
   "metadata": {},
   "outputs": [],
   "source": [
    "max(x for x in range(10_000_000_000) if x % 11 == 0)"
   ]
  },
  {
   "cell_type": "code",
   "execution_count": null,
   "id": "8a7d23ea",
   "metadata": {},
   "outputs": [],
   "source": [
    "max([x for x in range(10_000_000_000) if x % 11 == 0])  # ~20G RAM"
   ]
  },
  {
   "cell_type": "markdown",
   "id": "e549ff71",
   "metadata": {},
   "source": [
    "Where did you take `20G` number from?"
   ]
  },
  {
   "cell_type": "code",
   "execution_count": 1,
   "id": "65c516a3",
   "metadata": {},
   "outputs": [
    {
     "data": {
      "text/plain": [
       "23.706392808394"
      ]
     },
     "execution_count": 1,
     "metadata": {},
     "output_type": "execute_result"
    }
   ],
   "source": [
    "import sys\n",
    "\n",
    "int_size_bytes = sys.getsizeof(0)\n",
    "int_count = 10_000_000_000 / 11\n",
    "list_size_bytes = int_size_bytes * int_count\n",
    "list_size_gigabytes = list_size_bytes / (1024 ** 3)\n",
    "list_size_gigabytes"
   ]
  },
  {
   "cell_type": "markdown",
   "id": "51e22a97",
   "metadata": {},
   "source": [
    "### Generators as iterators"
   ]
  },
  {
   "cell_type": "code",
   "execution_count": 2,
   "id": "2357776a",
   "metadata": {},
   "outputs": [],
   "source": [
    "from collections.abc import Iterator\n",
    "from dataclasses import dataclass\n",
    "\n",
    "@dataclass\n",
    "class BinaryTreeNode:\n",
    "    value: int\n",
    "    left: 'BinaryTreeNode | None' = None\n",
    "    right: 'BinaryTreeNode | None' = None\n",
    "\n",
    "    def __iter__(self) -> Iterator[int]:  # in-order\n",
    "        for value in (self.left or ()):\n",
    "            yield value\n",
    "\n",
    "        yield self.value\n",
    "\n",
    "        for value in (self.right or ()):\n",
    "            yield value"
   ]
  },
  {
   "cell_type": "code",
   "execution_count": 3,
   "id": "c1cde080",
   "metadata": {},
   "outputs": [],
   "source": [
    "tree = BinaryTreeNode(\n",
    "    left=BinaryTreeNode(\n",
    "        left=BinaryTreeNode(value=1),\n",
    "        value=2,\n",
    "    ),\n",
    "    value=3,\n",
    "    right=BinaryTreeNode(\n",
    "        value=4,\n",
    "        right=BinaryTreeNode(value=5),\n",
    "    ),\n",
    ")"
   ]
  },
  {
   "cell_type": "code",
   "execution_count": 4,
   "id": "3fca561a",
   "metadata": {},
   "outputs": [
    {
     "name": "stdout",
     "output_type": "stream",
     "text": [
      "1 2 3 4 5 "
     ]
    }
   ],
   "source": [
    "for value in tree:\n",
    "    print(value, end=' ')"
   ]
  }
 ],
 "metadata": {
  "kernelspec": {
   "display_name": "Python 3",
   "language": "python",
   "name": "python3"
  },
  "language_info": {
   "codemirror_mode": {
    "name": "ipython",
    "version": 3
   },
   "file_extension": ".py",
   "mimetype": "text/x-python",
   "name": "python",
   "nbconvert_exporter": "python",
   "pygments_lexer": "ipython3",
   "version": "3.12.7"
  }
 },
 "nbformat": 4,
 "nbformat_minor": 5
}
