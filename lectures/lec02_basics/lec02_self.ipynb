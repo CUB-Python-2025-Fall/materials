{
 "cells": [
  {
   "cell_type": "markdown",
   "id": "19a552b9",
   "metadata": {},
   "source": [
    "# Exceptions"
   ]
  },
  {
   "cell_type": "markdown",
   "id": "814c4b3f",
   "metadata": {},
   "source": [
    "<div class=\"alert alert-danger\">\n",
    "<b>Antipattern: </b> Catching BaseException\n",
    "</div>"
   ]
  },
  {
   "cell_type": "code",
   "execution_count": null,
   "id": "81a9a5cf",
   "metadata": {},
   "outputs": [],
   "source": [
    "try:\n",
    "    do_dangerous()\n",
    "except:  # catch everything, even KeyboardInterrupt\n",
    "    pass"
   ]
  },
  {
   "cell_type": "code",
   "execution_count": null,
   "id": "2ee02026",
   "metadata": {},
   "outputs": [],
   "source": [
    "try:\n",
    "    do_dangerous()\n",
    "except BaseException:  # same as above\n",
    "    pass"
   ]
  },
  {
   "cell_type": "markdown",
   "id": "6c1fb296",
   "metadata": {},
   "source": [
    "**Problem**: \n",
    "* Not all exceptions are bugs — some are control signals (e.g., `KeyboardInterrupt` when you press `Ctrl+C`).\n",
    "* A bare `except:` catches *everything*, including those signals.\n",
    "* This can make your program **impossible to stop** without force-killing it.\n",
    "\n",
    "**Example:**\n",
    "\n",
    "```python\n",
    "def buggy_worker():\n",
    "    # Bug: this \"work\" never finishes (infinite loop).\n",
    "    while True:\n",
    "        time.sleep(1)\n",
    "\n",
    "\n",
    "try:\n",
    "    buggy_worker()\n",
    "except:  # KeyboardInterruptError is caught as well\n",
    "    pass\n",
    "\n",
    "do_something()  # you might not want to continue\n",
    "```"
   ]
  },
  {
   "cell_type": "markdown",
   "id": "d34c837e",
   "metadata": {},
   "source": [
    "### Exception chaining"
   ]
  },
  {
   "cell_type": "code",
   "execution_count": null,
   "id": "b68be546",
   "metadata": {},
   "outputs": [
    {
     "ename": "OSError",
     "evalue": "",
     "output_type": "error",
     "traceback": [
      "\u001b[31m---------------------------------------------------------------------------\u001b[39m\n",
      "\u001b[31mZeroDivisionError\u001b[39m                         Traceback (most recent call last)\n",
      "\u001b[36mCell\u001b[39m\u001b[36m \u001b[39m\u001b[32mIn[25]\u001b[39m\u001b[32m, line 5\u001b[39m, in \u001b[36mctr\u001b[39m\u001b[34m(shows, clicks)\u001b[39m\n",
      "\u001b[32m      4\u001b[39m \u001b[38;5;28;01mtry\u001b[39;00m:\n",
      "\u001b[32m----> \u001b[39m\u001b[32m5\u001b[39m     \u001b[38;5;28;01mreturn\u001b[39;00m \u001b[43mclicks\u001b[49m\u001b[43m \u001b[49m\u001b[43m/\u001b[49m\u001b[43m \u001b[49m\u001b[43mshows\u001b[49m\n",
      "\u001b[32m      6\u001b[39m \u001b[38;5;28;01mexcept\u001b[39;00m \u001b[38;5;167;01mZeroDivisionError\u001b[39;00m \u001b[38;5;28;01mas\u001b[39;00m e:\n",
      "\n",
      "\u001b[31mZeroDivisionError\u001b[39m: division by zero\n",
      "\n",
      "The above exception was the direct cause of the following exception:\n",
      "\n",
      "\u001b[31mValueError\u001b[39m                                Traceback (most recent call last)\n",
      "\u001b[36mCell\u001b[39m\u001b[36m \u001b[39m\u001b[32mIn[25]\u001b[39m\u001b[32m, line 7\u001b[39m, in \u001b[36mctr\u001b[39m\u001b[34m(shows, clicks)\u001b[39m\n",
      "\u001b[32m      6\u001b[39m     \u001b[38;5;28;01mexcept\u001b[39;00m \u001b[38;5;167;01mZeroDivisionError\u001b[39;00m \u001b[38;5;28;01mas\u001b[39;00m e:\n",
      "\u001b[32m----> \u001b[39m\u001b[32m7\u001b[39m         \u001b[38;5;28;01mraise\u001b[39;00m \u001b[38;5;167;01mValueError\u001b[39;00m(\u001b[33m'\u001b[39m\u001b[33mBad banner\u001b[39m\u001b[33m'\u001b[39m) \u001b[38;5;28;01mfrom\u001b[39;00m\u001b[38;5;250m \u001b[39m\u001b[34;01me\u001b[39;00m  \u001b[38;5;66;03m# we want to know what went wrong before raising our exception\u001b[39;00m\n",
      "\u001b[32m      8\u001b[39m \u001b[38;5;28;01mexcept\u001b[39;00m \u001b[38;5;167;01mValueError\u001b[39;00m \u001b[38;5;28;01mas\u001b[39;00m e:\n",
      "\n",
      "\u001b[31mValueError\u001b[39m: Bad banner\n",
      "\n",
      "The above exception was the direct cause of the following exception:\n",
      "\n",
      "\u001b[31mOSError\u001b[39m                                   Traceback (most recent call last)\n",
      "\u001b[36mCell\u001b[39m\u001b[36m \u001b[39m\u001b[32mIn[25]\u001b[39m\u001b[32m, line 11\u001b[39m\n",
      "\u001b[32m      8\u001b[39m     \u001b[38;5;28;01mexcept\u001b[39;00m \u001b[38;5;167;01mValueError\u001b[39;00m \u001b[38;5;28;01mas\u001b[39;00m e:\n",
      "\u001b[32m      9\u001b[39m         \u001b[38;5;28;01mraise\u001b[39;00m \u001b[38;5;167;01mOSError\u001b[39;00m \u001b[38;5;28;01mfrom\u001b[39;00m\u001b[38;5;250m \u001b[39m\u001b[34;01me\u001b[39;00m\n",
      "\u001b[32m---> \u001b[39m\u001b[32m11\u001b[39m \u001b[43mctr\u001b[49m\u001b[43m(\u001b[49m\u001b[32;43m0\u001b[39;49m\u001b[43m,\u001b[49m\u001b[43m \u001b[49m\u001b[32;43m1\u001b[39;49m\u001b[43m)\u001b[49m\n",
      "\n",
      "\u001b[36mCell\u001b[39m\u001b[36m \u001b[39m\u001b[32mIn[25]\u001b[39m\u001b[32m, line 9\u001b[39m, in \u001b[36mctr\u001b[39m\u001b[34m(shows, clicks)\u001b[39m\n",
      "\u001b[32m      7\u001b[39m         \u001b[38;5;28;01mraise\u001b[39;00m \u001b[38;5;167;01mValueError\u001b[39;00m(\u001b[33m'\u001b[39m\u001b[33mBad banner\u001b[39m\u001b[33m'\u001b[39m) \u001b[38;5;28;01mfrom\u001b[39;00m\u001b[38;5;250m \u001b[39m\u001b[34;01me\u001b[39;00m  \u001b[38;5;66;03m# we want to know what went wrong before raising our exception\u001b[39;00m\n",
      "\u001b[32m      8\u001b[39m \u001b[38;5;28;01mexcept\u001b[39;00m \u001b[38;5;167;01mValueError\u001b[39;00m \u001b[38;5;28;01mas\u001b[39;00m e:\n",
      "\u001b[32m----> \u001b[39m\u001b[32m9\u001b[39m     \u001b[38;5;28;01mraise\u001b[39;00m \u001b[38;5;167;01mOSError\u001b[39;00m \u001b[38;5;28;01mfrom\u001b[39;00m\u001b[38;5;250m \u001b[39m\u001b[34;01me\u001b[39;00m\n",
      "\n",
      "\u001b[31mOSError\u001b[39m: "
     ]
    }
   ],
   "source": [
    "def ctr(shows, clicks):\n",
    "    \"\"\"Returns banner click-through rate\"\"\"\n",
    "    try:\n",
    "        try:\n",
    "            return clicks / shows\n",
    "        except ZeroDivisionError as e:\n",
    "            raise ValueError('Bad banner') from e  # we want to know what went wrong before raising our exception\n",
    "    except ValueError as e:\n",
    "        raise OSError from e\n",
    "        \n",
    "ctr(0, 1)"
   ]
  },
  {
   "cell_type": "markdown",
   "id": "be5eed72",
   "metadata": {},
   "source": [
    "### Exception cause\n",
    "\n",
    "`raise ... from ...`"
   ]
  },
  {
   "cell_type": "code",
   "execution_count": null,
   "id": "109111d4",
   "metadata": {},
   "outputs": [
    {
     "name": "stdout",
     "output_type": "stream",
     "text": [
      "catch value error\n"
     ]
    }
   ],
   "source": [
    "def ctr(shows, clicks):\n",
    "    \"\"\"Returns banner click-through rate\"\"\"\n",
    "    try:\n",
    "        return clicks / shows\n",
    "    except ZeroDivisionError as e:\n",
    "        raise ValueError('Bad banner') from e\n",
    "try:\n",
    "    ctr(0, 1)\n",
    "except ValueError:\n",
    "    print(\"catch value error\")\n",
    "except ZeroDivisionError:\n",
    "    print(\"catch zero div\")\n"
   ]
  },
  {
   "cell_type": "markdown",
   "id": "7bf8d14a",
   "metadata": {},
   "source": [
    "Context suppression"
   ]
  },
  {
   "cell_type": "code",
   "execution_count": null,
   "id": "c5e4f85e",
   "metadata": {},
   "outputs": [
    {
     "ename": "ValueError",
     "evalue": "Bad banner",
     "output_type": "error",
     "traceback": [
      "\u001b[31m---------------------------------------------------------------------------\u001b[39m\n",
      "\u001b[31mValueError\u001b[39m                                Traceback (most recent call last)\n",
      "\u001b[36mCell\u001b[39m\u001b[36m \u001b[39m\u001b[32mIn[27]\u001b[39m\u001b[32m, line 7\u001b[39m\n",
      "\u001b[32m      5\u001b[39m     \u001b[38;5;28;01mexcept\u001b[39;00m \u001b[38;5;167;01mZeroDivisionError\u001b[39;00m \u001b[38;5;28;01mas\u001b[39;00m e:\n",
      "\u001b[32m      6\u001b[39m         \u001b[38;5;28;01mraise\u001b[39;00m \u001b[38;5;167;01mValueError\u001b[39;00m(\u001b[33m'\u001b[39m\u001b[33mBad banner\u001b[39m\u001b[33m'\u001b[39m) \u001b[38;5;28;01mfrom\u001b[39;00m\u001b[38;5;250m \u001b[39m\u001b[38;5;28;01mNone\u001b[39;00m\n",
      "\u001b[32m----> \u001b[39m\u001b[32m7\u001b[39m \u001b[43mctr\u001b[49m\u001b[43m(\u001b[49m\u001b[32;43m0\u001b[39;49m\u001b[43m,\u001b[49m\u001b[43m \u001b[49m\u001b[32;43m1\u001b[39;49m\u001b[43m)\u001b[49m\n",
      "\n",
      "\u001b[36mCell\u001b[39m\u001b[36m \u001b[39m\u001b[32mIn[27]\u001b[39m\u001b[32m, line 6\u001b[39m, in \u001b[36mctr\u001b[39m\u001b[34m(shows, clicks)\u001b[39m\n",
      "\u001b[32m      4\u001b[39m     \u001b[38;5;28;01mreturn\u001b[39;00m clicks / shows\n",
      "\u001b[32m      5\u001b[39m \u001b[38;5;28;01mexcept\u001b[39;00m \u001b[38;5;167;01mZeroDivisionError\u001b[39;00m \u001b[38;5;28;01mas\u001b[39;00m e:\n",
      "\u001b[32m----> \u001b[39m\u001b[32m6\u001b[39m     \u001b[38;5;28;01mraise\u001b[39;00m \u001b[38;5;167;01mValueError\u001b[39;00m(\u001b[33m'\u001b[39m\u001b[33mBad banner\u001b[39m\u001b[33m'\u001b[39m) \u001b[38;5;28;01mfrom\u001b[39;00m\u001b[38;5;250m \u001b[39m\u001b[38;5;28;01mNone\u001b[39;00m\n",
      "\n",
      "\u001b[31mValueError\u001b[39m: Bad banner"
     ]
    }
   ],
   "source": [
    "def ctr(shows, clicks):\n",
    "    \"\"\"Returns banner click-through rate\"\"\"\n",
    "    try:\n",
    "        return clicks / shows\n",
    "    except ZeroDivisionError as e:\n",
    "        raise ValueError('Bad banner') from None\n",
    "ctr(0, 1)"
   ]
  },
  {
   "cell_type": "markdown",
   "id": "922df55a",
   "metadata": {},
   "source": [
    "### Exception internals"
   ]
  },
  {
   "cell_type": "code",
   "execution_count": null,
   "id": "c2e2d555",
   "metadata": {},
   "outputs": [],
   "source": [
    "try:\n",
    "    raise ValueError(1, 2, 3)\n",
    "except Exception as e:\n",
    "    exc = e"
   ]
  },
  {
   "cell_type": "code",
   "execution_count": null,
   "id": "c906567e",
   "metadata": {},
   "outputs": [
    {
     "data": {
      "text/plain": [
       "(1, 2, 3)"
      ]
     },
     "metadata": {},
     "output_type": "display_data"
    }
   ],
   "source": [
    "exc.args  # constructor arguments"
   ]
  },
  {
   "cell_type": "code",
   "execution_count": null,
   "id": "94f82ebf",
   "metadata": {},
   "outputs": [
    {
     "data": {
      "text/plain": [
       "<traceback at 0x11158c5c0>"
      ]
     },
     "metadata": {},
     "output_type": "display_data"
    }
   ],
   "source": [
    "exc.__cause__  # exception cause, set by `raise EXC from CAUSE`\n",
    "exc.__context__  # last caught exception, for exception chains\n",
    "exc.__traceback__"
   ]
  },
  {
   "cell_type": "code",
   "execution_count": null,
   "id": "d987d76a",
   "metadata": {},
   "outputs": [
    {
     "ename": "ValueError",
     "evalue": "(1, 2, 3)",
     "output_type": "error",
     "traceback": [
      "\u001b[31m---------------------------------------------------------------------------\u001b[39m\n",
      "\u001b[31mValueError\u001b[39m                                Traceback (most recent call last)\n",
      "\u001b[36mCell\u001b[39m\u001b[36m \u001b[39m\u001b[32mIn[32]\u001b[39m\u001b[32m, line 3\u001b[39m\n",
      "\u001b[32m      1\u001b[39m \u001b[38;5;66;03m#exc.with_traceback(tb)  # sets __traceback__ to a new value tb\u001b[39;00m\n",
      "\u001b[32m      2\u001b[39m exc.add_note(\u001b[33m\"\u001b[39m\u001b[33msome text\u001b[39m\u001b[33m\"\u001b[39m)\n",
      "\u001b[32m----> \u001b[39m\u001b[32m3\u001b[39m \u001b[38;5;28;01mraise\u001b[39;00m exc\n",
      "\n",
      "\u001b[36mCell\u001b[39m\u001b[36m \u001b[39m\u001b[32mIn[29]\u001b[39m\u001b[32m, line 2\u001b[39m\n",
      "\u001b[32m      1\u001b[39m \u001b[38;5;28;01mtry\u001b[39;00m:\n",
      "\u001b[32m----> \u001b[39m\u001b[32m2\u001b[39m     \u001b[38;5;28;01mraise\u001b[39;00m \u001b[38;5;167;01mValueError\u001b[39;00m(\u001b[32m1\u001b[39m, \u001b[32m2\u001b[39m, \u001b[32m3\u001b[39m)\n",
      "\u001b[32m      3\u001b[39m \u001b[38;5;28;01mexcept\u001b[39;00m \u001b[38;5;167;01mException\u001b[39;00m \u001b[38;5;28;01mas\u001b[39;00m e:\n",
      "\u001b[32m      4\u001b[39m     exc = e\n",
      "\n",
      "\u001b[31mValueError\u001b[39m: (1, 2, 3)\n",
      "some text"
     ]
    }
   ],
   "source": [
    "#exc.with_traceback(tb)  # sets __traceback__ to a new value tb\n",
    "exc.add_note(\"some text\")\n",
    "raise exc"
   ]
  },
  {
   "cell_type": "markdown",
   "id": "46e9ed0c",
   "metadata": {},
   "source": [
    "### Warnings"
   ]
  },
  {
   "cell_type": "code",
   "execution_count": null,
   "id": "c53e306e",
   "metadata": {},
   "outputs": [
    {
     "ename": "ModuleNotFoundError",
     "evalue": "No module named 'numpy'",
     "output_type": "error",
     "traceback": [
      "\u001b[31m---------------------------------------------------------------------------\u001b[39m\n",
      "\u001b[31mModuleNotFoundError\u001b[39m                       Traceback (most recent call last)\n",
      "\u001b[36mCell\u001b[39m\u001b[36m \u001b[39m\u001b[32mIn[33]\u001b[39m\u001b[32m, line 1\u001b[39m\n",
      "\u001b[32m----> \u001b[39m\u001b[32m1\u001b[39m \u001b[38;5;28;01mimport\u001b[39;00m\u001b[38;5;250m \u001b[39m\u001b[34;01mnumpy\u001b[39;00m\u001b[38;5;250m \u001b[39m\u001b[38;5;28;01mas\u001b[39;00m\u001b[38;5;250m \u001b[39m\u001b[34;01mnp\u001b[39;00m\n",
      "\u001b[32m      3\u001b[39m np.int32(\u001b[32m1\u001b[39m) / np.int32(\u001b[32m0\u001b[39m)\n",
      "\n",
      "\u001b[31mModuleNotFoundError\u001b[39m: No module named 'numpy'"
     ]
    }
   ],
   "source": [
    "import numpy as np\n",
    "\n",
    "np.int32(1) / np.int32(0)"
   ]
  },
  {
   "cell_type": "code",
   "execution_count": null,
   "id": "e4596db9",
   "metadata": {},
   "outputs": [
    {
     "ename": "ModuleNotFoundError",
     "evalue": "No module named 'numpy'",
     "output_type": "error",
     "traceback": [
      "\u001b[31m---------------------------------------------------------------------------\u001b[39m\n",
      "\u001b[31mModuleNotFoundError\u001b[39m                       Traceback (most recent call last)\n",
      "\u001b[36mCell\u001b[39m\u001b[36m \u001b[39m\u001b[32mIn[35]\u001b[39m\u001b[32m, line 1\u001b[39m\n",
      "\u001b[32m----> \u001b[39m\u001b[32m1\u001b[39m \u001b[38;5;28;01mimport\u001b[39;00m\u001b[38;5;250m \u001b[39m\u001b[34;01mnumpy\u001b[39;00m\u001b[38;5;250m \u001b[39m\u001b[38;5;28;01mas\u001b[39;00m\u001b[38;5;250m \u001b[39m\u001b[34;01mnp\u001b[39;00m\n",
      "\u001b[32m      3\u001b[39m \u001b[38;5;28;01mtry\u001b[39;00m:\n",
      "\u001b[32m      4\u001b[39m     np.int32(\u001b[32m1\u001b[39m) / np.int32(\u001b[32m0\u001b[39m)\n",
      "\n",
      "\u001b[31mModuleNotFoundError\u001b[39m: No module named 'numpy'"
     ]
    }
   ],
   "source": [
    "import numpy as np\n",
    "\n",
    "try:\n",
    "    np.int32(1) / np.int32(0)\n",
    "except Exeption:\n",
    "    print(\"warning is not exception\")"
   ]
  },
  {
   "cell_type": "markdown",
   "id": "87144204",
   "metadata": {},
   "source": [
    "So even though Warnings inherit from Exception, it's still not possible to catch and handle a warning this way."
   ]
  },
  {
   "cell_type": "markdown",
   "id": "ee2b0d9f",
   "metadata": {},
   "source": [
    "You can turn warnings into errors:"
   ]
  },
  {
   "cell_type": "code",
   "execution_count": null,
   "id": "cd47685f",
   "metadata": {},
   "outputs": [
    {
     "ename": "ModuleNotFoundError",
     "evalue": "No module named 'numpy'",
     "output_type": "error",
     "traceback": [
      "\u001b[31m---------------------------------------------------------------------------\u001b[39m\n",
      "\u001b[31mModuleNotFoundError\u001b[39m                       Traceback (most recent call last)\n",
      "\u001b[36mCell\u001b[39m\u001b[36m \u001b[39m\u001b[32mIn[36]\u001b[39m\u001b[32m, line 1\u001b[39m\n",
      "\u001b[32m----> \u001b[39m\u001b[32m1\u001b[39m \u001b[38;5;28;01mimport\u001b[39;00m\u001b[38;5;250m \u001b[39m\u001b[34;01mnumpy\u001b[39;00m\u001b[38;5;250m \u001b[39m\u001b[38;5;28;01mas\u001b[39;00m\u001b[38;5;250m \u001b[39m\u001b[34;01mnp\u001b[39;00m\n",
      "\u001b[32m      2\u001b[39m \u001b[38;5;28;01mimport\u001b[39;00m\u001b[38;5;250m \u001b[39m\u001b[34;01mwarnings\u001b[39;00m\n",
      "\u001b[32m      4\u001b[39m warnings.filterwarnings(\u001b[33m\"\u001b[39m\u001b[33merror\u001b[39m\u001b[33m\"\u001b[39m)\n",
      "\n",
      "\u001b[31mModuleNotFoundError\u001b[39m: No module named 'numpy'"
     ]
    }
   ],
   "source": [
    "import numpy as np\n",
    "import warnings\n",
    "\n",
    "warnings.filterwarnings(\"error\")\n",
    "try:\n",
    "    np.int32(1) / np.int32(0)\n",
    "except Exception as e:\n",
    "    print(f\"Exception {e!r}\")\n",
    "\n",
    "warnings.resetwarnings()"
   ]
  },
  {
   "cell_type": "code",
   "execution_count": null,
   "id": "fda2cb45",
   "metadata": {},
   "outputs": [
    {
     "ename": "ModuleNotFoundError",
     "evalue": "No module named 'numpy'",
     "output_type": "error",
     "traceback": [
      "\u001b[31m---------------------------------------------------------------------------\u001b[39m\n",
      "\u001b[31mModuleNotFoundError\u001b[39m                       Traceback (most recent call last)\n",
      "\u001b[36mCell\u001b[39m\u001b[36m \u001b[39m\u001b[32mIn[37]\u001b[39m\u001b[32m, line 1\u001b[39m\n",
      "\u001b[32m----> \u001b[39m\u001b[32m1\u001b[39m \u001b[38;5;28;01mimport\u001b[39;00m\u001b[38;5;250m \u001b[39m\u001b[34;01mnumpy\u001b[39;00m\u001b[38;5;250m \u001b[39m\u001b[38;5;28;01mas\u001b[39;00m\u001b[38;5;250m \u001b[39m\u001b[34;01mnp\u001b[39;00m\n",
      "\u001b[32m      2\u001b[39m \u001b[38;5;28;01mimport\u001b[39;00m\u001b[38;5;250m \u001b[39m\u001b[34;01mwarnings\u001b[39;00m\n",
      "\u001b[32m      4\u001b[39m warnings.filterwarnings(\u001b[33m\"\u001b[39m\u001b[33mignore\u001b[39m\u001b[33m\"\u001b[39m)\n",
      "\n",
      "\u001b[31mModuleNotFoundError\u001b[39m: No module named 'numpy'"
     ]
    }
   ],
   "source": [
    "import numpy as np\n",
    "import warnings\n",
    "\n",
    "warnings.filterwarnings(\"ignore\")\n",
    "try:\n",
    "    np.int32(1) / np.int32(0)\n",
    "except Exception as e:\n",
    "    print(f\"Exception {e!r}\")\n",
    "\n",
    "warnings.resetwarnings()"
   ]
  },
  {
   "cell_type": "markdown",
   "id": "db185531",
   "metadata": {},
   "source": [
    "Useful things"
   ]
  },
  {
   "cell_type": "markdown",
   "id": "aaa22eaf",
   "metadata": {},
   "source": [
    "- `sys.exc_info()` — returns information about the currently handled exception\n",
    "- The `traceback` module\n",
    "- The `warnings` module"
   ]
  },
  {
   "cell_type": "markdown",
   "id": "f682e2ff",
   "metadata": {},
   "source": [
    "### Exception groups\n",
    "\n",
    "Note: this is a **bonus topic** (i.e. learn it if you feel like it)\n",
    "\n",
    "Problem: suppose we have the following function:\n",
    "\n",
    "`run_parralel(list_of_functions, list_of_args, n_jobs=-1)`\n",
    "\n",
    "```python\n",
    "import multiprocessing as mp\n",
    "\n",
    "def run_parralel(list_of_functions, list_of_args, n_jobs=-1):\n",
    "    with mp.Pool(n_jobs) as pool:\n",
    "        pool.map(list_of_functions, list_of_args)\n",
    "```\n",
    "\n",
    "Each function called inside may raise an error. Which error should we catch? How do we understand which errors happened in each function?\n",
    "\n",
    "```python\n",
    "run_parralel([lambda x: x / 0, lambda x: x + 1], [1, 2])\n",
    "```"
   ]
  },
  {
   "cell_type": "markdown",
   "id": "479cc1fd",
   "metadata": {},
   "source": [
    "What are the problems with Exception? Can we just pack exceptions into a \"super\" Exception that can represent complex errors?"
   ]
  },
  {
   "cell_type": "markdown",
   "id": "0b71c2d4",
   "metadata": {},
   "source": [
    "### ExceptionGroup"
   ]
  },
  {
   "cell_type": "markdown",
   "id": "900382ce",
   "metadata": {},
   "source": [
    "Exception cannot fully represent an independent set of errors; therefore we have ExceptionGroup, which is a tree."
   ]
  },
  {
   "cell_type": "code",
   "execution_count": null,
   "id": "485bb1cd",
   "metadata": {},
   "outputs": [],
   "source": [
    "eg = ExceptionGroup(\n",
    "     \"one\",\n",
    "     [\n",
    "         TypeError(1),\n",
    "         ExceptionGroup(\n",
    "             \"two\",\n",
    "              [TypeError(2), ValueError(3)]\n",
    "         ),\n",
    "         ExceptionGroup(\n",
    "              \"three\",\n",
    "               [OSError(4)]\n",
    "         )\n",
    "    ]\n",
    ")\n",
    "raise eg"
   ]
  },
  {
   "cell_type": "markdown",
   "id": "b120875a",
   "metadata": {},
   "source": [
    "### ExceptionGroup handling methods: subgroup"
   ]
  },
  {
   "cell_type": "code",
   "execution_count": null,
   "id": "171527e6",
   "metadata": {},
   "outputs": [],
   "source": [
    "type_errors = eg.subgroup(lambda e: isinstance(e, TypeError))\n",
    "raise type_errors"
   ]
  },
  {
   "cell_type": "markdown",
   "id": "b129f12a",
   "metadata": {},
   "source": [
    "### ExceptionGroup handling methods: split"
   ]
  },
  {
   "cell_type": "code",
   "execution_count": null,
   "id": "1e096294",
   "metadata": {},
   "outputs": [],
   "source": [
    "type_errors, other_errors = eg.split(lambda e: isinstance(e, TypeError))\n",
    "raise other_errors"
   ]
  },
  {
   "cell_type": "markdown",
   "id": "9fe34249",
   "metadata": {},
   "source": [
    "### ExceptionGroup handling methods: except*"
   ]
  },
  {
   "cell_type": "code",
   "execution_count": null,
   "id": "a8bfceac",
   "metadata": {},
   "outputs": [],
   "source": [
    "import errno\n",
    "\n",
    "def low_level_os_operation() -> None:\n",
    "    raise ExceptionGroup(\n",
    "        \"subtasks\",\n",
    "        [\n",
    "            OSError(errno.EPIPE, \"Broken pipe\"),\n",
    "            OSError(errno.ENOENT, \"No such file or directory\"),\n",
    "            OSError(errno.EACCES, \"Permission denied\"),\n",
    "            ValueError(\"bad value\")\n",
    "        ]\n",
    "    )\n",
    "    \n",
    "try:\n",
    "    low_level_os_operation()\n",
    "except* OSError as errors:\n",
    "    exc = errors.subgroup(lambda e: isinstance(e, OSError) and e.errno != errno.EPIPE)\n",
    "    if exc is not None:\n",
    "        raise exc from None\n",
    "except* ValueError as errors:\n",
    "    raise errors from None"
   ]
  },
  {
   "cell_type": "markdown",
   "id": "c7205d38",
   "metadata": {},
   "source": [
    "# Input/Output streams"
   ]
  },
  {
   "cell_type": "markdown",
   "id": "ab9ca6ae",
   "metadata": {},
   "source": [
    "### Stream redirection"
   ]
  },
  {
   "cell_type": "code",
   "execution_count": null,
   "id": "d3d8153d",
   "metadata": {},
   "outputs": [
    {
     "name": "stdout",
     "output_type": "stream",
     "text": [
      "Writing io_example.py\n"
     ]
    }
   ],
   "source": [
    "%%writefile io_example.py\n",
    "\n",
    "import sys\n",
    "\n",
    "sys.stdout.write('Hello, world!\\n')\n",
    "sys.stderr.write('Error!')"
   ]
  },
  {
   "cell_type": "code",
   "execution_count": null,
   "id": "03afa48e",
   "metadata": {},
   "outputs": [
    {
     "name": "stdout",
     "output_type": "stream",
     "text": [
      "Hello, world!\n",
      "Error!"
     ]
    }
   ],
   "source": [
    "!python io_example.py"
   ]
  },
  {
   "cell_type": "code",
   "execution_count": null,
   "id": "5384d61f",
   "metadata": {},
   "outputs": [
    {
     "name": "stdout",
     "output_type": "stream",
     "text": [
      "redirect stdout to logs.txt\n"
     ]
    },
    {
     "name": "stderr",
     "output_type": "stream",
     "text": [
      "Error!"
     ]
    }
   ],
   "source": [
    "%%bash\n",
    "echo \"redirect stdout to logs.txt\"\n",
    "python io_example.py > logs.txt\n"
   ]
  },
  {
   "cell_type": "code",
   "execution_count": null,
   "id": "e6af8501",
   "metadata": {},
   "outputs": [
    {
     "name": "stdout",
     "output_type": "stream",
     "text": [
      "logs.txt content:\n"
     ]
    },
    {
     "name": "stdout",
     "output_type": "stream",
     "text": [
      "Hello, world!\n"
     ]
    }
   ],
   "source": [
    "%%bash\n",
    "echo \"logs.txt content:\"\n",
    "cat logs.txt\n"
   ]
  },
  {
   "cell_type": "code",
   "execution_count": null,
   "id": "18ef6250",
   "metadata": {},
   "outputs": [
    {
     "name": "stdout",
     "output_type": "stream",
     "text": [
      "redirect stderr to logs.txt\n",
      "Hello, world!\n"
     ]
    }
   ],
   "source": [
    "%%bash\n",
    "echo \"redirect stderr to logs.txt\"\n",
    "python io_example.py 2> logs.txt\n"
   ]
  },
  {
   "cell_type": "code",
   "execution_count": null,
   "id": "de93106f",
   "metadata": {},
   "outputs": [
    {
     "name": "stdout",
     "output_type": "stream",
     "text": [
      "logs.txt content:\n",
      "Error!"
     ]
    }
   ],
   "source": [
    "%%bash\n",
    "echo \"logs.txt content:\"\n",
    "cat logs.txt"
   ]
  },
  {
   "cell_type": "markdown",
   "id": "09c51a9d",
   "metadata": {},
   "source": [
    "Note: separation of stdout and stderr allows you to distinguish between output (e.g. valid data) and error messages."
   ]
  },
  {
   "cell_type": "markdown",
   "id": "3ff5ba70",
   "metadata": {},
   "source": [
    "### UTF-8\n",
    "\n",
    "* Variable-length encoding of Unicode:\n",
    "  * ASCII (U+0000–U+007F): **1 byte**\n",
    "  * Many Latin/European chars: **2 bytes**\n",
    "  * Most other BMP: **3 bytes**\n",
    "  * Emojis/rare symbols: **4 bytes**\n",
    "* Never assume “1 char = 1 byte”.\n"
   ]
  },
  {
   "cell_type": "code",
   "execution_count": null,
   "id": "64e9ef12",
   "metadata": {},
   "outputs": [],
   "source": [
    "print(\"A\".encode(\"utf-8\"))  # b'A' is a byte, not character\n",
    "print(\"é\".encode(\"utf-8\"))\n",
    "print(\"€\".encode(\"utf-8\"))\n",
    "print(\"🐍\".encode(\"utf-8\"))"
   ]
  },
  {
   "cell_type": "code",
   "execution_count": null,
   "id": "0196efd9",
   "metadata": {},
   "outputs": [],
   "source": [
    "print(list(\"A\".encode(\"utf-8\")))\n",
    "print(list(\"é\".encode(\"utf-8\")))\n",
    "print(list(\"€\".encode(\"utf-8\")))\n",
    "print(list(\"🐍\".encode(\"utf-8\")))\n",
    "# one more 4 byte character\n",
    "print(list(\"💡\".encode(\"utf-8\")))\n",
    "print(list(\"🀄\".encode(\"utf-8\")))\n"
   ]
  },
  {
   "cell_type": "markdown",
   "id": "eb7d9abb",
   "metadata": {},
   "source": [
    "You can read more on UTF-8 encoding [here](https://medium.com/free-code-camp/a-beginner-friendly-guide-to-unicode-d6d45a903515)."
   ]
  },
  {
   "cell_type": "code",
   "execution_count": null,
   "id": "2639194a",
   "metadata": {},
   "outputs": [],
   "source": [
    "message = \"Secret message: 💡\"\n",
    "\n",
    "with open(\"secret_message.txt\", \"w\", encoding=\"utf-8\") as f:\n",
    "    f.write(message)\n",
    "\n",
    "with open(\"secret_message.txt\", \"r\", encoding=\"utf-16\") as f:\n",
    "    print(f.read())"
   ]
  },
  {
   "cell_type": "markdown",
   "id": "5620bc11",
   "metadata": {},
   "source": [
    "Note: use proper encoding; most of the time it is UTF-8"
   ]
  },
  {
   "cell_type": "markdown",
   "id": "6a7ba36f",
   "metadata": {},
   "source": [
    "### Mini-bonus: `seek`"
   ]
  },
  {
   "cell_type": "markdown",
   "id": "593b153c",
   "metadata": {},
   "source": [
    "What if we need to go back to the beginning of a file we've read? Do we have to reopen it?"
   ]
  },
  {
   "cell_type": "code",
   "execution_count": null,
   "id": "9f75a374",
   "metadata": {},
   "outputs": [],
   "source": [
    "!cat some_text.txt"
   ]
  },
  {
   "cell_type": "code",
   "execution_count": null,
   "id": "033d3cf3",
   "metadata": {},
   "outputs": [],
   "source": [
    "with open(\"some_text.txt\", \"r\") as f:\n",
    "    first_line = f.readline()\n",
    "    print(first_line)\n",
    "    \n",
    "    # what if I want to read the first line again?\n",
    "    f.seek(0)\n",
    "    print(f.readline())\n",
    "\n",
    "    # one more time\n",
    "    f.seek(0)\n",
    "    print(f.readline())"
   ]
  },
  {
   "cell_type": "code",
   "execution_count": null,
   "id": "834aea87",
   "metadata": {},
   "outputs": [],
   "source": [
    "import io\n",
    "\n",
    "with open(\"some_text.txt\", \"r\") as f:\n",
    "    f.seek(-10, io.SEEK_END)  # oops...\n",
    "    print(f.read())"
   ]
  },
  {
   "cell_type": "markdown",
   "id": "6142def1",
   "metadata": {},
   "source": [
    "Q: Why can't I go back? \\\n",
    "A: Imagine you have a symbol represented as 4 bytes (e.g. 💡). \\\n",
    "When you go back, you don't want to read the whole file. \\\n",
    "However, without reading the whole file, you can't know whether the current byte is one symbol or part of bytes sequence representing another symbol."
   ]
  },
  {
   "cell_type": "markdown",
   "id": "f6a7856b",
   "metadata": {},
   "source": [
    "# Namespaces"
   ]
  },
  {
   "cell_type": "markdown",
   "id": "77dc496a",
   "metadata": {},
   "source": [
    "Interesting: Each scope doesn't change during the execution of the program. \\\n",
    "In other words, namespaces are determined before the execution of the program."
   ]
  },
  {
   "cell_type": "code",
   "execution_count": 1,
   "id": "8bbf826f",
   "metadata": {},
   "outputs": [
    {
     "name": "stdout",
     "output_type": "stream",
     "text": [
      "[]\n"
     ]
    }
   ],
   "source": [
    "globals_before = globals()\n",
    "x = 1\n",
    "def foo():\n",
    "    pass\n",
    "globals_after = globals()\n",
    "new_keys = list(set(globals_after.keys()) - set(globals_before.keys()))\n",
    "print(new_keys)"
   ]
  },
  {
   "cell_type": "code",
   "execution_count": 2,
   "id": "93d25fe8",
   "metadata": {},
   "outputs": [
    {
     "name": "stdout",
     "output_type": "stream",
     "text": [
      "[]\n"
     ]
    }
   ],
   "source": [
    "def main():\n",
    "    locals_before = locals()\n",
    "    x = 1\n",
    "    def foo():\n",
    "        pass\n",
    "    locals_after = locals()\n",
    "    new_keys = list(set(locals_after.keys()) - set(locals_before.keys()))\n",
    "    print(new_keys)\n",
    "\n",
    "main()"
   ]
  },
  {
   "cell_type": "markdown",
   "id": "6bb0adb2",
   "metadata": {},
   "source": [
    "### `global` + `nonlocal`"
   ]
  },
  {
   "cell_type": "markdown",
   "id": "98c18443",
   "metadata": {},
   "source": [
    "##### global "
   ]
  },
  {
   "cell_type": "code",
   "execution_count": null,
   "id": "e648c626",
   "metadata": {},
   "outputs": [],
   "source": [
    "global_var = 'global_var'\n",
    "\n",
    "def func():\n",
    "    global global_var\n",
    "    global_var = 'global_var_modified'\n",
    "    print(locals())\n",
    "    print(global_var)\n",
    "\n",
    "func()\n",
    "print(global_var)"
   ]
  },
  {
   "cell_type": "markdown",
   "id": "6bfb5daa",
   "metadata": {},
   "source": [
    "<div class=\"alert alert-danger\">\n",
    "<b>Antipattern: </b> using global\n",
    "</div>"
   ]
  },
  {
   "cell_type": "code",
   "execution_count": null,
   "id": "42c2a3fc",
   "metadata": {},
   "outputs": [],
   "source": [
    "def func():\n",
    "    # global can create\n",
    "    global new_global_var\n",
    "    new_global_var = 'new_global_var'\n",
    "    print(new_global_var)\n",
    "\n",
    "func()\n",
    "print(new_global_var)"
   ]
  },
  {
   "cell_type": "markdown",
   "id": "fc4a0bb1",
   "metadata": {},
   "source": [
    "### Problem"
   ]
  },
  {
   "cell_type": "markdown",
   "id": "7c90f8e3",
   "metadata": {},
   "source": [
    "We want to use `outer` var in `inner`"
   ]
  },
  {
   "cell_type": "code",
   "execution_count": null,
   "id": "6218e99c",
   "metadata": {},
   "outputs": [],
   "source": [
    "def outer():\n",
    "    var = 'outer'\n",
    "\n",
    "    def inner():\n",
    "        global var\n",
    "        var = 'inner'\n",
    "        print('from inner:', var)\n",
    "\n",
    "    inner()\n",
    "    print('from outer:', var)\n",
    "\n",
    "outer()\n",
    "print('from global:', var)"
   ]
  },
  {
   "cell_type": "markdown",
   "id": "19f3fff9",
   "metadata": {},
   "source": [
    "##### Solution: nonlocal"
   ]
  },
  {
   "cell_type": "code",
   "execution_count": null,
   "id": "3b5a3438",
   "metadata": {},
   "outputs": [],
   "source": [
    "def outer():\n",
    "    var = 'outer'\n",
    "\n",
    "    def inner():\n",
    "        nonlocal var\n",
    "        var = 'inner'\n",
    "        print('from inner :', var)\n",
    "\n",
    "    inner()    \n",
    "    print('from outer :', var)\n",
    "\n",
    "var = 'global'\n",
    "outer()\n",
    "print('from global:', var)"
   ]
  },
  {
   "cell_type": "markdown",
   "id": "2c42b6fc",
   "metadata": {},
   "source": [
    "<div class=\"alert alert-danger\">\n",
    "<b>Antipattern: </b> using nonlocal\n",
    "</div>"
   ]
  },
  {
   "cell_type": "markdown",
   "id": "fd1e43d6",
   "metadata": {},
   "source": [
    "### Python Types to JSON"
   ]
  },
  {
   "cell_type": "markdown",
   "id": "69c06fce",
   "metadata": {},
   "source": [
    "What about Decimal, complex, datetime, ...? We want to store them too."
   ]
  },
  {
   "cell_type": "code",
   "execution_count": null,
   "id": "f3f79887",
   "metadata": {},
   "outputs": [
    {
     "ename": "TypeError",
     "evalue": "Object of type Decimal is not JSON serializable",
     "output_type": "error",
     "traceback": [
      "\u001b[31m---------------------------------------------------------------------------\u001b[39m\n",
      "\u001b[31mTypeError\u001b[39m                                 Traceback (most recent call last)\n",
      "\u001b[36mCell\u001b[39m\u001b[36m \u001b[39m\u001b[32mIn[42]\u001b[39m\u001b[32m, line 3\u001b[39m\n",
      "\u001b[32m      1\u001b[39m \u001b[38;5;28;01mfrom\u001b[39;00m\u001b[38;5;250m \u001b[39m\u001b[34;01mdecimal\u001b[39;00m\u001b[38;5;250m \u001b[39m\u001b[38;5;28;01mimport\u001b[39;00m Decimal\n",
      "\u001b[32m      2\u001b[39m num = Decimal(\u001b[33m'\u001b[39m\u001b[33m0.1\u001b[39m\u001b[33m'\u001b[39m)\n",
      "\u001b[32m----> \u001b[39m\u001b[32m3\u001b[39m \u001b[43mjson\u001b[49m\u001b[43m.\u001b[49m\u001b[43mdumps\u001b[49m\u001b[43m(\u001b[49m\u001b[43mnum\u001b[49m\u001b[43m)\u001b[49m\n",
      "\n",
      "\u001b[36mFile \u001b[39m\u001b[32m~/.pyenv/versions/3.12.10/lib/python3.12/json/__init__.py:231\u001b[39m, in \u001b[36mdumps\u001b[39m\u001b[34m(obj, skipkeys, ensure_ascii, check_circular, allow_nan, cls, indent, separators, default, sort_keys, **kw)\u001b[39m\n",
      "\u001b[32m    226\u001b[39m \u001b[38;5;66;03m# cached encoder\u001b[39;00m\n",
      "\u001b[32m    227\u001b[39m \u001b[38;5;28;01mif\u001b[39;00m (\u001b[38;5;129;01mnot\u001b[39;00m skipkeys \u001b[38;5;129;01mand\u001b[39;00m ensure_ascii \u001b[38;5;129;01mand\u001b[39;00m\n",
      "\u001b[32m    228\u001b[39m     check_circular \u001b[38;5;129;01mand\u001b[39;00m allow_nan \u001b[38;5;129;01mand\u001b[39;00m\n",
      "\u001b[32m    229\u001b[39m     \u001b[38;5;28mcls\u001b[39m \u001b[38;5;129;01mis\u001b[39;00m \u001b[38;5;28;01mNone\u001b[39;00m \u001b[38;5;129;01mand\u001b[39;00m indent \u001b[38;5;129;01mis\u001b[39;00m \u001b[38;5;28;01mNone\u001b[39;00m \u001b[38;5;129;01mand\u001b[39;00m separators \u001b[38;5;129;01mis\u001b[39;00m \u001b[38;5;28;01mNone\u001b[39;00m \u001b[38;5;129;01mand\u001b[39;00m\n",
      "\u001b[32m    230\u001b[39m     default \u001b[38;5;129;01mis\u001b[39;00m \u001b[38;5;28;01mNone\u001b[39;00m \u001b[38;5;129;01mand\u001b[39;00m \u001b[38;5;129;01mnot\u001b[39;00m sort_keys \u001b[38;5;129;01mand\u001b[39;00m \u001b[38;5;129;01mnot\u001b[39;00m kw):\n",
      "\u001b[32m--> \u001b[39m\u001b[32m231\u001b[39m     \u001b[38;5;28;01mreturn\u001b[39;00m \u001b[43m_default_encoder\u001b[49m\u001b[43m.\u001b[49m\u001b[43mencode\u001b[49m\u001b[43m(\u001b[49m\u001b[43mobj\u001b[49m\u001b[43m)\u001b[49m\n",
      "\u001b[32m    232\u001b[39m \u001b[38;5;28;01mif\u001b[39;00m \u001b[38;5;28mcls\u001b[39m \u001b[38;5;129;01mis\u001b[39;00m \u001b[38;5;28;01mNone\u001b[39;00m:\n",
      "\u001b[32m    233\u001b[39m     \u001b[38;5;28mcls\u001b[39m = JSONEncoder\n",
      "\n",
      "\u001b[36mFile \u001b[39m\u001b[32m~/.pyenv/versions/3.12.10/lib/python3.12/json/encoder.py:200\u001b[39m, in \u001b[36mJSONEncoder.encode\u001b[39m\u001b[34m(self, o)\u001b[39m\n",
      "\u001b[32m    196\u001b[39m         \u001b[38;5;28;01mreturn\u001b[39;00m encode_basestring(o)\n",
      "\u001b[32m    197\u001b[39m \u001b[38;5;66;03m# This doesn't pass the iterator directly to ''.join() because the\u001b[39;00m\n",
      "\u001b[32m    198\u001b[39m \u001b[38;5;66;03m# exceptions aren't as detailed.  The list call should be roughly\u001b[39;00m\n",
      "\u001b[32m    199\u001b[39m \u001b[38;5;66;03m# equivalent to the PySequence_Fast that ''.join() would do.\u001b[39;00m\n",
      "\u001b[32m--> \u001b[39m\u001b[32m200\u001b[39m chunks = \u001b[38;5;28;43mself\u001b[39;49m\u001b[43m.\u001b[49m\u001b[43miterencode\u001b[49m\u001b[43m(\u001b[49m\u001b[43mo\u001b[49m\u001b[43m,\u001b[49m\u001b[43m \u001b[49m\u001b[43m_one_shot\u001b[49m\u001b[43m=\u001b[49m\u001b[38;5;28;43;01mTrue\u001b[39;49;00m\u001b[43m)\u001b[49m\n",
      "\u001b[32m    201\u001b[39m \u001b[38;5;28;01mif\u001b[39;00m \u001b[38;5;129;01mnot\u001b[39;00m \u001b[38;5;28misinstance\u001b[39m(chunks, (\u001b[38;5;28mlist\u001b[39m, \u001b[38;5;28mtuple\u001b[39m)):\n",
      "\u001b[32m    202\u001b[39m     chunks = \u001b[38;5;28mlist\u001b[39m(chunks)\n",
      "\n",
      "\u001b[36mFile \u001b[39m\u001b[32m~/.pyenv/versions/3.12.10/lib/python3.12/json/encoder.py:258\u001b[39m, in \u001b[36mJSONEncoder.iterencode\u001b[39m\u001b[34m(self, o, _one_shot)\u001b[39m\n",
      "\u001b[32m    253\u001b[39m \u001b[38;5;28;01melse\u001b[39;00m:\n",
      "\u001b[32m    254\u001b[39m     _iterencode = _make_iterencode(\n",
      "\u001b[32m    255\u001b[39m         markers, \u001b[38;5;28mself\u001b[39m.default, _encoder, \u001b[38;5;28mself\u001b[39m.indent, floatstr,\n",
      "\u001b[32m    256\u001b[39m         \u001b[38;5;28mself\u001b[39m.key_separator, \u001b[38;5;28mself\u001b[39m.item_separator, \u001b[38;5;28mself\u001b[39m.sort_keys,\n",
      "\u001b[32m    257\u001b[39m         \u001b[38;5;28mself\u001b[39m.skipkeys, _one_shot)\n",
      "\u001b[32m--> \u001b[39m\u001b[32m258\u001b[39m \u001b[38;5;28;01mreturn\u001b[39;00m \u001b[43m_iterencode\u001b[49m\u001b[43m(\u001b[49m\u001b[43mo\u001b[49m\u001b[43m,\u001b[49m\u001b[43m \u001b[49m\u001b[32;43m0\u001b[39;49m\u001b[43m)\u001b[49m\n",
      "\n",
      "\u001b[36mFile \u001b[39m\u001b[32m~/.pyenv/versions/3.12.10/lib/python3.12/json/encoder.py:180\u001b[39m, in \u001b[36mJSONEncoder.default\u001b[39m\u001b[34m(self, o)\u001b[39m\n",
      "\u001b[32m    161\u001b[39m \u001b[38;5;28;01mdef\u001b[39;00m\u001b[38;5;250m \u001b[39m\u001b[34mdefault\u001b[39m(\u001b[38;5;28mself\u001b[39m, o):\n",
      "\u001b[32m    162\u001b[39m \u001b[38;5;250m    \u001b[39m\u001b[33;03m\"\"\"Implement this method in a subclass such that it returns\u001b[39;00m\n",
      "\u001b[32m    163\u001b[39m \u001b[33;03m    a serializable object for ``o``, or calls the base implementation\u001b[39;00m\n",
      "\u001b[32m    164\u001b[39m \u001b[33;03m    (to raise a ``TypeError``).\u001b[39;00m\n",
      "\u001b[32m   (...)\u001b[39m\u001b[32m    178\u001b[39m \n",
      "\u001b[32m    179\u001b[39m \u001b[33;03m    \"\"\"\u001b[39;00m\n",
      "\u001b[32m--> \u001b[39m\u001b[32m180\u001b[39m     \u001b[38;5;28;01mraise\u001b[39;00m \u001b[38;5;167;01mTypeError\u001b[39;00m(\u001b[33mf\u001b[39m\u001b[33m'\u001b[39m\u001b[33mObject of type \u001b[39m\u001b[38;5;132;01m{\u001b[39;00mo.\u001b[34m__class__\u001b[39m.\u001b[34m__name__\u001b[39m\u001b[38;5;132;01m}\u001b[39;00m\u001b[33m \u001b[39m\u001b[33m'\u001b[39m\n",
      "\u001b[32m    181\u001b[39m                     \u001b[33mf\u001b[39m\u001b[33m'\u001b[39m\u001b[33mis not JSON serializable\u001b[39m\u001b[33m'\u001b[39m)\n",
      "\n",
      "\u001b[31mTypeError\u001b[39m: Object of type Decimal is not JSON serializable"
     ]
    }
   ],
   "source": [
    "from decimal import Decimal\n",
    "num = Decimal('0.1')\n",
    "json.dumps(num)"
   ]
  },
  {
   "cell_type": "code",
   "execution_count": null,
   "id": "59334274",
   "metadata": {},
   "outputs": [],
   "source": [
    "def my_encode(obj):\n",
    "    if isinstance(obj, Decimal):\n",
    "        return str(obj)\n",
    "    raise TypeError('Unknown object type {}'.format(type(obj)))\n",
    "    \n",
    "print(json.dumps(num, default=my_encode))\n",
    "print(json.dumps(num, default=str))"
   ]
  },
  {
   "cell_type": "code",
   "execution_count": null,
   "id": "e9218acf",
   "metadata": {},
   "outputs": [],
   "source": [
    "class MyEncoder(json.JSONEncoder):\n",
    "    def default(self, obj):\n",
    "        if isinstance(obj, Decimal):\n",
    "            return str(obj)\n",
    "        return json.JSONEncoder.default(self, obj)\n",
    "    \n",
    "    def encode(self, obj):\n",
    "        res = json.JSONEncoder.encode(self, obj)\n",
    "        if isinstance(obj, list):\n",
    "            return 'formatted:{}'.format(res)\n",
    "        return res\n",
    "\n",
    "data = ['hello world', Decimal('1.23'), [1.1234, 2, 3]]\n",
    "\n",
    "print(json.dumps(data, cls=MyEncoder))"
   ]
  },
  {
   "cell_type": "markdown",
   "id": "3dc6ad02",
   "metadata": {},
   "source": [
    "How to load Decimal, complex, datetime, ...?"
   ]
  },
  {
   "cell_type": "code",
   "execution_count": null,
   "id": "ab200879",
   "metadata": {},
   "outputs": [],
   "source": [
    "class DecimalEncoder(json.JSONEncoder):\n",
    "    def default(self, obj):\n",
    "        if isinstance(obj, Decimal):\n",
    "            return {'__Decimal__': str(obj)}\n",
    "        return json.JSONEncoder.default(self)\n",
    "    \n",
    "def as_Decimal(dct):\n",
    "    val = dct.get('__Decimal__')\n",
    "    if val is not None:\n",
    "        return Decimal(val)\n",
    "    return dct\n",
    "\n",
    "a = [Decimal('0.1'), Decimal('0.001')]\n",
    "a_json = json.dumps(a, cls=DecimalEncoder)\n",
    "print(a)\n",
    "print(a_json)\n",
    "b = json.loads(a_json, object_hook=as_Decimal)\n",
    "print(b)"
   ]
  },
  {
   "cell_type": "code",
   "execution_count": null,
   "id": "1180ad5c",
   "metadata": {},
   "outputs": [],
   "source": [
    "json_str = '[0.01, 0.001]'\n",
    "a = json.loads(json_str, parse_float=Decimal)\n",
    "print(a)"
   ]
  },
  {
   "cell_type": "markdown",
   "id": "674fd289",
   "metadata": {},
   "source": [
    "Q: How to make it more convenient? <br>\n",
    "A: Use other modules for working with json / additional modules.\n",
    "\n",
    "Useful modules:\n",
    "* dataclasses-json"
   ]
  },
  {
   "cell_type": "code",
   "execution_count": null,
   "id": "840c3072",
   "metadata": {},
   "outputs": [],
   "source": [
    "import simplejson\n",
    "\n",
    "a = [0.1, Decimal('0.001')]\n",
    "a_json = simplejson.dumps(a)\n",
    "print(a_json)\n",
    "\n",
    "a_parsed = simplejson.loads(a_json)\n",
    "print(a_parsed, type(a_parsed[1]))\n",
    "\n",
    "a_parsed_dec = simplejson.loads(a_json, use_decimal=True)\n",
    "print(a_parsed_dec, type(a_parsed_dec[0]))"
   ]
  },
  {
   "cell_type": "markdown",
   "id": "bc572094",
   "metadata": {},
   "source": [
    "### Useful dump/dumps arguments\n",
    "\n",
    "Note: this is a **bonus topic** \n",
    "\n",
    "`json.dump(obj, fp, *, skipkeys=False, ensure_ascii=True, check_...ent=None, separators=None, default=None, sort_keys=False, **kw)`\n",
    "\n",
    "`json.dumps(obj, *, skipkeys=False, ensure_ascii=True, check_cir...ent=None, separators=None, default=None, sort_keys=False, **kw)`\n",
    "\n",
    "...\n",
    "\n",
    "Otherwise `locale.getpreferredencoding()` will be used."
   ]
  },
  {
   "cell_type": "code",
   "execution_count": null,
   "id": "f81dd122",
   "metadata": {},
   "outputs": [],
   "source": [
    "# indent + sort_keys\n",
    "\n",
    "data = [\n",
    "    {\n",
    "        'name': 'Max',\n",
    "        'age': 20,\n",
    "    },\n",
    "    {\n",
    "        'name': 'Alex',\n",
    "        'age': 31,\n",
    "    }\n",
    "]\n",
    "\n",
    "print(json.dumps(data))\n",
    "print(json.dumps(data, indent=2, sort_keys=True))"
   ]
  },
  {
   "cell_type": "code",
   "execution_count": null,
   "id": "7fd21cd5",
   "metadata": {},
   "outputs": [],
   "source": [
    "# ensure_ascii - json.dump only\n",
    "msg = 'Hello world!'\n",
    "\n",
    "with open('file_ascii.txt', 'w') as fout:\n",
    "    json.dump(msg, fout)\n",
    "!cat file_ascii.txt\n",
    "!echo \"\\n\"\n",
    "\n",
    "with open('file_utf8.txt', 'w', encoding='utf8') as fout:\n",
    "    json.dump(msg, fout, ensure_ascii=False)\n",
    "!cat file_utf8.txt"
   ]
  },
  {
   "cell_type": "code",
   "execution_count": null,
   "id": "9bb65940",
   "metadata": {},
   "outputs": [],
   "source": [
    "with open('file_utf8.txt', encoding='utf8') as fin:\n",
    "    print(json.load(fin))"
   ]
  },
  {
   "cell_type": "markdown",
   "id": "891b4da1",
   "metadata": {},
   "source": [
    "It's better to set the encoding when `ensure_ascii=False`.\n",
    "\n",
    "Otherwise `locale.getpreferredencoding()` will be used."
   ]
  },
  {
   "cell_type": "code",
   "execution_count": null,
   "id": "3e896aac",
   "metadata": {},
   "outputs": [],
   "source": [
    "# allow_nan\n",
    "\n",
    "num = float('inf')\n",
    "print(json.dumps(num))\n",
    "print(json.dumps(num, allow_nan=False))"
   ]
  },
  {
   "cell_type": "markdown",
   "id": "0784c4df",
   "metadata": {},
   "source": [
    "**Useful load/loads arguments**\n",
    "\n",
    "`json.load(fp, *, cls=None, object_hook=None, parse_float=None, ...se_int=None, parse_constant=None, object_pairs_hook=None, **kw)`\n",
    "\n",
    "`json.loads(s, *, cls=None, object_hook=None, parse_float=None, ...se_int=None, parse_constant=None, object_pairs_hook=None, **kw)`"
   ]
  },
  {
   "cell_type": "code",
   "execution_count": null,
   "id": "8aeaad93",
   "metadata": {},
   "outputs": [],
   "source": [
    "json.loads('{\"foo\": \"bar\"}', object_pairs_hook=print)\n",
    "json.loads('{\"foo\": \"bar\"}', object_hook=print)"
   ]
  }
 ],
 "metadata": {
  "kernelspec": {
   "display_name": ".venv",
   "language": "python",
   "name": "python3"
  },
  "language_info": {
   "codemirror_mode": {
    "name": "ipython",
    "version": 3
   },
   "file_extension": ".py",
   "mimetype": "text/x-python",
   "name": "python",
   "nbconvert_exporter": "python",
   "pygments_lexer": "ipython3",
   "version": "3.12.10"
  }
 },
 "nbformat": 4,
 "nbformat_minor": 5
}
