{
 "cells": [
  {
   "metadata": {},
   "cell_type": "markdown",
   "source": "# Seminar 2: Practical Error Handling & I/O",
   "id": "3756147cd4f5c26e"
  },
  {
   "metadata": {},
   "cell_type": "markdown",
   "source": "## Working with files",
   "id": "eb1a923880360a8e"
  },
  {
   "metadata": {},
   "cell_type": "markdown",
   "source": "### Reading",
   "id": "267267af1da69edb"
  },
  {
   "metadata": {
    "ExecuteTime": {
     "end_time": "2025-07-21T09:23:01.668386Z",
     "start_time": "2025-07-21T09:23:01.665887Z"
    }
   },
   "cell_type": "code",
   "source": [
    "# Bad example (outdated)\n",
    "f = open('tmp_data.json', 'r')\n",
    "content = f.read() # Reads entire content of the file\n",
    "print(content)\n",
    "f.close()"
   ],
   "id": "d726c277aad3e2d2",
   "outputs": [
    {
     "name": "stdout",
     "output_type": "stream",
     "text": [
      "{\n",
      "  \"a\": \"1\",\n",
      "  \"b\": \"2\"\n",
      "}\n"
     ]
    }
   ],
   "execution_count": 50
  },
  {
   "metadata": {
    "ExecuteTime": {
     "end_time": "2025-07-21T09:23:11.272473Z",
     "start_time": "2025-07-21T09:23:11.269746Z"
    }
   },
   "cell_type": "code",
   "source": [
    "# Good example\n",
    "with open('tmp_data.json', 'r') as f:\n",
    "    content = f.read() # Reads entire content of the file\n",
    "print(content)"
   ],
   "id": "53313f691615cbfb",
   "outputs": [
    {
     "name": "stdout",
     "output_type": "stream",
     "text": [
      "{\n",
      "  \"a\": \"1\",\n",
      "  \"b\": \"2\"\n",
      "}\n"
     ]
    }
   ],
   "execution_count": 51
  },
  {
   "metadata": {
    "ExecuteTime": {
     "end_time": "2025-07-22T05:56:19.024682Z",
     "start_time": "2025-07-22T05:56:19.021989Z"
    }
   },
   "cell_type": "code",
   "source": [
    "with open('tmp_data.json', 'r') as f:\n",
    "    print(f)\n",
    "    print(f\"{f.name=}, {f.mode=}, {f.encoding=}\")"
   ],
   "id": "1dc31c2f0a3c7f7a",
   "outputs": [
    {
     "name": "stdout",
     "output_type": "stream",
     "text": [
      "<_io.TextIOWrapper name='tmp_data.json' mode='r' encoding='UTF-8'>\n",
      "f.name='tmp_data.json', f.mode='r', f.encoding='UTF-8'\n"
     ]
    }
   ],
   "execution_count": 21
  },
  {
   "metadata": {
    "ExecuteTime": {
     "end_time": "2025-07-22T05:54:57.778009Z",
     "start_time": "2025-07-22T05:54:57.774836Z"
    }
   },
   "cell_type": "code",
   "source": [
    "with open('tmp_data.json', 'r') as f:\n",
    "    line = f.readline()\n",
    "    print(len(line))\n",
    "    line = f.readline()\n",
    "    print(len(line))\n",
    "    line = f.readline()\n",
    "    print(len(line))\n",
    "    line = f.readline()\n",
    "    print(len(line))\n",
    "    line = f.readline()\n",
    "    print(len(line))\n",
    "    line = f.readline()\n",
    "    print(len(line))\n",
    "    line = f.readline() # This can go indefinitely\n",
    "    print(len(line))"
   ],
   "id": "e47de17c604a0f",
   "outputs": [
    {
     "name": "stdout",
     "output_type": "stream",
     "text": [
      "2\n",
      "14\n",
      "13\n",
      "1\n",
      "0\n",
      "0\n",
      "0\n"
     ]
    }
   ],
   "execution_count": 20
  },
  {
   "metadata": {
    "ExecuteTime": {
     "end_time": "2025-07-22T05:54:14.126800Z",
     "start_time": "2025-07-22T05:54:14.123799Z"
    }
   },
   "cell_type": "code",
   "source": [
    "with open('tmp_data.json', 'r') as f:\n",
    "    while len(line := f.readline()) > 0:\n",
    "        print(line)"
   ],
   "id": "a7ecb87b8c91494d",
   "outputs": [
    {
     "name": "stdout",
     "output_type": "stream",
     "text": [
      "{\n",
      "\n",
      "    \"a\": \"1\",\n",
      "\n",
      "    \"b\": \"2\"\n",
      "\n",
      "}\n"
     ]
    }
   ],
   "execution_count": 18
  },
  {
   "metadata": {
    "ExecuteTime": {
     "end_time": "2025-07-22T06:03:18.399478Z",
     "start_time": "2025-07-22T06:03:18.396007Z"
    }
   },
   "cell_type": "code",
   "source": [
    "with open('tmp_data.json', 'r') as f:\n",
    "    for line in f.readlines():\n",
    "        print(line.replace('\\n', '\\\\n'))\n",
    "    \n",
    "    print('--------------------')\n",
    "    for line in f.readlines():\n",
    "        print('This will never be printed')\n",
    "        print(line)\n",
    "    f.seek(0)\n",
    "    for line in f.readlines():\n",
    "        print('Now this will be printed')\n",
    "        print(line.replace('\\n', '\\\\n'))"
   ],
   "id": "47292a798a01b544",
   "outputs": [
    {
     "name": "stdout",
     "output_type": "stream",
     "text": [
      "{\\n\n",
      "    \"a\": \"1\",\\n\n",
      "    \"b\": \"2\"\\n\n",
      "}\n",
      "--------------------\n",
      "Now this will be printed\n",
      "{\\n\n",
      "Now this will be printed\n",
      "    \"a\": \"1\",\\n\n",
      "Now this will be printed\n",
      "    \"b\": \"2\"\\n\n",
      "Now this will be printed\n",
      "}\n"
     ]
    }
   ],
   "execution_count": 34
  },
  {
   "metadata": {
    "ExecuteTime": {
     "end_time": "2025-07-22T06:59:36.486128Z",
     "start_time": "2025-07-22T06:59:36.483288Z"
    }
   },
   "cell_type": "code",
   "source": [
    "import json\n",
    "\n",
    "# Better way to load JSONs\n",
    "with open('tmp_data.json', 'r') as f:\n",
    "    data = json.load(f)\n",
    "print(data)"
   ],
   "id": "a6300cc2a4e35114",
   "outputs": [
    {
     "name": "stdout",
     "output_type": "stream",
     "text": [
      "{'a': '1', 'b': '2'}\n"
     ]
    }
   ],
   "execution_count": 95
  },
  {
   "metadata": {},
   "cell_type": "markdown",
   "source": "### Writing",
   "id": "5e9d19a43c3f44bc"
  },
  {
   "metadata": {
    "ExecuteTime": {
     "end_time": "2025-07-22T05:57:46.049374Z",
     "start_time": "2025-07-22T05:57:46.046295Z"
    }
   },
   "cell_type": "code",
   "source": [
    "with open('tmp_data.json', 'w') as f: # This erases the content of the file\n",
    "    pass\n",
    "\n",
    "with open('tmp_data.json', 'r') as f:\n",
    "    content = f.read()\n",
    "print(content)\n",
    "print(len(content))"
   ],
   "id": "2121c2dd1c0b52a2",
   "outputs": [
    {
     "name": "stdout",
     "output_type": "stream",
     "text": [
      "\n",
      "0\n"
     ]
    }
   ],
   "execution_count": 23
  },
  {
   "metadata": {
    "ExecuteTime": {
     "end_time": "2025-07-22T06:59:21.267173Z",
     "start_time": "2025-07-22T06:59:21.264325Z"
    }
   },
   "cell_type": "code",
   "source": [
    "# This is how you can write arbitrary data to the file\n",
    "with open('tmp_data.json', 'w') as f:\n",
    "    f.write('{\\n')\n",
    "    f.write('    \"a\": \"1\",\\n')\n",
    "    f.write('    \"b\": \"2\"\\n')\n",
    "    f.write('}')"
   ],
   "id": "386c22f66a5c16c1",
   "outputs": [],
   "execution_count": 94
  },
  {
   "metadata": {
    "ExecuteTime": {
     "end_time": "2025-07-22T06:04:54.053775Z",
     "start_time": "2025-07-22T06:04:54.047094Z"
    }
   },
   "cell_type": "code",
   "source": [
    "import json\n",
    "\n",
    "# But for JSON files, you can make it more simple:\n",
    "data = {\n",
    "    \"a\": 1,\n",
    "    \"b\": 2\n",
    "}\n",
    "\n",
    "print('json.dumps(data)')\n",
    "print(json.dumps(data))\n",
    "print()\n",
    "print()\n",
    "\n",
    "with open('tmp_data.json', 'w') as f:\n",
    "    f.write(json.dumps(data)) # Acceptable\n",
    "\n",
    "with open('tmp_data.json', 'r') as f:\n",
    "    print(f.read())\n",
    "\n",
    "with open('tmp_data.json', 'w') as f:\n",
    "    json.dump(data, f) # More concise\n",
    "\n",
    "with open('tmp_data.json', 'r') as f:\n",
    "    print(f.read())\n",
    "\n",
    "# Notice that now it's all in 1 line"
   ],
   "id": "27941792816a7db6",
   "outputs": [
    {
     "name": "stdout",
     "output_type": "stream",
     "text": [
      "json.dumps(data)\n",
      "{\"a\": 1, \"b\": 2}\n",
      "\n",
      "\n",
      "{\"a\": 1, \"b\": 2}\n",
      "{\"a\": 1, \"b\": 2}\n"
     ]
    }
   ],
   "execution_count": 38
  },
  {
   "metadata": {},
   "cell_type": "markdown",
   "source": "### Appending",
   "id": "91b67036a6399337"
  },
  {
   "metadata": {
    "ExecuteTime": {
     "end_time": "2025-07-22T06:04:54.810832Z",
     "start_time": "2025-07-22T06:04:54.807624Z"
    }
   },
   "cell_type": "code",
   "source": [
    "with open('tmp_data.json', 'a') as f:\n",
    "    f.write('\\n')\n",
    "    f.write(json.dumps({ 'c': 3, 'd': 4 }))\n",
    "\n",
    "with open('tmp_data.json', 'r') as f:\n",
    "    print(f.read())"
   ],
   "id": "d94c582fb842ae54",
   "outputs": [
    {
     "name": "stdout",
     "output_type": "stream",
     "text": [
      "{\"a\": 1, \"b\": 2}\n",
      "{\"c\": 3, \"d\": 4}\n"
     ]
    }
   ],
   "execution_count": 39
  },
  {
   "metadata": {},
   "cell_type": "markdown",
   "source": "## Exceptions",
   "id": "a464ca83e2456f9d"
  },
  {
   "metadata": {},
   "cell_type": "markdown",
   "source": "### Examples",
   "id": "bb5395a1490281f8"
  },
  {
   "metadata": {
    "ExecuteTime": {
     "end_time": "2025-07-21T08:38:39.130522Z",
     "start_time": "2025-07-21T08:38:39.116319Z"
    }
   },
   "cell_type": "code",
   "source": [
    "def some_complex_function(x: int) -> None:\n",
    "    a = 1 / x\n",
    "    ...\n",
    "    return\n",
    "\n",
    "some_complex_function(0)"
   ],
   "id": "44ede9ab4f071517",
   "outputs": [
    {
     "ename": "ZeroDivisionError",
     "evalue": "division by zero",
     "output_type": "error",
     "traceback": [
      "\u001B[0;31m---------------------------------------------------------------------------\u001B[0m",
      "\u001B[0;31mZeroDivisionError\u001B[0m                         Traceback (most recent call last)",
      "Cell \u001B[0;32mIn[4], line 6\u001B[0m\n\u001B[1;32m      3\u001B[0m     \u001B[38;5;241m.\u001B[39m\u001B[38;5;241m.\u001B[39m\u001B[38;5;241m.\u001B[39m\n\u001B[1;32m      4\u001B[0m     \u001B[38;5;28;01mreturn\u001B[39;00m\n\u001B[0;32m----> 6\u001B[0m \u001B[43msome_complex_function\u001B[49m\u001B[43m(\u001B[49m\u001B[38;5;241;43m0\u001B[39;49m\u001B[43m)\u001B[49m\n",
      "Cell \u001B[0;32mIn[4], line 2\u001B[0m, in \u001B[0;36msome_complex_function\u001B[0;34m(x)\u001B[0m\n\u001B[1;32m      1\u001B[0m \u001B[38;5;28;01mdef\u001B[39;00m \u001B[38;5;21msome_complex_function\u001B[39m(x: \u001B[38;5;28mint\u001B[39m) \u001B[38;5;241m-\u001B[39m\u001B[38;5;241m>\u001B[39m \u001B[38;5;28;01mNone\u001B[39;00m:\n\u001B[0;32m----> 2\u001B[0m     a \u001B[38;5;241m=\u001B[39m \u001B[38;5;241;43m1\u001B[39;49m\u001B[43m \u001B[49m\u001B[38;5;241;43m/\u001B[39;49m\u001B[43m \u001B[49m\u001B[43mx\u001B[49m\n\u001B[1;32m      3\u001B[0m     \u001B[38;5;241m.\u001B[39m\u001B[38;5;241m.\u001B[39m\u001B[38;5;241m.\u001B[39m\n\u001B[1;32m      4\u001B[0m     \u001B[38;5;28;01mreturn\u001B[39;00m\n",
      "\u001B[0;31mZeroDivisionError\u001B[0m: division by zero"
     ]
    }
   ],
   "execution_count": 4
  },
  {
   "metadata": {
    "ExecuteTime": {
     "end_time": "2025-07-21T08:52:11.683754Z",
     "start_time": "2025-07-21T08:52:11.673405Z"
    }
   },
   "cell_type": "code",
   "source": [
    "obj: str | None = None\n",
    "\n",
    "if some_long_expression := False:\n",
    "    obj = \"string\"\n",
    "\n",
    "print(len(obj))"
   ],
   "id": "914c63ef493d8157",
   "outputs": [
    {
     "ename": "TypeError",
     "evalue": "object of type 'NoneType' has no len()",
     "output_type": "error",
     "traceback": [
      "\u001B[0;31m---------------------------------------------------------------------------\u001B[0m",
      "\u001B[0;31mTypeError\u001B[0m                                 Traceback (most recent call last)",
      "Cell \u001B[0;32mIn[25], line 6\u001B[0m\n\u001B[1;32m      3\u001B[0m \u001B[38;5;28;01mif\u001B[39;00m some_long_expression \u001B[38;5;241m:=\u001B[39m \u001B[38;5;28;01mFalse\u001B[39;00m:\n\u001B[1;32m      4\u001B[0m     obj \u001B[38;5;241m=\u001B[39m \u001B[38;5;124m\"\u001B[39m\u001B[38;5;124mstring\u001B[39m\u001B[38;5;124m\"\u001B[39m\n\u001B[0;32m----> 6\u001B[0m \u001B[38;5;28mprint\u001B[39m(\u001B[38;5;28;43mlen\u001B[39;49m\u001B[43m(\u001B[49m\u001B[43mobj\u001B[49m\u001B[43m)\u001B[49m)\n",
      "\u001B[0;31mTypeError\u001B[0m: object of type 'NoneType' has no len()"
     ]
    }
   ],
   "execution_count": 25
  },
  {
   "metadata": {
    "ExecuteTime": {
     "end_time": "2025-07-21T08:46:36.946411Z",
     "start_time": "2025-07-21T08:46:36.936289Z"
    }
   },
   "cell_type": "code",
   "source": [
    "a = \"1\"\n",
    "print(a + \"2\")\n",
    "\n",
    "a = 1\n",
    "print(a + \"2\")"
   ],
   "id": "ff2f41669ae1c3d5",
   "outputs": [
    {
     "name": "stdout",
     "output_type": "stream",
     "text": [
      "12\n"
     ]
    },
    {
     "ename": "TypeError",
     "evalue": "unsupported operand type(s) for +: 'int' and 'str'",
     "output_type": "error",
     "traceback": [
      "\u001B[0;31m---------------------------------------------------------------------------\u001B[0m",
      "\u001B[0;31mTypeError\u001B[0m                                 Traceback (most recent call last)",
      "Cell \u001B[0;32mIn[19], line 5\u001B[0m\n\u001B[1;32m      2\u001B[0m \u001B[38;5;28mprint\u001B[39m(a \u001B[38;5;241m+\u001B[39m \u001B[38;5;124m\"\u001B[39m\u001B[38;5;124m2\u001B[39m\u001B[38;5;124m\"\u001B[39m)\n\u001B[1;32m      4\u001B[0m a \u001B[38;5;241m=\u001B[39m \u001B[38;5;241m1\u001B[39m\n\u001B[0;32m----> 5\u001B[0m \u001B[38;5;28mprint\u001B[39m(\u001B[43ma\u001B[49m\u001B[43m \u001B[49m\u001B[38;5;241;43m+\u001B[39;49m\u001B[43m \u001B[49m\u001B[38;5;124;43m\"\u001B[39;49m\u001B[38;5;124;43m2\u001B[39;49m\u001B[38;5;124;43m\"\u001B[39;49m)\n",
      "\u001B[0;31mTypeError\u001B[0m: unsupported operand type(s) for +: 'int' and 'str'"
     ]
    }
   ],
   "execution_count": 19
  },
  {
   "metadata": {
    "ExecuteTime": {
     "end_time": "2025-07-21T08:49:03.136057Z",
     "start_time": "2025-07-21T08:49:03.126248Z"
    }
   },
   "cell_type": "code",
   "source": [
    "my_dict = { 'a' : 1, 'b': 2, 'c': 3 }\n",
    "\n",
    "print(my_dict['d'])"
   ],
   "id": "9da3e3a52eed77a8",
   "outputs": [
    {
     "ename": "KeyError",
     "evalue": "'d'",
     "output_type": "error",
     "traceback": [
      "\u001B[0;31m---------------------------------------------------------------------------\u001B[0m",
      "\u001B[0;31mKeyError\u001B[0m                                  Traceback (most recent call last)",
      "Cell \u001B[0;32mIn[20], line 3\u001B[0m\n\u001B[1;32m      1\u001B[0m my_dict \u001B[38;5;241m=\u001B[39m { \u001B[38;5;124m'\u001B[39m\u001B[38;5;124ma\u001B[39m\u001B[38;5;124m'\u001B[39m : \u001B[38;5;241m1\u001B[39m, \u001B[38;5;124m'\u001B[39m\u001B[38;5;124mb\u001B[39m\u001B[38;5;124m'\u001B[39m: \u001B[38;5;241m2\u001B[39m, \u001B[38;5;124m'\u001B[39m\u001B[38;5;124mc\u001B[39m\u001B[38;5;124m'\u001B[39m: \u001B[38;5;241m3\u001B[39m }\n\u001B[0;32m----> 3\u001B[0m \u001B[38;5;28mprint\u001B[39m(\u001B[43mmy_dict\u001B[49m\u001B[43m[\u001B[49m\u001B[38;5;124;43m'\u001B[39;49m\u001B[38;5;124;43md\u001B[39;49m\u001B[38;5;124;43m'\u001B[39;49m\u001B[43m]\u001B[49m)\n",
      "\u001B[0;31mKeyError\u001B[0m: 'd'"
     ]
    }
   ],
   "execution_count": 20
  },
  {
   "metadata": {
    "ExecuteTime": {
     "end_time": "2025-07-21T08:49:23.815561Z",
     "start_time": "2025-07-21T08:49:23.805864Z"
    }
   },
   "cell_type": "code",
   "source": [
    "my_list = [1, 2, 3, 4, 5]\n",
    "print(my_list[5])"
   ],
   "id": "d773129771a2c51a",
   "outputs": [
    {
     "ename": "IndexError",
     "evalue": "list index out of range",
     "output_type": "error",
     "traceback": [
      "\u001B[0;31m---------------------------------------------------------------------------\u001B[0m",
      "\u001B[0;31mIndexError\u001B[0m                                Traceback (most recent call last)",
      "Cell \u001B[0;32mIn[21], line 2\u001B[0m\n\u001B[1;32m      1\u001B[0m my_list \u001B[38;5;241m=\u001B[39m [\u001B[38;5;241m1\u001B[39m, \u001B[38;5;241m2\u001B[39m, \u001B[38;5;241m3\u001B[39m, \u001B[38;5;241m4\u001B[39m, \u001B[38;5;241m5\u001B[39m]\n\u001B[0;32m----> 2\u001B[0m \u001B[38;5;28mprint\u001B[39m(\u001B[43mmy_list\u001B[49m\u001B[43m[\u001B[49m\u001B[38;5;241;43m5\u001B[39;49m\u001B[43m]\u001B[49m)\n",
      "\u001B[0;31mIndexError\u001B[0m: list index out of range"
     ]
    }
   ],
   "execution_count": 21
  },
  {
   "metadata": {
    "ExecuteTime": {
     "end_time": "2025-07-21T08:50:43.444176Z",
     "start_time": "2025-07-21T08:50:43.434518Z"
    }
   },
   "cell_type": "code",
   "source": [
    "num = int(\"42\")\n",
    "print(num)\n",
    "another_num = int(\"42s\")\n",
    "print(another_num)"
   ],
   "id": "81f7ed88c7df1101",
   "outputs": [
    {
     "name": "stdout",
     "output_type": "stream",
     "text": [
      "42\n"
     ]
    },
    {
     "ename": "ValueError",
     "evalue": "invalid literal for int() with base 10: '42s'",
     "output_type": "error",
     "traceback": [
      "\u001B[0;31m---------------------------------------------------------------------------\u001B[0m",
      "\u001B[0;31mValueError\u001B[0m                                Traceback (most recent call last)",
      "Cell \u001B[0;32mIn[23], line 3\u001B[0m\n\u001B[1;32m      1\u001B[0m num \u001B[38;5;241m=\u001B[39m \u001B[38;5;28mint\u001B[39m(\u001B[38;5;124m\"\u001B[39m\u001B[38;5;124m42\u001B[39m\u001B[38;5;124m\"\u001B[39m)\n\u001B[1;32m      2\u001B[0m \u001B[38;5;28mprint\u001B[39m(num)\n\u001B[0;32m----> 3\u001B[0m another_num \u001B[38;5;241m=\u001B[39m \u001B[38;5;28;43mint\u001B[39;49m\u001B[43m(\u001B[49m\u001B[38;5;124;43m\"\u001B[39;49m\u001B[38;5;124;43m42s\u001B[39;49m\u001B[38;5;124;43m\"\u001B[39;49m\u001B[43m)\u001B[49m\n\u001B[1;32m      4\u001B[0m \u001B[38;5;28mprint\u001B[39m(another_num)\n",
      "\u001B[0;31mValueError\u001B[0m: invalid literal for int() with base 10: '42s'"
     ]
    }
   ],
   "execution_count": 23
  },
  {
   "metadata": {
    "ExecuteTime": {
     "end_time": "2025-07-21T08:51:24.669181Z",
     "start_time": "2025-07-21T08:51:22.940408Z"
    }
   },
   "cell_type": "code",
   "source": [
    "def infinite_recursion():\n",
    "    return infinite_recursion()\n",
    "\n",
    "infinite_recursion()"
   ],
   "id": "788ab6b58c0eb3d2",
   "outputs": [
    {
     "ename": "RecursionError",
     "evalue": "maximum recursion depth exceeded",
     "output_type": "error",
     "traceback": [
      "\u001B[0;31m---------------------------------------------------------------------------\u001B[0m",
      "\u001B[0;31mRecursionError\u001B[0m                            Traceback (most recent call last)",
      "Cell \u001B[0;32mIn[24], line 4\u001B[0m\n\u001B[1;32m      1\u001B[0m \u001B[38;5;28;01mdef\u001B[39;00m \u001B[38;5;21minfinite_recursion\u001B[39m():\n\u001B[1;32m      2\u001B[0m     \u001B[38;5;28;01mreturn\u001B[39;00m infinite_recursion()\n\u001B[0;32m----> 4\u001B[0m \u001B[43minfinite_recursion\u001B[49m\u001B[43m(\u001B[49m\u001B[43m)\u001B[49m\n",
      "Cell \u001B[0;32mIn[24], line 2\u001B[0m, in \u001B[0;36minfinite_recursion\u001B[0;34m()\u001B[0m\n\u001B[1;32m      1\u001B[0m \u001B[38;5;28;01mdef\u001B[39;00m \u001B[38;5;21minfinite_recursion\u001B[39m():\n\u001B[0;32m----> 2\u001B[0m     \u001B[38;5;28;01mreturn\u001B[39;00m \u001B[43minfinite_recursion\u001B[49m\u001B[43m(\u001B[49m\u001B[43m)\u001B[49m\n",
      "Cell \u001B[0;32mIn[24], line 2\u001B[0m, in \u001B[0;36minfinite_recursion\u001B[0;34m()\u001B[0m\n\u001B[1;32m      1\u001B[0m \u001B[38;5;28;01mdef\u001B[39;00m \u001B[38;5;21minfinite_recursion\u001B[39m():\n\u001B[0;32m----> 2\u001B[0m     \u001B[38;5;28;01mreturn\u001B[39;00m \u001B[43minfinite_recursion\u001B[49m\u001B[43m(\u001B[49m\u001B[43m)\u001B[49m\n",
      "    \u001B[0;31m[... skipping similar frames: infinite_recursion at line 2 (2969 times)]\u001B[0m\n",
      "Cell \u001B[0;32mIn[24], line 2\u001B[0m, in \u001B[0;36minfinite_recursion\u001B[0;34m()\u001B[0m\n\u001B[1;32m      1\u001B[0m \u001B[38;5;28;01mdef\u001B[39;00m \u001B[38;5;21minfinite_recursion\u001B[39m():\n\u001B[0;32m----> 2\u001B[0m     \u001B[38;5;28;01mreturn\u001B[39;00m \u001B[43minfinite_recursion\u001B[49m\u001B[43m(\u001B[49m\u001B[43m)\u001B[49m\n",
      "\u001B[0;31mRecursionError\u001B[0m: maximum recursion depth exceeded"
     ]
    }
   ],
   "execution_count": 24
  },
  {
   "metadata": {
    "ExecuteTime": {
     "end_time": "2025-07-21T09:24:11.441959Z",
     "start_time": "2025-07-21T09:24:11.375278Z"
    }
   },
   "cell_type": "code",
   "source": [
    "with open('non-existing-file.txt', 'r') as f:\n",
    "    content = f.readline()\n",
    "    print(content)"
   ],
   "id": "1f4dc6d231325874",
   "outputs": [
    {
     "ename": "FileNotFoundError",
     "evalue": "[Errno 2] No such file or directory: 'non-existing-file.txt'",
     "output_type": "error",
     "traceback": [
      "\u001B[0;31m---------------------------------------------------------------------------\u001B[0m",
      "\u001B[0;31mFileNotFoundError\u001B[0m                         Traceback (most recent call last)",
      "Cell \u001B[0;32mIn[52], line 1\u001B[0m\n\u001B[0;32m----> 1\u001B[0m \u001B[38;5;28;01mwith\u001B[39;00m \u001B[38;5;28;43mopen\u001B[39;49m\u001B[43m(\u001B[49m\u001B[38;5;124;43m'\u001B[39;49m\u001B[38;5;124;43mnon-existing-file.txt\u001B[39;49m\u001B[38;5;124;43m'\u001B[39;49m\u001B[43m,\u001B[49m\u001B[43m \u001B[49m\u001B[38;5;124;43m'\u001B[39;49m\u001B[38;5;124;43mr\u001B[39;49m\u001B[38;5;124;43m'\u001B[39;49m\u001B[43m)\u001B[49m \u001B[38;5;28;01mas\u001B[39;00m f:\n\u001B[1;32m      2\u001B[0m     content \u001B[38;5;241m=\u001B[39m f\u001B[38;5;241m.\u001B[39mreadline()\n\u001B[1;32m      3\u001B[0m     \u001B[38;5;28mprint\u001B[39m(content)\n",
      "File \u001B[0;32m~/Documents/Msu/DataSpell/python3.10/lib/python3.10/site-packages/IPython/core/interactiveshell.py:324\u001B[0m, in \u001B[0;36m_modified_open\u001B[0;34m(file, *args, **kwargs)\u001B[0m\n\u001B[1;32m    317\u001B[0m \u001B[38;5;28;01mif\u001B[39;00m file \u001B[38;5;129;01min\u001B[39;00m {\u001B[38;5;241m0\u001B[39m, \u001B[38;5;241m1\u001B[39m, \u001B[38;5;241m2\u001B[39m}:\n\u001B[1;32m    318\u001B[0m     \u001B[38;5;28;01mraise\u001B[39;00m \u001B[38;5;167;01mValueError\u001B[39;00m(\n\u001B[1;32m    319\u001B[0m         \u001B[38;5;124mf\u001B[39m\u001B[38;5;124m\"\u001B[39m\u001B[38;5;124mIPython won\u001B[39m\u001B[38;5;124m'\u001B[39m\u001B[38;5;124mt let you open fd=\u001B[39m\u001B[38;5;132;01m{\u001B[39;00mfile\u001B[38;5;132;01m}\u001B[39;00m\u001B[38;5;124m by default \u001B[39m\u001B[38;5;124m\"\u001B[39m\n\u001B[1;32m    320\u001B[0m         \u001B[38;5;124m\"\u001B[39m\u001B[38;5;124mas it is likely to crash IPython. If you know what you are doing, \u001B[39m\u001B[38;5;124m\"\u001B[39m\n\u001B[1;32m    321\u001B[0m         \u001B[38;5;124m\"\u001B[39m\u001B[38;5;124myou can use builtins\u001B[39m\u001B[38;5;124m'\u001B[39m\u001B[38;5;124m open.\u001B[39m\u001B[38;5;124m\"\u001B[39m\n\u001B[1;32m    322\u001B[0m     )\n\u001B[0;32m--> 324\u001B[0m \u001B[38;5;28;01mreturn\u001B[39;00m \u001B[43mio_open\u001B[49m\u001B[43m(\u001B[49m\u001B[43mfile\u001B[49m\u001B[43m,\u001B[49m\u001B[43m \u001B[49m\u001B[38;5;241;43m*\u001B[39;49m\u001B[43margs\u001B[49m\u001B[43m,\u001B[49m\u001B[43m \u001B[49m\u001B[38;5;241;43m*\u001B[39;49m\u001B[38;5;241;43m*\u001B[39;49m\u001B[43mkwargs\u001B[49m\u001B[43m)\u001B[49m\n",
      "\u001B[0;31mFileNotFoundError\u001B[0m: [Errno 2] No such file or directory: 'non-existing-file.txt'"
     ]
    }
   ],
   "execution_count": 52
  },
  {
   "metadata": {
    "ExecuteTime": {
     "end_time": "2025-07-22T06:06:37.407051Z",
     "start_time": "2025-07-22T06:06:37.394942Z"
    }
   },
   "cell_type": "code",
   "source": [
    "with open('non-existing-file.txt', 'w') as f:\n",
    "    print(f.read())"
   ],
   "id": "ea08f216447d7868",
   "outputs": [
    {
     "ename": "UnsupportedOperation",
     "evalue": "not readable",
     "output_type": "error",
     "traceback": [
      "\u001B[0;31m---------------------------------------------------------------------------\u001B[0m",
      "\u001B[0;31mUnsupportedOperation\u001B[0m                      Traceback (most recent call last)",
      "Cell \u001B[0;32mIn[40], line 2\u001B[0m\n\u001B[1;32m      1\u001B[0m \u001B[38;5;28;01mwith\u001B[39;00m \u001B[38;5;28mopen\u001B[39m(\u001B[38;5;124m'\u001B[39m\u001B[38;5;124mnon-existing-file.txt\u001B[39m\u001B[38;5;124m'\u001B[39m, \u001B[38;5;124m'\u001B[39m\u001B[38;5;124mw\u001B[39m\u001B[38;5;124m'\u001B[39m) \u001B[38;5;28;01mas\u001B[39;00m f:\n\u001B[0;32m----> 2\u001B[0m     \u001B[38;5;28mprint\u001B[39m(\u001B[43mf\u001B[49m\u001B[38;5;241;43m.\u001B[39;49m\u001B[43mread\u001B[49m\u001B[43m(\u001B[49m\u001B[43m)\u001B[49m)\n",
      "\u001B[0;31mUnsupportedOperation\u001B[0m: not readable"
     ]
    }
   ],
   "execution_count": 40
  },
  {
   "metadata": {
    "ExecuteTime": {
     "end_time": "2025-07-22T06:06:58.872074Z",
     "start_time": "2025-07-22T06:06:58.862214Z"
    }
   },
   "cell_type": "code",
   "source": [
    "with open('tmp_data.json', 'r') as f:\n",
    "    f.write('\\n')"
   ],
   "id": "80e17cab53804fff",
   "outputs": [
    {
     "ename": "UnsupportedOperation",
     "evalue": "not writable",
     "output_type": "error",
     "traceback": [
      "\u001B[0;31m---------------------------------------------------------------------------\u001B[0m",
      "\u001B[0;31mUnsupportedOperation\u001B[0m                      Traceback (most recent call last)",
      "Cell \u001B[0;32mIn[41], line 2\u001B[0m\n\u001B[1;32m      1\u001B[0m \u001B[38;5;28;01mwith\u001B[39;00m \u001B[38;5;28mopen\u001B[39m(\u001B[38;5;124m'\u001B[39m\u001B[38;5;124mtmp_data.json\u001B[39m\u001B[38;5;124m'\u001B[39m, \u001B[38;5;124m'\u001B[39m\u001B[38;5;124mr\u001B[39m\u001B[38;5;124m'\u001B[39m) \u001B[38;5;28;01mas\u001B[39;00m f:\n\u001B[0;32m----> 2\u001B[0m     \u001B[43mf\u001B[49m\u001B[38;5;241;43m.\u001B[39;49m\u001B[43mwrite\u001B[49m\u001B[43m(\u001B[49m\u001B[38;5;124;43m'\u001B[39;49m\u001B[38;5;130;43;01m\\n\u001B[39;49;00m\u001B[38;5;124;43m'\u001B[39;49m\u001B[43m)\u001B[49m\n",
      "\u001B[0;31mUnsupportedOperation\u001B[0m: not writable"
     ]
    }
   ],
   "execution_count": 41
  },
  {
   "metadata": {
    "ExecuteTime": {
     "end_time": "2025-07-21T09:24:29.841405Z",
     "start_time": "2025-07-21T09:24:29.829834Z"
    }
   },
   "cell_type": "code",
   "source": [
    "import os\n",
    "os.remove('non-existing-file.txt')"
   ],
   "id": "93b368c2b977d3a7",
   "outputs": [
    {
     "ename": "FileNotFoundError",
     "evalue": "[Errno 2] No such file or directory: 'non-existing-file.txt'",
     "output_type": "error",
     "traceback": [
      "\u001B[0;31m---------------------------------------------------------------------------\u001B[0m",
      "\u001B[0;31mFileNotFoundError\u001B[0m                         Traceback (most recent call last)",
      "Cell \u001B[0;32mIn[53], line 2\u001B[0m\n\u001B[1;32m      1\u001B[0m \u001B[38;5;28;01mimport\u001B[39;00m \u001B[38;5;21;01mos\u001B[39;00m\n\u001B[0;32m----> 2\u001B[0m \u001B[43mos\u001B[49m\u001B[38;5;241;43m.\u001B[39;49m\u001B[43mremove\u001B[49m\u001B[43m(\u001B[49m\u001B[38;5;124;43m'\u001B[39;49m\u001B[38;5;124;43mnon-existing-file.txt\u001B[39;49m\u001B[38;5;124;43m'\u001B[39;49m\u001B[43m)\u001B[49m\n",
      "\u001B[0;31mFileNotFoundError\u001B[0m: [Errno 2] No such file or directory: 'non-existing-file.txt'"
     ]
    }
   ],
   "execution_count": 53
  },
  {
   "metadata": {
    "ExecuteTime": {
     "end_time": "2025-07-22T06:09:27.275949Z",
     "start_time": "2025-07-22T06:09:27.262091Z"
    }
   },
   "cell_type": "code",
   "source": [
    "# Very common\n",
    "def future_method():\n",
    "    raise NotImplementedError()\n",
    "\n",
    "future_method()"
   ],
   "id": "444698c8cb10421c",
   "outputs": [
    {
     "ename": "NotImplementedError",
     "evalue": "",
     "output_type": "error",
     "traceback": [
      "\u001B[0;31m---------------------------------------------------------------------------\u001B[0m",
      "\u001B[0;31mNotImplementedError\u001B[0m                       Traceback (most recent call last)",
      "Cell \u001B[0;32mIn[45], line 5\u001B[0m\n\u001B[1;32m      2\u001B[0m \u001B[38;5;28;01mdef\u001B[39;00m \u001B[38;5;21mfuture_method\u001B[39m():\n\u001B[1;32m      3\u001B[0m     \u001B[38;5;28;01mraise\u001B[39;00m \u001B[38;5;167;01mNotImplementedError\u001B[39;00m()\n\u001B[0;32m----> 5\u001B[0m \u001B[43mfuture_method\u001B[49m\u001B[43m(\u001B[49m\u001B[43m)\u001B[49m\n",
      "Cell \u001B[0;32mIn[45], line 3\u001B[0m, in \u001B[0;36mfuture_method\u001B[0;34m()\u001B[0m\n\u001B[1;32m      2\u001B[0m \u001B[38;5;28;01mdef\u001B[39;00m \u001B[38;5;21mfuture_method\u001B[39m():\n\u001B[0;32m----> 3\u001B[0m     \u001B[38;5;28;01mraise\u001B[39;00m \u001B[38;5;167;01mNotImplementedError\u001B[39;00m()\n",
      "\u001B[0;31mNotImplementedError\u001B[0m: "
     ]
    }
   ],
   "execution_count": 45
  },
  {
   "metadata": {},
   "cell_type": "markdown",
   "source": "### try..except..else..finally",
   "id": "de60159fc75a900a"
  },
  {
   "metadata": {
    "ExecuteTime": {
     "end_time": "2025-07-22T06:09:05.389241Z",
     "start_time": "2025-07-22T06:09:05.385231Z"
    }
   },
   "cell_type": "code",
   "source": [
    "import builtins\n",
    "[builtin for builtin in dir(builtins) if builtin.endswith('Error') or builtin.endswith('Exception')]\n",
    "\n",
    "# This shows all builtin exceptions"
   ],
   "id": "a77fc1fc418a3b0b",
   "outputs": [
    {
     "data": {
      "text/plain": [
       "['ArithmeticError',\n",
       " 'AssertionError',\n",
       " 'AttributeError',\n",
       " 'BaseException',\n",
       " 'BlockingIOError',\n",
       " 'BrokenPipeError',\n",
       " 'BufferError',\n",
       " 'ChildProcessError',\n",
       " 'ConnectionAbortedError',\n",
       " 'ConnectionError',\n",
       " 'ConnectionRefusedError',\n",
       " 'ConnectionResetError',\n",
       " 'EOFError',\n",
       " 'EnvironmentError',\n",
       " 'Exception',\n",
       " 'FileExistsError',\n",
       " 'FileNotFoundError',\n",
       " 'FloatingPointError',\n",
       " 'IOError',\n",
       " 'ImportError',\n",
       " 'IndentationError',\n",
       " 'IndexError',\n",
       " 'InterruptedError',\n",
       " 'IsADirectoryError',\n",
       " 'KeyError',\n",
       " 'LookupError',\n",
       " 'MemoryError',\n",
       " 'ModuleNotFoundError',\n",
       " 'NameError',\n",
       " 'NotADirectoryError',\n",
       " 'NotImplementedError',\n",
       " 'OSError',\n",
       " 'OverflowError',\n",
       " 'PermissionError',\n",
       " 'ProcessLookupError',\n",
       " 'RecursionError',\n",
       " 'ReferenceError',\n",
       " 'RuntimeError',\n",
       " 'SyntaxError',\n",
       " 'SystemError',\n",
       " 'TabError',\n",
       " 'TimeoutError',\n",
       " 'TypeError',\n",
       " 'UnboundLocalError',\n",
       " 'UnicodeDecodeError',\n",
       " 'UnicodeEncodeError',\n",
       " 'UnicodeError',\n",
       " 'UnicodeTranslateError',\n",
       " 'ValueError',\n",
       " 'ZeroDivisionError']"
      ]
     },
     "execution_count": 44,
     "metadata": {},
     "output_type": "execute_result"
    }
   ],
   "execution_count": 44
  },
  {
   "metadata": {
    "ExecuteTime": {
     "end_time": "2025-07-22T06:15:07.061852Z",
     "start_time": "2025-07-22T06:15:07.059063Z"
    }
   },
   "cell_type": "code",
   "source": [
    "try:\n",
    "    raise ValueError('some message')\n",
    "except ValueError as e:\n",
    "    print('Caught ValueError')\n",
    "    print(e)\n",
    "except Exception as e:\n",
    "    print('Caught any other exception')\n",
    "    print(e)\n",
    "else: # Very rarely used in practice\n",
    "    print('No exceptions were raised in the main block')\n",
    "finally:\n",
    "    print('This block will execute no matter what')"
   ],
   "id": "b673304b8f677ecd",
   "outputs": [
    {
     "name": "stdout",
     "output_type": "stream",
     "text": [
      "Caught ValueError\n",
      "some message\n",
      "This block will execute no matter what\n"
     ]
    }
   ],
   "execution_count": 51
  },
  {
   "metadata": {
    "ExecuteTime": {
     "end_time": "2025-07-22T06:14:02.879455Z",
     "start_time": "2025-07-22T06:14:02.876447Z"
    }
   },
   "cell_type": "code",
   "source": [
    "try:\n",
    "    raise NotImplementedError(\"not implemented\")\n",
    "except ValueError as e:\n",
    "    print('Caught ValueError')\n",
    "    print(e)\n",
    "except Exception as e:\n",
    "    print('Caught any other exception')\n",
    "    print(e)\n",
    "else:\n",
    "    print('No exceptions were raised in the main block')\n",
    "finally:\n",
    "    print('This block will execute no matter what')"
   ],
   "id": "edf396098221cbc5",
   "outputs": [
    {
     "name": "stdout",
     "output_type": "stream",
     "text": [
      "Caught any other exception\n",
      "not implemented\n",
      "This block will execute no matter what\n"
     ]
    }
   ],
   "execution_count": 49
  },
  {
   "metadata": {},
   "cell_type": "code",
   "outputs": [
    {
     "name": "stdout",
     "output_type": "stream",
     "text": [
      "No exceptions were raised in the main block\n",
      "This block will execute no matter what\n"
     ]
    }
   ],
   "execution_count": 50,
   "source": [
    "try:\n",
    "    pass\n",
    "except ValueError as e:\n",
    "    print('Caught ValueError')\n",
    "    print(e)\n",
    "except Exception as e:\n",
    "    print('Caught any other exception')\n",
    "    print(e)\n",
    "else:\n",
    "    print('No exceptions were raised in the main block')\n",
    "finally:\n",
    "    print('This block will execute no matter what')"
   ],
   "id": "7499a8f5a3f04cad"
  },
  {
   "metadata": {},
   "cell_type": "markdown",
   "source": "### Handling Exceptions",
   "id": "ad0074ff87d36217"
  },
  {
   "metadata": {},
   "cell_type": "code",
   "outputs": [
    {
     "name": "stdout",
     "output_type": "stream",
     "text": [
      "CAUGHT EXCEPTION\n",
      "division by zero\n",
      "CAUGHT ZERO DIVISION EXCEPTION\n",
      "division by zero\n"
     ]
    }
   ],
   "execution_count": 28,
   "source": [
    "# Bad example\n",
    "try:\n",
    "    some_complex_function(0)\n",
    "except Exception as e:\n",
    "    print('CAUGHT EXCEPTION')\n",
    "    print(e)\n",
    "    \n",
    "# Good example\n",
    "try:\n",
    "    some_complex_function(0)\n",
    "except ZeroDivisionError as e:\n",
    "    print('CAUGHT ZERO DIVISION EXCEPTION')\n",
    "    print(e)\n",
    "except Exception as e:\n",
    "    print('CAUGHT UNEXPECTED EXCEPTION')\n",
    "    raise"
   ],
   "id": "c86c2e931cd4f8f"
  },
  {
   "metadata": {
    "ExecuteTime": {
     "end_time": "2025-07-21T09:16:56.700036Z",
     "start_time": "2025-07-21T09:16:56.696720Z"
    }
   },
   "cell_type": "code",
   "source": [
    "import os\n",
    "\n",
    "def bad_processing_func(x: int):\n",
    "    with open('tmp.txt', 'w') as f:\n",
    "        f.write('some temporary data required inside the function')\n",
    "    \n",
    "    b = 1 / x\n",
    "    # Clearing temporary data at the end\n",
    "    print('CLEANUP')\n",
    "    os.remove('tmp.txt')\n",
    "    return b\n",
    "\n",
    "# Good example\n",
    "def good_processing_func(x: int):\n",
    "    with open('tmp.txt', 'w') as f:\n",
    "        f.write('some text')\n",
    "    try:\n",
    "        b = 1 / x\n",
    "        return b\n",
    "    finally:\n",
    "        # Executes even after the \"return\" statement\n",
    "        # Always do try..finally when dealing with temporary resources\n",
    "        print('CLEANUP')\n",
    "        os.remove('tmp.txt')"
   ],
   "id": "db921c80a436e28c",
   "outputs": [],
   "execution_count": 44
  },
  {
   "metadata": {
    "ExecuteTime": {
     "end_time": "2025-07-21T09:16:58.175051Z",
     "start_time": "2025-07-21T09:16:58.172413Z"
    }
   },
   "cell_type": "code",
   "source": [
    "bad_processing_func(1)\n",
    "assert not os.path.exists('tmp.txt')"
   ],
   "id": "245ec0ac9dfd1794",
   "outputs": [
    {
     "name": "stdout",
     "output_type": "stream",
     "text": [
      "CLEANUP\n"
     ]
    }
   ],
   "execution_count": 45
  },
  {
   "metadata": {
    "ExecuteTime": {
     "end_time": "2025-07-21T09:16:59.260633Z",
     "start_time": "2025-07-21T09:16:59.251192Z"
    }
   },
   "cell_type": "code",
   "source": [
    "try:\n",
    "    bad_processing_func(0)\n",
    "except ZeroDivisionError:\n",
    "    pass\n",
    "assert not os.path.exists('tmp.txt')"
   ],
   "id": "99e0e3003e585b19",
   "outputs": [
    {
     "ename": "AssertionError",
     "evalue": "",
     "output_type": "error",
     "traceback": [
      "\u001B[0;31m---------------------------------------------------------------------------\u001B[0m",
      "\u001B[0;31mAssertionError\u001B[0m                            Traceback (most recent call last)",
      "Cell \u001B[0;32mIn[46], line 5\u001B[0m\n\u001B[1;32m      3\u001B[0m \u001B[38;5;28;01mexcept\u001B[39;00m \u001B[38;5;167;01mZeroDivisionError\u001B[39;00m:\n\u001B[1;32m      4\u001B[0m     \u001B[38;5;28;01mpass\u001B[39;00m\n\u001B[0;32m----> 5\u001B[0m \u001B[38;5;28;01massert\u001B[39;00m \u001B[38;5;129;01mnot\u001B[39;00m os\u001B[38;5;241m.\u001B[39mpath\u001B[38;5;241m.\u001B[39mexists(\u001B[38;5;124m'\u001B[39m\u001B[38;5;124mtmp.txt\u001B[39m\u001B[38;5;124m'\u001B[39m)\n",
      "\u001B[0;31mAssertionError\u001B[0m: "
     ]
    }
   ],
   "execution_count": 46
  },
  {
   "metadata": {
    "ExecuteTime": {
     "end_time": "2025-07-21T09:17:00.840024Z",
     "start_time": "2025-07-21T09:17:00.837142Z"
    }
   },
   "cell_type": "code",
   "source": [
    "good_processing_func(1)\n",
    "assert not os.path.exists('tmp.txt')"
   ],
   "id": "af0b6d83d7bcd0da",
   "outputs": [
    {
     "name": "stdout",
     "output_type": "stream",
     "text": [
      "CLEANUP\n"
     ]
    }
   ],
   "execution_count": 47
  },
  {
   "metadata": {
    "ExecuteTime": {
     "end_time": "2025-07-21T09:17:01.728591Z",
     "start_time": "2025-07-21T09:17:01.725803Z"
    }
   },
   "cell_type": "code",
   "source": [
    "try:\n",
    "    good_processing_func(0)\n",
    "except ZeroDivisionError:\n",
    "    pass\n",
    "assert not os.path.exists('tmp.txt')"
   ],
   "id": "9295d9ccd4c1e489",
   "outputs": [
    {
     "name": "stdout",
     "output_type": "stream",
     "text": [
      "CLEANUP\n"
     ]
    }
   ],
   "execution_count": 48
  },
  {
   "metadata": {},
   "cell_type": "markdown",
   "source": "## Exercise 1: Parsing Product Distributors Data",
   "id": "1479ea49ebecd583"
  },
  {
   "metadata": {},
   "cell_type": "markdown",
   "source": [
    "\n",
    "In this exercise, our goal is to parse distributor information from mayco-distributors.csv file.\n",
    "For each distributor, we need to parse:\n",
    "- title\n",
    "- street_number\n",
    "- street_name\n",
    "- city\n",
    "- state_province\n",
    "- country\n",
    "- postal_code\n",
    "- website\n",
    "- latitude\n",
    "- longitude\n",
    "\n",
    "Whenever parsing random data files from the internet, be aware that they might be malformed. Good parser should skip malformed distributors and still parse the correct ones. "
   ],
   "id": "97bc1fa002f33c7a"
  },
  {
   "metadata": {
    "ExecuteTime": {
     "end_time": "2025-07-22T06:37:28.335517Z",
     "start_time": "2025-07-22T06:37:28.332392Z"
    }
   },
   "cell_type": "code",
   "source": [
    "import csv\n",
    "from typing import NamedTuple\n",
    "\n",
    "\n",
    "class Distributor(NamedTuple):\n",
    "    title: str | None\n",
    "    street_number: str | None\n",
    "    street_name: str | None\n",
    "    city: str | None\n",
    "    state_province: str | None\n",
    "    country: str | None\n",
    "    postal_code: str | None\n",
    "    website: str | None\n",
    "    latitude: float | None\n",
    "    longitude: float | None"
   ],
   "id": "82523309359c290f",
   "outputs": [],
   "execution_count": 55
  },
  {
   "metadata": {
    "ExecuteTime": {
     "end_time": "2025-07-22T06:37:28.496735Z",
     "start_time": "2025-07-22T06:37:28.492838Z"
    }
   },
   "cell_type": "code",
   "source": [
    "# Bad example\n",
    "def bad_parse_distributors(file_path: str) -> list[Distributor]:\n",
    "    result = []\n",
    "    with open(file_path, 'r') as f:\n",
    "        csv_reader = csv.reader(f)\n",
    "        header = next(csv_reader)\n",
    "        for row in csv_reader:\n",
    "            distributor = Distributor(\n",
    "                title=row[1],\n",
    "                street_number=row[2],\n",
    "                street_name=row[3],\n",
    "                city=row[4],\n",
    "                state_province=row[5],\n",
    "                country=row[6],\n",
    "                postal_code=row[7],\n",
    "                website=row[8],\n",
    "                latitude=float(row[16]),\n",
    "                longitude=float(row[17])\n",
    "            )\n",
    "            result.append(distributor)\n",
    "    return result"
   ],
   "id": "73333f8d9af44368",
   "outputs": [],
   "execution_count": 56
  },
  {
   "metadata": {
    "ExecuteTime": {
     "end_time": "2025-07-22T06:40:11.798585Z",
     "start_time": "2025-07-22T06:40:11.780921Z"
    }
   },
   "cell_type": "code",
   "source": "distributors = bad_parse_distributors(\"mayco-distributors.csv\")",
   "id": "6fa30520c8b28b90",
   "outputs": [
    {
     "ename": "ValueError",
     "evalue": "could not convert string to float: ''",
     "output_type": "error",
     "traceback": [
      "\u001B[0;31m---------------------------------------------------------------------------\u001B[0m",
      "\u001B[0;31mValueError\u001B[0m                                Traceback (most recent call last)",
      "Cell \u001B[0;32mIn[62], line 1\u001B[0m\n\u001B[0;32m----> 1\u001B[0m distributors \u001B[38;5;241m=\u001B[39m \u001B[43mbad_parse_distributors\u001B[49m\u001B[43m(\u001B[49m\u001B[38;5;124;43m\"\u001B[39;49m\u001B[38;5;124;43mmayco-distributors.csv\u001B[39;49m\u001B[38;5;124;43m\"\u001B[39;49m\u001B[43m)\u001B[49m\n",
      "Cell \u001B[0;32mIn[56], line 17\u001B[0m, in \u001B[0;36mbad_parse_distributors\u001B[0;34m(file_path)\u001B[0m\n\u001B[1;32m      6\u001B[0m     header \u001B[38;5;241m=\u001B[39m \u001B[38;5;28mnext\u001B[39m(csv_reader)\n\u001B[1;32m      7\u001B[0m     \u001B[38;5;28;01mfor\u001B[39;00m row \u001B[38;5;129;01min\u001B[39;00m csv_reader:\n\u001B[1;32m      8\u001B[0m         distributor \u001B[38;5;241m=\u001B[39m Distributor(\n\u001B[1;32m      9\u001B[0m             title\u001B[38;5;241m=\u001B[39mrow[\u001B[38;5;241m1\u001B[39m],\n\u001B[1;32m     10\u001B[0m             street_number\u001B[38;5;241m=\u001B[39mrow[\u001B[38;5;241m2\u001B[39m],\n\u001B[1;32m     11\u001B[0m             street_name\u001B[38;5;241m=\u001B[39mrow[\u001B[38;5;241m3\u001B[39m],\n\u001B[1;32m     12\u001B[0m             city\u001B[38;5;241m=\u001B[39mrow[\u001B[38;5;241m4\u001B[39m],\n\u001B[1;32m     13\u001B[0m             state_province\u001B[38;5;241m=\u001B[39mrow[\u001B[38;5;241m5\u001B[39m],\n\u001B[1;32m     14\u001B[0m             country\u001B[38;5;241m=\u001B[39mrow[\u001B[38;5;241m6\u001B[39m],\n\u001B[1;32m     15\u001B[0m             postal_code\u001B[38;5;241m=\u001B[39mrow[\u001B[38;5;241m7\u001B[39m],\n\u001B[1;32m     16\u001B[0m             website\u001B[38;5;241m=\u001B[39mrow[\u001B[38;5;241m8\u001B[39m],\n\u001B[0;32m---> 17\u001B[0m             latitude\u001B[38;5;241m=\u001B[39m\u001B[38;5;28;43mfloat\u001B[39;49m\u001B[43m(\u001B[49m\u001B[43mrow\u001B[49m\u001B[43m[\u001B[49m\u001B[38;5;241;43m16\u001B[39;49m\u001B[43m]\u001B[49m\u001B[43m)\u001B[49m,\n\u001B[1;32m     18\u001B[0m             longitude\u001B[38;5;241m=\u001B[39m\u001B[38;5;28mfloat\u001B[39m(row[\u001B[38;5;241m17\u001B[39m])\n\u001B[1;32m     19\u001B[0m         )\n\u001B[1;32m     20\u001B[0m         result\u001B[38;5;241m.\u001B[39mappend(distributor)\n\u001B[1;32m     21\u001B[0m \u001B[38;5;28;01mreturn\u001B[39;00m result\n",
      "\u001B[0;31mValueError\u001B[0m: could not convert string to float: ''"
     ]
    }
   ],
   "execution_count": 62
  },
  {
   "metadata": {
    "ExecuteTime": {
     "end_time": "2025-07-22T06:41:35.952241Z",
     "start_time": "2025-07-22T06:41:35.948090Z"
    }
   },
   "cell_type": "code",
   "source": [
    "# Good example\n",
    "def good_parse_distributors(file_path: str) -> list[Distributor]:\n",
    "    result = []\n",
    "    with open(file_path, 'r') as f:\n",
    "        csv_reader = csv.reader(f)\n",
    "        next(csv_reader)\n",
    "        \n",
    "        def parse_string(index: int) -> str | None:\n",
    "            if len(row) <= index:\n",
    "                return None\n",
    "            value = row[index]\n",
    "            if len(value) == 0:\n",
    "                return None\n",
    "            return value.strip()\n",
    "        \n",
    "        def parse_float(index: int) -> float | None:\n",
    "            value_str = parse_string(index)\n",
    "            if value_str is None:\n",
    "                return None\n",
    "            try:\n",
    "                return float(value_str)\n",
    "            except ValueError:\n",
    "                return None\n",
    "        \n",
    "        for row in csv_reader:\n",
    "            distributor = Distributor(\n",
    "                title=parse_string(1),\n",
    "                street_number=parse_string(2),\n",
    "                street_name=parse_string(3),\n",
    "                city=parse_string(4),\n",
    "                state_province=parse_string(5),\n",
    "                country=parse_string(6),\n",
    "                postal_code=parse_string(7),\n",
    "                website=parse_string(8),\n",
    "                latitude=parse_float(16),\n",
    "                longitude=parse_float(17)\n",
    "            )\n",
    "            result.append(distributor)\n",
    "        \n",
    "    return result"
   ],
   "id": "379647b342f1a015",
   "outputs": [],
   "execution_count": 68
  },
  {
   "metadata": {
    "ExecuteTime": {
     "end_time": "2025-07-22T06:41:39.865346Z",
     "start_time": "2025-07-22T06:41:39.861145Z"
    }
   },
   "cell_type": "code",
   "source": [
    "# Bonus: really good example\n",
    "from typing import Generator\n",
    "\n",
    "def really_good_parse_distributors(file_path: str) -> Generator[Distributor, None, None]:\n",
    "    with open(file_path, 'r') as f:\n",
    "        csv_reader = csv.reader(f)\n",
    "        next(csv_reader)\n",
    "        \n",
    "        def parse_string(index: int) -> str | None:\n",
    "            if len(row) <= index:\n",
    "                return None\n",
    "            value = row[index]\n",
    "            if len(value) == 0:\n",
    "                return None\n",
    "            return value.strip()\n",
    "        \n",
    "        def parse_float(index: int) -> float | None:\n",
    "            value_str = parse_string(index)\n",
    "            if value_str is None:\n",
    "                return None\n",
    "            try:\n",
    "                return float(value_str)\n",
    "            except ValueError:\n",
    "                return None\n",
    "        \n",
    "        for row in csv_reader:\n",
    "            yield Distributor(\n",
    "                title=parse_string(1),\n",
    "                street_number=parse_string(2),\n",
    "                street_name=parse_string(3),\n",
    "                city=parse_string(4),\n",
    "                state_province=parse_string(5),\n",
    "                country=parse_string(6),\n",
    "                postal_code=parse_string(7),\n",
    "                website=parse_string(8),\n",
    "                latitude=parse_float(16),\n",
    "                longitude=parse_float(17)\n",
    "            )"
   ],
   "id": "504fc83f4d6ac91e",
   "outputs": [],
   "execution_count": 69
  },
  {
   "metadata": {
    "ExecuteTime": {
     "end_time": "2025-07-22T06:42:02.456175Z",
     "start_time": "2025-07-22T06:42:02.451493Z"
    }
   },
   "cell_type": "code",
   "source": [
    "distributors = good_parse_distributors('mayco-distributors.csv')\n",
    "distributors[:3]"
   ],
   "id": "251726fa7238681b",
   "outputs": [
    {
     "data": {
      "text/plain": [
       "[Distributor(title='Zeramics Importacao e Comercio', street_number=None, street_name=None, city='Sao Paulo', state_province=None, country='Brazil', postal_code='01457-060', website='https://www.zeramics.com.br/', latitude=-23.5736958, longitude=-46.6929462),\n",
       " Distributor(title='Your Ceramic Store', street_number='Silicon Oasis, SIT Tower, Office 602', street_name='P O Box 430090', city='Dubai', state_province=None, country='United Arab Emirates', postal_code=None, website='https://yourceramicstore.com/', latitude=25.11987, longitude=55.3867),\n",
       " Distributor(title='Yaro975', street_number=None, street_name=None, city='Montevideo', state_province=None, country='Uruguay', postal_code='11100', website='https://yaro975.com.uy', latitude=-34.90652, longitude=-56.19418)]"
      ]
     },
     "execution_count": 73,
     "metadata": {},
     "output_type": "execute_result"
    }
   ],
   "execution_count": 73
  },
  {
   "metadata": {},
   "cell_type": "markdown",
   "source": "## Exercise 2: Validating Distributors",
   "id": "bb902cbdcb9d24cd"
  },
  {
   "metadata": {},
   "cell_type": "markdown",
   "source": [
    "\n",
    "So, we have parsed all distributors. Now it's time to validate them.\n",
    "Suppose, you only care about the following fields:\n",
    "- title\n",
    "- website (must be valid url)\n",
    "- latitude, longitude (must be valid coordinates)\n",
    "\n",
    "The goal is to write validating function that will accept distributor and raise custom exception, which indicates error in one of the required fields. Then, save validated distributors to JSON."
   ],
   "id": "f32810388d099103"
  },
  {
   "metadata": {
    "ExecuteTime": {
     "end_time": "2025-07-22T06:44:55.386549Z",
     "start_time": "2025-07-22T06:44:55.382319Z"
    }
   },
   "cell_type": "code",
   "source": [
    "from urllib.parse import urlparse\n",
    "\n",
    "\n",
    "class ValidationError(Exception):\n",
    "    def __init__(self, message: str, field: str, value):\n",
    "        super().__init__(f\"{field}: {message} | Value: {value}\")\n",
    "        self.field = field\n",
    "        self.value = value\n",
    "    \n",
    "\n",
    "def validate_distributor(distributor: Distributor) -> None:\n",
    "    if distributor.title is None:\n",
    "        raise ValidationError(\"is None\", \"title\", distributor.title)\n",
    "    \n",
    "    if distributor.website is None:\n",
    "        raise ValidationError(\"is None\", \"website\", distributor.website)\n",
    "    try:\n",
    "        urlparse(distributor.website)\n",
    "    except ValueError as e:\n",
    "        raise ValidationError(f\"is invalid url: {e}\", \"website\", distributor.website)\n",
    "    \n",
    "    if distributor.latitude is None:\n",
    "        raise ValidationError(\"is None\", \"latitude\", distributor.latitude)\n",
    "    if distributor.latitude > 90 or distributor.latitude < -90:\n",
    "        raise ValidationError(\"outside valid range\", \"latitude\", distributor.latitude)\n",
    "    \n",
    "    if distributor.longitude is None:\n",
    "        raise ValidationError(\"is None\", \"longitude\", distributor.longitude)\n",
    "    if distributor.longitude > 180 or distributor.longitude < -180:\n",
    "        raise ValidationError(\"outside valid range\", \"longitude\", distributor.longitude)"
   ],
   "id": "984968f998c652b1",
   "outputs": [],
   "execution_count": 74
  },
  {
   "metadata": {
    "ExecuteTime": {
     "end_time": "2025-07-22T06:45:00.167796Z",
     "start_time": "2025-07-22T06:45:00.163455Z"
    }
   },
   "cell_type": "code",
   "source": [
    "def is_distributor_valid(distributor: Distributor) -> bool:\n",
    "    try:\n",
    "        validate_distributor(distributor)\n",
    "        return True\n",
    "    except ValidationError as e:\n",
    "        print(e)\n",
    "        return False\n",
    "    \n",
    "valid_distributors = list(filter(is_distributor_valid, distributors))\n",
    "print(f\"{len(valid_distributors)} out of {len(distributors)} distributors are valid\")"
   ],
   "id": "8cd7fff0befc913a",
   "outputs": [
    {
     "name": "stdout",
     "output_type": "stream",
     "text": [
      "website: is None | Value: None\n",
      "website: is None | Value: None\n",
      "website: is None | Value: None\n",
      "website: is None | Value: None\n",
      "website: is None | Value: None\n",
      "website: is None | Value: None\n",
      "website: is None | Value: None\n",
      "website: is None | Value: None\n",
      "website: is None | Value: None\n",
      "latitude: outside valid range | Value: 532.81729\n",
      "website: is None | Value: None\n",
      "website: is None | Value: None\n",
      "website: is None | Value: None\n",
      "website: is None | Value: None\n",
      "website: is None | Value: None\n",
      "website: is None | Value: None\n",
      "latitude: is None | Value: None\n",
      "website: is None | Value: None\n",
      "website: is None | Value: None\n",
      "website: is None | Value: None\n",
      "274 out of 294 distributors are valid\n"
     ]
    }
   ],
   "execution_count": 75
  },
  {
   "metadata": {
    "ExecuteTime": {
     "end_time": "2025-07-22T06:45:06.202686Z",
     "start_time": "2025-07-22T06:45:06.195935Z"
    }
   },
   "cell_type": "code",
   "source": [
    "import json\n",
    "with open('valid_distributors.json', 'w') as f:\n",
    "    json.dump(list(map(lambda x: x._asdict(), valid_distributors)), f)"
   ],
   "id": "8b35f04146ea17ea",
   "outputs": [],
   "execution_count": 76
  },
  {
   "metadata": {},
   "cell_type": "markdown",
   "source": "## Exercise 3: Reducing the Number of Points in GeoJSON Polygon File.",
   "id": "32fc5fda69f4eb25"
  },
  {
   "metadata": {},
   "cell_type": "markdown",
   "source": [
    "\n",
    "In this exercise, your will be working with GeoJSON format.\n",
    "\n",
    "GeoJSON is a simple json, but for displaying some objects on the map.\n",
    "To display it, we will use folium package (display_folium function is already given, that does all the job).\n",
    "\n",
    "In order to reduce number of points, we will select only points from the convex hull (https://en.wikipedia.org/wiki/Convex_hull) of the polygon. This is also already implemented in get_convex_hull function\n",
    "\n",
    "So, we need to do the following:\n",
    "\n",
    "1) Understand the structure of the GeoJSON file and extract the coordinates of the polygon\n",
    "2) Compute the coordinates for the center of the polygon (required for visualization)\n",
    "3) Call get_convex_hull and save updated polygon to GeoJSON format, and visualize the result."
   ],
   "id": "ea583760858afd71"
  },
  {
   "metadata": {
    "ExecuteTime": {
     "end_time": "2025-07-22T06:57:25.183160Z",
     "start_time": "2025-07-22T06:57:25.179469Z"
    }
   },
   "cell_type": "code",
   "source": [
    "import folium\n",
    "from scipy.spatial import ConvexHull\n",
    "import numpy as np\n",
    "\n",
    "def display_folium(\n",
    "        center_lat: float,\n",
    "        center_lng: float,\n",
    "        geojson_path: str\n",
    ") -> None:\n",
    "    m = folium.Map(\n",
    "        location=[center_lat, center_lng], \n",
    "        zoom_start=16,\n",
    "        zoom_control=False,\n",
    "        dragging=False,\n",
    "        touch_zoom=False,\n",
    "        scrollWheelZoom=False,\n",
    "        doubleClickZoom=False,\n",
    "        boxZoom=False\n",
    "    )\n",
    "    folium.GeoJson(\n",
    "        geojson_path\n",
    "    ).add_to(m)\n",
    "    return m\n",
    "\n",
    "\n",
    "def get_convex_hull(points: list[tuple[float, float]]) -> list[tuple[float, float]]:\n",
    "    points_np = np.array(points)\n",
    "    hull = ConvexHull(points_np)\n",
    "    return list(map(list, points_np[hull.vertices]))"
   ],
   "id": "65dd131f6659c341",
   "outputs": [],
   "execution_count": 89
  },
  {
   "metadata": {},
   "cell_type": "code",
   "outputs": [],
   "execution_count": null,
   "source": "",
   "id": "bab0a7f1cba58d4d"
  },
  {
   "metadata": {
    "ExecuteTime": {
     "end_time": "2025-07-22T06:55:03.777556Z",
     "start_time": "2025-07-22T06:55:03.775126Z"
    }
   },
   "cell_type": "code",
   "source": [
    "import json\n",
    "\n",
    "with open('geo.json', 'r') as f:\n",
    "    geo = json.load(f)"
   ],
   "id": "73f227ce54df4fb3",
   "outputs": [],
   "execution_count": 79
  },
  {
   "metadata": {
    "ExecuteTime": {
     "end_time": "2025-07-22T06:55:03.897945Z",
     "start_time": "2025-07-22T06:55:03.894046Z"
    }
   },
   "cell_type": "code",
   "source": "geo",
   "id": "98a04d7a7356f17f",
   "outputs": [
    {
     "data": {
      "text/plain": [
       "{'type': 'FeatureCollection',\n",
       " 'features': [{'type': 'Feature',\n",
       "   'properties': {},\n",
       "   'geometry': {'coordinates': [[[8.650428389537126, 53.17119270803312],\n",
       "      [8.650295332158123, 53.17064769291278],\n",
       "      [8.650073570430777, 53.170102670466264],\n",
       "      [8.650095746603512, 53.16957093457904],\n",
       "      [8.649541342283413, 53.16963740192517],\n",
       "      [8.649053466482428, 53.1697038691683],\n",
       "      [8.648011186361344, 53.169730456037286],\n",
       "      [8.648011186361344, 53.16955764109747],\n",
       "      [8.647989010188638, 53.169025898455686],\n",
       "      [8.647745072287677, 53.16844097393982],\n",
       "      [8.64743460586854, 53.16780286537423],\n",
       "      [8.647212844141194, 53.1671381588618],\n",
       "      [8.64719066796846, 53.16663297502603],\n",
       "      [8.64714631562211, 53.16604801789262],\n",
       "      [8.64701325858573, 53.16548964228136],\n",
       "      [8.64714631562211, 53.164811604986795],\n",
       "      [8.64823294808869, 53.164864784769435],\n",
       "      [8.649474813765266, 53.164598885196625],\n",
       "      [8.651736783389254, 53.164439344662014],\n",
       "      [8.651936368944746, 53.16493125940511],\n",
       "      [8.652446420918466, 53.16495784923109],\n",
       "      [8.653399996348611, 53.16510409297652],\n",
       "      [8.654863623752505, 53.16477172010656],\n",
       "      [8.655706318657224, 53.16501102842997],\n",
       "      [8.656172018286355, 53.16538328379559],\n",
       "      [8.656504660877317, 53.16623414107889],\n",
       "      [8.656526837050933, 53.16681909567589],\n",
       "      [8.656172018286355, 53.16695203879067],\n",
       "      [8.655395852238087, 53.167018510193344],\n",
       "      [8.65461968619067, 53.16709827574067],\n",
       "      [8.65466403853614, 53.16735086566294],\n",
       "      [8.65484144791887, 53.16805545074675],\n",
       "      [8.655129738165328, 53.168440973536775],\n",
       "      [8.65526279520168, 53.16909236624355],\n",
       "      [8.654708390882405, 53.16907907261373],\n",
       "      [8.654242691253273, 53.16909236624355],\n",
       "      [8.65366611076135, 53.16914554072227],\n",
       "      [8.65335564434227, 53.16877331799026],\n",
       "      [8.652867768540347, 53.168799905435264],\n",
       "      [8.652202483357485, 53.168826492863815],\n",
       "      [8.651448493481922, 53.16885308027585],\n",
       "      [8.651404141136481, 53.169225302315965],\n",
       "      [8.651492845830973, 53.16995644335154],\n",
       "      [8.651381964966419, 53.170355242302065],\n",
       "      [8.651492845830973, 53.17123258694642],\n",
       "      [8.650428389537126, 53.17119270803312]]],\n",
       "    'type': 'Polygon'}}]}"
      ]
     },
     "execution_count": 80,
     "metadata": {},
     "output_type": "execute_result"
    }
   ],
   "execution_count": 80
  },
  {
   "metadata": {
    "ExecuteTime": {
     "end_time": "2025-07-22T06:55:28.810075Z",
     "start_time": "2025-07-22T06:55:28.807726Z"
    }
   },
   "cell_type": "code",
   "source": "points = geo['features'][0]['geometry']['coordinates'][0]",
   "id": "2a6e078dfdea1ac8",
   "outputs": [],
   "execution_count": 81
  },
  {
   "metadata": {
    "ExecuteTime": {
     "end_time": "2025-07-22T06:55:28.980977Z",
     "start_time": "2025-07-22T06:55:28.977306Z"
    }
   },
   "cell_type": "code",
   "source": [
    "summ_lat = 0\n",
    "summ_lng = 0\n",
    "count = 0\n",
    "\n",
    "for lng, lat in points:\n",
    "    summ_lat += lat\n",
    "    summ_lng += lng\n",
    "    count += 1\n",
    "    \n",
    "center_lat = summ_lat / count\n",
    "center_lng = summ_lng / count\n",
    "\n",
    "center_lat, center_lng"
   ],
   "id": "f1760a9f918b637",
   "outputs": [
    {
     "data": {
      "text/plain": [
       "(53.1678519464429, 8.651655792326954)"
      ]
     },
     "execution_count": 82,
     "metadata": {},
     "output_type": "execute_result"
    }
   ],
   "execution_count": 82
  },
  {
   "metadata": {
    "ExecuteTime": {
     "end_time": "2025-07-22T06:57:28.485289Z",
     "start_time": "2025-07-22T06:57:28.476238Z"
    }
   },
   "cell_type": "code",
   "source": "display_folium(center_lat, center_lng, 'geo.json')",
   "id": "598ee6d030f1c781",
   "outputs": [
    {
     "data": {
      "text/plain": [
       "<folium.folium.Map at 0x717972443640>"
      ],
      "text/html": [
       "<div style=\"width:100%;\"><div style=\"position:relative;width:100%;height:0;padding-bottom:60%;\"><span style=\"color:#565656\">Make this Notebook Trusted to load map: File -> Trust Notebook</span><iframe srcdoc=\"&lt;!DOCTYPE html&gt;\n",
       "&lt;html&gt;\n",
       "&lt;head&gt;\n",
       "    \n",
       "    &lt;meta http-equiv=&quot;content-type&quot; content=&quot;text/html; charset=UTF-8&quot; /&gt;\n",
       "    \n",
       "        &lt;script&gt;\n",
       "            L_NO_TOUCH = false;\n",
       "            L_DISABLE_3D = false;\n",
       "        &lt;/script&gt;\n",
       "    \n",
       "    &lt;style&gt;html, body {width: 100%;height: 100%;margin: 0;padding: 0;}&lt;/style&gt;\n",
       "    &lt;style&gt;#map {position:absolute;top:0;bottom:0;right:0;left:0;}&lt;/style&gt;\n",
       "    &lt;script src=&quot;https://cdn.jsdelivr.net/npm/leaflet@1.9.3/dist/leaflet.js&quot;&gt;&lt;/script&gt;\n",
       "    &lt;script src=&quot;https://code.jquery.com/jquery-3.7.1.min.js&quot;&gt;&lt;/script&gt;\n",
       "    &lt;script src=&quot;https://cdn.jsdelivr.net/npm/bootstrap@5.2.2/dist/js/bootstrap.bundle.min.js&quot;&gt;&lt;/script&gt;\n",
       "    &lt;script src=&quot;https://cdnjs.cloudflare.com/ajax/libs/Leaflet.awesome-markers/2.0.2/leaflet.awesome-markers.js&quot;&gt;&lt;/script&gt;\n",
       "    &lt;link rel=&quot;stylesheet&quot; href=&quot;https://cdn.jsdelivr.net/npm/leaflet@1.9.3/dist/leaflet.css&quot;/&gt;\n",
       "    &lt;link rel=&quot;stylesheet&quot; href=&quot;https://cdn.jsdelivr.net/npm/bootstrap@5.2.2/dist/css/bootstrap.min.css&quot;/&gt;\n",
       "    &lt;link rel=&quot;stylesheet&quot; href=&quot;https://netdna.bootstrapcdn.com/bootstrap/3.0.0/css/bootstrap-glyphicons.css&quot;/&gt;\n",
       "    &lt;link rel=&quot;stylesheet&quot; href=&quot;https://cdn.jsdelivr.net/npm/@fortawesome/fontawesome-free@6.2.0/css/all.min.css&quot;/&gt;\n",
       "    &lt;link rel=&quot;stylesheet&quot; href=&quot;https://cdnjs.cloudflare.com/ajax/libs/Leaflet.awesome-markers/2.0.2/leaflet.awesome-markers.css&quot;/&gt;\n",
       "    &lt;link rel=&quot;stylesheet&quot; href=&quot;https://cdn.jsdelivr.net/gh/python-visualization/folium/folium/templates/leaflet.awesome.rotate.min.css&quot;/&gt;\n",
       "    \n",
       "            &lt;meta name=&quot;viewport&quot; content=&quot;width=device-width,\n",
       "                initial-scale=1.0, maximum-scale=1.0, user-scalable=no&quot; /&gt;\n",
       "            &lt;style&gt;\n",
       "                #map_f24383912457e9be6960101843741fd8 {\n",
       "                    position: relative;\n",
       "                    width: 100.0%;\n",
       "                    height: 100.0%;\n",
       "                    left: 0.0%;\n",
       "                    top: 0.0%;\n",
       "                }\n",
       "                .leaflet-container { font-size: 1rem; }\n",
       "            &lt;/style&gt;\n",
       "        \n",
       "&lt;/head&gt;\n",
       "&lt;body&gt;\n",
       "    \n",
       "    \n",
       "            &lt;div class=&quot;folium-map&quot; id=&quot;map_f24383912457e9be6960101843741fd8&quot; &gt;&lt;/div&gt;\n",
       "        \n",
       "&lt;/body&gt;\n",
       "&lt;script&gt;\n",
       "    \n",
       "    \n",
       "            var map_f24383912457e9be6960101843741fd8 = L.map(\n",
       "                &quot;map_f24383912457e9be6960101843741fd8&quot;,\n",
       "                {\n",
       "                    center: [53.1678519464429, 8.651655792326954],\n",
       "                    crs: L.CRS.EPSG3857,\n",
       "                    ...{\n",
       "  &quot;zoom&quot;: 16,\n",
       "  &quot;zoomControl&quot;: false,\n",
       "  &quot;preferCanvas&quot;: false,\n",
       "  &quot;dragging&quot;: false,\n",
       "  &quot;touchZoom&quot;: false,\n",
       "  &quot;scrollWheelZoom&quot;: false,\n",
       "  &quot;doubleClickZoom&quot;: false,\n",
       "  &quot;boxZoom&quot;: false,\n",
       "}\n",
       "\n",
       "                }\n",
       "            );\n",
       "\n",
       "            \n",
       "\n",
       "        \n",
       "    \n",
       "            var tile_layer_0d7e7668803ac49a9d52de32e388d3ab = L.tileLayer(\n",
       "                &quot;https://tile.openstreetmap.org/{z}/{x}/{y}.png&quot;,\n",
       "                {\n",
       "  &quot;minZoom&quot;: 0,\n",
       "  &quot;maxZoom&quot;: 19,\n",
       "  &quot;maxNativeZoom&quot;: 19,\n",
       "  &quot;noWrap&quot;: false,\n",
       "  &quot;attribution&quot;: &quot;\\u0026copy; \\u003ca href=\\&quot;https://www.openstreetmap.org/copyright\\&quot;\\u003eOpenStreetMap\\u003c/a\\u003e contributors&quot;,\n",
       "  &quot;subdomains&quot;: &quot;abc&quot;,\n",
       "  &quot;detectRetina&quot;: false,\n",
       "  &quot;tms&quot;: false,\n",
       "  &quot;opacity&quot;: 1,\n",
       "}\n",
       "\n",
       "            );\n",
       "        \n",
       "    \n",
       "            tile_layer_0d7e7668803ac49a9d52de32e388d3ab.addTo(map_f24383912457e9be6960101843741fd8);\n",
       "        \n",
       "    \n",
       "\n",
       "        function geo_json_4160f48e17b47a5463b5c1401f540434_onEachFeature(feature, layer) {\n",
       "            layer.on({\n",
       "            });\n",
       "        };\n",
       "        var geo_json_4160f48e17b47a5463b5c1401f540434 = L.geoJson(null, {\n",
       "                onEachFeature: geo_json_4160f48e17b47a5463b5c1401f540434_onEachFeature,\n",
       "            \n",
       "            ...{\n",
       "}\n",
       "        });\n",
       "\n",
       "        function geo_json_4160f48e17b47a5463b5c1401f540434_add (data) {\n",
       "            geo_json_4160f48e17b47a5463b5c1401f540434\n",
       "                .addData(data);\n",
       "        }\n",
       "            geo_json_4160f48e17b47a5463b5c1401f540434_add({&quot;features&quot;: [{&quot;geometry&quot;: {&quot;coordinates&quot;: [[[8.650428389537126, 53.17119270803312], [8.650295332158123, 53.17064769291278], [8.650073570430777, 53.170102670466264], [8.650095746603512, 53.16957093457904], [8.649541342283413, 53.16963740192517], [8.649053466482428, 53.1697038691683], [8.648011186361344, 53.169730456037286], [8.648011186361344, 53.16955764109747], [8.647989010188638, 53.169025898455686], [8.647745072287677, 53.16844097393982], [8.64743460586854, 53.16780286537423], [8.647212844141194, 53.1671381588618], [8.64719066796846, 53.16663297502603], [8.64714631562211, 53.16604801789262], [8.64701325858573, 53.16548964228136], [8.64714631562211, 53.164811604986795], [8.64823294808869, 53.164864784769435], [8.649474813765266, 53.164598885196625], [8.651736783389254, 53.164439344662014], [8.651936368944746, 53.16493125940511], [8.652446420918466, 53.16495784923109], [8.653399996348611, 53.16510409297652], [8.654863623752505, 53.16477172010656], [8.655706318657224, 53.16501102842997], [8.656172018286355, 53.16538328379559], [8.656504660877317, 53.16623414107889], [8.656526837050933, 53.16681909567589], [8.656172018286355, 53.16695203879067], [8.655395852238087, 53.167018510193344], [8.65461968619067, 53.16709827574067], [8.65466403853614, 53.16735086566294], [8.65484144791887, 53.16805545074675], [8.655129738165328, 53.168440973536775], [8.65526279520168, 53.16909236624355], [8.654708390882405, 53.16907907261373], [8.654242691253273, 53.16909236624355], [8.65366611076135, 53.16914554072227], [8.65335564434227, 53.16877331799026], [8.652867768540347, 53.168799905435264], [8.652202483357485, 53.168826492863815], [8.651448493481922, 53.16885308027585], [8.651404141136481, 53.169225302315965], [8.651492845830973, 53.16995644335154], [8.651381964966419, 53.170355242302065], [8.651492845830973, 53.17123258694642], [8.650428389537126, 53.17119270803312]]], &quot;type&quot;: &quot;Polygon&quot;}, &quot;properties&quot;: {}, &quot;type&quot;: &quot;Feature&quot;}], &quot;type&quot;: &quot;FeatureCollection&quot;});\n",
       "        geo_json_4160f48e17b47a5463b5c1401f540434.setStyle(function(feature) {return feature.properties.style;});\n",
       "\n",
       "        \n",
       "    \n",
       "            geo_json_4160f48e17b47a5463b5c1401f540434.addTo(map_f24383912457e9be6960101843741fd8);\n",
       "        \n",
       "&lt;/script&gt;\n",
       "&lt;/html&gt;\" style=\"position:absolute;width:100%;height:100%;left:0;top:0;border:none !important;\" allowfullscreen webkitallowfullscreen mozallowfullscreen></iframe></div></div>"
      ]
     },
     "execution_count": 90,
     "metadata": {},
     "output_type": "execute_result"
    }
   ],
   "execution_count": 90
  },
  {
   "metadata": {
    "ExecuteTime": {
     "end_time": "2025-07-22T06:57:32.452778Z",
     "start_time": "2025-07-22T06:57:32.448358Z"
    }
   },
   "cell_type": "code",
   "source": [
    "import copy\n",
    "\n",
    "new_geo = copy.deepcopy(geo)\n",
    "\n",
    "new_geo['features'][0]['geometry']['coordinates'][0] = get_convex_hull(points)\n",
    "new_geo"
   ],
   "id": "1915aa97a06332a3",
   "outputs": [
    {
     "data": {
      "text/plain": [
       "{'type': 'FeatureCollection',\n",
       " 'features': [{'type': 'Feature',\n",
       "   'properties': {},\n",
       "   'geometry': {'coordinates': [[[8.656526837050933, 53.16681909567589],\n",
       "      [8.65526279520168, 53.16909236624355],\n",
       "      [8.651492845830973, 53.17123258694642],\n",
       "      [8.650428389537126, 53.17119270803312],\n",
       "      [8.648011186361344, 53.169730456037286],\n",
       "      [8.647212844141194, 53.1671381588618],\n",
       "      [8.64701325858573, 53.16548964228136],\n",
       "      [8.64714631562211, 53.164811604986795],\n",
       "      [8.649474813765266, 53.164598885196625],\n",
       "      [8.651736783389254, 53.164439344662014],\n",
       "      [8.654863623752505, 53.16477172010656],\n",
       "      [8.655706318657224, 53.16501102842997],\n",
       "      [8.656172018286355, 53.16538328379559],\n",
       "      [8.656504660877317, 53.16623414107889]]],\n",
       "    'type': 'Polygon'}}]}"
      ]
     },
     "execution_count": 91,
     "metadata": {},
     "output_type": "execute_result"
    }
   ],
   "execution_count": 91
  },
  {
   "metadata": {
    "ExecuteTime": {
     "end_time": "2025-07-22T06:57:32.972570Z",
     "start_time": "2025-07-22T06:57:32.969993Z"
    }
   },
   "cell_type": "code",
   "source": [
    "with open('geo_new.json', 'w') as f:\n",
    "    json.dump(new_geo, f)"
   ],
   "id": "f34870a8c59103fc",
   "outputs": [],
   "execution_count": 92
  },
  {
   "metadata": {
    "ExecuteTime": {
     "end_time": "2025-07-22T06:57:33.489600Z",
     "start_time": "2025-07-22T06:57:33.480934Z"
    }
   },
   "cell_type": "code",
   "source": "display_folium(center_lat, center_lng, 'geo_new.json')",
   "id": "9e05c05f483f6514",
   "outputs": [
    {
     "data": {
      "text/plain": [
       "<folium.folium.Map at 0x717972443220>"
      ],
      "text/html": [
       "<div style=\"width:100%;\"><div style=\"position:relative;width:100%;height:0;padding-bottom:60%;\"><span style=\"color:#565656\">Make this Notebook Trusted to load map: File -> Trust Notebook</span><iframe srcdoc=\"&lt;!DOCTYPE html&gt;\n",
       "&lt;html&gt;\n",
       "&lt;head&gt;\n",
       "    \n",
       "    &lt;meta http-equiv=&quot;content-type&quot; content=&quot;text/html; charset=UTF-8&quot; /&gt;\n",
       "    \n",
       "        &lt;script&gt;\n",
       "            L_NO_TOUCH = false;\n",
       "            L_DISABLE_3D = false;\n",
       "        &lt;/script&gt;\n",
       "    \n",
       "    &lt;style&gt;html, body {width: 100%;height: 100%;margin: 0;padding: 0;}&lt;/style&gt;\n",
       "    &lt;style&gt;#map {position:absolute;top:0;bottom:0;right:0;left:0;}&lt;/style&gt;\n",
       "    &lt;script src=&quot;https://cdn.jsdelivr.net/npm/leaflet@1.9.3/dist/leaflet.js&quot;&gt;&lt;/script&gt;\n",
       "    &lt;script src=&quot;https://code.jquery.com/jquery-3.7.1.min.js&quot;&gt;&lt;/script&gt;\n",
       "    &lt;script src=&quot;https://cdn.jsdelivr.net/npm/bootstrap@5.2.2/dist/js/bootstrap.bundle.min.js&quot;&gt;&lt;/script&gt;\n",
       "    &lt;script src=&quot;https://cdnjs.cloudflare.com/ajax/libs/Leaflet.awesome-markers/2.0.2/leaflet.awesome-markers.js&quot;&gt;&lt;/script&gt;\n",
       "    &lt;link rel=&quot;stylesheet&quot; href=&quot;https://cdn.jsdelivr.net/npm/leaflet@1.9.3/dist/leaflet.css&quot;/&gt;\n",
       "    &lt;link rel=&quot;stylesheet&quot; href=&quot;https://cdn.jsdelivr.net/npm/bootstrap@5.2.2/dist/css/bootstrap.min.css&quot;/&gt;\n",
       "    &lt;link rel=&quot;stylesheet&quot; href=&quot;https://netdna.bootstrapcdn.com/bootstrap/3.0.0/css/bootstrap-glyphicons.css&quot;/&gt;\n",
       "    &lt;link rel=&quot;stylesheet&quot; href=&quot;https://cdn.jsdelivr.net/npm/@fortawesome/fontawesome-free@6.2.0/css/all.min.css&quot;/&gt;\n",
       "    &lt;link rel=&quot;stylesheet&quot; href=&quot;https://cdnjs.cloudflare.com/ajax/libs/Leaflet.awesome-markers/2.0.2/leaflet.awesome-markers.css&quot;/&gt;\n",
       "    &lt;link rel=&quot;stylesheet&quot; href=&quot;https://cdn.jsdelivr.net/gh/python-visualization/folium/folium/templates/leaflet.awesome.rotate.min.css&quot;/&gt;\n",
       "    \n",
       "            &lt;meta name=&quot;viewport&quot; content=&quot;width=device-width,\n",
       "                initial-scale=1.0, maximum-scale=1.0, user-scalable=no&quot; /&gt;\n",
       "            &lt;style&gt;\n",
       "                #map_13cf8caf1cc185212d229b295c14032d {\n",
       "                    position: relative;\n",
       "                    width: 100.0%;\n",
       "                    height: 100.0%;\n",
       "                    left: 0.0%;\n",
       "                    top: 0.0%;\n",
       "                }\n",
       "                .leaflet-container { font-size: 1rem; }\n",
       "            &lt;/style&gt;\n",
       "        \n",
       "&lt;/head&gt;\n",
       "&lt;body&gt;\n",
       "    \n",
       "    \n",
       "            &lt;div class=&quot;folium-map&quot; id=&quot;map_13cf8caf1cc185212d229b295c14032d&quot; &gt;&lt;/div&gt;\n",
       "        \n",
       "&lt;/body&gt;\n",
       "&lt;script&gt;\n",
       "    \n",
       "    \n",
       "            var map_13cf8caf1cc185212d229b295c14032d = L.map(\n",
       "                &quot;map_13cf8caf1cc185212d229b295c14032d&quot;,\n",
       "                {\n",
       "                    center: [53.1678519464429, 8.651655792326954],\n",
       "                    crs: L.CRS.EPSG3857,\n",
       "                    ...{\n",
       "  &quot;zoom&quot;: 16,\n",
       "  &quot;zoomControl&quot;: false,\n",
       "  &quot;preferCanvas&quot;: false,\n",
       "  &quot;dragging&quot;: false,\n",
       "  &quot;touchZoom&quot;: false,\n",
       "  &quot;scrollWheelZoom&quot;: false,\n",
       "  &quot;doubleClickZoom&quot;: false,\n",
       "  &quot;boxZoom&quot;: false,\n",
       "}\n",
       "\n",
       "                }\n",
       "            );\n",
       "\n",
       "            \n",
       "\n",
       "        \n",
       "    \n",
       "            var tile_layer_e92b2b19489c3c9f37bbbb48ca882aa7 = L.tileLayer(\n",
       "                &quot;https://tile.openstreetmap.org/{z}/{x}/{y}.png&quot;,\n",
       "                {\n",
       "  &quot;minZoom&quot;: 0,\n",
       "  &quot;maxZoom&quot;: 19,\n",
       "  &quot;maxNativeZoom&quot;: 19,\n",
       "  &quot;noWrap&quot;: false,\n",
       "  &quot;attribution&quot;: &quot;\\u0026copy; \\u003ca href=\\&quot;https://www.openstreetmap.org/copyright\\&quot;\\u003eOpenStreetMap\\u003c/a\\u003e contributors&quot;,\n",
       "  &quot;subdomains&quot;: &quot;abc&quot;,\n",
       "  &quot;detectRetina&quot;: false,\n",
       "  &quot;tms&quot;: false,\n",
       "  &quot;opacity&quot;: 1,\n",
       "}\n",
       "\n",
       "            );\n",
       "        \n",
       "    \n",
       "            tile_layer_e92b2b19489c3c9f37bbbb48ca882aa7.addTo(map_13cf8caf1cc185212d229b295c14032d);\n",
       "        \n",
       "    \n",
       "\n",
       "        function geo_json_cc2ac2212530077034929572c15d80f4_onEachFeature(feature, layer) {\n",
       "            layer.on({\n",
       "            });\n",
       "        };\n",
       "        var geo_json_cc2ac2212530077034929572c15d80f4 = L.geoJson(null, {\n",
       "                onEachFeature: geo_json_cc2ac2212530077034929572c15d80f4_onEachFeature,\n",
       "            \n",
       "            ...{\n",
       "}\n",
       "        });\n",
       "\n",
       "        function geo_json_cc2ac2212530077034929572c15d80f4_add (data) {\n",
       "            geo_json_cc2ac2212530077034929572c15d80f4\n",
       "                .addData(data);\n",
       "        }\n",
       "            geo_json_cc2ac2212530077034929572c15d80f4_add({&quot;features&quot;: [{&quot;geometry&quot;: {&quot;coordinates&quot;: [[[8.656526837050933, 53.16681909567589], [8.65526279520168, 53.16909236624355], [8.651492845830973, 53.17123258694642], [8.650428389537126, 53.17119270803312], [8.648011186361344, 53.169730456037286], [8.647212844141194, 53.1671381588618], [8.64701325858573, 53.16548964228136], [8.64714631562211, 53.164811604986795], [8.649474813765266, 53.164598885196625], [8.651736783389254, 53.164439344662014], [8.654863623752505, 53.16477172010656], [8.655706318657224, 53.16501102842997], [8.656172018286355, 53.16538328379559], [8.656504660877317, 53.16623414107889]]], &quot;type&quot;: &quot;Polygon&quot;}, &quot;properties&quot;: {}, &quot;type&quot;: &quot;Feature&quot;}], &quot;type&quot;: &quot;FeatureCollection&quot;});\n",
       "        geo_json_cc2ac2212530077034929572c15d80f4.setStyle(function(feature) {return feature.properties.style;});\n",
       "\n",
       "        \n",
       "    \n",
       "            geo_json_cc2ac2212530077034929572c15d80f4.addTo(map_13cf8caf1cc185212d229b295c14032d);\n",
       "        \n",
       "&lt;/script&gt;\n",
       "&lt;/html&gt;\" style=\"position:absolute;width:100%;height:100%;left:0;top:0;border:none !important;\" allowfullscreen webkitallowfullscreen mozallowfullscreen></iframe></div></div>"
      ]
     },
     "execution_count": 93,
     "metadata": {},
     "output_type": "execute_result"
    }
   ],
   "execution_count": 93
  },
  {
   "metadata": {},
   "cell_type": "code",
   "outputs": [],
   "execution_count": null,
   "source": "",
   "id": "e328a14a0b2a9910"
  }
 ],
 "metadata": {
  "kernelspec": {
   "display_name": "Python 3",
   "language": "python",
   "name": "python3"
  },
  "language_info": {
   "codemirror_mode": {
    "name": "ipython",
    "version": 2
   },
   "file_extension": ".py",
   "mimetype": "text/x-python",
   "name": "python",
   "nbconvert_exporter": "python",
   "pygments_lexer": "ipython2",
   "version": "2.7.6"
  }
 },
 "nbformat": 4,
 "nbformat_minor": 5
}
