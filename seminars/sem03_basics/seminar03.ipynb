{
 "cells": [
  {
   "cell_type": "markdown",
   "metadata": {},
   "source": [
    "# Week 3 Seminar — OOP "
   ]
  },
  {
   "cell_type": "markdown",
   "metadata": {},
   "source": [
    "### 🎯 Recap\n",
    "\n",
    "A class bundles data (what something is) together with behavior (what it does) to simplify interaction with it.\n",
    "\n",
    "Today, we’ll build a simple Book class that includes properties like the title, author, and page count.\n",
    "\n",
    "**🚫 Original Code**"
   ]
  },
  {
   "cell_type": "code",
   "execution_count": 8,
   "metadata": {
    "ExecuteTime": {
     "end_time": "2025-09-23T15:37:56.759499Z",
     "start_time": "2025-09-23T15:37:56.756674Z"
    }
   },
   "outputs": [
    {
     "name": "stdout",
     "output_type": "stream",
     "text": [
      "Harry Potter\n"
     ]
    }
   ],
   "source": [
    "from typing import Generator\n",
    "\n",
    "\n",
    "class Book:\n",
    "    title = \"Harry Potter\"\n",
    "    author = \"J.K. Rowling\"\n",
    "    pages = 500\n",
    "\n",
    "book = Book\n",
    "print(book.title)"
   ]
  },
  {
   "cell_type": "markdown",
   "metadata": {},
   "source": [
    "**What’s wrong here?**\n",
    "* All the attributes are defined as class variables, so they are shared across all instances.\n",
    "* You can’t easily create different books, every instance would have the same values.\n",
    "\n",
    "**✅ Let's Fix It** — Using a Constructor"
   ]
  },
  {
   "cell_type": "code",
   "execution_count": 9,
   "metadata": {
    "ExecuteTime": {
     "end_time": "2025-09-23T15:39:26.043345Z",
     "start_time": "2025-09-23T15:39:26.039942Z"
    }
   },
   "outputs": [
    {
     "name": "stdout",
     "output_type": "stream",
     "text": [
      "Harry Potter\n",
      "The Hobbit\n"
     ]
    }
   ],
   "source": [
    "class Book:\n",
    "    def __init__(self, title, author, pages):\n",
    "        self.title = title\n",
    "        self.author = author\n",
    "        self.pages = pages\n",
    "\n",
    "# Create different book instances\n",
    "book1 = Book(\"Harry Potter\", \"J.K. Rowling\", 500)\n",
    "book2 = Book(\"The Hobbit\", \"J.R.R. Tolkien\", 310)\n",
    "\n",
    "print(book1.title)  # Output: Harry Potter\n",
    "print(book2.title)  # Output: The Hobbit"
   ]
  },
  {
   "cell_type": "markdown",
   "metadata": {},
   "source": [
    "### Displaying Our Book Object"
   ]
  },
  {
   "cell_type": "code",
   "execution_count": 10,
   "metadata": {
    "ExecuteTime": {
     "end_time": "2025-09-23T15:39:35.760234Z",
     "start_time": "2025-09-23T15:39:35.757642Z"
    }
   },
   "outputs": [
    {
     "name": "stdout",
     "output_type": "stream",
     "text": [
      "<__main__.Book object at 0x792b829361a0>\n"
     ]
    }
   ],
   "source": [
    "# Nice! Now we want to display the book!\n",
    "print(book1)"
   ]
  },
  {
   "cell_type": "markdown",
   "metadata": {},
   "source": [
    "Hmm… What went wrong?\n",
    "\n",
    "This output just tells us where in memory the object is stored, not very helpful!\n",
    "We need to tell Python how to display the object by implementing the `__str__` method."
   ]
  },
  {
   "cell_type": "code",
   "execution_count": 11,
   "metadata": {
    "ExecuteTime": {
     "end_time": "2025-09-23T15:40:43.184739Z",
     "start_time": "2025-09-23T15:40:43.181774Z"
    }
   },
   "outputs": [
    {
     "name": "stdout",
     "output_type": "stream",
     "text": [
      "'1984' by George Orwell\n"
     ]
    }
   ],
   "source": [
    "class Book:\n",
    "    def __init__(self, title, author, pages):\n",
    "        self.title = title\n",
    "        self.author = author\n",
    "        self.pages = pages\n",
    "\n",
    "    def __str__(self):\n",
    "        return f\"'{self.title}' by {self.author}\"\n",
    "\n",
    "book = Book(\"1984\", \"George Orwell\", 328)\n",
    "print(book)"
   ]
  },
  {
   "cell_type": "code",
   "execution_count": 12,
   "metadata": {
    "ExecuteTime": {
     "end_time": "2025-09-23T15:40:49.954195Z",
     "start_time": "2025-09-23T15:40:49.950692Z"
    }
   },
   "outputs": [
    {
     "data": {
      "text/plain": [
       "<__main__.Book at 0x792b82936a40>"
      ]
     },
     "execution_count": 12,
     "metadata": {},
     "output_type": "execute_result"
    }
   ],
   "source": [
    "book"
   ]
  },
  {
   "cell_type": "markdown",
   "metadata": {},
   "source": [
    "Now that we have a clean human-readable format using `__str__`, let’s take it a step further.\n",
    "\n",
    "What if we wanted a more technical version of the object, useful for debugging or logging?\n",
    "\n",
    "That’s where the `__repr__()` method comes in."
   ]
  },
  {
   "cell_type": "code",
   "execution_count": 13,
   "metadata": {
    "ExecuteTime": {
     "end_time": "2025-09-23T15:41:51.605537Z",
     "start_time": "2025-09-23T15:41:51.601339Z"
    }
   },
   "outputs": [
    {
     "name": "stdout",
     "output_type": "stream",
     "text": [
      "'1984' by George Orwell\n",
      "Book(title='1984', author='George Orwell', pages=328)\n"
     ]
    }
   ],
   "source": [
    "class Book:\n",
    "    def __init__(self, title, author, pages):\n",
    "        self.title = title\n",
    "        self.author = author\n",
    "        self.pages = pages\n",
    "\n",
    "    def __str__(self):\n",
    "        return f\"'{self.title}' by {self.author}\"\n",
    "\n",
    "    def __repr__(self):\n",
    "        return f\"Book(title='{self.title}', author='{self.author}', pages={self.pages})\"\n",
    "\n",
    "book1 = Book(\"1984\", \"George Orwell\", 328)\n",
    "\n",
    "print(book1)         # Uses __str__\n",
    "print(repr(book1))   # Uses __repr__\n"
   ]
  },
  {
   "cell_type": "code",
   "execution_count": 14,
   "metadata": {
    "ExecuteTime": {
     "end_time": "2025-09-23T15:41:55.860207Z",
     "start_time": "2025-09-23T15:41:55.856804Z"
    }
   },
   "outputs": [
    {
     "data": {
      "text/plain": [
       "Book(title='1984', author='George Orwell', pages=328)"
      ]
     },
     "execution_count": 14,
     "metadata": {},
     "output_type": "execute_result"
    }
   ],
   "source": [
    "book1"
   ]
  },
  {
   "cell_type": "markdown",
   "metadata": {},
   "source": [
    "**Key Difference**\n",
    "\n",
    "* `__str__()` → For users (friendly, readable)\n",
    "\n",
    "* `__repr__()` → For developers (debug-friendly, unambiguous)"
   ]
  },
  {
   "cell_type": "markdown",
   "metadata": {},
   "source": [
    "**Bonus Tip: try running**"
   ]
  },
  {
   "cell_type": "code",
   "execution_count": 17,
   "metadata": {
    "ExecuteTime": {
     "end_time": "2025-09-23T15:42:36.825107Z",
     "start_time": "2025-09-23T15:42:36.821965Z"
    }
   },
   "outputs": [
    {
     "data": {
      "text/plain": [
       "[Book(title='1984', author='George Orwell', pages=328),\n",
       " Book(title='Dune', author='Frank Herbert', pages=412)]"
      ]
     },
     "execution_count": 17,
     "metadata": {},
     "output_type": "execute_result"
    }
   ],
   "source": [
    "books = [Book(\"1984\", \"George Orwell\", 328), Book(\"Dune\", \"Frank Herbert\", 412)]\n",
    "books  # What do you think will be printed?"
   ]
  },
  {
   "cell_type": "markdown",
   "metadata": {},
   "source": [
    "### Attribute Protection in Python\n",
    "\n",
    "In Python, all attributes are public by default. But we do have conventions to limit access or modification.\n",
    "\n",
    "**Discussion Topic #1**: Should We Be Able to Modify a Book’s State From Outside the Class?"
   ]
  },
  {
   "cell_type": "code",
   "execution_count": 18,
   "metadata": {
    "ExecuteTime": {
     "end_time": "2025-09-23T15:43:30.271357Z",
     "start_time": "2025-09-23T15:43:30.268726Z"
    }
   },
   "outputs": [
    {
     "name": "stdout",
     "output_type": "stream",
     "text": [
      "0\n"
     ]
    }
   ],
   "source": [
    "book.pages = 0\n",
    "print(book.pages)"
   ]
  },
  {
   "cell_type": "markdown",
   "metadata": {},
   "source": [
    "**Solution 1: \"Hiding\" the Title**"
   ]
  },
  {
   "cell_type": "code",
   "execution_count": 19,
   "metadata": {
    "ExecuteTime": {
     "end_time": "2025-09-23T15:43:51.578966Z",
     "start_time": "2025-09-23T15:43:51.575463Z"
    }
   },
   "outputs": [
    {
     "name": "stdout",
     "output_type": "stream",
     "text": [
      "Accessing title property...\n",
      "1984\n"
     ]
    }
   ],
   "source": [
    "class Book:\n",
    "    \n",
    "    def __init__(self, title, author, pages):\n",
    "        self.__title = title # 👈 Name mangled, not truly private\n",
    "        self.author = author\n",
    "        self.pages = pages\n",
    "\n",
    "    @property\n",
    "    def title(self):\n",
    "        print(\"Accessing title property...\")\n",
    "        return self.__title\n",
    "\n",
    "    @title.setter\n",
    "    def title(self, new_title):\n",
    "        print(\"Setting title property...\")\n",
    "        pass\n",
    "\n",
    "    def __str__(self):\n",
    "        return f\"{self.__title} by {self.author}, {self.pages} pages\"\n",
    "    \n",
    "\n",
    "book = Book(\"1984\", \"George Orwell\", 328)\n",
    "print(book.title)"
   ]
  },
  {
   "cell_type": "code",
   "execution_count": 20,
   "metadata": {
    "ExecuteTime": {
     "end_time": "2025-09-23T15:43:55.112224Z",
     "start_time": "2025-09-23T15:43:55.109472Z"
    }
   },
   "outputs": [
    {
     "name": "stdout",
     "output_type": "stream",
     "text": [
      "Setting title property...\n",
      "Accessing title property...\n",
      "1984\n"
     ]
    }
   ],
   "source": [
    "book.title = \"Animal Farm\"\n",
    "print(book.title)"
   ]
  },
  {
   "cell_type": "markdown",
   "metadata": {},
   "source": [
    " Now you’ve controlled how the value gets changed and accessed.\n",
    "\n",
    " ### But Is It Really Private?"
   ]
  },
  {
   "cell_type": "code",
   "execution_count": 21,
   "metadata": {
    "ExecuteTime": {
     "end_time": "2025-09-23T15:44:02.738356Z",
     "start_time": "2025-09-23T15:44:02.735448Z"
    }
   },
   "outputs": [
    {
     "name": "stdout",
     "output_type": "stream",
     "text": [
      "\n",
      "Does __title exist directly? False\n",
      "But does _BookBroken__title exist? True\n"
     ]
    }
   ],
   "source": [
    "# True privacy? Let's see what attributes we have:\n",
    "print(\"\\nDoes __title exist directly?\", hasattr(book, \"__title\"))\n",
    "print(\"But does _BookBroken__title exist?\", hasattr(book, \"_Book__title\"))"
   ]
  },
  {
   "cell_type": "markdown",
   "metadata": {},
   "source": [
    "It’s still there! Python just mangles the name to `_ClassName__var`.\n",
    "\n",
    "Even this is possible:"
   ]
  },
  {
   "cell_type": "code",
   "execution_count": 22,
   "metadata": {
    "ExecuteTime": {
     "end_time": "2025-09-23T15:44:07.519183Z",
     "start_time": "2025-09-23T15:44:07.516615Z"
    }
   },
   "outputs": [
    {
     "name": "stdout",
     "output_type": "stream",
     "text": [
      "Hacked Title by George Orwell, 328 pages\n"
     ]
    }
   ],
   "source": [
    "book._Book__title = \"Hacked Title\"\n",
    "print(book)"
   ]
  },
  {
   "cell_type": "markdown",
   "metadata": {},
   "source": [
    "### Conclusion: \n",
    "\n",
    "Python doesn't enforce real privacy. Instead, use naming conventions and properties to guide safe usage.\n",
    "\n",
    "* Prefix with `_` or `__` to signal \"don't touch me!\"\n",
    "\n",
    "* Use `@property` and `@setter` to control access and changes"
   ]
  },
  {
   "cell_type": "markdown",
   "metadata": {},
   "source": [
    "### Comparisons\n",
    "\n",
    "Lets compare two books:"
   ]
  },
  {
   "cell_type": "code",
   "execution_count": 23,
   "metadata": {
    "ExecuteTime": {
     "end_time": "2025-09-23T15:44:43.511180Z",
     "start_time": "2025-09-23T15:44:43.508585Z"
    }
   },
   "outputs": [
    {
     "name": "stdout",
     "output_type": "stream",
     "text": [
      "False\n"
     ]
    }
   ],
   "source": [
    "book = Book(\"1984\", \"George Orwell\", 328)\n",
    "book2 = Book(\"1984\", \"George Orwell\", 328)\n",
    "print(book == book2)"
   ]
  },
  {
   "cell_type": "code",
   "execution_count": 24,
   "metadata": {
    "ExecuteTime": {
     "end_time": "2025-09-23T15:45:08.590966Z",
     "start_time": "2025-09-23T15:45:08.587555Z"
    }
   },
   "outputs": [
    {
     "data": {
      "text/plain": [
       "(133227781248320, 133227781249712)"
      ]
     },
     "execution_count": 24,
     "metadata": {},
     "output_type": "execute_result"
    }
   ],
   "source": [
    "id(book), id(book2)"
   ]
  },
  {
   "cell_type": "code",
   "execution_count": 25,
   "metadata": {
    "ExecuteTime": {
     "end_time": "2025-09-23T15:45:19.852905Z",
     "start_time": "2025-09-23T15:45:19.849575Z"
    }
   },
   "outputs": [
    {
     "data": {
      "text/plain": [
       "False"
      ]
     },
     "execution_count": 25,
     "metadata": {},
     "output_type": "execute_result"
    }
   ],
   "source": [
    "book is book2"
   ]
  },
  {
   "cell_type": "markdown",
   "metadata": {},
   "source": [
    "By default, Python compares object identity — not the content.\n",
    "\n",
    "Even though the values are the same, `book1` and `book2` are two different objects in memory, so the default `__eq__` fails.\n",
    "\n",
    "### Solution: Define `__eq__`\n",
    "\n",
    "Let’s define equality based on content, not memory address."
   ]
  },
  {
   "cell_type": "code",
   "execution_count": 26,
   "metadata": {
    "ExecuteTime": {
     "end_time": "2025-09-23T15:46:04.984621Z",
     "start_time": "2025-09-23T15:46:04.981076Z"
    }
   },
   "outputs": [
    {
     "name": "stdout",
     "output_type": "stream",
     "text": [
      "True\n"
     ]
    }
   ],
   "source": [
    "class Book:\n",
    "    def __init__(self, title, author, pages):\n",
    "        self.title = title\n",
    "        self.author = author\n",
    "        self.pages = pages\n",
    "\n",
    "    def __eq__(self, other):\n",
    "        if isinstance(other, Book):\n",
    "            return (self.title == other.title and\n",
    "                    self.author == other.author and\n",
    "                    self.pages == other.pages)\n",
    "        return False\n",
    "\n",
    "book = Book(\"1984\", \"George Orwell\", 328)\n",
    "book2 = Book(\"1984\", \"George Orwell\", 328)\n",
    "print(book == book2)"
   ]
  },
  {
   "cell_type": "code",
   "execution_count": 28,
   "metadata": {
    "ExecuteTime": {
     "end_time": "2025-09-23T15:46:21.032007Z",
     "start_time": "2025-09-23T15:46:21.028134Z"
    }
   },
   "outputs": [
    {
     "data": {
      "text/plain": [
       "(False, False)"
      ]
     },
     "execution_count": 28,
     "metadata": {},
     "output_type": "execute_result"
    }
   ],
   "source": [
    "book is book2, id(book) == id(book2)"
   ]
  },
  {
   "cell_type": "markdown",
   "metadata": {},
   "source": [
    "### More: Less Than and Greater Than?\n",
    "Let’s say we want to compare books by page count:"
   ]
  },
  {
   "cell_type": "code",
   "execution_count": 29,
   "metadata": {
    "ExecuteTime": {
     "end_time": "2025-09-23T15:47:07.715633Z",
     "start_time": "2025-09-23T15:47:07.711287Z"
    }
   },
   "outputs": [
    {
     "name": "stdout",
     "output_type": "stream",
     "text": [
      "True\n",
      "False\n"
     ]
    }
   ],
   "source": [
    "class Book:\n",
    "    def __init__(self, title, author, pages):\n",
    "        self.title = title\n",
    "        self.author = author\n",
    "        self.pages = pages\n",
    "\n",
    "    def __eq__(self, other):\n",
    "        if isinstance(other, Book):\n",
    "            return (self.title == other.title and\n",
    "                    self.author == other.author and\n",
    "                    self.pages == other.pages)\n",
    "        return False\n",
    "    \n",
    "    def __lt__(self, other):\n",
    "        return self.pages < other.pages\n",
    "\n",
    "    def __gt__(self, other):\n",
    "        return self.pages > other.pages\n",
    "    \n",
    "book1 = Book(\"1984\", \"George Orwell\", 328)\n",
    "book2 = Book(\"Dune\", \"Frank Herbert\", 412)\n",
    "\n",
    "print(book1 < book2)   # True\n",
    "print(book1 > book2)   # False    "
   ]
  },
  {
   "cell_type": "code",
   "execution_count": 30,
   "metadata": {
    "ExecuteTime": {
     "end_time": "2025-09-23T15:47:10.680935Z",
     "start_time": "2025-09-23T15:47:10.671524Z"
    }
   },
   "outputs": [
    {
     "ename": "TypeError",
     "evalue": "'<=' not supported between instances of 'Book' and 'Book'",
     "output_type": "error",
     "traceback": [
      "\u001b[0;31m---------------------------------------------------------------------------\u001b[0m",
      "\u001b[0;31mTypeError\u001b[0m                                 Traceback (most recent call last)",
      "Cell \u001b[0;32mIn[30], line 1\u001b[0m\n\u001b[0;32m----> 1\u001b[0m \u001b[38;5;28mprint\u001b[39m(\u001b[43mbook1\u001b[49m\u001b[43m \u001b[49m\u001b[38;5;241;43m<\u001b[39;49m\u001b[38;5;241;43m=\u001b[39;49m\u001b[43m \u001b[49m\u001b[43mbook2\u001b[49m)  \u001b[38;5;66;03m# Error!\u001b[39;00m\n",
      "\u001b[0;31mTypeError\u001b[0m: '<=' not supported between instances of 'Book' and 'Book'"
     ]
    }
   ],
   "source": [
    "print(book1 <= book2)  # Error!"
   ]
  },
  {
   "cell_type": "markdown",
   "metadata": {},
   "source": [
    "**Bonus**: Use `functools.total_ordering` to Save Time\n",
    "\n",
    "If you define just `__eq__` and one of `__lt__`, Python can infer the rest:"
   ]
  },
  {
   "cell_type": "code",
   "execution_count": 31,
   "metadata": {
    "ExecuteTime": {
     "end_time": "2025-09-23T15:47:25.477360Z",
     "start_time": "2025-09-23T15:47:25.473764Z"
    }
   },
   "outputs": [
    {
     "name": "stdout",
     "output_type": "stream",
     "text": [
      "True\n",
      "False\n"
     ]
    }
   ],
   "source": [
    "from functools import total_ordering\n",
    "\n",
    "@total_ordering\n",
    "class Book:\n",
    "    def __init__(self, title, author, pages):\n",
    "        self.title = title\n",
    "        self.author = author\n",
    "        self.pages = pages\n",
    "\n",
    "    def __eq__(self, other):\n",
    "        return (self.title == other.title and\n",
    "                self.author == other.author and\n",
    "                self.pages == other.pages)\n",
    "\n",
    "    def __lt__(self, other):\n",
    "        return self.pages < other.pages\n",
    "    \n",
    "book1 = Book(\"1984\", \"George Orwell\", 328)\n",
    "book2 = Book(\"Dune\", \"Frank Herbert\", 412)\n",
    "print(book1 <= book2)  # True\n",
    "print(book1 >= book2)  # False   "
   ]
  },
  {
   "cell_type": "markdown",
   "metadata": {},
   "source": [
    "Now you get:\n",
    "\n",
    "* `==`, `!=`  \n",
    "\n",
    "* `<`, `>`, `<=`, `>=`\n",
    "\n",
    "All with just two methods!"
   ]
  },
  {
   "cell_type": "markdown",
   "metadata": {},
   "source": [
    "# Clean Code Practice\n",
    "\n",
    "## DRY — Don't Repeat Yourself\n",
    "\n",
    "**Benefits**\n",
    "\n",
    "* Simpler code → easier to read and understand\n",
    "\n",
    "* Easier maintenance → update logic once, not everywhere\n",
    "\n",
    "* Better reusability → extract common logic into functions, classes, or modules\n",
    "\n",
    "### Violation example:\n",
    "\n",
    "\n"
   ]
  },
  {
   "cell_type": "code",
   "execution_count": 32,
   "metadata": {
    "ExecuteTime": {
     "end_time": "2025-09-23T15:57:39.874235Z",
     "start_time": "2025-09-23T15:57:39.870182Z"
    }
   },
   "outputs": [
    {
     "name": "stdout",
     "output_type": "stream",
     "text": [
      "1984 — George Orwell [Medium] (328 pages)\n",
      "Dune — Frank Herbert [Medium] (412 pages)\n",
      "The Hobbit — J.R.R. Tolkien [Medium] (310 pages)\n",
      "War and Peace — Leo Tolstoy [Long] (1225 pages)\n"
     ]
    }
   ],
   "source": [
    "class Book:\n",
    "    def __init__(self, title, author, pages):\n",
    "        self.title = title\n",
    "        self.author = author\n",
    "        self.pages = pages\n",
    "\n",
    "new_arrivals = [\n",
    "    Book(\"1984\", \"George Orwell\", 328),\n",
    "    Book(\"Dune\", \"Frank Herbert\", 412),\n",
    "]\n",
    "\n",
    "staff_picks = [\n",
    "    Book(\"The Hobbit\", \"J.R.R. Tolkien\", 310),\n",
    "    Book(\"War and Peace\", \"Leo Tolstoy\", 1225),\n",
    "]\n",
    "\n",
    "def show_new_arrivals(books):\n",
    "    for b in books:\n",
    "        # size label logic (dup #1)\n",
    "        size = \"Long\" if b.pages > 500 else \"Medium\" if b.pages > 300 else \"Short\"\n",
    "        # display format (dup #1)\n",
    "        print(f\"{b.title} — {b.author} [{size}] ({b.pages} pages)\")\n",
    "\n",
    "def show_staff_picks(books):\n",
    "    for b in books:\n",
    "        # size label logic (dup #2)\n",
    "        size = \"Long\" if b.pages > 500 else \"Medium\" if b.pages > 300 else \"Short\"\n",
    "        # display format (dup #2)\n",
    "        print(f\"{b.title} — {b.author} [{size}] ({b.pages} pages)\")\n",
    "\n",
    "show_new_arrivals(new_arrivals)\n",
    "show_staff_picks(staff_picks)\n"
   ]
  },
  {
   "cell_type": "markdown",
   "metadata": {},
   "source": [
    "❌ same logic copy-pasted in two places. \n",
    "if the size thresholds or the print format change, you must hunt down every copy.\n",
    "\n",
    "**How to Apply DRY**\n",
    "\n",
    "* Extract functions → put repeated logic into reusable methods\n",
    "\n",
    "* Group by functionality → use classes and inheritance to avoid duplicate code\n",
    "\n",
    "* Reuse existing tools → leverage libraries, modules, and frameworks instead of reinventing the wheel\n"
   ]
  },
  {
   "cell_type": "code",
   "execution_count": 23,
   "metadata": {},
   "outputs": [
    {
     "name": "stdout",
     "output_type": "stream",
     "text": [
      "New Arrivals\n",
      "1984 — George Orwell [Medium] (328 pages)\n",
      "Dune — Frank Herbert [Medium] (412 pages)\n",
      "\n",
      "Staff Picks\n",
      "The Hobbit — J.R.R. Tolkien [Medium] (310 pages)\n",
      "War and Peace — Leo Tolstoy [Long] (1225 pages)\n",
      "\n"
     ]
    }
   ],
   "source": [
    "class Book:\n",
    "    def __init__(self, title, author, pages):\n",
    "        self.title = title\n",
    "        self.author = author\n",
    "        self.pages = pages\n",
    "\n",
    "def size_label(pages: int) -> str:\n",
    "    return \"Long\" if pages > 500 else \"Medium\" if pages > 300 else \"Short\"\n",
    "\n",
    "def format_book(b: Book) -> str:\n",
    "    return f\"{b.title} — {b.author} [{size_label(b.pages)}] ({b.pages} pages)\"\n",
    "\n",
    "def show_list(books, header):\n",
    "    print(header)\n",
    "    for b in books:\n",
    "        print(format_book(b))\n",
    "    print()  # spacing\n",
    "\n",
    "new_arrivals = [\n",
    "    Book(\"1984\", \"George Orwell\", 328),\n",
    "    Book(\"Dune\", \"Frank Herbert\", 412),\n",
    "]\n",
    "\n",
    "staff_picks = [\n",
    "    Book(\"The Hobbit\", \"J.R.R. Tolkien\", 310),\n",
    "    Book(\"War and Peace\", \"Leo Tolstoy\", 1225),\n",
    "]\n",
    "\n",
    "show_list(new_arrivals, \"New Arrivals\")\n",
    "show_list(staff_picks, \"Staff Picks\")\n"
   ]
  },
  {
   "cell_type": "markdown",
   "metadata": {},
   "source": [
    "# KISS - Keep It Simple, Stupid\n",
    "Focus on simple and direct solutions.\n",
    "\n",
    "**Benefits**\n",
    "\n",
    "* Better understanding → Simple code is easier to read and explain\n",
    "\n",
    "* Fewer bugs → Less logic = fewer chances to break\n",
    "\n",
    "* Easier to scale → Clean code adapts better to new features\n",
    "\n",
    "**❌ Over-Complicated Version**"
   ]
  },
  {
   "cell_type": "code",
   "execution_count": 33,
   "metadata": {
    "ExecuteTime": {
     "end_time": "2025-09-23T15:59:16.078741Z",
     "start_time": "2025-09-23T15:59:16.076298Z"
    }
   },
   "outputs": [],
   "source": [
    "def can_access_dashboard(user_role):\n",
    "    if user_role == \"admin\":\n",
    "        return True\n",
    "    elif user_role == \"editor\":\n",
    "        return True\n",
    "    elif user_role == \"moderator\":\n",
    "        return True\n",
    "    else:\n",
    "        return False"
   ]
  },
  {
   "cell_type": "markdown",
   "metadata": {},
   "source": [
    "✅ KISS Version — Cleaner & Simpler"
   ]
  },
  {
   "cell_type": "code",
   "execution_count": 34,
   "metadata": {
    "ExecuteTime": {
     "end_time": "2025-09-23T15:59:20.606119Z",
     "start_time": "2025-09-23T15:59:20.603546Z"
    }
   },
   "outputs": [],
   "source": [
    "def can_access_dashboard(user_role):\n",
    "    return user_role in {\"admin\", \"editor\", \"moderator\"}\n"
   ]
  },
  {
   "cell_type": "code",
   "execution_count": null,
   "metadata": {},
   "outputs": [],
   "source": [
    "def can_access_dashboard(user_role):\n",
    "    match user_role:\n",
    "        case \"admin\", \"editor\", \"moderator\":\n",
    "            return True\n",
    "    return False"
   ]
  },
  {
   "cell_type": "markdown",
   "metadata": {},
   "source": [
    "**❌ Too Complex (KISS Violation)**"
   ]
  },
  {
   "cell_type": "code",
   "execution_count": 34,
   "metadata": {},
   "outputs": [
    {
     "name": "stdout",
     "output_type": "stream",
     "text": [
      "Square is: 100\n"
     ]
    }
   ],
   "source": [
    "class MathOperations:\n",
    "    def __init__(self):\n",
    "        pass\n",
    "\n",
    "    def square(self, number):\n",
    "        return number ** 2\n",
    "\n",
    "\n",
    "def start():\n",
    "    math = MathOperations()\n",
    "    num = 10\n",
    "    print(\"Square is:\", math.square(num))\n",
    "\n",
    "start()"
   ]
  },
  {
   "cell_type": "markdown",
   "metadata": {},
   "source": [
    "✅ Simple Version (KISS Compliant)"
   ]
  },
  {
   "cell_type": "code",
   "execution_count": 35,
   "metadata": {},
   "outputs": [
    {
     "name": "stdout",
     "output_type": "stream",
     "text": [
      "Square is: 100\n"
     ]
    }
   ],
   "source": [
    "num = 10\n",
    "print(\"Square is:\", num ** 2)"
   ]
  },
  {
   "cell_type": "markdown",
   "metadata": {},
   "source": [
    "# Open/Closed Principle (OCP)\n",
    "You should be able to add new features without changing existing code.\n",
    "\n",
    "**❌ Bad Example**"
   ]
  },
  {
   "cell_type": "code",
   "execution_count": 36,
   "metadata": {},
   "outputs": [],
   "source": [
    "def calculate_price(book_type, base_price):\n",
    "    if book_type == \"fiction\":\n",
    "        return base_price * 0.9\n",
    "    elif book_type == \"non-fiction\":\n",
    "        return base_price * 0.95"
   ]
  },
  {
   "cell_type": "markdown",
   "metadata": {},
   "source": [
    "* Every time we add a new book type, we have to edit this function.\n",
    "\n",
    "**✅ Good Example**\n",
    "* We can add a new book type by creating a new class.\n",
    "\n",
    "* Existing logic doesn’t change."
   ]
  },
  {
   "cell_type": "code",
   "execution_count": 37,
   "metadata": {},
   "outputs": [],
   "source": [
    "class Book:\n",
    "    def get_price(self, base_price):\n",
    "        return base_price\n",
    "\n",
    "class FictionBook(Book):\n",
    "    def get_price(self, base_price):\n",
    "        return base_price * 0.9\n",
    "\n",
    "class NonFictionBook(Book):\n",
    "    def get_price(self, base_price):\n",
    "        return base_price * 0.95\n",
    "\n",
    "def display_price(book: Book, base_price):\n",
    "    print(\"Final price:\", book.get_price(base_price))\n"
   ]
  },
  {
   "cell_type": "code",
   "execution_count": null,
   "metadata": {},
   "outputs": [],
   "source": [
    "import abc\n",
    "\n",
    "class FinalPriceCalculatorInterface(abc.ABC):\n",
    "    def calculate(self, price: float) -> float:\n",
    "        pass"
   ]
  },
  {
   "cell_type": "markdown",
   "metadata": {},
   "source": [
    "# Dependency Inversion Principle (DIP)\n",
    "\n",
    "High-level modules should not depend on low-level modules. Both should depend on abstractions.\n",
    "\n",
    "**❌ Bad Example**\n",
    "\n",
    "* `BookManager` is tightly coupled to file storage.\n",
    "\n",
    "* Can’t switch to a different storage method easily."
   ]
  },
  {
   "cell_type": "code",
   "execution_count": 38,
   "metadata": {},
   "outputs": [],
   "source": [
    "class FileStorage:\n",
    "    def save_book(self, book_data):\n",
    "        print(\"Saving to file\")\n",
    "\n",
    "class BookManager:\n",
    "    def __init__(self):\n",
    "        self.storage = FileStorage()  # tightly coupled\n",
    "\n",
    "    def save(self, book_data):\n",
    "        self.storage.save_book(book_data)\n"
   ]
  },
  {
   "cell_type": "markdown",
   "metadata": {},
   "source": [
    "**✅ Good Example**\n",
    "\n",
    "* `BookManager` depends on an abstract interface, not a concrete implementation.\n",
    "\n",
    "* We can switch between FileStorage and CloudStorage without changing any logic in `BookManager`."
   ]
  },
  {
   "cell_type": "code",
   "execution_count": 39,
   "metadata": {},
   "outputs": [],
   "source": [
    "class BookStorage:\n",
    "    def save_book(self, book_data):\n",
    "        pass\n",
    "\n",
    "class FileStorage(BookStorage):\n",
    "    def save_book(self, book_data):\n",
    "        print(\"Saving to file\")\n",
    "\n",
    "class CloudStorage(BookStorage):\n",
    "    def save_book(self, book_data):\n",
    "        print(\"Saving to cloud\")\n",
    "\n",
    "class BookManager:\n",
    "    def __init__(self, storage: BookStorage):\n",
    "        self.storage = storage\n",
    "\n",
    "    def save(self, book_data):\n",
    "        self.storage.save_book(book_data)\n"
   ]
  },
  {
   "cell_type": "markdown",
   "metadata": {},
   "source": [
    "# Exercise: Refactor the BookStore Class\n",
    "\n",
    "### ❌ Original Messy Code\n",
    "\n",
    "* Violates Single Responsibility Principle: One class handles book storage, discount logic, file I/O, and printing.\n",
    "\n",
    "* Violates Open/Closed Principle: Adding a new genre discount requires editing the method.\n",
    "\n",
    "* Violates Dependency Inversion Principle: File handling is hardcoded.\n",
    "\n",
    "* Violates DRY: Repeats dictionary access everywhere.\n",
    "\n",
    "* Violates KISS: Uses plain dictionaries instead of clear objects."
   ]
  },
  {
   "cell_type": "code",
   "execution_count": 40,
   "metadata": {},
   "outputs": [],
   "source": [
    "class BookStore:\n",
    "    def __init__(self):\n",
    "        self.books = []\n",
    "    \n",
    "    def add_book(self, title, author, price, genre):\n",
    "        self.books.append({\n",
    "            \"title\": title,\n",
    "            \"author\": author,\n",
    "            \"price\": price,\n",
    "            \"genre\": genre\n",
    "        })\n",
    "\n",
    "    def get_discounted_price(self, title):\n",
    "        for book in self.books:\n",
    "            if book[\"title\"] == title:\n",
    "                if book[\"genre\"] == \"fiction\":\n",
    "                    return book[\"price\"] * 0.9\n",
    "                elif book[\"genre\"] == \"non-fiction\":\n",
    "                    return book[\"price\"] * 0.95\n",
    "                else:\n",
    "                    return book[\"price\"]\n",
    "    \n",
    "    def print_books(self):\n",
    "        for book in self.books:\n",
    "            print(f\"{book['title']} by {book['author']} - ${book['price']} ({book['genre']})\")\n",
    "\n",
    "    def save_books_to_file(self):\n",
    "        with open(\"books.txt\", \"w\") as f:\n",
    "            for book in self.books:\n",
    "                f.write(f\"{book['title']},{book['author']},{book['price']},{book['genre']}\\n\")\n"
   ]
  },
  {
   "cell_type": "markdown",
   "metadata": {},
   "source": [
    "### Your Goal\n",
    "\n",
    "Break it down into:\n",
    "\n",
    "`Book` class with clear attributes and possibly a method to calculate discounted price.\n",
    "\n",
    "Separate discount strategy  for `OCP`.\n",
    "\n",
    "`Printer` for displaying books.\n",
    "\n",
    "Storage abstraction for saving books (for `DIP`)."
   ]
  },
  {
   "cell_type": "code",
   "execution_count": null,
   "metadata": {},
   "outputs": [],
   "source": [
    "from dataclasses import dataclass\n",
    "\n",
    "@dataclass\n",
    "class Book:\n",
    "    title: str\n",
    "    author: str\n",
    "    price: float\n",
    "    genre: str\n",
    "\n",
    "\n",
    "class BookStorage:\n",
    "    def __init__(self):\n",
    "        self.books = []\n",
    "        \n",
    "    def add_book(self, book: Book):\n",
    "        self.books.append(book)\n",
    "        \n",
    "    def enumerate_books(self) -> Generator[Book, None, None]:\n",
    "        for book in self.books:\n",
    "            yield book\n",
    "    \n",
    "    def get_by_title(self, title: str) -> Book | None:\n",
    "        for book in self.books:\n",
    "            if book.title == title:\n",
    "                return book\n",
    "        return None\n",
    "    \n",
    "    def save(self, file_path: str) -> None:\n",
    "        with open(file_path, \"w\") as f:\n",
    "            for book in self.books:\n",
    "                f.write(f\"{book['title']},{book['author']},{book['price']},{book['genre']}\\n\")\n",
    "\n",
    "class Discounter:\n",
    "    def __init__(self, fiction_coeff: float, nonfiction_coeff: float):\n",
    "        self.fiction_coeff = fiction_coeff\n",
    "        self.nonfiction_coeff = nonfiction_coeff\n",
    "    \n",
    "    def get_discounted_price(self, book: Book) -> float:\n",
    "        match book.genre:\n",
    "            case \"fiction\":\n",
    "                return book.price * self.fiction_coeff\n",
    "            case \"non-fiction\":\n",
    "                return book.price * self.nonfiction_coeff\n",
    "            case _:\n",
    "                return book.price\n",
    "\n",
    "\n",
    "class Printer:\n",
    "    def print_book(self, book: Book):\n",
    "        print(f\"{book['title']} by {book['author']} - ${book['price']} ({book['genre']})\")\n",
    "        \n",
    "\n",
    "class BookStore:\n",
    "    def __init__(self, book_storage: BookStorage, discounter: Discounter, printer: Printer):\n",
    "        self.book_storage = book_storage\n",
    "        self.printer = printer\n",
    "        self.discounter = discounter\n",
    "    \n",
    "    def add_book(self, title, author, price, genre):\n",
    "        self.book_storage.add_book(Book(title, author, price, genre))\n",
    "\n",
    "    def get_discounted_price(self, title):\n",
    "        book = self.book_storage.get_by_title(title)\n",
    "        if book is not None:\n",
    "            return self.discounter.get_discounted_price(book)\n",
    "    \n",
    "    def print_books(self):\n",
    "        for book in self.book_storage.enumerate_books():\n",
    "            self.printer.print_book(book)\n",
    "\n",
    "    def save_books_to_file(self):\n",
    "        self.book_storage.save(\"books.txt\")\n"
   ]
  }
 ],
 "metadata": {
  "kernelspec": {
   "display_name": "Python 3",
   "language": "python",
   "name": "python3"
  },
  "language_info": {
   "codemirror_mode": {
    "name": "ipython",
    "version": 3
   },
   "file_extension": ".py",
   "mimetype": "text/x-python",
   "name": "python",
   "nbconvert_exporter": "python",
   "pygments_lexer": "ipython3",
   "version": "3.10.11"
  }
 },
 "nbformat": 4,
 "nbformat_minor": 2
}
