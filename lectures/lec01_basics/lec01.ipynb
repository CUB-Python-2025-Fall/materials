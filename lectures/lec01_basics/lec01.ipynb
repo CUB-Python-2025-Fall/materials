{
 "cells": [
  {
   "cell_type": "markdown",
   "id": "6bb340be",
   "metadata": {
    "slideshow": {
     "slide_type": "slide"
    }
   },
   "source": [
    "### Reminder: launch recording"
   ]
  },
  {
   "cell_type": "markdown",
   "id": "f212a35c",
   "metadata": {
    "slideshow": {
     "slide_type": "subslide"
    }
   },
   "source": [
    "<img src=\"tg.png\" alt=\"Telegram QR Code\" width=\"60%\" />\n"
   ]
  },
  {
   "cell_type": "markdown",
   "id": "4fcb8f2a",
   "metadata": {
    "slideshow": {
     "slide_type": "slide"
    }
   },
   "source": [
    "## Organizational\n",
    "\n",
    "- You can find all the important information in the telegram channels\n",
    "- Don't hesitate to ask questions during the lecture and seminars\n",
    "- Don't skip the initial knowledge test\n",
    "- Course is not all-encompassing; expect to study a lot on your own\n",
    "\n",
    "\n",
    "### Few words about the course\n",
    "\n",
    "The main focus is to teach you not just Python, but programming in general. \\\n",
    "The course is intensive and presumes you have programming experience. \\\n",
    "If you don't... you better drop the course [or be ready to work hard and not to complain].\n",
    "\n",
    "Few rules:\n",
    "* Life is pain\n",
    "* All tests / linter and type checks should pass\n",
    "* It's okay to lose track of the lecture\n",
    "* \"9 out of 10 tests work! do I get some points?\" - recall Rule #1"
   ]
  },
  {
   "cell_type": "markdown",
   "id": "02435e10",
   "metadata": {
    "slideshow": {
     "slide_type": "slide"
    }
   },
   "source": [
    "## Python (~2min)\n",
    "\n",
    "* Dynamic typing\n",
    "* High-level\n",
    "* Wide range of applications (automatization, web, data science, ML/AI, etc.)\n",
    "\n",
    "### Jupyter notebook\n",
    "\n",
    "* Good for interactive learning\n",
    "* Not for writing code"
   ]
  },
  {
   "cell_type": "code",
   "execution_count": null,
   "id": "4d1a1097",
   "metadata": {
    "slideshow": {
     "slide_type": "fragment"
    }
   },
   "outputs": [],
   "source": [
    "\"jupyter will print me\""
   ]
  },
  {
   "cell_type": "code",
   "execution_count": null,
   "id": "6f2f12ab",
   "metadata": {
    "slideshow": {
     "slide_type": "fragment"
    }
   },
   "outputs": [],
   "source": [
    "\"jupyter won't print me\";"
   ]
  },
  {
   "cell_type": "markdown",
   "id": "865f997f",
   "metadata": {},
   "source": [
    "under the hood\n",
    "```python\n",
    "last_non_empty_line = get_last_non_empty_line(code_cell)\n",
    "print(last_non_empty_line)\n",
    "```"
   ]
  },
  {
   "cell_type": "markdown",
   "id": "2d926f82",
   "metadata": {},
   "source": [
    "**Interesting:** Jupyter notebook has special [magic commands](https://medium.com/@marc.bolle/learn-these-15-magic-commands-in-jupyter-notebook-to-save-time-a864ca9b15c7) \\\n",
    "It's highly recommended to check out some tutorial on them. (you can find plenty on YouTube or google)"
   ]
  },
  {
   "cell_type": "markdown",
   "id": "5a0fd2d5",
   "metadata": {
    "slideshow": {
     "slide_type": "slide"
    }
   },
   "source": [
    "## Syntax & Data Types (~7min)"
   ]
  },
  {
   "cell_type": "markdown",
   "id": "462c21ff",
   "metadata": {
    "slideshow": {
     "slide_type": "subslide"
    }
   },
   "source": [
    "`print` is a built-in function that outputs the value of its argument."
   ]
  },
  {
   "cell_type": "code",
   "execution_count": null,
   "id": "1ddd9dd0",
   "metadata": {},
   "outputs": [],
   "source": [
    "print(100)\n",
    "print(\"Hello, world!\")"
   ]
  },
  {
   "cell_type": "code",
   "execution_count": null,
   "id": "1beeea02",
   "metadata": {},
   "outputs": [],
   "source": [
    "# f-string\n",
    "\n",
    "var = \"value\"\n",
    "print(f\"value of var is {var}\")\n",
    "print(f\"nice print: {var=}\")"
   ]
  },
  {
   "cell_type": "markdown",
   "id": "049781dd",
   "metadata": {
    "slideshow": {
     "slide_type": "subslide"
    }
   },
   "source": [
    "### Variables"
   ]
  },
  {
   "cell_type": "markdown",
   "id": "4322c46a",
   "metadata": {},
   "source": [
    "In Python a **name** (variable) is just a reference to an **object**; you can re-bind it to anything:"
   ]
  },
  {
   "cell_type": "code",
   "execution_count": null,
   "id": "bfd5eadb",
   "metadata": {},
   "outputs": [],
   "source": [
    "value = 5        # value → int object 5\n",
    "value = \"five\"   # value now → str object \"five\"\n",
    "print(type(value))   # <class 'str'>"
   ]
  },
  {
   "cell_type": "markdown",
   "id": "e20cefd9",
   "metadata": {},
   "source": [
    "This is called *dynamic typing*."
   ]
  },
  {
   "cell_type": "markdown",
   "id": "2d9b8852",
   "metadata": {},
   "source": [
    "How do we store the value?\n",
    "\n",
    "Idea 1: bind value to a name\n",
    "\n",
    "Problem: what if we want several names to point to the same value?\n",
    "\n",
    "```python\n",
    "var_a = \"value\"\n",
    "var_b = var_a\n",
    "```\n",
    "\n",
    "Idea 2 (solution): bind value to a unique identifier\n",
    "\n",
    "```python\n",
    "var_a = \"value\"\n",
    "var_b = var_a\n",
    "```\n",
    "\n",
    "Now, variable actually stores not the value, but the identifier (reference) to the object (value). \\\n",
    "This way, several names can point to the same object.\n"
   ]
  },
  {
   "cell_type": "code",
   "execution_count": null,
   "id": "1fe0647d",
   "metadata": {},
   "outputs": [],
   "source": [
    "# each object has a unique id\n",
    "value = 5        # value → int object 5\n",
    "print(f\"{value=} {id(value)=}\")\n",
    "\n",
    "value = \"five\"   # value now → str object \"five\"\n",
    "print(f\"{value=} {id(value)=}\")"
   ]
  },
  {
   "cell_type": "code",
   "execution_count": null,
   "id": "8d189e9a",
   "metadata": {},
   "outputs": [],
   "source": [
    "var_a = \"value\"\n",
    "var_b = var_a\n",
    "\n",
    "print(f\"{var_a=} {var_b=}\")\n",
    "print(f\"{id(var_a)=} {id(var_b)=}\")\n",
    "print(f\"{id(var_a) == id(var_b)=}\")"
   ]
  },
  {
   "cell_type": "markdown",
   "id": "a1fe5c0d",
   "metadata": {},
   "source": [
    "Note: what we use above is called f-string. We'll cover it later.\n",
    "\n",
    "```python\n",
    "print(f\"some text {variable} some more text\")\n",
    "```\n",
    "\n",
    "Here, `variable` will be evaluated to its value"
   ]
  },
  {
   "cell_type": "markdown",
   "id": "622a4cc8",
   "metadata": {},
   "source": [
    "### Literals (`int`, `float`, `str`, `bool`, `None`)"
   ]
  },
  {
   "cell_type": "code",
   "execution_count": null,
   "id": "8129a9e1",
   "metadata": {},
   "outputs": [],
   "source": [
    "an_int      = 42            # int\n",
    "a_float     = 3.1415        # float\n",
    "a_string    = \"hello\"       # str\n",
    "a_bool      = True          # bool\n",
    "a_none      = None          # special “no value”"
   ]
  },
  {
   "cell_type": "markdown",
   "id": "bb3172e8",
   "metadata": {},
   "source": [
    "`type()` tells you the class of any object:"
   ]
  },
  {
   "cell_type": "code",
   "execution_count": null,
   "id": "abf982f0",
   "metadata": {},
   "outputs": [],
   "source": [
    "an_int, type(an_int)"
   ]
  },
  {
   "cell_type": "code",
   "execution_count": null,
   "id": "7c3016bb",
   "metadata": {},
   "outputs": [],
   "source": [
    "for literal in (an_int, a_float, a_string, a_bool, a_none):\n",
    "    print(literal, \"→\", type(literal))"
   ]
  },
  {
   "cell_type": "markdown",
   "id": "38d644cd",
   "metadata": {},
   "source": [
    "Dynamic typing means a variable can hold *any* of these at different times—Python checks types during the program execution (runtime), not before we execute the program (compile time)."
   ]
  },
  {
   "cell_type": "markdown",
   "id": "97c854ba",
   "metadata": {},
   "source": [
    "### Operators (+ − * / // % ** …)\n",
    "\n",
    "Arithmetic (numeric) operators work as in math, except:"
   ]
  },
  {
   "cell_type": "markdown",
   "id": "9bf9a224",
   "metadata": {},
   "source": [
    "| Operator | Example   | Result               |\n",
    "| -------- | --------- | -------------------- |\n",
    "| `+`      | `2 + 3`   | `5`                  |\n",
    "| `-`      | `8 - 5`   | `3`                  |\n",
    "| `*`      | `4 * 6`   | `24`                 |\n",
    "| `/`      | `7 / 2`   | `3.5` (float)        |\n",
    "| `//`     | `7 // 2`  | `3` (floor division) |\n",
    "| `%`      | `7 % 2`   | `1`                  |\n",
    "| `**`     | `2 ** 10` | `1024` (power)       |"
   ]
  },
  {
   "cell_type": "code",
   "execution_count": null,
   "id": "a68ebdb0",
   "metadata": {},
   "outputs": [],
   "source": [
    "total = 7          # int\n",
    "count = 2        # int\n",
    "total / count   # 3.5 (implicit int→float conversion)"
   ]
  },
  {
   "cell_type": "markdown",
   "id": "17a3e1d7",
   "metadata": {},
   "source": [
    "| Operator | Example  | Result | Description              |\n",
    "| -------- | -------- | ------ | ------------------------ |\n",
    "| `==`     | `3 == 3` | `True` | Equal to                 |\n",
    "| `!=`     | `3 != 5` | `True` | Not equal to             |\n",
    "| `>`      | `5 > 2`  | `True` | Greater than             |\n",
    "| `<`      | `2 < 5`  | `True` | Less than                |\n",
    "| `>=`     | `5 >= 5` | `True` | Greater than or equal to |\n",
    "| `<=`     | `4 <= 6` | `True` | Less than or equal to    |\n"
   ]
  },
  {
   "cell_type": "code",
   "execution_count": null,
   "id": "5588a578",
   "metadata": {},
   "outputs": [],
   "source": [
    "2 >= 3"
   ]
  },
  {
   "cell_type": "code",
   "execution_count": null,
   "id": "53df07f5",
   "metadata": {},
   "outputs": [],
   "source": [
    "3 < 4 < 5"
   ]
  },
  {
   "cell_type": "markdown",
   "id": "ce060380",
   "metadata": {},
   "source": [
    "| Operator | Example          | Result  | Description                          |\n",
    "| -------- | ---------------- | ------- | ------------------------------------ |\n",
    "| `and`    | `True and False` | `False` | True if both operands are true       |\n",
    "| `or`     | `True or False`  | `True`  | True if at least one operand is true |\n",
    "| `not`    | `not True`       | `False` | Negates the truth value              |"
   ]
  },
  {
   "cell_type": "code",
   "execution_count": null,
   "id": "c62d3eae",
   "metadata": {},
   "outputs": [],
   "source": [
    "true_or_false = True or False\n",
    "print(f\"{true_or_false=}\")\n",
    "\n",
    "true_and_false = True and False\n",
    "print(f\"{true_and_false=}\")\n",
    "\n",
    "not_false = not False\n",
    "print(f\"{not_false=}\")\n",
    "\n",
    "not_true = not True\n",
    "print(f\"{not_true=}\")\n",
    "\n",
    "not_false_and_true = not False and True  # Result is same regardless of grouping\n",
    "print(f\"{not_false_and_true=}\")"
   ]
  },
  {
   "cell_type": "markdown",
   "id": "bfd08619",
   "metadata": {},
   "source": [
    "Note: boolean operators are associative. That means that `a or b or c` is the same as `(a or b) or c` / `a or (b or c)` and `a and b and c` is the same as `(a and b) and c` / `a and (b and c)`."
   ]
  },
  {
   "cell_type": "code",
   "execution_count": null,
   "id": "e0447a18",
   "metadata": {},
   "outputs": [],
   "source": [
    "# problem\n",
    "my_list = [1, 2, 3, 4, 5]\n",
    "idx = 10\n",
    "\n",
    "condition_one = idx < len(my_list)\n",
    "condition_two = my_list[idx] % 2 == 0\n",
    "\n",
    "if condition_one and condition_two:\n",
    "    print(f\"Number at index {idx} is even and equal to {my_list[idx]}\")\n",
    "else:\n",
    "    print(f\"Number at index {idx} is not even or does not exist\")\n"
   ]
  },
  {
   "cell_type": "code",
   "execution_count": null,
   "id": "eca41968",
   "metadata": {},
   "outputs": [],
   "source": [
    "# solution: short-circuiting\n",
    "if idx < len(my_list) and my_list[idx] % 2 == 0:\n",
    "    print(f\"Number at index {idx} is even and equal to {my_list[idx]}\")\n",
    "else:\n",
    "    print(f\"Number at index {idx} is not even or does not exist\")\n"
   ]
  },
  {
   "cell_type": "code",
   "execution_count": null,
   "id": "23a11388",
   "metadata": {},
   "outputs": [],
   "source": [
    "# short-circuiting; we won't evaluate the second operand if the first one is enough to determine the result\n",
    "print(False and NON_EXISTING_VARIABLE)\n",
    "print(True or NON_EXISTING_VARIABLE)"
   ]
  },
  {
   "cell_type": "code",
   "execution_count": null,
   "id": "fad984d2",
   "metadata": {},
   "outputs": [],
   "source": [
    "NON_EXISTING_VARIABLE"
   ]
  },
  {
   "cell_type": "markdown",
   "id": "38e5dff6",
   "metadata": {},
   "source": [
    "Python also lets you *chain comparisons*—the whole expression must stay true left-to-right:"
   ]
  },
  {
   "cell_type": "code",
   "execution_count": null,
   "id": "af291748",
   "metadata": {},
   "outputs": [],
   "source": [
    "a, b, c = 7, 7, 7 # lengths of the sides of a triangle\n",
    "\n",
    "print(\"Is equilateral?\", a == b == c)\n",
    "# Explanation:\n",
    "# (a == b) and (b == c)"
   ]
  },
  {
   "cell_type": "markdown",
   "id": "6ea0282c",
   "metadata": {},
   "source": [
    "### None"
   ]
  },
  {
   "cell_type": "markdown",
   "id": "b4269f7f",
   "metadata": {},
   "source": [
    "`is` operator checks if two variables point to the same object in memory (that is have the same id)\n",
    "\n",
    "Use case: sometimes you want to check that 2 variables are storing the same object, not just equal values.\n",
    "\n",
    "Popular python idiom which utilizes `is` operator is [sentinel value](https://stackoverflow.com/questions/39313943/sentinel-object-and-its-applications) (advanced topic)"
   ]
  },
  {
   "cell_type": "code",
   "execution_count": null,
   "id": "c8f9f666",
   "metadata": {},
   "outputs": [],
   "source": [
    "a = 257\n",
    "b = 257\n",
    "print(f\"{id(a)=}, {id(b)=}\")\n",
    "print(a is b)\n",
    "print(a == b)"
   ]
  },
  {
   "cell_type": "markdown",
   "id": "778582a5",
   "metadata": {},
   "source": [
    "\n",
    "<!-- Fun Fact: If you choose number in range from 0 to 255 (inclusive) and launch the cell above, you'll see something unexpected -->\n",
    "<details>\n",
    "<summary>Fun Fact</summary>\n",
    "\n",
    "If you choose number in range from 0 to 255 (inclusive) and launch the cell above, you'll see something unexpected\n",
    "\n",
    "</details>"
   ]
  },
  {
   "cell_type": "code",
   "execution_count": null,
   "id": "de072df5",
   "metadata": {},
   "outputs": [],
   "source": [
    "x = None\n",
    "print(x)\n",
    "print(x is None) # pythonic\n",
    "print(x == None) # not idiomatic! please, avoid"
   ]
  },
  {
   "cell_type": "markdown",
   "id": "f8cc04be",
   "metadata": {},
   "source": [
    "Note: it's recommended to use `is` operator instead of `==` to check if a variable is `None` \\\n",
    "Why? Ask GPT or google it."
   ]
  },
  {
   "cell_type": "markdown",
   "id": "2b708cfd",
   "metadata": {},
   "source": [
    "### float"
   ]
  },
  {
   "cell_type": "code",
   "execution_count": null,
   "id": "e7765fad",
   "metadata": {},
   "outputs": [],
   "source": [
    "import math"
   ]
  },
  {
   "cell_type": "code",
   "execution_count": null,
   "id": "0ab20148",
   "metadata": {},
   "outputs": [],
   "source": [
    "print(0.1 + 0.2 == 0.3)          # False: rounding error from binary representation\n",
    "print(math.isclose(0.1 + 0.2, 0.3))  # True: use `isclose` for approximate equality\n"
   ]
  },
  {
   "cell_type": "code",
   "execution_count": null,
   "id": "cf8ef24c",
   "metadata": {},
   "outputs": [],
   "source": [
    "# special values\n",
    "inf = float('inf')\n",
    "minus_inf = float('-inf')\n",
    "nan = float('nan')  # not a number\n",
    "\n",
    "print(inf)\n",
    "print(minus_inf)\n",
    "print(nan)\n",
    "\n",
    "print(inf > 1000)\n",
    "print(minus_inf < -1000)\n",
    "print(nan == nan)  # False: nan is not equal to anything, including itself\n",
    "print(nan is nan)  # True: it's still the same object"
   ]
  },
  {
   "cell_type": "code",
   "execution_count": null,
   "id": "59568ff7",
   "metadata": {},
   "outputs": [],
   "source": [
    "exp_notation = 1.23e-4  # 1.23 * 10^-4\n",
    "print(exp_notation)\n",
    "print(1.23e-4 == 0.000123)\n",
    "\n",
    "exp_notation = 3.12e5  # 3.12 * 10^5\n",
    "print(exp_notation)\n",
    "print(3.12e5 == 312000 == 3.12 * 10**5)"
   ]
  },
  {
   "cell_type": "code",
   "execution_count": null,
   "id": "885342b9",
   "metadata": {},
   "outputs": [],
   "source": [
    "x = 10 ** 25\n",
    "print(int(float(x)))\n",
    "x = x / 3 # now, x is float\n",
    "x = x * 3\n",
    "print(int(x))"
   ]
  },
  {
   "cell_type": "markdown",
   "id": "0714202e",
   "metadata": {},
   "source": [
    "<details>\n",
    "<summary>About float and precision</summary>\n",
    "\n",
    "Google about \"float precision\" and \"float representation\" to understand why we can't represent all numbers in float and have some precision loss.\n",
    "\n",
    "</details>"
   ]
  },
  {
   "cell_type": "markdown",
   "id": "b13f1cc1",
   "metadata": {},
   "source": [
    "### Type conversion (implicit & explicit)"
   ]
  },
  {
   "cell_type": "markdown",
   "id": "96306a6f",
   "metadata": {},
   "source": [
    "#### Implicit (happens automatically)"
   ]
  },
  {
   "cell_type": "code",
   "execution_count": null,
   "id": "f61c5a11",
   "metadata": {},
   "outputs": [],
   "source": [
    "# What the result is?\n",
    "True + 1"
   ]
  },
  {
   "cell_type": "code",
   "execution_count": null,
   "id": "bd535373",
   "metadata": {},
   "outputs": [],
   "source": [
    "# note: int -> float\n",
    "# for geeks: float is structural subtype of int\n",
    "1 + 1.0"
   ]
  },
  {
   "cell_type": "code",
   "execution_count": null,
   "id": "3bb42409",
   "metadata": {},
   "outputs": [],
   "source": [
    "True + 1.0"
   ]
  },
  {
   "cell_type": "code",
   "execution_count": null,
   "id": "61e149a7",
   "metadata": {},
   "outputs": [],
   "source": [
    "# no support for equality check between string and int types => any equality defaults to False\n",
    "# In the face of ambiguity, refuse the temptation to guess. (Zen of Python)\n",
    "\"1\" == 1, \\\n",
    "\"1\" == 1.0, \\\n",
    "\"1\" == True"
   ]
  },
  {
   "cell_type": "code",
   "execution_count": null,
   "id": "44ca3b11",
   "metadata": {},
   "outputs": [],
   "source": [
    "True == 1, \\\n",
    "1.0 == 1"
   ]
  },
  {
   "cell_type": "code",
   "execution_count": null,
   "id": "0506905e",
   "metadata": {},
   "outputs": [],
   "source": [
    "int(True), \\\n",
    "float(True)"
   ]
  },
  {
   "cell_type": "markdown",
   "id": "1120569c",
   "metadata": {},
   "source": [
    "#### Explicit (you call a constructor)"
   ]
  },
  {
   "cell_type": "code",
   "execution_count": null,
   "id": "f73171e8",
   "metadata": {},
   "outputs": [],
   "source": [
    "print(int(\"123\"))      # 123\n",
    "print(float(\"3.14\"))   # 3.14\n",
    "print(str(42))         # \"42\"\n",
    "print(bool([]))        # False  – empty containers are falsy"
   ]
  },
  {
   "cell_type": "code",
   "execution_count": null,
   "id": "c4f423a9",
   "metadata": {},
   "outputs": [],
   "source": [
    "int(\"1\") == 1, \"1\" == str(1)"
   ]
  },
  {
   "cell_type": "code",
   "execution_count": null,
   "id": "bb25d323",
   "metadata": {},
   "outputs": [],
   "source": [
    "print(bool(\"False\"))   # Great Expectations?"
   ]
  },
  {
   "cell_type": "code",
   "execution_count": null,
   "id": "a3778e38",
   "metadata": {},
   "outputs": [],
   "source": [
    "int(\"3.14\")  # Oops..."
   ]
  },
  {
   "cell_type": "markdown",
   "id": "811032e5",
   "metadata": {},
   "source": [
    "### Built-In Data Structures (~12min)"
   ]
  },
  {
   "cell_type": "markdown",
   "id": "e8904835",
   "metadata": {},
   "source": [
    "Python ships with four everyday containers: `dict`, `list`, `set`, and `tuple`."
   ]
  },
  {
   "cell_type": "markdown",
   "id": "08bc3819",
   "metadata": {},
   "source": [
    "### Dict"
   ]
  },
  {
   "cell_type": "code",
   "execution_count": null,
   "id": "0834d7ef",
   "metadata": {},
   "outputs": [],
   "source": [
    "# dict\n",
    "birthdays = {'Alice': 123, 'Bob': '1999-12-31'}\n",
    "birthdays['Sam'] = '1972-01-01'\n",
    "birthdays['Sam']"
   ]
  },
  {
   "cell_type": "code",
   "execution_count": null,
   "id": "b2a8ddcb",
   "metadata": {},
   "outputs": [],
   "source": [
    "birthdays"
   ]
  },
  {
   "cell_type": "code",
   "execution_count": null,
   "id": "97732c5b",
   "metadata": {},
   "outputs": [],
   "source": [
    "birthdays.get(100) is None, birthdays.get(100, \"unknown\"), birthdays.get(\"Sam\", \"unknown\")"
   ]
  },
  {
   "cell_type": "code",
   "execution_count": null,
   "id": "0579051a",
   "metadata": {},
   "outputs": [],
   "source": [
    "del birthdays['Bob']\n",
    "birthdays"
   ]
  },
  {
   "cell_type": "code",
   "execution_count": null,
   "id": "05651cdd",
   "metadata": {},
   "outputs": [],
   "source": [
    "'Alice' in birthdays"
   ]
  },
  {
   "cell_type": "markdown",
   "id": "d113a23f",
   "metadata": {},
   "source": [
    "### List"
   ]
  },
  {
   "cell_type": "code",
   "execution_count": null,
   "id": "d19c80fa",
   "metadata": {},
   "outputs": [],
   "source": [
    "math_names = ['sin', 'cos', 'rot', 'div']\n",
    "type(math_names)"
   ]
  },
  {
   "cell_type": "code",
   "execution_count": null,
   "id": "ddaeba95",
   "metadata": {},
   "outputs": [],
   "source": [
    "len(math_names)"
   ]
  },
  {
   "cell_type": "code",
   "execution_count": null,
   "id": "4d91d160",
   "metadata": {},
   "outputs": [],
   "source": [
    "'cos' in math_names, 'sos' in math_names"
   ]
  },
  {
   "cell_type": "code",
   "execution_count": null,
   "id": "ab7e4d99",
   "metadata": {},
   "outputs": [],
   "source": [
    "math_names[0], math_names[1], math_names[-1]"
   ]
  },
  {
   "cell_type": "code",
   "execution_count": null,
   "id": "6be39f15",
   "metadata": {},
   "outputs": [],
   "source": [
    "math_names[1:3]"
   ]
  },
  {
   "cell_type": "code",
   "execution_count": null,
   "id": "897bd2ab",
   "metadata": {},
   "outputs": [],
   "source": [
    "math_names[::-1]"
   ]
  },
  {
   "cell_type": "code",
   "execution_count": null,
   "id": "fc0e7146",
   "metadata": {},
   "outputs": [],
   "source": [
    "# Q: What the result is?\n",
    "print([1, 2] + [3, 4])\n",
    "print([2, 3] * 4)\n",
    "print([2, 3] + 4)"
   ]
  },
  {
   "cell_type": "code",
   "execution_count": null,
   "id": "8edbf7c5",
   "metadata": {},
   "outputs": [],
   "source": [
    "# guess the result\n",
    "a = [[1], [1], [1]]\n",
    "print(a)\n",
    "\n",
    "a[0][0] = 2\n",
    "print(a)  # [[2], [1], [1]] (?)"
   ]
  },
  {
   "cell_type": "code",
   "execution_count": null,
   "id": "e9eaec8e",
   "metadata": {},
   "outputs": [],
   "source": [
    "a = [[1]]\n",
    "a = a * 3\n",
    "print(a)\n",
    "\n",
    "a[0][0] = 2\n",
    "print(a)  # [[2], [1], [1]] (?)"
   ]
  },
  {
   "cell_type": "code",
   "execution_count": null,
   "id": "0a3b7cbd",
   "metadata": {},
   "outputs": [],
   "source": [
    "# After multiplication, the content of the list is repeated (not copied), so all elements point to the same object\n",
    "id(a[0]) == id(a[1]) == id(a[2]), a[0]"
   ]
  },
  {
   "cell_type": "code",
   "execution_count": null,
   "id": "45ac8f92",
   "metadata": {},
   "outputs": [],
   "source": [
    "books = ['Philosopher\\'s Stone', 'Chamber of Secrets', 'Prisoner of Azkaban']\n",
    "books += ['Goblet of Fire', 'Order of the Phoenix', 'Half-Blood Prince', 'Deathly Hallows']\n",
    "# equivalent: books.extend(['Goblet of Fire', 'Order of the Phoenix', 'Half-Blood Prince', 'Deathly Hallows'])\n",
    "books"
   ]
  },
  {
   "cell_type": "code",
   "execution_count": null,
   "id": "1ee3db60",
   "metadata": {},
   "outputs": [],
   "source": [
    "multiple_types_list = [1, 2, \"3\", True, None]\n",
    "print(multiple_types_list)\n",
    "\n",
    "multiple_types_list.append(1.0)\n",
    "multiple_types_list.append(None)\n",
    "multiple_types_list.append(True)\n",
    "multiple_types_list"
   ]
  },
  {
   "cell_type": "code",
   "execution_count": null,
   "id": "f709c4d1",
   "metadata": {},
   "outputs": [],
   "source": [
    "letters = ['alpha', 'beta', 'gamma']\n",
    "letters.append('delta')\n",
    "\n",
    "letters"
   ]
  },
  {
   "cell_type": "code",
   "execution_count": null,
   "id": "1da091db",
   "metadata": {},
   "outputs": [],
   "source": [
    "letters.pop(), letters  # remove last element and return it"
   ]
  },
  {
   "cell_type": "code",
   "execution_count": null,
   "id": "282fca6d",
   "metadata": {},
   "outputs": [],
   "source": [
    "letters.pop(1), letters  # remove element by index"
   ]
  },
  {
   "cell_type": "markdown",
   "id": "3103918d",
   "metadata": {},
   "source": [
    "### tuple"
   ]
  },
  {
   "cell_type": "code",
   "execution_count": null,
   "id": "f23e9a2e",
   "metadata": {},
   "outputs": [],
   "source": [
    "(1, 2, 3)"
   ]
  },
  {
   "cell_type": "code",
   "execution_count": null,
   "id": "6d7bd011",
   "metadata": {},
   "outputs": [],
   "source": [
    "(True, 100)"
   ]
  },
  {
   "cell_type": "code",
   "execution_count": null,
   "id": "f462ce6e",
   "metadata": {},
   "outputs": [],
   "source": [
    "1 in (1, 2, 3)"
   ]
  },
  {
   "cell_type": "code",
   "execution_count": null,
   "id": "a743cf98",
   "metadata": {},
   "outputs": [],
   "source": [
    "# you can't change tuple (note: that's how it stays immutable)\n",
    "my_tuple = (1, 2, 3)\n",
    "my_tuple[0] = 100"
   ]
  },
  {
   "cell_type": "markdown",
   "id": "9f87a078",
   "metadata": {},
   "source": [
    "### Sets"
   ]
  },
  {
   "cell_type": "code",
   "execution_count": null,
   "id": "ef461876",
   "metadata": {},
   "outputs": [],
   "source": [
    "my_set = {3, 4, 5, 1, 2, 3, 3}\n",
    "my_set.add(6)\n",
    "my_set.add(6)\n",
    "my_set"
   ]
  },
  {
   "cell_type": "markdown",
   "id": "aab97d38",
   "metadata": {},
   "source": [
    "Note: set doesn't preserve order of elements\n"
   ]
  },
  {
   "cell_type": "code",
   "execution_count": null,
   "id": "e0b4a928",
   "metadata": {},
   "outputs": [],
   "source": [
    "# Built-ins that work on *all* sized containers\n",
    "nums = [10, 20, 30, 40, 1]\n",
    "print(f\"{len(nums)=}, {min(nums)=}, {max(nums)=}, {sum(nums)=}, {sorted(nums)=}\")"
   ]
  },
  {
   "cell_type": "markdown",
   "id": "ba81c0d5",
   "metadata": {},
   "source": [
    "### Unpacking & Extended-Unpack"
   ]
  },
  {
   "cell_type": "code",
   "execution_count": null,
   "id": "fcdeedfb",
   "metadata": {},
   "outputs": [],
   "source": [
    "one, two = 1, 2\n",
    "print(one, two)\n",
    "\n",
    "a, b, c = (1, 2, 3)\n",
    "print(a, b, c)\n",
    "\n",
    "head, *body, tail = \"abcdef\"        # asterisk “swallows the rest”\n",
    "print(head, body, tail)             # a ['b','c','d','e'] f\n"
   ]
  },
  {
   "cell_type": "code",
   "execution_count": null,
   "id": "f7dd10b7",
   "metadata": {},
   "outputs": [],
   "source": [
    "# use case: swap\n",
    "a, b = 10, 20\n",
    "temp = a\n",
    "a = b\n",
    "b = temp\n",
    "print(a, b)\n",
    "\n",
    "\n",
    "a, b = 10, 20\n",
    "a, b = b, a  # idiomatic swap (instead of introducing temp variable)\n",
    "print(a, b)\n"
   ]
  },
  {
   "cell_type": "markdown",
   "id": "3bba7dcb",
   "metadata": {},
   "source": [
    "### Specialised collections"
   ]
  },
  {
   "cell_type": "code",
   "execution_count": null,
   "id": "a00508e6",
   "metadata": {},
   "outputs": [],
   "source": [
    "from collections import defaultdict, Counter, namedtuple\n",
    "\n",
    "usual_dict = {}\n",
    "# usual_dict[\"hits\"] += 1  # KeyError: 'hits'\n",
    "usual_dict[\"hits\"] = usual_dict.get(\"hits\", 0) + 1\n",
    "\n",
    "dd   = defaultdict(int)\n",
    "dd[\"hits\"] += 1          # auto-initialises to 0\n",
    "\n",
    "usual_dict, dd"
   ]
  },
  {
   "cell_type": "code",
   "execution_count": null,
   "id": "c2d5586f",
   "metadata": {},
   "outputs": [],
   "source": [
    "\n",
    "cnt  = Counter(\"banana\")\n",
    "top2 = cnt.most_common(2)  # [('a',3), ('n',2)]\n",
    "\n",
    "print(f\"{cnt=}\")\n",
    "print(f\"{top2=}\")"
   ]
  },
  {
   "cell_type": "markdown",
   "id": "813aaa18",
   "metadata": {},
   "source": [
    "## Control Flow (~8min)"
   ]
  },
  {
   "cell_type": "markdown",
   "id": "b51355f6",
   "metadata": {},
   "source": [
    "### if / elif / else"
   ]
  },
  {
   "cell_type": "code",
   "execution_count": null,
   "id": "e10569a2",
   "metadata": {},
   "outputs": [],
   "source": [
    "x = 30\n",
    "if x % 10 == 0:  # colon means that a dedicated block of code follows\n",
    "    \n",
    "    # indentation highlights a block of code. In this case -\n",
    "    # one or more commands that are executed\n",
    "    # when the condition is true.\n",
    "    \n",
    "    # Block highlighting is done only with indentation, i.e.,\n",
    "    # for example, curly braces like in C++ - are not required\n",
    "\n",
    "    print(x, \"Divisible by 10\")\n",
    "elif x % 5 == 0:\n",
    "    print(x, \"Divisible by 5, but not by 10\")\n",
    "else:\n",
    "    print(x, \"Not divisible by 5 or 10\")"
   ]
  },
  {
   "cell_type": "code",
   "execution_count": null,
   "id": "88b031a5",
   "metadata": {},
   "outputs": [],
   "source": [
    "# guess what?\n",
    "value = 21\n",
    "if value > 10:\n",
    "    print(\"value is greater than 10\")\n",
    "elif value > 20:\n",
    "    print(\"value is greater than 20\")\n",
    "else:\n",
    "    print(\"value is less than 10\")"
   ]
  },
  {
   "cell_type": "code",
   "execution_count": null,
   "id": "84f8c73f",
   "metadata": {},
   "outputs": [],
   "source": [
    "# one-liner\n",
    "value = 42\n",
    "if value % 2 == 0:\n",
    "    value_type = \"even\"\n",
    "else:\n",
    "    value_type = \"odd\"\n",
    "\n",
    "print(value_type)\n",
    "\n",
    "\n",
    "# Better!\n",
    "value_type = \"even\" if value % 2 == 0 else \"odd\"\n",
    "print(value_type)"
   ]
  },
  {
   "cell_type": "markdown",
   "id": "43a6a6ee",
   "metadata": {},
   "source": [
    "### For"
   ]
  },
  {
   "cell_type": "code",
   "execution_count": null,
   "id": "86fd6258",
   "metadata": {},
   "outputs": [],
   "source": [
    "# Print numbers from 1 to 10\n",
    "print(1)\n",
    "print(2)\n",
    "print(3)\n",
    "print(4)\n",
    "print(5)\n",
    "print(6)\n",
    "print(7)\n",
    "print(8)\n",
    "print(9)\n",
    "print(10)"
   ]
  },
  {
   "cell_type": "code",
   "execution_count": null,
   "id": "fd7d629b",
   "metadata": {},
   "outputs": [],
   "source": [
    "for num in [1, 2, 3, 4, 5, 6, 7, 8, 9, 10]:\n",
    "    print(num)"
   ]
  },
  {
   "cell_type": "code",
   "execution_count": null,
   "id": "87671d7d",
   "metadata": {},
   "outputs": [],
   "source": [
    "for num in range(1, 11):\n",
    "    print(num)"
   ]
  },
  {
   "cell_type": "code",
   "execution_count": null,
   "id": "e5b1a701",
   "metadata": {},
   "outputs": [],
   "source": [
    "print(range(4, 14, 3))\n",
    "print(list(range(4, 14, 3)))"
   ]
  },
  {
   "cell_type": "code",
   "execution_count": null,
   "id": "0bab5fe7",
   "metadata": {},
   "outputs": [],
   "source": [
    "print(\"`for` for strings\")\n",
    "for letter in \"ABCDE\":\n",
    "    print(\"Letter\", letter)\n",
    "\n",
    "print(\"`for` for tuples\")\n",
    "for obj in (int, 10.1, True, None):\n",
    "    print(obj)\n",
    "\n",
    "print(\"`for` for dicts (prints keys)\")\n",
    "for k in {\"a\": 1, \"b\": 2}:\n",
    "    print(k)\n",
    "\n",
    "print(\"`for` for dicts (prints keys and values)\")\n",
    "for k, v in {\"a\": 1, \"b\": 2}.items():\n",
    "    print(k, v)"
   ]
  },
  {
   "cell_type": "code",
   "execution_count": null,
   "id": "bc5c7eb9",
   "metadata": {},
   "outputs": [],
   "source": [
    "my_list = list(reversed(range(5))) # [4, 3, 2, 1, 0]\n",
    "# beginner\n",
    "for idx in range(len(my_list)):\n",
    "    print(f\"idx: {idx}, value: {my_list[idx]}\")\n",
    "\n",
    "print(\"-\" * 10)\n",
    "\n",
    "# better\n",
    "for idx, value in enumerate(my_list):\n",
    "    print(f\"idx: {idx}, value: {value}\")"
   ]
  },
  {
   "cell_type": "code",
   "execution_count": null,
   "id": "61f0c810",
   "metadata": {},
   "outputs": [],
   "source": [
    "nums = [2, 3, 5, 7]\n",
    "for i, n in enumerate(nums):        # index + item\n",
    "    if n == 5:\n",
    "        continue                    # skip this round\n",
    "    elif n == 10:\n",
    "        break\n",
    "    print(i, n)\n",
    "else:\n",
    "    print(\"finished without break\")\n",
    "\n"
   ]
  },
  {
   "cell_type": "markdown",
   "id": "94a1891f",
   "metadata": {},
   "source": [
    "### while"
   ]
  },
  {
   "cell_type": "code",
   "execution_count": null,
   "id": "5f169d74",
   "metadata": {},
   "outputs": [],
   "source": [
    "nums = [2, 3, 5, 7]\n",
    "while nums:\n",
    "    n = nums.pop()\n",
    "    if n == 3: break\n",
    "    print(n)\n",
    "else:\n",
    "    print(\"finished without break\")\n",
    "\n",
    "print(nums)"
   ]
  },
  {
   "cell_type": "markdown",
   "id": "1f1d66ff",
   "metadata": {},
   "source": [
    "### Comprehensions"
   ]
  },
  {
   "cell_type": "markdown",
   "id": "56852778",
   "metadata": {},
   "source": [
    "Notation:\n",
    "`[value for value in container if condition]`\n",
    "\n",
    "Return: container of values that satisfy the condition"
   ]
  },
  {
   "cell_type": "code",
   "execution_count": null,
   "id": "5391e2fa",
   "metadata": {},
   "outputs": [],
   "source": [
    "squares      = [x*x for x in range(5)]               # list-comp\n",
    "odd_squares  = {x: x*x for x in range(7) if x % 2 == 1}     # dict-comp\n",
    "evens        = {x for x in range(10) if not x % 2}     # set-comp (note: please don't write such impllicit `if`)\n",
    "print(\"squares:\", squares)\n",
    "print(\"odd_squares:\", odd_squares)\n",
    "print(\"evens:\", evens)"
   ]
  },
  {
   "cell_type": "code",
   "execution_count": null,
   "id": "e4b67b0e",
   "metadata": {},
   "outputs": [],
   "source": [
    "# nested!\n",
    "list_of_lists = [[1, 2, 3], [4, 5, 6], [7, 8, 9], [10, 11]]\n",
    "flat_list = [item for sublist in list_of_lists if len(sublist) > 2 for item in sublist]\n",
    "print(flat_list)"
   ]
  },
  {
   "cell_type": "markdown",
   "id": "daa9318c",
   "metadata": {},
   "source": [
    "## Functions (~10min)"
   ]
  },
  {
   "cell_type": "code",
   "execution_count": null,
   "id": "2e95a495",
   "metadata": {},
   "outputs": [],
   "source": [
    "# Task: print \"Welcome to <city>!\" for certain cities\n",
    "print(\"Welcome to Moscow!\")\n",
    "print(\"Welcome to Samara!\")\n",
    "print(\"Welcome to Novosibirsk!\")"
   ]
  },
  {
   "cell_type": "code",
   "execution_count": null,
   "id": "9a6c2147",
   "metadata": {},
   "outputs": [],
   "source": [
    "# Better: loop\n",
    "for city in ['Moscow', 'Samara', 'Novosibirsk']:\n",
    "    print(\"Welcome to \", city, '!', sep='')"
   ]
  },
  {
   "cell_type": "code",
   "execution_count": null,
   "id": "6efc60c5",
   "metadata": {},
   "outputs": [],
   "source": [
    "# Better: function + loop\n",
    "def print_welcome(city):\n",
    "    print(\"Welcome to \", city, '!', sep='')\n",
    "\n",
    "cities = ['Moscow', 'Samara', 'Novosibirsk']\n",
    "for city in cities:\n",
    "    print_welcome(city)"
   ]
  },
  {
   "cell_type": "markdown",
   "id": "201149df",
   "metadata": {},
   "source": [
    "### Definitions & Return"
   ]
  },
  {
   "cell_type": "code",
   "execution_count": null,
   "id": "e7f6dc42",
   "metadata": {},
   "outputs": [],
   "source": [
    "def greet(name: str) -> None:      # scope ends at dedent\n",
    "    print(f\"Hi, {name}\")\n",
    "\n",
    "def meaning_of_life() -> int:              # always returns something\n",
    "    return 42\n",
    "\n",
    "def empty_or_not_yet_implemented() -> None:\n",
    "    pass\n",
    "\n",
    "print(meaning_of_life())\n",
    "print(empty_or_not_yet_implemented())"
   ]
  },
  {
   "cell_type": "markdown",
   "id": "fafc93d9",
   "metadata": {},
   "source": [
    "### Arguments"
   ]
  },
  {
   "cell_type": "markdown",
   "id": "0a75af54",
   "metadata": {},
   "source": [
    "\n",
    "$$\n",
    "\\text{Relative difference} = \\frac{x - y}{\\frac{x + y}{2}}\n",
    "$$\n"
   ]
  },
  {
   "cell_type": "code",
   "execution_count": null,
   "id": "d5f133f6",
   "metadata": {},
   "outputs": [],
   "source": [
    "def relative_difference(x, y):\n",
    "    delta = x - y\n",
    "    mean = (x + y) / 2\n",
    "    return delta / mean\n",
    "\n",
    "print(f\"{relative_difference(3, 5)=}\")\n",
    "print(f\"{relative_difference(x=3, y=5)=}\")\n",
    "print(f\"{relative_difference(y=5, x=3)=}\")  # order doesn't matter\n",
    "print(f\"{relative_difference(3, y=5)=}\")"
   ]
  },
  {
   "cell_type": "code",
   "execution_count": null,
   "id": "f9b78168",
   "metadata": {},
   "outputs": [],
   "source": [
    "def func_with_more_args(a, b, c):\n",
    "    return a + b + c\n",
    "\n",
    "func_with_more_args(b=1, 2, 3)"
   ]
  },
  {
   "cell_type": "code",
   "execution_count": null,
   "id": "2a70c78f",
   "metadata": {},
   "outputs": [],
   "source": [
    "relative_difference(5, -5)"
   ]
  },
  {
   "cell_type": "code",
   "execution_count": null,
   "id": "0e3cf9ba",
   "metadata": {},
   "outputs": [],
   "source": [
    "# How to fix?\n",
    "def relative_difference(x, y):\n",
    "    delta = x - y\n",
    "    mean = (x + y) / 2\n",
    "    return abs(delta / mean)\n"
   ]
  },
  {
   "cell_type": "code",
   "execution_count": null,
   "id": "02f69898",
   "metadata": {},
   "outputs": [],
   "source": [
    "def safe_relative_difference_long(x, y):\n",
    "    delta = x - y\n",
    "    mean = (x + y) / 2\n",
    "    if mean == 0.0:\n",
    "        res = None\n",
    "    else:\n",
    "        res = abs(delta / mean)\n",
    "    return res"
   ]
  },
  {
   "cell_type": "code",
   "execution_count": null,
   "id": "2708ddf9",
   "metadata": {},
   "outputs": [],
   "source": [
    "def safe_relative_difference(x, y):\n",
    "    delta = x - y\n",
    "    mean = (x + y) / 2\n",
    "    if mean == 0.0:\n",
    "        return None  # If condition is met function execution ends here\n",
    "    return abs(delta / mean)"
   ]
  },
  {
   "cell_type": "code",
   "execution_count": null,
   "id": "8589c9e9",
   "metadata": {},
   "outputs": [],
   "source": [
    "print(safe_relative_difference(5, -5))"
   ]
  },
  {
   "cell_type": "code",
   "execution_count": null,
   "id": "24398c68",
   "metadata": {},
   "outputs": [],
   "source": [
    "def relative_difference(x: float, y: float, verbose: bool = False) -> float | None:\n",
    "    delta = x - y\n",
    "    if verbose:\n",
    "        print(f'Delta: {delta}')\n",
    "    mean = (x + y) / 2\n",
    "    if verbose:\n",
    "        print(f'Mean: {mean}')\n",
    "    if mean == 0.0:\n",
    "        if verbose:\n",
    "            print('Mean is equal to zero!')\n",
    "        return None\n",
    "    return abs(delta / mean)\n",
    "\n",
    "\n",
    "print(f\"{relative_difference(3, 5)=}\")\n",
    "print(\"now verbose\")\n",
    "print(f\"{relative_difference(3, 5, verbose=True)=}\")\n",
    "print(\"default arguments can be explicitly passed\")\n",
    "print(f\"{relative_difference(3, 5, verbose=False)=}\")"
   ]
  },
  {
   "cell_type": "markdown",
   "id": "ad943cca",
   "metadata": {},
   "source": [
    "### Arbitrary amount of arguments"
   ]
  },
  {
   "cell_type": "markdown",
   "id": "d06e7eb4",
   "metadata": {},
   "source": [
    "$$\n",
    "\\text{Root mean square} = \\sqrt{\\frac{1}{N} \\sum_{i=1}^{N} x_i^2}\n",
    "$$\n"
   ]
  },
  {
   "cell_type": "code",
   "execution_count": null,
   "id": "ceac7f25",
   "metadata": {},
   "outputs": [],
   "source": [
    "def root_mean_square(args: list[float]) -> float:\n",
    "    if not args:\n",
    "        return 0.0\n",
    "\n",
    "    squares_sum = sum(x ** 2 for x in args)\n",
    "    mean = squares_sum / len(args)\n",
    "    return mean ** 0.5\n",
    "\n",
    "print(f\"{root_mean_square([1, 2, 3, 4, 5])=}\")"
   ]
  },
  {
   "cell_type": "code",
   "execution_count": null,
   "id": "5fd2c2b9",
   "metadata": {},
   "outputs": [],
   "source": [
    "# note: *args type is a type of one element of a tuple (args)\n",
    "def root_mean_square(*args: float) -> float:\n",
    "    if not args:\n",
    "        return 0.0\n",
    "    \n",
    "    squares_sum = sum(x ** 2 for x in args)\n",
    "\n",
    "    mean = squares_sum / len(args)\n",
    "    return mean ** 0.5\n",
    "\n",
    "print(f\"{root_mean_square(1, 2, 3, 4, 5)=}\")"
   ]
  },
  {
   "cell_type": "code",
   "execution_count": null,
   "id": "6bc1b706",
   "metadata": {},
   "outputs": [],
   "source": [
    "def show_args(*args: float) -> None:\n",
    "    print(args, type(args))\n",
    "\n",
    "show_args(1, 2, 3, 4, 5)"
   ]
  },
  {
   "cell_type": "markdown",
   "id": "0b1174fe",
   "metadata": {},
   "source": [
    "### *kwargs"
   ]
  },
  {
   "cell_type": "code",
   "execution_count": null,
   "id": "e6b64857",
   "metadata": {},
   "outputs": [],
   "source": [
    "def root_mean_square(*args, **kwargs):\n",
    "    verbose = kwargs.get('verbose', False)\n",
    "    \n",
    "    if not len(args):\n",
    "        if verbose:\n",
    "            print('Empty arguments list!')\n",
    "        return 0.0\n",
    "\n",
    "    squares_sum = sum(x ** 2 for x in args)\n",
    "    if verbose:\n",
    "        print(f'Sum of squares: {squares_sum}')\n",
    "\n",
    "    mean = squares_sum / len(args)\n",
    "    if verbose:\n",
    "        print(f'Mean square: {mean}')\n",
    "\n",
    "    return mean ** 0.5\n",
    "\n",
    "print(f\"{root_mean_square(1, 2, 3, 4, 5)=}\")\n",
    "print(f\"{root_mean_square(1, 2, 3, 4, 5, verbose=True)=}\")"
   ]
  },
  {
   "cell_type": "markdown",
   "id": "e001b5a4",
   "metadata": {},
   "source": [
    "**What is motivation behind kwargs and args?**\n",
    "\n",
    "Common use case: decorators, passing additional arguments to third party functions, etc. \\\n",
    "Want to know more? Google it or ask GPT"
   ]
  },
  {
   "cell_type": "markdown",
   "id": "f8d6f9d5",
   "metadata": {},
   "source": [
    "### Unpacking arguments"
   ]
  },
  {
   "cell_type": "code",
   "execution_count": null,
   "id": "43d0b517",
   "metadata": {},
   "outputs": [],
   "source": [
    "def my_func(age, name):\n",
    "    print(f\"Hello, {name}! You are {age} years old.\")\n",
    "\n",
    "my_func(20, \"John\")\n",
    "my_func(name=\"John\", age=20)\n",
    "\n",
    "args = (20, \"John\")\n",
    "my_func(*args)\n",
    "\n",
    "kwargs = {\"name\": \"John\", \"age\": 20}\n",
    "my_func(**kwargs)\n",
    "\n",
    "args = (20,)\n",
    "kwargs = {\"name\": \"John\"}\n",
    "my_func(*args, **kwargs)"
   ]
  },
  {
   "cell_type": "markdown",
   "id": "c7ec230e",
   "metadata": {},
   "source": [
    "## Strings (~6min)"
   ]
  },
  {
   "cell_type": "code",
   "execution_count": null,
   "id": "24c2f3b8",
   "metadata": {},
   "outputs": [],
   "source": [
    "# string is a sequence of characters\n",
    "# string is immutable\n",
    "simple_string = \"Hello, world!\"\n",
    "print(simple_string)"
   ]
  },
  {
   "cell_type": "code",
   "execution_count": null,
   "id": "ffe15a8c",
   "metadata": {},
   "outputs": [],
   "source": [
    "\"it doesn't matter \" + 'what quotes to use'"
   ]
  },
  {
   "cell_type": "code",
   "execution_count": null,
   "id": "994f9939",
   "metadata": {},
   "outputs": [],
   "source": [
    "multi_line_string = \"\"\"\n",
    "This is a multi-line string.\n",
    "It can span multiple lines.\n",
    "\"\"\"\n",
    "\n",
    "multi_line_string_2 = \"This is a multi-line string.\\nIt can span multiple lines.\"\n",
    "\n",
    "print(multi_line_string)\n",
    "print(multi_line_string_2)\n",
    "# Q: Are these two strings the same?"
   ]
  },
  {
   "cell_type": "code",
   "execution_count": null,
   "id": "2a1eddcc",
   "metadata": {},
   "outputs": [],
   "source": [
    "long_string = \"\"\"\\\n",
    "This is a long string. It's not always the best idea to write such long strings as one-liner. You can break it into several pieces and concatenate them.\\\n",
    "\"\"\"\n",
    "\n",
    "long_string_2 = \"This is a long string. \" \\\n",
    "    \"It's not always the best idea to write such long strings as one-liner. \" \\\n",
    "    \"You can break it into several pieces and concatenate them.\"\n",
    "\n",
    "long_string_3 = (\"This is a long string. \"\n",
    "    \"It's not always the best idea to write such long strings as one-liner. \"\n",
    "    \"You can break it into several pieces and concatenate them.\")\n",
    "\n",
    "long_string_4 = \"\"\"\\\n",
    "This is a long string. \\\n",
    "It's not always the best idea to write such long strings as one-liner. \\\n",
    "You can break it into several pieces and concatenate them.\n",
    "\"\"\"\n",
    "\n",
    "print(long_string)\n",
    "print(long_string_2)\n",
    "print(long_string_3)\n",
    "print(long_string_4)"
   ]
  },
  {
   "cell_type": "markdown",
   "id": "c9f2da6b",
   "metadata": {},
   "source": [
    "### Escaping & Special characters"
   ]
  },
  {
   "cell_type": "code",
   "execution_count": null,
   "id": "b83f9be8",
   "metadata": {},
   "outputs": [],
   "source": [
    "print(\"line one\\nline two\\tmore text\")"
   ]
  },
  {
   "cell_type": "code",
   "execution_count": null,
   "id": "9a34f82d",
   "metadata": {},
   "outputs": [],
   "source": [
    "path_errorous  = \"C:\\new\\notes.txt\"\n",
    "path_raw = r\"C:\\new\\notes.txt\"\n",
    "path_escaped = \"C:\\\\new\\\\notes.txt\"\n",
    "\n",
    "print(path_errorous)  # oops\n",
    "\n",
    "print('-' * 10)\n",
    "print(path_raw)\n",
    "print('-' * 10)\n",
    "print(path_escaped)\n",
    "print('-' * 10)"
   ]
  },
  {
   "cell_type": "code",
   "execution_count": null,
   "id": "23bcd970",
   "metadata": {},
   "outputs": [],
   "source": [
    "'I ain\\'t therefore I don\\'t think'"
   ]
  },
  {
   "cell_type": "markdown",
   "id": "e05c0a98",
   "metadata": {},
   "source": [
    "Most popular special characters:\n",
    "- \\n - new line\n",
    "- \\t - tab\n",
    "- \\r - carriage return (windows's \\r\\n)"
   ]
  },
  {
   "cell_type": "markdown",
   "id": "22c6f29c",
   "metadata": {},
   "source": [
    "### Basic string methods\n",
    "\n",
    "[full list in docs](https://docs.python.org/3/library/stdtypes.html#string-methods)"
   ]
  },
  {
   "cell_type": "code",
   "execution_count": null,
   "id": "61453102",
   "metadata": {},
   "outputs": [],
   "source": [
    "# case methods\n",
    "print(\"hello world\".upper())\n",
    "print(\"hello world\".lower())\n",
    "print(\"hello world\".capitalize())\n",
    "print(\"hello world\".title())\n",
    "print(\"hello world\".swapcase())"
   ]
  },
  {
   "cell_type": "code",
   "execution_count": null,
   "id": "72a0208a",
   "metadata": {},
   "outputs": [],
   "source": [
    "first = 'The Government'"
   ]
  },
  {
   "cell_type": "code",
   "execution_count": null,
   "id": "22b8e225",
   "metadata": {},
   "outputs": [],
   "source": [
    "print(list(first))"
   ]
  },
  {
   "cell_type": "code",
   "execution_count": null,
   "id": "cde69c42",
   "metadata": {},
   "outputs": [],
   "source": [
    "print(type(first))\n",
    "print(type(first[0]))"
   ]
  },
  {
   "cell_type": "code",
   "execution_count": null,
   "id": "82d4125b",
   "metadata": {},
   "outputs": [],
   "source": [
    "for ch in 'string':\n",
    "    print(ch, end=' ')\n"
   ]
  },
  {
   "cell_type": "code",
   "execution_count": null,
   "id": "06354b77",
   "metadata": {},
   "outputs": [],
   "source": [
    "bool('nonempty'), bool(''), bool('   ')"
   ]
  },
  {
   "cell_type": "code",
   "execution_count": null,
   "id": "ea4252a7",
   "metadata": {},
   "outputs": [],
   "source": [
    "'hi' in 'hi there', 'my' in 'hi there'"
   ]
  },
  {
   "cell_type": "markdown",
   "id": "3513f8b2",
   "metadata": {},
   "source": [
    "Comparison"
   ]
  },
  {
   "cell_type": "code",
   "execution_count": null,
   "id": "7ed6aeca",
   "metadata": {},
   "outputs": [],
   "source": [
    "'azzzz' < 'b', ord('a'), ord('b')"
   ]
  },
  {
   "cell_type": "code",
   "execution_count": null,
   "id": "fbfbb220",
   "metadata": {},
   "outputs": [],
   "source": [
    "'ab' > 'a'"
   ]
  },
  {
   "cell_type": "code",
   "execution_count": null,
   "id": "b3ebacc3",
   "metadata": {},
   "outputs": [],
   "source": [
    "'test' < 'Hi', ord('t'), ord('H')"
   ]
  },
  {
   "cell_type": "markdown",
   "id": "123641c8",
   "metadata": {},
   "source": [
    "Search methods"
   ]
  },
  {
   "cell_type": "code",
   "execution_count": null,
   "id": "6661735d",
   "metadata": {},
   "outputs": [],
   "source": [
    "secret = 'Hunted by the authorities, we work in secret.'\n",
    "print(secret.count('e')) "
   ]
  },
  {
   "cell_type": "code",
   "execution_count": null,
   "id": "b7bd0ec4",
   "metadata": {},
   "outputs": [],
   "source": [
    "print(secret.index('authorities'))  ## or .find .rfind .rindex"
   ]
  },
  {
   "cell_type": "code",
   "execution_count": null,
   "id": "719c8d7f",
   "metadata": {},
   "outputs": [],
   "source": [
    "secret.index('god')"
   ]
  },
  {
   "cell_type": "code",
   "execution_count": null,
   "id": "2452ec58",
   "metadata": {},
   "outputs": [],
   "source": [
    "secret.find('god')"
   ]
  },
  {
   "cell_type": "markdown",
   "id": "4fa3165b",
   "metadata": {},
   "source": [
    "Predicate methods"
   ]
  },
  {
   "cell_type": "code",
   "execution_count": null,
   "id": "c76a59ca",
   "metadata": {},
   "outputs": [],
   "source": [
    "\"You'll never find us\".endswith(\"find us\")  # also: .startswith"
   ]
  },
  {
   "cell_type": "code",
   "execution_count": null,
   "id": "ea8549ff",
   "metadata": {},
   "outputs": [],
   "source": [
    "\"16E45\".isalnum(), \"16\".isdigit(), \"q\".isalpha()"
   ]
  },
  {
   "cell_type": "code",
   "execution_count": null,
   "id": "10c7d4f6",
   "metadata": {},
   "outputs": [],
   "source": [
    "\"test\".islower(), \"Test Me\".istitle()"
   ]
  },
  {
   "cell_type": "markdown",
   "id": "f22f8ba7",
   "metadata": {},
   "source": [
    "Split & join"
   ]
  },
  {
   "cell_type": "code",
   "execution_count": null,
   "id": "0967b638",
   "metadata": {},
   "outputs": [],
   "source": [
    "header = 'ID\\tNAME\\tSURNAME\\tCITY\\tREGION\\tAGE\\tWEALTH\\tREGISTERED'"
   ]
  },
  {
   "cell_type": "code",
   "execution_count": null,
   "id": "55f29fe5",
   "metadata": {},
   "outputs": [],
   "source": [
    "print(header.split())"
   ]
  },
  {
   "cell_type": "code",
   "execution_count": null,
   "id": "39dc5694",
   "metadata": {},
   "outputs": [],
   "source": [
    "print('\\n'.join(s.lower() for s in header.split()))"
   ]
  },
  {
   "cell_type": "markdown",
   "id": "47d363e9",
   "metadata": {},
   "source": [
    "replace"
   ]
  },
  {
   "cell_type": "code",
   "execution_count": null,
   "id": "e15ca5d9",
   "metadata": {},
   "outputs": [],
   "source": [
    "text = \"Here is how replacement works\"\n",
    "text.replace('re', 'Ooops')"
   ]
  },
  {
   "cell_type": "markdown",
   "id": "52c06cea",
   "metadata": {},
   "source": [
    "Alignment"
   ]
  },
  {
   "cell_type": "code",
   "execution_count": null,
   "id": "bd8cfa6a",
   "metadata": {},
   "outputs": [],
   "source": [
    "print('on my left'.ljust(40, '.'))\n",
    "print('on my right'.rjust(40, '.'))\n",
    "print('in the center'.center(40, '.'))\n"
   ]
  },
  {
   "cell_type": "markdown",
   "id": "84520bbc",
   "metadata": {},
   "source": [
    "Formatting"
   ]
  },
  {
   "cell_type": "markdown",
   "id": "dac647f1",
   "metadata": {},
   "source": [
    "https://docs.python.org/3/library/string.html#format-specification-mini-language"
   ]
  },
  {
   "cell_type": "code",
   "execution_count": null,
   "id": "3767cc34",
   "metadata": {},
   "outputs": [],
   "source": [
    "\"{1}! My name is {0}!\".format(\"John\", \"Hi\")  # old fashioned"
   ]
  },
  {
   "cell_type": "code",
   "execution_count": null,
   "id": "c77cd1d8",
   "metadata": {},
   "outputs": [],
   "source": [
    "name='John'\n",
    "surname='Reese'\n",
    "\n",
    "f'{name} {surname}'  # f-string (much better)"
   ]
  },
  {
   "cell_type": "code",
   "execution_count": null,
   "id": "160be2f5",
   "metadata": {},
   "outputs": [],
   "source": [
    "for value in [0.6, 1.0001, 22.7]:\n",
    "    print(f'value is {value:-6.2f}')\n",
    "    print(f'value is {value:06.2f}')"
   ]
  },
  {
   "cell_type": "markdown",
   "id": "1206b642",
   "metadata": {},
   "source": [
    "## Mutability (~9min)\n",
    "\n",
    "### What is mutability?  \n",
    "An object is **mutable** if its *contents* can change in-place, and **immutable** if any “change” actually creates a **new** object.\n",
    "\n",
    "| Immutable (cannot change) | Mutable (can change)  |\n",
    "| ------------------------- | --------------------- |\n",
    "| `int`, `float`, `bool`    | `list`, `dict`, `set` |\n",
    "| `str`, `tuple`, `bytes`   | most custom classes           |\n",
    "| `NoneType`   |    |\n",
    "\n",
    "*(Use `id(obj)` to see an object’s identity in memory.)*\n",
    "\n",
    "### Behavior & intuition  "
   ]
  },
  {
   "cell_type": "code",
   "execution_count": null,
   "id": "a310e0a6",
   "metadata": {},
   "outputs": [],
   "source": [
    "# Immutable example: str\n",
    "name = \"Ada\"\n",
    "print(id(name))\n",
    "name += \" Lovelace\"     # concatenation makes a *new* string\n",
    "print(id(name))         # different id → new object"
   ]
  },
  {
   "cell_type": "code",
   "execution_count": null,
   "id": "615ec978",
   "metadata": {},
   "outputs": [],
   "source": [
    "# Mutable example: list\n",
    "numbers = [1, 2, 3]\n",
    "print(id(numbers))\n",
    "numbers.append(4)       # in-place mutation\n",
    "print(id(numbers))      # same id → same object, but it's content is changed"
   ]
  },
  {
   "cell_type": "code",
   "execution_count": null,
   "id": "3a495dc4",
   "metadata": {},
   "outputs": [],
   "source": [
    "# Mutable example: list\n",
    "numbers = [1, 2, 3]\n",
    "print(id(numbers))\n",
    "copy_numbers = numbers\n",
    "copy_numbers.append(4)\n",
    "print(id(numbers))\n",
    "print(id(copy_numbers))\n",
    "\n",
    "print(numbers)\n",
    "print(copy_numbers)"
   ]
  },
  {
   "cell_type": "markdown",
   "id": "b7399b44",
   "metadata": {},
   "source": [
    "**Mnemonic:**\n",
    "\n",
    "* “Im-mutable” → *im-possible to mutate* (every 'change' actually creates a new object).\n",
    "* “Mutable” → *mutable* like *malleable* (change happens in-place)."
   ]
  },
  {
   "cell_type": "markdown",
   "id": "6ef2b7ce",
   "metadata": {},
   "source": [
    "### Motivation"
   ]
  },
  {
   "cell_type": "markdown",
   "id": "f1acd917",
   "metadata": {},
   "source": [
    "<details>\n",
    "<summary>Formal Motivation</summary>\n",
    "\n",
    "| Need mutability ➜ “edit-in-place” | Need immutability ➜ “share-safely” |\n",
    "| --------------------------------- | ---------------------------------- |\n",
    "| **Performance / memory** – updating a large list in-place avoids copying the whole thing. | **Hashability** – only immutable objects can be stable `dict` keys / `set` members. |\n",
    "| **Algorithms** – many in-place ops (`list.sort`, graph traversals, caches) are O(1) extra space. | **Safety & correctness** – value can’t “change under your feet,” so shared references are harmless. |\n",
    "| **Interactivity** – building a UI model, accumulating results, buffering I/O. | **Identity-free equality** – two `7`s or `\"foo\"`s are interchangeable; easy to reason about. |\n",
    "| **Flexibility** – you can mutate, slice, or replace parts without reallocating the container. | **Thread/concurrency friendliness** – no locks needed when data can’t change. |\n",
    "\n",
    "</details>"
   ]
  },
  {
   "cell_type": "code",
   "execution_count": null,
   "id": "da3111bd",
   "metadata": {},
   "outputs": [],
   "source": [
    "# MUTABLE advantage: in-place update is cheap\n",
    "big = [0] * 1_000_000\n",
    "big[0] = 99                # O(1) – no copy"
   ]
  },
  {
   "cell_type": "code",
   "execution_count": null,
   "id": "ab01dfd9",
   "metadata": {},
   "outputs": [],
   "source": [
    "# IMMUTABLE advantage: safe dictionary key\n",
    "point = (3, 4)             # tuple is immutable\n",
    "dist_cache = {point: 5.0}  # fine ✓\n",
    "point = (5, 6)\n",
    "dist_cache  # if key would change, our invariant would break"
   ]
  },
  {
   "cell_type": "markdown",
   "id": "51c1f9ee",
   "metadata": {},
   "source": [
    "### Caveats"
   ]
  },
  {
   "cell_type": "code",
   "execution_count": null,
   "id": "388b84c5",
   "metadata": {},
   "outputs": [],
   "source": [
    "# MUTABLE pitfall: shared state surprise\n",
    "a = [1, 2]\n",
    "b = a\n",
    "b.append(3)\n",
    "print(a)   # [1, 2, 3]  ← changed via alias!"
   ]
  },
  {
   "cell_type": "code",
   "execution_count": null,
   "id": "c831c2a8",
   "metadata": {},
   "outputs": [],
   "source": [
    "# MUTABLE pitfall: shared state surprise\n",
    "def foo(bad_default_value=[]):\n",
    "    bad_default_value.append(1)\n",
    "    return bad_default_value\n",
    "\n",
    "print(foo())\n",
    "print(foo())"
   ]
  },
  {
   "cell_type": "code",
   "execution_count": null,
   "id": "241d83cd",
   "metadata": {},
   "outputs": [],
   "source": [
    "# MUTABLE pitfall: shared state surprise\n",
    "def foo(good_default_value=None):\n",
    "    good_default_value = good_default_value or []  # note: google how this syntax work; in short: if value is None return default_value else return value\n",
    "    good_default_value.append(1)\n",
    "    return good_default_value\n",
    "\n",
    "print(foo())\n",
    "print(foo())"
   ]
  },
  {
   "cell_type": "code",
   "execution_count": null,
   "id": "ff9da004",
   "metadata": {},
   "outputs": [],
   "source": [
    "# IMMUTABLE pitfall: building strings naïvely\n",
    "words = [\"Hello\", \"world\", \"from\", \"Python\"]\n",
    "s = \"\"\n",
    "for word in words:         # 📉 O(n²) copies, where n is final len(s)\n",
    "    s += word\n",
    "    s += \" \"\n",
    "print(s)\n",
    "# Better: collect in list (mutable) then join once\n",
    "s = \" \".join(words)\n",
    "print(s)"
   ]
  },
  {
   "cell_type": "markdown",
   "id": "455b5919",
   "metadata": {},
   "source": [
    "### Shallow vs Deep Copy"
   ]
  },
  {
   "cell_type": "code",
   "execution_count": null,
   "id": "a9636a8b",
   "metadata": {},
   "outputs": [],
   "source": [
    "from copy import deepcopy, copy\n",
    "\n",
    "initial_list = [1, [1, 2], {\"a\": 1}]\n",
    "\n",
    "alias_list = initial_list\n",
    "shallow_copy_list = copy(initial_list)\n",
    "deep_copy_list = deepcopy(initial_list)\n",
    "\n",
    "initial_list[0] = 100\n",
    "initial_list[1][0] = 100\n",
    "initial_list[2][\"a\"] = 100\n",
    "\n",
    "print(initial_list)\n",
    "print(alias_list)\n",
    "print(shallow_copy_list)\n",
    "print(deep_copy_list)\n"
   ]
  },
  {
   "cell_type": "code",
   "execution_count": null,
   "id": "b19c78bd",
   "metadata": {},
   "outputs": [],
   "source": [
    "print(f\"{initial_list is alias_list=}\")\n",
    "print(f\"{initial_list is shallow_copy_list=}\")\n",
    "print(f\"{initial_list is deep_copy_list=}\")\n",
    "\n",
    "print(f\"{initial_list[1] is alias_list[1]=}\")\n",
    "print(f\"{initial_list[1] is shallow_copy_list[1]=}\")\n",
    "print(f\"{initial_list[1] is deep_copy_list[1]=}\")"
   ]
  },
  {
   "cell_type": "markdown",
   "id": "ec1db908",
   "metadata": {},
   "source": [
    "Hint: if unsure which copy to use, use `deepcopy`"
   ]
  },
  {
   "cell_type": "markdown",
   "id": "b4f7da6e",
   "metadata": {},
   "source": [
    "## Classes & Objects (~3min)\n",
    "\n",
    "Note: we'll cover this topic in more detail later."
   ]
  },
  {
   "cell_type": "code",
   "execution_count": null,
   "id": "e15c6a8e",
   "metadata": {},
   "outputs": [],
   "source": [
    "class BankAccount:\n",
    "    interest = 0.05               # class attribute\n",
    "    def __init__(self, owner, balance=0):\n",
    "        self.owner = owner        # instance attribute\n",
    "        self.balance = balance\n",
    "    def deposit(self, amount):\n",
    "        self.balance += amount\n",
    "    def __repr__(self):\n",
    "        return f\"{self.owner}: {self.balance}\"\n",
    "\n",
    "acct = BankAccount(\"Alice\", 100)\n",
    "acct.deposit(50)\n",
    "print(acct)"
   ]
  },
  {
   "cell_type": "markdown",
   "id": "477ff5dd",
   "metadata": {},
   "source": [
    "## Modules (~3min)"
   ]
  },
  {
   "cell_type": "code",
   "execution_count": null,
   "id": "7e3d2b13",
   "metadata": {},
   "outputs": [],
   "source": [
    "import math                        # std-lib\n",
    "from pathlib import Path           # sub-package\n",
    "print(math.sqrt(49))\n"
   ]
  },
  {
   "cell_type": "code",
   "execution_count": null,
   "id": "c8cba6e3",
   "metadata": {},
   "outputs": [],
   "source": [
    "%%writefile tmp.py\n",
    "def useful_function(x):\n",
    "    return x + 1"
   ]
  },
  {
   "cell_type": "code",
   "execution_count": null,
   "id": "cd7d8083",
   "metadata": {},
   "outputs": [],
   "source": [
    "from tmp import useful_function\n",
    "\n",
    "print(useful_function(1))"
   ]
  },
  {
   "cell_type": "code",
   "execution_count": null,
   "id": "5ce287d0",
   "metadata": {},
   "outputs": [],
   "source": [
    "import this                        # Zen of Python – Easter egg\n",
    "# from importlib import reload\n",
    "\n",
    "# reload(this)"
   ]
  },
  {
   "cell_type": "markdown",
   "id": "57d9cb02",
   "metadata": {},
   "source": [
    "## Bonus (~5min)"
   ]
  },
  {
   "cell_type": "markdown",
   "id": "5be9a965",
   "metadata": {},
   "source": [
    "walrus operator"
   ]
  },
  {
   "cell_type": "code",
   "execution_count": null,
   "id": "28a136a7",
   "metadata": {},
   "outputs": [],
   "source": [
    "import time\n",
    "\n",
    "def get_heavy_object():\n",
    "    print(\"Fetching heavy object…\")      # visualize how many times we call it\n",
    "    time.sleep(1)                        # pretend it's expensive\n",
    "    return {\"ready\": True, \"payload\": \"heavy object\"}\n",
    "    "
   ]
  },
  {
   "cell_type": "code",
   "execution_count": null,
   "id": "78414fb6",
   "metadata": {},
   "outputs": [],
   "source": [
    "# Q: what's the problem here?\n",
    "if get_heavy_object()[\"ready\"]:\n",
    "    print(\"Using:\", get_heavy_object()[\"payload\"])\n"
   ]
  },
  {
   "cell_type": "code",
   "execution_count": null,
   "id": "a905d9e7",
   "metadata": {},
   "outputs": [],
   "source": [
    "# Better\n",
    "obj = get_heavy_object()\n",
    "if obj[\"ready\"]:\n",
    "    print(\"Using:\", obj[\"payload\"])\n"
   ]
  },
  {
   "cell_type": "code",
   "execution_count": null,
   "id": "051f2976",
   "metadata": {},
   "outputs": [],
   "source": [
    "# Even better\n",
    "if (obj := get_heavy_object())[\"ready\"]:\n",
    "    print(\"Using:\", obj[\"payload\"])"
   ]
  },
  {
   "cell_type": "markdown",
   "id": "6c029ea9",
   "metadata": {},
   "source": [
    "assert"
   ]
  },
  {
   "cell_type": "code",
   "execution_count": null,
   "id": "d1e4fa26",
   "metadata": {},
   "outputs": [],
   "source": [
    "def dummy_function(a) -> str:\n",
    "    return \"hello\"\n",
    "\n",
    "def test_dummy_function(value) -> None:\n",
    "    assert dummy_function(value) == value, \"Function doesn't return the same value as passed\""
   ]
  },
  {
   "cell_type": "code",
   "execution_count": null,
   "id": "34d3a1dd",
   "metadata": {},
   "outputs": [],
   "source": [
    "test_dummy_function(\"hello\")\n",
    "test_dummy_function(\"hi\")"
   ]
  }
 ],
 "metadata": {
  "kernelspec": {
   "display_name": ".venv",
   "language": "python",
   "name": "python3"
  },
  "language_info": {
   "codemirror_mode": {
    "name": "ipython",
    "version": 3
   },
   "file_extension": ".py",
   "mimetype": "text/x-python",
   "name": "python",
   "nbconvert_exporter": "python",
   "pygments_lexer": "ipython3",
   "version": "3.12.10"
  }
 },
 "nbformat": 4,
 "nbformat_minor": 5
}
