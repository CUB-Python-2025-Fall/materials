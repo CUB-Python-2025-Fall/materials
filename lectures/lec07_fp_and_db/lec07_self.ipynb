{
 "cells": [
  {
   "cell_type": "markdown",
   "id": "42e19374",
   "metadata": {},
   "source": [
    "# Functional Programming"
   ]
  },
  {
   "cell_type": "markdown",
   "id": "2ed5f93b",
   "metadata": {},
   "source": [
    "### [itertools](https://docs.python.org/3/library/itertools.html) & [more](https://more-itertools.readthedocs.io/en/stable/)"
   ]
  },
  {
   "cell_type": "markdown",
   "id": "057941cb",
   "metadata": {},
   "source": [
    "### [itertools.chain](https://docs.python.org/3/library/itertools.html#itertools.chain)"
   ]
  },
  {
   "cell_type": "code",
   "execution_count": null,
   "id": "d19d7f00",
   "metadata": {},
   "outputs": [],
   "source": [
    "from itertools import chain"
   ]
  },
  {
   "cell_type": "code",
   "execution_count": null,
   "id": "1eb071df",
   "metadata": {},
   "outputs": [
    {
     "name": "stdout",
     "output_type": "stream",
     "text": [
      "0 1 2 3 4 10 20 s a m p l e [0] [1] [2] [3] [4] "
     ]
    }
   ],
   "source": [
    "for elem in chain(range(5), [10, 20], 'sample', [[i] for i in range(5)]):\n",
    "    print(elem, end=' ')"
   ]
  },
  {
   "cell_type": "code",
   "execution_count": null,
   "id": "d5f7b701",
   "metadata": {},
   "outputs": [],
   "source": [
    "from typing import Any\n",
    "\n",
    "def repeat(times: int, obj: Any) -> list[Any]:\n",
    "    return [obj] * times"
   ]
  },
  {
   "cell_type": "code",
   "execution_count": null,
   "id": "e21aae43",
   "metadata": {},
   "outputs": [
    {
     "data": {
      "text/plain": [
       "[[1, 2, 3], [1, 2, 3], [1, 2, 3], [1, 2, 3], [1, 2, 3]]"
      ]
     },
     "metadata": {},
     "output_type": "display_data"
    }
   ],
   "source": [
    "list(repeat(5, [1, 2, 3]))"
   ]
  },
  {
   "cell_type": "code",
   "execution_count": null,
   "id": "96ee7aea",
   "metadata": {},
   "outputs": [
    {
     "data": {
      "text/plain": [
       "[1, 2, 3, 1, 2, 3, 1, 2, 3, 1, 2, 3, 1, 2, 3]"
      ]
     },
     "metadata": {},
     "output_type": "display_data"
    }
   ],
   "source": [
    "list(chain.from_iterable(repeat(5, [1, 2, 3])))"
   ]
  },
  {
   "cell_type": "markdown",
   "id": "5d507fa2",
   "metadata": {},
   "source": [
    "### [itertools.tee](https://docs.python.org/3/library/itertools.html#itertools.tee)"
   ]
  },
  {
   "cell_type": "code",
   "execution_count": null,
   "id": "e8dee118",
   "metadata": {},
   "outputs": [],
   "source": [
    "from itertools import tee"
   ]
  },
  {
   "cell_type": "markdown",
   "id": "79627e8b",
   "metadata": {},
   "source": [
    "![tee](http://4.bp.blogspot.com/-u_KYBwIUyF4/UUR5cvbv6PI/AAAAAAAAAXs/hPJT0ZR5iBc/s1600/tee_diagram.png)"
   ]
  },
  {
   "cell_type": "code",
   "execution_count": null,
   "id": "445c8646",
   "metadata": {},
   "outputs": [],
   "source": [
    "iterator1, iterator2 = tee(range(3), 2)"
   ]
  },
  {
   "cell_type": "code",
   "execution_count": null,
   "id": "2d9e3e14",
   "metadata": {},
   "outputs": [
    {
     "name": "stdout",
     "output_type": "stream",
     "text": [
      "0 1 2 0 1 2 "
     ]
    }
   ],
   "source": [
    "for elem in iterator1:\n",
    "    print(elem, end=' ')\n",
    "\n",
    "for elem in iterator2:\n",
    "    print(elem, end=' ')"
   ]
  },
  {
   "cell_type": "markdown",
   "id": "7b7e7952",
   "metadata": {},
   "source": [
    "### [itertools.groupby](https://docs.python.org/3/library/itertools.html#itertools.groupby)"
   ]
  },
  {
   "cell_type": "code",
   "execution_count": null,
   "id": "e03dbc75",
   "metadata": {},
   "outputs": [],
   "source": [
    "from itertools import groupby"
   ]
  },
  {
   "cell_type": "code",
   "execution_count": null,
   "id": "561a5cec",
   "metadata": {},
   "outputs": [
    {
     "name": "stdout",
     "output_type": "stream",
     "text": [
      "A ['A', 'A']\n",
      "B ['B', 'B']\n",
      "C ['C', 'C']\n",
      "D ['D']\n",
      "A ['A', 'A']\n",
      "B ['B']\n"
     ]
    }
   ],
   "source": [
    "for key, group in groupby('AABBCCDAAB'): \n",
    "    print(key, list(group))"
   ]
  },
  {
   "cell_type": "code",
   "execution_count": null,
   "id": "23713476",
   "metadata": {},
   "outputs": [
    {
     "data": {
      "text/plain": [
       "['cab', 'abc', 'face', 'cafe', 'goo']"
      ]
     },
     "metadata": {},
     "output_type": "display_data"
    }
   ],
   "source": [
    "words = ['cab', 'face', 'cafe', 'abc', 'goo']\n",
    "words = sorted(words, key=sorted)\n",
    "words"
   ]
  },
  {
   "cell_type": "code",
   "execution_count": null,
   "id": "432b2a24",
   "metadata": {},
   "outputs": [
    {
     "name": "stdout",
     "output_type": "stream",
     "text": [
      "a,b,c ['cab', 'abc']\n",
      "a,c,e,f ['face', 'cafe']\n",
      "g,o,o ['goo']\n"
     ]
    }
   ],
   "source": [
    "for key, group in groupby(words, key=sorted): \n",
    "    print(','.join(key), list(group))"
   ]
  },
  {
   "cell_type": "markdown",
   "id": "59896a40",
   "metadata": {},
   "source": [
    "# DB"
   ]
  },
  {
   "cell_type": "markdown",
   "id": "a84a66b1",
   "metadata": {},
   "source": [
    "### SQL Cheat Sheet"
   ]
  },
  {
   "cell_type": "code",
   "execution_count": null,
   "id": "c8ad7ff1",
   "metadata": {},
   "outputs": [],
   "source": [
    "from db_runner import DB\n",
    "\n",
    "# setup\n",
    "db = DB()\n",
    "files_to_run = [\n",
    "    \"sql/01_create_tables.sql\",\n",
    "    \"sql/02_seed.sql\",\n",
    "    \"sql/05_update_delete.sql\"\n",
    "]\n",
    "[db.run_file(f) for f in files_to_run]"
   ]
  },
  {
   "cell_type": "markdown",
   "id": "6a027467",
   "metadata": {},
   "source": [
    "#### 7) Transactions (commit/rollback)\n",
    "Demonstrate all-or-nothing writes and verify with a quick count.\n",
    "- **SQL file:** [sql/06_transaction.sql](sql/06_transaction.sql)  \n",
    "- **Python:**\n"
   ]
  },
  {
   "cell_type": "code",
   "execution_count": null,
   "id": "0b1adedc",
   "metadata": {},
   "outputs": [
    {
     "name": "stdout",
     "output_type": "stream",
     "text": [
      "[(2,)]\n"
     ]
    }
   ],
   "source": [
    "print(db.query_file(\"sql/06_transaction.sql\"))\n"
   ]
  },
  {
   "cell_type": "markdown",
   "id": "851f86b7",
   "metadata": {},
   "source": [
    "#### 8) Index for a common query\n",
    "Create a composite index; inspect the plan for a filtered, ordered read.\n",
    "- **SQL file:** [sql/07_index.sql](sql/07_index.sql)  \n",
    "- **Python:**\n"
   ]
  },
  {
   "cell_type": "code",
   "execution_count": null,
   "id": "f015b5af",
   "metadata": {},
   "outputs": [
    {
     "name": "stdout",
     "output_type": "stream",
     "text": [
      "(4, 0, 63, 'SEARCH orders USING INDEX idx_orders_customer_created (customer_id=?)')\n"
     ]
    }
   ],
   "source": [
    "for row in db.query_file(\"sql/07_index.sql\"):\n",
    "    print(row)\n"
   ]
  },
  {
   "cell_type": "markdown",
   "id": "5d205840",
   "metadata": {},
   "source": [
    "#### 9) Upsert with ON CONFLICT\n",
    "Insert if new; otherwise no-op or update by unique key.\n",
    "- **SQL file:** [sql/08_upsert.sql](sql/08_upsert.sql)  \n",
    "- **Python:**\n"
   ]
  },
  {
   "cell_type": "code",
   "execution_count": null,
   "id": "d9e2e5a7",
   "metadata": {},
   "outputs": [],
   "source": [
    "db.run_file(\"sql/08_upsert.sql\")\n"
   ]
  },
  {
   "cell_type": "markdown",
   "id": "1b6348fb",
   "metadata": {},
   "source": [
    "Source: [**SQL Tutorial**](https://www.sqlitetutorial.net/) + [**SQL & Python Tutorial**](https://www.sqlitetutorial.net/)"
   ]
  },
  {
   "cell_type": "markdown",
   "id": "f9148733",
   "metadata": {},
   "source": []
  }
 ],
 "metadata": {
  "language_info": {
   "name": "python"
  }
 },
 "nbformat": 4,
 "nbformat_minor": 5
}
