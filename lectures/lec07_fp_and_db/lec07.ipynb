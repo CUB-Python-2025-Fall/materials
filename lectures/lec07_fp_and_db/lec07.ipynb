{
 "cells": [
  {
   "cell_type": "markdown",
   "id": "281202d9",
   "metadata": {},
   "source": [
    "# Functional Programming\n",
    "~25min\n",
    "\n",
    "### Intro\n",
    "\n",
    "* By FP, I mean the functional code-writing style rather than the functional programming paradigm\n",
    "    * Difference: paradigm is about the way you structure your code, style is about the way you write concrete things\n",
    "    * Note: FP as paradigm deserves a separate course\n",
    "\n",
    "Important: differentiating between functional and imperative style is not important; what matters is to know the tools at your disposal \\\n",
    "my task today is to show you the alternative way of writing the same code\n",
    "\n"
   ]
  },
  {
   "cell_type": "markdown",
   "id": "c381c8cf",
   "metadata": {},
   "source": [
    "imperative style:\n",
    "\n",
    "```python\n",
    "for i in range(10):\n",
    "    print(i)\n",
    "```\n",
    "\n",
    "functional style:\n",
    "\n",
    "```python\n",
    "map(print, range(10)) # to evaluate the expression, use `list`\n",
    "```\n"
   ]
  },
  {
   "cell_type": "markdown",
   "id": "37cb73c8",
   "metadata": {},
   "source": [
    "imperative style:\n",
    "\n",
    "```python\n",
    "def sum_squared(a, b):\n",
    "    sum_ = a + b\n",
    "    squared = sum_ ** 2\n",
    "    return squared\n",
    "```\n",
    "\n",
    "functional style:\n",
    "\n",
    "```python\n",
    "def sum_squared(a, b):\n",
    "    return (a + b) ** 2\n",
    "```\n"
   ]
  },
  {
   "cell_type": "markdown",
   "id": "829b3d36",
   "metadata": {},
   "source": [
    "In Python, functions are first-class citizens:\n",
    "\n",
    "* can be passed as arguments to other functions\n",
    "* can be returned from other functions\n",
    "* can be stored in data structures"
   ]
  },
  {
   "cell_type": "code",
   "execution_count": null,
   "id": "5b6b5685",
   "metadata": {},
   "outputs": [],
   "source": [
    "def square(x):\n",
    "    return x * x\n",
    "\n",
    "# Assign to variable\n",
    "f = square\n",
    "print(f(4))  # 16\n"
   ]
  },
  {
   "cell_type": "markdown",
   "id": "375dec6e",
   "metadata": {},
   "source": [
    "A **higher-order function** is a function that takes other functions as arguments or returns a function as its result. \\\n",
    "In simple words, a function working with functions."
   ]
  },
  {
   "cell_type": "code",
   "execution_count": null,
   "id": "a0178f7f",
   "metadata": {},
   "outputs": [],
   "source": [
    "\n",
    "# Pass as argument\n",
    "def apply_twice(func, val):\n",
    "    return func(func(val))\n",
    "\n",
    "print(apply_twice(square, 2))  # 16\n"
   ]
  },
  {
   "cell_type": "code",
   "execution_count": null,
   "id": "70c7e0ca",
   "metadata": {},
   "outputs": [],
   "source": [
    "\n",
    "# Return a function\n",
    "def make_multiplier(n):\n",
    "    return lambda x: x * n\n",
    "\n",
    "double = make_multiplier(2)\n",
    "print(double(5))  # 10"
   ]
  },
  {
   "cell_type": "markdown",
   "id": "95f9f6b1",
   "metadata": {},
   "source": [
    "Key features of FP:\n",
    "\n",
    "* Higher-order functions (functions are passed as arguments, returned from other functions, and composed)\n",
    "* Pure functions (no side effects, no hidden state)\n",
    "    * Side effect: any change to the state of the program (e.g. changing a variable, printing to the console, etc.)\n",
    "    * Hidden state: any change to the state of the program that is not immediately visible\n",
    "* Immutability (passed data is never changed)"
   ]
  },
  {
   "cell_type": "code",
   "execution_count": null,
   "id": "1dda8111",
   "metadata": {},
   "outputs": [],
   "source": [
    "map(print, range(10))\n"
   ]
  },
  {
   "cell_type": "markdown",
   "id": "ad24477a",
   "metadata": {},
   "source": [
    "### `lambda`\n",
    "\n",
    "Lambdas are one-use functions"
   ]
  },
  {
   "cell_type": "code",
   "execution_count": null,
   "id": "d913d016",
   "metadata": {},
   "outputs": [],
   "source": [
    "def string_len(string):\n",
    "    return len(string)\n",
    "\n",
    "data = ['when', 'the', 'sun', 'shines']\n",
    "sorted(data, key=string_len)"
   ]
  },
  {
   "cell_type": "code",
   "execution_count": null,
   "id": "41fd2681",
   "metadata": {},
   "outputs": [],
   "source": [
    "sorted(data, key=lambda string: len(string))"
   ]
  },
  {
   "cell_type": "code",
   "execution_count": null,
   "id": "a6c3a2b0",
   "metadata": {},
   "outputs": [],
   "source": [
    "# even better\n",
    "sorted(data, key=len)"
   ]
  },
  {
   "cell_type": "markdown",
   "id": "66f1610b",
   "metadata": {},
   "source": [
    "### Recursion\n",
    "\n",
    "Recursion is a function calling itself until a base case; good for naturally nested data/structures."
   ]
  },
  {
   "cell_type": "code",
   "execution_count": null,
   "id": "e5e34ec5",
   "metadata": {},
   "outputs": [],
   "source": [
    "# idiomatic example: factorial\n",
    "def factorial(n):\n",
    "    if n == 0:\n",
    "        return 1\n",
    "    return n * factorial(n - 1)\n",
    "\n",
    "factorial(5)"
   ]
  },
  {
   "cell_type": "markdown",
   "id": "99b80f95",
   "metadata": {},
   "source": [
    "More practical example: dictionary traversal \\\n",
    "Problem: we want to check that specific key-value pair exists in the dictionary"
   ]
  },
  {
   "cell_type": "code",
   "execution_count": null,
   "id": "12582a62",
   "metadata": {},
   "outputs": [],
   "source": [
    "config = {\n",
    "    \"user\": {\n",
    "        \"name\": \"Ada\",\n",
    "        \"profile\": {\n",
    "            \"contacts\": [\n",
    "                {\"type\": \"email\", \"value\": \"ada@lovelace.ai\"},\n",
    "                {\"type\": \"phone\", \"value\": \"123-456\"}\n",
    "            ]\n",
    "        }\n",
    "    }\n",
    "}"
   ]
  },
  {
   "cell_type": "code",
   "execution_count": null,
   "id": "1816ca8b",
   "metadata": {},
   "outputs": [],
   "source": [
    "def find_pair(config, key, value):\n",
    "    if isinstance(config, dict):\n",
    "        if key in config and config[key] == value:  # bug? can we compare any 2 objects?\n",
    "            return True\n",
    "        for k, v in config.items():\n",
    "            if isinstance(v, (dict, list)):\n",
    "                if find_pair(v, key, value):\n",
    "                    return True\n",
    "    elif isinstance(config, list):\n",
    "        for item in config:\n",
    "            if isinstance(item, (dict, list)):\n",
    "                if find_pair(item, key, value):\n",
    "                    return True\n",
    "    return False\n",
    "\n",
    "find_pair(config, \"name\", \"Ada\"), find_pair(config, \"type\", \"email\")"
   ]
  },
  {
   "cell_type": "markdown",
   "id": "32f24c7d",
   "metadata": {},
   "source": [
    "Tip: Python’s recursion depth is limited; for deep structures use iterative approaches or `sys.setrecursionlimit`."
   ]
  },
  {
   "cell_type": "markdown",
   "id": "2c9b2a8d",
   "metadata": {},
   "source": [
    "### `map`\n",
    "\n",
    "`map(f, iterable)` transforms each element of `iterable` using `f` and returns an iterator."
   ]
  },
  {
   "cell_type": "code",
   "execution_count": null,
   "id": "46b2e6f1",
   "metadata": {},
   "outputs": [],
   "source": [
    "words = [\"the\", \"quick\", \"brown\", \"fox\"]\n",
    "upper = []\n",
    "for w in words:\n",
    "    upper.append(w.upper())\n",
    "upper"
   ]
  },
  {
   "cell_type": "code",
   "execution_count": null,
   "id": "83fef2ac",
   "metadata": {},
   "outputs": [],
   "source": [
    "words = [\"the\", \"quick\", \"brown\", \"fox\"]\n",
    "list(map(str.upper, words))  # wrap in list to realize the iterator"
   ]
  },
  {
   "cell_type": "code",
   "execution_count": null,
   "id": "a75b6053",
   "metadata": {},
   "outputs": [],
   "source": [
    "# Note: list comprehensions are often more idiomatic\n",
    "[word.upper() for word in words]"
   ]
  },
  {
   "cell_type": "markdown",
   "id": "6d9dc2dd",
   "metadata": {},
   "source": [
    "### `filter`\n",
    "\n",
    "`filter(pred, iterable)` keeps elements where `pred(element)` is `True`; returns an iterator."
   ]
  },
  {
   "cell_type": "code",
   "execution_count": null,
   "id": "cc2c7282",
   "metadata": {},
   "outputs": [],
   "source": [
    "nums = [5, -2, 0, 9, -7]\n",
    "nonneg = []\n",
    "for n in nums:\n",
    "    if n >= 0:\n",
    "        nonneg.append(n)\n",
    "nonneg"
   ]
  },
  {
   "cell_type": "code",
   "execution_count": null,
   "id": "7d437088",
   "metadata": {},
   "outputs": [],
   "source": [
    "nums = [5, -2, 0, 9, -7]\n",
    "list(filter(lambda n: n >= 0, nums))"
   ]
  },
  {
   "cell_type": "markdown",
   "id": "8a89e627",
   "metadata": {},
   "source": [
    "Note: you can use list comprehensions instead of `filter`"
   ]
  },
  {
   "cell_type": "markdown",
   "id": "96763d13",
   "metadata": {},
   "source": [
    "### `reduce`\n",
    "\n",
    "`reduce(func, iterable, init)` folds an iterable into one value by repeatedly combining elements."
   ]
  },
  {
   "cell_type": "code",
   "execution_count": null,
   "id": "bee93d46",
   "metadata": {},
   "outputs": [],
   "source": [
    "nums = [1, 2, 3, 4]\n",
    "prod = 1\n",
    "for n in nums:\n",
    "    prod *= n\n",
    "prod"
   ]
  },
  {
   "cell_type": "code",
   "execution_count": null,
   "id": "5d343a7f",
   "metadata": {},
   "outputs": [],
   "source": [
    "from functools import reduce\n",
    "from operator import mul\n",
    "\n",
    "nums = [1, 2, 3, 4]\n",
    "reduce(mul, nums, 1)"
   ]
  },
  {
   "cell_type": "markdown",
   "id": "7874e262",
   "metadata": {},
   "source": [
    "Reality check: prefer built-ins when they exist (`sum(nums)`, `math.prod(nums)`). Use `reduce` when the combine-step isn’t a standard op."
   ]
  },
  {
   "cell_type": "markdown",
   "id": "c5fbd7ef",
   "metadata": {},
   "source": [
    "optional"
   ]
  },
  {
   "cell_type": "markdown",
   "id": "01c5a040",
   "metadata": {},
   "source": [
    "### `partial`\n",
    "\n",
    "`partial(func, *frozen_args, **frozen_kwargs)` pre-fills some arguments, returning a new function with fewer parameters."
   ]
  },
  {
   "cell_type": "code",
   "execution_count": null,
   "id": "823ebdc9",
   "metadata": {},
   "outputs": [],
   "source": [
    "def to_base2(s):\n",
    "    return int(s, 2)\n",
    "\n",
    "binaries = [\"101\", \"1110\", \"1001\"]\n",
    "list(map(to_base2, binaries))"
   ]
  },
  {
   "cell_type": "code",
   "execution_count": null,
   "id": "f0979bfc",
   "metadata": {},
   "outputs": [],
   "source": [
    "from functools import partial\n",
    "\n",
    "bin_to_int = partial(int, base=2)\n",
    "binaries = [\"101\", \"1110\", \"1001\"]\n",
    "list(map(bin_to_int, binaries))"
   ]
  },
  {
   "cell_type": "markdown",
   "id": "fc2772ce",
   "metadata": {},
   "source": [
    "optional"
   ]
  },
  {
   "cell_type": "markdown",
   "id": "ddf0c8b8",
   "metadata": {},
   "source": [
    "### `all` and `any`\n",
    "\n",
    "`all(iterable)` returns `True` if all elements of `iterable` are true (or if the iterable is empty). \\\n",
    "`any(iterable)` returns `True` if any element of `iterable` is true. If the iterable is empty, returns `False`."
   ]
  },
  {
   "cell_type": "code",
   "execution_count": null,
   "id": "22dd6de7",
   "metadata": {},
   "outputs": [],
   "source": [
    "fields = {\"name\": \"Ada\", \"email\": \"ada@lovelace.ai\", \"age\": 36}\n",
    "ok = True\n",
    "for v in fields.values():\n",
    "    if not v:\n",
    "        ok = False\n",
    "        break\n",
    "ok  # are all fields filled?"
   ]
  },
  {
   "cell_type": "code",
   "execution_count": null,
   "id": "c66d05b6",
   "metadata": {},
   "outputs": [],
   "source": [
    "all(fields.values())"
   ]
  },
  {
   "cell_type": "code",
   "execution_count": null,
   "id": "232d46ce",
   "metadata": {},
   "outputs": [],
   "source": [
    "nums = [0, 0, 3, 0]\n",
    "has_pos = False\n",
    "for n in nums:\n",
    "    if n > 0:\n",
    "        has_pos = True\n",
    "        break\n",
    "has_pos"
   ]
  },
  {
   "cell_type": "code",
   "execution_count": null,
   "id": "048f7c23",
   "metadata": {},
   "outputs": [],
   "source": [
    "nums = [0, 0, 3, 0]\n",
    "any(n > 0 for n in nums)  # True if there exists a positive number"
   ]
  },
  {
   "cell_type": "markdown",
   "id": "32e6e92d",
   "metadata": {},
   "source": [
    "# Databases\n",
    "\n",
    "~45min"
   ]
  },
  {
   "cell_type": "markdown",
   "id": "68e1cb11",
   "metadata": {},
   "source": [
    "### Why databases?\n",
    "\n",
    "**Problem Statement:**\n",
    "\n",
    "Delivery App: we want to store the data about our products, clients, and orders.\n",
    "\n",
    "Functionality we want:\n",
    "* Total price of the order\n",
    "* List of orders for a given client\n"
   ]
  },
  {
   "cell_type": "markdown",
   "id": "d8a66a3b",
   "metadata": {},
   "source": [
    "Take a look at [our data](data.json)"
   ]
  },
  {
   "cell_type": "code",
   "execution_count": null,
   "id": "5d7e0f66",
   "metadata": {},
   "outputs": [],
   "source": [
    "from typing import Any, Dict, List\n",
    "import json\n",
    "\n",
    "class JsonStore:\n",
    "    \"\"\"\n",
    "    Minimal wrapper over our single JSON 'database'.\n",
    "    Required attributes: products, orders.\n",
    "    \"\"\"\n",
    "    def __init__(self, data: Dict[str, Any]) -> None:\n",
    "        self.products: List[Dict[str, Any]] = data.get(\"products\", [])\n",
    "        self.orders: List[Dict[str, Any]] = data.get(\"orders\", [])\n",
    "\n",
    "    def total_cost(self, order_id: int) -> float:\n",
    "        \"\"\"Sum qty * price (using the embedded product price) for a given order.\"\"\"\n",
    "        order = next((o for o in self.orders if o[\"id\"] == order_id), None)  # iterate over ALL orders\n",
    "        if order is None:\n",
    "            raise ValueError(f\"Order {order_id} not found\")\n",
    "        total = 0.0\n",
    "        for item in order[\"items\"]:\n",
    "            price = float(item[\"product\"][\"price\"])\n",
    "            qty = int(item[\"qty\"])\n",
    "            total += price * qty\n",
    "        return round(total, 2)\n",
    "\n",
    "    def orders_by_client(self, client_id: int) -> List[Dict[str, Any]]:\n",
    "        \"\"\"Return all orders that match the given customer_id.\"\"\"\n",
    "        return [o for o in self.orders if o[\"customer_id\"] == client_id]\n",
    "\n",
    "with open(\"data.json\", \"r\") as f:\n",
    "    data = json.load(f)\n",
    "db = JsonStore(data)\n",
    "print(\"Total cost for order 1001:\", db.total_cost(1001))\n",
    "print(\"Orders for customer 1 (Alice):\", [o[\"id\"] for o in db.orders_by_client(1)])\n"
   ]
  },
  {
   "cell_type": "markdown",
   "id": "98a0bb0c",
   "metadata": {},
   "source": [
    "Problems of the solution above:\n",
    "* Data duplication\n",
    "* All data is loaded into memory\n",
    "* Performance is bad for large datasets\n",
    "* We need to take care of data consistency (e.g. no products with the same id)\n",
    "* ...\n",
    "\n",
    "\n",
    "In simple words, it isn't good solution (not scalable, not flexible, etc.)\n",
    "\n",
    "\n",
    "\n",
    "\n",
    "\n"
   ]
  },
  {
   "cell_type": "markdown",
   "id": "501b7ca3",
   "metadata": {},
   "source": [
    "### DB: Intro"
   ]
  },
  {
   "cell_type": "markdown",
   "id": "7997a9b3",
   "metadata": {},
   "source": [
    "* **Database**: An organized collection of data that can be efficiently stored, queried, and managed.\n",
    "* **Schema**: The structure (tables, columns, types, and relationships) that defines how data is organized in a database.\n"
   ]
  },
  {
   "cell_type": "markdown",
   "id": "7b408221",
   "metadata": {},
   "source": [
    "<img src=\"schema.png\" alt=\"schema\" width=\"50%\" height=\"50%\">\n"
   ]
  },
  {
   "cell_type": "markdown",
   "id": "35b1dbc4",
   "metadata": {},
   "source": [
    "Great websites for visualizing DBs: [mermaid](https://mermaid.live), [drawsql](https://drawsql.app)"
   ]
  },
  {
   "cell_type": "markdown",
   "id": "f23a9041",
   "metadata": {},
   "source": [
    "##### Relationships\n",
    "\n",
    "* **One-to-Many (1→N)**:\n",
    "\n",
    "  * Example: **Customer → Orders**\n",
    "  * One customer can place many orders, but each order belongs to exactly one customer.\n",
    "\n",
    "* **Many-to-Many (M↔N)**:\n",
    "\n",
    "  * Example: **Orders ↔ Products**\n",
    "  * An order can contain many products, and a product can appear in many orders.\n",
    "  * This is implemented via a linking table: **Order\\_Items**.\n"
   ]
  },
  {
   "cell_type": "markdown",
   "id": "11895f13",
   "metadata": {},
   "source": [
    "\n",
    "\n",
    "##### Keys\n",
    "\n",
    "* **Primary Key (PK)**\n",
    "\n",
    "  * A column (or set of columns) that **uniquely identifies each row** in a table.\n",
    "  * Examples: `Customer.id`, `Product.id`, `Order.id`, `(Order_Item.order_id, Order_Item.product_id)`\n",
    "  * Use: prevents duplicate rows, ensures every row has a unique identity.\n",
    "  * Note: usually created automatically by the database.\n",
    "\n",
    "* **Foreign Key (FK)**\n",
    "\n",
    "  * A column in one table that **references the primary key in another table**.\n",
    "  * Examples:\n",
    "\n",
    "    * `Order.customer_id` → `Customer.id`\n",
    "    * `Order_Item.order_id` → `Order.id`\n",
    "    * `Order_Item.product_id` → `Product.id`\n",
    "  * Use: enforces **referential integrity**, ensuring relationships are valid (no order with a non-existent customer, no order item with a non-existent product).\n"
   ]
  },
  {
   "cell_type": "markdown",
   "id": "433afcff",
   "metadata": {},
   "source": [
    "#### Terminology\n",
    "\n",
    "* **Table**: like a list of rows, all with the same structure\n",
    "* **Row / Record**: one entry in the table\n",
    "* **Column**: named field with a type\n",
    "* **Type**: the kind of data, e.g. `INTEGER`, `TEXT`, `REAL`\n",
    "* **Primary Key (PK)**: unique identifier for each row\n",
    "* **Foreign Key (FK)**: column linking to another table’s PK\n",
    "* **Index**: structure that makes lookups faster\n",
    "\n",
    "\n",
    "\n"
   ]
  },
  {
   "cell_type": "markdown",
   "id": "fe5dd88b",
   "metadata": {},
   "source": [
    "#### Types\n",
    "\n",
    "| Database Type | Example Value     | Python Type  | Notes                                    |\n",
    "|---------------|------------------|--------------|------------------------------------------|\n",
    "| INTEGER       | 42               | int          | Whole numbers (IDs, counts, etc.)        |\n",
    "| REAL          | 3.14             | float        | Decimal numbers (prices, measures)       |\n",
    "| TEXT          | \"Alice\"          | str          | Strings of any length                    |\n",
    "| DATE / DATETIME | \"2025-09-12\"   | str / datetime.date | Often stored as timestamp; Python’s `datetime` is more convenient |\n",
    "| BOOLEAN       | 1 / 0 (true/false)| bool        | Some DBs use INTEGER under the hood      |\n",
    "| BLOB          | binary data      | bytes        | For raw binary (images, files, etc.)     |\n"
   ]
  },
  {
   "cell_type": "markdown",
   "id": "989aa538",
   "metadata": {},
   "source": [
    "### SQL Cheat Sheet\n",
    "\n",
    "**What we’re working with (schema):**\n",
    "- `customer(id INTEGER PK, name TEXT UNIQUE NOT NULL)`\n",
    "- `orders(id INTEGER PK, customer_id INTEGER NOT NULL, created_at TEXT DEFAULT CURRENT_TIMESTAMP, total REAL CHECK(total>=0), FK customer_id → customer(id) ON DELETE CASCADE)`\n",
    "\n",
    "> All SQL lives in `sql/` and is executed via a tiny helper class. Foreign keys are enabled per connection inside the helper.\n"
   ]
  },
  {
   "cell_type": "markdown",
   "id": "88dd4ae5",
   "metadata": {},
   "source": [
    "#### Setup\n"
   ]
  },
  {
   "cell_type": "code",
   "execution_count": null,
   "id": "bf7a8726",
   "metadata": {},
   "outputs": [],
   "source": [
    "from db_runner import DB\n",
    "db = DB(\"mini.db\")"
   ]
  },
  {
   "cell_type": "markdown",
   "id": "53ce6b4e",
   "metadata": {},
   "source": [
    "**Content**\n",
    "\n",
    "1. Init DB / enable foreign keys — `sql/00_init.sql`  \n",
    "2. Create tables — `sql/01_create_tables.sql`  \n",
    "3. Seed minimal data — `sql/02_seed.sql`  \n",
    "4. SELECT basics — `sql/03_select_basics.sql`  \n",
    "5. JOIN the two tables — `sql/04_join.sql`  \n",
    "6. UPDATE & DELETE (cascade) — `sql/05_update_delete.sql`  \n",
    "7. Transactions (commit/rollback) — `sql/06_transaction.sql`  \n",
    "8. Index for a common query — `sql/07_index.sql`  \n",
    "9. Upsert with ON CONFLICT — `sql/08_upsert.sql`\n"
   ]
  },
  {
   "cell_type": "markdown",
   "id": "0597e41e",
   "metadata": {},
   "source": [
    "#### 1) Init DB / enable foreign keys\n",
    "One-liner PRAGMA to ensure FK enforcement; keeps data consistent.\n",
    "- **SQL file:** [sql/00_init.sql](sql/00_init.sql)  \n",
    "- **Python:**\n"
   ]
  },
  {
   "cell_type": "code",
   "execution_count": null,
   "id": "01a9c32a",
   "metadata": {},
   "outputs": [],
   "source": [
    "db.run_file(\"sql/00_init.sql\")\n"
   ]
  },
  {
   "cell_type": "markdown",
   "id": "9d6446e7",
   "metadata": {},
   "source": [
    "#### 2) Create tables\n",
    "Define `customer` and `orders` with a cascading foreign key.\n",
    "- **SQL file:** [sql/01_create_tables.sql](sql/01_create_tables.sql)  \n",
    "- **Python:**\n"
   ]
  },
  {
   "cell_type": "code",
   "execution_count": null,
   "id": "df134fed",
   "metadata": {},
   "outputs": [],
   "source": [
    "db.run_file(\"sql/01_create_tables.sql\")\n"
   ]
  },
  {
   "cell_type": "markdown",
   "id": "7231fe45",
   "metadata": {},
   "source": [
    "#### 3) Seed minimal data\n",
    "Add two customers and two example orders.\n",
    "- **SQL file:** [sql/02_seed.sql](sql/02_seed.sql)  \n",
    "- **Python:**\n"
   ]
  },
  {
   "cell_type": "code",
   "execution_count": null,
   "id": "8ab136a0",
   "metadata": {},
   "outputs": [],
   "source": [
    "db.run_file(\"sql/02_seed.sql\")\n"
   ]
  },
  {
   "cell_type": "markdown",
   "id": "6aec9800",
   "metadata": {},
   "source": [
    "#### 4) SELECT basics\n",
    "Read everything, then filter/sort/limit results.\n",
    "- **SQL file:** [sql/03_select_basics.sql](sql/03_select_basics.sql)  \n",
    "- **Python:**\n"
   ]
  },
  {
   "cell_type": "code",
   "execution_count": null,
   "id": "8c3b11ca",
   "metadata": {},
   "outputs": [],
   "source": [
    "for row in db.query_file(\"sql/03_select_basics.sql\"):\n",
    "    print(row)\n"
   ]
  },
  {
   "cell_type": "markdown",
   "id": "3f4eabd8",
   "metadata": {},
   "source": [
    "#### 5) JOIN the two tables\n",
    "Show orders with customer names, sorted by timestamp.\n",
    "- **SQL file:** [sql/04_join.sql](sql/04_join.sql)  \n",
    "- **Python:**\n"
   ]
  },
  {
   "cell_type": "code",
   "execution_count": null,
   "id": "1a94e795",
   "metadata": {},
   "outputs": [],
   "source": [
    "for row in db.query_file(\"sql/04_join.sql\"):\n",
    "    print(row)\n"
   ]
  },
  {
   "cell_type": "markdown",
   "id": "94fe342c",
   "metadata": {},
   "source": [
    "#### 6) UPDATE & DELETE (cascade)\n",
    "Edit an order total; delete a customer and watch related orders vanish.\n",
    "- **SQL file:** [sql/05_update_delete.sql](sql/05_update_delete.sql)  \n",
    "- **Python:**\n"
   ]
  },
  {
   "cell_type": "code",
   "execution_count": null,
   "id": "1e656f7f",
   "metadata": {},
   "outputs": [],
   "source": [
    "db.run_file(\"sql/05_update_delete.sql\")\n"
   ]
  },
  {
   "cell_type": "markdown",
   "id": "0e5430f7",
   "metadata": {},
   "source": [
    "### Solution"
   ]
  },
  {
   "cell_type": "markdown",
   "id": "74b2ebc0",
   "metadata": {},
   "source": [
    "Create the database"
   ]
  },
  {
   "cell_type": "code",
   "execution_count": null,
   "id": "d625986f",
   "metadata": {},
   "outputs": [],
   "source": [
    "import sqlite3\n",
    "\n",
    "def create_db(db_path=\"./data.db\"):\n",
    "    conn = sqlite3.connect(db_path)\n",
    "    conn.execute(\"PRAGMA foreign_keys = ON\")  # enforce FK in SQLite\n",
    "    cur = conn.cursor()\n",
    "    cur.executescript(\"\"\"\n",
    "    -- drop tables if they exist\n",
    "    DROP TABLE IF EXISTS order_items;\n",
    "    DROP TABLE IF EXISTS orders;\n",
    "    DROP TABLE IF EXISTS products;\n",
    "    DROP TABLE IF EXISTS customers;\n",
    "\n",
    "    -- create tables\n",
    "    CREATE TABLE customers (\n",
    "      id   INTEGER PRIMARY KEY,\n",
    "      name TEXT NOT NULL\n",
    "    );\n",
    "\n",
    "    CREATE TABLE products (\n",
    "      id    INTEGER PRIMARY KEY,\n",
    "      name  TEXT NOT NULL,\n",
    "      price REAL  NOT NULL CHECK (price >= 0)\n",
    "    );\n",
    "\n",
    "    CREATE TABLE orders (\n",
    "      id           INTEGER PRIMARY KEY,\n",
    "      customer_id  INTEGER NOT NULL,\n",
    "      created_at   TEXT    NOT NULL,   -- ISO date\n",
    "      FOREIGN KEY (customer_id) REFERENCES customers(id)\n",
    "    );\n",
    "\n",
    "    -- snapshot price at purchase to preserve history\n",
    "    CREATE TABLE order_items (\n",
    "      order_id    INTEGER NOT NULL,\n",
    "      product_id  INTEGER NOT NULL,\n",
    "      quantity    INTEGER NOT NULL CHECK (quantity > 0),\n",
    "      price_each  REAL    NOT NULL CHECK (price_each >= 0),\n",
    "      PRIMARY KEY (order_id, product_id),\n",
    "      FOREIGN KEY (order_id)   REFERENCES orders(id)   ON DELETE CASCADE,\n",
    "      FOREIGN KEY (product_id) REFERENCES products(id) ON DELETE RESTRICT\n",
    "    );\n",
    "    \"\"\")\n",
    "    conn.commit()\n",
    "    return conn\n"
   ]
  },
  {
   "cell_type": "markdown",
   "id": "2e00ad19",
   "metadata": {},
   "source": [
    "Seed the database"
   ]
  },
  {
   "cell_type": "code",
   "execution_count": null,
   "id": "f34c55e7",
   "metadata": {},
   "outputs": [],
   "source": [
    "def seed(conn):\n",
    "    cur = conn.cursor()\n",
    "\n",
    "    cur.executemany(\"INSERT INTO customers(id, name) VALUES (?, ?)\", [\n",
    "        (1, \"Alice\"),\n",
    "        (2, \"Bob\"),\n",
    "        (3, \"Cara\"),\n",
    "    ])\n",
    "\n",
    "    cur.executemany(\"INSERT INTO products(id, name, price) VALUES (?, ?, ?)\", [\n",
    "        (1, \"Coffee\", 4.50),\n",
    "        (2, \"Tea\",    3.00),\n",
    "        (3, \"Cookie\", 2.50),\n",
    "    ])\n",
    "\n",
    "    cur.executemany(\"INSERT INTO orders(id, customer_id, created_at) VALUES (?, ?, ?)\", [\n",
    "        (1001, 1, \"2025-09-05\"),\n",
    "        (1002, 2, \"2025-09-08\"),\n",
    "        (1003, 3, \"2025-09-11\"),\n",
    "    ])\n",
    "\n",
    "    # items are embedded in orders in JSON; here they’re separate rows\n",
    "    cur.executemany(\n",
    "        \"INSERT INTO order_items(order_id, product_id, quantity, price_each) VALUES (?, ?, ?, ?)\",\n",
    "        [\n",
    "            (1001, 1, 2, 4.50),  # Alice: 2x Coffee\n",
    "            (1001, 3, 1, 2.50),  # Alice: 1x Cookie\n",
    "            (1002, 2, 1, 3.00),  # Bob:   1x Tea\n",
    "            (1002, 1, 1, 4.50),  # Bob:   1x Coffee\n",
    "            (1003, 2, 2, 3.00),  # Cara:  2x Tea\n",
    "            (1003, 3, 3, 2.50),  # Cara:  3x Cookie\n",
    "        ],\n",
    "    )\n",
    "    conn.commit()\n"
   ]
  },
  {
   "cell_type": "markdown",
   "id": "78ee4318",
   "metadata": {},
   "source": [
    "Functionality"
   ]
  },
  {
   "cell_type": "code",
   "execution_count": null,
   "id": "b2a7ff5d",
   "metadata": {},
   "outputs": [],
   "source": [
    "from typing import List, Tuple\n",
    "\n",
    "def ids_view(conn, client_id: int) -> Tuple[List[int], List[int]]:\n",
    "    \"\"\"\n",
    "    Returns (all_client_ids, order_ids_for_given_client)\n",
    "    \"\"\"\n",
    "    cur = conn.cursor()\n",
    "    all_clients = [row[0] for row in cur.execute(\"SELECT id FROM customers ORDER BY id\")]\n",
    "    order_ids = [row[0] for row in cur.execute(\n",
    "        \"SELECT id FROM orders WHERE customer_id = ? ORDER BY created_at, id\",\n",
    "        (client_id,)\n",
    "    )]\n",
    "    return all_clients, order_ids\n",
    "\n",
    "\n",
    "def total_cost(conn, order_id: int) -> float:\n",
    "    \"\"\"\n",
    "    Returns total price for the given order_id (sum of quantity * price_each).\n",
    "    \"\"\"\n",
    "    cur = conn.cursor()\n",
    "    (total,) = cur.execute(\n",
    "        \"SELECT COALESCE(SUM(quantity * price_each), 0.0) FROM order_items WHERE order_id = ?\",\n",
    "        (order_id,)\n",
    "    ).fetchone()\n",
    "    return round(float(total or 0.0), 2)\n"
   ]
  },
  {
   "cell_type": "code",
   "execution_count": null,
   "id": "7d27a944",
   "metadata": {},
   "outputs": [],
   "source": [
    "conn = create_db()\n",
    "seed(conn)\n",
    "\n",
    "clients, alice_orders = ids_view(conn, client_id=1)\n",
    "print(\"Client IDs:\", clients)                # -> [1, 2, 3]\n",
    "print(\"Alice’s order IDs:\", alice_orders)    # -> [1001]\n",
    "\n",
    "print(\"Total cost (order 1001):\", total_cost(conn, 1001))  # -> 11.50\n",
    "print(\"Total cost (order 1003):\", total_cost(conn, 1003))  # -> 13.00\n"
   ]
  },
  {
   "cell_type": "markdown",
   "id": "7f5d5c0a",
   "metadata": {},
   "source": [
    "Do you see a problem here? \\\n",
    "Google about SQL-Builder and SQLAlchemy"
   ]
  },
  {
   "cell_type": "markdown",
   "id": "48b28764",
   "metadata": {},
   "source": [
    "**Why Databases?**\n",
    "\n",
    "* Handle **relationships** automatically (customers ↔ orders ↔ products)\n",
    "* Keep **integrity**: foreign keys, unique IDs, no invalid references\n",
    "* Make **queries fast** (e.g. with indexes and a lot of other optimizations)\n",
    "* Allows to work with **large data** (no need to load everything into memory)\n",
    "* **Most importantly you don't need to reinvent the wheel.**\n",
    "\n",
    "Note: It doesn't mean that you should use DB whenever you work with data. Sometimes DBs are overkill"
   ]
  }
 ],
 "metadata": {
  "kernelspec": {
   "display_name": ".venv",
   "language": "python",
   "name": "python3"
  },
  "language_info": {
   "codemirror_mode": {
    "name": "ipython",
    "version": 3
   },
   "file_extension": ".py",
   "mimetype": "text/x-python",
   "name": "python",
   "nbconvert_exporter": "python",
   "pygments_lexer": "ipython3",
   "version": "3.11.12"
  }
 },
 "nbformat": 4,
 "nbformat_minor": 5
}
