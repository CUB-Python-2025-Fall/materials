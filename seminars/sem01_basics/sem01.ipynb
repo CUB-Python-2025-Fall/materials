{
 "cells": [
  {
   "cell_type": "markdown",
   "id": "e9ee552b",
   "metadata": {},
   "source": [
    "# **Git demo**"
   ]
  },
  {
   "cell_type": "markdown",
   "id": "7d054ea9",
   "metadata": {},
   "source": [
    "### **Simple git pipeline**"
   ]
  },
  {
   "cell_type": "markdown",
   "id": "ff39c223",
   "metadata": {},
   "source": [
    "Let's create new directory for our pet repo"
   ]
  },
  {
   "cell_type": "code",
   "execution_count": 24,
   "id": "0391265f",
   "metadata": {},
   "outputs": [],
   "source": [
    "! git config --global user.name \"Mikhail Akhtyrchenko\"\n",
    "! git config --global user.email \"dont.ask@email.com\""
   ]
  },
  {
   "cell_type": "markdown",
   "id": "ae4b7835",
   "metadata": {},
   "source": [
    "This uses an empty pre-created private repository that you will not have access to, to create your own one see “how_to_create_repo.md” instructions"
   ]
  },
  {
   "cell_type": "code",
   "execution_count": 25,
   "id": "cdeaf39c",
   "metadata": {},
   "outputs": [
    {
     "name": "stdout",
     "output_type": "stream",
     "text": [
      "Cloning into 'seminar-1-example'...\n",
      "remote: Enumerating objects: 5, done.\u001b[K\n",
      "remote: Counting objects: 100% (5/5), done.\u001b[K\n",
      "remote: Compressing objects: 100% (2/2), done.\u001b[K\n",
      "remote: Total 5 (delta 0), reused 5 (delta 0), pack-reused 0 (from 0)\u001b[K\n",
      "Receiving objects: 100% (5/5), done.\n",
      "/Users/dirak/.Trash/seminar-1-example/seminar-1-example\n"
     ]
    },
    {
     "name": "stderr",
     "output_type": "stream",
     "text": [
      "/Users/dirak/anaconda3/envs/nlp/lib/python3.12/site-packages/IPython/core/magics/osm.py:417: UserWarning: This is now an optional IPython functionality, setting dhist requires you to install the `pickleshare` library.\n",
      "  self.shell.db['dhist'] = compress_dhist(dhist)[-100:]\n"
     ]
    }
   ],
   "source": [
    "! git clone git@github.com:EnriFermi/seminar-1-example.git\n",
    "%cd 'seminar-1-example'"
   ]
  },
  {
   "cell_type": "code",
   "execution_count": 26,
   "id": "bbb32f4d",
   "metadata": {},
   "outputs": [
    {
     "name": "stdout",
     "output_type": "stream",
     "text": [
      "On branch master\n",
      "Your branch is up to date with 'origin/master'.\n",
      "\n",
      "nothing to commit, working tree clean\n"
     ]
    }
   ],
   "source": [
    "!git status"
   ]
  },
  {
   "cell_type": "code",
   "execution_count": 27,
   "id": "a883d0a8",
   "metadata": {},
   "outputs": [
    {
     "name": "stdout",
     "output_type": "stream",
     "text": [
      "usage: git [-v | --version] [-h | --help] [-C <path>] [-c <name>=<value>]\n",
      "           [--exec-path[=<path>]] [--html-path] [--man-path] [--info-path]\n",
      "           [-p | --paginate | -P | --no-pager] [--no-replace-objects] [--no-lazy-fetch]\n",
      "           [--no-optional-locks] [--no-advice] [--bare] [--git-dir=<path>]\n",
      "           [--work-tree=<path>] [--namespace=<name>] [--config-env=<name>=<envvar>]\n",
      "           <command> [<args>]\n",
      "\n",
      "These are common Git commands used in various situations:\n",
      "\n",
      "start a working area (see also: git help tutorial)\n",
      "   clone      Clone a repository into a new directory\n",
      "   init       Create an empty Git repository or reinitialize an existing one\n",
      "\n",
      "work on the current change (see also: git help everyday)\n",
      "   add        Add file contents to the index\n",
      "   mv         Move or rename a file, a directory, or a symlink\n",
      "   restore    Restore working tree files\n",
      "   rm         Remove files from the working tree and from the index\n",
      "\n",
      "examine the history and state (see also: git help revisions)\n",
      "   bisect     Use binary search to find the commit that introduced a bug\n",
      "   diff       Show changes between commits, commit and working tree, etc\n",
      "   grep       Print lines matching a pattern\n",
      "   log        Show commit logs\n",
      "   show       Show various types of objects\n",
      "   status     Show the working tree status\n",
      "\n",
      "grow, mark and tweak your common history\n",
      "   backfill   Download missing objects in a partial clone\n",
      "   branch     List, create, or delete branches\n",
      "   commit     Record changes to the repository\n",
      "   merge      Join two or more development histories together\n",
      "   rebase     Reapply commits on top of another base tip\n",
      "   reset      Reset current HEAD to the specified state\n",
      "   switch     Switch branches\n",
      "   tag        Create, list, delete or verify a tag object signed with GPG\n",
      "\n",
      "collaborate (see also: git help workflows)\n",
      "   fetch      Download objects and refs from another repository\n",
      "   pull       Fetch from and integrate with another repository or a local branch\n",
      "   push       Update remote refs along with associated objects\n",
      "\n",
      "'git help -a' and 'git help -g' list available subcommands and some\n",
      "concept guides. See 'git help <command>' or 'git help <concept>'\n",
      "to read about a specific subcommand or concept.\n",
      "See 'git help git' for an overview of the system.\n"
     ]
    }
   ],
   "source": [
    "!git help"
   ]
  },
  {
   "cell_type": "markdown",
   "id": "b51132c3",
   "metadata": {},
   "source": [
    "Let's add new file to working dir"
   ]
  },
  {
   "cell_type": "code",
   "execution_count": 28,
   "id": "ffe8aa6c",
   "metadata": {},
   "outputs": [],
   "source": [
    "!echo \"### Simple README\" > README.md"
   ]
  },
  {
   "cell_type": "markdown",
   "id": "a8f20857",
   "metadata": {},
   "source": [
    "Add new file to staging area"
   ]
  },
  {
   "cell_type": "code",
   "execution_count": 29,
   "id": "c677692c",
   "metadata": {},
   "outputs": [],
   "source": [
    "!git add README.md"
   ]
  },
  {
   "cell_type": "markdown",
   "id": "4b2fe0fe",
   "metadata": {},
   "source": [
    "Add everything from staging area to local history"
   ]
  },
  {
   "cell_type": "markdown",
   "id": "936a7448",
   "metadata": {},
   "source": [
    "<div class=\"alert alert-info\">\n",
    "    <b>Advise:</b> Before committing, review all changes and roll back any unnecessary changes that were made unintentionally.\n",
    "</div>"
   ]
  },
  {
   "cell_type": "code",
   "execution_count": 30,
   "id": "37aad02f",
   "metadata": {},
   "outputs": [
    {
     "name": "stdout",
     "output_type": "stream",
     "text": [
      "On branch master\n",
      "Your branch is up to date with 'origin/master'.\n",
      "\n",
      "nothing to commit, working tree clean\n"
     ]
    }
   ],
   "source": [
    "! git status"
   ]
  },
  {
   "cell_type": "code",
   "execution_count": 31,
   "id": "39df5c3e",
   "metadata": {},
   "outputs": [
    {
     "name": "stdout",
     "output_type": "stream",
     "text": [
      "On branch master\n",
      "Your branch is up to date with 'origin/master'.\n",
      "\n",
      "nothing to commit, working tree clean\n",
      "\u001b[33mcommit 488c8f6968be9806b8209ce60e02d240a9f1f998\u001b[m\u001b[33m (\u001b[m\u001b[1;36mHEAD\u001b[m\u001b[33m -> \u001b[m\u001b[1;32mmaster\u001b[m\u001b[33m, \u001b[m\u001b[1;31morigin/master\u001b[m\u001b[33m, \u001b[m\u001b[1;31morigin/HEAD\u001b[m\u001b[33m)\u001b[m\n",
      "Author: Mikhail Akhtyrchenko <dont.ask@email.com>\n",
      "Date:   Sun Sep 7 12:22:38 2025 +0200\n",
      "\n",
      "    first commit\n",
      "\n",
      "\u001b[33mcommit 6c41f5c6063cd115380dcf3f3db6dc9a9796a225\u001b[m\n",
      "Author: m.akhtyrchenko <m.ahtyrchenko@vkteam.ru>\n",
      "Date:   Thu Jul 24 13:06:00 2025 +0300\n",
      "\n",
      "    Initial clean commit\n"
     ]
    }
   ],
   "source": [
    "!git commit -m \"first commit\"\n",
    "!git log"
   ]
  },
  {
   "cell_type": "markdown",
   "id": "824c28ca",
   "metadata": {},
   "source": [
    "<div class=\"alert alert-danger\">\n",
    "    <b>Attention:</b> Short and uninformative commit messages are bad practice, try to make them more meaningful and informative (so that you can get a rough idea of what the commit changes are). AI can be a good tool for this purpose.\n",
    "</div>"
   ]
  },
  {
   "cell_type": "code",
   "execution_count": 32,
   "id": "d6225d04",
   "metadata": {},
   "outputs": [
    {
     "name": "stdout",
     "output_type": "stream",
     "text": [
      "Everything up-to-date\n",
      "* \u001b[33m488c8f6\u001b[m\u001b[33m (\u001b[m\u001b[1;36mHEAD\u001b[m\u001b[33m -> \u001b[m\u001b[1;32mmaster\u001b[m\u001b[33m, \u001b[m\u001b[1;31morigin/master\u001b[m\u001b[33m, \u001b[m\u001b[1;31morigin/HEAD\u001b[m\u001b[33m)\u001b[m first commit\n",
      "* \u001b[33m6c41f5c\u001b[m Initial clean commit\n"
     ]
    }
   ],
   "source": [
    "!git push\n",
    "!git log --oneline --graph --all --decorate"
   ]
  },
  {
   "cell_type": "markdown",
   "id": "95da6638",
   "metadata": {},
   "source": [
    "### **How merge works**"
   ]
  },
  {
   "cell_type": "code",
   "execution_count": 33,
   "id": "d5c46743",
   "metadata": {},
   "outputs": [
    {
     "name": "stdout",
     "output_type": "stream",
     "text": [
      "Switched to a new branch 'branch_1'\n"
     ]
    }
   ],
   "source": [
    "!git checkout -b branch_1"
   ]
  },
  {
   "cell_type": "code",
   "execution_count": 34,
   "id": "2356426f",
   "metadata": {},
   "outputs": [
    {
     "name": "stdout",
     "output_type": "stream",
     "text": [
      "[branch_1 b4356fc] branch_1\n",
      " 2 files changed, 2 insertions(+)\n",
      " create mode 100644 branch_1.txt\n"
     ]
    }
   ],
   "source": [
    "!echo \"branch_1\" > branch_1.txt\n",
    "!echo \" added by branch_1\" >> README.md\n",
    "!git add branch_1.txt README.md\n",
    "!git commit -m \"branch_1\""
   ]
  },
  {
   "cell_type": "code",
   "execution_count": 35,
   "id": "e5b6a8c0",
   "metadata": {},
   "outputs": [
    {
     "name": "stdout",
     "output_type": "stream",
     "text": [
      "Switched to a new branch 'branch_2'\n",
      "### Simple README\n",
      "README.md\n"
     ]
    }
   ],
   "source": [
    "!git checkout -b branch_2 master\n",
    "!cat README.md\n",
    "!ls # we can check, that \"branch_1.txt\" disapeared, because we created branch_2 from master, where there is no \"branch_1.tst\""
   ]
  },
  {
   "cell_type": "code",
   "execution_count": 36,
   "id": "0e519990",
   "metadata": {},
   "outputs": [
    {
     "name": "stdout",
     "output_type": "stream",
     "text": [
      "[branch_2 1f41b3e] branch_2\n",
      " 2 files changed, 2 insertions(+)\n",
      " create mode 100644 branch_2.txt\n",
      "### Simple README\n",
      " added by branch_2\n",
      "README.md    branch_2.txt\n"
     ]
    }
   ],
   "source": [
    "!echo \"branch_2\" > branch_2.txt\n",
    "!echo \" added by branch_2\" >> README.md\n",
    "!git add branch_2.txt README.md\n",
    "!git commit -m \"branch_2\"\n",
    "!cat README.md\n",
    "!ls "
   ]
  },
  {
   "cell_type": "code",
   "execution_count": 37,
   "id": "6378424d",
   "metadata": {},
   "outputs": [
    {
     "name": "stdout",
     "output_type": "stream",
     "text": [
      "* \u001b[33m1f41b3e\u001b[m\u001b[33m (\u001b[m\u001b[1;36mHEAD\u001b[m\u001b[33m -> \u001b[m\u001b[1;32mbranch_2\u001b[m\u001b[33m)\u001b[m branch_2\n",
      "\u001b[31m|\u001b[m * \u001b[33mb4356fc\u001b[m\u001b[33m (\u001b[m\u001b[1;32mbranch_1\u001b[m\u001b[33m)\u001b[m branch_1\n",
      "\u001b[31m|\u001b[m\u001b[31m/\u001b[m  \n",
      "* \u001b[33m488c8f6\u001b[m\u001b[33m (\u001b[m\u001b[1;31morigin/master\u001b[m\u001b[33m, \u001b[m\u001b[1;31morigin/HEAD\u001b[m\u001b[33m, \u001b[m\u001b[1;32mmaster\u001b[m\u001b[33m)\u001b[m first commit\n",
      "* \u001b[33m6c41f5c\u001b[m Initial clean commit\n"
     ]
    }
   ],
   "source": [
    "!git log --oneline --graph --all --decorate"
   ]
  },
  {
   "cell_type": "code",
   "execution_count": 38,
   "id": "e9f727e0",
   "metadata": {},
   "outputs": [
    {
     "name": "stdout",
     "output_type": "stream",
     "text": [
      "Auto-merging README.md\n",
      "CONFLICT (content): Merge conflict in README.md\n",
      "Automatic merge failed; fix conflicts and then commit the result.\n"
     ]
    }
   ],
   "source": [
    "!git merge branch_1"
   ]
  },
  {
   "cell_type": "markdown",
   "id": "864e6650",
   "metadata": {},
   "source": [
    "**We need to resolve conflict**"
   ]
  },
  {
   "cell_type": "code",
   "execution_count": 39,
   "id": "2a1d8a81",
   "metadata": {},
   "outputs": [
    {
     "name": "stdout",
     "output_type": "stream",
     "text": [
      "[branch_2 7099e2c] Merge branch_1 into branch_2\n"
     ]
    }
   ],
   "source": [
    "! git add README.md\n",
    "! git commit -m \"Merge branch_1 into branch_2\""
   ]
  },
  {
   "cell_type": "code",
   "execution_count": 40,
   "id": "065bbb21",
   "metadata": {},
   "outputs": [
    {
     "name": "stdout",
     "output_type": "stream",
     "text": [
      "Switched to branch 'master'\n",
      "Your branch is up to date with 'origin/master'.\n",
      "Updating 488c8f6..7099e2c\n",
      "Fast-forward\n",
      " README.md    | 5 \u001b[32m+++++\u001b[m\n",
      " branch_1.txt | 1 \u001b[32m+\u001b[m\n",
      " branch_2.txt | 1 \u001b[32m+\u001b[m\n",
      " 3 files changed, 7 insertions(+)\n",
      " create mode 100644 branch_1.txt\n",
      " create mode 100644 branch_2.txt\n"
     ]
    }
   ],
   "source": [
    "!git checkout master\n",
    "!git merge branch_2"
   ]
  },
  {
   "cell_type": "code",
   "execution_count": 41,
   "id": "f4e8656d",
   "metadata": {},
   "outputs": [
    {
     "name": "stdout",
     "output_type": "stream",
     "text": [
      "*   \u001b[33m7099e2c\u001b[m\u001b[33m (\u001b[m\u001b[1;36mHEAD\u001b[m\u001b[33m -> \u001b[m\u001b[1;32mmaster\u001b[m\u001b[33m, \u001b[m\u001b[1;32mbranch_2\u001b[m\u001b[33m)\u001b[m Merge branch_1 into branch_2\n",
      "\u001b[31m|\u001b[m\u001b[32m\\\u001b[m  \n",
      "\u001b[31m|\u001b[m * \u001b[33mb4356fc\u001b[m\u001b[33m (\u001b[m\u001b[1;32mbranch_1\u001b[m\u001b[33m)\u001b[m branch_1\n",
      "* \u001b[32m|\u001b[m \u001b[33m1f41b3e\u001b[m branch_2\n",
      "\u001b[32m|\u001b[m\u001b[32m/\u001b[m  \n",
      "* \u001b[33m488c8f6\u001b[m\u001b[33m (\u001b[m\u001b[1;31morigin/master\u001b[m\u001b[33m, \u001b[m\u001b[1;31morigin/HEAD\u001b[m\u001b[33m)\u001b[m first commit\n",
      "* \u001b[33m6c41f5c\u001b[m Initial clean commit\n"
     ]
    }
   ],
   "source": [
    "!git log --oneline --graph --all --decorate"
   ]
  },
  {
   "cell_type": "code",
   "execution_count": 42,
   "id": "62193aa4",
   "metadata": {},
   "outputs": [
    {
     "name": "stdout",
     "output_type": "stream",
     "text": [
      "Enumerating objects: 13, done.\n",
      "Counting objects: 100% (13/13), done.\n",
      "Delta compression using up to 8 threads\n",
      "Compressing objects: 100% (7/7), done.\n",
      "Writing objects: 100% (11/11), 955 bytes | 955.00 KiB/s, done.\n",
      "Total 11 (delta 1), reused 0 (delta 0), pack-reused 0 (from 0)\n",
      "remote: Resolving deltas: 100% (1/1), done.\u001b[K\n",
      "To github.com:EnriFermi/seminar-1-example.git\n",
      "   488c8f6..7099e2c  master -> master\n"
     ]
    }
   ],
   "source": [
    "!git push "
   ]
  },
  {
   "cell_type": "code",
   "execution_count": 59,
   "id": "bf01ab1e",
   "metadata": {},
   "outputs": [
    {
     "name": "stdout",
     "output_type": "stream",
     "text": [
      "On branch master\n",
      "Your branch is up to date with 'origin/master'.\n",
      "\n",
      "nothing to commit, working tree clean\n"
     ]
    }
   ],
   "source": [
    "! git status"
   ]
  },
  {
   "cell_type": "markdown",
   "id": "2f4c3969",
   "metadata": {},
   "source": [
    "Now suppose we have a file that we don't want to add to the git repository, but it is necessary for our code to run on our computer (e.g. python cache)"
   ]
  },
  {
   "cell_type": "code",
   "execution_count": null,
   "id": "2ef0f439",
   "metadata": {},
   "outputs": [],
   "source": [
    "! echo \"Some text which shouldn't be added to git\" > local\n",
    "! echo \"Some text which should be added to git\" > togit\n",
    "! git add --all"
   ]
  },
  {
   "cell_type": "code",
   "execution_count": 64,
   "id": "2ccd4d10",
   "metadata": {},
   "outputs": [
    {
     "name": "stdout",
     "output_type": "stream",
     "text": [
      "On branch master\n",
      "Your branch is up to date with 'origin/master'.\n",
      "\n",
      "Changes to be committed:\n",
      "  (use \"git restore --staged <file>...\" to unstage)\n",
      "\t\u001b[32mnew file:   local\u001b[m\n",
      "\t\u001b[32mnew file:   togit\u001b[m\n",
      "\n"
     ]
    }
   ],
   "source": [
    "! git status"
   ]
  },
  {
   "cell_type": "code",
   "execution_count": 65,
   "id": "5e3eeb51",
   "metadata": {},
   "outputs": [],
   "source": [
    "! git reset local"
   ]
  },
  {
   "cell_type": "code",
   "execution_count": 66,
   "id": "0690e2fb",
   "metadata": {},
   "outputs": [
    {
     "name": "stdout",
     "output_type": "stream",
     "text": [
      "On branch master\n",
      "Your branch is up to date with 'origin/master'.\n",
      "\n",
      "Changes to be committed:\n",
      "  (use \"git restore --staged <file>...\" to unstage)\n",
      "\t\u001b[32mnew file:   togit\u001b[m\n",
      "\n",
      "Untracked files:\n",
      "  (use \"git add <file>...\" to include in what will be committed)\n",
      "\t\u001b[31mlocal\u001b[m\n",
      "\n"
     ]
    }
   ],
   "source": [
    "! git status"
   ]
  },
  {
   "cell_type": "code",
   "execution_count": 67,
   "id": "c552e381",
   "metadata": {},
   "outputs": [],
   "source": [
    "! echo \"local\" > .gitignore"
   ]
  },
  {
   "cell_type": "markdown",
   "id": "f6ab4f67",
   "metadata": {},
   "source": [
    "As we can see local file became invisible for git"
   ]
  },
  {
   "cell_type": "code",
   "execution_count": 69,
   "id": "7e3a3832",
   "metadata": {},
   "outputs": [
    {
     "name": "stdout",
     "output_type": "stream",
     "text": [
      "On branch master\n",
      "Your branch is up to date with 'origin/master'.\n",
      "\n",
      "Changes to be committed:\n",
      "  (use \"git restore --staged <file>...\" to unstage)\n",
      "\t\u001b[32mnew file:   togit\u001b[m\n",
      "\n",
      "Untracked files:\n",
      "  (use \"git add <file>...\" to include in what will be committed)\n",
      "\t\u001b[31m.gitignore\u001b[m\n",
      "\n"
     ]
    }
   ],
   "source": [
    "! git status"
   ]
  },
  {
   "cell_type": "code",
   "execution_count": 70,
   "id": "0c9dd267",
   "metadata": {},
   "outputs": [
    {
     "name": "stdout",
     "output_type": "stream",
     "text": [
      "[master 9a799a5] add .gitignore and togit\n",
      " 2 files changed, 2 insertions(+)\n",
      " create mode 100644 .gitignore\n",
      " create mode 100644 togit\n"
     ]
    }
   ],
   "source": [
    "! git add --all\n",
    "! git commit -m \"add .gitignore and togit\""
   ]
  },
  {
   "cell_type": "markdown",
   "id": "070a79eb",
   "metadata": {},
   "source": [
    "<div class=\"alert alert-danger\">\n",
    "    <b>Attention:</b> Do not commit files specific to your computer, such as temporary files, caches and logs etc. You should use .gitignore for such cases\n",
    "</div>"
   ]
  },
  {
   "cell_type": "markdown",
   "id": "4f185b5d",
   "metadata": {},
   "source": [
    "**More about git and how to use it**\n",
    "* Pro Git Book https://git-scm.com/book/en/v2\n",
    "* https://ohmygit.org/\n",
    "* https://learngitbranching.js.org/"
   ]
  },
  {
   "cell_type": "markdown",
   "id": "a65dd4db",
   "metadata": {},
   "source": [
    "### **Python packages**"
   ]
  },
  {
   "cell_type": "markdown",
   "id": "79af1f22",
   "metadata": {},
   "source": [
    "### **Python Environments**"
   ]
  },
  {
   "cell_type": "markdown",
   "id": "1995466b",
   "metadata": {},
   "source": [
    "**ATTENTION: (this part won't work inside notebook, so run it in terminal)**"
   ]
  },
  {
   "cell_type": "code",
   "execution_count": null,
   "id": "9bfec1cc",
   "metadata": {},
   "outputs": [],
   "source": [
    "! which python\n",
    "! pip install numpy\n",
    "! pip list | grep numpy"
   ]
  },
  {
   "cell_type": "code",
   "execution_count": null,
   "id": "7d40a328",
   "metadata": {},
   "outputs": [],
   "source": [
    "! python -m venv new_env"
   ]
  },
  {
   "cell_type": "code",
   "execution_count": null,
   "id": "6bf2705b",
   "metadata": {},
   "outputs": [],
   "source": [
    "! echo \"new_env/\\n.gitignore\" > .gitignore"
   ]
  },
  {
   "cell_type": "code",
   "execution_count": null,
   "id": "b2f71489",
   "metadata": {},
   "outputs": [],
   "source": [
    "! source new_env/bin/activate\n",
    "! which python"
   ]
  },
  {
   "cell_type": "code",
   "execution_count": null,
   "id": "7a771837",
   "metadata": {},
   "outputs": [],
   "source": [
    "! pip list | grep numpy"
   ]
  },
  {
   "cell_type": "code",
   "execution_count": null,
   "id": "b927d8cd",
   "metadata": {},
   "outputs": [],
   "source": [
    "! echo \"numpy==2.3.2\" > requirements.txt\n",
    "! pip install -r requirements.txt"
   ]
  },
  {
   "cell_type": "code",
   "execution_count": null,
   "id": "a5b32773",
   "metadata": {},
   "outputs": [],
   "source": [
    "! deactivate"
   ]
  },
  {
   "cell_type": "markdown",
   "id": "aa71bbfa",
   "metadata": {},
   "source": [
    "Instead of creating env using venv and saving manually packages to 'requirements.txt' we can use **pipenv**"
   ]
  },
  {
   "cell_type": "code",
   "execution_count": null,
   "id": "401fa7a5",
   "metadata": {},
   "outputs": [],
   "source": [
    "! pip install --user pipenv"
   ]
  },
  {
   "cell_type": "code",
   "execution_count": null,
   "id": "51070c5e",
   "metadata": {},
   "outputs": [],
   "source": [
    "! pipenv install"
   ]
  },
  {
   "cell_type": "code",
   "execution_count": null,
   "id": "8b40c3fa",
   "metadata": {},
   "outputs": [],
   "source": [
    "! pipenv graph"
   ]
  },
  {
   "cell_type": "code",
   "execution_count": null,
   "id": "415d46b3",
   "metadata": {},
   "outputs": [],
   "source": [
    "! pipenv install numpy\n",
    " # Tip: You can add the \\e[31m escape code to an echo string to make the text red. \n",
    " # Everything after that will appear red until you reset it with \\e[0m.\n",
    "! echo -e \"\\e[31m Installed packages: $(pipenv graph) \\e[0m\""
   ]
  },
  {
   "cell_type": "code",
   "execution_count": null,
   "id": "8cf39fc9",
   "metadata": {},
   "outputs": [],
   "source": [
    "! pipenv shell"
   ]
  },
  {
   "cell_type": "code",
   "execution_count": null,
   "id": "d3f7e953",
   "metadata": {},
   "outputs": [],
   "source": [
    "! echo \"print('Hello world!')\" > hello.py\n",
    "! pipenv run python hello.py"
   ]
  },
  {
   "cell_type": "markdown",
   "id": "9928a7d0",
   "metadata": {},
   "source": [
    "# **Python**"
   ]
  },
  {
   "cell_type": "code",
   "execution_count": null,
   "id": "0eb6a893",
   "metadata": {},
   "outputs": [],
   "source": [
    "import this #Best practicies from Python creator"
   ]
  },
  {
   "cell_type": "markdown",
   "id": "628e703a",
   "metadata": {},
   "source": [
    "- interpreted (the code is executed by the interpreter, rather than compiled into an independent program)\n",
    "- strict typing (different types are reduced to each other in a limited number of cases)\n",
    "- dynamic typing (any variable can be associated with objects of any type)"
   ]
  },
  {
   "cell_type": "markdown",
   "id": "d5c97bdb",
   "metadata": {},
   "source": [
    "### **Interpreter implementations**\n",
    "\n",
    "- **CPython** (reference)\n",
    "- IronPython\n",
    "- Jython\n",
    "- PyPy\n",
    "\n",
    "[more detailed](https://www.python.org/download/alternatives/)"
   ]
  },
  {
   "cell_type": "markdown",
   "id": "aef2a467",
   "metadata": {},
   "source": [
    "### **How to launch python**"
   ]
  },
  {
   "cell_type": "markdown",
   "id": "54c85d74",
   "metadata": {},
   "source": [
    "Launch as **REPL** (read–eval–print loop) or as **IPython** (Enhanced version of REPL) in terminal  "
   ]
  },
  {
   "cell_type": "code",
   "execution_count": null,
   "id": "a4b7af0d",
   "metadata": {},
   "outputs": [],
   "source": [
    "! python #REPL\n",
    "! ipython #IPython"
   ]
  },
  {
   "cell_type": "markdown",
   "id": "1abb1fee",
   "metadata": {},
   "source": [
    "You can run the course materials as **Jupyter Notebooks** (which we are already using). Jupyter Notebooks are great for learning and data science because they let you combine live code with explanations, visualizations, and formatted text using Markdown.\n",
    "\n",
    "Notebook files have the extension .ipynb and can be opened in IDEs like VS Code or PyCharm, or directly through a Jupyter server.\n",
    "\n",
    "Below is the code to start a Jupyter server to launch your notebooks:\n"
   ]
  },
  {
   "cell_type": "code",
   "execution_count": null,
   "id": "14c00cbe",
   "metadata": {},
   "outputs": [],
   "source": [
    "! pip install notebook\n",
    "! jupyter notebook"
   ]
  },
  {
   "cell_type": "markdown",
   "id": "2ab6db1b",
   "metadata": {},
   "source": [
    "You can run any python program in a file in non-interactive mode using:"
   ]
  },
  {
   "cell_type": "code",
   "execution_count": null,
   "id": "f6c547ba",
   "metadata": {},
   "outputs": [],
   "source": [
    "! python hello.py # here after python command we specify argument, which is path to python command"
   ]
  },
  {
   "cell_type": "markdown",
   "id": "5287fc51",
   "metadata": {},
   "source": [
    "## **Basic types and variables**"
   ]
  },
  {
   "cell_type": "markdown",
   "id": "b3d8b51d",
   "metadata": {},
   "source": [
    "### **Numeric types**\n",
    "In Python, variables are **not bound to a specific data type**. This means you don’t have to declare their type explicitly. Because the type is determined automatically at runtime, Python is called a **dynamically typed** language.\n"
   ]
  },
  {
   "cell_type": "code",
   "execution_count": null,
   "id": "4e9f857c",
   "metadata": {},
   "outputs": [
    {
     "name": "stdout",
     "output_type": "stream",
     "text": [
      "<class 'int'>\n",
      "<class 'float'>\n",
      "<class 'complex'>\n"
     ]
    }
   ],
   "source": [
    "# int\n",
    "x = 1\n",
    "print(type(x))\n",
    "\n",
    "# float\n",
    "x = 1.0 # we changed the type of variable\n",
    "print(type(x))\n",
    "\n",
    "#complex\n",
    "x = 1j \n",
    "print(type(x))"
   ]
  },
  {
   "cell_type": "code",
   "execution_count": 21,
   "id": "da86221c",
   "metadata": {},
   "outputs": [
    {
     "name": "stdout",
     "output_type": "stream",
     "text": [
      "10000 10000 10000.0 10000.0\n"
     ]
    }
   ],
   "source": [
    "x = 10000\n",
    "y = 1_00_00\n",
    "z = 1e4 \n",
    "h = 10000.0\n",
    "print(x, y, z, h)"
   ]
  },
  {
   "cell_type": "markdown",
   "id": "86ff0387",
   "metadata": {},
   "source": [
    "#### Basic Math Operations in Python\n",
    "\n",
    "Python supports all standard arithmetic operators:\n",
    "\n",
    "- `+` Addition → `5 + 3` → `8`  \n",
    "- `-` Subtraction → `10 - 4` → `6`  \n",
    "- `*` Multiplication → `7 * 6` → `42`  \n",
    "- `/` Division → `8 / 2` → `4.0` <span style=\"color:red\">(returns float)</span>  \n",
    "- `//` Floor Division → `9 // 2` → `4`  \n",
    "- `%` Modulus → `10 % 3` → `1`  \n",
    "- `**` Exponentiation → `2 ** 3` → `8`\n"
   ]
  },
  {
   "cell_type": "code",
   "execution_count": null,
   "id": "0b076e11",
   "metadata": {},
   "outputs": [],
   "source": [
    "type(4 // 2), type(4 / 2)"
   ]
  },
  {
   "cell_type": "markdown",
   "id": "b46405b5",
   "metadata": {},
   "source": [
    "For each operator there is `x<operator>=<value>` notation, which is equal to `x=x<operator><value>`"
   ]
  },
  {
   "cell_type": "code",
   "execution_count": 29,
   "id": "38bc377f",
   "metadata": {},
   "outputs": [
    {
     "data": {
      "text/plain": [
       "4"
      ]
     },
     "execution_count": 29,
     "metadata": {},
     "output_type": "execute_result"
    }
   ],
   "source": [
    "x = 2\n",
    "x **= x\n",
    "x"
   ]
  },
  {
   "cell_type": "markdown",
   "id": "16578361",
   "metadata": {},
   "source": [
    "#### **Integer encodings**"
   ]
  },
  {
   "cell_type": "markdown",
   "id": "d8595553",
   "metadata": {},
   "source": [
    "Given a number in base-*x* with digits:\n",
    "\n",
    "$$\n",
    "N = d_n d_{n-1} \\dots d_1 d_0\n",
    "$$\n",
    "\n",
    "Each digit $d_i$ is an integer in the range $0 \\leq d_i < x$, where $x$ is the base (e.g., 2, 8, 16, etc.)."
   ]
  },
  {
   "cell_type": "markdown",
   "id": "d671a6f5",
   "metadata": {},
   "source": [
    "Decimal value:\n",
    "$$\n",
    "\\text{Decimal}(N) = \\sum_{i=0}^{n} d_i \\cdot x^i\n",
    "$$\n",
    "\n",
    "Where:\n",
    "\n",
    "* $d_0$ is the least significant digit (rightmost)\n",
    "* $d_n$ is the most significant digit (leftmost)\n",
    "* $x$ is the base\n",
    "\n"
   ]
  },
  {
   "cell_type": "markdown",
   "id": "8cfa3ea8",
   "metadata": {},
   "source": [
    "Example: Convert $1011_2$ to Decimal\n",
    "\n",
    "Binary (base 2):\n",
    "\n",
    "$$\n",
    "1011_2 = 1 \\cdot 2^3 + 0 \\cdot 2^2 + 1 \\cdot 2^1 + 1 \\cdot 2^0 = 8 + 0 + 2 + 1 = 11_{10}\n",
    "$$"
   ]
  },
  {
   "cell_type": "code",
   "execution_count": null,
   "id": "8feff60b",
   "metadata": {},
   "outputs": [
    {
     "name": "stdout",
     "output_type": "stream",
     "text": [
      "11 <class 'int'>\n",
      "124 <class 'int'>\n",
      "95 <class 'int'>\n"
     ]
    }
   ],
   "source": [
    "print(0b1011, type(0b1011)) #binary encoding\n",
    "print(0o174, type(0o17)) #octal encoding (numbers from 0 to 7), 124 = 1 * 8**2 + 7 * 8**1 + 4 * 8**0 \n",
    "print(0x5F, type(0x1A)) #hexadecimal encoding (characters from 0 to F) F = 15, so 95 = 5 * 16**1 + 15 * 16**0"
   ]
  },
  {
   "cell_type": "markdown",
   "id": "bc04b492",
   "metadata": {},
   "source": [
    "Tip: in hexadecimal encoding A..F correspond to 10..15 values:\n",
    "* A = 10\n",
    "* B = 11\n",
    "* C = 12\n",
    "* D = 13 \n",
    "* E = 14 \n",
    "* F = 15 "
   ]
  },
  {
   "cell_type": "markdown",
   "id": "e83e1b6c",
   "metadata": {},
   "source": [
    "### **Boolean type**"
   ]
  },
  {
   "cell_type": "code",
   "execution_count": 37,
   "id": "a1082428",
   "metadata": {},
   "outputs": [
    {
     "name": "stdout",
     "output_type": "stream",
     "text": [
      "<class 'bool'> False True\n"
     ]
    }
   ],
   "source": [
    "x, y = True, False\n",
    "print(type(x), not x, not y)"
   ]
  },
  {
   "cell_type": "code",
   "execution_count": null,
   "id": "cee2892e",
   "metadata": {},
   "outputs": [
    {
     "data": {
      "text/plain": [
       "(True, False, False, True, False, False)"
      ]
     },
     "execution_count": 40,
     "metadata": {},
     "output_type": "execute_result"
    }
   ],
   "source": [
    "(4 < 5, # less\n",
    "4 <= 3, # less or equal\n",
    "4 == 3, # equal\n",
    "4 != 3, # not equal\n",
    "5 > 6, # greater\n",
    "5 >= 6) # greater or equal"
   ]
  },
  {
   "cell_type": "code",
   "execution_count": null,
   "id": "081d73b8",
   "metadata": {},
   "outputs": [
    {
     "name": "stdout",
     "output_type": "stream",
     "text": [
      "True\n"
     ]
    }
   ],
   "source": [
    "print(6 < 5 and 4 != 4 or 5 > 3) # it is not clear in what order the checks will be performed\n",
    "assert (6 < 5 and 4 != 4 or 5 > 3) != (6 < 5 and (4 != 4 or 5 > 3)) # adding brackets changed expression output"
   ]
  },
  {
   "cell_type": "markdown",
   "id": "b0641449",
   "metadata": {},
   "source": [
    "<div class=\"alert alert-info\">\n",
    "    <b>Advise:</b> put parentheses in the places of the expression where the order of operations is not obvious.\n",
    "</div>"
   ]
  },
  {
   "cell_type": "code",
   "execution_count": null,
   "id": "0a633eae",
   "metadata": {},
   "outputs": [
    {
     "data": {
      "text/plain": [
       "True"
      ]
     },
     "execution_count": 52,
     "metadata": {},
     "output_type": "execute_result"
    }
   ],
   "source": [
    "((6 < 5) and (4 != 4)) or (5 > 3) # this is much better!"
   ]
  },
  {
   "cell_type": "markdown",
   "id": "62f5cb3b",
   "metadata": {},
   "source": [
    "You can make expressions with several operators"
   ]
  },
  {
   "cell_type": "code",
   "execution_count": 64,
   "id": "a3f41ece",
   "metadata": {},
   "outputs": [
    {
     "name": "stdout",
     "output_type": "stream",
     "text": [
      "True\n",
      "False\n"
     ]
    },
    {
     "data": {
      "text/plain": [
       "True"
      ]
     },
     "execution_count": 64,
     "metadata": {},
     "output_type": "execute_result"
    }
   ],
   "source": [
    "print(False == False != True)\n",
    "print((False == False) != True)\n",
    "#it is equivalent to\n",
    "(False == False) and (False != True)"
   ]
  },
  {
   "cell_type": "markdown",
   "id": "89d6f51e",
   "metadata": {},
   "source": [
    "### **String type**"
   ]
  },
  {
   "cell_type": "code",
   "execution_count": null,
   "id": "049276f1",
   "metadata": {},
   "outputs": [
    {
     "name": "stdout",
     "output_type": "stream",
     "text": [
      "'Hello' \"avocado\"  \n",
      "    ...\n",
      "    'multi'\n",
      "    \"line\"\n",
      "    '''\n",
      "    ...\n",
      " \n",
      "    ...\n",
      "    'pine'\n",
      "    \"apple\" \n",
      "    \"\"\"\n",
      "    ...\n",
      "\n",
      "Length of 'Hello' string:  7\n"
     ]
    },
    {
     "data": {
      "text/plain": [
       "(str, str)"
      ]
     },
     "execution_count": 110,
     "metadata": {},
     "output_type": "execute_result"
    }
   ],
   "source": [
    "hello = \"'Hello'\" # one line with '' inside\n",
    "avocado = '\"avocado\"' # one line with \"\" inside\n",
    "\n",
    "# several lines \n",
    "multiline = \"\"\" \n",
    "    ...\n",
    "    'multi'\n",
    "    \"line\"\n",
    "    '''\n",
    "    ...\n",
    "\"\"\"\n",
    "\n",
    "pineapple = '''\n",
    "    ...\n",
    "    'pine'\n",
    "    \"apple\" \n",
    "    \"\"\"\n",
    "    ...\n",
    "'''\n",
    "\n",
    "print(hello, avocado, multiline, pineapple)\n",
    "print(\"Length of 'Hello' string: \", len(hello)) #we can get string length\n",
    "type(hello), type(multiline)   "
   ]
  },
  {
   "cell_type": "code",
   "execution_count": null,
   "id": "b120fb22",
   "metadata": {},
   "outputs": [
    {
     "name": "stdout",
     "output_type": "stream",
     "text": [
      "Hello, world! 123456789 123456789\n"
     ]
    }
   ],
   "source": [
    "x = (\n",
    "    'Hello'\n",
    "    ', world'\n",
    "    '!'\n",
    ")\n",
    "\n",
    "y = '123' + \\\n",
    "'456' + \\\n",
    "'789'\n",
    "\n",
    "z = '123' \\\n",
    "'456' \\\n",
    "'789'\n",
    "print(x, y, z)"
   ]
  },
  {
   "cell_type": "markdown",
   "id": "f4cc927f",
   "metadata": {},
   "source": [
    "<div class=\"alert alert-info\">\n",
    "    <b>Advice:</b> despite the wide variety of quotation marks, it is worth using a single string declaration style in your code for its readability\n",
    "</div>"
   ]
  },
  {
   "cell_type": "code",
   "execution_count": 85,
   "id": "4898398c",
   "metadata": {},
   "outputs": [
    {
     "name": "stdout",
     "output_type": "stream",
     "text": [
      "Double itDouble it\n",
      "Add this to this\n"
     ]
    }
   ],
   "source": [
    "print(\"Double it\" * 2) # we can duplicate strings\n",
    "print(\"Add this \" + \"to this\") # we can concatenate strings"
   ]
  },
  {
   "cell_type": "markdown",
   "id": "38d95aa5",
   "metadata": {},
   "source": [
    "Remember: strings in Python are immutable, so when you change string, it creates a **new** string in memory with applied changes. Too frequent creation of a new string in memory may slow down your program."
   ]
  },
  {
   "cell_type": "markdown",
   "id": "998e3676",
   "metadata": {},
   "source": [
    "You can slice your string to get substring"
   ]
  },
  {
   "cell_type": "code",
   "execution_count": null,
   "id": "cee961a0",
   "metadata": {},
   "outputs": [
    {
     "name": "stdout",
     "output_type": "stream",
     "text": [
      "lo\n",
      "Hello\n",
      "world!\n",
      "!\n",
      "orld\n",
      "el\n",
      "!l\n",
      "!lo olH\n",
      "Hello, world!\n",
      "------------------------------\n",
      "Hello, world! e lo\n"
     ]
    },
    {
     "data": {
      "text/plain": [
       "(str, str, str)"
      ]
     },
     "execution_count": 124,
     "metadata": {},
     "output_type": "execute_result"
    }
   ],
   "source": [
    "string = \"Hello, world!\"\n",
    "character = string[1]  # numeration begins from 0\n",
    "print(sub_string := string[3:5]) #the right border is excluded, \n",
    "# so actually the sub_string contains 3 and 4 characters (in numeration from 0)\n",
    "\n",
    "print(string[:5]) # [0:5] we can replace with [:5]\n",
    "print(string[7:]) # [7:len(string)] we can replace with [7:]\n",
    "print(string[-1]) # you can use negative indicies, so -1 means we need to get last character of the string\n",
    "print(string[-5:-1]) # slices also work for negative indicies\n",
    "\n",
    "print(string[1:5:2]) # we can specify step in our iteration over string: \n",
    "# here we will iterate from second element with step size 2 until we will reach 5th element\n",
    "\n",
    "print(string[-1:-5:-2]) # also we can iterate backwards (slice begin and end indicies must be negative)\n",
    "\n",
    "print(string[::-2]) # we can omit some indicies (this is equivalent to [0:len(string):-2])\n",
    "print(string[::]) # returns whole string \n",
    "\n",
    "print('-'*30) # Tip: here's how you can create delimiter strings in the output for better readability\n",
    "print(string, character, sub_string)\n",
    "type(string), type(character), type(sub_string)"
   ]
  },
  {
   "cell_type": "markdown",
   "id": "0677cc52",
   "metadata": {},
   "source": [
    "<div class=\"alert alert-info\">\n",
    "    <b>Tip:</b> String slices is good replacement for iterating over a string using loops (which we'll talk about next), they make the code clearer and sometimes faster.\n",
    "</div>"
   ]
  },
  {
   "cell_type": "code",
   "execution_count": 3,
   "id": "15aa67e9",
   "metadata": {},
   "outputs": [
    {
     "name": "stdout",
     "output_type": "stream",
     "text": [
      "['one', 'two', 'three']\n"
     ]
    },
    {
     "data": {
      "text/plain": [
       "'one-two-three'"
      ]
     },
     "execution_count": 3,
     "metadata": {},
     "output_type": "execute_result"
    }
   ],
   "source": [
    "text = \"one,two,three\"\n",
    "words = text.split(\",\") \n",
    "print(words)\n",
    "\"-\".join(words) "
   ]
  },
  {
   "cell_type": "code",
   "execution_count": 6,
   "id": "8a41a41d",
   "metadata": {},
   "outputs": [],
   "source": [
    "words = [\"some_text\"] * 100000"
   ]
  },
  {
   "cell_type": "code",
   "execution_count": 10,
   "id": "3759bfbb",
   "metadata": {},
   "outputs": [
    {
     "name": "stdout",
     "output_type": "stream",
     "text": [
      "5.51 ms ± 205 μs per loop (mean ± std. dev. of 7 runs, 100 loops each)\n"
     ]
    }
   ],
   "source": [
    "%%timeit\n",
    "# Bad example\n",
    "text_with_hyphen = words[0]\n",
    "for word in words[1:]:\n",
    "    text_with_hyphen += \"-\" + word"
   ]
  },
  {
   "cell_type": "code",
   "execution_count": 11,
   "id": "8b40131f",
   "metadata": {},
   "outputs": [
    {
     "name": "stdout",
     "output_type": "stream",
     "text": [
      "578 μs ± 2.44 μs per loop (mean ± std. dev. of 7 runs, 1,000 loops each)\n"
     ]
    }
   ],
   "source": [
    "%%timeit\n",
    "'-'.join(words)"
   ]
  },
  {
   "cell_type": "code",
   "execution_count": null,
   "id": "a68aa1f5",
   "metadata": {},
   "outputs": [],
   "source": [
    "# What will be printed in each line?\n",
    "print(\"\".join(\"abc\"))\n",
    "print(\",\".join(\"123\"))\n",
    "print(\"a b  c\".split())"
   ]
  },
  {
   "cell_type": "markdown",
   "id": "7c6a30a6",
   "metadata": {},
   "source": [
    "**Almost 10x faster!**"
   ]
  },
  {
   "cell_type": "markdown",
   "id": "466a2da2",
   "metadata": {},
   "source": [
    "Explanation: Strings are immutable objects, so when we execute `+=' on each iteration of the loop, we create a new string with the result of concatenation, so in fact we allocate unnecessary memory. When we save strings as a list and then merge them, the merge operation does not perform unnecessary memory operations. Keep this in mind when you solve some algorithm problems with strings."
   ]
  },
  {
   "cell_type": "code",
   "execution_count": 12,
   "id": "f32ef316",
   "metadata": {},
   "outputs": [
    {
     "name": "stdout",
     "output_type": "stream",
     "text": [
      "Sweet home, Alabama 90!\n",
      "Sweet home, Alabama 90!\n"
     ]
    }
   ],
   "source": [
    "# You can use string formatting for inserting str() representations of other objects\n",
    "name = \"Alabama\"\n",
    "number = 90\n",
    "print(f\"Sweet home, {name} {number}!\") # ne variant\n",
    "print(\"Sweet {}, {} {}!\".format(\"home\", name, number)) #old variant"
   ]
  },
  {
   "cell_type": "code",
   "execution_count": null,
   "id": "c853de9d",
   "metadata": {},
   "outputs": [
    {
     "name": "stdout",
     "output_type": "stream",
     "text": [
      "<built-in function min>!\n"
     ]
    }
   ],
   "source": [
    "# What will be printed in each line?\n",
    "print(f\"{min}!\")\n",
    "print(f\"{1/0=}\")"
   ]
  },
  {
   "cell_type": "code",
   "execution_count": null,
   "id": "aa1460d1",
   "metadata": {},
   "outputs": [
    {
     "name": "stdout",
     "output_type": "stream",
     "text": [
      "some text \n",
      " more text\n",
      "some text \t more text\n",
      "some text \n",
      " more text\n"
     ]
    }
   ],
   "source": [
    "#There are special characters in python\n",
    "print('some text \\n more text') #new line\n",
    "print('some text \\t more text') #TAB\n",
    "print('\\\\') #print backslash\n",
    "print('\\'') #print quote `'`\n",
    "print(\"\\\"\") #print double quote `\"`\n",
    "print('some text\\b') #backslash"
   ]
  },
  {
   "cell_type": "code",
   "execution_count": null,
   "id": "48e5378b",
   "metadata": {},
   "outputs": [],
   "source": [
    "from time import sleep\n",
    "print('some text ')\n",
    "sleep(5)\n",
    "print('\\r more text') # carriage return\t"
   ]
  },
  {
   "cell_type": "code",
   "execution_count": 29,
   "id": "229d6bf1",
   "metadata": {},
   "outputs": [
    {
     "name": "stdout",
     "output_type": "stream",
     "text": [
      "some text \\n more text\n",
      "some text \\\\ more text\n",
      "C:\\better\\use\\linux\\it\\is\\more\\convenient\\for\\developing\n",
      "C:\\better\\use\\linux\\it\\is\\more\\convenient\\for\\developing\n"
     ]
    }
   ],
   "source": [
    "#if we don't want to use special symbols, we can use raw string\n",
    "print(r\"some text \\n more text\")\n",
    "print(r\"some text \\\\ more text\")\n",
    "#Tip: this is usefull, when u want to type some file path in Windows\n",
    "print(r\"C:\\better\\use\\linux\\it\\is\\more\\convenient\\for\\developing\")  \n",
    "# Looks more readable, than this:\n",
    "print(\"C:\\\\better\\\\use\\\\linux\\\\it\\\\is\\\\more\\\\convenient\\\\for\\\\developing\")  "
   ]
  },
  {
   "cell_type": "markdown",
   "id": "8042eec2",
   "metadata": {},
   "source": [
    "### **String encoding**"
   ]
  },
  {
   "cell_type": "markdown",
   "id": "4c70bf9e",
   "metadata": {},
   "source": [
    "Each character in memory is stored as a sequence of 0s and 1s. So there are many ways you can convert the same character into a sequence of bits. ASCII and UTF-8 are two of them."
   ]
  },
  {
   "cell_type": "markdown",
   "id": "32a91c1f",
   "metadata": {},
   "source": [
    "In ASCII only 128 charachters are presented, so they are encoded with 1 byte (the highest digit is always 0)"
   ]
  },
  {
   "attachments": {
    "image.png": {
     "image/png": "[encoded data removed]"
    }
   },
   "cell_type": "markdown",
   "id": "89412a70",
   "metadata": {},
   "source": [
    "![image.png](attachment:image.png)\n",
    "\n"
   ]
  },
  {
   "cell_type": "markdown",
   "id": "c7288497",
   "metadata": {},
   "source": [
    "UTF-8 extends ASCII and has a dynamic size encoding (this means that some characters are 8 bits (1 byte) long, and some characters are 32 bits long). Thus, up to 1,112,064 different characters can be encoded in UTF-8. UTF-8 and ASCII are backward compatible, so if you have text encoded in ASCII, a UTF-8 reader can read it, but not in the opposite direction: not every UTF-8 encoded character sequence cannot be decoded by an ASCII reader."
   ]
  },
  {
   "cell_type": "markdown",
   "id": "f1cca280",
   "metadata": {},
   "source": [
    "Tips: in python internally in memory strings are stored in UTF-8 encoding by default"
   ]
  },
  {
   "cell_type": "code",
   "execution_count": 111,
   "id": "6295cb02",
   "metadata": {},
   "outputs": [
    {
     "name": "stdout",
     "output_type": "stream",
     "text": [
      "b'A' <class 'bytes'>\n",
      "b'A' <class 'bytes'>\n",
      "A <class 'str'>\n"
     ]
    }
   ],
   "source": [
    "# You can make bytes sequences using hexadecimal and octal notation\n",
    "print(b'\\x41', type(b'\\x41')) #hexadecimal notation. ASCII code for A is 65, so 65 = 4 * 16 + 1\n",
    "print(b'\\101', type(b'\\101')) #octal notation 65 = 1 * 8**2 + 0 * 8**1 + 1 * 8**0\n",
    "print('\\u0041', type('\\u0041')) #Unicode notation, which is also hexadecimal notation (but for string not bytes)"
   ]
  },
  {
   "cell_type": "markdown",
   "id": "7774a040",
   "metadata": {},
   "source": [
    "Python print can display a sequence of bytes in a human-readable format, so it will display a decoded UTF-8 sequence, rather than a sequence of 0 and 1. If some byte print cannot decode, it will display this byte in hex format: '\\xA2'"
   ]
  },
  {
   "cell_type": "code",
   "execution_count": 79,
   "id": "ac122003",
   "metadata": {},
   "outputs": [
    {
     "name": "stdout",
     "output_type": "stream",
     "text": [
      "b'some ASCII string'\n",
      "0111001101101111011011010110010100100000010000010101001101000011010010010100100100100000011100110111010001110010011010010110111001100111\n",
      "b'some ASCII string\\xcc'\n"
     ]
    }
   ],
   "source": [
    "bytes_string = \"some ASCII string\".encode('ascii')\n",
    "print(bytes_string)\n",
    "print(''.join(format(byte, '08b') for byte in bytes_string)) # but we can see byte sequence\n",
    "print(bytes_string + bytes([0b11001100]))"
   ]
  },
  {
   "cell_type": "code",
   "execution_count": null,
   "id": "23f609eb",
   "metadata": {},
   "outputs": [
    {
     "name": "stdout",
     "output_type": "stream",
     "text": [
      "hello world\n",
      "hello world\n"
     ]
    }
   ],
   "source": [
    "bin_sequence = b'\\x68\\x65\\x6c\\x6c\\x6f\\x20\\x77\\x6f\\x72\\x6c\\x64'\n",
    "print(bin_sequence.decode('ascii')) # you can also decode bytes to string\n",
    "print(bin_sequence.decode('utf-8'))"
   ]
  },
  {
   "cell_type": "code",
   "execution_count": 117,
   "id": "bdffd082",
   "metadata": {},
   "outputs": [
    {
     "name": "stdout",
     "output_type": "stream",
     "text": [
      "👺\n"
     ]
    },
    {
     "ename": "UnicodeDecodeError",
     "evalue": "'ascii' codec can't decode byte 0xf0 in position 0: ordinal not in range(128)",
     "output_type": "error",
     "traceback": [
      "\u001b[31m---------------------------------------------------------------------------\u001b[39m",
      "\u001b[31mUnicodeDecodeError\u001b[39m                        Traceback (most recent call last)",
      "\u001b[36mCell\u001b[39m\u001b[36m \u001b[39m\u001b[32mIn[117]\u001b[39m\u001b[32m, line 3\u001b[39m\n\u001b[32m      1\u001b[39m emoji_bin_sequence = \u001b[33mb\u001b[39m\u001b[33m'\u001b[39m\u001b[38;5;130;01m\\xf0\u001b[39;00m\u001b[38;5;130;01m\\x9f\u001b[39;00m\u001b[38;5;130;01m\\x91\u001b[39;00m\u001b[38;5;130;01m\\xba\u001b[39;00m\u001b[33m'\u001b[39m\n\u001b[32m      2\u001b[39m \u001b[38;5;28mprint\u001b[39m(emoji_bin_sequence.decode(\u001b[33m'\u001b[39m\u001b[33mutf-8\u001b[39m\u001b[33m'\u001b[39m))\n\u001b[32m----> \u001b[39m\u001b[32m3\u001b[39m \u001b[38;5;28mprint\u001b[39m(\u001b[43memoji_bin_sequence\u001b[49m\u001b[43m.\u001b[49m\u001b[43mdecode\u001b[49m\u001b[43m(\u001b[49m\u001b[33;43m'\u001b[39;49m\u001b[33;43mascii\u001b[39;49m\u001b[33;43m'\u001b[39;49m\u001b[43m)\u001b[49m)\n",
      "\u001b[31mUnicodeDecodeError\u001b[39m: 'ascii' codec can't decode byte 0xf0 in position 0: ordinal not in range(128)"
     ]
    }
   ],
   "source": [
    "emoji_bin_sequence = b'\\xf0\\x9f\\x91\\xba'\n",
    "print(emoji_bin_sequence.decode('utf-8'))\n",
    "print(emoji_bin_sequence.decode('ascii'))"
   ]
  },
  {
   "cell_type": "code",
   "execution_count": null,
   "id": "ecd6328c",
   "metadata": {},
   "outputs": [
    {
     "name": "stdout",
     "output_type": "stream",
     "text": [
      "8747\n",
      "0b110111\n",
      "0b1000001\n",
      "0b11111010001111010\n"
     ]
    }
   ],
   "source": [
    "print(ord('∫')) # ord returns integer value, which binary representation is actually encoding of character\n",
    "print(bin(55)) # bin prints integer as sequence of 0 and 1\n",
    "\n",
    "print(bin(ord('A'))) #this symbol is encoded in one byte (because it is ASCII character)\n",
    "print(bin(ord('👺'))) #this symbol is encoded in two bytes"
   ]
  },
  {
   "cell_type": "code",
   "execution_count": null,
   "id": "48ef74f1",
   "metadata": {},
   "outputs": [
    {
     "name": "stdout",
     "output_type": "stream",
     "text": [
      "b'A'\n",
      "b'A'\n",
      "b'\\xf0\\x9f\\x91\\xba'\n"
     ]
    },
    {
     "ename": "UnicodeEncodeError",
     "evalue": "'ascii' codec can't encode character '\\U0001f47a' in position 0: ordinal not in range(128)",
     "output_type": "error",
     "traceback": [
      "\u001b[31m---------------------------------------------------------------------------\u001b[39m",
      "\u001b[31mUnicodeEncodeError\u001b[39m                        Traceback (most recent call last)",
      "\u001b[36mCell\u001b[39m\u001b[36m \u001b[39m\u001b[32mIn[93]\u001b[39m\u001b[32m, line 5\u001b[39m\n\u001b[32m      3\u001b[39m \u001b[38;5;28mprint\u001b[39m(\u001b[33m'\u001b[39m\u001b[33mA\u001b[39m\u001b[33m'\u001b[39m.encode(\u001b[33m'\u001b[39m\u001b[33mascii\u001b[39m\u001b[33m'\u001b[39m))\n\u001b[32m      4\u001b[39m \u001b[38;5;28mprint\u001b[39m(\u001b[33m'\u001b[39m\u001b[33m👺\u001b[39m\u001b[33m'\u001b[39m.encode(\u001b[33m'\u001b[39m\u001b[33mutf-8\u001b[39m\u001b[33m'\u001b[39m))\n\u001b[32m----> \u001b[39m\u001b[32m5\u001b[39m \u001b[38;5;28mprint\u001b[39m(\u001b[33;43m'\u001b[39;49m\u001b[33;43m👺\u001b[39;49m\u001b[33;43m'\u001b[39;49m\u001b[43m.\u001b[49m\u001b[43mencode\u001b[49m\u001b[43m(\u001b[49m\u001b[33;43m'\u001b[39;49m\u001b[33;43mascii\u001b[39;49m\u001b[33;43m'\u001b[39;49m\u001b[43m)\u001b[49m)\n",
      "\u001b[31mUnicodeEncodeError\u001b[39m: 'ascii' codec can't encode character '\\U0001f47a' in position 0: ordinal not in range(128)"
     ]
    }
   ],
   "source": [
    "#What will be printed?\n",
    "print('\\x41'.encode('utf-8'))\n",
    "print('A'.encode('ascii'))\n",
    "print('👺'.encode('utf-8'))\n",
    "print('👺'.encode('ascii'))"
   ]
  },
  {
   "cell_type": "markdown",
   "id": "5648af46",
   "metadata": {},
   "source": [
    "## **Data structures**"
   ]
  },
  {
   "cell_type": "markdown",
   "id": "4f95557f",
   "metadata": {},
   "source": [
    "### **List**"
   ]
  },
  {
   "cell_type": "code",
   "execution_count": null,
   "id": "99922fdc",
   "metadata": {},
   "outputs": [
    {
     "name": "stdout",
     "output_type": "stream",
     "text": [
      "[] [] [0, 1, 2] [5, 5, 5, 5]\n"
     ]
    }
   ],
   "source": [
    "l1, l2, l3, l4 = list(), [], [0, 1, 2], [5]*4\n",
    "print(l1, l2, l3, l4)"
   ]
  },
  {
   "cell_type": "code",
   "execution_count": 161,
   "id": "be2ca163",
   "metadata": {},
   "outputs": [
    {
     "name": "stdout",
     "output_type": "stream",
     "text": [
      "['str', 3, 3.2, True, [3, 'str2']]\n",
      "5\n",
      "3.2\n",
      "[3, 'str2']\n",
      "2\n",
      "str2\n",
      "['str', 3.2]\n",
      "[1, 2, 3, 4]\n",
      "[2, 3, 2, 3, 2, 3, 2, 3]\n",
      "True\n",
      "True\n"
     ]
    }
   ],
   "source": [
    "l1 = ['str', 3, 3.2, True, [3, 'str2']]\n",
    "print(l1)\n",
    "print(len(l1))\n",
    "print(l1[2])\n",
    "print(l1[-1])\n",
    "print(len(l1[-1]))\n",
    "print(l1[4][1])\n",
    "print(l1[0:3:2])\n",
    "print([1, 2] + [3, 4])\n",
    "print([2, 3] * 4)\n",
    "print(4 in [1, 4, 5])\n",
    "print([3, \"4\"] in [3, \"dfs\", [3, \"4\"]])"
   ]
  },
  {
   "cell_type": "code",
   "execution_count": 140,
   "id": "b57ee39d",
   "metadata": {},
   "outputs": [
    {
     "name": "stdout",
     "output_type": "stream",
     "text": [
      "[1, 2, 3, 4]\n",
      "[1, 2, 3, 4]\n",
      "[1, 2, 3]\n",
      "[1, 2, 4]\n"
     ]
    }
   ],
   "source": [
    "l1 = [1, 2, 3]\n",
    "l1.append(4)\n",
    "print(l1)\n",
    "\n",
    "l1 = [1, 2, 3]\n",
    "l1 += [4]\n",
    "print(l1)\n",
    "\n",
    "l1 = [1, 2, 3, 4]\n",
    "l1.pop()\n",
    "print(l1)\n",
    "\n",
    "l1 = [1, 2, 3, 4]\n",
    "l1.pop(2)\n",
    "print(l1)"
   ]
  },
  {
   "cell_type": "markdown",
   "id": "1deb22bf",
   "metadata": {},
   "source": [
    "<div class=\"alert alert-danger\">\n",
    "    <b>Attention:</b> It is not recommended to use different types in the same list.\n",
    "</div>"
   ]
  },
  {
   "cell_type": "markdown",
   "id": "826c1e84",
   "metadata": {},
   "source": [
    "Lists that are not uniform in type can cause unexpected errors, which leads to the need for additional checks."
   ]
  },
  {
   "cell_type": "code",
   "execution_count": null,
   "id": "193f3f34",
   "metadata": {},
   "outputs": [
    {
     "name": "stdout",
     "output_type": "stream",
     "text": [
      "7.4\n",
      "Hello\n"
     ]
    }
   ],
   "source": [
    "from typing import Any\n",
    "\n",
    "def func(l):\n",
    "    if len(l) == 0:\n",
    "        return None\n",
    "    s = l[0]\n",
    "    for element in l[1:]:\n",
    "        s += element\n",
    "    return s\n",
    "\n",
    "print(func([0.5, 3, 3.9]))\n",
    "print(func([\"He\", \"ll\", \"o\"]))"
   ]
  },
  {
   "cell_type": "code",
   "execution_count": 145,
   "id": "ed3fef69",
   "metadata": {},
   "outputs": [
    {
     "ename": "TypeError",
     "evalue": "unsupported operand type(s) for +=: 'float' and 'str'",
     "output_type": "error",
     "traceback": [
      "\u001b[31m---------------------------------------------------------------------------\u001b[39m",
      "\u001b[31mTypeError\u001b[39m                                 Traceback (most recent call last)",
      "\u001b[36mCell\u001b[39m\u001b[36m \u001b[39m\u001b[32mIn[145]\u001b[39m\u001b[32m, line 1\u001b[39m\n\u001b[32m----> \u001b[39m\u001b[32m1\u001b[39m \u001b[38;5;28mprint\u001b[39m(\u001b[43mfunc\u001b[49m\u001b[43m(\u001b[49m\u001b[43m[\u001b[49m\u001b[32;43m0.5\u001b[39;49m\u001b[43m,\u001b[49m\u001b[43m \u001b[49m\u001b[32;43m3\u001b[39;49m\u001b[43m,\u001b[49m\u001b[43m \u001b[49m\u001b[33;43m\"\u001b[39;49m\u001b[33;43mo\u001b[39;49m\u001b[33;43m\"\u001b[39;49m\u001b[43m]\u001b[49m\u001b[43m)\u001b[49m)\n",
      "\u001b[36mCell\u001b[39m\u001b[36m \u001b[39m\u001b[32mIn[144]\u001b[39m\u001b[32m, line 8\u001b[39m, in \u001b[36mfunc\u001b[39m\u001b[34m(l)\u001b[39m\n\u001b[32m      6\u001b[39m s = l[\u001b[32m0\u001b[39m]\n\u001b[32m      7\u001b[39m \u001b[38;5;28;01mfor\u001b[39;00m element \u001b[38;5;129;01min\u001b[39;00m l[\u001b[32m1\u001b[39m:]:\n\u001b[32m----> \u001b[39m\u001b[32m8\u001b[39m     \u001b[43ms\u001b[49m\u001b[43m \u001b[49m\u001b[43m+\u001b[49m\u001b[43m=\u001b[49m\u001b[43m \u001b[49m\u001b[43melement\u001b[49m\n\u001b[32m      9\u001b[39m \u001b[38;5;28;01mreturn\u001b[39;00m s\n",
      "\u001b[31mTypeError\u001b[39m: unsupported operand type(s) for +=: 'float' and 'str'"
     ]
    }
   ],
   "source": [
    "print(func([0.5, 3, \"o\"]))"
   ]
  },
  {
   "cell_type": "code",
   "execution_count": 146,
   "id": "ba80b101",
   "metadata": {},
   "outputs": [],
   "source": [
    "def func_safe(l):\n",
    "    if len(l) == 0:\n",
    "        return None\n",
    "    s = l[0]\n",
    "    for element in l[1:]:\n",
    "        try:\n",
    "            s += element\n",
    "        except TypeError:\n",
    "            return None\n",
    "    return s"
   ]
  },
  {
   "cell_type": "code",
   "execution_count": 148,
   "id": "dbad739e",
   "metadata": {},
   "outputs": [
    {
     "name": "stdout",
     "output_type": "stream",
     "text": [
      "None\n"
     ]
    }
   ],
   "source": [
    "print(func_safe([0.5, 3, \"o\"]))"
   ]
  },
  {
   "cell_type": "markdown",
   "id": "2473734a",
   "metadata": {},
   "source": [
    "<div class=\"alert alert-info\">\n",
    "    <b>Advise:</b> Make sure that the lists do not self-loop, this can lead to very unexpected consequences.\n",
    "</div>"
   ]
  },
  {
   "cell_type": "code",
   "execution_count": 150,
   "id": "9ea9d495",
   "metadata": {},
   "outputs": [
    {
     "name": "stdout",
     "output_type": "stream",
     "text": [
      "['axe', [...]]\n",
      "['pickaxe', [...]]\n"
     ]
    }
   ],
   "source": [
    "tools = ['axe']\n",
    "tools.append(tools)\n",
    "print(tools[1][1][1])\n",
    "tools[0] = 'pick' + tools[0]\n",
    "print(tools[1][1][1])"
   ]
  },
  {
   "cell_type": "markdown",
   "id": "d7d409ed",
   "metadata": {},
   "source": [
    "### **Tuple**"
   ]
  },
  {
   "cell_type": "markdown",
   "id": "e66ed67b",
   "metadata": {},
   "source": [
    "Tuples are immutable objects, so once they are created, no one can change them."
   ]
  },
  {
   "cell_type": "code",
   "execution_count": 167,
   "id": "79f8791b",
   "metadata": {},
   "outputs": [
    {
     "name": "stdout",
     "output_type": "stream",
     "text": [
      "(1, 2, 3, 3, True, '32332344')\n",
      "(3, True, '32332344', 3, True, '32332344')\n",
      "(3, True)\n"
     ]
    }
   ],
   "source": [
    "t1, t2, t3 = (1, 2, 3), (3, True, '32332344'), (1, list)\n",
    "t4, t5 = tuple(), (4, )\n",
    "print(t1 + t2) # we concat two tuples\n",
    "print(t2 * 2) # we repeat tuple  \n",
    "print(t2[:2]) # we can use slicing as in lists and strings"
   ]
  },
  {
   "cell_type": "code",
   "execution_count": 183,
   "id": "3d05d7cc",
   "metadata": {},
   "outputs": [
    {
     "ename": "TypeError",
     "evalue": "'tuple' object does not support item assignment",
     "output_type": "error",
     "traceback": [
      "\u001b[31m---------------------------------------------------------------------------\u001b[39m",
      "\u001b[31mTypeError\u001b[39m                                 Traceback (most recent call last)",
      "\u001b[36mCell\u001b[39m\u001b[36m \u001b[39m\u001b[32mIn[183]\u001b[39m\u001b[32m, line 1\u001b[39m\n\u001b[32m----> \u001b[39m\u001b[32m1\u001b[39m \u001b[43mt1\u001b[49m\u001b[43m[\u001b[49m\u001b[32;43m0\u001b[39;49m\u001b[43m]\u001b[49m = \u001b[32m2\u001b[39m\n",
      "\u001b[31mTypeError\u001b[39m: 'tuple' object does not support item assignment"
     ]
    }
   ],
   "source": [
    "t1[0] = 2"
   ]
  },
  {
   "cell_type": "markdown",
   "id": "a2addfdb",
   "metadata": {},
   "source": [
    "#### **Packing and unpacking**"
   ]
  },
  {
   "cell_type": "code",
   "execution_count": null,
   "id": "f307ce43",
   "metadata": {},
   "outputs": [
    {
     "name": "stdout",
     "output_type": "stream",
     "text": [
      "42 Gauss <built-in function sum>\n",
      "42 ['Gauss', <built-in function sum>]\n",
      "[42, 'Gauss'] <built-in function sum>\n",
      "1 2 [3, 4] 5\n",
      "a b ['c', 'd', 'e', 'f'] g\n"
     ]
    }
   ],
   "source": [
    "some_tuple = 42, \"Gauss\", sum #u pack several values in one tuple \"some_tuple\"\n",
    "\n",
    "a, b, c = some_tuple\n",
    "print(a, b, c)\n",
    "\n",
    "a, *bc = some_tuple\n",
    "print(a, bc)\n",
    "\n",
    "*ab, c = some_tuple\n",
    "print(ab, c)\n",
    "\n",
    "first, second, *other, last= [1, 2, 3, 4 ,5] # u can also do starred unpacking with lists and strings!\n",
    "print(first, second, other, last)\n",
    "\n",
    "first, second, *other, last= \"abcdefg\"\n",
    "print(first, second, other, last)"
   ]
  },
  {
   "cell_type": "markdown",
   "id": "ee97de05",
   "metadata": {},
   "source": [
    "### **Dict**"
   ]
  },
  {
   "cell_type": "markdown",
   "id": "281c32a4",
   "metadata": {},
   "source": [
    "A dictionary in Python is a collection of key-value pairs.\n",
    "Keys must be unique and hashable.\n",
    "Values can be anything.\n",
    "Any object, which is hashable can be a key in dict"
   ]
  },
  {
   "cell_type": "code",
   "execution_count": null,
   "id": "650a8b2c",
   "metadata": {},
   "outputs": [
    {
     "name": "stdout",
     "output_type": "stream",
     "text": [
      "1.13\n",
      "dict_keys(['Poincare', True, <class 'float'>, (1, 2, 4), None])\n",
      "dict_values([42, <built-in function sum>, 1.13, 'dsd', <module 'numpy' from '/Users/m.akhtyrchenko/miniconda3/lib/python3.13/site-packages/numpy/__init__.py'>])\n",
      "dict_items([('Poincare', 42), (True, <built-in function sum>), (<class 'float'>, 1.13), ((1, 2, 4), 'dsd'), (None, <module 'numpy' from '/Users/m.akhtyrchenko/miniconda3/lib/python3.13/site-packages/numpy/__init__.py'>)])\n",
      "None\n",
      "None\n",
      "True\n",
      "<built-in function sum>\n"
     ]
    }
   ],
   "source": [
    "import numpy\n",
    "dict = {\n",
    "    'Poincare': 42, \n",
    "    True: sum, #builtin method is hashable\n",
    "    float: 1.13, #type is hashable\n",
    "    (1, 2, 4): \"40k\", #tuple is hashable and immutable\n",
    "    None: numpy #None is hashable and imported packages are also hashable\n",
    "    }\n",
    "\n",
    "print(dict[float]) # if there is no float key this code will fail\n",
    "print(dict.keys())\n",
    "print(dict.values())\n",
    "print(dict.items())\n",
    "print(dict.get(str, 4)) # if there is no str key .get() will return default value\n",
    "del dict[float]\n",
    "print(dict.get(float)) # we removed key float\n",
    "print(True in dict) # we can check whether key exist in the dict\n",
    "print(dict.pop(True)) # deletes a key, but returns a value\n"
   ]
  },
  {
   "cell_type": "code",
   "execution_count": null,
   "id": "a13d9f3d",
   "metadata": {},
   "outputs": [],
   "source": [
    "d = {1: 'a', True: 'b', 1.0: 'c'}\n",
    "d"
   ]
  },
  {
   "cell_type": "code",
   "execution_count": null,
   "id": "0cab3851",
   "metadata": {},
   "outputs": [
    {
     "ename": "TypeError",
     "evalue": "unhashable type: 'dict'",
     "output_type": "error",
     "traceback": [
      "\u001b[31m---------------------------------------------------------------------------\u001b[39m",
      "\u001b[31mTypeError\u001b[39m                                 Traceback (most recent call last)",
      "\u001b[36mCell\u001b[39m\u001b[36m \u001b[39m\u001b[32mIn[208]\u001b[39m\u001b[32m, line 1\u001b[39m\n\u001b[32m----> \u001b[39m\u001b[32m1\u001b[39m \u001b[38;5;28mdict\u001b[39m = {\n\u001b[32m      2\u001b[39m     \u001b[38;5;66;03m# [1, 2]: 42, # list is unhashable, so it cannot be dict key,\u001b[39;00m\n\u001b[32m      3\u001b[39m     {\u001b[33m'\u001b[39m\u001b[33mk\u001b[39m\u001b[33m'\u001b[39m: \u001b[32m2\u001b[39m}: \u001b[32m3\u001b[39m \u001b[38;5;66;03m# dict is also unhashable, so it also cannot be dict key\u001b[39;00m\n\u001b[32m      4\u001b[39m }\n",
      "\u001b[31mTypeError\u001b[39m: unhashable type: 'dict'"
     ]
    }
   ],
   "source": [
    "dict = {\n",
    "    [1, 2]: 42, # list is unhashable, so it cannot be dict key,\n",
    "    {'k': 2}: 3 # dict is also unhashable, so it also cannot be dict key\n",
    "}"
   ]
  },
  {
   "cell_type": "markdown",
   "id": "c67c4a8d",
   "metadata": {},
   "source": [
    "<div class=\"alert alert-info\">\n",
    "    <b>Advise:</b> straight adressing to dict via key is unsafe, use .get() method instead\n",
    "</div>"
   ]
  },
  {
   "cell_type": "markdown",
   "id": "e9023ce9",
   "metadata": {},
   "source": [
    "<div class=\"alert alert-danger\">\n",
    "    <b>Attention:</b> It is not recommended to use different types in keys in the same dict.\n",
    "</div>"
   ]
  },
  {
   "cell_type": "markdown",
   "id": "ae680d25",
   "metadata": {},
   "source": [
    "Same reason as in list"
   ]
  },
  {
   "cell_type": "markdown",
   "id": "db29cdea",
   "metadata": {},
   "source": [
    "### **Set**"
   ]
  },
  {
   "cell_type": "markdown",
   "id": "05af9fbf",
   "metadata": {},
   "source": [
    "A set is an unordered, mutable collection of unique elements.\n",
    "No duplicate values. Useful for fast membership tests, removing duplicates, and performing set operations like union or intersection"
   ]
  },
  {
   "cell_type": "code",
   "execution_count": null,
   "id": "65cc9a6c",
   "metadata": {},
   "outputs": [
    {
     "name": "stdout",
     "output_type": "stream",
     "text": [
      "{<class 'float'>, 42, None, 'Dirak'}\n",
      "{<class 'float'>, 42, 'Dirak'}\n",
      "{1, 2, 3, 4, 6}\n",
      "{2, 4}\n",
      "{1, 3}\n",
      "False\n"
     ]
    }
   ],
   "source": [
    "s1, s2 = set(), {42, \"Dirak\", float} # is not compatible with unhashable types\n",
    "s2.add(None)\n",
    "print(s2)\n",
    "s2.remove(None)\n",
    "s2.discard(True)\n",
    "print(s2)\n",
    "\n",
    "s1, s2 = {1, 2, 3, 4}, {2, 4, 6}\n",
    "print(s1 | s2) # union\n",
    "print(s1 & s2) # intersection\n",
    "print(s1 - s2) # difference\n",
    "print(s1 <= s2) # is subset or not"
   ]
  },
  {
   "cell_type": "markdown",
   "id": "7a346349",
   "metadata": {},
   "source": [
    "## **Control Flow**"
   ]
  },
  {
   "cell_type": "markdown",
   "id": "a6545056",
   "metadata": {},
   "source": [
    "### **If clause**"
   ]
  },
  {
   "cell_type": "markdown",
   "id": "7d5cce89",
   "metadata": {},
   "source": [
    "```python\n",
    "if condition1:\n",
    "    # block 1\n",
    "elif condition2:\n",
    "    # block 2\n",
    "elif condition3:\n",
    "    # block 3\n",
    "    ...\n",
    "else:\n",
    "    # default block\n"
   ]
  },
  {
   "cell_type": "code",
   "execution_count": null,
   "id": "f1a61f25",
   "metadata": {},
   "outputs": [],
   "source": [
    "x = 3\n",
    "if x > 0:\n",
    "    print('Is greater than 0')\n",
    "elif x < 0:\n",
    "    print('Is less than 0')\n",
    "elif x == 0:\n",
    "    print('Is equal 0')\n",
    "else:\n",
    "    print(42)"
   ]
  },
  {
   "cell_type": "markdown",
   "id": "eb491a7a",
   "metadata": {},
   "source": [
    "<div class=\"alert alert-danger\">\n",
    "<b>Attention:</b> don't add redundant brackets, they reduce readability\n",
    "</div>"
   ]
  },
  {
   "cell_type": "code",
   "execution_count": null,
   "id": "caccbcc4",
   "metadata": {},
   "outputs": [],
   "source": [
    "if (x > 0):\n",
    "    print('Is greater than 0')\n",
    "elif (x < 0):\n",
    "    print('Is less than 0')\n",
    "elif (x == 0):\n",
    "    print('Is equal 0')\n",
    "else:\n",
    "    print(42)"
   ]
  },
  {
   "cell_type": "markdown",
   "id": "18510d87",
   "metadata": {},
   "source": [
    "<div class=\"alert alert-info \">\n",
    "<b>Advice:</b> try to avoid excessive nesting, as it makes the code harder to read and understand.\n",
    "</div>"
   ]
  },
  {
   "cell_type": "markdown",
   "id": "9e05579b",
   "metadata": {},
   "source": [
    "<div class=\"alert alert-info \">\n",
    "<b>Advice:</b> try to minimize the number of conditions to be checked and discard unnecessary checks\n",
    "</div>"
   ]
  },
  {
   "cell_type": "markdown",
   "id": "7a9e5314",
   "metadata": {},
   "source": [
    "Task: check that x is not divisible by 2, 3, or 6"
   ]
  },
  {
   "cell_type": "code",
   "execution_count": 220,
   "id": "380b52be",
   "metadata": {},
   "outputs": [],
   "source": [
    "# Bad example \n",
    "def check_div(x):\n",
    "    if x % 2 != 0:\n",
    "        if x % 3 != 0:\n",
    "            if x % 6 != 0:\n",
    "                return True\n",
    "            else:\n",
    "                return False\n",
    "        else:\n",
    "            return False\n",
    "    else:\n",
    "        return False"
   ]
  },
  {
   "cell_type": "code",
   "execution_count": null,
   "id": "e63361c2",
   "metadata": {},
   "outputs": [],
   "source": [
    "# Good example\n",
    "def check_div(x):\n",
    "    if not ((x % 2 == 0) or (x % 3 == 0)):\n",
    "        return True\n",
    "    return False"
   ]
  },
  {
   "cell_type": "markdown",
   "id": "13cdff5d",
   "metadata": {},
   "source": [
    "<div class=\"alert alert-info \">\n",
    "<b>Advice:</b> try to avoid long if expressions. in such cases, algorithmize the check\n",
    "</div>"
   ]
  },
  {
   "cell_type": "markdown",
   "id": "95de423c",
   "metadata": {},
   "source": [
    "Task: check whether character is upper or lower case"
   ]
  },
  {
   "cell_type": "code",
   "execution_count": null,
   "id": "6af9cbbd",
   "metadata": {},
   "outputs": [],
   "source": [
    "# Very bad solution\n",
    "def is_upper_case(char: str):\n",
    "    if not isinstance(char, str) and len(char) != 1: # safecheck\n",
    "        raise Exception('Incorrect input')\n",
    "    if char == 'A':\n",
    "        return True\n",
    "    elif char == 'B':\n",
    "        return True\n",
    "    elif char == 'C':\n",
    "        return True\n",
    "    elif char == 'D':\n",
    "        return True\n",
    "    elif char == 'E':\n",
    "        return True\n",
    "    elif char == 'F':\n",
    "        return True\n",
    "    elif char == 'G':\n",
    "        return True\n",
    "    elif char == 'H':\n",
    "        return True\n",
    "    elif char == 'I':\n",
    "        return True\n",
    "    elif char == 'J':\n",
    "        return True\n",
    "    elif char == 'K':\n",
    "        return True\n",
    "    elif char == 'L':\n",
    "        return True\n",
    "    elif char == 'M':\n",
    "        return True\n",
    "    elif char == 'N':\n",
    "        return True\n",
    "    elif char == 'O':\n",
    "        return True\n",
    "    elif char == 'P':\n",
    "        return True\n",
    "    elif char == 'Q':\n",
    "        return True\n",
    "    elif char == 'R':\n",
    "        return True\n",
    "    elif char == 'S':\n",
    "        return True\n",
    "    elif char == 'T':\n",
    "        return True\n",
    "    elif char == 'U':\n",
    "        return True\n",
    "    elif char == 'V':\n",
    "        return True\n",
    "    elif char == 'W':\n",
    "        return True\n",
    "    elif char == 'X':\n",
    "        return True\n",
    "    elif char == 'Y':\n",
    "        return True\n",
    "    elif char == 'Z':\n",
    "        return True\n",
    "    else:\n",
    "        return False"
   ]
  },
  {
   "cell_type": "code",
   "execution_count": null,
   "id": "19e7a066",
   "metadata": {},
   "outputs": [],
   "source": [
    "#  straightforward solution\n",
    "def is_upper_case(char: str):\n",
    "    if not isinstance(char, str) and len(char) != 1: # safecheck\n",
    "        raise Exception('Incorrect input')\n",
    "    if char in \"ABCDEFGHIJKLMNOPQRSTUVWXYZ\":\n",
    "        return True\n",
    "    else:\n",
    "        return False"
   ]
  },
  {
   "cell_type": "markdown",
   "id": "2fbddcb9",
   "metadata": {},
   "source": [
    "<div class=\"alert alert-info \">\n",
    "<b>Advice:</b> before you try to implement something in python, make sure that there is no method that does what you want to do. In the vast majority of cases, he will do it faster than your implementation. Usually built in methods are faster\n",
    "</div>"
   ]
  },
  {
   "cell_type": "code",
   "execution_count": null,
   "id": "65728e74",
   "metadata": {},
   "outputs": [],
   "source": [
    "#  good solution\n",
    "def is_upper_case(char: str):\n",
    "    if not isinstance(char, str) and len(char) != 1: # safecheck\n",
    "        raise Exception('Incorrect input')\n",
    "    return char.isupper()"
   ]
  },
  {
   "cell_type": "code",
   "execution_count": null,
   "id": "c979c8fa",
   "metadata": {},
   "outputs": [],
   "source": [
    "#  nerd solution\n",
    "def is_upper_case(char: str):\n",
    "    if not isinstance(char, str) and len(char) != 1: # safecheck\n",
    "        raise Exception('Incorrect input')\n",
    "    return 65 <= ord(char) <= 90"
   ]
  },
  {
   "cell_type": "markdown",
   "id": "7b2ab494",
   "metadata": {},
   "source": [
    "<div class=\"alert alert-danger\">\n",
    "<b>Attentions:</b> do not declare variables inside if branches that you will use outside the branch in which they were declared.\n",
    "</div>"
   ]
  },
  {
   "cell_type": "code",
   "execution_count": null,
   "id": "a14784cc",
   "metadata": {},
   "outputs": [
    {
     "ename": "NameError",
     "evalue": "name 'd' is not defined",
     "output_type": "error",
     "traceback": [
      "\u001b[31m---------------------------------------------------------------------------\u001b[39m",
      "\u001b[31mNameError\u001b[39m                                 Traceback (most recent call last)",
      "\u001b[36mCell\u001b[39m\u001b[36m \u001b[39m\u001b[32mIn[242]\u001b[39m\u001b[32m, line 5\u001b[39m\n\u001b[32m      3\u001b[39m \u001b[38;5;28;01mif\u001b[39;00m x == \u001b[32m0\u001b[39m:\n\u001b[32m      4\u001b[39m     d = \u001b[32m0\u001b[39m\n\u001b[32m----> \u001b[39m\u001b[32m5\u001b[39m \u001b[38;5;28mprint\u001b[39m(\u001b[43md\u001b[49m)\n",
      "\u001b[31mNameError\u001b[39m: name 'd' is not defined"
     ]
    }
   ],
   "source": [
    "# if x != 0 we will get undefined variable error\n",
    "x = 1\n",
    "if x == 0:\n",
    "    d = 0\n",
    "print(d)"
   ]
  },
  {
   "cell_type": "code",
   "execution_count": 243,
   "id": "b73be478",
   "metadata": {},
   "outputs": [
    {
     "name": "stdout",
     "output_type": "stream",
     "text": [
      "0\n"
     ]
    }
   ],
   "source": [
    "x = 0\n",
    "if x == 0:\n",
    "    d = 0\n",
    "print(d)"
   ]
  },
  {
   "cell_type": "markdown",
   "id": "218d6160",
   "metadata": {},
   "source": [
    "Ternary operator"
   ]
  },
  {
   "cell_type": "code",
   "execution_count": 237,
   "id": "d223b901",
   "metadata": {},
   "outputs": [
    {
     "data": {
      "text/plain": [
       "'string 1string 1'"
      ]
     },
     "execution_count": 237,
     "metadata": {},
     "output_type": "execute_result"
    }
   ],
   "source": [
    "x = 10\n",
    "y = (\"string 1\" if x % 5 == 0 else \"string 2\") * 2\n",
    "y"
   ]
  },
  {
   "cell_type": "markdown",
   "id": "eb50a3f1",
   "metadata": {},
   "source": [
    "<div class=\"alert alert-info\">\n",
    "<b>Advise:</b> do not use the ternary operator with long expressions, it reduces the readability of the code.\n",
    "</div>"
   ]
  },
  {
   "cell_type": "markdown",
   "id": "d791a5a4",
   "metadata": {},
   "source": [
    "<div class=\"alert alert-info\">\n",
    "<b>Advise:</b> do not return different values of different types from the ternary operator depending on the condition.\n",
    "</div>"
   ]
  },
  {
   "cell_type": "code",
   "execution_count": 245,
   "id": "561d45b2",
   "metadata": {},
   "outputs": [
    {
     "ename": "TypeError",
     "evalue": "can only concatenate str (not \"float\") to str",
     "output_type": "error",
     "traceback": [
      "\u001b[31m---------------------------------------------------------------------------\u001b[39m",
      "\u001b[31mTypeError\u001b[39m                                 Traceback (most recent call last)",
      "\u001b[36mCell\u001b[39m\u001b[36m \u001b[39m\u001b[32mIn[245]\u001b[39m\u001b[32m, line 3\u001b[39m\n\u001b[32m      1\u001b[39m x = \u001b[32m3\u001b[39m\n\u001b[32m      2\u001b[39m y = \u001b[33m\"\u001b[39m\u001b[33mstring\u001b[39m\u001b[33m\"\u001b[39m \u001b[38;5;28;01mif\u001b[39;00m x > \u001b[32m0\u001b[39m \u001b[38;5;28;01melse\u001b[39;00m \u001b[32m0.5\u001b[39m\n\u001b[32m----> \u001b[39m\u001b[32m3\u001b[39m \u001b[38;5;28mprint\u001b[39m(\u001b[43my\u001b[49m\u001b[43m \u001b[49m\u001b[43m+\u001b[49m\u001b[43m \u001b[49m\u001b[32;43m8.5\u001b[39;49m)\n",
      "\u001b[31mTypeError\u001b[39m: can only concatenate str (not \"float\") to str"
     ]
    }
   ],
   "source": [
    "x = 3\n",
    "y = \"string\" if x > 0 else 0.5\n",
    "print(y + 8.5)"
   ]
  },
  {
   "cell_type": "markdown",
   "id": "823b60c1",
   "metadata": {},
   "source": [
    "### **For loop**\n",
    "```python\n",
    "for variable in iterable:\n",
    "    # block that runs for each item\n",
    "else:\n",
    "    # optional block that runs if the loop completes normally (no break)"
   ]
  },
  {
   "cell_type": "markdown",
   "id": "5299b610",
   "metadata": {},
   "source": [
    "Lists, dicts, tuples, sets, strings are iterable (so u can iterate over them)"
   ]
  },
  {
   "cell_type": "code",
   "execution_count": null,
   "id": "0b7c7394",
   "metadata": {},
   "outputs": [],
   "source": [
    "for n in [1, 2, 3, 4, 5, 6, 7, 8, 9, 10]: # u can iterate over any iterable object\n",
    "    print(n)"
   ]
  },
  {
   "cell_type": "code",
   "execution_count": null,
   "id": "cab4f2c7",
   "metadata": {},
   "outputs": [
    {
     "name": "stdout",
     "output_type": "stream",
     "text": [
      "<class 'range'>\n",
      "0 9\n",
      "range(9, -1, -1)\n",
      "range(0, 5, -2)\n",
      "[0, 1, 2, 3, 4, 5, 6, 7, 8, 9]\n",
      "[4, 5, 6, 7, 8, 9, 10, 11, 12, 13]\n",
      "[4, 7, 10, 13]\n",
      "[14, 12, 10, 8, 6]\n"
     ]
    }
   ],
   "source": [
    "rng = range(10)\n",
    "print(type(rng))\n",
    "print(rng[0], rng[-1])\n",
    "print(rng[::-1]) # u can slice range (and slice will be another range)\n",
    "print(rng[0:5:-2])\n",
    "print(list(range(10)))\n",
    "print(list(range(4, 14)))\n",
    "print(list(range(4, 14, 3)))\n",
    "print(list(range(14, 4, -2)))"
   ]
  },
  {
   "cell_type": "markdown",
   "id": "8c86adb8",
   "metadata": {},
   "source": [
    "So actually range doesn't store all numbers in memory."
   ]
  },
  {
   "cell_type": "code",
   "execution_count": 257,
   "id": "dc0f0f34",
   "metadata": {},
   "outputs": [
    {
     "data": {
      "text/plain": [
       "9999999999999999999999999999999999999999999999999999999999999999999999999999999999999999999999900000"
      ]
     },
     "execution_count": 257,
     "metadata": {},
     "output_type": "execute_result"
    }
   ],
   "source": [
    "rng = range(10**100)\n",
    "rng[-100000]"
   ]
  },
  {
   "cell_type": "markdown",
   "id": "3aa066a1",
   "metadata": {},
   "source": [
    "Task: print alphabet in the forward and reverse order"
   ]
  },
  {
   "cell_type": "code",
   "execution_count": 266,
   "id": "d9f89f1b",
   "metadata": {},
   "outputs": [
    {
     "name": "stdout",
     "output_type": "stream",
     "text": [
      "A B C D E F G H I J K L M N O P Q R S T U V W X Y Z \n",
      "\n",
      "Z Y X W V U T S R Q P O N M L K J I H G F E D C B A "
     ]
    }
   ],
   "source": [
    "alphabet = 'ABCDEFGHIJKLMNOPQRSTUVWXYZ'\n",
    "for character in alphabet:\n",
    "    print(character, end=' ')\n",
    "print('\\n')\n",
    "    \n",
    "for character in alphabet[::-1]:\n",
    "    print(character, end=' ')"
   ]
  },
  {
   "cell_type": "markdown",
   "id": "62466fd2",
   "metadata": {},
   "source": [
    "<div class=\"alert alert-info\">\n",
    "<b>Advise:</b> it is better to use the reversed method instead of [::-1] to improve readability.\n",
    "</div>"
   ]
  },
  {
   "cell_type": "code",
   "execution_count": 267,
   "id": "774cf570",
   "metadata": {},
   "outputs": [
    {
     "name": "stdout",
     "output_type": "stream",
     "text": [
      "Z Y X W V U T S R Q P O N M L K J I H G F E D C B A "
     ]
    }
   ],
   "source": [
    "for character in reversed(alphabet):\n",
    "    print(character, end=' ')"
   ]
  },
  {
   "cell_type": "markdown",
   "id": "12bee900",
   "metadata": {},
   "source": [
    "### **While loop**\n",
    "```python\n",
    "while condition:\n",
    "    # block that runs while condition is True\n",
    "else:\n",
    "    # optional block that runs if the loop completes normally (no break)\n"
   ]
  },
  {
   "cell_type": "code",
   "execution_count": null,
   "id": "08dca825",
   "metadata": {},
   "outputs": [],
   "source": [
    "x = 17\n",
    "\n",
    "while x != 1:\n",
    "    \n",
    "    if x % 2 == 0:\n",
    "        x //= 2\n",
    "    else:\n",
    "        x = 3 * x + 1\n",
    "        \n",
    "    print(x)"
   ]
  },
  {
   "cell_type": "code",
   "execution_count": null,
   "id": "34e54b7a",
   "metadata": {},
   "outputs": [
    {
     "name": "stdout",
     "output_type": "stream",
     "text": [
      "s1 6.8\n",
      "s2 1.5\n",
      "sF 1.0\n"
     ]
    }
   ],
   "source": [
    "state = \"s0\"\n",
    "# Example of finite state machine implemented using while loops\n",
    "while state != \"sF\": \n",
    "\n",
    "    try:\n",
    "        value = float(input())\n",
    "    except:\n",
    "        print(\"A non-float number was entered\")\n",
    "        continue\n",
    "\n",
    "    match state:\n",
    "        case \"s0\":\n",
    "            state = \"s1\" if value > 2.1 else \"s0\"\n",
    "            print(state, value * 2) \n",
    "        case \"s1\":\n",
    "            state = \"s0\" if value > 1.5 else \"s2\"\n",
    "            print(state, value * 1.5)\n",
    "        case \"s2\":\n",
    "            state = \"s0\" if value > 3.1 else \"sF\"\n",
    "            print(state, value * 1.0)\n",
    "        case _:\n",
    "            raise Exception(\"Unpredictable behavior, program crash\")\n",
    "else:\n",
    "    print(\"The operation of the finite state machine has ended\")"
   ]
  },
  {
   "cell_type": "markdown",
   "id": "2f1d4222",
   "metadata": {},
   "source": [
    "<div class=\"alert alert-info\">\n",
    "    <b>Advise:</b> use <b>for</b> when you need to work with elements sequentially and independently of each other\n",
    "</div>"
   ]
  },
  {
   "cell_type": "code",
   "execution_count": null,
   "id": "6aee72b7",
   "metadata": {},
   "outputs": [],
   "source": [
    "data = [10, 20, 30, 40]\n",
    "\n",
    "print(\"For each item from the list, print it\")\n",
    "\n",
    "for value in data:\n",
    "    print(value, end=', ')\n",
    "\n",
    "print()\n",
    "print(\"For each item from the list, print a pair: (sequence number, element)\")\n",
    "\n",
    "for i, value in enumerate(data):\n",
    "    # enumerate maps data objects into tuples (index, object)\n",
    "    print(i, value, end=', ')\n",
    "\n",
    "print()\n",
    "print(\"For each item from the list, print its index\")\n",
    "\n",
    "for i in range(len(data)):\n",
    "    print(i, end=', ')"
   ]
  },
  {
   "cell_type": "markdown",
   "id": "0124a156",
   "metadata": {},
   "source": [
    "<div class=\"alert alert-danger\">\n",
    "<b>Attention:</b> don't change the object that the for loop is currently running on. This may lead to unexpected behavior for you.\n",
    "</div>"
   ]
  },
  {
   "cell_type": "code",
   "execution_count": null,
   "id": "72876cc2",
   "metadata": {},
   "outputs": [],
   "source": [
    "data = [0,1,2,3,4,5,6,7,8,9,10]\n",
    "\n",
    "def f(data):\n",
    "    data.append(3)\n",
    "\n",
    "for value in data:\n",
    "    print(value, end=', ')\n",
    "    f(data)\n",
    "    # We might get stuck in an infinite loop.\n"
   ]
  },
  {
   "cell_type": "markdown",
   "id": "a71ed1a1",
   "metadata": {},
   "source": [
    "<div class=\"alert alert-info\">\n",
    "<b>Advice: </b>use <b>while</b> if the list changes at each iteration, if it is difficult to predict the number of iterations in advance.\n",
    "</div>"
   ]
  },
  {
   "cell_type": "code",
   "execution_count": null,
   "id": "4db84045",
   "metadata": {},
   "outputs": [
    {
     "name": "stdout",
     "output_type": "stream",
     "text": [
      "0, 1, 2, 3, 4, 5, 6, 7, 8, 9, 10, "
     ]
    }
   ],
   "source": [
    "data = [0,1,2,3,4,5,6,7,8,9,10]\n",
    "\n",
    "while data:\n",
    "    value = data.pop(0)\n",
    "    print(value, end=', ')"
   ]
  },
  {
   "cell_type": "markdown",
   "id": "18f5a9e4",
   "metadata": {},
   "source": [
    "### **Collections comprehensions**"
   ]
  },
  {
   "cell_type": "markdown",
   "id": "84dbbb7d",
   "metadata": {},
   "source": [
    "- List comprehension: \n",
    "```python \n",
    "[x for x in iterable]\n",
    "```\n",
    "- Dict comprehension: \n",
    "```python \n",
    "{k: x for k, x in iterable}\n",
    "```\n",
    "- Set comprehension: \n",
    "```python \n",
    "{x for x in iterable}\n",
    "```"
   ]
  },
  {
   "cell_type": "code",
   "execution_count": 17,
   "id": "5912c394",
   "metadata": {},
   "outputs": [
    {
     "name": "stdout",
     "output_type": "stream",
     "text": [
      "[0, 1, 4, 9, 16, 25, 36, 49]\n",
      "[0, 4, 16, 36]\n",
      "{'pine': 4, 'apple': 5}\n",
      "{9, 4, 5}\n"
     ]
    }
   ],
   "source": [
    "print( [x * x for x in range(8)] ) \n",
    "print( [x * x for x in range(8) if x % 2 == 0] ) # we can filter values, which we want to leave\n",
    "print({word: len(word) for word in [\"pine\", \"apple\", \"pineapple\"] if len(word) < 6 })\n",
    "print({len(word) for word in [\"pine\", \"apple\", \"pineapple\"]})"
   ]
  },
  {
   "cell_type": "markdown",
   "id": "fbf6f5e4",
   "metadata": {},
   "source": [
    "<div class=\"alert alert-info\">\n",
    "<b>Advise: </b> It is not recommended to make long filtering conditions or complex expressions for the elements of the new collection, this worsens the readability of the code. If the conversion is too long, then wrap it in a function and call it.\n",
    "</div>"
   ]
  },
  {
   "cell_type": "code",
   "execution_count": null,
   "id": "e8f8e444",
   "metadata": {},
   "outputs": [],
   "source": [
    "from math import exp\n",
    "#Bad example\n",
    "\n",
    "[x for x in range(100) if x % 2 == 0 if x % 3 == 0 if x % 6 == 0]\n",
    "[2 *  6.62 * 3**2 / (w**5) * (exp(19.79 / (w * 1.38 * T)) - 1) for w, T in zip(range(100), range(273, 373))]\n",
    "\n",
    "#Good example\n",
    "\n",
    "def is_divided(x):\n",
    "    return (x % 2 == 0) or (x % 3 == 0)\n",
    "\n",
    "\n",
    "def large_formula(w, T):\n",
    "    return 2 *  6.62 * 3**2 / (w**5) * (exp(19.79 / (w * 1.38 * T)) - 1)\n",
    "\n",
    "\n",
    "[x for x in range(100) if is_divided(x)]\n",
    "[large_formula for w, T in zip(range(100), range(273, 373))]\n"
   ]
  },
  {
   "cell_type": "markdown",
   "id": "aff25bb2",
   "metadata": {},
   "source": [
    "Nested comprehension is allowed "
   ]
  },
  {
   "cell_type": "code",
   "execution_count": 24,
   "id": "e5ac9137",
   "metadata": {},
   "outputs": [
    {
     "data": {
      "text/plain": [
       "[0, 4, 4, 4, 16, 16, 16, 16, 36, 36, 64, 64, 64, 100]"
      ]
     },
     "execution_count": 24,
     "metadata": {},
     "output_type": "execute_result"
    }
   ],
   "source": [
    "tensor_3d = [[[0, 1, 2], [1, 2, 3], [2, 3, 4]], [[3, 4, 5], [3, 4, 5], [4, 5, 6]], [[6, 7, 8], [7, 8, 9], [8, 9, 10]]]\n",
    "[elem**2 for matrix in tensor_3d for row in matrix for elem in row if elem % 2 == 0]"
   ]
  },
  {
   "cell_type": "markdown",
   "id": "6a57398b",
   "metadata": {},
   "source": [
    "<div class=\"alert alert-info\">\n",
    "<b>Advise: </b> if possible, avoid nested comprehension, as this reduces the readability of the code.\n",
    "</div>"
   ]
  },
  {
   "cell_type": "markdown",
   "id": "b4edf342",
   "metadata": {},
   "source": [
    "### **Break, continue**"
   ]
  },
  {
   "cell_type": "code",
   "execution_count": 290,
   "id": "0ca74b9e",
   "metadata": {},
   "outputs": [
    {
     "name": "stdout",
     "output_type": "stream",
     "text": [
      "First invalid email found: invalid\n"
     ]
    }
   ],
   "source": [
    "emails = [\"strassen@dot.mul\", \"invalid\", \"cat@in.box\"]\n",
    "\n",
    "for email in emails:\n",
    "    if \"@\" not in email:\n",
    "        print(\"First invalid email found:\", email)\n",
    "        break\n",
    "else:\n",
    "    print('All emails are correct')"
   ]
  },
  {
   "cell_type": "code",
   "execution_count": null,
   "id": "af3e7eff",
   "metadata": {},
   "outputs": [],
   "source": [
    "count = 0\n",
    "while count < 5:\n",
    "    value = input(\"Enter a number: \")\n",
    "    if not value.isdigit():\n",
    "        print(\"Not a number, skipping.\")\n",
    "        continue\n",
    "    print(\"Squared:\", int(value) ** 2)\n",
    "    count += 1"
   ]
  },
  {
   "cell_type": "code",
   "execution_count": null,
   "id": "1eac3870",
   "metadata": {},
   "outputs": [],
   "source": [
    "while True:\n",
    "    pwd = input(\"Enter password: \")\n",
    "    if pwd == \"secret\":\n",
    "        print(\"Access granted\")\n",
    "        break\n",
    "    print(\"Wrong password, try again.\")"
   ]
  },
  {
   "cell_type": "markdown",
   "id": "e83923e6",
   "metadata": {},
   "source": [
    "try catch + continue and break"
   ]
  },
  {
   "cell_type": "code",
   "execution_count": null,
   "id": "0696b87b",
   "metadata": {},
   "outputs": [
    {
     "name": "stdout",
     "output_type": "stream",
     "text": [
      "Try block\n",
      "Finally block\n"
     ]
    }
   ],
   "source": [
    "while True:\n",
    "    try:\n",
    "        print(\"Try block\")\n",
    "        break\n",
    "    finally:\n",
    "        print(\"Finally block\")"
   ]
  },
  {
   "cell_type": "code",
   "execution_count": 298,
   "id": "98255c70",
   "metadata": {},
   "outputs": [
    {
     "name": "stdout",
     "output_type": "stream",
     "text": [
      "In finally\n",
      "In finally\n",
      "In finally\n"
     ]
    }
   ],
   "source": [
    "for i in range(3):\n",
    "    try:\n",
    "        continue\n",
    "    finally:\n",
    "        print(\"In finally\")\n",
    "    print(\"In for loop\")"
   ]
  },
  {
   "cell_type": "code",
   "execution_count": null,
   "id": "fd4970f5",
   "metadata": {},
   "outputs": [],
   "source": [
    "def cursed():\n",
    "    for i in range(3):\n",
    "        try:\n",
    "            break\n",
    "        finally:\n",
    "            return \"finally won\"\n",
    "        \n",
    "print(cursed()) "
   ]
  },
  {
   "cell_type": "markdown",
   "id": "6c177faf",
   "metadata": {},
   "source": [
    "## **Functions**"
   ]
  },
  {
   "cell_type": "markdown",
   "id": "e9aea09a",
   "metadata": {},
   "source": [
    "Function in python can be used in several ways:"
   ]
  },
  {
   "cell_type": "code",
   "execution_count": null,
   "id": "5ac2e2cc",
   "metadata": {},
   "outputs": [],
   "source": [
    "from math import exp\n",
    "\n",
    "# here we use return Value\n",
    "def sigmoid(x):\n",
    "    \"\"\"\n",
    "    sigmoid(x) = \\\\frac{1}{1+e^{-x}}\n",
    "    \"\"\"\n",
    "    return 1 / (1 + exp(-x))\n",
    "\n",
    "sigmoid(2.3)"
   ]
  },
  {
   "cell_type": "markdown",
   "id": "ce75a5c7",
   "metadata": {},
   "source": [
    "Side effect refers to any change in a program's state that is observable outside of the function or operation that caused it, beyond simply returning a value"
   ]
  },
  {
   "cell_type": "code",
   "execution_count": null,
   "id": "ea3728b4",
   "metadata": {},
   "outputs": [
    {
     "data": {
      "text/plain": [
       "[2, 4, 5]"
      ]
     },
     "execution_count": 30,
     "metadata": {},
     "output_type": "execute_result"
    }
   ],
   "source": [
    "from random import randint\n",
    "\n",
    "# here we use function side effect\n",
    "def steal_value(l: list):\n",
    "    selected_index = randint(0, len(l))\n",
    "    l.pop(selected_index)\n",
    "\n",
    "l = [0, 2, 4, 5]\n",
    "steal_value(l)\n",
    "l"
   ]
  },
  {
   "cell_type": "markdown",
   "id": "666a9e64",
   "metadata": {},
   "source": [
    "<div class=\"alert alert-danger\">\n",
    "<b>Attention: </b> Side effects can be very dangerous and can lead to difficult-to-detect bugs that occur at the runtime stage. Therefore, it is worth taking great care when writing functions with side effects.\n",
    "</div>"
   ]
  },
  {
   "cell_type": "code",
   "execution_count": null,
   "id": "5db50e7a",
   "metadata": {},
   "outputs": [],
   "source": [
    "config = {\"debug\": False} #configuration for out program\n",
    "\n",
    "def this_function_we_dont_want_to_verbose():\n",
    "    #...\n",
    "    if config[\"debug\"]:\n",
    "        print('...')\n",
    "        #do smthing\n",
    "    #...\n",
    "\n",
    "def do_some_stuff():\n",
    "    # we have changed the global variable to log all actions in this particular function, thinking that \n",
    "    # at the end of the function call we would not forget to return it back \n",
    "    # (spoiler alert: we forgot)\n",
    "    config[\"debug\"] = True\n",
    "    #100 lines of code with calling other functions, which use config[\"debug\"]\n",
    "\n",
    "do_some_stuff()\n",
    "\n",
    "this_function_we_dont_want_to_verbose() # but it turned out that it verbose"
   ]
  },
  {
   "cell_type": "markdown",
   "id": "ec6ccb12",
   "metadata": {},
   "source": [
    "It is worth noting that there are also fairly safe side effects, for example, a method that displays information on the screen in a special format is also a method with a side effect."
   ]
  },
  {
   "cell_type": "code",
   "execution_count": 36,
   "id": "a3fb795c",
   "metadata": {},
   "outputs": [
    {
     "name": "stdout",
     "output_type": "stream",
     "text": [
      "📊 System Load:\n",
      "• CPU Load: 22.8%\n",
      "• CPU Frequency: 3504 Mhz\n",
      "• RAM Load: 79.7%\n"
     ]
    }
   ],
   "source": [
    "from typing import Dict\n",
    "import psutil\n",
    "\n",
    "\n",
    "def log_cpu_state(stats: Dict[str, str]):\n",
    "    if any(not (key in stats) for key in ('cpu_load', 'ram_load', 'cpu_frequency')):\n",
    "        return\n",
    "    print(\"📊 System Load:\")\n",
    "    print(f\"• CPU Load: {stats['cpu_load']}%\")\n",
    "    print(f\"• CPU Frequency: {stats['cpu_frequency']} Mhz\")\n",
    "    print(f\"• RAM Load: {stats['ram_load']}%\")\n",
    "\n",
    "stats = {\n",
    "    'cpu_frequency': psutil.cpu_freq().current,\n",
    "    'cpu_load': psutil.cpu_percent(),\n",
    "    'ram_load': psutil.virtual_memory().percent\n",
    "}\n",
    "\n",
    "log_cpu_state(stats)"
   ]
  },
  {
   "cell_type": "markdown",
   "id": "60620949",
   "metadata": {},
   "source": [
    "### **Scoping**"
   ]
  },
  {
   "cell_type": "markdown",
   "id": "4b3888c5",
   "metadata": {},
   "source": [
    "When we declare"
   ]
  },
  {
   "cell_type": "code",
   "execution_count": null,
   "id": "6b778bb9",
   "metadata": {},
   "outputs": [
    {
     "name": "stdout",
     "output_type": "stream",
     "text": [
      "5 4340886208\n",
      "4 4340886176\n",
      "3 4340886144\n",
      "2 4340886112\n",
      "1 4340886080\n",
      "0 4340886048\n",
      "4340886112\n",
      "1 4340886080\n",
      "4340886144\n",
      "2 4340886112\n",
      "1 4340886080\n",
      "0 4340886048\n",
      "4340886112\n",
      "4340886208\n",
      "3 4340886144\n",
      "2 4340886112\n",
      "1 4340886080\n",
      "0 4340886048\n",
      "4340886112\n",
      "1 4340886080\n",
      "4340886144\n",
      "4340886304\n",
      "n outside loop: -100\n"
     ]
    }
   ],
   "source": [
    "# Each time we call in recursion `fibonacci` function we create copy of n in new scope, which we need to store until all nested function calls finish\n",
    "n = -100\n",
    "def fibonacci(n):\n",
    "    print(n, id(n)) # \n",
    "    if n <= 1:\n",
    "        return 1\n",
    "    fibonacci_n = fibonacci(n-1) + fibonacci(n-2)\n",
    "    print(id(fibonacci_n))\n",
    "    return fibonacci_n\n",
    "\n",
    "fibonacci(5)\n",
    "print('n outside loop:', n)"
   ]
  },
  {
   "cell_type": "markdown",
   "id": "b7ce59fc",
   "metadata": {},
   "source": [
    "Also you can create function, which is a \"factory\" for other functions. This is often useful if there is a set of arguments that are the same for multiple function calls. Therefore, instead of explicitly writing this set of arguments each time, you can pass them 1 time through the context of the factory function."
   ]
  },
  {
   "cell_type": "code",
   "execution_count": 4,
   "id": "b5844f78",
   "metadata": {},
   "outputs": [],
   "source": [
    "from random import uniform\n",
    "from math import log, cos, pi\n",
    "\n",
    "def normal_distribution_sampler_factory(mu, sigma):\n",
    "\n",
    "    def normal_distribution_sampler(size):\n",
    "        R_array = [(-2 * log(uniform(0, 1))) ** 0.5  for i in range(size)]\n",
    "        theta_array = [2 * pi * uniform(0, 1) for i in range(size)]\n",
    "        return [sigma * R * cos(theta) + mu for R, theta in zip(R_array, theta_array)]\n",
    "    \n",
    "    return normal_distribution_sampler"
   ]
  },
  {
   "cell_type": "markdown",
   "id": "dd998d1b",
   "metadata": {},
   "source": [
    "When calling a method, some parameters can be specified by their position in the function header (they are called **positional**), and others by their name (they are called **keyword**)."
   ]
  },
  {
   "cell_type": "code",
   "execution_count": null,
   "id": "4351949c",
   "metadata": {},
   "outputs": [
    {
     "name": "stdout",
     "output_type": "stream",
     "text": [
      "0.6201060410988148\n",
      "0.6199989732199573\n",
      "0.6201060410988148\n"
     ]
    }
   ],
   "source": [
    "def integrate_rectangular(func, a, b, step_size=1e-5): # using param=value you can set the default value \n",
    "    integral_sum = 0\n",
    "    for step in range(0, int((b - a) / step_size)):\n",
    "        d = a + step * step_size\n",
    "        integral_sum += func(d) * step_size\n",
    "    return integral_sum\n",
    "\n",
    "#we can pass functions as arguments to another functions (function is also an object and has hash)\n",
    "print(integrate_rectangular(sigmoid, 0, 1)) # we don't have to specify parameters with default values\n",
    "print(integrate_rectangular(sigmoid, 0, 1, 1e-3))\n",
    "print(integrate_rectangular(sigmoid, b=1, a=0))"
   ]
  },
  {
   "cell_type": "code",
   "execution_count": null,
   "id": "dc36da12",
   "metadata": {},
   "outputs": [
    {
     "ename": "SyntaxError",
     "evalue": "positional argument follows keyword argument (3175899678.py, line 1)",
     "output_type": "error",
     "traceback": [
      "  \u001b[36mCell\u001b[39m\u001b[36m \u001b[39m\u001b[32mIn[47]\u001b[39m\u001b[32m, line 1\u001b[39m\n\u001b[31m    \u001b[39m\u001b[31mintegrate(sigmoid, b=1, 0)\u001b[39m\n                             ^\n\u001b[31mSyntaxError\u001b[39m\u001b[31m:\u001b[39m positional argument follows keyword argument\n"
     ]
    }
   ],
   "source": [
    "integrate(sigmoid, b=1, 0) # positional parameters should always come before keyword ones"
   ]
  },
  {
   "cell_type": "markdown",
   "id": "e29c4a93",
   "metadata": {},
   "source": [
    "Using keywords `/` and `*` we can specify explicitly which parameters can be specified only as positional, and which ones only as keyword"
   ]
  },
  {
   "cell_type": "code",
   "execution_count": null,
   "id": "b970f345",
   "metadata": {},
   "outputs": [
    {
     "data": {
      "text/plain": [
       "0.6201071963818814"
      ]
     },
     "execution_count": 49,
     "metadata": {},
     "output_type": "execute_result"
    }
   ],
   "source": [
    "def integrate_trapezoid(func, /, a, b, *, step_size=1e-5): # all parameters before `/` are positional-only and all parameters after `*` are keyword-only\n",
    "    integral_sum = 0\n",
    "    for step in range(0, int((b - a) / step_size)):\n",
    "        d_left = a + step * step_size\n",
    "        d_right = a + (step+1) * step_size\n",
    "        integral_sum += (func(d_right) + func(d_left)) / 2 * step_size \n",
    "    return integral_sum\n",
    "\n",
    "integrate_trapezoid(sigmoid, 0, 1)"
   ]
  },
  {
   "cell_type": "code",
   "execution_count": 50,
   "id": "845c110f",
   "metadata": {},
   "outputs": [
    {
     "ename": "TypeError",
     "evalue": "integrate_trapezoid() got some positional-only arguments passed as keyword arguments: 'func'",
     "output_type": "error",
     "traceback": [
      "\u001b[31m---------------------------------------------------------------------------\u001b[39m",
      "\u001b[31mTypeError\u001b[39m                                 Traceback (most recent call last)",
      "\u001b[36mCell\u001b[39m\u001b[36m \u001b[39m\u001b[32mIn[50]\u001b[39m\u001b[32m, line 1\u001b[39m\n\u001b[32m----> \u001b[39m\u001b[32m1\u001b[39m \u001b[43mintegrate_trapezoid\u001b[49m\u001b[43m(\u001b[49m\u001b[43mfunc\u001b[49m\u001b[43m=\u001b[49m\u001b[43msigmoid\u001b[49m\u001b[43m,\u001b[49m\u001b[43m \u001b[49m\u001b[43ma\u001b[49m\u001b[43m=\u001b[49m\u001b[32;43m0\u001b[39;49m\u001b[43m,\u001b[49m\u001b[43m \u001b[49m\u001b[43mb\u001b[49m\u001b[43m=\u001b[49m\u001b[32;43m1\u001b[39;49m\u001b[43m)\u001b[49m\n",
      "\u001b[31mTypeError\u001b[39m: integrate_trapezoid() got some positional-only arguments passed as keyword arguments: 'func'"
     ]
    }
   ],
   "source": [
    "integrate_trapezoid(func=sigmoid, a=0, b=1)"
   ]
  },
  {
   "cell_type": "code",
   "execution_count": 51,
   "id": "2962a3ea",
   "metadata": {},
   "outputs": [
    {
     "ename": "TypeError",
     "evalue": "integrate_trapezoid() takes 3 positional arguments but 4 were given",
     "output_type": "error",
     "traceback": [
      "\u001b[31m---------------------------------------------------------------------------\u001b[39m",
      "\u001b[31mTypeError\u001b[39m                                 Traceback (most recent call last)",
      "\u001b[36mCell\u001b[39m\u001b[36m \u001b[39m\u001b[32mIn[51]\u001b[39m\u001b[32m, line 1\u001b[39m\n\u001b[32m----> \u001b[39m\u001b[32m1\u001b[39m \u001b[43mintegrate_trapezoid\u001b[49m\u001b[43m(\u001b[49m\u001b[43msigmoid\u001b[49m\u001b[43m,\u001b[49m\u001b[43m \u001b[49m\u001b[32;43m0\u001b[39;49m\u001b[43m,\u001b[49m\u001b[43m \u001b[49m\u001b[32;43m1\u001b[39;49m\u001b[43m,\u001b[49m\u001b[43m \u001b[49m\u001b[32;43m1e-6\u001b[39;49m\u001b[43m)\u001b[49m\n",
      "\u001b[31mTypeError\u001b[39m: integrate_trapezoid() takes 3 positional arguments but 4 were given"
     ]
    }
   ],
   "source": [
    "integrate_trapezoid(sigmoid, 0, 1, 1e-6)"
   ]
  },
  {
   "cell_type": "markdown",
   "id": "e2460c12",
   "metadata": {},
   "source": [
    "### **Varargs (\\*args) and kwargs (\\*\\*kwargs)**"
   ]
  },
  {
   "cell_type": "markdown",
   "id": "fd5b43a6",
   "metadata": {},
   "source": [
    "- `*args`\tkeyword collects positional arguments into a tuple\n",
    "- `**kwargs` keyword collects keyword arguments into a dict"
   ]
  },
  {
   "cell_type": "code",
   "execution_count": null,
   "id": "4adffc54",
   "metadata": {},
   "outputs": [
    {
     "data": {
      "text/plain": [
       "{'max': 4, 'custom_func': 7}"
      ]
     },
     "execution_count": 27,
     "metadata": {},
     "output_type": "execute_result"
    }
   ],
   "source": [
    "def reduce(start_value, *args, **operations):\n",
    "    results = {name: start_value for name in operations}\n",
    "    for value in args:\n",
    "        for name, func in operations.items():\n",
    "            results[name] = func(results[name], value)\n",
    "    return results\n",
    "\n",
    "def custom_func(self, other):\n",
    "    return 5 * self + 1 if self % other == 0 else self // other\n",
    "\n",
    "reduce(0, 1, -1, 3, 4, max=max, custom_func=custom_func)"
   ]
  },
  {
   "cell_type": "markdown",
   "id": "c07e79d3",
   "metadata": {},
   "source": [
    "When to use?"
   ]
  },
  {
   "cell_type": "code",
   "execution_count": 30,
   "id": "83e80b97",
   "metadata": {},
   "outputs": [
    {
     "name": "stdout",
     "output_type": "stream",
     "text": [
      "Execution starts...\n"
     ]
    },
    {
     "data": {
      "text/plain": [
       "1"
      ]
     },
     "execution_count": 30,
     "metadata": {},
     "output_type": "execute_result"
    }
   ],
   "source": [
    "def wrapper(func): #Wrapping functions and forwarding arguments\n",
    "\n",
    "    def inner_function(*args, **kwargs):\n",
    "        print('Execution starts...')\n",
    "        return func(*args, **kwargs)\n",
    "    \n",
    "    return inner_function\n",
    "\n",
    "wrapper(max)(1, 0)"
   ]
  },
  {
   "cell_type": "code",
   "execution_count": null,
   "id": "7892761d",
   "metadata": {},
   "outputs": [
    {
     "name": "stdout",
     "output_type": "stream",
     "text": [
      "(1, 2, 3, 1) {'x': 42}\n"
     ]
    }
   ],
   "source": [
    "#bad case\n",
    "def print_args_kwargs(*args, **kwargs):\n",
    "    args += (1,)\n",
    "    kwargs['x'] = 42\n",
    "    print(args, kwargs)\n",
    "\n",
    "print_args_kwargs(1, 2, 3, x=10)"
   ]
  },
  {
   "cell_type": "markdown",
   "id": "077df852",
   "metadata": {},
   "source": [
    "<div class=\"alert alert-danger\">\n",
    "<b>Attention: </b> modifying *args and **kwargs variables is a bad practice and can lead to unexpected errors.\n",
    "</div>"
   ]
  },
  {
   "cell_type": "markdown",
   "id": "8069a772",
   "metadata": {},
   "source": [
    "<div class=\"alert alert-danger\">\n",
    "<b>Attention: </b> do not add *args and **kwargs where it is unreasonable. Adding and using implicitly declared variables in the logic of a function greatly impairs the readability of the code\n",
    "</div>"
   ]
  },
  {
   "cell_type": "code",
   "execution_count": null,
   "id": "c928ca1e",
   "metadata": {},
   "outputs": [],
   "source": [
    "# bad case\n",
    "def calculate(*args, **kwargs):\n",
    "    if 'a' in kwargs and 'b' in kwargs:\n",
    "        return kwargs['a'] + kwargs['b']\n",
    "    elif len(args) >= 2:\n",
    "        return args[0] + args[1]\n",
    "    else:\n",
    "        return None"
   ]
  },
  {
   "cell_type": "markdown",
   "id": "91083755",
   "metadata": {},
   "source": [
    "<div class=\"alert alert-danger\">\n",
    "<b>Attention: </b> if you add *args and **kwargs, do not forget to take into account corner cases when, for example, they may be empty.\n",
    "</div>\n"
   ]
  },
  {
   "cell_type": "code",
   "execution_count": 35,
   "id": "f79c0099",
   "metadata": {},
   "outputs": [
    {
     "name": "stdout",
     "output_type": "stream",
     "text": [
      "Event: Fatal error\n"
     ]
    },
    {
     "ename": "KeyError",
     "evalue": "'details'",
     "output_type": "error",
     "traceback": [
      "\u001b[31m---------------------------------------------------------------------------\u001b[39m",
      "\u001b[31mKeyError\u001b[39m                                  Traceback (most recent call last)",
      "\u001b[36mCell\u001b[39m\u001b[36m \u001b[39m\u001b[32mIn[35]\u001b[39m\u001b[32m, line 6\u001b[39m\n\u001b[32m      3\u001b[39m     \u001b[38;5;28mprint\u001b[39m(\u001b[33m\"\u001b[39m\u001b[33mEvent:\u001b[39m\u001b[33m\"\u001b[39m, args[\u001b[32m0\u001b[39m])\n\u001b[32m      4\u001b[39m     \u001b[38;5;28mprint\u001b[39m(\u001b[33m\"\u001b[39m\u001b[33mDetails:\u001b[39m\u001b[33m\"\u001b[39m, kwargs[\u001b[33m'\u001b[39m\u001b[33mdetails\u001b[39m\u001b[33m'\u001b[39m])\n\u001b[32m----> \u001b[39m\u001b[32m6\u001b[39m \u001b[43mlog_event\u001b[49m\u001b[43m(\u001b[49m\u001b[33;43m\"\u001b[39;49m\u001b[33;43mFatal error\u001b[39;49m\u001b[33;43m\"\u001b[39;49m\u001b[43m)\u001b[49m\n",
      "\u001b[36mCell\u001b[39m\u001b[36m \u001b[39m\u001b[32mIn[35]\u001b[39m\u001b[32m, line 4\u001b[39m, in \u001b[36mlog_event\u001b[39m\u001b[34m(*args, **kwargs)\u001b[39m\n\u001b[32m      2\u001b[39m \u001b[38;5;28;01mdef\u001b[39;00m\u001b[38;5;250m \u001b[39m\u001b[34mlog_event\u001b[39m(*args, **kwargs):\n\u001b[32m      3\u001b[39m     \u001b[38;5;28mprint\u001b[39m(\u001b[33m\"\u001b[39m\u001b[33mEvent:\u001b[39m\u001b[33m\"\u001b[39m, args[\u001b[32m0\u001b[39m])\n\u001b[32m----> \u001b[39m\u001b[32m4\u001b[39m     \u001b[38;5;28mprint\u001b[39m(\u001b[33m\"\u001b[39m\u001b[33mDetails:\u001b[39m\u001b[33m\"\u001b[39m, \u001b[43mkwargs\u001b[49m\u001b[43m[\u001b[49m\u001b[33;43m'\u001b[39;49m\u001b[33;43mdetails\u001b[39;49m\u001b[33;43m'\u001b[39;49m\u001b[43m]\u001b[49m)\n",
      "\u001b[31mKeyError\u001b[39m: 'details'"
     ]
    }
   ],
   "source": [
    "# bad case\n",
    "def log_event(*args, **kwargs):\n",
    "    print(\"Event:\", args[0])\n",
    "    print(\"Details:\", kwargs['details'])\n",
    "    \n",
    "log_event(\"Fatal error\")"
   ]
  },
  {
   "cell_type": "markdown",
   "id": "d7dc3c9f",
   "metadata": {},
   "source": [
    "## **None and a bit about data structure** "
   ]
  },
  {
   "cell_type": "markdown",
   "id": "a6c9abf9",
   "metadata": {},
   "source": [
    "None is a special **object** (not a value) of type NoneType, which represents the absence of a value"
   ]
  },
  {
   "cell_type": "code",
   "execution_count": 305,
   "id": "4431442f",
   "metadata": {},
   "outputs": [
    {
     "name": "stdout",
     "output_type": "stream",
     "text": [
      "<class 'NoneType'>\n",
      "False None\n"
     ]
    }
   ],
   "source": [
    "print(type(None))\n",
    "print(bool(None), str(None))"
   ]
  },
  {
   "cell_type": "markdown",
   "id": "8607f518",
   "metadata": {},
   "source": [
    "How to check if variable`s value is None?"
   ]
  },
  {
   "cell_type": "code",
   "execution_count": 307,
   "id": "740dd899",
   "metadata": {},
   "outputs": [
    {
     "name": "stdout",
     "output_type": "stream",
     "text": [
      "True\n",
      "True\n"
     ]
    }
   ],
   "source": [
    "x = None\n",
    "print(x is None)\n",
    "print(x == None)"
   ]
  },
  {
   "cell_type": "markdown",
   "id": "54dbf2f0",
   "metadata": {},
   "source": [
    "<div class=\"alert alert-info\">\n",
    "<b>What is the difference between `is` and `==`?</b>\n",
    "\n",
    "In Python, any variable is actually a reference (or pointer) to an object stored in memory. Some objects are immutable, such as integers, strings, and tuples. This means that when you try to \"change\" them, Python doesn't modify the object in place — instead, it creates a new object and makes the variable point to it. Other objects are mutable, like lists, dictionaries, and sets. When you modify these, Python changes the original object in place without creating a new one. So, assignment always passes a reference, but whether a change affects the original object depends on its mutability.\n",
    "\n",
    "</div>\n",
    "\n"
   ]
  },
  {
   "cell_type": "markdown",
   "id": "f8d711fd",
   "metadata": {},
   "source": [
    "Using method `id()` we can actually see unique object adress. So `a is b` checks whether a and b is a pointer on same object or not. But `==` actually checks whether values stored in memory are the same"
   ]
  },
  {
   "cell_type": "code",
   "execution_count": null,
   "id": "8c6f7661",
   "metadata": {},
   "outputs": [
    {
     "name": "stdout",
     "output_type": "stream",
     "text": [
      "2.2 1.2\n"
     ]
    }
   ],
   "source": [
    "a = 1.2\n",
    "b = a\n",
    "assert id(a) == id(b) # we can replace with construction `a is b`\n",
    "\n",
    "b = 1.2\n",
    "assert not (a is b) # b is not same object as a\n",
    "assert a == b # but the value the store is the same\n",
    "\n",
    "b = a\n",
    "a += 1\n",
    "assert not (a is b) # changing object causes new object creation\n",
    "print(a, b)\n"
   ]
  },
  {
   "cell_type": "markdown",
   "id": "5c4b5ab4",
   "metadata": {},
   "source": [
    "The main problem with `x == None` is that we can redefine `==` operator for custom objects (It will be in a few classes)."
   ]
  },
  {
   "cell_type": "markdown",
   "id": "99f0785f",
   "metadata": {},
   "source": [
    "`None` is a singleton object, that means, it's the **only one in the entire program**. Therefore, all variables with the value `None` actually point to the same object in memory (the `id()` for all of them will give the same value.)"
   ]
  },
  {
   "cell_type": "code",
   "execution_count": null,
   "id": "d242edd7",
   "metadata": {},
   "outputs": [
    {
     "name": "stdout",
     "output_type": "stream",
     "text": [
      "True\n",
      "False\n"
     ]
    }
   ],
   "source": [
    "class customType:\n",
    "    def __eq__(self, other): # redefine behaviour of `==` operator\n",
    "        return True  # always returns True!\n",
    "    \n",
    "x = customType()\n",
    "print(x == None)\n",
    "print(x is None)"
   ]
  },
  {
   "cell_type": "markdown",
   "id": "1a7dcb1e",
   "metadata": {},
   "source": [
    "So, it is better to use `is`"
   ]
  },
  {
   "cell_type": "markdown",
   "id": "bc73e918",
   "metadata": {},
   "source": [
    "## **Copy and Deepcopy**"
   ]
  },
  {
   "cell_type": "markdown",
   "id": "400396f7",
   "metadata": {},
   "source": [
    "In Python, `copy.copy()` creates a shallow copy of an object, that means it duplicates the outer structure but still references the same inner objects. On the other hand, `copy.deepcopy()` creates a deep copy, recursively copying everything, including nested objects (if they are mutable). This makes deepcopy safer when working with complex, nested data structures that you want to modify independently."
   ]
  },
  {
   "cell_type": "code",
   "execution_count": 127,
   "id": "ce38b32b",
   "metadata": {},
   "outputs": [
    {
     "name": "stdout",
     "output_type": "stream",
     "text": [
      "True\n",
      "True\n"
     ]
    }
   ],
   "source": [
    "import copy\n",
    "x = \"some string\"\n",
    "y = copy.copy(x) # so actually copy do nothing, because string is immutable\n",
    "print(x is y)\n",
    "y = copy.deepcopy(x) # same for deepcopy\n",
    "print(x is y)"
   ]
  },
  {
   "cell_type": "code",
   "execution_count": null,
   "id": "d8b2d514",
   "metadata": {},
   "outputs": [
    {
     "name": "stdout",
     "output_type": "stream",
     "text": [
      "False True\n",
      "[1, 1, 2, [3, 5, 8, 'Oops'], 'Euler', <built-in function sum>]\n",
      "[1, 1, 2, [3, 5, 8, 'Oops'], 'Euler', <built-in function sum>]\n",
      "False\n",
      "False False True\n",
      "[1, 1.0, 2, [3, 5, 8, 'Oops'], 'Euler', <built-in function sum>]\n",
      "[1, 1.0, 2, [3, 5, 8], 'Euler', <built-in function sum>]\n"
     ]
    }
   ],
   "source": [
    "import copy\n",
    "x = [1, 1, 2, [3, 5, 8], 'Euler', sum]\n",
    "y = copy.copy(x) # so actually copy do nothing, because string is immutable\n",
    "print(x is y, x[3] is y[3]) # actually copy only top level values \n",
    "\n",
    "x[3].append('Oops')\n",
    "print(x, y, sep='\\n')\n",
    "\n",
    "x = [1, 1.0, 2, [3, 5, 8], 'Euler', sum]\n",
    "y = copy.deepcopy(x) # do 'honest' copy with all nested objects\n",
    "print(x is y)\n",
    "\n",
    "print(x is y, x[3] is y[3], x[0] is y[0])\n",
    "\n",
    "x[3].append('Oops')\n",
    "print(x, y, sep='\\n')"
   ]
  },
  {
   "cell_type": "code",
   "execution_count": null,
   "id": "62bb2564",
   "metadata": {},
   "outputs": [],
   "source": [
    "a = [0]\n",
    "a.append(a)\n",
    "print(a, a is a[1])"
   ]
  },
  {
   "cell_type": "code",
   "execution_count": 149,
   "id": "f33a35cd",
   "metadata": {},
   "outputs": [
    {
     "name": "stdout",
     "output_type": "stream",
     "text": [
      "copy:  False True False\n",
      "deepcopy:  False False False\n"
     ]
    }
   ],
   "source": [
    "#What will be printed?\n",
    "b = copy.copy(a)\n",
    "print(\"copy: \", a is b, a[1] is b[1], a is b[1])\n",
    "\n",
    "b = copy.deepcopy(a)\n",
    "print(\"deepcopy: \", a is b, a[1] is b[1], a is b[1])"
   ]
  },
  {
   "cell_type": "code",
   "execution_count": 150,
   "id": "b2af4600",
   "metadata": {},
   "outputs": [
    {
     "name": "stdout",
     "output_type": "stream",
     "text": [
      "a: [['👻'], ['👻'], ['👻']]\n",
      "b: [['👻'], ['👻'], ['👻']]\n"
     ]
    }
   ],
   "source": [
    "#What will be printed?\n",
    "a = [[]] * 3\n",
    "b = copy.copy(a)\n",
    "a[0].append('👻')\n",
    "\n",
    "print(\"a:\", a)\n",
    "print(\"b:\", b)"
   ]
  },
  {
   "cell_type": "markdown",
   "id": "339c717f",
   "metadata": {},
   "source": [
    "Deepcopy is usually slower and may have issues with certain objects like file handles or recursive references (though it tries to handle those)."
   ]
  },
  {
   "cell_type": "markdown",
   "id": "f22761cf",
   "metadata": {},
   "source": [
    "<div class=\"alert alert-info\">\n",
    "<b>Advice: </b> Do not make copies of objects unnecessarily. Copying is an expensive operation in terms of resources, especially if we talk about deep copying. Try to reuse existing structures.\n",
    "</div>"
   ]
  },
  {
   "cell_type": "markdown",
   "id": "f1c1ffd1",
   "metadata": {},
   "source": [
    "## **📦 Python Modules and Packages**"
   ]
  },
  {
   "cell_type": "markdown",
   "id": "6e288e90",
   "metadata": {},
   "source": [
    "Let's create our first python package"
   ]
  },
  {
   "cell_type": "code",
   "execution_count": 1,
   "id": "8e162300",
   "metadata": {},
   "outputs": [
    {
     "name": "stdout",
     "output_type": "stream",
     "text": [
      "Overwriting module.py\n"
     ]
    }
   ],
   "source": [
    "%%writefile module.py\n",
    "\n",
    "import numpy as np\n",
    "print('This code will be printed, when we import module or run it as a script')\n",
    "\n",
    "def softmax(x: np.ndarray) -> np.ndarray:\n",
    "    \"\"\"\n",
    "    Applies the softmax function to the input array.\n",
    "\n",
    "    Parameters\n",
    "    ----------\n",
    "    x : np.ndarray\n",
    "        Input array.\n",
    "\n",
    "    Returns\n",
    "    -------\n",
    "    np.ndarray\n",
    "        Softmax-transformed array.\n",
    "    \"\"\"\n",
    "    x_exp = np.exp(x)\n",
    "    return x_exp / x_exp.sum()\n",
    "\n",
    "if __name__ == \"__main__\":\n",
    "    print(f\"Run in main: {softmax(np.array([1, 2, 3]))}\")"
   ]
  },
  {
   "cell_type": "code",
   "execution_count": 2,
   "id": "a883a7ad",
   "metadata": {},
   "outputs": [
    {
     "name": "stdout",
     "output_type": "stream",
     "text": [
      "This code will be printed, when we import module or run it as a script\n"
     ]
    }
   ],
   "source": [
    "import module"
   ]
  },
  {
   "cell_type": "markdown",
   "id": "7beb7776",
   "metadata": {},
   "source": [
    "When we try to import the module a second time, it will not be imported again, the old one will be used instead (despite the fact that we may have made some changes to module.py)"
   ]
  },
  {
   "cell_type": "code",
   "execution_count": 3,
   "id": "dd5daf7d",
   "metadata": {},
   "outputs": [],
   "source": [
    "import module"
   ]
  },
  {
   "cell_type": "code",
   "execution_count": null,
   "id": "18fe230b",
   "metadata": {},
   "outputs": [
    {
     "ename": "NameError",
     "evalue": "name 'np' is not defined",
     "output_type": "error",
     "traceback": [
      "\u001b[31m---------------------------------------------------------------------------\u001b[39m",
      "\u001b[31mNameError\u001b[39m                                 Traceback (most recent call last)",
      "\u001b[36mCell\u001b[39m\u001b[36m \u001b[39m\u001b[32mIn[5]\u001b[39m\u001b[32m, line 1\u001b[39m\n\u001b[32m----> \u001b[39m\u001b[32m1\u001b[39m module.softmax(\u001b[43mnp\u001b[49m.array([\u001b[32m2\u001b[39m, \u001b[32m3\u001b[39m, \u001b[32m4\u001b[39m]))\n",
      "\u001b[31mNameError\u001b[39m: name 'np' is not defined"
     ]
    }
   ],
   "source": [
    "import numpy as np\n",
    "module.softmax(np.array([2, 3, 4]))"
   ]
  },
  {
   "cell_type": "markdown",
   "id": "ee0d1285",
   "metadata": {},
   "source": [
    "All object defined in module are isolated. Therefore, if we locally declared some variable with the same name as in the module, there will be no conflict."
   ]
  },
  {
   "cell_type": "code",
   "execution_count": 6,
   "id": "e2ee5f76",
   "metadata": {},
   "outputs": [
    {
     "data": {
      "text/plain": [
       "array([0.09003057, 0.24472847, 0.66524096])"
      ]
     },
     "execution_count": 6,
     "metadata": {},
     "output_type": "execute_result"
    }
   ],
   "source": [
    "import numpy as np\n",
    "module.softmax(np.array([2, 3, 4]))"
   ]
  },
  {
   "cell_type": "markdown",
   "id": "79a5dde3",
   "metadata": {},
   "source": [
    "There is special variable `__name__`, which is built-in python variable that tells you how a python file is being used — either as a script or as a module imported somewhere else."
   ]
  },
  {
   "cell_type": "code",
   "execution_count": 7,
   "id": "198e6b60",
   "metadata": {},
   "outputs": [],
   "source": [
    "# So if you want to run some code in module, only if it is launched as a script you can add\n",
    "if __name__ == \"__main__\":\n",
    "    # Some code, that you need to run \n",
    "    pass"
   ]
  },
  {
   "cell_type": "code",
   "execution_count": 8,
   "id": "a86308ae",
   "metadata": {},
   "outputs": [
    {
     "name": "stdout",
     "output_type": "stream",
     "text": [
      "This code will be printed, when we import module or run it as a script\n",
      "Run in main: [0.09003057 0.24472847 0.66524096]\n"
     ]
    }
   ],
   "source": [
    "!python module.py"
   ]
  },
  {
   "cell_type": "markdown",
   "id": "cf7f7b42",
   "metadata": {},
   "source": [
    "Using `dir()` you can see what objects is defined inside module"
   ]
  },
  {
   "cell_type": "code",
   "execution_count": 13,
   "id": "210734f3",
   "metadata": {},
   "outputs": [
    {
     "data": {
      "text/plain": [
       "['__builtins__',\n",
       " '__cached__',\n",
       " '__doc__',\n",
       " '__file__',\n",
       " '__loader__',\n",
       " '__name__',\n",
       " '__package__',\n",
       " '__spec__',\n",
       " 'np',\n",
       " 'softmax']"
      ]
     },
     "execution_count": 13,
     "metadata": {},
     "output_type": "execute_result"
    }
   ],
   "source": [
    "dir(module)"
   ]
  },
  {
   "cell_type": "markdown",
   "id": "5fdd8160",
   "metadata": {},
   "source": [
    "You can group multiple modules into packages, and you can also create packages within other packages (nested packages)."
   ]
  },
  {
   "cell_type": "code",
   "execution_count": null,
   "id": "d4ae3e33",
   "metadata": {},
   "outputs": [],
   "source": [
    "! mkdir package\n",
    "! mkdir package/inner\n",
    "! cp module.py package/inner/module.py"
   ]
  },
  {
   "cell_type": "markdown",
   "id": "4989688b",
   "metadata": {},
   "source": [
    "A directory is recognized as a package if it contains an `__init__.py` file. This file can be empty or contain initialization code for the package. (In Python 3.3 and later, implicit namespace packages are also supported, allowing directories without `__init__.py` to be treated as packages under certain conditions, but we won't cover them)"
   ]
  },
  {
   "cell_type": "code",
   "execution_count": 21,
   "id": "d6927758",
   "metadata": {},
   "outputs": [],
   "source": [
    "! echo \"print('This is code inside package/__init__.py')\"> package/__init__.py\n",
    "! echo \"print('This is code inside package/inner/__init__.py')\"> package/inner/__init__.py # in each subpackage, you also need to create __init__.py file"
   ]
  },
  {
   "cell_type": "code",
   "execution_count": null,
   "id": "6d5bd645",
   "metadata": {},
   "outputs": [
    {
     "name": "stdout",
     "output_type": "stream",
     "text": [
      "This is code inside package/inner/__init__.py\n"
     ]
    }
   ],
   "source": [
    "import package"
   ]
  },
  {
   "cell_type": "code",
   "execution_count": 3,
   "id": "9acaba10",
   "metadata": {},
   "outputs": [],
   "source": [
    "import package.inner"
   ]
  },
  {
   "cell_type": "markdown",
   "id": "a9c5690f",
   "metadata": {},
   "source": [
    "You can use the keyword `as` to change the name of the module, package, or object inside the module."
   ]
  },
  {
   "cell_type": "code",
   "execution_count": 2,
   "id": "341b95ed",
   "metadata": {},
   "outputs": [],
   "source": [
    "import package.inner.module as some_module "
   ]
  },
  {
   "cell_type": "markdown",
   "id": "d4bd0b19",
   "metadata": {},
   "source": [
    "You can use keyword `from` to import specific objects from module directly"
   ]
  },
  {
   "cell_type": "code",
   "execution_count": 1,
   "id": "8c37b189",
   "metadata": {},
   "outputs": [
    {
     "name": "stdout",
     "output_type": "stream",
     "text": [
      "This is code inside package/__init__.py\n",
      "This is code inside package/inner/__init__.py\n",
      "This code will be printed, when we import module or run it as a script\n"
     ]
    },
    {
     "data": {
      "text/plain": [
       "array([0.09003057, 0.24472847, 0.66524096])"
      ]
     },
     "execution_count": 1,
     "metadata": {},
     "output_type": "execute_result"
    }
   ],
   "source": [
    "import numpy as np\n",
    "\n",
    "from package.inner.module import softmax as Softmax\n",
    "\n",
    "Softmax(np.array([5, 6, 7]))"
   ]
  },
  {
   "cell_type": "markdown",
   "id": "a1386c2d",
   "metadata": {},
   "source": [
    "If you want to import all objects or modules from package or module, you can use `*`"
   ]
  },
  {
   "cell_type": "code",
   "execution_count": 4,
   "id": "dee60b6b",
   "metadata": {},
   "outputs": [
    {
     "ename": "NameError",
     "evalue": "name 'module' is not defined",
     "output_type": "error",
     "traceback": [
      "\u001b[31m---------------------------------------------------------------------------\u001b[39m",
      "\u001b[31mNameError\u001b[39m                                 Traceback (most recent call last)",
      "\u001b[36mCell\u001b[39m\u001b[36m \u001b[39m\u001b[32mIn[4]\u001b[39m\u001b[32m, line 5\u001b[39m\n\u001b[32m      1\u001b[39m \u001b[38;5;28;01mimport\u001b[39;00m\u001b[38;5;250m \u001b[39m\u001b[34;01mnumpy\u001b[39;00m\u001b[38;5;250m \u001b[39m\u001b[38;5;28;01mas\u001b[39;00m\u001b[38;5;250m \u001b[39m\u001b[34;01mnp\u001b[39;00m\n\u001b[32m      3\u001b[39m \u001b[38;5;28;01mfrom\u001b[39;00m\u001b[38;5;250m \u001b[39m\u001b[34;01mpackage\u001b[39;00m\u001b[34;01m.\u001b[39;00m\u001b[34;01minner\u001b[39;00m\u001b[38;5;250m \u001b[39m\u001b[38;5;28;01mimport\u001b[39;00m *\n\u001b[32m----> \u001b[39m\u001b[32m5\u001b[39m \u001b[43mmodule\u001b[49m.softmax(np.array([\u001b[32m5\u001b[39m, \u001b[32m6\u001b[39m, \u001b[32m7\u001b[39m]))\n",
      "\u001b[31mNameError\u001b[39m: name 'module' is not defined"
     ]
    }
   ],
   "source": [
    "import numpy as np\n",
    "\n",
    "from package.inner import *\n",
    "\n",
    "module.softmax(np.array([5, 6, 7]))"
   ]
  },
  {
   "cell_type": "code",
   "execution_count": 5,
   "id": "9a57ccc2",
   "metadata": {},
   "outputs": [
    {
     "name": "stdout",
     "output_type": "stream",
     "text": [
      "Overwriting package/inner/__init__.py\n"
     ]
    }
   ],
   "source": [
    "%%writefile package/inner/__init__.py\n",
    "\n",
    "from module import softmax as Softmax\n",
    "import module"
   ]
  },
  {
   "cell_type": "code",
   "execution_count": 3,
   "id": "164f50b3",
   "metadata": {},
   "outputs": [
    {
     "name": "stdout",
     "output_type": "stream",
     "text": [
      "[0.09003057 0.24472847 0.66524096]\n",
      "[0.09003057 0.24472847 0.66524096]\n"
     ]
    }
   ],
   "source": [
    "import numpy as np\n",
    "\n",
    "from package.inner import *\n",
    "\n",
    "print(module.softmax(np.array([5, 6, 7])))\n",
    "print(Softmax(np.array([5, 6, 7])))"
   ]
  },
  {
   "cell_type": "markdown",
   "id": "dd5ae731",
   "metadata": {},
   "source": [
    "<div class=\"alert alert-info\">\n",
    "<b>Advice: </b> avoid importing using `*`, this makes the code less understandable (since it is unclear exactly which modules and objects are in the current scope and you have to look at which objects are declared in the module being imported via *). Also, importing all objects for large packages can significantly slow down the program startup.\n",
    "</div>\n",
    "\n"
   ]
  },
  {
   "cell_type": "markdown",
   "id": "6f5e48bb",
   "metadata": {},
   "source": [
    "There is a package repository from which you can download almost any necessary package: https://pypi.org"
   ]
  },
  {
   "cell_type": "code",
   "execution_count": 4,
   "id": "2c664c9a",
   "metadata": {},
   "outputs": [
    {
     "name": "stdout",
     "output_type": "stream",
     "text": [
      "Collecting pandas\n",
      "  Downloading pandas-2.3.1-cp313-cp313-macosx_11_0_arm64.whl.metadata (91 kB)\n",
      "Requirement already satisfied: numpy>=1.26.0 in /Users/m.akhtyrchenko/miniconda3/lib/python3.13/site-packages (from pandas) (2.3.2)\n",
      "Requirement already satisfied: python-dateutil>=2.8.2 in /Users/m.akhtyrchenko/miniconda3/lib/python3.13/site-packages (from pandas) (2.9.0.post0)\n",
      "Collecting pytz>=2020.1 (from pandas)\n",
      "  Downloading pytz-2025.2-py2.py3-none-any.whl.metadata (22 kB)\n",
      "Collecting tzdata>=2022.7 (from pandas)\n",
      "  Downloading tzdata-2025.2-py2.py3-none-any.whl.metadata (1.4 kB)\n",
      "Requirement already satisfied: six>=1.5 in /Users/m.akhtyrchenko/miniconda3/lib/python3.13/site-packages (from python-dateutil>=2.8.2->pandas) (1.17.0)\n",
      "Downloading pandas-2.3.1-cp313-cp313-macosx_11_0_arm64.whl (10.7 MB)\n",
      "\u001b[2K   \u001b[90m━━━━━━━━━━━━━━━━━━━━━━━━━━━━━━━━━━━━━━━━\u001b[0m \u001b[32m10.7/10.7 MB\u001b[0m \u001b[31m6.6 MB/s\u001b[0m eta \u001b[36m0:00:00\u001b[0m \u001b[36m0:00:01\u001b[0m\n",
      "\u001b[?25hDownloading pytz-2025.2-py2.py3-none-any.whl (509 kB)\n",
      "Downloading tzdata-2025.2-py2.py3-none-any.whl (347 kB)\n",
      "Installing collected packages: pytz, tzdata, pandas\n",
      "Successfully installed pandas-2.3.1 pytz-2025.2 tzdata-2025.2\n"
     ]
    }
   ],
   "source": [
    "! pip install pandas"
   ]
  },
  {
   "cell_type": "code",
   "execution_count": 10,
   "id": "ba438310",
   "metadata": {},
   "outputs": [
    {
     "name": "stdout",
     "output_type": "stream",
     "text": [
      "Overwriting requirements.txt\n"
     ]
    }
   ],
   "source": [
    "%%writefile requirements.txt\n",
    "\n",
    "numpy\n",
    "pandas>=2.2.0\n",
    "requests<3.0\n",
    "scikit-learn>=1.5.0\n",
    "matplotlib~=3.9.0"
   ]
  },
  {
   "cell_type": "markdown",
   "id": "e8bd913a",
   "metadata": {},
   "source": [
    "You can install packages from file"
   ]
  },
  {
   "cell_type": "code",
   "execution_count": 11,
   "id": "ca381947",
   "metadata": {},
   "outputs": [
    {
     "name": "stdout",
     "output_type": "stream",
     "text": [
      "Requirement already satisfied: numpy in /Users/m.akhtyrchenko/miniconda3/lib/python3.13/site-packages (from -r requirements.txt (line 2)) (2.3.2)\n",
      "Requirement already satisfied: pandas>=2.2.0 in /Users/m.akhtyrchenko/miniconda3/lib/python3.13/site-packages (from -r requirements.txt (line 3)) (2.3.1)\n",
      "Requirement already satisfied: requests<3.0 in /Users/m.akhtyrchenko/miniconda3/lib/python3.13/site-packages (from -r requirements.txt (line 4)) (2.32.3)\n",
      "Collecting scikit-learn>=1.5.0 (from -r requirements.txt (line 5))\n",
      "  Downloading scikit_learn-1.7.1-cp313-cp313-macosx_12_0_arm64.whl.metadata (11 kB)\n",
      "Collecting matplotlib~=3.9.0 (from -r requirements.txt (line 6))\n",
      "  Downloading matplotlib-3.9.4-cp313-cp313-macosx_11_0_arm64.whl.metadata (11 kB)\n",
      "Requirement already satisfied: python-dateutil>=2.8.2 in /Users/m.akhtyrchenko/miniconda3/lib/python3.13/site-packages (from pandas>=2.2.0->-r requirements.txt (line 3)) (2.9.0.post0)\n",
      "Requirement already satisfied: pytz>=2020.1 in /Users/m.akhtyrchenko/miniconda3/lib/python3.13/site-packages (from pandas>=2.2.0->-r requirements.txt (line 3)) (2025.2)\n",
      "Requirement already satisfied: tzdata>=2022.7 in /Users/m.akhtyrchenko/miniconda3/lib/python3.13/site-packages (from pandas>=2.2.0->-r requirements.txt (line 3)) (2025.2)\n",
      "Requirement already satisfied: charset-normalizer<4,>=2 in /Users/m.akhtyrchenko/miniconda3/lib/python3.13/site-packages (from requests<3.0->-r requirements.txt (line 4)) (3.3.2)\n",
      "Requirement already satisfied: idna<4,>=2.5 in /Users/m.akhtyrchenko/miniconda3/lib/python3.13/site-packages (from requests<3.0->-r requirements.txt (line 4)) (3.7)\n",
      "Requirement already satisfied: urllib3<3,>=1.21.1 in /Users/m.akhtyrchenko/miniconda3/lib/python3.13/site-packages (from requests<3.0->-r requirements.txt (line 4)) (2.3.0)\n",
      "Requirement already satisfied: certifi>=2017.4.17 in /Users/m.akhtyrchenko/miniconda3/lib/python3.13/site-packages (from requests<3.0->-r requirements.txt (line 4)) (2025.6.15)\n",
      "Collecting scipy>=1.8.0 (from scikit-learn>=1.5.0->-r requirements.txt (line 5))\n",
      "  Using cached scipy-1.16.1-cp313-cp313-macosx_14_0_arm64.whl.metadata (61 kB)\n",
      "Collecting joblib>=1.2.0 (from scikit-learn>=1.5.0->-r requirements.txt (line 5))\n",
      "  Downloading joblib-1.5.1-py3-none-any.whl.metadata (5.6 kB)\n",
      "Collecting threadpoolctl>=3.1.0 (from scikit-learn>=1.5.0->-r requirements.txt (line 5))\n",
      "  Downloading threadpoolctl-3.6.0-py3-none-any.whl.metadata (13 kB)\n",
      "Requirement already satisfied: contourpy>=1.0.1 in /Users/m.akhtyrchenko/miniconda3/lib/python3.13/site-packages (from matplotlib~=3.9.0->-r requirements.txt (line 6)) (1.3.3)\n",
      "Requirement already satisfied: cycler>=0.10 in /Users/m.akhtyrchenko/miniconda3/lib/python3.13/site-packages (from matplotlib~=3.9.0->-r requirements.txt (line 6)) (0.12.1)\n",
      "Requirement already satisfied: fonttools>=4.22.0 in /Users/m.akhtyrchenko/miniconda3/lib/python3.13/site-packages (from matplotlib~=3.9.0->-r requirements.txt (line 6)) (4.59.0)\n",
      "Requirement already satisfied: kiwisolver>=1.3.1 in /Users/m.akhtyrchenko/miniconda3/lib/python3.13/site-packages (from matplotlib~=3.9.0->-r requirements.txt (line 6)) (1.4.8)\n",
      "Requirement already satisfied: packaging>=20.0 in /Users/m.akhtyrchenko/miniconda3/lib/python3.13/site-packages (from matplotlib~=3.9.0->-r requirements.txt (line 6)) (24.2)\n",
      "Requirement already satisfied: pillow>=8 in /Users/m.akhtyrchenko/miniconda3/lib/python3.13/site-packages (from matplotlib~=3.9.0->-r requirements.txt (line 6)) (11.3.0)\n",
      "Requirement already satisfied: pyparsing>=2.3.1 in /Users/m.akhtyrchenko/miniconda3/lib/python3.13/site-packages (from matplotlib~=3.9.0->-r requirements.txt (line 6)) (3.2.3)\n",
      "Requirement already satisfied: six>=1.5 in /Users/m.akhtyrchenko/miniconda3/lib/python3.13/site-packages (from python-dateutil>=2.8.2->pandas>=2.2.0->-r requirements.txt (line 3)) (1.17.0)\n",
      "Downloading scikit_learn-1.7.1-cp313-cp313-macosx_12_0_arm64.whl (8.6 MB)\n",
      "\u001b[2K   \u001b[90m━━━━━━━━━━━━━━━━━━━━━━━━━━━━━━━━━━━━━━━━\u001b[0m \u001b[32m8.6/8.6 MB\u001b[0m \u001b[31m4.1 MB/s\u001b[0m eta \u001b[36m0:00:00\u001b[0m00:01\u001b[0m00:01\u001b[0m\n",
      "\u001b[?25hDownloading matplotlib-3.9.4-cp313-cp313-macosx_11_0_arm64.whl (7.8 MB)\n",
      "\u001b[2K   \u001b[90m━━━━━━━━━━━━━━━━━━━━━━━━━━━━━━━━━━━━━━━━\u001b[0m \u001b[32m7.8/7.8 MB\u001b[0m \u001b[31m7.5 MB/s\u001b[0m eta \u001b[36m0:00:00\u001b[0m00:01\u001b[0m00:01\u001b[0m\n",
      "\u001b[?25hDownloading joblib-1.5.1-py3-none-any.whl (307 kB)\n",
      "Using cached scipy-1.16.1-cp313-cp313-macosx_14_0_arm64.whl (20.8 MB)\n",
      "Downloading threadpoolctl-3.6.0-py3-none-any.whl (18 kB)\n",
      "Installing collected packages: threadpoolctl, scipy, joblib, scikit-learn, matplotlib\n",
      "  Attempting uninstall: matplotlib\n",
      "    Found existing installation: matplotlib 3.10.3\n",
      "    Uninstalling matplotlib-3.10.3:\n",
      "      Successfully uninstalled matplotlib-3.10.3\n",
      "Successfully installed joblib-1.5.1 matplotlib-3.9.4 scikit-learn-1.7.1 scipy-1.16.1 threadpoolctl-3.6.0\n"
     ]
    }
   ],
   "source": [
    "! pip install -r requirements.txt"
   ]
  },
  {
   "cell_type": "code",
   "execution_count": 12,
   "id": "b3adba24",
   "metadata": {},
   "outputs": [
    {
     "data": {
      "text/plain": [
       "'2.3.1'"
      ]
     },
     "execution_count": 12,
     "metadata": {},
     "output_type": "execute_result"
    }
   ],
   "source": [
    "import pandas as pd\n",
    "pd.__version__"
   ]
  },
  {
   "cell_type": "markdown",
   "id": "b4397de1",
   "metadata": {},
   "source": [
    "# How to write readable and maintainable code?"
   ]
  },
  {
   "cell_type": "markdown",
   "id": "2e192e93",
   "metadata": {},
   "source": [
    "## Naming, typing and docstring"
   ]
  },
  {
   "cell_type": "markdown",
   "id": "2553a732",
   "metadata": {},
   "source": [
    "Here is bad code example of dijkstra algorithm implementation"
   ]
  },
  {
   "cell_type": "code",
   "execution_count": null,
   "id": "b80a7230",
   "metadata": {},
   "outputs": [],
   "source": [
    "import heapq as h\n",
    "\n",
    "def d(g,s):\n",
    "    q=[]; h.heappush(q,(0,s))\n",
    "    v={s:0}\n",
    "    p={}\n",
    "    while q:\n",
    "        c,n=h.heappop(q)\n",
    "        if c>v[n]:continue\n",
    "        for a,b in g.get(n,[]):\n",
    "            d=c+b\n",
    "            if a not in v or d<v[a]:\n",
    "                v[a]=d\n",
    "                p[a]=n\n",
    "                h.heappush(q,(d,a))\n",
    "    return v,p"
   ]
  },
  {
   "cell_type": "markdown",
   "id": "1b693dc7",
   "metadata": {},
   "source": [
    "<div class=\"alert alert-success\">\n",
    "  <b>Advise:</b> you should use understandable and interpretable function and variable names\n",
    "</div>"
   ]
  },
  {
   "cell_type": "code",
   "execution_count": null,
   "id": "fdab8044",
   "metadata": {},
   "outputs": [],
   "source": [
    "import heapq\n",
    "\n",
    "def dijkstra(graph, start_node):\n",
    "    priority_queue = []\n",
    "    heapq.heappush(priority_queue, (0, start_node))\n",
    "    distances = {start_node: 0}\n",
    "    previous_nodes = {}\n",
    "    while priority_queue:\n",
    "        current_cost, current_node = heapq.heappop(priority_queue)\n",
    "        if current_cost > distances[current_node]:\n",
    "            continue\n",
    "        for neighbor, weight in graph.get(current_node, []):\n",
    "            new_cost = current_cost + weight\n",
    "            if neighbor not in distances or new_cost < distances[neighbor]:\n",
    "                distances[neighbor] = new_cost\n",
    "                previous_nodes[neighbor] = current_node\n",
    "                heapq.heappush(priority_queue, (new_cost, neighbor))\n",
    "    return distances, previous_nodes"
   ]
  },
  {
   "cell_type": "markdown",
   "id": "b75fd133",
   "metadata": {},
   "source": [
    "Sometimes, even with clear names of variables and functions, it can be difficult to understand what the code is doing (especially if it's about the code of some algorithm)"
   ]
  },
  {
   "cell_type": "markdown",
   "id": "b38688c5",
   "metadata": {},
   "source": [
    "<div class=\"alert alert-success\">\n",
    "  <b>Advise:</b> it is a good practice to add comments to your code especially, when we are talking about algorithm code\n",
    "</div>"
   ]
  },
  {
   "cell_type": "markdown",
   "id": "16589f80",
   "metadata": {},
   "source": [
    "<div class=\"alert alert-info\">\n",
    "  <b>Comment:</b> in real life, when developing production code, much fewer comments are used, but when creating libraries, especially those implementing some complex algorithms, the complexity increases for the same number of lines of code, so there is a need for comments. \n",
    "</div>"
   ]
  },
  {
   "cell_type": "code",
   "execution_count": null,
   "id": "ddba59f8",
   "metadata": {},
   "outputs": [],
   "source": [
    "import heapq\n",
    "\n",
    "def dijkstra(graph, start_node):\n",
    "    # Priority queue to hold (cost, node)\n",
    "    priority_queue = []\n",
    "    heapq.heappush(priority_queue, (0, start_node))\n",
    "    # Dictionary to track the shortest distance to each node\n",
    "    distances = {start_node: 0}\n",
    "    # Dictionary to track the previous node in the shortest path\n",
    "    previous_nodes = {}\n",
    "    while priority_queue:\n",
    "        current_cost, current_node = heapq.heappop(priority_queue)\n",
    "        # Skip if we've already found a better path\n",
    "        if current_cost > distances[current_node]:\n",
    "            continue\n",
    "        # Check neighbors of the current node\n",
    "        for neighbor, weight in graph.get(current_node, []):\n",
    "            new_cost = current_cost + weight\n",
    "            # If this path to neighbor is better, update it\n",
    "            if neighbor not in distances or new_cost < distances[neighbor]:\n",
    "                distances[neighbor] = new_cost\n",
    "                previous_nodes[neighbor] = current_node\n",
    "                heapq.heappush(priority_queue, (new_cost, neighbor))\n",
    "    return distances, previous_nodes"
   ]
  },
  {
   "cell_type": "markdown",
   "id": "4f885138",
   "metadata": {},
   "source": [
    "But even with comments and a clear function name, it can be difficult to understand what the function expects to receive as input and what it returns."
   ]
  },
  {
   "cell_type": "markdown",
   "id": "474c1f3f",
   "metadata": {},
   "source": [
    "<div class=\"alert alert-success\">\n",
    "  <b>Advise:</b> add type annotations, especially where complex nested structures are used.\n",
    "</div>"
   ]
  },
  {
   "cell_type": "code",
   "execution_count": null,
   "id": "ae222f08",
   "metadata": {},
   "outputs": [],
   "source": [
    "from typing import Any, Dict\n",
    "\n",
    "def dijkstra(\n",
    "    graph: dict[Any, list[tuple[Any, float]]],\n",
    "    start_node: Any\n",
    ") -> tuple[dict[Any, float], dict[Any, Any]]:\n",
    "    # Priority queue to hold (cost, node)\n",
    "    priority_queue : list[tuple[float, Any]] = []\n",
    "    heapq.heappush(priority_queue, (0, start_node))\n",
    "    # Dictionary to track the shortest distance to each node\n",
    "    distances = {start_node: 0}\n",
    "    # Dictionary to track the previous node in the shortest path\n",
    "    previous_nodes: dict[Any, Any]  = {}\n",
    "    while priority_queue:\n",
    "        current_cost, current_node = heapq.heappop(priority_queue)\n",
    "        # Skip if we've already found a better path\n",
    "        if current_cost > distances[current_node]:\n",
    "            continue\n",
    "        # Check neighbors of the current node\n",
    "        for neighbor, weight in graph.get(current_node, []):\n",
    "            new_cost = current_cost + weight\n",
    "            # If this path to neighbor is better, update it\n",
    "            if neighbor not in distances or new_cost < distances[neighbor]:\n",
    "                distances[neighbor] = new_cost\n",
    "                previous_nodes[neighbor] = current_node\n",
    "                heapq.heappush(priority_queue, (new_cost, neighbor))\n",
    "    return distances, previous_nodes"
   ]
  },
  {
   "cell_type": "markdown",
   "id": "36e679d4",
   "metadata": {},
   "source": [
    "<div class=\"alert alert-success\">\n",
    "  <b>Advise:</b> so that other people can understand what the function does without reading the code, add a description of the method using docstring.\n",
    "</div>"
   ]
  },
  {
   "cell_type": "code",
   "execution_count": 2,
   "id": "b6f42c74",
   "metadata": {},
   "outputs": [],
   "source": [
    "from typing import Any\n",
    "\n",
    "def dijkstra(\n",
    "    graph: dict[Any, list[tuple[Any, float]]],\n",
    "    start_node: Any\n",
    ") -> tuple[dict[Any, float], dict[Any, Any]]:\n",
    "    \"\"\"\n",
    "    Compute the shortest paths from a start node to all other nodes using Dijkstra's algorithm.\n",
    "    \n",
    "    Parameters:\n",
    "    graph (Dict[Any, List[Tuple[Any, float]]]): \n",
    "        A graph represented as an adjacency list. Each key is a node, and each value \n",
    "        is a list of (neighbor, weight) pairs.\n",
    "    start_node (Any): \n",
    "        The node from which to start the search.\n",
    "\n",
    "    Returns:\n",
    "    Tuple[Dict[Any, float], Dict[Any, Any]]:\n",
    "        - A dictionary mapping each reachable node to its minimum distance from the start node.\n",
    "        - A dictionary mapping each node to the previous node on its shortest path.\n",
    "    \"\"\"\n",
    "    # Priority queue to hold (cost, node)\n",
    "    priority_queue : list[tuple[float, Any]] = []\n",
    "    heapq.heappush(priority_queue, (0, start_node))\n",
    "    # Dictionary to track the shortest distance to each node\n",
    "    distances = {start_node: 0}\n",
    "    # Dictionary to track the previous node in the shortest path\n",
    "    previous_nodes: dict[Any, Any]  = {}\n",
    "    while priority_queue:\n",
    "        current_cost, current_node = heapq.heappop(priority_queue)\n",
    "        # Skip if we've already found a better path\n",
    "        if current_cost > distances[current_node]:\n",
    "            continue\n",
    "        # Check neighbors of the current node\n",
    "        for neighbor, weight in graph.get(current_node, []):\n",
    "            new_cost = current_cost + weight\n",
    "            # If this path to neighbor is better, update it\n",
    "            if neighbor not in distances or new_cost < distances[neighbor]:\n",
    "                distances[neighbor] = new_cost\n",
    "                previous_nodes[neighbor] = current_node\n",
    "                heapq.heappush(priority_queue, (new_cost, neighbor))\n",
    "    return distances, previous_nodes"
   ]
  },
  {
   "cell_type": "code",
   "execution_count": 3,
   "id": "3162917e",
   "metadata": {},
   "outputs": [
    {
     "name": "stdout",
     "output_type": "stream",
     "text": [
      "Help on function dijkstra in module __main__:\n",
      "\n",
      "dijkstra(\n",
      "    graph: dict[typing.Any, list[tuple[typing.Any, float]]],\n",
      "    start_node: Any\n",
      ") -> tuple[dict[typing.Any, float], dict[typing.Any, typing.Any]]\n",
      "    Compute the shortest paths from a start node to all other nodes using Dijkstra's algorithm.\n",
      "\n",
      "    Parameters:\n",
      "    graph (Dict[Any, List[Tuple[Any, float]]]):\n",
      "        A graph represented as an adjacency list. Each key is a node, and each value\n",
      "        is a list of (neighbor, weight) pairs.\n",
      "    start_node (Any):\n",
      "        The node from which to start the search.\n",
      "\n",
      "    Returns:\n",
      "    Tuple[Dict[Any, float], Dict[Any, Any]]:\n",
      "        - A dictionary mapping each reachable node to its minimum distance from the start node.\n",
      "        - A dictionary mapping each node to the previous node on its shortest path.\n",
      "\n"
     ]
    }
   ],
   "source": [
    "help(dijkstra)"
   ]
  },
  {
   "cell_type": "markdown",
   "id": "be7d9ef0",
   "metadata": {},
   "source": [
    "## PEP8"
   ]
  },
  {
   "cell_type": "markdown",
   "id": "542d6505",
   "metadata": {},
   "source": [
    "PEP 8 is the style guide for Python code. It helps developers write readable, consistent code."
   ]
  },
  {
   "cell_type": "markdown",
   "id": "3c622c28",
   "metadata": {},
   "source": [
    "### Common style guide rules"
   ]
  },
  {
   "cell_type": "markdown",
   "id": "8e01439b",
   "metadata": {},
   "source": [
    "Indentation: 4 spaces"
   ]
  },
  {
   "cell_type": "code",
   "execution_count": null,
   "id": "0652a974",
   "metadata": {},
   "outputs": [],
   "source": [
    "# Wrong\n",
    "def greet(name):\n",
    "  print(\"Hello,\", name)  # only 2 spaces (you can adjust the tab number and width in the settings of your code editor (IDE))\n",
    "\n",
    "# Correct\n",
    "def greet(name):\n",
    "    print(\"Hello,\", name)"
   ]
  },
  {
   "cell_type": "markdown",
   "id": "114ae7de",
   "metadata": {},
   "source": [
    "Line Length: max 79 characters"
   ]
  },
  {
   "cell_type": "code",
   "execution_count": null,
   "id": "0ef62f88",
   "metadata": {},
   "outputs": [],
   "source": [
    "# Wrong\n",
    "msg = \"What determines the fate of humanity in this world? A certain invisible being or law, like the Hand of God hovering over the world? At least it is true that man is not even in control of his own will\"\n",
    "\n",
    "#Correct\n",
    "msg = (\"What determines the fate of humanity in this world? \"\n",
    "       \"A certain invisible being or law, like the Hand of God hovering over the \"\n",
    "       \"world? At least it is true that man is not even in control of his own will\")"
   ]
  },
  {
   "cell_type": "markdown",
   "id": "5ce1b556",
   "metadata": {},
   "source": [
    "Blank lines between functions and classes"
   ]
  },
  {
   "cell_type": "code",
   "execution_count": null,
   "id": "d8d62e05",
   "metadata": {},
   "outputs": [],
   "source": [
    "# Wrong\n",
    "def foo():\n",
    "    pass\n",
    "def bar():\n",
    "    pass\n",
    "\n",
    "# Correct\n",
    "def foo():\n",
    "    pass\n",
    "# two blank lines\n",
    "\n",
    "def bar():\n",
    "    pass\n"
   ]
  },
  {
   "cell_type": "markdown",
   "id": "16e466c0",
   "metadata": {},
   "source": [
    "Spaces around operators"
   ]
  },
  {
   "cell_type": "code",
   "execution_count": null,
   "id": "9ffaf6ec",
   "metadata": {},
   "outputs": [],
   "source": [
    "# Wrong\n",
    "pineapple=\"pine\"+\"apple\"\n",
    "\n",
    "#Correct\n",
    "pineapple = \"pine\" + \"apple\""
   ]
  },
  {
   "cell_type": "markdown",
   "id": "bfb5ee21",
   "metadata": {},
   "source": [
    "Naming conventions:\n",
    "- Functions, variables: snake_case\n",
    "- Classes: CamelCase\n",
    "- Constants: UPPER_CASE"
   ]
  },
  {
   "cell_type": "code",
   "execution_count": null,
   "id": "9f865428",
   "metadata": {},
   "outputs": [],
   "source": [
    "PHI = 1.6180339887\n",
    "\n",
    "def calculate_fibonacci(n):\n",
    "    return round((PHI ** n - (-PHI) ** -n) / 5 ** 0.5)\n",
    "\n",
    "class Prime:\n",
    "    pass"
   ]
  },
  {
   "cell_type": "markdown",
   "id": "f2eeb67d",
   "metadata": {},
   "source": [
    "### Automatic verification"
   ]
  },
  {
   "cell_type": "markdown",
   "id": "c8b7b794",
   "metadata": {},
   "source": [
    "You can automatically check your python code inside the file.py for compliance with the PEP8 standard using the flake8 package"
   ]
  },
  {
   "cell_type": "code",
   "execution_count": 17,
   "id": "e526ef5b",
   "metadata": {},
   "outputs": [
    {
     "name": "stdout",
     "output_type": "stream",
     "text": [
      "Collecting flake8\n",
      "  Downloading flake8-7.3.0-py2.py3-none-any.whl.metadata (3.8 kB)\n",
      "Collecting mccabe<0.8.0,>=0.7.0 (from flake8)\n",
      "  Downloading mccabe-0.7.0-py2.py3-none-any.whl.metadata (5.0 kB)\n",
      "Collecting pycodestyle<2.15.0,>=2.14.0 (from flake8)\n",
      "  Downloading pycodestyle-2.14.0-py2.py3-none-any.whl.metadata (4.5 kB)\n",
      "Collecting pyflakes<3.5.0,>=3.4.0 (from flake8)\n",
      "  Downloading pyflakes-3.4.0-py2.py3-none-any.whl.metadata (3.5 kB)\n",
      "Downloading flake8-7.3.0-py2.py3-none-any.whl (57 kB)\n",
      "Downloading mccabe-0.7.0-py2.py3-none-any.whl (7.3 kB)\n",
      "Downloading pycodestyle-2.14.0-py2.py3-none-any.whl (31 kB)\n",
      "Downloading pyflakes-3.4.0-py2.py3-none-any.whl (63 kB)\n",
      "Installing collected packages: pyflakes, pycodestyle, mccabe, flake8\n",
      "Successfully installed flake8-7.3.0 mccabe-0.7.0 pycodestyle-2.14.0 pyflakes-3.4.0\n"
     ]
    }
   ],
   "source": [
    "!pip install flake8"
   ]
  },
  {
   "cell_type": "code",
   "execution_count": null,
   "id": "bfdc629e",
   "metadata": {},
   "outputs": [],
   "source": [
    "!flake8 code.py"
   ]
  },
  {
   "cell_type": "markdown",
   "id": "870f2c50",
   "metadata": {},
   "source": [
    "If u are working in Jupyter notebook u can use special extension"
   ]
  },
  {
   "cell_type": "code",
   "execution_count": 18,
   "id": "9e0eaf46",
   "metadata": {},
   "outputs": [
    {
     "name": "stdout",
     "output_type": "stream",
     "text": [
      "Writing code.py\n"
     ]
    }
   ],
   "source": [
    "%%writefile code.py\n",
    "x=1+2\n",
    "print( x )"
   ]
  },
  {
   "cell_type": "code",
   "execution_count": 19,
   "id": "6847a67f",
   "metadata": {},
   "outputs": [
    {
     "name": "stdout",
     "output_type": "stream",
     "text": [
      "\u001b[1mcode.py\u001b[m\u001b[36m:\u001b[m1\u001b[36m:\u001b[m2\u001b[36m:\u001b[m \u001b[1m\u001b[31mE225\u001b[m missing whitespace around operator\n",
      "\u001b[1mcode.py\u001b[m\u001b[36m:\u001b[m2\u001b[36m:\u001b[m7\u001b[36m:\u001b[m \u001b[1m\u001b[31mE201\u001b[m whitespace after '('\n",
      "\u001b[1mcode.py\u001b[m\u001b[36m:\u001b[m2\u001b[36m:\u001b[m9\u001b[36m:\u001b[m \u001b[1m\u001b[31mE202\u001b[m whitespace before ')'\n"
     ]
    }
   ],
   "source": [
    "!flake8 code.py"
   ]
  },
  {
   "cell_type": "markdown",
   "id": "2ab05396",
   "metadata": {},
   "source": [
    "### **Some practice**"
   ]
  },
  {
   "cell_type": "markdown",
   "id": "d04dd887",
   "metadata": {},
   "source": [
    "https://cleanpygame.web.app/join/36D4M47M"
   ]
  }
 ],
 "metadata": {
  "kernelspec": {
   "display_name": "nlp",
   "language": "python",
   "name": "python3"
  },
  "language_info": {
   "codemirror_mode": {
    "name": "ipython",
    "version": 3
   },
   "file_extension": ".py",
   "mimetype": "text/x-python",
   "name": "python",
   "nbconvert_exporter": "python",
   "pygments_lexer": "ipython3",
   "version": "3.12.7"
  }
 },
 "nbformat": 4,
 "nbformat_minor": 5
}
