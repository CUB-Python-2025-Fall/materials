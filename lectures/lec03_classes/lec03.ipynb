{
 "cells": [
  {
   "cell_type": "markdown",
   "id": "b50cd172",
   "metadata": {},
   "source": [
    "### Table of contents\n",
    "\n",
    "* **Classes**\n",
    "  * Intro\n",
    "  * Basics of classes\n",
    "  * Static methods / Properties\n",
    "  * Magic methods\n",
    "  * Encapsulation\n",
    "* **Intermediate Data Structures**\n",
    "\n",
    "  * Dataclass\n",
    "  * Enum\n",
    "  * Named Tuple"
   ]
  },
  {
   "cell_type": "markdown",
   "id": "49cb6af9",
   "metadata": {},
   "source": [
    "# Classes (~20:02 (47min))"
   ]
  },
  {
   "cell_type": "markdown",
   "id": "1c707e0f",
   "metadata": {},
   "source": [
    "### Intro (~19:23 (8min))\n",
    "\n",
    "Think of a *class* as a blueprint. It bundles **data** (what something *is*) together with **behavior** (what it *does*).\n"
   ]
  },
  {
   "cell_type": "markdown",
   "id": "e4c8cdc6",
   "metadata": {},
   "source": [
    "A “Chair” has properties like color/legs and actions like “can sit”. In code, those become **attributes** (data) and **methods** (actions)."
   ]
  },
  {
   "cell_type": "code",
   "execution_count": null,
   "id": "81b2522b",
   "metadata": {},
   "outputs": [],
   "source": [
    "class Chair:\n",
    "    def __init__(self, color: str, legs: int):\n",
    "        self.color = color\n",
    "        self.legs = legs\n",
    "\n",
    "    def sit(self):\n",
    "        print(f\"Sitting on a {self.color} chair with {self.legs} legs\")\n",
    "\n",
    "chair = Chair(\"red\", 4)\n",
    "chair.sit()"
   ]
  },
  {
   "cell_type": "markdown",
   "id": "40b0685a",
   "metadata": {},
   "source": [
    "##### The pain without classes\n",
    "\n",
    "When data and behavior are separate, bugs creep in."
   ]
  },
  {
   "cell_type": "code",
   "execution_count": null,
   "id": "d5b8533f",
   "metadata": {},
   "outputs": [],
   "source": [
    "# two accounts as plain dicts\n",
    "alice = {\"owner\": \"Alice\", \"balance\": 100}\n",
    "bob   = {\"owner\": \"Bob\",   \"balance\": 50}\n",
    "\n",
    "def deposit(acct, amount):\n",
    "    acct[\"balance\"] += amount\n",
    "\n",
    "def withdraw(acct, amount):\n",
    "    if acct[\"balance\"] >= amount:\n",
    "        acct[\"balance\"] -= amount\n",
    "\n",
    "deposit(alice, 30)\n",
    "withdraw(bob, 80)        # silently fails? returns nothing\n",
    "bob[\"balnce\"] = 9999     # typo creates a new key -> corrupted state\n"
   ]
  },
  {
   "cell_type": "code",
   "execution_count": null,
   "id": "d3e96d55",
   "metadata": {},
   "outputs": [],
   "source": [
    "# much better\n",
    "class BankAccount:\n",
    "    # __init__ runs automatically when you create an object\n",
    "    def __init__(self, owner, balance=0):\n",
    "        self.owner = owner     # attributes: per-object state\n",
    "        self.balance = balance\n",
    "        self.transactions = [] # list attribute; we can call its methods via self.x.append(...)\n",
    "\n",
    "    # methods: verbs that act on the object\n",
    "    def deposit(self, amount):\n",
    "        self.balance += amount\n",
    "        self.transactions.append((\"deposit\", amount))\n",
    "\n",
    "    def withdraw(self, amount):\n",
    "        if amount > self.balance:\n",
    "            raise ValueError(\"Not enough funds\")\n",
    "        self.balance -= amount\n",
    "        self.transactions.append((\"withdraw\", amount))\n",
    "\n",
    "alice = BankAccount(\"Alice\", 100)\n",
    "bob   = BankAccount(\"Bob\", 50)\n",
    "\n",
    "alice.deposit(30)\n",
    "try:\n",
    "    bob.withdraw(80)\n",
    "except ValueError as e:\n",
    "    print(e)  # Not enough funds\n"
   ]
  },
  {
   "cell_type": "markdown",
   "id": "6c2940df",
   "metadata": {},
   "source": [
    "**attributes**\n",
    "\n",
    "They hold each object’s own data. `alice.balance` and `bob.balance` are independent. Objects share the *methods’ code* but keep their *own state*\n",
    "\n",
    "**methods**\n",
    "\n",
    "They enforce your rules in one place (“can’t withdraw beyond balance”). If the rule changes, you update one method, not dozens of call sites—this is practical **encapsulation**\n",
    "\n",
    "**self**\n",
    "\n",
    "Inside a method, `self` is the object the method was called on. Calling\n",
    "`alice.deposit(30)` is the same as `BankAccount.deposit(alice, 30)`. Keep `self` as the first parameter by convention."
   ]
  },
  {
   "cell_type": "markdown",
   "id": "65356454",
   "metadata": {},
   "source": [
    "### Basics of classes (~19:43 (20min))"
   ]
  },
  {
   "cell_type": "markdown",
   "id": "384b774b",
   "metadata": {},
   "source": [
    "In python, everything is an object."
   ]
  },
  {
   "cell_type": "markdown",
   "id": "37fff223",
   "metadata": {},
   "source": [
    "object vs class / type"
   ]
  },
  {
   "cell_type": "code",
   "execution_count": null,
   "id": "94908411",
   "metadata": {},
   "outputs": [],
   "source": [
    "# Instance\n",
    "1\n"
   ]
  },
  {
   "cell_type": "code",
   "execution_count": null,
   "id": "aa09e288",
   "metadata": {},
   "outputs": [],
   "source": [
    "# Class/type\n",
    "(1).__class__, type(1)"
   ]
  },
  {
   "cell_type": "code",
   "execution_count": null,
   "id": "e4d4861a",
   "metadata": {},
   "outputs": [],
   "source": [
    "# Instance\n",
    "int  # it's an object, instance of the class `type`\n"
   ]
  },
  {
   "cell_type": "code",
   "execution_count": null,
   "id": "bde1aa08",
   "metadata": {},
   "outputs": [],
   "source": [
    "\n",
    "# Class/type\n",
    "(int).__class__, type(int), type(type)"
   ]
  },
  {
   "cell_type": "markdown",
   "id": "590356dd",
   "metadata": {},
   "source": [
    "**Classes: Syntax**"
   ]
  },
  {
   "cell_type": "code",
   "execution_count": null,
   "id": "33e45ebd",
   "metadata": {},
   "outputs": [],
   "source": [
    "class A:\n",
    "    X = 10                       # Class variable\n",
    "\n",
    "    def __init__(self, x: int):  # Initialization of the self instance state\n",
    "        self._x = x              # Instance variable of self\n",
    "    \n",
    "    def foo(self) -> None:       # Class method\n",
    "        self._x += 1             # Updating the self instance variable\n",
    "        \n",
    "    @staticmethod                # Static method of the class\n",
    "    def bar() -> str:            # ! Do not pass the self instance\n",
    "        return \"bar\"\n",
    "    \n",
    "    @classmethod                 # Class method (classmethod)\n",
    "    def baz(cls: type) -> str:   # ! Instead of the self instance, the class cls is passed\n",
    "        return cls.__name__\n",
    "    \n",
    "    @property                    # Property method of the class\n",
    "    def x(self) -> int:            \n",
    "        return self._x\n",
    "    \n",
    "    @x.setter                    # Property setter method of the class\n",
    "    def x(self, x: int) -> None:\n",
    "        self._x = x"
   ]
  },
  {
   "cell_type": "markdown",
   "id": "780a0ee1",
   "metadata": {},
   "source": [
    "##### Objects → Instantiation"
   ]
  },
  {
   "cell_type": "markdown",
   "id": "192d600a",
   "metadata": {},
   "source": [
    "A class is created / declared → An instance is constructed (`__new__`) → The instance is initialized (`__init__`)"
   ]
  },
  {
   "cell_type": "code",
   "execution_count": null,
   "id": "11c464a5",
   "metadata": {},
   "outputs": [],
   "source": [
    "class A:\n",
    "    \"\"\"My class A\"\"\"\n",
    "    def __init__(self): # != __new__ \n",
    "        print(f\"Called init, {self}\")\n",
    "    \n",
    "    def foo(self):\n",
    "        print(f\"Called foo, {self}\")\n",
    "        "
   ]
  },
  {
   "cell_type": "code",
   "execution_count": null,
   "id": "df5b4ecc",
   "metadata": {},
   "outputs": [],
   "source": [
    "a = A(); b = A()"
   ]
  },
  {
   "cell_type": "markdown",
   "id": "bedc0374",
   "metadata": {},
   "source": [
    "`__dict__` shows all attributes of the object"
   ]
  },
  {
   "cell_type": "code",
   "execution_count": null,
   "id": "ef5374fe",
   "metadata": {},
   "outputs": [],
   "source": [
    "A.__dict__"
   ]
  },
  {
   "cell_type": "code",
   "execution_count": null,
   "id": "bc110a00",
   "metadata": {},
   "outputs": [],
   "source": [
    "a = A()\n",
    "a.__dict__"
   ]
  },
  {
   "cell_type": "markdown",
   "id": "3b2a765b",
   "metadata": {},
   "source": [
    "##### Instance Attributes"
   ]
  },
  {
   "cell_type": "code",
   "execution_count": null,
   "id": "4eb88fbb",
   "metadata": {},
   "outputs": [],
   "source": [
    "class A:\n",
    "    def __init__(self, x: int):\n",
    "        self.x = x\n",
    "        \n",
    "a = A(1); b = A(2)"
   ]
  },
  {
   "cell_type": "code",
   "execution_count": null,
   "id": "6dd57e1d",
   "metadata": {},
   "outputs": [],
   "source": [
    "a.x, b.x"
   ]
  },
  {
   "cell_type": "code",
   "execution_count": null,
   "id": "5ea4b3d4",
   "metadata": {},
   "outputs": [],
   "source": [
    "# under the hood\n",
    "a.__dict__, b.__dict__"
   ]
  },
  {
   "cell_type": "markdown",
   "id": "e45895da",
   "metadata": {},
   "source": [
    "Updating"
   ]
  },
  {
   "cell_type": "code",
   "execution_count": null,
   "id": "8e668cd3",
   "metadata": {},
   "outputs": [],
   "source": [
    "class A:\n",
    "    def __init__(self, x: int):\n",
    "        self.x = x\n",
    "        \n",
    "a = A(1); b = A(2)\n",
    "a.x = 3\n",
    "a.x, b.x\n"
   ]
  },
  {
   "cell_type": "markdown",
   "id": "bb2a9365",
   "metadata": {},
   "source": [
    "##### Methods"
   ]
  },
  {
   "cell_type": "code",
   "execution_count": null,
   "id": "f94d3e18",
   "metadata": {},
   "outputs": [],
   "source": [
    "class A:\n",
    "    def __init__(self, x1: int):\n",
    "        self.y, self.z = None, None\n",
    "        self.x = x1\n",
    "        \n",
    "    def foo(self) -> None:\n",
    "        self.x += 1\n",
    "\n",
    "a = A(1); b = A(2)\n",
    "b.foo()"
   ]
  },
  {
   "cell_type": "code",
   "execution_count": null,
   "id": "d72eac22",
   "metadata": {},
   "outputs": [],
   "source": [
    "a.x, b.x"
   ]
  },
  {
   "cell_type": "code",
   "execution_count": null,
   "id": "dde91232",
   "metadata": {},
   "outputs": [],
   "source": [
    "# How to call foo directly from the class?\n",
    "A.foo(a)  # equivalent to a.foo()"
   ]
  },
  {
   "cell_type": "code",
   "execution_count": null,
   "id": "33cd0e7b",
   "metadata": {},
   "outputs": [],
   "source": [
    "a.x, b.x"
   ]
  },
  {
   "cell_type": "markdown",
   "id": "efb0178d",
   "metadata": {},
   "source": [
    "optional"
   ]
  },
  {
   "cell_type": "markdown",
   "id": "17fa41e4",
   "metadata": {},
   "source": [
    "##### Class attributes"
   ]
  },
  {
   "cell_type": "markdown",
   "id": "95c786c9",
   "metadata": {},
   "source": [
    "Class attributes allow to store data that is shared by all instances of the class. \\\n",
    "Most common use case is to store constants.\n",
    "\n",
    "<div style=\"border: 1px solid green; background-color: #d4edda; padding: 10px; border-radius: 5px;\">\n",
    "  <div style=\"font-weight: bold\"> Good practice</div> class attributes are named in uppercase and aren't changed after initialization.\n",
    "</div>"
   ]
  },
  {
   "cell_type": "code",
   "execution_count": null,
   "id": "2ab0eab5",
   "metadata": {},
   "outputs": [],
   "source": [
    "class A:\n",
    "    GRAVITY: float = 9.81\n",
    "\n",
    "a = A(); b = A()"
   ]
  },
  {
   "cell_type": "code",
   "execution_count": null,
   "id": "5d0b89d9",
   "metadata": {},
   "outputs": [],
   "source": [
    "a.__dict__, b.__dict__"
   ]
  },
  {
   "cell_type": "code",
   "execution_count": null,
   "id": "b1a9944b",
   "metadata": {},
   "outputs": [],
   "source": [
    "A.__dict__"
   ]
  },
  {
   "cell_type": "code",
   "execution_count": null,
   "id": "50c2b77a",
   "metadata": {},
   "outputs": [],
   "source": [
    "a.GRAVITY  # accessible in self"
   ]
  },
  {
   "cell_type": "code",
   "execution_count": null,
   "id": "7834b83d",
   "metadata": {},
   "outputs": [],
   "source": [
    "A.GRAVITY  # accessible from the class"
   ]
  },
  {
   "cell_type": "markdown",
   "id": "f0259020",
   "metadata": {},
   "source": [
    "Updating"
   ]
  },
  {
   "cell_type": "code",
   "execution_count": null,
   "id": "565ed6e6",
   "metadata": {},
   "outputs": [],
   "source": [
    "class A:\n",
    "    GRAVITY: int = 9.81\n",
    "\n",
    "a = A(); b = A()\n",
    "A.GRAVITY = 3.86"
   ]
  },
  {
   "cell_type": "code",
   "execution_count": null,
   "id": "621d6fef",
   "metadata": {},
   "outputs": [],
   "source": [
    "b.GRAVITY"
   ]
  },
  {
   "cell_type": "code",
   "execution_count": null,
   "id": "ac0d9514",
   "metadata": {},
   "outputs": [],
   "source": [
    "a.GRAVITY = 10\n",
    "a.GRAVITY, b.GRAVITY, A.GRAVITY"
   ]
  },
  {
   "cell_type": "code",
   "execution_count": null,
   "id": "eb989a4b",
   "metadata": {},
   "outputs": [],
   "source": [
    "# Why so?\n",
    "a.__dict__, b.__dict__"
   ]
  },
  {
   "cell_type": "markdown",
   "id": "fdf105fd",
   "metadata": {},
   "source": [
    "`a.GRAVITY = 10` created a new attribute for the instance `a`. \\\n",
    "After that, we have attribute with name `GRAVITY` in the instance `a` and in the class `A`. \\\n",
    "When we try to access `a.GRAVITY`, Python first checks if the attribute exists in the instance `a`. \\\n",
    "Only then Python checks if the attribute exists in the class `A`. \\\n",
    "`a.GRAVITY` is an instance attribute, `A.GRAVITY` is a class attribute."
   ]
  },
  {
   "cell_type": "markdown",
   "id": "9f5b82b7",
   "metadata": {},
   "source": [
    "optional"
   ]
  },
  {
   "cell_type": "markdown",
   "id": "1a1ea190",
   "metadata": {},
   "source": [
    "### Static methods / Properties (~19:51 (8min))"
   ]
  },
  {
   "cell_type": "markdown",
   "id": "cfdb474f",
   "metadata": {},
   "source": [
    "##### @staticmethod"
   ]
  },
  {
   "cell_type": "code",
   "execution_count": null,
   "id": "dd841ce7",
   "metadata": {},
   "outputs": [],
   "source": [
    "class A:\n",
    "    @staticmethod\n",
    "    def foo() -> int:\n",
    "        return 1\n",
    "\n",
    "a = A(); b = A()"
   ]
  },
  {
   "cell_type": "code",
   "execution_count": null,
   "id": "76a0408d",
   "metadata": {},
   "outputs": [],
   "source": [
    "# How to access foo from the class and from the instance?\n",
    "a.foo(), A.foo()"
   ]
  },
  {
   "cell_type": "markdown",
   "id": "ab48687a",
   "metadata": {},
   "source": [
    "##### Use Case: @staticmethod → alternative __init__"
   ]
  },
  {
   "cell_type": "code",
   "execution_count": null,
   "id": "a5bb224a",
   "metadata": {},
   "outputs": [],
   "source": [
    "!touch /tmp/a.txt /tmp/b.txt /tmp/c.txt"
   ]
  },
  {
   "cell_type": "code",
   "execution_count": null,
   "id": "bb58f162",
   "metadata": {},
   "outputs": [],
   "source": [
    "import os\n",
    "\n",
    "class A:\n",
    "    def __init__(self, folder: str, file_name: str):\n",
    "        self.folder = folder\n",
    "        self.file_name = file_name\n",
    "    \n",
    "    @staticmethod\n",
    "    def from_path(path: str) -> 'A':\n",
    "        folder, file_name = path.rsplit(\"/\", 1)\n",
    "        return A(folder, file_name)\n",
    "    \n",
    "    @staticmethod\n",
    "    def from_folder(folder: str)-> list['A']:\n",
    "        return [A(folder, filename) for filename in os.listdir(folder)]\n",
    "        \n",
    "\n",
    "a = A(\"/tmp\", \"a.txt\")\n",
    "b = A.from_path(\"/tmp/b.txt\")\n",
    "cs = A.from_folder(\"/tmp\")\n",
    "\n",
    "a.folder, b.folder, cs[0].__dict__"
   ]
  },
  {
   "cell_type": "markdown",
   "id": "fb449bbe",
   "metadata": {},
   "source": [
    "optional"
   ]
  },
  {
   "cell_type": "markdown",
   "id": "22e12846",
   "metadata": {},
   "source": [
    "### @property"
   ]
  },
  {
   "cell_type": "code",
   "execution_count": null,
   "id": "40eb37f8",
   "metadata": {},
   "outputs": [],
   "source": [
    "class A:\n",
    "    def __init__(self, x: int):\n",
    "        self._x = x\n",
    "\n",
    "    @property\n",
    "    def x(self) -> int:\n",
    "        return self._x\n",
    "\n",
    "a = A(1); b = A(2)"
   ]
  },
  {
   "cell_type": "code",
   "execution_count": null,
   "id": "01fc888b",
   "metadata": {},
   "outputs": [],
   "source": [
    "a.x, b.x"
   ]
  },
  {
   "cell_type": "code",
   "execution_count": null,
   "id": "c5ad170c",
   "metadata": {},
   "outputs": [],
   "source": [
    "a.x = 3"
   ]
  },
  {
   "cell_type": "code",
   "execution_count": null,
   "id": "ad9c68e4",
   "metadata": {},
   "outputs": [],
   "source": [
    "a.__dict__"
   ]
  },
  {
   "cell_type": "code",
   "execution_count": null,
   "id": "50c56758",
   "metadata": {},
   "outputs": [],
   "source": [
    "A.__dict__"
   ]
  },
  {
   "cell_type": "markdown",
   "id": "2fd35ffc",
   "metadata": {},
   "source": [
    "##### @property → setter"
   ]
  },
  {
   "cell_type": "code",
   "execution_count": null,
   "id": "c1db2299",
   "metadata": {},
   "outputs": [],
   "source": [
    "class A:\n",
    "    def __init__(self, x: int):\n",
    "        self._x = x\n",
    "        \n",
    "    @property\n",
    "    def x(self) -> int:\n",
    "        return self._x\n",
    "    \n",
    "    @x.setter\n",
    "    def x(self, x: int) -> None:\n",
    "        self._x = x\n",
    "\n",
    "a = A(1); b = A(2)"
   ]
  },
  {
   "cell_type": "code",
   "execution_count": null,
   "id": "68eb26ef",
   "metadata": {},
   "outputs": [],
   "source": [
    "# a.x = 5\n",
    "a.x = 10"
   ]
  },
  {
   "cell_type": "code",
   "execution_count": null,
   "id": "f4536432",
   "metadata": {},
   "outputs": [],
   "source": [
    "a.x"
   ]
  },
  {
   "cell_type": "code",
   "execution_count": null,
   "id": "ffdffbbc",
   "metadata": {},
   "outputs": [],
   "source": [
    "a.__dict__"
   ]
  },
  {
   "cell_type": "markdown",
   "id": "b536e3ae",
   "metadata": {},
   "source": [
    "##### Use Case: a dynamic attribute"
   ]
  },
  {
   "cell_type": "code",
   "execution_count": null,
   "id": "f3781685",
   "metadata": {},
   "outputs": [],
   "source": [
    "class Student:\n",
    "    def __init__(self, name: str, grades: dict | None = None):\n",
    "        self.name = name\n",
    "        self.grades = grades or {}\n",
    "\n",
    "    def add_grade(self, subject: str, grade: int):\n",
    "        self.grades[subject] = grade\n",
    "\n",
    "    @property\n",
    "    def gpa(self):\n",
    "        return sum(self.grades.values()) / len(self.grades)\n",
    "\n",
    "student = Student(\"John\", {\"Math\": 5, \"English\": 4})\n",
    "print(student.gpa)\n",
    "student.add_grade(\"Physics\", 3)\n",
    "print(student.gpa)"
   ]
  },
  {
   "cell_type": "markdown",
   "id": "933bebad",
   "metadata": {},
   "source": [
    "##### Classes → summary"
   ]
  },
  {
   "cell_type": "code",
   "execution_count": null,
   "id": "0afe7c38",
   "metadata": {},
   "outputs": [],
   "source": [
    "class A:\n",
    "    X: int = 10                  # Class variable\n",
    "\n",
    "    def __init__(self, x: int):  # Initialization of the self instance state\n",
    "        self._x = x              # Instance variable of self\n",
    "    \n",
    "    def foo(self) -> None:       # Class method\n",
    "        self._x += 1             # Updating the self instance variable\n",
    "        \n",
    "    @staticmethod                # Static method of the class\n",
    "    def bar() -> str:            # ! Do not pass the self instance\n",
    "        return \"bar\"\n",
    "    \n",
    "    @classmethod                 # Class method (classmethod)\n",
    "    def baz(cls) -> str:         # ! Instead of the self instance, the class cls is passed\n",
    "        return cls.__name__\n",
    "    \n",
    "    @property                    # Property method of the class\n",
    "    def x(self) -> int:            \n",
    "        return self._x\n",
    "    \n",
    "    @x.setter                    # Property setter method of the class\n",
    "    def x(self, x: int) -> None:\n",
    "        self._x = x"
   ]
  },
  {
   "cell_type": "code",
   "execution_count": null,
   "id": "a909370b",
   "metadata": {},
   "outputs": [],
   "source": [
    "# Which of these are class attributes and which are object attributes?"
   ]
  },
  {
   "cell_type": "markdown",
   "id": "23cedf4b",
   "metadata": {},
   "source": [
    "### Encapsulation (~19:55 (4min))\n",
    "\n",
    "**Encapsulation** is keeping an object’s data behind a small, safe interface—exposing only the methods you want—so you can enforce rules, prevent illegal states, and change internals without breaking other code.\n",
    "\n",
    "**Why it matters (real world):** like an ATM: you press *withdraw*; you don’t edit the bank’s ledger—rules run inside.\n",
    "\n",
    "**Anti-example**\n",
    "\n",
    "```python\n",
    "acct = {\"balance\": 100}\n",
    "acct[\"balance\"] = -500   # anyone can create an impossible state\n",
    "```\n",
    "\n",
    "**Encapsulated**\n",
    "\n",
    "```python\n",
    "class Account:\n",
    "    def __init__(self, balance=0): self.__balance = balance  # hidden detail\n",
    "    def balance(self): return self.__balance                  # read-only view\n",
    "    def withdraw(self, amount):\n",
    "        if amount > self.__balance: raise ValueError(\"insufficient\")\n",
    "        self.__balance -= amount\n",
    "```\n"
   ]
  },
  {
   "cell_type": "markdown",
   "id": "e66a39a1",
   "metadata": {},
   "source": [
    "##### Classes → public/private labels"
   ]
  },
  {
   "cell_type": "code",
   "execution_count": null,
   "id": "1fff558b",
   "metadata": {},
   "outputs": [],
   "source": [
    "class A:\n",
    "    def __init__(self):\n",
    "        self.x: int = 1     # Public\n",
    "        self._x: int = 2    # Private\n",
    "        self.__x: int = 3   # Super private\n",
    "\n",
    "    def foo(self) -> str:   # Public\n",
    "        return \"foo\"\n",
    "    \n",
    "    def _foo(self) -> str:  # Private\n",
    "        return \"_foo\"\n",
    "    \n",
    "    def __foo(self) -> str: # Super private\n",
    "        return \"__foo\"\n",
    "    \n",
    "\n",
    "a = A()\n",
    "\n",
    "print(a.x)\n",
    "print(a._x)\n",
    "print(a._A__x)\n",
    "print(a.foo())\n",
    "print(a._foo())\n",
    "print(a._A__foo())"
   ]
  },
  {
   "cell_type": "markdown",
   "id": "92037a63",
   "metadata": {},
   "source": [
    "Note: For people familiar with access modifiers in other languages, you can think of private attributes as protected, and super-private as private."
   ]
  },
  {
   "cell_type": "markdown",
   "id": "3d8f422e",
   "metadata": {},
   "source": [
    "### Magic methods (~20:02 (7min))"
   ]
  },
  {
   "cell_type": "markdown",
   "id": "bbdfadfa",
   "metadata": {},
   "source": [
    "Magic (dunder) methods of classes are methods that give them some properties. Their names start with two underscores (hence, dunder -- double underscore), for example -- method `__init__`. The call of magic methods in the interpreter happens implicitly."
   ]
  },
  {
   "cell_type": "code",
   "execution_count": null,
   "id": "ed1962ff",
   "metadata": {},
   "outputs": [],
   "source": [
    "class A:\n",
    "    def __init__(self, x: int):\n",
    "        self.x = x"
   ]
  },
  {
   "cell_type": "markdown",
   "id": "e52f4497",
   "metadata": {},
   "source": [
    "##### `__str__`/`__repr__`"
   ]
  },
  {
   "cell_type": "code",
   "execution_count": null,
   "id": "83c52999",
   "metadata": {},
   "outputs": [],
   "source": [
    "class A:\n",
    "    def __init__(self, x: int):\n",
    "        self.x = x\n",
    "\n",
    "\n",
    "a = A(6)\n",
    "\n",
    "print(a)\n",
    "a"
   ]
  },
  {
   "cell_type": "code",
   "execution_count": null,
   "id": "b4415058",
   "metadata": {},
   "outputs": [],
   "source": [
    "class A:\n",
    "    def __init__(self, x: int):\n",
    "        self.x = x\n",
    "        \n",
    "    def __str__(self) -> str: # what for?\n",
    "        return f\"A with attr {self.x}\"\n",
    "    \n",
    "    def __repr__(self) -> str:\n",
    "        return f\"A({self.x})\"\n",
    "\n",
    "a = A(6)\n",
    "\n",
    "print(a)\n",
    "a"
   ]
  },
  {
   "cell_type": "code",
   "execution_count": null,
   "id": "af421a28",
   "metadata": {},
   "outputs": [],
   "source": [
    "str(a), repr(a)"
   ]
  },
  {
   "cell_type": "code",
   "execution_count": null,
   "id": "81d0bce5",
   "metadata": {},
   "outputs": [],
   "source": [
    "class Polynomial:\n",
    "    def __init__(self, coefficients: tuple):\n",
    "        self.coefficients = coefficients \n",
    "    \n",
    "    def __repr__(self) -> str:\n",
    "        return \"Polynomial\" + str(self.coefficients)\n",
    "\n",
    "    \n",
    "    @staticmethod\n",
    "    def x_expr(k: int) -> str:\n",
    "        if k == 0:\n",
    "            res = \"\"\n",
    "        elif k == 1:\n",
    "            res = \"x\"\n",
    "        else:\n",
    "            res = \"x^\"+str(k)\n",
    "        return res\n",
    "\n",
    "    def __str__(self) -> str:\n",
    "        degree = len(self.coefficients) - 1\n",
    "        res = \"\"\n",
    "        for a_n, n in zip(self.coefficients, range(0, degree + 1)):\n",
    "            if abs(a_n) == 1 and n < degree:\n",
    "                sign = '+' if a_n > 0 else '-'\n",
    "                res += f\"{sign}{self.x_expr(degree - n)}\"  \n",
    "            elif a_n != 0:\n",
    "                res += f\"{a_n:+g}{self.x_expr(degree - n)}\"\n",
    "\n",
    "        return res.lstrip('+')"
   ]
  },
  {
   "cell_type": "code",
   "execution_count": null,
   "id": "885346d3",
   "metadata": {},
   "outputs": [],
   "source": [
    "polynom = Polynomial((1, 0, -4, 3, 1))\n",
    "\n",
    "polynom"
   ]
  },
  {
   "cell_type": "code",
   "execution_count": null,
   "id": "1a83c721",
   "metadata": {},
   "outputs": [],
   "source": [
    "print(polynom)"
   ]
  },
  {
   "cell_type": "code",
   "execution_count": null,
   "id": "d5838b92",
   "metadata": {},
   "outputs": [],
   "source": [
    "from IPython.display import display, Math\n",
    "\n",
    "display(Math(str(polynom)))"
   ]
  },
  {
   "cell_type": "markdown",
   "id": "cea880a6",
   "metadata": {},
   "source": [
    "##### arithmetic"
   ]
  },
  {
   "cell_type": "markdown",
   "id": "b6c4e9df",
   "metadata": {},
   "source": [
    "inplace: change the object in place \\\n",
    "non-inplace: create a new object"
   ]
  },
  {
   "cell_type": "code",
   "execution_count": null,
   "id": "1999f2b4",
   "metadata": {},
   "outputs": [],
   "source": [
    "class A:\n",
    "    def __init__(self, x: int):\n",
    "        self.x = x\n",
    "\n",
    "    def __add__(self, other: 'A') -> 'A':  # non-inplace\n",
    "        return A(self.x + other.x)\n",
    "    \n",
    "    def __iadd__(self, other: 'A') -> 'A':  # inplace\n",
    "        self.x += other.x  # be aware of the semantics\n",
    "        return self\n",
    "\n",
    "a = A(6)\n",
    "b = A(4)\n",
    "id_A = id(a)\n",
    "\n",
    "a += b\n",
    "print(id(a) == id_A)\n",
    "\n",
    "a = a + b\n",
    "print(id(a) == id_A)\n",
    "\n",
    "a.x"
   ]
  },
  {
   "cell_type": "markdown",
   "id": "8c16f2b0",
   "metadata": {},
   "source": [
    "optional"
   ]
  },
  {
   "cell_type": "markdown",
   "id": "1bfb6483",
   "metadata": {},
   "source": [
    "##### `__call__`"
   ]
  },
  {
   "cell_type": "code",
   "execution_count": null,
   "id": "1f775eae",
   "metadata": {},
   "outputs": [],
   "source": [
    "from math import factorial, sqrt\n",
    "\n",
    "class Power:\n",
    "    def __init__(self, p: float):\n",
    "        self.p = p\n",
    "        \n",
    "    def __call__(self, a: float) -> float:\n",
    "        return a**self.p\n",
    "    \n",
    "power = Power(3)\n",
    "power(4)"
   ]
  },
  {
   "cell_type": "markdown",
   "id": "4a2b3f74",
   "metadata": {},
   "source": [
    "##### `__len__`"
   ]
  },
  {
   "cell_type": "code",
   "execution_count": null,
   "id": "94eab3e5",
   "metadata": {},
   "outputs": [],
   "source": [
    "class PythonDudes:\n",
    "    def __init__(self, names: list[str]):\n",
    "        self.names = names\n",
    "    \n",
    "    def __len__(self) -> int:\n",
    "        return len(self.names)\n",
    "    \n",
    "    def add(self, name: str) -> None:\n",
    "        return self.names.append(name)\n",
    "    \n",
    "    \n",
    "catalog = PythonDudes([\"john\", \"jane\", \"jim\"])\n",
    "catalog.add(\"steven\")\n",
    "len(catalog), catalog.names"
   ]
  },
  {
   "cell_type": "markdown",
   "id": "5e699c2f",
   "metadata": {},
   "source": [
    "##### `__eq__`"
   ]
  },
  {
   "cell_type": "code",
   "execution_count": null,
   "id": "c9fb1f91",
   "metadata": {},
   "outputs": [],
   "source": [
    "class A:\n",
    "    def __init__(self, x: int):\n",
    "        self.x = x\n",
    "    \n",
    "    def __eq__(self, other: 'A') -> bool:  \n",
    "        return self.x == other.x\n",
    "    \n",
    "#     def __ne__(self, other: 'A') -> bool:  \n",
    "#         return self.x != other.x\n",
    "\n",
    "# a1 = A(3)\n",
    "A(3) == A(3),  A(3) != A(5), A(3) != A(3),\n",
    "\n",
    "# https://docs.python.org/3/reference/datamodel.html#object.__lt__\n",
    "# https://stackoverflow.com/questions/4352244/should-ne-be-implemented-as-the-negation-of-eq"
   ]
  },
  {
   "cell_type": "markdown",
   "id": "681f7798",
   "metadata": {},
   "source": [
    "##### `__lt__`/`__gt__`"
   ]
  },
  {
   "cell_type": "code",
   "execution_count": null,
   "id": "29e62d95",
   "metadata": {},
   "outputs": [],
   "source": [
    "class A:\n",
    "    def __init__(self, x: int):\n",
    "        self.x = x\n",
    "\n",
    "    def __lt__(self, other: 'A') -> bool:\n",
    "        print(self.x)\n",
    "        return self.x < other.x\n",
    "\n",
    "    def __gt__(self, other: 'A') -> bool:\n",
    "        print(self.x)\n",
    "        return self.x < other.x\n",
    "\n",
    "        \n",
    "A(5) < A(3),  A(5) > A(3)"
   ]
  },
  {
   "cell_type": "markdown",
   "id": "cd9e3870",
   "metadata": {},
   "source": [
    "##### `__le__`/`__ge__`"
   ]
  },
  {
   "cell_type": "code",
   "execution_count": null,
   "id": "2d3c4cbe",
   "metadata": {},
   "outputs": [],
   "source": [
    "class A:\n",
    "    def __init__(self, x: int):\n",
    "        self.x = x\n",
    "\n",
    "    def __le__(self, other: 'A') -> bool:\n",
    "        print(self.x)\n",
    "        return self.x < other.x\n",
    "\n",
    "        \n",
    "A(5) <= A(3),  A(5) >= A(3)"
   ]
  },
  {
   "cell_type": "markdown",
   "id": "86e5b1dc",
   "metadata": {},
   "source": [
    "# Intermediate Data Structures (~20:25 (23min))"
   ]
  },
  {
   "cell_type": "markdown",
   "id": "67e1f20a",
   "metadata": {},
   "source": [
    "### Dataclass (~20:13 (11min))\n",
    "\n",
    "Objective: a data-holder class"
   ]
  },
  {
   "cell_type": "code",
   "execution_count": null,
   "id": "2981f7c9",
   "metadata": {},
   "outputs": [],
   "source": [
    "from dataclasses import dataclass\n",
    "\n",
    "@dataclass\n",
    "class A:\n",
    "    x: int\n",
    "    y: int\n",
    "\n",
    "a = A(1, 2)\n",
    "a"
   ]
  },
  {
   "cell_type": "code",
   "execution_count": null,
   "id": "eb3ab468",
   "metadata": {},
   "outputs": [],
   "source": [
    "@dataclass\n",
    "class AWithMethods:\n",
    "    x: int\n",
    "    y: int\n",
    "    \n",
    "    def get_distance(self) -> int:\n",
    "        return (self.x ** 2 + self.y ** 2) ** 0.5\n",
    "        \n",
    "a = AWithMethods(3, 4)\n",
    "a.get_distance()"
   ]
  },
  {
   "cell_type": "markdown",
   "id": "5b4542f3",
   "metadata": {},
   "source": [
    "optional"
   ]
  },
  {
   "cell_type": "markdown",
   "id": "b686f43a",
   "metadata": {},
   "source": [
    "Dataclasses are configurable: [more here](https://docs.python.org/3/library/dataclasses.html#dataclasses.dataclass)"
   ]
  },
  {
   "cell_type": "code",
   "execution_count": null,
   "id": "7236b35a",
   "metadata": {},
   "outputs": [],
   "source": [
    "# Let's play with the parameters, look into dicts\n",
    "\n",
    "import typing as tp\n",
    "from dataclasses import dataclass, field\n",
    "\n",
    "@dataclass(init=True, repr=True, eq=True, order=True, unsafe_hash=True, frozen=True)\n",
    "class Case:\n",
    "    name: str = field(compare=True)\n",
    "    given: int\n",
    "    expected: object = field(default=\"test_name\")\n",
    "\n",
    "c = Case(\"test_name\", 2, 1)"
   ]
  },
  {
   "cell_type": "markdown",
   "id": "9c42f06b",
   "metadata": {},
   "source": [
    "##### Use Case: A lot of arguments"
   ]
  },
  {
   "cell_type": "code",
   "execution_count": null,
   "id": "a8957f98",
   "metadata": {},
   "outputs": [],
   "source": [
    "from dataclasses import dataclass\n",
    "def function_with_a_lot_of_arguments(time, money, place, people):\n",
    "    pass"
   ]
  },
  {
   "cell_type": "code",
   "execution_count": null,
   "id": "93dff938",
   "metadata": {},
   "outputs": [],
   "source": [
    "@dataclass\n",
    "class ArgumentsContainer:\n",
    "    time: int\n",
    "    money: int\n",
    "    place: str\n",
    "    people: list[str]\n",
    "\n",
    "def function_with_a_lot_of_arguments(args: ArgumentsContainer):\n",
    "    pass"
   ]
  },
  {
   "cell_type": "markdown",
   "id": "60766a27",
   "metadata": {},
   "source": [
    "### Enum (~20:19 (6min))\n",
    "\n",
    "Objective: a pool of constants"
   ]
  },
  {
   "cell_type": "code",
   "execution_count": null,
   "id": "95331185",
   "metadata": {},
   "outputs": [],
   "source": [
    "from enum import Enum\n",
    "\n",
    "class DeviceType(Enum):\n",
    "    ANDROID = \"android\"\n",
    "    WINDOWS = \"windows\"\n",
    "    IOS = \"ios\"\n",
    "    LINUX = \"linux\"\n",
    "    OTHER = \"other\"\n",
    "\n",
    "# https://www.python.org/dev/peps/pep-0435/#motivation"
   ]
  },
  {
   "cell_type": "code",
   "execution_count": null,
   "id": "b59054d4",
   "metadata": {},
   "outputs": [],
   "source": [
    "type(DeviceType.ANDROID)"
   ]
  },
  {
   "cell_type": "code",
   "execution_count": null,
   "id": "9c4049aa",
   "metadata": {},
   "outputs": [],
   "source": [
    "d1 = DeviceType.ANDROID\n",
    "d2 = DeviceType.ANDROID\n",
    "d1 == d2, d1 is d2"
   ]
  },
  {
   "cell_type": "code",
   "execution_count": null,
   "id": "1c3913be",
   "metadata": {},
   "outputs": [],
   "source": [
    "DeviceType.ANDROID.name, DeviceType.ANDROID.value"
   ]
  },
  {
   "cell_type": "code",
   "execution_count": null,
   "id": "f81e842a",
   "metadata": {},
   "outputs": [],
   "source": [
    "{DeviceType.ANDROID: 1, DeviceType.WINDOWS: 2}"
   ]
  },
  {
   "cell_type": "markdown",
   "id": "4b047d5f",
   "metadata": {},
   "source": [
    "##### Auto"
   ]
  },
  {
   "cell_type": "code",
   "execution_count": null,
   "id": "493f1a07",
   "metadata": {},
   "outputs": [],
   "source": [
    "from enum import auto\n",
    "\n",
    "class DeviceType(Enum):\n",
    "    ANDROID = auto()\n",
    "    WINDOWS = auto()\n",
    "    IOS = auto()\n",
    "    LINUX = auto()\n",
    "    OTHER = auto()"
   ]
  },
  {
   "cell_type": "code",
   "execution_count": null,
   "id": "37721aec",
   "metadata": {},
   "outputs": [],
   "source": [
    "DeviceType.ANDROID, DeviceType.WINDOWS, DeviceType.IOS"
   ]
  },
  {
   "cell_type": "markdown",
   "id": "0160da35",
   "metadata": {},
   "source": [
    "### Named Tuple (~20:25 (6min))"
   ]
  },
  {
   "cell_type": "code",
   "execution_count": null,
   "id": "71382895",
   "metadata": {},
   "outputs": [],
   "source": [
    "from collections import namedtuple\n",
    "\n",
    "Point = namedtuple(\"Point\", [\"x\", \"y\"])\n",
    "\n",
    "p = Point(1, 2)\n",
    "\n",
    "print(p.x)\n",
    "print(p.y)"
   ]
  },
  {
   "cell_type": "code",
   "execution_count": null,
   "id": "33a9c3d8",
   "metadata": {},
   "outputs": [],
   "source": [
    "p.x = 3\n",
    "print(p.x)"
   ]
  },
  {
   "cell_type": "markdown",
   "id": "e568683c",
   "metadata": {},
   "source": [
    "You can't change the attributes of a namedtuple (immutable). \\\n",
    "You can't have methods in a namedtuple. \\\n",
    "You can't specify the type of the attributes.\n",
    "\n",
    "Almost always, dataclasses are better than namedtuples."
   ]
  }
 ],
 "metadata": {
  "kernelspec": {
   "display_name": ".venv",
   "language": "python",
   "name": "python3"
  },
  "language_info": {
   "codemirror_mode": {
    "name": "ipython",
    "version": 3
   },
   "file_extension": ".py",
   "mimetype": "text/x-python",
   "name": "python",
   "nbconvert_exporter": "python",
   "pygments_lexer": "ipython3",
   "version": "3.11.12"
  }
 },
 "nbformat": 4,
 "nbformat_minor": 5
}
