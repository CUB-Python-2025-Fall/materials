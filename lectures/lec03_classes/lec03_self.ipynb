{
 "cells": [
  {
   "cell_type": "markdown",
   "id": "32e92a3c",
   "metadata": {},
   "source": [
    "*Kind reminder:* Something unclear? Google it!"
   ]
  },
  {
   "cell_type": "markdown",
   "id": "5a6170ac",
   "metadata": {},
   "source": [
    "# Classes"
   ]
  },
  {
   "cell_type": "markdown",
   "id": "0c935a3b",
   "metadata": {},
   "source": [
    "**Bonus topic**: Type vs Class: almost interchangeable, an [article](https://blog.kotlin-academy.com/programmer-dictionary-class-vs-type-vs-object-e6d1f74d1e2e)"
   ]
  },
  {
   "cell_type": "markdown",
   "id": "da208d85",
   "metadata": {},
   "source": [
    "##### Classes → @classmethod\n",
    "\n",
    "[stackoverflow: classmethod vs staticmethod](https://stackoverflow.com/questions/12179271/meaning-of-classmethod-and-staticmethod-for-beginner)"
   ]
  },
  {
   "cell_type": "code",
   "execution_count": null,
   "id": "9b58f2be",
   "metadata": {},
   "outputs": [],
   "source": [
    "class A:\n",
    "    @classmethod\n",
    "    def foo(cls):\n",
    "        return cls.__name__\n",
    "\n",
    "a = A(); b = A()"
   ]
  },
  {
   "cell_type": "code",
   "execution_count": null,
   "id": "12680a3a",
   "metadata": {},
   "outputs": [
    {
     "data": {
      "text/plain": [
       "mappingproxy({'__module__': '__main__',\n",
       "              'foo': <classmethod(<function A.foo at 0x1070ed940>)>,\n",
       "              '__dict__': <attribute '__dict__' of 'A' objects>,\n",
       "              '__weakref__': <attribute '__weakref__' of 'A' objects>,\n",
       "              '__doc__': None})"
      ]
     },
     "metadata": {},
     "output_type": "display_data"
    }
   ],
   "source": [
    "A.__dict__"
   ]
  },
  {
   "cell_type": "code",
   "execution_count": null,
   "id": "a937883d",
   "metadata": {},
   "outputs": [
    {
     "data": {
      "text/plain": [
       "({}, {})"
      ]
     },
     "metadata": {},
     "output_type": "display_data"
    }
   ],
   "source": [
    "a.__dict__, b.__dict__"
   ]
  },
  {
   "cell_type": "code",
   "execution_count": null,
   "id": "7cf41a64",
   "metadata": {},
   "outputs": [
    {
     "data": {
      "text/plain": [
       "('A', 'A')"
      ]
     },
     "metadata": {},
     "output_type": "display_data"
    }
   ],
   "source": [
    "# How to access foo from the class and from the instance?\n",
    "a.foo(), A.foo()"
   ]
  },
  {
   "cell_type": "markdown",
   "id": "dedc97f3",
   "metadata": {},
   "source": [
    "##### Classes → @classmethod → Example"
   ]
  },
  {
   "cell_type": "code",
   "execution_count": null,
   "id": "ab977eae",
   "metadata": {},
   "outputs": [],
   "source": [
    "class A:\n",
    "    Y = 10\n",
    "\n",
    "    @classmethod\n",
    "    def print_y(cls):\n",
    "        return f\"{cls.__name__} has Y={cls.Y}\"\n",
    "\n",
    "class B(A):\n",
    "    Y = 20\n",
    "    pass"
   ]
  },
  {
   "cell_type": "code",
   "execution_count": null,
   "id": "a148f37d",
   "metadata": {},
   "outputs": [
    {
     "data": {
      "text/plain": [
       "('A has Y=10', 'B has Y=20')"
      ]
     },
     "metadata": {},
     "output_type": "display_data"
    }
   ],
   "source": [
    "b = B()\n",
    "a = A()\n",
    "a.print_y(), b.print_y()"
   ]
  },
  {
   "cell_type": "code",
   "execution_count": null,
   "id": "f443a7da",
   "metadata": {},
   "outputs": [],
   "source": [
    "import os\n",
    "from typing import TypeVar, Type\n",
    "\n",
    "# Create a generic variable that can be 'Parent', or any subclass.\n",
    "T = TypeVar('A', bound='Parent')\n",
    "\n",
    "class A:\n",
    "    def __init__(self, folder: str, file_name: str):\n",
    "        self.folder = folder\n",
    "        self.file_name = file_name\n",
    "    \n",
    "    @classmethod\n",
    "    def from_path(cls: Type[T], path: str) -> T:\n",
    "        folder, file_name = path.rsplit(\"/\", 1)\n",
    "        return cls(folder, file_name)"
   ]
  },
  {
   "cell_type": "markdown",
   "id": "25c0e855",
   "metadata": {},
   "source": [
    "### Dunder methods"
   ]
  },
  {
   "cell_type": "markdown",
   "id": "fb5f795d",
   "metadata": {},
   "source": [
    "#### Classes → Dunder methods → `__getattr__`/`__setattr__`"
   ]
  },
  {
   "cell_type": "code",
   "execution_count": null,
   "id": "059cc575",
   "metadata": {},
   "outputs": [
    {
     "name": "stdout",
     "output_type": "stream",
     "text": [
      "Setting the test attribute with value 1\n",
      "1\n",
      "===\n",
      "Setting the test attribute with value 2\n",
      "===\n",
      "2\n"
     ]
    }
   ],
   "source": [
    "import typing as tp\n",
    "class StorageBox:\n",
    "    def __init__(self):\n",
    "        self.test = 1\n",
    "\n",
    "    def __getattr__(self, x: str) -> tp.Any:\n",
    "        print(f'Getting the {x} attribute')\n",
    "        return self.__dict__.get(x, 0)\n",
    "\n",
    "    def __setattr__(self, x: str, value: tp.Any) -> None:\n",
    "        print(f'Setting the {x} attribute with value {value}')\n",
    "        self.__dict__[x] = value\n",
    "\n",
    "s = StorageBox()\n",
    "print(s.test)\n",
    "print(\"===\")\n",
    "s.test = 2\n",
    "print(\"===\")\n",
    "print(s.test)"
   ]
  },
  {
   "cell_type": "code",
   "execution_count": null,
   "id": "3d349b32",
   "metadata": {},
   "outputs": [
    {
     "name": "stdout",
     "output_type": "stream",
     "text": [
      "In getattribute looking for test attribute\n",
      "Getting the test attribute\n",
      "In getattribute looking for __dict__ attribute\n",
      "0\n",
      "===\n",
      "Setting the test attribute with value 2\n",
      "In getattribute looking for __dict__ attribute\n",
      "===\n",
      "In getattribute looking for test attribute\n",
      "2\n"
     ]
    }
   ],
   "source": [
    "import typing as tp\n",
    "class StorageBox:\n",
    "\n",
    "    def __getattr__(self, x: str) -> tp.Any:\n",
    "        print(f'Getting the {x} attribute')\n",
    "        return self.__dict__.get(x, 0)\n",
    "        \n",
    "    def __getattribute__(self, x: str) -> tp.Any:\n",
    "        print(f'In getattribute looking for {x} attribute')\n",
    "        if x != \"__dict__\" and x.startswith(\"_\"):\n",
    "            raise ValueError(\"Access to private attributes is prohibitted.\")\n",
    "        return object.__getattribute__(self, x)\n",
    "\n",
    "    def __setattr__(self, x: str, value: tp.Any) -> None:\n",
    "        print(f'Setting the {x} attribute with value {value}')\n",
    "        self.__dict__[x] = value\n",
    "\n",
    "    \n",
    "s = StorageBox()\n",
    "print(s.test)\n",
    "print(\"===\")\n",
    "s.test = 2\n",
    "print(\"===\")\n",
    "print(s.test)"
   ]
  },
  {
   "cell_type": "code",
   "execution_count": null,
   "id": "2b583197",
   "metadata": {},
   "outputs": [
    {
     "name": "stdout",
     "output_type": "stream",
     "text": [
      "Setting the _x attribute with value 123\n",
      "In getattribute looking for __dict__ attribute\n",
      "In getattribute looking for x attribute\n",
      "Getting the x attribute\n",
      "In getattribute looking for __dict__ attribute\n"
     ]
    },
    {
     "data": {
      "text/plain": [
       "0"
      ]
     },
     "metadata": {},
     "output_type": "display_data"
    }
   ],
   "source": [
    "s._x = 123\n",
    "s.x"
   ]
  },
  {
   "cell_type": "markdown",
   "id": "a6eb04f4",
   "metadata": {},
   "source": [
    "##### Classes → Dunder methods → `__hash__` → do not override anything"
   ]
  },
  {
   "cell_type": "code",
   "execution_count": null,
   "id": "fc22e209",
   "metadata": {},
   "outputs": [],
   "source": [
    "class A:\n",
    "    def __init__(self, x: int):\n",
    "        self.x = x\n",
    "        \n",
    "    def __repr__(self) -> str:\n",
    "        return f\"A({self.x})\""
   ]
  },
  {
   "cell_type": "code",
   "execution_count": null,
   "id": "61de50f1",
   "metadata": {},
   "outputs": [
    {
     "data": {
      "text/plain": [
       "mappingproxy({'__new__': <function object.__new__(*args, **kwargs)>,\n",
       "              '__repr__': <slot wrapper '__repr__' of 'object' objects>,\n",
       "              '__hash__': <slot wrapper '__hash__' of 'object' objects>,\n",
       "              '__str__': <slot wrapper '__str__' of 'object' objects>,\n",
       "              '__getattribute__': <slot wrapper '__getattribute__' of 'object' objects>,\n",
       "              '__setattr__': <slot wrapper '__setattr__' of 'object' objects>,\n",
       "              '__delattr__': <slot wrapper '__delattr__' of 'object' objects>,\n",
       "              '__lt__': <slot wrapper '__lt__' of 'object' objects>,\n",
       "              '__le__': <slot wrapper '__le__' of 'object' objects>,\n",
       "              '__eq__': <slot wrapper '__eq__' of 'object' objects>,\n",
       "              '__ne__': <slot wrapper '__ne__' of 'object' objects>,\n",
       "              '__gt__': <slot wrapper '__gt__' of 'object' objects>,\n",
       "              '__ge__': <slot wrapper '__ge__' of 'object' objects>,\n",
       "              '__init__': <slot wrapper '__init__' of 'object' objects>,\n",
       "              '__reduce_ex__': <method '__reduce_ex__' of 'object' objects>,\n",
       "              '__reduce__': <method '__reduce__' of 'object' objects>,\n",
       "              '__getstate__': <method '__getstate__' of 'object' objects>,\n",
       "              '__subclasshook__': <method '__subclasshook__' of 'object' objects>,\n",
       "              '__init_subclass__': <method '__init_subclass__' of 'object' objects>,\n",
       "              '__format__': <method '__format__' of 'object' objects>,\n",
       "              '__sizeof__': <method '__sizeof__' of 'object' objects>,\n",
       "              '__dir__': <method '__dir__' of 'object' objects>,\n",
       "              '__class__': <attribute '__class__' of 'object' objects>,\n",
       "              '__doc__': 'The base class of the class hierarchy.\\n\\nWhen called, it accepts no arguments and returns a new featureless\\ninstance that has no instance attributes and cannot be given any.\\n'})"
      ]
     },
     "metadata": {},
     "output_type": "display_data"
    }
   ],
   "source": [
    "object.__dict__"
   ]
  },
  {
   "cell_type": "code",
   "execution_count": null,
   "id": "aac3312b",
   "metadata": {},
   "outputs": [
    {
     "data": {
      "text/plain": [
       "{A(1), A(1), A(2), A(2)}"
      ]
     },
     "metadata": {},
     "output_type": "display_data"
    }
   ],
   "source": [
    "s = set()\n",
    "\n",
    "for i in [1, 1, 2, 2]:\n",
    "    a = A(i)\n",
    "    s.add(a)\n",
    "\n",
    "s"
   ]
  },
  {
   "cell_type": "code",
   "execution_count": null,
   "id": "532d2a57",
   "metadata": {},
   "outputs": [
    {
     "name": "stdout",
     "output_type": "stream",
     "text": [
      "True True\n",
      "False False\n"
     ]
    }
   ],
   "source": [
    "a = A(5)\n",
    "b = A(5)\n",
    "\n",
    "print(hash(a) == hash(a), a == a)\n",
    "print(hash(a) == hash(b), a == b)"
   ]
  },
  {
   "cell_type": "code",
   "execution_count": null,
   "id": "0e2a7dc2",
   "metadata": {},
   "outputs": [
    {
     "data": {
      "text/plain": [
       "<slot wrapper '__hash__' of 'object' objects>"
      ]
     },
     "metadata": {},
     "output_type": "display_data"
    }
   ],
   "source": [
    "A.__hash__"
   ]
  },
  {
   "cell_type": "markdown",
   "id": "509433de",
   "metadata": {},
   "source": [
    "##### Classes → Dunder methods → `__hash__` → override only `__eq__`"
   ]
  },
  {
   "cell_type": "code",
   "execution_count": 1,
   "id": "43a17579",
   "metadata": {},
   "outputs": [],
   "source": [
    "# Override __eq__\n",
    "\n",
    "class A:\n",
    "    def __init__(self, x: int):\n",
    "        self.x = x\n",
    "        \n",
    "    def __repr__(self) -> str:\n",
    "        return f\"A({self.x})\"\n",
    "    \n",
    "    def __eq__(self, other: 'A') -> bool:\n",
    "        return self.x == other.x"
   ]
  },
  {
   "cell_type": "code",
   "execution_count": 2,
   "id": "1e9af3be",
   "metadata": {},
   "outputs": [
    {
     "data": {
      "text/plain": [
       "mappingproxy({'__module__': '__main__',\n",
       "              '__init__': <function __main__.A.__init__(self, x: int)>,\n",
       "              '__repr__': <function __main__.A.__repr__(self) -> str>,\n",
       "              '__eq__': <function __main__.A.__eq__(self, other: 'A') -> bool>,\n",
       "              '__dict__': <attribute '__dict__' of 'A' objects>,\n",
       "              '__weakref__': <attribute '__weakref__' of 'A' objects>,\n",
       "              '__doc__': None,\n",
       "              '__hash__': None})"
      ]
     },
     "execution_count": 2,
     "metadata": {},
     "output_type": "execute_result"
    }
   ],
   "source": [
    "A.__dict__"
   ]
  },
  {
   "cell_type": "code",
   "execution_count": 3,
   "id": "a4004d77",
   "metadata": {},
   "outputs": [
    {
     "ename": "TypeError",
     "evalue": "unhashable type: 'A'",
     "output_type": "error",
     "traceback": [
      "\u001b[31m---------------------------------------------------------------------------\u001b[39m",
      "\u001b[31mTypeError\u001b[39m                                 Traceback (most recent call last)",
      "\u001b[36mCell\u001b[39m\u001b[36m \u001b[39m\u001b[32mIn[3]\u001b[39m\u001b[32m, line 5\u001b[39m\n\u001b[32m      3\u001b[39m \u001b[38;5;28;01mfor\u001b[39;00m i \u001b[38;5;129;01min\u001b[39;00m [\u001b[32m1\u001b[39m, \u001b[32m1\u001b[39m, \u001b[32m2\u001b[39m, \u001b[32m2\u001b[39m]:\n\u001b[32m      4\u001b[39m     a = A(i)\n\u001b[32m----> \u001b[39m\u001b[32m5\u001b[39m     \u001b[43ms\u001b[49m\u001b[43m.\u001b[49m\u001b[43madd\u001b[49m\u001b[43m(\u001b[49m\u001b[43ma\u001b[49m\u001b[43m)\u001b[49m\n\u001b[32m      7\u001b[39m s\n",
      "\u001b[31mTypeError\u001b[39m: unhashable type: 'A'"
     ]
    }
   ],
   "source": [
    "s = set()\n",
    "\n",
    "for i in [1, 1, 2, 2]:\n",
    "    a = A(i)\n",
    "    s.add(a)\n",
    "\n",
    "s"
   ]
  },
  {
   "cell_type": "code",
   "execution_count": null,
   "id": "30882f33",
   "metadata": {},
   "outputs": [
    {
     "data": {
      "text/plain": [
       "mappingproxy({'__module__': '__main__',\n",
       "              '__init__': <function __main__.A.__init__(self, x: int)>,\n",
       "              '__repr__': <function __main__.A.__repr__(self) -> str>,\n",
       "              '__eq__': <function __main__.A.__eq__(self, other: 'A') -> bool>,\n",
       "              '__dict__': <attribute '__dict__' of 'A' objects>,\n",
       "              '__weakref__': <attribute '__weakref__' of 'A' objects>,\n",
       "              '__doc__': None,\n",
       "              '__hash__': None})"
      ]
     },
     "metadata": {},
     "output_type": "display_data"
    }
   ],
   "source": [
    "A.__dict__"
   ]
  },
  {
   "cell_type": "markdown",
   "id": "a33da927",
   "metadata": {},
   "source": [
    "##### Classes → Dunder methods → `__hash__` → override only `__hash__`"
   ]
  },
  {
   "cell_type": "code",
   "execution_count": 4,
   "id": "23d5c16d",
   "metadata": {},
   "outputs": [],
   "source": [
    "# Override __hash__\n",
    "\n",
    "class A:\n",
    "    def __init__(self, x: int):\n",
    "        self.x = x\n",
    "        \n",
    "    def __repr__(self) -> str:\n",
    "        return f\"A({self.x})\"\n",
    "    \n",
    "    def __hash__(self) -> int:\n",
    "        return hash(self.x)"
   ]
  },
  {
   "cell_type": "code",
   "execution_count": 5,
   "id": "8e4cb3b3",
   "metadata": {},
   "outputs": [
    {
     "data": {
      "text/plain": [
       "{A(1), A(1), A(2), A(2)}"
      ]
     },
     "execution_count": 5,
     "metadata": {},
     "output_type": "execute_result"
    }
   ],
   "source": [
    "s = set()\n",
    "\n",
    "for i in [1, 1, 2, 2]:\n",
    "    a = A(i)\n",
    "    s.add(a)\n",
    "\n",
    "s"
   ]
  },
  {
   "cell_type": "markdown",
   "id": "0278acb5",
   "metadata": {},
   "source": [
    "##### Classes → Dunder methods → `__hash__` → override `__eq__` и `__hash__`"
   ]
  },
  {
   "cell_type": "code",
   "execution_count": 6,
   "id": "da0e25ab",
   "metadata": {},
   "outputs": [],
   "source": [
    "class A:\n",
    "    def __init__(self, x: int):\n",
    "        self.x = x\n",
    "        \n",
    "    def __repr__(self) -> str:\n",
    "        return f\"A({self.x})\"\n",
    "    \n",
    "    def __hash__(self) -> int:\n",
    "        return hash(self.x)\n",
    "\n",
    "    def __eq__(self, other: 'A') -> bool:\n",
    "        return self.x == other.x"
   ]
  },
  {
   "cell_type": "code",
   "execution_count": 7,
   "id": "e03d5d28",
   "metadata": {},
   "outputs": [
    {
     "data": {
      "text/plain": [
       "{A(1), A(2)}"
      ]
     },
     "execution_count": 7,
     "metadata": {},
     "output_type": "execute_result"
    }
   ],
   "source": [
    "s = set()\n",
    "\n",
    "for i in [1, 1, 2, 2]:\n",
    "    a = A(i)\n",
    "    s.add(a)\n",
    "\n",
    "s"
   ]
  }
 ],
 "metadata": {
  "kernelspec": {
   "display_name": ".venv",
   "language": "python",
   "name": "python3"
  },
  "language_info": {
   "codemirror_mode": {
    "name": "ipython",
    "version": 3
   },
   "file_extension": ".py",
   "mimetype": "text/x-python",
   "name": "python",
   "nbconvert_exporter": "python",
   "pygments_lexer": "ipython3",
   "version": "3.11.12"
  }
 },
 "nbformat": 4,
 "nbformat_minor": 5
}
