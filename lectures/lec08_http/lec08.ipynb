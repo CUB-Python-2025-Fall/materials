{
 "cells": [
  {
   "cell_type": "markdown",
   "metadata": {
    "pycharm": {
     "name": "#%% md\n"
    },
    "slideshow": {
     "slide_type": "slide"
    }
   },
   "source": [
    "# Web, HTTP, API"
   ]
  },
  {
   "cell_type": "markdown",
   "metadata": {
    "pycharm": {
     "name": "#%% md\n"
    },
    "slideshow": {
     "slide_type": "slide"
    }
   },
   "source": [
    "## Structure of computer networks (~20min, 19-40)"
   ]
  },
  {
   "cell_type": "markdown",
   "metadata": {
    "pycharm": {
     "name": "#%% md\n"
    },
    "slideshow": {
     "slide_type": "-"
    }
   },
   "source": [
    "- Data exchange over a network is layered – from current in the wires to the image in the browser\n",
    "- To use a network, as a rule, you don't need to understand all the layers well"
   ]
  },
  {
   "cell_type": "markdown",
   "metadata": {
    "pycharm": {
     "name": "#%% md\n"
    },
    "slideshow": {
     "slide_type": "slide"
    }
   },
   "source": [
    "## Network models: OSI vs TCP/IP"
   ]
  },
  {
   "cell_type": "markdown",
   "metadata": {
    "pycharm": {
     "name": "#%% md\n"
    },
    "slideshow": {
     "slide_type": "-"
    }
   },
   "source": [
    "There are two main models:\n",
    "1. OSI is a reference model ([high-level overview](https://www.youtube.com/watch?v=0y6FtKsg6J4))\n",
    "2. TCP/IP is more practical\n",
    "\n",
    "We're going to talk about the TCP/IP model."
   ]
  },
  {
   "cell_type": "markdown",
   "metadata": {},
   "source": [
    "![image](https://miro.medium.com/v2/resize:fit:1400/0*bwxmL5N7Q8isupaL.png)"
   ]
  },
  {
   "cell_type": "markdown",
   "metadata": {
    "pycharm": {
     "name": "#%% md\n"
    },
    "slideshow": {
     "slide_type": "slide"
    }
   },
   "source": [
    "## Low-level networking\n",
    "\n",
    "![image](https://th.bing.com/th/id/R.349e5587a8a663a749cdd7f6b440f998?rik=3X0JQgww4WZQAQ&riu=http%3a%2f%2f1.bp.blogspot.com%2f_FRSoY4n-eek%2fS21qmcKw5UI%2fAAAAAAAAAf4%2fmYCB2024Yrs%2fw1200-h630-p-k-no-nu%2fTCPIP%2bDiagram.jpg&ehk=YA9EDnHKwCnAjgC1WNpLqmofJt6YkIuPMk59tmD8ATA%3d&risl=&pid=ImgRaw&r=0)"
   ]
  },
  {
   "cell_type": "markdown",
   "metadata": {
    "pycharm": {
     "name": "#%% md\n"
    },
    "slideshow": {
     "slide_type": "slide"
    }
   },
   "source": [
    "### Ethernet, IP, TCP and everything else"
   ]
  },
  {
   "cell_type": "markdown",
   "metadata": {
    "pycharm": {
     "name": "#%% md\n"
    },
    "slideshow": {
     "slide_type": "-"
    }
   },
   "source": [
    "![image](./TCP_IP.svg)"
   ]
  },
  {
   "cell_type": "markdown",
   "metadata": {
    "pycharm": {
     "name": "#%% md\n"
    },
    "slideshow": {
     "slide_type": "slide"
    }
   },
   "source": [
    "## IPv4 vs IPv6"
   ]
  },
  {
   "cell_type": "markdown",
   "metadata": {
    "pycharm": {
     "name": "#%% md\n"
    },
    "slideshow": {
     "slide_type": "-"
    }
   },
   "source": [
    "![image](https://i.ytimg.com/vi/D1avGPpSJHs/maxresdefault.jpg)"
   ]
  },
  {
   "cell_type": "markdown",
   "metadata": {
    "pycharm": {
     "name": "#%% md\n"
    },
    "slideshow": {
     "slide_type": "slide"
    }
   },
   "source": [
    "## TCP vs UDP\n",
    "- UDP simply sends messages and doesn't care about delivery reliability or message order\n",
    "- TCP performs a \"handshake\" between peers and can guarantee delivery reliability and message order"
   ]
  },
  {
   "cell_type": "markdown",
   "metadata": {
    "pycharm": {
     "name": "#%% md\n"
    },
    "slideshow": {
     "slide_type": "slide"
    }
   },
   "source": [
    "\n",
    "![image](https://media.geeksforgeeks.org/wp-content/uploads/20230406112559/TCP-3.png)"
   ]
  },
  {
   "cell_type": "markdown",
   "metadata": {
    "pycharm": {
     "name": "#%% md\n"
    },
    "slideshow": {
     "slide_type": "slide"
    }
   },
   "source": [
    "## Ports\n",
    "- A 16-bit number that allows you to identify a specific process on a machine with the same IP address\n",
    "\n",
    "![image](./TCP.png)"
   ]
  },
  {
   "cell_type": "markdown",
   "metadata": {
    "pycharm": {
     "name": "#%% md\n"
    },
    "slideshow": {
     "slide_type": "slide"
    }
   },
   "source": [
    "## DNS (Domain Name System)\n",
    "\n",
    "Problem: it's not convenient to remember IP addresses\n",
    "\n",
    "![image](./basics-of-dns-resolving-with-cache.jpg)"
   ]
  },
  {
   "cell_type": "code",
   "execution_count": 3,
   "metadata": {
    "pycharm": {
     "name": "#%%\n"
    },
    "slideshow": {
     "slide_type": "-"
    }
   },
   "outputs": [
    {
     "data": {
      "text/plain": [
       "'142.251.209.142'"
      ]
     },
     "execution_count": 3,
     "metadata": {},
     "output_type": "execute_result"
    }
   ],
   "source": [
    "import socket\n",
    "\n",
    "socket.gethostbyname('google.com')"
   ]
  },
  {
   "attachments": {
    "http1-url-structure.png": {
     "image/png": "[encoded data removed]"
    }
   },
   "cell_type": "markdown",
   "metadata": {
    "pycharm": {
     "name": "#%% md\n"
    },
    "slideshow": {
     "slide_type": "slide"
    }
   },
   "source": [
    "### URL: Uniform Resource Locator\n",
    "\n",
    "\n",
    "![http1-url-structure.png](attachment:http1-url-structure.png)\n",
    "\n",
    "There are many different examples of URL:\n",
    "```\n",
    "- ftp://ftp.is.co.za/rfc/rfc1808.txt\n",
    "- http://www.ietf.org/rfc/rfc2396.txt\n",
    "- ldap://[2001:db8::7]/c=GB?objectClass?one\n",
    "- mailto:John.Doe@example.com\n",
    "- tel:+1-816-555-1212\n",
    "- telnet://192.0.2.16:80/\n",
    "```"
   ]
  },
  {
   "cell_type": "markdown",
   "metadata": {},
   "source": [
    "Let's take a look at the URL: manytask.pycub.education"
   ]
  },
  {
   "cell_type": "markdown",
   "metadata": {
    "pycharm": {
     "name": "#%% md\n"
    },
    "slideshow": {
     "slide_type": "slide"
    }
   },
   "source": [
    "### HTTP: HyperText Transfer Protocol (~15min, 19:45)\n",
    "\n",
    "- an application-layer protocol (on top of TCP) on which many applications run"
   ]
  },
  {
   "cell_type": "markdown",
   "metadata": {
    "pycharm": {
     "name": "#%% md\n"
    },
    "slideshow": {
     "slide_type": "slide"
    }
   },
   "source": [
    "### HTTP-request\n",
    "\n",
    "![image](./HTTP_Request.png)"
   ]
  },
  {
   "cell_type": "markdown",
   "metadata": {},
   "source": [
    "Note: usually, you don't use raw HTTP requests. The most low-level way to interact with the web is probably `curl` command.\n",
    "\n",
    "```bash\n",
    "curl -X GET http://example.com\n",
    "```"
   ]
  },
  {
   "cell_type": "markdown",
   "metadata": {
    "pycharm": {
     "name": "#%% md\n"
    },
    "slideshow": {
     "slide_type": "slide"
    }
   },
   "source": [
    "### HTTP methods\n",
    "\n",
    "![image](./HTTP_methods.jpg)"
   ]
  },
  {
   "cell_type": "markdown",
   "metadata": {
    "pycharm": {
     "name": "#%% md\n"
    },
    "slideshow": {
     "slide_type": "slide"
    }
   },
   "source": [
    "### HTTP-response\n",
    "\n",
    "![image](./HTTP_Response.png)"
   ]
  },
  {
   "cell_type": "markdown",
   "metadata": {},
   "source": [
    "Let's take a look at the HTTP-response:\n",
    "\n",
    "```bash\n",
    "curl -v -X GET http://example.com\n",
    "```\n",
    "\n"
   ]
  },
  {
   "cell_type": "code",
   "execution_count": 1,
   "metadata": {},
   "outputs": [
    {
     "name": "stdout",
     "output_type": "stream",
     "text": [
      "Note: Unnecessary use of -X or --request, GET is already inferred.\n",
      "* Host example.com:80 was resolved.\n",
      "* IPv6: (none)\n",
      "* IPv4: 23.215.0.136, 23.192.228.84, 23.192.228.80, 23.220.75.245, 23.220.75.232, 23.215.0.138\n",
      "*   Trying 23.215.0.136:80...\n",
      "* Connected to example.com (23.215.0.136) port 80\n",
      "> GET / HTTP/1.1\n",
      "> Host: example.com\n",
      "> User-Agent: curl/8.7.1\n",
      "> Accept: */*\n",
      "> \n",
      "* Request completely sent off\n",
      "< HTTP/1.1 200 OK\n",
      "< Content-Type: text/html\n",
      "< ETag: \"84238dfc8092e5d9c0dac8ef93371a07:1736799080.121134\"\n",
      "< Last-Modified: Mon, 13 Jan 2025 20:11:20 GMT\n",
      "< Cache-Control: max-age=86000\n",
      "< Date: Fri, 03 Oct 2025 09:36:19 GMT\n",
      "< Content-Length: 1256\n",
      "< Connection: keep-alive\n",
      "< \n",
      "<!doctype html>\n",
      "<html>\n",
      "<head>\n",
      "    <title>Example Domain</title>\n",
      "\n",
      "    <meta charset=\"utf-8\" />\n",
      "    <meta http-equiv=\"Content-type\" content=\"text/html; charset=utf-8\" />\n",
      "    <meta name=\"viewport\" content=\"width=device-width, initial-scale=1\" />\n",
      "    <style type=\"text/css\">\n",
      "    body {\n",
      "        background-color: #f0f0f2;\n",
      "        margin: 0;\n",
      "        padding: 0;\n",
      "        font-family: -apple-system, system-ui, BlinkMacSystemFont, \"Segoe UI\", \"Open Sans\", \"Helvetica Neue\", Helvetica, Arial, sans-serif;\n",
      "        \n",
      "    }\n",
      "    div {\n",
      "        width: 600px;\n",
      "        margin: 5em auto;\n",
      "        padding: 2em;\n",
      "        background-color: #fdfdff;\n",
      "        border-radius: 0.5em;\n",
      "        box-shadow: 2px 3px 7px 2px rgba(0,0,0,0.02);\n",
      "    }\n",
      "    a:link, a:visited {\n",
      "        color: #38488f;\n",
      "        text-decoration: none;\n",
      "    }\n",
      "    @media (max-width: 700px) {\n",
      "        div {\n",
      "            margin: 0 auto;\n",
      "            width: auto;\n",
      "        }\n",
      "    }\n",
      "    </style>    \n",
      "</head>\n",
      "\n",
      "<body>\n",
      "<div>\n",
      "    <h1>Example Domain</h1>\n",
      "    <p>This domain is for use in illustrative examples in documents. You may use this\n",
      "    domain in literature without prior coordination or asking for permission.</p>\n",
      "    <p><a href=\"https://www.iana.org/domains/example\">More information...</a></p>\n",
      "</div>\n",
      "</body>\n",
      "</html>\n",
      "* Connection #0 to host example.com left intact\n"
     ]
    }
   ],
   "source": [
    "!curl -v -X GET http://example.com"
   ]
  },
  {
   "cell_type": "markdown",
   "metadata": {
    "pycharm": {
     "name": "#%% md\n"
    },
    "slideshow": {
     "slide_type": "slide"
    }
   },
   "source": [
    "### HTTP-response\n",
    "\n",
    "[Mozilla docs: list of HTTP statuses](https://developer.mozilla.org/en-US/docs/Web/HTTP/Status)\n",
    "\n",
    "![image](./HTTP_statuses.jpeg)"
   ]
  },
  {
   "cell_type": "markdown",
   "metadata": {},
   "source": [
    "optional"
   ]
  },
  {
   "cell_type": "markdown",
   "metadata": {},
   "source": [
    "## UDP / TCP in Python"
   ]
  },
  {
   "cell_type": "markdown",
   "metadata": {
    "pycharm": {
     "name": "#%% md\n"
    },
    "slideshow": {
     "slide_type": "slide"
    }
   },
   "source": [
    "## send via UDP (ipv4)"
   ]
  },
  {
   "cell_type": "markdown",
   "metadata": {},
   "source": [
    "A **socket** is simply an endpoint for two-way communication between processes over a network."
   ]
  },
  {
   "cell_type": "code",
   "execution_count": 10,
   "metadata": {
    "pycharm": {
     "name": "#%%\n"
    }
   },
   "outputs": [
    {
     "name": "stdout",
     "output_type": "stream",
     "text": [
      "Sending messages from ('0.0.0.0', 0)\n",
      "Actual address: ('0.0.0.0', 54948)\n",
      "b'Hello,' ('127.0.0.1', 54948)\n",
      "b'world!' ('127.0.0.1', 54948)\n",
      "b'How' ('127.0.0.1', 52407)\n",
      "b'are' ('127.0.0.1', 52407)\n",
      "b'you?' ('127.0.0.1', 52407)\n"
     ]
    }
   ],
   "source": [
    "import socket\n",
    "# 127.0.0.1 is the localhost (address of the current machine)\n",
    "addr = '127.0.0.1', 6001  # host, port\n",
    "\n",
    "sock_one = socket.socket(\n",
    "    socket.AF_INET,  # Address Family INET (IPv4)\n",
    "    socket.SOCK_DGRAM  # ≈ \"use UDP\"\n",
    ")\n",
    "sock_one.bind(addr)  # binds the socket to the address; all packets sent to 127.0.0.1:6001 will be received by this socket\n",
    "\n",
    "with socket.socket(socket.AF_INET, socket.SOCK_DGRAM) as sock_two:\n",
    "    print(f'Sending messages from {sock_two.getsockname()}')  # 0.0.0.0:0 is ephemeral address which means \"not specified\"\n",
    "    sock_two.sendto(b'Hello,', addr)\n",
    "    print(f'Actual address: {sock_two.getsockname()}')\n",
    "    sock_two.sendto(b'world!', addr)\n",
    "\n",
    "with socket.socket(socket.AF_INET, socket.SOCK_DGRAM) as sock_three:\n",
    "    sock_three.sendto(b'How', addr)\n",
    "    sock_three.sendto(b'are', addr)\n",
    "    sock_three.sendto(b'you?', addr)\n",
    "\n",
    "for _ in range(5):\n",
    "    data, addr = sock_one.recvfrom(1024)\n",
    "    print(data, addr)\n",
    "\n",
    "sock_one.close()"
   ]
  },
  {
   "cell_type": "markdown",
   "metadata": {
    "slideshow": {
     "slide_type": "slide"
    }
   },
   "source": [
    "## send via UDP (ipv6)"
   ]
  },
  {
   "cell_type": "code",
   "execution_count": null,
   "metadata": {},
   "outputs": [
    {
     "name": "stdout",
     "output_type": "stream",
     "text": [
      "b'Hello,' ('::1', 54692, 0, 0)\n",
      "b'world!' ('::1', 54692, 0, 0)\n",
      "b'How' ('::1', 62205, 0, 0)\n",
      "b'are' ('::1', 62205, 0, 0)\n",
      "b'you?' ('::1', 62205, 0, 0)\n"
     ]
    }
   ],
   "source": [
    "addr = '::1', 6001, 0, 0\n",
    "\n",
    "sock_one = socket.socket(\n",
    "    socket.AF_INET6,  # Address Family INET (IPv6)\n",
    "    socket.SOCK_DGRAM  # ≈ \"use UDP\"\n",
    ")\n",
    "sock_one.bind(addr)\n",
    "\n",
    "with socket.socket(socket.AF_INET6, socket.SOCK_DGRAM) as sock_two:\n",
    "    sock_two.sendto(b'Hello,', addr)\n",
    "    sock_two.sendto(b'world!', addr)\n",
    "    \n",
    "with socket.socket(socket.AF_INET6, socket.SOCK_DGRAM) as sock_three:\n",
    "    sock_three.sendto(b'How', addr)\n",
    "    sock_three.sendto(b'are', addr)\n",
    "    sock_three.sendto(b'you?', addr)\n",
    "\n",
    "for _ in range(5):\n",
    "    data, addr = sock_one.recvfrom(1024)\n",
    "    print(data, addr)\n",
    "\n",
    "sock_one.close()"
   ]
  },
  {
   "cell_type": "markdown",
   "metadata": {
    "pycharm": {
     "name": "#%% md\n"
    },
    "slideshow": {
     "slide_type": "slide"
    }
   },
   "source": [
    "## send via TCP (ipv4)\n",
    "(and a bit of HTTP)"
   ]
  },
  {
   "cell_type": "code",
   "execution_count": 12,
   "metadata": {},
   "outputs": [
    {
     "data": {
      "text/plain": [
       "'54.234.120.160'"
      ]
     },
     "execution_count": 12,
     "metadata": {},
     "output_type": "execute_result"
    }
   ],
   "source": [
    "socket.gethostbyname('httpbin.org')"
   ]
  },
  {
   "cell_type": "code",
   "execution_count": 13,
   "metadata": {
    "pycharm": {
     "name": "#%%\n"
    },
    "slideshow": {
     "slide_type": "-"
    }
   },
   "outputs": [],
   "source": [
    "addr = '54.234.120.160', 80  # httpbin.org\n",
    "\n",
    "request = b'\\r\\n'.join([\n",
    "    b'GET /get HTTP/1.1',  # send the HTTP request over TCP\n",
    "    b'Host: httpbin.org',\n",
    "]) + b'\\r\\n\\r\\n'\n",
    "\n",
    "with socket.socket(\n",
    "    family=socket.AF_INET,  # Adress Family INET\n",
    "    type=socket.SOCK_STREAM  # ≈ \"use TCP\"\n",
    ") as sock:\n",
    "    sock.connect(addr)\n",
    "    sock.sendall(request)\n",
    "    response = sock.recv(1024)"
   ]
  },
  {
   "cell_type": "code",
   "execution_count": 17,
   "metadata": {},
   "outputs": [
    {
     "name": "stdout",
     "output_type": "stream",
     "text": [
      "HTTP/1.1 200 OK\n",
      "Date: Fri, 03 Oct 2025 09:48:38 GMT\n",
      "Content-Type: application/json\n",
      "Content-Length: 200\n",
      "Connection: keep-alive\n",
      "Server: gunicorn/19.9.0\n",
      "Access-Control-Allow-Origin: *\n",
      "Access-Control-Allow-Credentials: true\n",
      "\n",
      "{\n",
      "  \"args\": {}, \n",
      "  \"headers\": {\n",
      "    \"Host\": \"httpbin.org\", \n",
      "    \"X-Amzn-Trace-Id\": \"Root=1-68df9bf4-14aff33c65edf8ca7efb31ef\"\n",
      "  }, \n",
      "  \"origin\": \"134.102.106.210\", \n",
      "  \"url\": \"http://httpbin.org/get\"\n",
      "}\n",
      "\n"
     ]
    }
   ],
   "source": [
    "print(response.decode('utf8'))"
   ]
  },
  {
   "cell_type": "markdown",
   "metadata": {
    "pycharm": {
     "name": "#%% md\n"
    },
    "slideshow": {
     "slide_type": "slide"
    }
   },
   "source": [
    "### SSL / TLS\n",
    "\n",
    "SSL (Secure Sockets Layer) is a protocol for secure communication over a computer network. \\\n",
    "Whenever you see `https://` (with s at the end) in the URL, SSL is used. \\\n",
    "Nowadays, SSL is used everywhere (if you see `http://` in the URL, it's not secure)"
   ]
  },
  {
   "cell_type": "markdown",
   "metadata": {
    "pycharm": {
     "name": "#%% md\n"
    },
    "slideshow": {
     "slide_type": "-"
    }
   },
   "source": [
    "<img src=\"what-is-ssl-handshake.svg\" width=\"50%\" height=\"50%\">"
   ]
  },
  {
   "cell_type": "markdown",
   "metadata": {},
   "source": [
    "### Trying to work without ssl"
   ]
  },
  {
   "cell_type": "code",
   "execution_count": 18,
   "metadata": {},
   "outputs": [
    {
     "name": "stdout",
     "output_type": "stream",
     "text": [
      "HTTP/1.1 400 Bad Request\n",
      "Server: awselb/2.0\n",
      "Date: Fri, 03 Oct 2025 09:53:45 GMT\n",
      "Content-Type: text/html\n",
      "Content-Length: 220\n",
      "Connection: close\n",
      "\n",
      "<html>\n",
      "<head><title>400 The plain HTTP request was sent to HTTPS port</title></head>\n",
      "<body>\n",
      "<center><h1>400 Bad Request</h1></center>\n",
      "<center>The plain HTTP request was sent to HTTPS port</center>\n",
      "</body>\n",
      "</html>\n",
      "\n"
     ]
    }
   ],
   "source": [
    "request = b'\\r\\n'.join([\n",
    "    b'GET /get HTTP/1.1',  # send the HTTP request over TCP\n",
    "    b'Host: httpbin.org',\n",
    "]) + b'\\r\\n\\r\\n'\n",
    "\n",
    "with socket.create_connection(('httpbin.org', 443), timeout=1) as sock:  # 443 is the HTTPS port\n",
    "    sock.sendall(request)\n",
    "    response = sock.recv(1024)\n",
    "    \n",
    "print(response.decode('utf8'))"
   ]
  },
  {
   "cell_type": "markdown",
   "metadata": {},
   "source": [
    "### ... and with ssl"
   ]
  },
  {
   "cell_type": "code",
   "execution_count": 19,
   "metadata": {
    "slideshow": {
     "slide_type": "slide"
    }
   },
   "outputs": [
    {
     "name": "stdout",
     "output_type": "stream",
     "text": [
      "HTTP/1.1 200 OK\n",
      "Date: Fri, 03 Oct 2025 09:53:50 GMT\n",
      "Content-Type: application/json\n",
      "Content-Length: 201\n",
      "Connection: keep-alive\n",
      "Server: gunicorn/19.9.0\n",
      "Access-Control-Allow-Origin: *\n",
      "Access-Control-Allow-Credentials: true\n",
      "\n",
      "{\n",
      "  \"args\": {}, \n",
      "  \"headers\": {\n",
      "    \"Host\": \"httpbin.org\", \n",
      "    \"X-Amzn-Trace-Id\": \"Root=1-68df9d2e-2110f9197315bea65f2c6f1a\"\n",
      "  }, \n",
      "  \"origin\": \"134.102.106.210\", \n",
      "  \"url\": \"https://httpbin.org/get\"\n",
      "}\n",
      "\n"
     ]
    }
   ],
   "source": [
    "import ssl\n",
    "\n",
    "context = ssl.create_default_context()\n",
    "\n",
    "request = b'\\r\\n'.join([\n",
    "    b'GET /get HTTP/1.1',  # send the HTTP request over TCP\n",
    "    b'Host: httpbin.org',\n",
    "]) + b'\\r\\n\\r\\n'\n",
    "\n",
    "with socket.create_connection(('httpbin.org', 443)) as sock:\n",
    "    with context.wrap_socket(sock, server_hostname='httpbin.org') as ssock:\n",
    "        ssock.sendall(request)\n",
    "        response = ssock.recv(1024)\n",
    "    \n",
    "print(response.decode('utf8'))"
   ]
  },
  {
   "cell_type": "markdown",
   "metadata": {
    "pycharm": {
     "name": "#%% md\n"
    },
    "slideshow": {
     "slide_type": "slide"
    }
   },
   "source": [
    "## Requests: HTTP for Humans (20min, 20:15)\n",
    "A convenient library for working with HTTP in python"
   ]
  },
  {
   "cell_type": "code",
   "execution_count": 20,
   "metadata": {
    "pycharm": {
     "name": "#%%\n"
    },
    "slideshow": {
     "slide_type": "slide"
    }
   },
   "outputs": [
    {
     "data": {
      "text/plain": [
       "200"
      ]
     },
     "execution_count": 20,
     "metadata": {},
     "output_type": "execute_result"
    }
   ],
   "source": [
    "import requests\n",
    "\n",
    "response = requests.get('http://httpbin.org')\n",
    "\n",
    "response.status_code"
   ]
  },
  {
   "cell_type": "code",
   "execution_count": 21,
   "metadata": {
    "pycharm": {
     "name": "#%%\n"
    },
    "slideshow": {
     "slide_type": "fragment"
    }
   },
   "outputs": [
    {
     "data": {
      "text/plain": [
       "'<!DOCTYPE html>\\n<html lang=\"en\">\\n\\n<head>\\n    <meta charset=\"UTF-8\">\\n    <title>httpbin.org</title>\\n    <link href=\"https://fonts.googleapis.com/css?family=Open+Sans:400,700|Source+Code+Pro:300,600|Titillium+Web:400,600,700\"\\n        rel=\"stylesheet\">\\n    <link rel=\"stylesheet\" type=\"text/css\" href=\"/flasgger_static/swagger-ui.css\">\\n    <link rel=\"icon\" type=\"image/png\" href=\"/static/favicon.ico\" sizes=\"64x64 32x32 16x16\" />\\n    <style>\\n        html {\\n            box-sizing: border-box;\\n            overflow: '"
      ]
     },
     "execution_count": 21,
     "metadata": {},
     "output_type": "execute_result"
    }
   ],
   "source": [
    "response.text[:512]"
   ]
  },
  {
   "cell_type": "markdown",
   "metadata": {},
   "source": [
    "optional"
   ]
  },
  {
   "cell_type": "markdown",
   "metadata": {},
   "source": [
    "## Web scraping"
   ]
  },
  {
   "cell_type": "code",
   "execution_count": 22,
   "metadata": {
    "pycharm": {
     "name": "#%%\n"
    },
    "slideshow": {
     "slide_type": "slide"
    }
   },
   "outputs": [],
   "source": [
    "from bs4 import BeautifulSoup"
   ]
  },
  {
   "cell_type": "code",
   "execution_count": 23,
   "metadata": {
    "pycharm": {
     "name": "#%%\n"
    },
    "slideshow": {
     "slide_type": "-"
    }
   },
   "outputs": [],
   "source": [
    "html = requests.get('http://example.com', timeout=1).text"
   ]
  },
  {
   "cell_type": "code",
   "execution_count": 24,
   "metadata": {
    "pycharm": {
     "name": "#%%\n"
    },
    "slideshow": {
     "slide_type": "-"
    }
   },
   "outputs": [],
   "source": [
    "soup = BeautifulSoup(html)"
   ]
  },
  {
   "cell_type": "code",
   "execution_count": 25,
   "metadata": {
    "pycharm": {
     "name": "#%%\n"
    },
    "slideshow": {
     "slide_type": "-"
    }
   },
   "outputs": [
    {
     "name": "stdout",
     "output_type": "stream",
     "text": [
      "<style type=\"text/css\">\n",
      "    body {\n",
      "        background-color: #f0f0f2;\n",
      "        margin: 0;\n",
      "        padding: 0;\n",
      "        font-family: -apple-system, system-ui, BlinkMacSystemFont, \"Segoe UI\", \"Open Sans\", \"Helvetica Neue\", Helvetica, Arial, sans-serif;\n",
      "        \n",
      "    }\n",
      "    div {\n",
      "        width: 600px;\n",
      "        margin: 5em auto;\n",
      "        padding: 2em;\n",
      "        background-color: #fdfdff;\n",
      "        border-radius: 0.5em;\n",
      "        box-shadow: 2px 3px 7px 2px rgba(0,0,0,0.02);\n",
      "    }\n",
      "    a:link, a:visited {\n",
      "        color: #38488f;\n",
      "        text-decoration: none;\n",
      "    }\n",
      "    @media (max-width: 700px) {\n",
      "        div {\n",
      "            margin: 0 auto;\n",
      "            width: auto;\n",
      "        }\n",
      "    }\n",
      "    </style>\n"
     ]
    }
   ],
   "source": [
    "css_element = soup.html.head.style\n",
    "print(css_element)\n",
    "css_element.clear()"
   ]
  },
  {
   "cell_type": "code",
   "execution_count": 26,
   "metadata": {
    "pycharm": {
     "name": "#%%\n"
    },
    "slideshow": {
     "slide_type": "slide"
    }
   },
   "outputs": [
    {
     "name": "stdout",
     "output_type": "stream",
     "text": [
      "<!DOCTYPE html>\n",
      "<html>\n",
      " <head>\n",
      "  <title>\n",
      "   Example Domain\n",
      "  </title>\n",
      "  <meta charset=\"utf-8\"/>\n",
      "  <meta content=\"text/html; charset=utf-8\" http-equiv=\"Content-type\"/>\n",
      "  <meta content=\"width=device-width, initial-scale=1\" name=\"viewport\"/>\n",
      "  <style type=\"text/css\">\n",
      "  </style>\n",
      " </head>\n",
      " <body>\n",
      "  <div>\n",
      "   <h1>\n",
      "    Example Domain\n",
      "   </h1>\n",
      "   <p>\n",
      "    This domain is for use in illustrative examples in documents. You may use this\n",
      "    domain in literature without prior coordination or asking for permission.\n",
      "   </p>\n",
      "   <p>\n",
      "    <a href=\"https://www.iana.org/domains/example\">\n",
      "     More information...\n",
      "    </a>\n",
      "   </p>\n",
      "  </div>\n",
      " </body>\n",
      "</html>\n",
      "\n"
     ]
    }
   ],
   "source": [
    "print(soup.prettify())"
   ]
  },
  {
   "cell_type": "code",
   "execution_count": 27,
   "metadata": {
    "pycharm": {
     "name": "#%%\n"
    },
    "slideshow": {
     "slide_type": "slide"
    }
   },
   "outputs": [],
   "source": [
    "html = soup.html"
   ]
  },
  {
   "cell_type": "code",
   "execution_count": 28,
   "metadata": {
    "pycharm": {
     "name": "#%%\n"
    },
    "slideshow": {
     "slide_type": "-"
    }
   },
   "outputs": [
    {
     "data": {
      "text/plain": [
       "<title>Example Domain</title>"
      ]
     },
     "execution_count": 28,
     "metadata": {},
     "output_type": "execute_result"
    }
   ],
   "source": [
    "html.head.title"
   ]
  },
  {
   "cell_type": "code",
   "execution_count": 29,
   "metadata": {
    "pycharm": {
     "name": "#%%\n"
    },
    "slideshow": {
     "slide_type": "-"
    }
   },
   "outputs": [
    {
     "name": "stderr",
     "output_type": "stream",
     "text": [
      "/var/folders/b6/nzh1jdk54nvfgrwy6hv3kg8c0000gp/T/ipykernel_28376/2337195660.py:1: DeprecationWarning: Call to deprecated method findAll. (Replaced by find_all) -- Deprecated since version 4.0.0.\n",
      "  html.head.findAll('meta')\n"
     ]
    },
    {
     "data": {
      "text/plain": [
       "[<meta charset=\"utf-8\"/>,\n",
       " <meta content=\"text/html; charset=utf-8\" http-equiv=\"Content-type\"/>,\n",
       " <meta content=\"width=device-width, initial-scale=1\" name=\"viewport\"/>]"
      ]
     },
     "execution_count": 29,
     "metadata": {},
     "output_type": "execute_result"
    }
   ],
   "source": [
    "html.head.findAll('meta')"
   ]
  },
  {
   "cell_type": "code",
   "execution_count": 30,
   "metadata": {
    "pycharm": {
     "name": "#%%\n"
    },
    "slideshow": {
     "slide_type": "-"
    }
   },
   "outputs": [
    {
     "name": "stderr",
     "output_type": "stream",
     "text": [
      "/var/folders/b6/nzh1jdk54nvfgrwy6hv3kg8c0000gp/T/ipykernel_28376/3627132648.py:1: DeprecationWarning: Call to deprecated method findAll. (Replaced by find_all) -- Deprecated since version 4.0.0.\n",
      "  paragraphs = html.findAll('p')\n"
     ]
    },
    {
     "data": {
      "text/plain": [
       "[<p>This domain is for use in illustrative examples in documents. You may use this\n",
       "     domain in literature without prior coordination or asking for permission.</p>,\n",
       " <p><a href=\"https://www.iana.org/domains/example\">More information...</a></p>]"
      ]
     },
     "execution_count": 30,
     "metadata": {},
     "output_type": "execute_result"
    }
   ],
   "source": [
    "paragraphs = html.findAll('p')\n",
    "paragraphs"
   ]
  },
  {
   "cell_type": "code",
   "execution_count": 31,
   "metadata": {
    "pycharm": {
     "name": "#%%\n"
    },
    "slideshow": {
     "slide_type": "slide"
    }
   },
   "outputs": [
    {
     "name": "stderr",
     "output_type": "stream",
     "text": [
      "/var/folders/b6/nzh1jdk54nvfgrwy6hv3kg8c0000gp/T/ipykernel_28376/459700068.py:1: DeprecationWarning: Call to deprecated method findAll. (Replaced by find_all) -- Deprecated since version 4.0.0.\n",
      "  links = html.findAll('a')\n"
     ]
    },
    {
     "data": {
      "text/plain": [
       "[<a href=\"https://www.iana.org/domains/example\">More information...</a>]"
      ]
     },
     "execution_count": 31,
     "metadata": {},
     "output_type": "execute_result"
    }
   ],
   "source": [
    "links = html.findAll('a')\n",
    "links"
   ]
  },
  {
   "cell_type": "code",
   "execution_count": 32,
   "metadata": {
    "pycharm": {
     "name": "#%%\n"
    },
    "slideshow": {
     "slide_type": "-"
    }
   },
   "outputs": [
    {
     "name": "stdout",
     "output_type": "stream",
     "text": [
      "More information... https://www.iana.org/domains/example\n"
     ]
    }
   ],
   "source": [
    "for link in links:\n",
    "    print(link.text, link['href'])"
   ]
  },
  {
   "cell_type": "code",
   "execution_count": 41,
   "metadata": {
    "pycharm": {
     "name": "#%%\n"
    },
    "slideshow": {
     "slide_type": "slide"
    }
   },
   "outputs": [],
   "source": [
    "#  https://www.google.ru/search?q=test\n",
    "SEARCH_URL = 'https://www.google.ru/search'\n",
    "response = requests.get(SEARCH_URL, params={'q': 'wikipedia'}, timeout=1)\n",
    "# requests can handle HTTP errors itself and raise exceptions when things go wrong\n",
    "response.raise_for_status()"
   ]
  },
  {
   "cell_type": "code",
   "execution_count": 42,
   "metadata": {
    "pycharm": {
     "name": "#%%\n"
    },
    "slideshow": {
     "slide_type": "fragment"
    }
   },
   "outputs": [],
   "source": [
    "soup = BeautifulSoup(response.text)  "
   ]
  },
  {
   "cell_type": "code",
   "execution_count": 45,
   "metadata": {},
   "outputs": [],
   "source": [
    "# print(soup.prettify())"
   ]
  },
  {
   "cell_type": "code",
   "execution_count": 36,
   "metadata": {
    "slideshow": {
     "slide_type": "skip"
    }
   },
   "outputs": [
    {
     "data": {
      "text/plain": [
       "{}"
      ]
     },
     "execution_count": 36,
     "metadata": {},
     "output_type": "execute_result"
    }
   ],
   "source": [
    "# parsing websites is a thankless job\n",
    "examples = {}\n",
    "for div in soup.find_all('div'):\n",
    "    text = div.text\n",
    "    if (classes := div.attrs.get('class')) is not None:\n",
    "        for class_ in classes:\n",
    "            if not 'Wikipedia — the free encyclopedia' == text:\n",
    "                continue\n",
    "            examples[class_] = div.text.strip()\n",
    "\n",
    "examples"
   ]
  },
  {
   "cell_type": "code",
   "execution_count": 37,
   "metadata": {
    "pycharm": {
     "name": "#%%\n"
    },
    "slideshow": {
     "slide_type": "-"
    }
   },
   "outputs": [],
   "source": [
    "for elem in soup.find_all('div', attrs={'class': 'j039Wc'}):\n",
    "    descr = elem.find('div', attrs={'class': 'BNeawe'})\n",
    "    if not descr:\n",
    "        continue\n",
    "    print('-', descr.text)"
   ]
  },
  {
   "cell_type": "code",
   "execution_count": 38,
   "metadata": {
    "pycharm": {
     "name": "#%%\n"
    },
    "slideshow": {
     "slide_type": "slide"
    }
   },
   "outputs": [],
   "source": [
    "# without specifying /html, you'll get the version of the site that works only with JavaScript\n",
    "SEARCH_URL = 'https://duckduckgo.com/html'\n",
    "\n",
    "response = requests.get(\n",
    "    \"https://duckduckgo.com/html\", params={'q': 'Python language'},\n",
    "    headers={'user-agent': 'Mozilla/5.0 (X11; Linux x86_64) '\n",
    "                           'AppleWebKit/537.36 (KHTML, like Gecko) '\n",
    "                           'Chrome/77.0.3865.121 '\n",
    "                           'Safari/537.36'}\n",
    ")\n",
    "response.raise_for_status()"
   ]
  },
  {
   "cell_type": "code",
   "execution_count": 39,
   "metadata": {
    "pycharm": {
     "name": "#%%\n"
    },
    "slideshow": {
     "slide_type": "fragment"
    }
   },
   "outputs": [],
   "source": [
    "soup = BeautifulSoup(response.text)"
   ]
  },
  {
   "cell_type": "code",
   "execution_count": 40,
   "metadata": {
    "pycharm": {
     "name": "#%%\n"
    },
    "slideshow": {
     "slide_type": "fragment"
    }
   },
   "outputs": [
    {
     "data": {
      "text/html": [
       "<a class=\"result__a\" href=\"https://duckduckgo.com/y.js?ad_domain=thalia.de&amp;ad_provider=bingv7aa&amp;ad_type=txad&amp;click_metadata=nCv%2DBgE_d3OoO8XAf1VyGbu5QSWjZu3C6itd5cjVHlhF0_EIDC6lyMp72Xqr9wSJhUAZU8Uo1lrJhkm583_og9CBs2tok2jtJfujSmH2fjQhwzg7WU%2DAVnE92Q5rCKoq.4LFRyBzv9OJjfB04U4KjcQ&amp;rut=fa0faacb72990d4f50b07b8fd193a64ce7a402032aa0cfb2e8d0296d57a04cb2&amp;u3=https%3A%2F%2Fwww.bing.com%2Faclick%3Fld%3De8p3TDf4DVUJxAQkeDXoPbmzVUCUw2gDK7giBJl%2DXHDXYmNjvA4xZ22a3%2DEH7%2DiS0KZOG807bFaONkuVewhJcxbmQQy9dgW0On%2DlfuWqg3s7XEmJNswEfIkhQiz%2DbFAmzTyKqbAIHaI_Pm7HQrLB31lFzPuWAXeCLQNTQVR9%2DnxGOvpIbAkNl2C%2DE9N6gYozCkrVgxdg%26u%3DaHR0cHMlM2ElMmYlMmZhZC5kb3VibGVjbGljay5uZXQlMmZzZWFyY2hhZHMlMmZsaW5rJTJmY2xpY2slM2ZsaWQlM2Q0MzcwMDA2NzEyNTI1OTMyNSUyNmRzX3Nfa3dnaWQlM2Q1ODcwMDAwNzQ2MzA4MDk2OSUyNmRzX2FfY2lkJTNkODAwMzM3NzY2JTI2ZHNfYV9jYWlkJTNkMTUwODgzMTQ0NTklMjZkc19hX2FnaWQlM2QxMzE5MjI2MTMzOTElMjZkc19hX2xpZCUzZGt3ZC0yOTY3MzE4NjcwODAlMjYlMjZkc19lX2FkaWQlM2Q3MjI5Mjk1MjcwNTIwMCUyNmRzX2VfdGFyZ2V0X2lkJTNka3dkLTcyMjkzMTM1OTE2MTIxJTNhbG9jLTE0MDYlMjYlMjZkc19lX25ldHdvcmslM2RzJTI2ZHNfdXJsX3YlM2QyJTI2ZHNfZGVzdF91cmwlM2RodHRwcyUzYSUyZiUyZnd3dy50aGFsaWEuZGUlMmZzaG9wJTJmaG9tZSUyZmFydGlrZWxkZXRhaWxzJTJmSUQyMTExMTU4OC5odG1sJTNmUHJvdklEJTNkMTEwMDA3MzElMjZnY2xpZCUzZDU5ZGNjMjI0NTdjMDEzYzJlZjQ4YWFmYmM5Y2E3NTY0JTI2Z2Nsc3JjJTNkM3AuZHMlMjYlMjZtc2Nsa2lkJTNkNTlkY2MyMjQ1N2MwMTNjMmVmNDhhYWZiYzljYTc1NjQlMjZ1dG1fc291cmNlJTNkYmluZyUyNnV0bV9tZWRpdW0lM2RjcGMlMjZ1dG1fY2FtcGFpZ24lM2QoREUlMjUzQSUyNTIwUHJvZHVrdGUpJTI1MjBPJTI3UmVpbGx5JTI1MjBVSyUyNTIwTHRkLiUyNnV0bV90ZXJtJTNkcHJvZ3JhbW1pbmclMjUyMHB5dGhvbiUyNnV0bV9jb250ZW50JTNkKERFJTI1M0ElMjUyMFByb2R1a3RlKSUyNTIwTyUyN1JlaWxseSUyNTIwVUslMjUyMEx0ZC4lMjUyMCUyNTNFJTI1MjBQcm9ncmFtbWluZyUyNTIwUHl0aG9uJTI1MjAtJTI1MjAlMjU1QlNSJTI1NUQ%26rlid%3D59dcc22457c013c2ef48aafbc9ca7564&amp;vqd=4-78112063382033376194605188513974017005&amp;iurl=%7B1%7DIG%3D8B0724358D474866A31BECF778E5EACA%26CID%3D3ECCD7AD3EAC6D2A1B0BC1D73FA46CBF%26ID%3DDevEx%2C5046.1\" rel=\"nofollow\">Programming Python | Erschienen am 2010-12-31</a>"
      ],
      "text/plain": [
       "<IPython.core.display.HTML object>"
      ]
     },
     "metadata": {},
     "output_type": "display_data"
    },
    {
     "data": {
      "text/html": [
       "<a class=\"result__a\" href=\"https://www.python.org/\" rel=\"nofollow\">Welcome to Python.org</a>"
      ],
      "text/plain": [
       "<IPython.core.display.HTML object>"
      ]
     },
     "metadata": {},
     "output_type": "display_data"
    },
    {
     "data": {
      "text/html": [
       "<a class=\"result__a\" href=\"https://en.wikipedia.org/wiki/Python_(programming_language)\" rel=\"nofollow\">Python (programming language) - Wikipedia</a>"
      ],
      "text/plain": [
       "<IPython.core.display.HTML object>"
      ]
     },
     "metadata": {},
     "output_type": "display_data"
    },
    {
     "data": {
      "text/html": [
       "<a class=\"result__a\" href=\"https://www.w3schools.com/python/\" rel=\"nofollow\">Python Tutorial - W3Schools</a>"
      ],
      "text/plain": [
       "<IPython.core.display.HTML object>"
      ]
     },
     "metadata": {},
     "output_type": "display_data"
    },
    {
     "data": {
      "text/html": [
       "<a class=\"result__a\" href=\"https://www.geeksforgeeks.org/python/python-programming-language-tutorial/\" rel=\"nofollow\">Python Tutorial - Learn Python Programming Language - GeeksforGeeks</a>"
      ],
      "text/plain": [
       "<IPython.core.display.HTML object>"
      ]
     },
     "metadata": {},
     "output_type": "display_data"
    },
    {
     "data": {
      "text/html": [
       "<a class=\"result__a\" href=\"https://www.learnpython.org/\" rel=\"nofollow\">Learn Python - Free Interactive Python Tutorial</a>"
      ],
      "text/plain": [
       "<IPython.core.display.HTML object>"
      ]
     },
     "metadata": {},
     "output_type": "display_data"
    },
    {
     "data": {
      "text/html": [
       "<a class=\"result__a\" href=\"https://www.pythontutorial.net/python-basics/\" rel=\"nofollow\">Python Basics</a>"
      ],
      "text/plain": [
       "<IPython.core.display.HTML object>"
      ]
     },
     "metadata": {},
     "output_type": "display_data"
    },
    {
     "data": {
      "text/html": [
       "<a class=\"result__a\" href=\"https://www.python.org/about/gettingstarted/\" rel=\"nofollow\">Python For Beginners</a>"
      ],
      "text/plain": [
       "<IPython.core.display.HTML object>"
      ]
     },
     "metadata": {},
     "output_type": "display_data"
    },
    {
     "data": {
      "text/html": [
       "<a class=\"result__a\" href=\"https://www.programiz.com/python-programming\" rel=\"nofollow\">Learn Python Programming</a>"
      ],
      "text/plain": [
       "<IPython.core.display.HTML object>"
      ]
     },
     "metadata": {},
     "output_type": "display_data"
    },
    {
     "data": {
      "text/html": [
       "<a class=\"result__a\" href=\"https://en.wikipedia.org/wiki/Outline_of_the_Python_programming_language\" rel=\"nofollow\">Outline of the Python programming language - Wikipedia</a>"
      ],
      "text/plain": [
       "<IPython.core.display.HTML object>"
      ]
     },
     "metadata": {},
     "output_type": "display_data"
    },
    {
     "data": {
      "text/html": [
       "<a class=\"result__a\" href=\"https://www.pythontutorial.net/getting-started/what-is-python/\" rel=\"nofollow\">What is Python</a>"
      ],
      "text/plain": [
       "<IPython.core.display.HTML object>"
      ]
     },
     "metadata": {},
     "output_type": "display_data"
    }
   ],
   "source": [
    "from IPython.display import display, HTML\n",
    "\n",
    "for link in soup.find_all('a', attrs={\"class\": \"result__a\"}):\n",
    "    display(HTML(str(link)))"
   ]
  },
  {
   "cell_type": "markdown",
   "metadata": {
    "pycharm": {
     "name": "#%% md\n"
    },
    "slideshow": {
     "slide_type": "slide"
    }
   },
   "source": [
    "# API: Application Programming Interface\n",
    "\n",
    "\n",
    "![image](http://blog.restcase.com/content/images/2016/11/api-collaboration.png)"
   ]
  },
  {
   "cell_type": "markdown",
   "metadata": {
    "pycharm": {
     "name": "#%% md\n"
    },
    "slideshow": {
     "slide_type": "slide"
    }
   },
   "source": [
    "## Public API"
   ]
  },
  {
   "cell_type": "code",
   "execution_count": null,
   "metadata": {},
   "outputs": [],
   "source": [
    "from dotenv import load_dotenv\n",
    "\n",
    "load_dotenv()\n"
   ]
  },
  {
   "cell_type": "code",
   "execution_count": null,
   "metadata": {
    "pycharm": {
     "name": "#%%\n"
    },
    "slideshow": {
     "slide_type": "fragment"
    }
   },
   "outputs": [],
   "source": [
    "\n",
    "import os\n",
    "DICTIONARY_API = 'https://dictionary.yandex.net/api/v1/dicservice.json/lookup'\n",
    "TEMP_KEY = os.environ.get(\"YANDEX_DICTIONARY_API_KEY\")\n",
    "# Note: very, very bad practice to store API keys in the code (hard-coded)"
   ]
  },
  {
   "cell_type": "code",
   "execution_count": 53,
   "metadata": {
    "pycharm": {
     "name": "#%%\n"
    },
    "slideshow": {
     "slide_type": "fragment"
    }
   },
   "outputs": [],
   "source": [
    "params = {'key': TEMP_KEY, 'lang': 'en-ru', 'text': 'hello'}\n",
    "response = requests.get(DICTIONARY_API, params=params, timeout=1)\n",
    "response.raise_for_status()\n",
    "body = response.text"
   ]
  },
  {
   "cell_type": "code",
   "execution_count": 54,
   "metadata": {
    "pycharm": {
     "name": "#%%\n"
    },
    "slideshow": {
     "slide_type": "fragment"
    }
   },
   "outputs": [
    {
     "data": {
      "text/plain": [
       "'{\"head\":{},\"def\":[{\"text\":\"hello\",\"pos\":\"noun\",\"ts\":\"həˈləʊ\",\"tr\":[{\"text\":\"привет\",\"pos\":\"noun\",\"gen\":\"м\",\"fr\":10,\"syn\":[{\"text\":\"добрый день\",\"pos\":\"noun\",\"fr\":5},{\"text\":\"Здравствуй\",\"pos\":\"noun\",\"gen\":\"м\",\"fr\":1}],\"mean\":[{\"text\":\"hi\"},{\"text\":\"good afternoon\"}]},{\"text\":\"приветствие\",\"pos\":\"noun\",\"gen\":\"ср\",\"fr\":5}]},{\"text\":\"hello\",\"pos\":\"verb\",\"ts\":\"həˈləʊ\",\"tr\":[{\"text\":\"здравствуйте\",\"pos\":\"verb\",\"asp\":\"несов\",\"fr\":1,\"mean\":[{\"text\":\"hi\"}]},{\"text\":\"поздороваться\",\"pos\":\"verb\",\"asp\":\"сов\",\"fr\":5,\"mean\":[{\"text\":\"greet\"}]},{\"text\":\"приветствовать\",\"pos\":\"verb\",\"asp\":\"несов\",\"fr\":5}]},{\"text\":\"hello\",\"pos\":\"interjection\",\"ts\":\"həˈləʊ\",\"tr\":[{\"text\":\"АЛЛО\",\"pos\":\"interjection\",\"fr\":10},{\"text\":\"ау\",\"pos\":\"interjection\",\"fr\":1}]},{\"text\":\"hello\",\"pos\":\"adverb\",\"ts\":\"həˈləʊ\",\"tr\":[{\"text\":\"здорово\",\"pos\":\"adverb\",\"fr\":1,\"mean\":[{\"text\":\"hey\"}]}]}],\"nmt_code\":200,\"code\":200}'"
      ]
     },
     "execution_count": 54,
     "metadata": {},
     "output_type": "execute_result"
    }
   ],
   "source": [
    "body"
   ]
  },
  {
   "cell_type": "code",
   "execution_count": 55,
   "metadata": {
    "pycharm": {
     "name": "#%%\n"
    },
    "slideshow": {
     "slide_type": "fragment"
    }
   },
   "outputs": [
    {
     "data": {
      "text/plain": [
       "'application/json; charset=utf-8'"
      ]
     },
     "execution_count": 55,
     "metadata": {},
     "output_type": "execute_result"
    }
   ],
   "source": [
    "response.headers['content-type']"
   ]
  },
  {
   "cell_type": "markdown",
   "metadata": {
    "pycharm": {
     "name": "#%% md\n"
    },
    "slideshow": {
     "slide_type": "slide"
    }
   },
   "source": [
    "# JSON: JavaScript Object Notation\n",
    "\n",
    "![image](https://www.w3resource.com/w3r_images/json-introduction.png)"
   ]
  },
  {
   "cell_type": "code",
   "execution_count": 56,
   "metadata": {
    "pycharm": {
     "name": "#%%\n"
    },
    "slideshow": {
     "slide_type": "slide"
    }
   },
   "outputs": [],
   "source": [
    "import json"
   ]
  },
  {
   "cell_type": "code",
   "execution_count": 57,
   "metadata": {
    "pycharm": {
     "name": "#%%\n"
    },
    "slideshow": {
     "slide_type": "fragment"
    }
   },
   "outputs": [],
   "source": [
    "definition = json.loads(body)['def']  # or response.json()['def']"
   ]
  },
  {
   "cell_type": "code",
   "execution_count": 58,
   "metadata": {
    "pycharm": {
     "name": "#%%\n"
    },
    "slideshow": {
     "slide_type": "fragment"
    }
   },
   "outputs": [
    {
     "data": {
      "text/plain": [
       "[{'text': 'hello',\n",
       "  'pos': 'noun',\n",
       "  'ts': 'həˈləʊ',\n",
       "  'tr': [{'text': 'привет',\n",
       "    'pos': 'noun',\n",
       "    'gen': 'м',\n",
       "    'fr': 10,\n",
       "    'syn': [{'text': 'добрый день', 'pos': 'noun', 'fr': 5},\n",
       "     {'text': 'Здравствуй', 'pos': 'noun', 'gen': 'м', 'fr': 1}],\n",
       "    'mean': [{'text': 'hi'}, {'text': 'good afternoon'}]},\n",
       "   {'text': 'приветствие', 'pos': 'noun', 'gen': 'ср', 'fr': 5}]},\n",
       " {'text': 'hello',\n",
       "  'pos': 'verb',\n",
       "  'ts': 'həˈləʊ',\n",
       "  'tr': [{'text': 'здравствуйте',\n",
       "    'pos': 'verb',\n",
       "    'asp': 'несов',\n",
       "    'fr': 1,\n",
       "    'mean': [{'text': 'hi'}]},\n",
       "   {'text': 'поздороваться',\n",
       "    'pos': 'verb',\n",
       "    'asp': 'сов',\n",
       "    'fr': 5,\n",
       "    'mean': [{'text': 'greet'}]},\n",
       "   {'text': 'приветствовать', 'pos': 'verb', 'asp': 'несов', 'fr': 5}]}]"
      ]
     },
     "execution_count": 58,
     "metadata": {},
     "output_type": "execute_result"
    }
   ],
   "source": [
    "definition[:2]"
   ]
  },
  {
   "cell_type": "markdown",
   "metadata": {
    "pycharm": {
     "name": "#%% md\n"
    },
    "slideshow": {
     "slide_type": "slide"
    }
   },
   "source": [
    "## API with OAuth authorization and a python client"
   ]
  },
  {
   "cell_type": "code",
   "execution_count": 61,
   "metadata": {
    "pycharm": {
     "name": "#%%\n"
    }
   },
   "outputs": [
    {
     "name": "stdout",
     "output_type": "stream",
     "text": [
      "Ahoy, matey! To check if a Python object be an instance of a certain class, ye can use the `isinstance()` function, arrr! Here be how ye'd do it:\n",
      "\n",
      "```python\n",
      "class Buccaneer:\n",
      "    pass\n",
      "\n",
      "jack = Buccaneer()\n",
      "\n",
      "# Check if 'jack' be an instance of 'Buccaneer'\n",
      "if isinstance(jack, Buccaneer):\n",
      "    print(\"Yarr! Jack be a Buccaneer!\")\n",
      "else:\n",
      "    print(\"Nay, Jack be no Buccaneer.\")\n",
      "```\n",
      "\n",
      "In this fine piece o' code, the `isinstance()` function checks if the `jack` object be an instance of the `Buccaneer` class. If it be true, it be spoutin' that Jack be a Buccaneer! If not, well, he ain't part of the crew. Arrr!\n"
     ]
    }
   ],
   "source": [
    "import os\n",
    "from openai import OpenAI\n",
    "\n",
    "client = OpenAI(\n",
    "    # This is the default and can be omitted\n",
    "    api_key=os.environ.get(\"OPENAI_API_KEY\"),\n",
    ")\n",
    "\n",
    "response = client.responses.create(\n",
    "    model=\"gpt-4o-mini\",\n",
    "    instructions=\"You are a coding assistant that talks like a pirate.\",\n",
    "    input=\"How do I check if a Python object is an instance of a class?\",\n",
    ")\n",
    "\n",
    "print(response.output_text)"
   ]
  },
  {
   "cell_type": "markdown",
   "metadata": {},
   "source": [
    "More on OpenAI API: [link](https://github.com/openai/openai-python)"
   ]
  },
  {
   "cell_type": "markdown",
   "metadata": {
    "pycharm": {
     "name": "#%% md\n"
    },
    "slideshow": {
     "slide_type": "slide"
    }
   },
   "source": [
    "#### Fun fact: Non-public API\n",
    "\n",
    "All Web-applications have internal APIs for updating data inside themselves. With some effort, you can learn to use these APIs in your code. However, for non-public APIs, no guarantees are made – it can break at any moment."
   ]
  }
 ],
 "metadata": {
  "celltoolbar": "Slideshow",
  "kernelspec": {
   "display_name": ".venv",
   "language": "python",
   "name": "python3"
  },
  "language_info": {
   "codemirror_mode": {
    "name": "ipython",
    "version": 3
   },
   "file_extension": ".py",
   "mimetype": "text/x-python",
   "name": "python",
   "nbconvert_exporter": "python",
   "pygments_lexer": "ipython3",
   "version": "3.11.12"
  },
  "rise": {
   "enable_chalkboard": true,
   "footer": "<p style=\"margin: 5px; color: #a0a0a0\">YSDA Python Course</p>",
   "scroll": true,
   "start_slideshow_at": "selected",
   "theme": "serif",
   "transition": "none"
  }
 },
 "nbformat": 4,
 "nbformat_minor": 4
}
