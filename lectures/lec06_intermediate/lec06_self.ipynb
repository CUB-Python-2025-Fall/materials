{
 "cells": [
  {
   "cell_type": "markdown",
   "id": "6fbe78cc",
   "metadata": {},
   "source": [
    "# Decorators"
   ]
  },
  {
   "cell_type": "markdown",
   "id": "411fd71e",
   "metadata": {},
   "source": [
    "### Decorator chains"
   ]
  },
  {
   "cell_type": "code",
   "execution_count": null,
   "id": "e8b43072",
   "metadata": {},
   "outputs": [],
   "source": [
    "import functools\n",
    "import sys\n",
    "\n",
    "def deprecated(func):\n",
    "    @functools.wraps(func)\n",
    "    def wrapper(*args, **kwargs):\n",
    "        print(f\"Warning: {func.__name__} is deprecated\")\n",
    "        return func(*args, **kwargs)\n",
    "    return wrapper\n",
    "\n",
    "def trace(dest=sys.stderr):\n",
    "    def wraps(func):\n",
    "        @functools.wraps(func)\n",
    "        def wrapper(*args, **kwargs):\n",
    "            print(\n",
    "                f'{func.__name__} called with args {args}, {kwargs}!',\n",
    "                file=dest\n",
    "            )\n",
    "            return func(*args, **kwargs)\n",
    "        return wrapper\n",
    "    return wraps\n",
    "\n",
    "@trace(sys.stdout)\n",
    "def f(x, test):\n",
    "    if test > 1:\n",
    "        return f(x, test / 2)\n",
    "\n",
    "f('Hi!', test=42)"
   ]
  },
  {
   "cell_type": "code",
   "execution_count": null,
   "id": "a53066f3",
   "metadata": {},
   "outputs": [],
   "source": [
    "@deprecated\n",
    "@trace()\n",
    "def f(x):\n",
    "    return x\n",
    "\n",
    "f(1)"
   ]
  },
  {
   "cell_type": "markdown",
   "id": "1fc10ff5",
   "metadata": {},
   "source": [
    "### The notify decorator"
   ]
  },
  {
   "cell_type": "code",
   "execution_count": null,
   "id": "09d0a170",
   "metadata": {},
   "outputs": [],
   "source": [
    "# notify: decorator\n",
    "#  - without parameters: sends a message to the chat\n",
    "#  - with parameters: sends a message with the provided parameters\n",
    "import functools\n",
    "# from telegram_api import send\n",
    "\n",
    "\n",
    "def notify(*dec_args):\n",
    "    if len(dec_args) == 1 and callable(dec_args[0]):\n",
    "        func = dec_args[0]\n",
    "        message = \"defalut message\"\n",
    "    else:\n",
    "        func = None\n",
    "        message = dec_args[0]\n",
    "    \n",
    "    def wrapper(func):\n",
    "        @functools.wraps(func)\n",
    "        def wraps(*args, **kwargs):\n",
    "            r = func(*args, **kwargs)\n",
    "            print(message, file=sys.stderr)\n",
    "            # your code goes here\n",
    "            return r\n",
    "        return wraps\n",
    "    \n",
    "    if func is not None:\n",
    "        return wrapper(func)\n",
    "    else:\n",
    "        return wrapper\n",
    "\n",
    "\n",
    "@notify\n",
    "def foo():\n",
    "    '''Docstring'''\n",
    "    print('foo is done')\n",
    "\n",
    "\n",
    "@notify('hello chat')\n",
    "def bar():\n",
    "    print('bar is done')\n",
    "\n",
    "\n",
    "foo()\n",
    "foo()\n",
    "bar()"
   ]
  },
  {
   "cell_type": "markdown",
   "id": "37c07044",
   "metadata": {},
   "source": [
    "### Type hints\n",
    "\n",
    "[Pep 612](https://peps.python.org/pep-0612/): `ParamSpec`, `Concatenate`, `ReturnType`"
   ]
  },
  {
   "cell_type": "code",
   "execution_count": null,
   "id": "5a928b4b",
   "metadata": {},
   "outputs": [],
   "source": [
    "from typing import Callable, TypeVar, TextIO, ParamSpec\n",
    "import sys\n",
    "\n",
    "R = TypeVar(\"R\")\n",
    "P = ParamSpec(\"P\")\n",
    "\n",
    "def trace(dest: TextIO = sys.stderr):\n",
    "    def wraps(func: Callable[P, R]) -> Callable[P, R]:\n",
    "        @functools.wraps(func)\n",
    "        def wrapper(*args: P.args, **kwargs: P.kwargs):\n",
    "            print(\n",
    "                f'{func.__name__} called with args {args}, {kwargs}!',\n",
    "                file=dest\n",
    "            )\n",
    "            return func(*args, **kwargs)\n",
    "        return wrapper\n",
    "    return wraps\n"
   ]
  },
  {
   "cell_type": "markdown",
   "id": "e723bb1f",
   "metadata": {},
   "source": [
    "# Context managers"
   ]
  },
  {
   "cell_type": "markdown",
   "id": "ce60e220",
   "metadata": {},
   "source": [
    "Examples of context managers: `warnings`"
   ]
  },
  {
   "cell_type": "code",
   "execution_count": null,
   "id": "1e942495",
   "metadata": {},
   "outputs": [],
   "source": [
    "import numpy as np\n",
    "import warnings\n",
    "\n",
    "with warnings.catch_warnings(record=True) as w:\n",
    "    # Cause all warnings to always be triggered.\n",
    "    warnings.simplefilter(\"always\")\n",
    "    np.int32(1) / np.int32(0)\n",
    "    np.log(0)\n",
    "    \n",
    "    for warn in w:\n",
    "        print(warn)"
   ]
  },
  {
   "cell_type": "markdown",
   "id": "79a300d1",
   "metadata": {},
   "source": [
    "Syntax of the `with` statement"
   ]
  },
  {
   "cell_type": "code",
   "execution_count": null,
   "id": "9219a287",
   "metadata": {},
   "outputs": [],
   "source": [
    "# nested contexts\n",
    "with open('file1.txt') as file1, open('file2.txt') as file2:\n",
    "    do_something(f, s)\n",
    "# since python 3.11\n",
    "with (open('file1.txt'), open('file2.txt')) as (file1, file2):\n",
    "    do_something(f, s)"
   ]
  },
  {
   "cell_type": "code",
   "execution_count": null,
   "id": "6c5cca49",
   "metadata": {},
   "outputs": [],
   "source": [
    "# same as above\n",
    "with first() as f:\n",
    "    with second as s():\n",
    "        do_something(f, s)"
   ]
  },
  {
   "cell_type": "code",
   "execution_count": null,
   "id": "96cd4b9b",
   "metadata": {},
   "outputs": [],
   "source": [
    "with third():  # <as NAME> part as optional\n",
    "    do_something()"
   ]
  },
  {
   "cell_type": "markdown",
   "id": "534252c2",
   "metadata": {},
   "source": [
    "`contextlib.contextmanager` — a convenient way to create context managers"
   ]
  },
  {
   "cell_type": "code",
   "execution_count": null,
   "id": "2e5c6bd2",
   "metadata": {},
   "outputs": [],
   "source": [
    "from contextlib import contextmanager\n",
    "\n",
    "@contextmanager\n",
    "def mycm():\n",
    "    print('before')\n",
    "    yield 42  # yep, it is a generator\n",
    "    print('after')\n",
    "    \n",
    "with mycm() as r:\n",
    "    print(f'got {r}')\n",
    "    \n",
    "with mycm() as r:\n",
    "    raise RuntimeError('Oops')\n",
    "# 'after' is not printed!"
   ]
  },
  {
   "cell_type": "markdown",
   "id": "add60fbf",
   "metadata": {},
   "source": [
    "But you have to be careful when working with `contextlib.contextmanager`"
   ]
  },
  {
   "cell_type": "code",
   "execution_count": null,
   "id": "128f8685",
   "metadata": {},
   "outputs": [],
   "source": [
    "from contextlib import contextmanager\n",
    "\n",
    "@contextmanager\n",
    "def mycm():\n",
    "    print('before')\n",
    "    try:\n",
    "        yield ValueError(\"kek\")\n",
    "    finally:\n",
    "        print('after')\n",
    "\n",
    "with mycm() as r:\n",
    "    print(type(r), r)\n",
    "    raise RuntimeError('Oops')"
   ]
  },
  {
   "cell_type": "markdown",
   "id": "0a3c7fa3",
   "metadata": {},
   "source": [
    "The `contextlib` module has other useful things as well:\\n\n",
    "- `contextlib.ContextDecorator` — a base class for context managers; they can then be used as decorators for functions\\n\n",
    "- `contextlib.ExitStack` — allows you to work with an unknown-in-advance number of “resources” and manage context managers dynamically\\n\n",
    "- See the documentation"
   ]
  },
  {
   "cell_type": "markdown",
   "id": "848b8236",
   "metadata": {},
   "source": [
    "# Iterators"
   ]
  },
  {
   "cell_type": "markdown",
   "id": "b5382a5f",
   "metadata": {},
   "source": [
    "### The second form of the `iter` function"
   ]
  },
  {
   "cell_type": "code",
   "execution_count": null,
   "id": "9ab077d5",
   "metadata": {},
   "outputs": [],
   "source": [
    "import io\n",
    "\n",
    "stream = io.StringIO('abcdefghi')\n",
    "\n",
    "def read3() -> str:\n",
    "    return stream.read(3)"
   ]
  },
  {
   "cell_type": "code",
   "execution_count": null,
   "id": "5ca459ba",
   "metadata": {},
   "outputs": [],
   "source": [
    "iter(read3, '')  # every __next__ translates to __call__"
   ]
  },
  {
   "cell_type": "code",
   "execution_count": null,
   "id": "636b8f19",
   "metadata": {},
   "outputs": [],
   "source": [
    "for chunk in iter(read3, ''):  # iter(callable, sentinel)\n",
    "    print(chunk, end=' ')"
   ]
  },
  {
   "cell_type": "code",
   "execution_count": null,
   "id": "abbfe1b9",
   "metadata": {},
   "outputs": [],
   "source": [
    "from collections.abc import Callable\n",
    "\n",
    "def make_timer(ticks: int) -> Callable[[], int]:\n",
    "    \n",
    "    def timer() -> int:\n",
    "        nonlocal ticks\n",
    "        ticks -= 1\n",
    "        return ticks\n",
    "\n",
    "    return timer"
   ]
  },
  {
   "cell_type": "code",
   "execution_count": null,
   "id": "eeeead9d",
   "metadata": {},
   "outputs": [],
   "source": [
    "timer = make_timer(2)"
   ]
  },
  {
   "cell_type": "code",
   "execution_count": null,
   "id": "fd488703",
   "metadata": {},
   "outputs": [],
   "source": [
    "timer()"
   ]
  },
  {
   "cell_type": "code",
   "execution_count": null,
   "id": "771fa1e8",
   "metadata": {},
   "outputs": [],
   "source": [
    "timer()"
   ]
  },
  {
   "cell_type": "code",
   "execution_count": null,
   "id": "4ea88bdd",
   "metadata": {},
   "outputs": [],
   "source": [
    "for i in iter(make_timer(10), -1):\n",
    "    print(i, end=' ')"
   ]
  },
  {
   "cell_type": "markdown",
   "id": "998ee0db",
   "metadata": {},
   "source": [
    "### The only reliable way to check if an object is iterable"
   ]
  },
  {
   "cell_type": "code",
   "execution_count": null,
   "id": "238c27a6",
   "metadata": {},
   "outputs": [],
   "source": [
    "try:\n",
    "    iter(object_to_test)\n",
    "except TypeError:\n",
    "    # not an iterable\n",
    "    ...\n",
    "else:\n",
    "    # iterable\n",
    "    ..."
   ]
  },
  {
   "cell_type": "markdown",
   "id": "dd7d2fde",
   "metadata": {},
   "source": [
    "# Generators"
   ]
  },
  {
   "cell_type": "markdown",
   "id": "050ce869",
   "metadata": {},
   "source": [
    "### Generator chaining"
   ]
  },
  {
   "cell_type": "code",
   "execution_count": null,
   "id": "c6150932",
   "metadata": {},
   "outputs": [],
   "source": [
    "def sum_of_squares_of_even(iterable: Iterable[int]) -> int:\n",
    "    sum_ = 0\n",
    "    for i in iterable:\n",
    "        if i % 2 != 0:\n",
    "            continue\n",
    "        sum_ += i ** 2\n",
    "    return sum_"
   ]
  },
  {
   "cell_type": "code",
   "execution_count": null,
   "id": "7054afa8",
   "metadata": {},
   "outputs": [],
   "source": [
    "sum_of_squares_of_even(range(10))"
   ]
  },
  {
   "cell_type": "code",
   "execution_count": null,
   "id": "fa16e81b",
   "metadata": {},
   "outputs": [],
   "source": [
    "def even(iterable: Iterable[int]) -> list[int]:\n",
    "    result = []\n",
    "    for i in iterable:\n",
    "        if i % 2 != 0:\n",
    "            continue\n",
    "        result.append(i)\n",
    "    return result"
   ]
  },
  {
   "cell_type": "code",
   "execution_count": null,
   "id": "932cc60e",
   "metadata": {},
   "outputs": [],
   "source": [
    "def squares(iterable: Iterable[int]) -> list[int]:\n",
    "    result = []\n",
    "    for i in iterable:\n",
    "        result.append(i ** 2)\n",
    "    return result"
   ]
  },
  {
   "cell_type": "code",
   "execution_count": null,
   "id": "e848b47e",
   "metadata": {},
   "outputs": [],
   "source": [
    "sum(squares(even(range(10))))"
   ]
  },
  {
   "cell_type": "code",
   "execution_count": null,
   "id": "652da1fe",
   "metadata": {},
   "outputs": [],
   "source": [
    "def even(iterable: Iterable[int]) -> Iterator[int]:\n",
    "    for elem in iterable:\n",
    "        if elem % 2 == 0:\n",
    "            yield elem"
   ]
  },
  {
   "cell_type": "code",
   "execution_count": null,
   "id": "862c0ca6",
   "metadata": {},
   "outputs": [],
   "source": [
    "def squares(iterable: Iterable[int]) -> Iterator[int]:\n",
    "    for elem in iterable:\n",
    "        yield elem ** 2"
   ]
  },
  {
   "cell_type": "code",
   "execution_count": null,
   "id": "2f741e2c",
   "metadata": {},
   "outputs": [],
   "source": [
    "sum(squares(even(range(10))))"
   ]
  },
  {
   "cell_type": "markdown",
   "id": "5e4ffd25",
   "metadata": {},
   "source": [
    "A chain of generators lets you decompose an algorithm easily without significant memory overhead."
   ]
  },
  {
   "cell_type": "markdown",
   "id": "c1b49698",
   "metadata": {},
   "source": [
    "## Generators: advanced usage\n",
    "\n",
    "#### Inspired by: http://dabeaz.com/finalgenerator/"
   ]
  },
  {
   "cell_type": "code",
   "execution_count": null,
   "id": "27ea4f79",
   "metadata": {},
   "outputs": [],
   "source": [
    "from collections.abc import Iterator, Generator"
   ]
  },
  {
   "cell_type": "code",
   "execution_count": null,
   "id": "943f71f7",
   "metadata": {},
   "outputs": [],
   "source": [
    "def create_generator() -> Iterator[int]:\n",
    "    yield 5"
   ]
  },
  {
   "cell_type": "code",
   "execution_count": null,
   "id": "44e876af",
   "metadata": {},
   "outputs": [],
   "source": [
    "def create_generator() -> Generator[int, None, None]:\n",
    "    yield 5"
   ]
  },
  {
   "cell_type": "code",
   "execution_count": null,
   "id": "9d32dc94",
   "metadata": {},
   "outputs": [],
   "source": [
    "def create_duplicator() -> Generator[int, int, None]:\n",
    "    print('Give me a value, please')\n",
    "    value = yield\n",
    "    print(f'Got value: {value}')\n",
    "    yield value * 2\n",
    "    print('Finished')"
   ]
  },
  {
   "cell_type": "code",
   "execution_count": null,
   "id": "64fed490",
   "metadata": {},
   "outputs": [],
   "source": [
    "dublicator = create_duplicator()\n",
    "next(dublicator)"
   ]
  },
  {
   "cell_type": "code",
   "execution_count": null,
   "id": "9c0f6b0a",
   "metadata": {},
   "outputs": [],
   "source": [
    "dublicator.send(21)"
   ]
  },
  {
   "cell_type": "code",
   "execution_count": null,
   "id": "b460e68e",
   "metadata": {},
   "outputs": [],
   "source": [
    "dublicator.send(100500)"
   ]
  },
  {
   "cell_type": "markdown",
   "id": "636bb917",
   "metadata": {},
   "source": [
    "### [yield as an expression](https://docs.python.org/3/reference/simple_stmts.html#yield)"
   ]
  },
  {
   "cell_type": "markdown",
   "id": "7a20d765",
   "metadata": {},
   "source": [
    "![yield-expr](https://i0.wp.com/storage.googleapis.com/ssivart/super9-blog/priming-generator.png?w=1200&ssl=1)"
   ]
  },
  {
   "cell_type": "code",
   "execution_count": null,
   "id": "94d55eb1",
   "metadata": {},
   "outputs": [],
   "source": [
    "def jumping_counter(upto: int) -> Generator[int, int, None]:\n",
    "    count = 1\n",
    "    while count <= upto:\n",
    "        jump = yield count\n",
    "        count += jump or 1"
   ]
  },
  {
   "cell_type": "code",
   "execution_count": null,
   "id": "7f0088d2",
   "metadata": {},
   "outputs": [],
   "source": [
    "generator = jumping_counter(3)"
   ]
  },
  {
   "cell_type": "code",
   "execution_count": null,
   "id": "7c0646c1",
   "metadata": {},
   "outputs": [],
   "source": [
    "next(generator)  # equals to .send(None)"
   ]
  },
  {
   "cell_type": "code",
   "execution_count": null,
   "id": "a5a0189e",
   "metadata": {},
   "outputs": [],
   "source": [
    "generator.send(2)"
   ]
  },
  {
   "cell_type": "code",
   "execution_count": null,
   "id": "c96c02ae",
   "metadata": {},
   "outputs": [],
   "source": [
    "next(generator)"
   ]
  },
  {
   "cell_type": "markdown",
   "id": "b41f020c",
   "metadata": {},
   "source": [
    "### [throw](https://docs.python.org/3/reference/expressions.html#generator.throw)"
   ]
  },
  {
   "cell_type": "code",
   "execution_count": null,
   "id": "c9915d97",
   "metadata": {},
   "outputs": [],
   "source": [
    "generator = jumping_counter(5)"
   ]
  },
  {
   "cell_type": "code",
   "execution_count": null,
   "id": "a579c084",
   "metadata": {},
   "outputs": [],
   "source": [
    "next(generator)"
   ]
  },
  {
   "cell_type": "code",
   "execution_count": null,
   "id": "9329905f",
   "metadata": {},
   "outputs": [],
   "source": [
    "generator.throw(Exception('Good luck!'))"
   ]
  },
  {
   "cell_type": "markdown",
   "id": "330885ea",
   "metadata": {},
   "source": [
    "### [close](https://docs.python.org/3/reference/expressions.html#generator.close)"
   ]
  },
  {
   "cell_type": "code",
   "execution_count": null,
   "id": "4b37c5f9",
   "metadata": {},
   "outputs": [],
   "source": [
    "generator = jumping_counter(5)"
   ]
  },
  {
   "cell_type": "code",
   "execution_count": null,
   "id": "f012b76d",
   "metadata": {},
   "outputs": [],
   "source": [
    "next(generator)"
   ]
  },
  {
   "cell_type": "code",
   "execution_count": null,
   "id": "7a563d79",
   "metadata": {},
   "outputs": [],
   "source": [
    "generator.close()"
   ]
  },
  {
   "cell_type": "code",
   "execution_count": null,
   "id": "2de28ece",
   "metadata": {},
   "outputs": [],
   "source": [
    "next(generator)"
   ]
  },
  {
   "cell_type": "markdown",
   "id": "b9f15dd0",
   "metadata": {},
   "source": [
    "### Handling `close`"
   ]
  },
  {
   "cell_type": "code",
   "execution_count": null,
   "id": "4a42f9db",
   "metadata": {},
   "outputs": [],
   "source": [
    "def create_generator() -> Iterator[int]:\n",
    "    while True:\n",
    "        try:\n",
    "            yield 42\n",
    "        except GeneratorExit:  # can't be ignored\n",
    "            print('Exiting...')\n",
    "            return"
   ]
  },
  {
   "cell_type": "code",
   "execution_count": null,
   "id": "640223af",
   "metadata": {},
   "outputs": [],
   "source": [
    "generator = create_generator()"
   ]
  },
  {
   "cell_type": "code",
   "execution_count": null,
   "id": "cc27f21d",
   "metadata": {},
   "outputs": [],
   "source": [
    "next(generator)"
   ]
  },
  {
   "cell_type": "code",
   "execution_count": null,
   "id": "20eefe86",
   "metadata": {},
   "outputs": [],
   "source": [
    "generator.close()"
   ]
  },
  {
   "cell_type": "markdown",
   "id": "098bbd02",
   "metadata": {},
   "source": [
    "### [@contextmanager](https://docs.python.org/3/library/contextlib.html#contextlib.contextmanager)"
   ]
  },
  {
   "cell_type": "code",
   "execution_count": null,
   "id": "c89d9c20",
   "metadata": {},
   "outputs": [],
   "source": [
    "from contextlib import contextmanager\n",
    "import tempfile\n",
    "import shutil"
   ]
  },
  {
   "cell_type": "code",
   "execution_count": null,
   "id": "44a4144f",
   "metadata": {},
   "outputs": [],
   "source": [
    "@contextmanager\n",
    "def tempdir():\n",
    "    dirname = tempfile.mkdtemp()\n",
    "    try:\n",
    "        yield dirname\n",
    "    finally:\n",
    "        shutil.rmtree(dirname)"
   ]
  },
  {
   "cell_type": "code",
   "execution_count": null,
   "id": "ec5ac200",
   "metadata": {},
   "outputs": [],
   "source": [
    "with tempdir() as path:\n",
    "    print(path)"
   ]
  },
  {
   "cell_type": "code",
   "execution_count": null,
   "id": "ccf2a922",
   "metadata": {},
   "outputs": [],
   "source": [
    "# More precise implementation:\n",
    "# https://github.com/python/cpython/blob/b3f0ceae919c1627094ff628c87184684a5cedd6/Lib/contextlib.py#L142\n",
    "\n",
    "class _GeneratorContextManager:\n",
    "    def __init__(self, func, args, kwargs):\n",
    "        self.gen = func(*args, **kwargs)\n",
    "    \n",
    "    def __enter__(self):\n",
    "        return next(self.gen)\n",
    "\n",
    "    def __exit__(self, exc_type, exc_value, exc_traceback):\n",
    "        if exc_type is None:\n",
    "            try:\n",
    "                next(self.gen)\n",
    "            except StopIteration:\n",
    "                return False\n",
    "            raise RuntimeError(\"generator didn't stop\")\n",
    "        else:\n",
    "            try:\n",
    "                self.gen.throw(exc_type, exc_value, exc_traceback)\n",
    "            except BaseException:\n",
    "                return False\n",
    "            raise RuntimeError(\"generator didn't stop after throw()\")\n",
    "\n",
    "def contextmanager(func):\n",
    "    def helper(*args, **kwargs):\n",
    "        return _GeneratorContextManager(func, args, kwargs)\n",
    "    return helper"
   ]
  },
  {
   "cell_type": "markdown",
   "id": "7fa883f1",
   "metadata": {},
   "source": [
    "### [yield from](https://peps.python.org/pep-0380/)"
   ]
  },
  {
   "cell_type": "code",
   "execution_count": null,
   "id": "a0437779",
   "metadata": {},
   "outputs": [],
   "source": [
    "from collections.abc import Iterable\n",
    "from typing import TypeVar\n",
    "\n",
    "T = TypeVar('T')\n",
    "\n",
    "def repeat(times: int, iterable: Iterable[T]) -> T:\n",
    "    for _ in range(times):\n",
    "        yield from iterable  # https://www.python.org/dev/peps/pep-0380/"
   ]
  },
  {
   "cell_type": "code",
   "execution_count": null,
   "id": "49f0d421",
   "metadata": {},
   "outputs": [],
   "source": [
    "for elem in repeat(5, [1, 2, 3]):\n",
    "    print(elem, end=' ')"
   ]
  },
  {
   "cell_type": "code",
   "execution_count": null,
   "id": "5a50eb7b",
   "metadata": {},
   "outputs": [],
   "source": [
    "def repeat(times: int, iterable: T) -> T:\n",
    "    for _ in range(times):\n",
    "        yield iterable"
   ]
  },
  {
   "cell_type": "code",
   "execution_count": null,
   "id": "9fa2730a",
   "metadata": {},
   "outputs": [],
   "source": [
    "for elem in repeat(5, [1, 2, 3]):\n",
    "    print(elem, end=' ')"
   ]
  },
  {
   "cell_type": "code",
   "execution_count": null,
   "id": "b9367659",
   "metadata": {},
   "outputs": [],
   "source": [
    "from collections.abc import Iterator\n",
    "from dataclasses import dataclass\n",
    "\n",
    "@dataclass\n",
    "class BinaryTreeNode:\n",
    "    value: int\n",
    "    left: 'BinaryTreeNode | None' = None\n",
    "    right: 'BinaryTreeNode | None' = None\n",
    "\n",
    "    def __iter__(self) -> Iterator[int]:\n",
    "        yield from self.left or ()\n",
    "        yield self.value\n",
    "        yield from self.right or ()"
   ]
  },
  {
   "cell_type": "code",
   "execution_count": null,
   "id": "4553fd14",
   "metadata": {},
   "outputs": [],
   "source": [
    "tree = BinaryTreeNode(\n",
    "    left=BinaryTreeNode(\n",
    "        left=BinaryTreeNode(value=1),\n",
    "        value=2,\n",
    "    ),\n",
    "    value=3,\n",
    "    right=BinaryTreeNode(\n",
    "        value=4,\n",
    "        right=BinaryTreeNode(value=5),\n",
    "    ),\n",
    ")"
   ]
  },
  {
   "cell_type": "code",
   "execution_count": null,
   "id": "3732ad37",
   "metadata": {},
   "outputs": [],
   "source": [
    "for value in tree:\n",
    "    print(value, end=' ')"
   ]
  },
  {
   "cell_type": "markdown",
   "id": "64c45878",
   "metadata": {},
   "source": [
    "### [return in generators](https://peps.python.org/pep-0255/#specification-return)"
   ]
  },
  {
   "cell_type": "code",
   "execution_count": null,
   "id": "e6578c37",
   "metadata": {},
   "outputs": [],
   "source": [
    "def create_generator() -> Generator[int, None, int]:\n",
    "    yield 42\n",
    "    return 21"
   ]
  },
  {
   "cell_type": "code",
   "execution_count": null,
   "id": "1c48654a",
   "metadata": {},
   "outputs": [],
   "source": [
    "generator = create_generator()\n",
    "next(generator)\n",
    "next(generator)"
   ]
  },
  {
   "cell_type": "code",
   "execution_count": null,
   "id": "d5a7cf23",
   "metadata": {},
   "outputs": [],
   "source": [
    "def generator_wrapper():\n",
    "    result = yield from create_generator()\n",
    "    print(result)"
   ]
  },
  {
   "cell_type": "code",
   "execution_count": null,
   "id": "fe5ac9ae",
   "metadata": {},
   "outputs": [],
   "source": [
    "list(generator_wrapper())"
   ]
  }
 ],
 "metadata": {
  "kernelspec": {
   "display_name": ".venv",
   "language": "python",
   "name": "python3"
  },
  "language_info": {
   "codemirror_mode": {
    "name": "ipython",
    "version": 3
   },
   "file_extension": ".py",
   "mimetype": "text/x-python",
   "name": "python",
   "nbconvert_exporter": "python",
   "pygments_lexer": "ipython3",
   "version": "3.11.12"
  }
 },
 "nbformat": 4,
 "nbformat_minor": 5
}
